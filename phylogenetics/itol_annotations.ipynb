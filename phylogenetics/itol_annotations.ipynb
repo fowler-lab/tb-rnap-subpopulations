{
 "cells": [
  {
   "cell_type": "code",
   "execution_count": 1,
   "metadata": {},
   "outputs": [],
   "source": [
    "import tskit\n",
    "import pandas\n",
    "import numpy\n",
    "\n",
    "from tqdm import tqdm\n",
    "pandas.options.display.max_columns=999\n",
    "import tsconvert\n",
    "\n",
    "import warnings\n",
    "warnings.filterwarnings('ignore')"
   ]
  },
  {
   "cell_type": "markdown",
   "metadata": {},
   "source": [
    "Read in the Newick file downloaded from ITOL. To get this I uploaded the Newick file in the `Brankin_Malone` repo and then exported it again as a Newick. Don't know why but trying to use the original Newick leads to errors in `tsconvert` lower down"
   ]
  },
  {
   "cell_type": "code",
   "execution_count": 2,
   "metadata": {},
   "outputs": [
    {
     "name": "stdout",
     "output_type": "stream",
     "text": [
      "(site.04.iso.1.subject.03818.lab_id.830476.seq_reps.1:6.90800,site.04.iso.1.subject.00310.lab_id.701951.seq_reps.1:3.09200,(site.04.iso.1.subject.01627.lab_id.27972.seq_reps.1:0.46454,(site.04.iso.1.subject.01042.lab_id.717652.seq_reps.1:8.18534,(((site.04.iso.1.subject.02112.lab_id.803805.seq_reps.1:9.91015,site.04.iso.1.subject.04137.lab_id.832790.seq_reps.1:8.08985):0.17857,((((site.04.iso.1.subject.01432.lab_id.724551.seq_reps.1:1.73206,site.04.iso.1.subject.02235.lab_id.805177.seq_reps.1:4.26794):0.87800,(site.04.iso.1.subject.00300.lab_id.702487.seq_reps.1:0.00000,site.04.iso.1.subject.03648.lab_id.JJH9682.seq_reps.1:2.00000):3.62200):8.94817,(site.04.iso.1.subject.00564.lab_id.709046.seq_reps.1:7.96229,(site.04.iso.1.subject.04356.lab_id.903933.seq_reps.1:5.42753,(site.04.iso.1.subject.01175.lab_id.721997.seq_reps.1:1.00000,site.04.iso.1.subject.01288.lab_id.801278.seq_reps.1:0.00000):3.07247):2.53771):1.48933):0.11168,(((site.04.iso.1.subject.02152.lab_id.803055.seq_reps.1:0.89\n"
     ]
    }
   ],
   "source": [
    "with open('cryptic_tree.itol.newick', 'r') as f:\n",
    "    cryptic_newick = f.read()\n",
    "\n",
    "print(cryptic_newick[:1000])"
   ]
  },
  {
   "cell_type": "markdown",
   "metadata": {},
   "source": [
    "Use `tsconvert` to convert to a succint tree sequence"
   ]
  },
  {
   "cell_type": "code",
   "execution_count": 3,
   "metadata": {},
   "outputs": [
    {
     "name": "stdout",
     "output_type": "stream",
     "text": [
      "done\n"
     ]
    }
   ],
   "source": [
    "ts = tsconvert.from_newick(cryptic_newick, min_edge_length=0.001)\n",
    "print('done')"
   ]
  },
  {
   "cell_type": "markdown",
   "metadata": {},
   "source": [
    "Get a copy of the underlying tables that describe the tree so we can relate the `node id` to the `UNIQUEID`"
   ]
  },
  {
   "cell_type": "code",
   "execution_count": 4,
   "metadata": {},
   "outputs": [
    {
     "data": {
      "text/html": [
       "\n",
       "        <div>\n",
       "            <style scoped=\"\">\n",
       "                .tskit-table tbody tr th:only-of-type {vertical-align: middle;}\n",
       "                .tskit-table tbody tr th {vertical-align: top;}\n",
       "                .tskit-table tbody td {text-align: right;padding: 0.5em 0.5em;}\n",
       "                .tskit-table tbody th {padding: 0.5em 0.5em;}\n",
       "            </style>\n",
       "            <table border=\"1\" class=\"tskit-table\">\n",
       "                <thead>\n",
       "                    <tr>\n",
       "                        <th>id</th><th>flags</th><th>population</th><th>individual</th><th>time</th><th>metadata</th>\n",
       "                    </tr>\n",
       "                </thead>\n",
       "                <tbody>\n",
       "                    <tr><td>0</td><td>0</td><td>-1</td><td>-1</td><td>2060.10904000</td><td>{}</td></tr>\n",
       "<tr><td>1</td><td>1</td><td>-1</td><td>-1</td><td>2053.20104000</td><td>{'name': 'site.04.iso.1.subject.03818...</td></tr>\n",
       "<tr><td>2</td><td>1</td><td>-1</td><td>-1</td><td>2057.01704000</td><td>{'name': 'site.04.iso.1.subject.00310...</td></tr>\n",
       "\n",
       "                </tbody>\n",
       "            </table>\n",
       "        </div>\n",
       "    "
      ],
      "text/plain": [
       "<tskit.tables.NodeTable at 0x10312fed0>"
      ]
     },
     "execution_count": 4,
     "metadata": {},
     "output_type": "execute_result"
    }
   ],
   "source": [
    "new_tables = ts.dump_tables()  # make a copy of the tree sequence tables, for parsing\n",
    "new_tables.nodes[:3]"
   ]
  },
  {
   "cell_type": "markdown",
   "metadata": {},
   "source": [
    "Read in necessary data"
   ]
  },
  {
   "cell_type": "code",
   "execution_count": 5,
   "metadata": {},
   "outputs": [
    {
     "data": {
      "text/html": [
       "<div>\n",
       "<style scoped>\n",
       "    .dataframe tbody tr th:only-of-type {\n",
       "        vertical-align: middle;\n",
       "    }\n",
       "\n",
       "    .dataframe tbody tr th {\n",
       "        vertical-align: top;\n",
       "    }\n",
       "\n",
       "    .dataframe thead th {\n",
       "        text-align: right;\n",
       "    }\n",
       "</style>\n",
       "<table border=\"1\" class=\"dataframe\">\n",
       "  <thead>\n",
       "    <tr style=\"text-align: right;\">\n",
       "      <th></th>\n",
       "      <th>UNIQUEID</th>\n",
       "      <th>RESISTANT_MUTATION</th>\n",
       "      <th>COMPENSATORY_MUTATION</th>\n",
       "      <th>R_MINOR_ALLELE</th>\n",
       "      <th>R_MAJOR_ALLELE</th>\n",
       "      <th>FRS</th>\n",
       "    </tr>\n",
       "    <tr>\n",
       "      <th>ORIGINAL_UID</th>\n",
       "      <th></th>\n",
       "      <th></th>\n",
       "      <th></th>\n",
       "      <th></th>\n",
       "      <th></th>\n",
       "      <th></th>\n",
       "    </tr>\n",
       "  </thead>\n",
       "  <tbody>\n",
       "    <tr>\n",
       "      <th>None</th>\n",
       "      <td>site.00.subj.1000347.lab.H111540004.iso.1</td>\n",
       "      <td>True</td>\n",
       "      <td>False</td>\n",
       "      <td>False</td>\n",
       "      <td>True</td>\n",
       "      <td>NaN</td>\n",
       "    </tr>\n",
       "    <tr>\n",
       "      <th>None</th>\n",
       "      <td>site.00.subj.1000595.lab.H123460044.iso.1</td>\n",
       "      <td>True</td>\n",
       "      <td>True</td>\n",
       "      <td>False</td>\n",
       "      <td>True</td>\n",
       "      <td>NaN</td>\n",
       "    </tr>\n",
       "    <tr>\n",
       "      <th>None</th>\n",
       "      <td>site.00.subj.1004213.lab.H111060034.iso.1</td>\n",
       "      <td>True</td>\n",
       "      <td>True</td>\n",
       "      <td>False</td>\n",
       "      <td>True</td>\n",
       "      <td>NaN</td>\n",
       "    </tr>\n",
       "    <tr>\n",
       "      <th>None</th>\n",
       "      <td>site.00.subj.1004213.lab.H112000008.iso.1</td>\n",
       "      <td>True</td>\n",
       "      <td>True</td>\n",
       "      <td>False</td>\n",
       "      <td>True</td>\n",
       "      <td>NaN</td>\n",
       "    </tr>\n",
       "    <tr>\n",
       "      <th>None</th>\n",
       "      <td>site.00.subj.1004213.lab.H113100007.iso.1</td>\n",
       "      <td>True</td>\n",
       "      <td>True</td>\n",
       "      <td>False</td>\n",
       "      <td>True</td>\n",
       "      <td>NaN</td>\n",
       "    </tr>\n",
       "    <tr>\n",
       "      <th>...</th>\n",
       "      <td>...</td>\n",
       "      <td>...</td>\n",
       "      <td>...</td>\n",
       "      <td>...</td>\n",
       "      <td>...</td>\n",
       "      <td>...</td>\n",
       "    </tr>\n",
       "    <tr>\n",
       "      <th>None</th>\n",
       "      <td>site.35.subj.95.lab.IE19.iso.1</td>\n",
       "      <td>True</td>\n",
       "      <td>True</td>\n",
       "      <td>False</td>\n",
       "      <td>True</td>\n",
       "      <td>NaN</td>\n",
       "    </tr>\n",
       "    <tr>\n",
       "      <th>None</th>\n",
       "      <td>site.35.subj.96.lab.IE20.iso.1</td>\n",
       "      <td>True</td>\n",
       "      <td>False</td>\n",
       "      <td>False</td>\n",
       "      <td>True</td>\n",
       "      <td>NaN</td>\n",
       "    </tr>\n",
       "    <tr>\n",
       "      <th>None</th>\n",
       "      <td>site.35.subj.97.lab.IE21.iso.1</td>\n",
       "      <td>True</td>\n",
       "      <td>False</td>\n",
       "      <td>False</td>\n",
       "      <td>True</td>\n",
       "      <td>NaN</td>\n",
       "    </tr>\n",
       "    <tr>\n",
       "      <th>None</th>\n",
       "      <td>site.35.subj.98.lab.IE22.iso.1</td>\n",
       "      <td>True</td>\n",
       "      <td>False</td>\n",
       "      <td>False</td>\n",
       "      <td>True</td>\n",
       "      <td>NaN</td>\n",
       "    </tr>\n",
       "    <tr>\n",
       "      <th>None</th>\n",
       "      <td>site.35.subj.99.lab.IE23.iso.1</td>\n",
       "      <td>True</td>\n",
       "      <td>False</td>\n",
       "      <td>False</td>\n",
       "      <td>True</td>\n",
       "      <td>NaN</td>\n",
       "    </tr>\n",
       "  </tbody>\n",
       "</table>\n",
       "<p>38787 rows × 6 columns</p>\n",
       "</div>"
      ],
      "text/plain": [
       "                                               UNIQUEID  RESISTANT_MUTATION  \\\n",
       "ORIGINAL_UID                                                                  \n",
       "None          site.00.subj.1000347.lab.H111540004.iso.1                True   \n",
       "None          site.00.subj.1000595.lab.H123460044.iso.1                True   \n",
       "None          site.00.subj.1004213.lab.H111060034.iso.1                True   \n",
       "None          site.00.subj.1004213.lab.H112000008.iso.1                True   \n",
       "None          site.00.subj.1004213.lab.H113100007.iso.1                True   \n",
       "...                                                 ...                 ...   \n",
       "None                     site.35.subj.95.lab.IE19.iso.1                True   \n",
       "None                     site.35.subj.96.lab.IE20.iso.1                True   \n",
       "None                     site.35.subj.97.lab.IE21.iso.1                True   \n",
       "None                     site.35.subj.98.lab.IE22.iso.1                True   \n",
       "None                     site.35.subj.99.lab.IE23.iso.1                True   \n",
       "\n",
       "              COMPENSATORY_MUTATION  R_MINOR_ALLELE  R_MAJOR_ALLELE  FRS  \n",
       "ORIGINAL_UID                                                              \n",
       "None                          False           False            True  NaN  \n",
       "None                           True           False            True  NaN  \n",
       "None                           True           False            True  NaN  \n",
       "None                           True           False            True  NaN  \n",
       "None                           True           False            True  NaN  \n",
       "...                             ...             ...             ...  ...  \n",
       "None                           True           False            True  NaN  \n",
       "None                          False           False            True  NaN  \n",
       "None                          False           False            True  NaN  \n",
       "None                          False           False            True  NaN  \n",
       "None                          False           False            True  NaN  \n",
       "\n",
       "[38787 rows x 6 columns]"
      ]
     },
     "execution_count": 5,
     "metadata": {},
     "output_type": "execute_result"
    }
   ],
   "source": [
    "#load mutations table for RNAP\n",
    "mutations_agg = pandas.read_csv('/Users/viktoriabrunner/Documents/Studium/PhD/DPhil/rnap_minors/tb-rnap-subpopulations/data/mutations_agg-UNIQUEID.csv')\n",
    "\n",
    "GENOMES = pandas.read_pickle('/Users/viktoriabrunner/Documents/Studium/PhD/DPhil/paper/tb-rnap-compensation/tb_rnap_compensation/tables/GENOMES.pkl.gz')\n",
    "GENOMES.reset_index(inplace=True)\n",
    "\n",
    "#add FTP_FILENAME_VCF from GENOMES table to mutations_agg table based on UNIQUEID\n",
    "mutations_agg['FTP_FILENAME_VCF'] = mutations_agg['UNIQUEID'].map(GENOMES.set_index('UNIQUEID')['FTP_FILENAME_VCF'])\n",
    "# mutations_agg.reset_index(inplace=True)\n",
    "mutations_agg\n",
    "\n",
    "def create_original_uid(row):\n",
    "\n",
    "    filename = row.FTP_FILENAME_VCF\n",
    "\n",
    "    if pandas.isna(filename):\n",
    "        return None\n",
    "\n",
    "    if '.regeno' in filename:\n",
    "        if filename[:5] != 'comas':\n",
    "            return('site'+filename.split('/site')[1].split('.regeno')[0])\n",
    "        else:\n",
    "            return(filename.split('comas_regeno/')[1].split('.regeno')[0])\n",
    "    else:\n",
    "        return None\n",
    "\n",
    "mutations_agg['ORIGINAL_UID'] = mutations_agg.apply(create_original_uid, axis=1)\n",
    "\n",
    "mutations_agg.set_index('ORIGINAL_UID', inplace=True)\n",
    "mutations_agg.drop('FTP_FILENAME_VCF', axis=1, inplace=True)\n",
    "mutations_agg"
   ]
  },
  {
   "cell_type": "code",
   "execution_count": 6,
   "metadata": {},
   "outputs": [
    {
     "name": "stderr",
     "output_type": "stream",
     "text": [
      "100%|██████████| 30454/30454 [00:08<00:00, 3491.22it/s]"
     ]
    },
    {
     "name": "stdout",
     "output_type": "stream",
     "text": [
      "minor_res-annotations_circle.txt\n"
     ]
    },
    {
     "name": "stderr",
     "output_type": "stream",
     "text": [
      "\n"
     ]
    }
   ],
   "source": [
    "#create script to mark major and minor RIF resistant samples in tree\n",
    "vis = 'binary'\n",
    "\n",
    "binary_header=\"\"\"DATASET_BINARY\n",
    "\n",
    "SEPARATOR COMMA\n",
    "\n",
    "DATASET_LABEL,binary\n",
    "\n",
    "COLOR,#e41a1c\n",
    "\n",
    "FIELD_SHAPES,1\n",
    "\n",
    "FIELD_LABELS,f1\n",
    "\n",
    "DATA\n",
    "\"\"\"\n",
    "\n",
    "binary_annotations = ''\n",
    "\n",
    "for i in tqdm(range(ts.num_nodes)):   \n",
    "\n",
    "        row = new_tables.nodes[i]\n",
    "\n",
    "        if 'name' in row.metadata.keys():\n",
    "\n",
    "            uid = row.metadata['name']\n",
    "\n",
    "            if uid in mutations_agg[mutations_agg['R_MINOR_ALLELE']].index:\n",
    "                line = 'n'+str(i) +',1\\n'\n",
    "                binary_annotations += line \n",
    "\n",
    "binary_annotations = binary_header + binary_annotations\n",
    "    \n",
    "title = 'minor_res-annotations_circle.txt'\n",
    "print(title)\n",
    "\n",
    "with open(title,'w') as f:\n",
    "        f.write(binary_annotations)"
   ]
  },
  {
   "cell_type": "code",
   "execution_count": null,
   "metadata": {},
   "outputs": [],
   "source": []
  }
 ],
 "metadata": {
  "kernelspec": {
   "display_name": ".venv",
   "language": "python",
   "name": "python3"
  },
  "language_info": {
   "codemirror_mode": {
    "name": "ipython",
    "version": 3
   },
   "file_extension": ".py",
   "mimetype": "text/x-python",
   "name": "python",
   "nbconvert_exporter": "python",
   "pygments_lexer": "ipython3",
   "version": "3.11.8"
  }
 },
 "nbformat": 4,
 "nbformat_minor": 2
}
