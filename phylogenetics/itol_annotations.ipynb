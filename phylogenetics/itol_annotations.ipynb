{
 "cells": [
  {
   "cell_type": "code",
   "execution_count": 2,
   "metadata": {},
   "outputs": [],
   "source": [
    "import tskit\n",
    "import pandas\n",
    "import numpy\n",
    "\n",
    "from tqdm import tqdm\n",
    "pandas.options.display.max_columns=999\n",
    "import tsconvert\n",
    "\n",
    "import warnings\n",
    "warnings.filterwarnings('ignore')"
   ]
  },
  {
   "cell_type": "markdown",
   "metadata": {},
   "source": [
    "Read in the Newick file downloaded from ITOL. To get this I uploaded the Newick file in the `Brankin_Malone` repo and then exported it again as a Newick. Don't know why but trying to use the original Newick leads to errors in `tsconvert` lower down"
   ]
  },
  {
   "cell_type": "code",
   "execution_count": 3,
   "metadata": {},
   "outputs": [
    {
     "name": "stdout",
     "output_type": "stream",
     "text": [
      "(site.04.iso.1.subject.03818.lab_id.830476.seq_reps.1:6.90800,site.04.iso.1.subject.00310.lab_id.701951.seq_reps.1:3.09200,(site.04.iso.1.subject.01627.lab_id.27972.seq_reps.1:0.46454,(site.04.iso.1.subject.01042.lab_id.717652.seq_reps.1:8.18534,(((site.04.iso.1.subject.02112.lab_id.803805.seq_reps.1:9.91015,site.04.iso.1.subject.04137.lab_id.832790.seq_reps.1:8.08985):0.17857,((((site.04.iso.1.subject.01432.lab_id.724551.seq_reps.1:1.73206,site.04.iso.1.subject.02235.lab_id.805177.seq_reps.1:4.26794):0.87800,(site.04.iso.1.subject.00300.lab_id.702487.seq_reps.1:0.00000,site.04.iso.1.subject.03648.lab_id.JJH9682.seq_reps.1:2.00000):3.62200):8.94817,(site.04.iso.1.subject.00564.lab_id.709046.seq_reps.1:7.96229,(site.04.iso.1.subject.04356.lab_id.903933.seq_reps.1:5.42753,(site.04.iso.1.subject.01175.lab_id.721997.seq_reps.1:1.00000,site.04.iso.1.subject.01288.lab_id.801278.seq_reps.1:0.00000):3.07247):2.53771):1.48933):0.11168,(((site.04.iso.1.subject.02152.lab_id.803055.seq_reps.1:0.89\n"
     ]
    }
   ],
   "source": [
    "with open('cryptic_tree.itol.newick', 'r') as f:\n",
    "    cryptic_newick = f.read()\n",
    "\n",
    "print(cryptic_newick[:1000])"
   ]
  },
  {
   "cell_type": "markdown",
   "metadata": {},
   "source": [
    "Use `tsconvert` to convert to a succint tree sequence"
   ]
  },
  {
   "cell_type": "code",
   "execution_count": 4,
   "metadata": {},
   "outputs": [
    {
     "name": "stdout",
     "output_type": "stream",
     "text": [
      "done\n"
     ]
    }
   ],
   "source": [
    "ts = tsconvert.from_newick(cryptic_newick, min_edge_length=0.001)\n",
    "print('done')"
   ]
  },
  {
   "cell_type": "markdown",
   "metadata": {},
   "source": [
    "Get a copy of the underlying tables that describe the tree so we can relate the `node id` to the `UNIQUEID`"
   ]
  },
  {
   "cell_type": "code",
   "execution_count": 5,
   "metadata": {},
   "outputs": [
    {
     "data": {
      "text/html": [
       "\n",
       "        <div>\n",
       "            <style scoped=\"\">\n",
       "                .tskit-table tbody tr th:only-of-type {vertical-align: middle;}\n",
       "                .tskit-table tbody tr th {vertical-align: top;}\n",
       "                .tskit-table tbody td {text-align: right;padding: 0.5em 0.5em;}\n",
       "                .tskit-table tbody th {padding: 0.5em 0.5em;}\n",
       "            </style>\n",
       "            <table border=\"1\" class=\"tskit-table\">\n",
       "                <thead>\n",
       "                    <tr>\n",
       "                        <th>id</th><th>flags</th><th>population</th><th>individual</th><th>time</th><th>metadata</th>\n",
       "                    </tr>\n",
       "                </thead>\n",
       "                <tbody>\n",
       "                    <tr><td>0</td><td>0</td><td>-1</td><td>-1</td><td>2060.10904000</td><td>{}</td></tr>\n",
       "<tr><td>1</td><td>1</td><td>-1</td><td>-1</td><td>2053.20104000</td><td>{'name': 'site.04.iso.1.subject.03818...</td></tr>\n",
       "<tr><td>2</td><td>1</td><td>-1</td><td>-1</td><td>2057.01704000</td><td>{'name': 'site.04.iso.1.subject.00310...</td></tr>\n",
       "\n",
       "                </tbody>\n",
       "            </table>\n",
       "        </div>\n",
       "    "
      ],
      "text/plain": [
       "<tskit.tables.NodeTable at 0x11a7bc710>"
      ]
     },
     "execution_count": 5,
     "metadata": {},
     "output_type": "execute_result"
    }
   ],
   "source": [
    "new_tables = ts.dump_tables()  # make a copy of the tree sequence tables, for parsing\n",
    "new_tables.nodes[:3]"
   ]
  },
  {
   "cell_type": "markdown",
   "metadata": {},
   "source": [
    "Read in necessary data"
   ]
  },
  {
   "cell_type": "code",
   "execution_count": 11,
   "metadata": {},
   "outputs": [
    {
     "data": {
      "text/html": [
       "<div>\n",
       "<style scoped>\n",
       "    .dataframe tbody tr th:only-of-type {\n",
       "        vertical-align: middle;\n",
       "    }\n",
       "\n",
       "    .dataframe tbody tr th {\n",
       "        vertical-align: top;\n",
       "    }\n",
       "\n",
       "    .dataframe thead th {\n",
       "        text-align: right;\n",
       "    }\n",
       "</style>\n",
       "<table border=\"1\" class=\"dataframe\">\n",
       "  <thead>\n",
       "    <tr style=\"text-align: right;\">\n",
       "      <th></th>\n",
       "      <th>UNIQUEID</th>\n",
       "      <th>RESISTANT_MUTATION</th>\n",
       "      <th>COMPENSATORY_MUTATION</th>\n",
       "      <th>R_MINOR_ALLELE</th>\n",
       "      <th>R_MAJOR_ALLELE</th>\n",
       "      <th>FRS</th>\n",
       "    </tr>\n",
       "    <tr>\n",
       "      <th>ORIGINAL_UID</th>\n",
       "      <th></th>\n",
       "      <th></th>\n",
       "      <th></th>\n",
       "      <th></th>\n",
       "      <th></th>\n",
       "      <th></th>\n",
       "    </tr>\n",
       "  </thead>\n",
       "  <tbody>\n",
       "    <tr>\n",
       "      <th>None</th>\n",
       "      <td>site.00.subj.1000347.lab.H111540004.iso.1</td>\n",
       "      <td>True</td>\n",
       "      <td>False</td>\n",
       "      <td>False</td>\n",
       "      <td>True</td>\n",
       "      <td>NaN</td>\n",
       "    </tr>\n",
       "    <tr>\n",
       "      <th>None</th>\n",
       "      <td>site.00.subj.1000595.lab.H123460044.iso.1</td>\n",
       "      <td>True</td>\n",
       "      <td>True</td>\n",
       "      <td>False</td>\n",
       "      <td>True</td>\n",
       "      <td>NaN</td>\n",
       "    </tr>\n",
       "    <tr>\n",
       "      <th>None</th>\n",
       "      <td>site.00.subj.1004213.lab.H111060034.iso.1</td>\n",
       "      <td>True</td>\n",
       "      <td>True</td>\n",
       "      <td>False</td>\n",
       "      <td>True</td>\n",
       "      <td>NaN</td>\n",
       "    </tr>\n",
       "    <tr>\n",
       "      <th>None</th>\n",
       "      <td>site.00.subj.1004213.lab.H112000008.iso.1</td>\n",
       "      <td>True</td>\n",
       "      <td>True</td>\n",
       "      <td>False</td>\n",
       "      <td>True</td>\n",
       "      <td>NaN</td>\n",
       "    </tr>\n",
       "    <tr>\n",
       "      <th>None</th>\n",
       "      <td>site.00.subj.1004213.lab.H113100007.iso.1</td>\n",
       "      <td>True</td>\n",
       "      <td>True</td>\n",
       "      <td>False</td>\n",
       "      <td>True</td>\n",
       "      <td>NaN</td>\n",
       "    </tr>\n",
       "    <tr>\n",
       "      <th>...</th>\n",
       "      <td>...</td>\n",
       "      <td>...</td>\n",
       "      <td>...</td>\n",
       "      <td>...</td>\n",
       "      <td>...</td>\n",
       "      <td>...</td>\n",
       "    </tr>\n",
       "    <tr>\n",
       "      <th>None</th>\n",
       "      <td>site.35.subj.95.lab.IE19.iso.1</td>\n",
       "      <td>True</td>\n",
       "      <td>True</td>\n",
       "      <td>False</td>\n",
       "      <td>True</td>\n",
       "      <td>NaN</td>\n",
       "    </tr>\n",
       "    <tr>\n",
       "      <th>None</th>\n",
       "      <td>site.35.subj.96.lab.IE20.iso.1</td>\n",
       "      <td>True</td>\n",
       "      <td>False</td>\n",
       "      <td>False</td>\n",
       "      <td>True</td>\n",
       "      <td>NaN</td>\n",
       "    </tr>\n",
       "    <tr>\n",
       "      <th>None</th>\n",
       "      <td>site.35.subj.97.lab.IE21.iso.1</td>\n",
       "      <td>True</td>\n",
       "      <td>False</td>\n",
       "      <td>False</td>\n",
       "      <td>True</td>\n",
       "      <td>NaN</td>\n",
       "    </tr>\n",
       "    <tr>\n",
       "      <th>None</th>\n",
       "      <td>site.35.subj.98.lab.IE22.iso.1</td>\n",
       "      <td>True</td>\n",
       "      <td>False</td>\n",
       "      <td>False</td>\n",
       "      <td>True</td>\n",
       "      <td>NaN</td>\n",
       "    </tr>\n",
       "    <tr>\n",
       "      <th>None</th>\n",
       "      <td>site.35.subj.99.lab.IE23.iso.1</td>\n",
       "      <td>True</td>\n",
       "      <td>False</td>\n",
       "      <td>False</td>\n",
       "      <td>True</td>\n",
       "      <td>NaN</td>\n",
       "    </tr>\n",
       "  </tbody>\n",
       "</table>\n",
       "<p>38787 rows × 6 columns</p>\n",
       "</div>"
      ],
      "text/plain": [
       "                                               UNIQUEID  RESISTANT_MUTATION  \\\n",
       "ORIGINAL_UID                                                                  \n",
       "None          site.00.subj.1000347.lab.H111540004.iso.1                True   \n",
       "None          site.00.subj.1000595.lab.H123460044.iso.1                True   \n",
       "None          site.00.subj.1004213.lab.H111060034.iso.1                True   \n",
       "None          site.00.subj.1004213.lab.H112000008.iso.1                True   \n",
       "None          site.00.subj.1004213.lab.H113100007.iso.1                True   \n",
       "...                                                 ...                 ...   \n",
       "None                     site.35.subj.95.lab.IE19.iso.1                True   \n",
       "None                     site.35.subj.96.lab.IE20.iso.1                True   \n",
       "None                     site.35.subj.97.lab.IE21.iso.1                True   \n",
       "None                     site.35.subj.98.lab.IE22.iso.1                True   \n",
       "None                     site.35.subj.99.lab.IE23.iso.1                True   \n",
       "\n",
       "              COMPENSATORY_MUTATION  R_MINOR_ALLELE  R_MAJOR_ALLELE  FRS  \n",
       "ORIGINAL_UID                                                              \n",
       "None                          False           False            True  NaN  \n",
       "None                           True           False            True  NaN  \n",
       "None                           True           False            True  NaN  \n",
       "None                           True           False            True  NaN  \n",
       "None                           True           False            True  NaN  \n",
       "...                             ...             ...             ...  ...  \n",
       "None                           True           False            True  NaN  \n",
       "None                          False           False            True  NaN  \n",
       "None                          False           False            True  NaN  \n",
       "None                          False           False            True  NaN  \n",
       "None                          False           False            True  NaN  \n",
       "\n",
       "[38787 rows x 6 columns]"
      ]
     },
     "execution_count": 11,
     "metadata": {},
     "output_type": "execute_result"
    }
   ],
   "source": [
    "#load mutations table for RNAP\n",
    "mutations_agg = pandas.read_csv('/Users/viktoriabrunner/Documents/Studium/PhD/DPhil/rnap_minors/tb-rnap-subpopulations/data/mutations_agg-UNIQUEID.csv')\n",
    "\n",
    "GENOMES = pandas.read_pickle('/Users/viktoriabrunner/Documents/Studium/PhD/DPhil/paper/tb-rnap-compensation/tb_rnap_compensation/tables/GENOMES.pkl.gz')\n",
    "GENOMES.reset_index(inplace=True)\n",
    "\n",
    "#add FTP_FILENAME_VCF from GENOMES table to mutations_agg table based on UNIQUEID\n",
    "mutations_agg['FTP_FILENAME_VCF'] = mutations_agg['UNIQUEID'].map(GENOMES.set_index('UNIQUEID')['FTP_FILENAME_VCF'])\n",
    "# mutations_agg.reset_index(inplace=True)\n",
    "mutations_agg\n",
    "\n",
    "def create_original_uid(row):\n",
    "\n",
    "    filename = row.FTP_FILENAME_VCF\n",
    "\n",
    "    if pandas.isna(filename):\n",
    "        return None\n",
    "\n",
    "    if '.regeno' in filename:\n",
    "        if filename[:5] != 'comas':\n",
    "            return('site'+filename.split('/site')[1].split('.regeno')[0])\n",
    "        else:\n",
    "            return(filename.split('comas_regeno/')[1].split('.regeno')[0])\n",
    "    else:\n",
    "        return None\n",
    "\n",
    "mutations_agg['ORIGINAL_UID'] = mutations_agg.apply(create_original_uid, axis=1)\n",
    "\n",
    "mutations_agg.set_index('ORIGINAL_UID', inplace=True)\n",
    "mutations_agg.drop('FTP_FILENAME_VCF', axis=1, inplace=True)\n",
    "mutations_agg"
   ]
  },
  {
   "cell_type": "code",
   "execution_count": 7,
   "metadata": {},
   "outputs": [
    {
     "name": "stderr",
     "output_type": "stream",
     "text": [
      " 73%|███████▎  | 22264/30454 [00:04<00:01, 4859.03it/s]\n"
     ]
    },
    {
     "ename": "KeyboardInterrupt",
     "evalue": "",
     "output_type": "error",
     "traceback": [
      "\u001b[0;31m---------------------------------------------------------------------------\u001b[0m",
      "\u001b[0;31mKeyboardInterrupt\u001b[0m                         Traceback (most recent call last)",
      "Cell \u001b[0;32mIn[7], line 29\u001b[0m\n\u001b[1;32m     25\u001b[0m \u001b[38;5;28;01mif\u001b[39;00m \u001b[38;5;124m'\u001b[39m\u001b[38;5;124mname\u001b[39m\u001b[38;5;124m'\u001b[39m \u001b[38;5;129;01min\u001b[39;00m row\u001b[38;5;241m.\u001b[39mmetadata\u001b[38;5;241m.\u001b[39mkeys():\n\u001b[1;32m     27\u001b[0m     uid \u001b[38;5;241m=\u001b[39m row\u001b[38;5;241m.\u001b[39mmetadata[\u001b[38;5;124m'\u001b[39m\u001b[38;5;124mname\u001b[39m\u001b[38;5;124m'\u001b[39m]\n\u001b[0;32m---> 29\u001b[0m     \u001b[38;5;28;01mif\u001b[39;00m uid \u001b[38;5;129;01min\u001b[39;00m \u001b[43mmutations_agg\u001b[49m\u001b[43m[\u001b[49m\u001b[43mmutations_agg\u001b[49m\u001b[43m[\u001b[49m\u001b[38;5;124;43m'\u001b[39;49m\u001b[38;5;124;43mR_MINOR_ALLELE\u001b[39;49m\u001b[38;5;124;43m'\u001b[39;49m\u001b[43m]\u001b[49m\u001b[43m]\u001b[49m\u001b[38;5;241m.\u001b[39mindex:\n\u001b[1;32m     30\u001b[0m         line \u001b[38;5;241m=\u001b[39m \u001b[38;5;124m'\u001b[39m\u001b[38;5;124mn\u001b[39m\u001b[38;5;124m'\u001b[39m\u001b[38;5;241m+\u001b[39m\u001b[38;5;28mstr\u001b[39m(i) \u001b[38;5;241m+\u001b[39m\u001b[38;5;124m'\u001b[39m\u001b[38;5;124m,1\u001b[39m\u001b[38;5;130;01m\\n\u001b[39;00m\u001b[38;5;124m'\u001b[39m\n\u001b[1;32m     31\u001b[0m         binary_annotations \u001b[38;5;241m+\u001b[39m\u001b[38;5;241m=\u001b[39m line \n",
      "File \u001b[0;32m~/Documents/Studium/PhD/DPhil/rnap_minors/tb-rnap-subpopulations/.venv_rnap_sub/lib/python3.11/site-packages/pandas/core/frame.py:4093\u001b[0m, in \u001b[0;36mDataFrame.__getitem__\u001b[0;34m(self, key)\u001b[0m\n\u001b[1;32m   4091\u001b[0m \u001b[38;5;66;03m# Do we have a (boolean) 1d indexer?\u001b[39;00m\n\u001b[1;32m   4092\u001b[0m \u001b[38;5;28;01mif\u001b[39;00m com\u001b[38;5;241m.\u001b[39mis_bool_indexer(key):\n\u001b[0;32m-> 4093\u001b[0m     \u001b[38;5;28;01mreturn\u001b[39;00m \u001b[38;5;28;43mself\u001b[39;49m\u001b[38;5;241;43m.\u001b[39;49m\u001b[43m_getitem_bool_array\u001b[49m\u001b[43m(\u001b[49m\u001b[43mkey\u001b[49m\u001b[43m)\u001b[49m\n\u001b[1;32m   4095\u001b[0m \u001b[38;5;66;03m# We are left with two options: a single key, and a collection of keys,\u001b[39;00m\n\u001b[1;32m   4096\u001b[0m \u001b[38;5;66;03m# We interpret tuples as collections only for non-MultiIndex\u001b[39;00m\n\u001b[1;32m   4097\u001b[0m is_single_key \u001b[38;5;241m=\u001b[39m \u001b[38;5;28misinstance\u001b[39m(key, \u001b[38;5;28mtuple\u001b[39m) \u001b[38;5;129;01mor\u001b[39;00m \u001b[38;5;129;01mnot\u001b[39;00m is_list_like(key)\n",
      "File \u001b[0;32m~/Documents/Studium/PhD/DPhil/rnap_minors/tb-rnap-subpopulations/.venv_rnap_sub/lib/python3.11/site-packages/pandas/core/frame.py:4149\u001b[0m, in \u001b[0;36mDataFrame._getitem_bool_array\u001b[0;34m(self, key)\u001b[0m\n\u001b[1;32m   4143\u001b[0m     \u001b[38;5;28;01mraise\u001b[39;00m \u001b[38;5;167;01mValueError\u001b[39;00m(\n\u001b[1;32m   4144\u001b[0m         \u001b[38;5;124mf\u001b[39m\u001b[38;5;124m\"\u001b[39m\u001b[38;5;124mItem wrong length \u001b[39m\u001b[38;5;132;01m{\u001b[39;00m\u001b[38;5;28mlen\u001b[39m(key)\u001b[38;5;132;01m}\u001b[39;00m\u001b[38;5;124m instead of \u001b[39m\u001b[38;5;132;01m{\u001b[39;00m\u001b[38;5;28mlen\u001b[39m(\u001b[38;5;28mself\u001b[39m\u001b[38;5;241m.\u001b[39mindex)\u001b[38;5;132;01m}\u001b[39;00m\u001b[38;5;124m.\u001b[39m\u001b[38;5;124m\"\u001b[39m\n\u001b[1;32m   4145\u001b[0m     )\n\u001b[1;32m   4147\u001b[0m \u001b[38;5;66;03m# check_bool_indexer will throw exception if Series key cannot\u001b[39;00m\n\u001b[1;32m   4148\u001b[0m \u001b[38;5;66;03m# be reindexed to match DataFrame rows\u001b[39;00m\n\u001b[0;32m-> 4149\u001b[0m key \u001b[38;5;241m=\u001b[39m \u001b[43mcheck_bool_indexer\u001b[49m\u001b[43m(\u001b[49m\u001b[38;5;28;43mself\u001b[39;49m\u001b[38;5;241;43m.\u001b[39;49m\u001b[43mindex\u001b[49m\u001b[43m,\u001b[49m\u001b[43m \u001b[49m\u001b[43mkey\u001b[49m\u001b[43m)\u001b[49m\n\u001b[1;32m   4151\u001b[0m \u001b[38;5;28;01mif\u001b[39;00m key\u001b[38;5;241m.\u001b[39mall():\n\u001b[1;32m   4152\u001b[0m     \u001b[38;5;28;01mreturn\u001b[39;00m \u001b[38;5;28mself\u001b[39m\u001b[38;5;241m.\u001b[39mcopy(deep\u001b[38;5;241m=\u001b[39m\u001b[38;5;28;01mNone\u001b[39;00m)\n",
      "File \u001b[0;32m~/Documents/Studium/PhD/DPhil/rnap_minors/tb-rnap-subpopulations/.venv_rnap_sub/lib/python3.11/site-packages/pandas/core/indexing.py:2681\u001b[0m, in \u001b[0;36mcheck_bool_indexer\u001b[0;34m(index, key)\u001b[0m\n\u001b[1;32m   2677\u001b[0m \u001b[38;5;28;01melif\u001b[39;00m \u001b[38;5;129;01mnot\u001b[39;00m is_array_like(result):\n\u001b[1;32m   2678\u001b[0m     \u001b[38;5;66;03m# GH 33924\u001b[39;00m\n\u001b[1;32m   2679\u001b[0m     \u001b[38;5;66;03m# key may contain nan elements, check_array_indexer needs bool array\u001b[39;00m\n\u001b[1;32m   2680\u001b[0m     result \u001b[38;5;241m=\u001b[39m pd_array(result, dtype\u001b[38;5;241m=\u001b[39m\u001b[38;5;28mbool\u001b[39m)\n\u001b[0;32m-> 2681\u001b[0m \u001b[38;5;28;01mreturn\u001b[39;00m \u001b[43mcheck_array_indexer\u001b[49m\u001b[43m(\u001b[49m\u001b[43mindex\u001b[49m\u001b[43m,\u001b[49m\u001b[43m \u001b[49m\u001b[43mresult\u001b[49m\u001b[43m)\u001b[49m\n",
      "File \u001b[0;32m~/Documents/Studium/PhD/DPhil/rnap_minors/tb-rnap-subpopulations/.venv_rnap_sub/lib/python3.11/site-packages/pandas/core/indexers/utils.py:535\u001b[0m, in \u001b[0;36mcheck_array_indexer\u001b[0;34m(array, indexer)\u001b[0m\n\u001b[1;32m    533\u001b[0m     indexer \u001b[38;5;241m=\u001b[39m indexer\u001b[38;5;241m.\u001b[39mto_numpy(dtype\u001b[38;5;241m=\u001b[39m\u001b[38;5;28mbool\u001b[39m, na_value\u001b[38;5;241m=\u001b[39m\u001b[38;5;28;01mFalse\u001b[39;00m)\n\u001b[1;32m    534\u001b[0m \u001b[38;5;28;01melse\u001b[39;00m:\n\u001b[0;32m--> 535\u001b[0m     indexer \u001b[38;5;241m=\u001b[39m np\u001b[38;5;241m.\u001b[39masarray(indexer, dtype\u001b[38;5;241m=\u001b[39m\u001b[38;5;28mbool\u001b[39m)\n\u001b[1;32m    537\u001b[0m \u001b[38;5;66;03m# GH26658\u001b[39;00m\n\u001b[1;32m    538\u001b[0m \u001b[38;5;28;01mif\u001b[39;00m \u001b[38;5;28mlen\u001b[39m(indexer) \u001b[38;5;241m!=\u001b[39m \u001b[38;5;28mlen\u001b[39m(array):\n",
      "File \u001b[0;32m~/Documents/Studium/PhD/DPhil/rnap_minors/tb-rnap-subpopulations/.venv_rnap_sub/lib/python3.11/site-packages/pandas/core/generic.py:6296\u001b[0m, in \u001b[0;36mNDFrame.__getattr__\u001b[0;34m(self, name)\u001b[0m\n\u001b[1;32m   6286\u001b[0m \u001b[38;5;250m\u001b[39m\u001b[38;5;124;03m\"\"\"\u001b[39;00m\n\u001b[1;32m   6287\u001b[0m \u001b[38;5;124;03mAfter regular attribute access, try looking up the name\u001b[39;00m\n\u001b[1;32m   6288\u001b[0m \u001b[38;5;124;03mThis allows simpler access to columns for interactive use.\u001b[39;00m\n\u001b[1;32m   6289\u001b[0m \u001b[38;5;124;03m\"\"\"\u001b[39;00m\n\u001b[1;32m   6290\u001b[0m \u001b[38;5;66;03m# Note: obj.x will always call obj.__getattribute__('x') prior to\u001b[39;00m\n\u001b[1;32m   6291\u001b[0m \u001b[38;5;66;03m# calling obj.__getattr__('x').\u001b[39;00m\n\u001b[1;32m   6292\u001b[0m \u001b[38;5;28;01mif\u001b[39;00m (\n\u001b[1;32m   6293\u001b[0m     name \u001b[38;5;129;01mnot\u001b[39;00m \u001b[38;5;129;01min\u001b[39;00m \u001b[38;5;28mself\u001b[39m\u001b[38;5;241m.\u001b[39m_internal_names_set\n\u001b[1;32m   6294\u001b[0m     \u001b[38;5;129;01mand\u001b[39;00m name \u001b[38;5;129;01mnot\u001b[39;00m \u001b[38;5;129;01min\u001b[39;00m \u001b[38;5;28mself\u001b[39m\u001b[38;5;241m.\u001b[39m_metadata\n\u001b[1;32m   6295\u001b[0m     \u001b[38;5;129;01mand\u001b[39;00m name \u001b[38;5;129;01mnot\u001b[39;00m \u001b[38;5;129;01min\u001b[39;00m \u001b[38;5;28mself\u001b[39m\u001b[38;5;241m.\u001b[39m_accessors\n\u001b[0;32m-> 6296\u001b[0m     \u001b[38;5;129;01mand\u001b[39;00m \u001b[38;5;28;43mself\u001b[39;49m\u001b[38;5;241;43m.\u001b[39;49m\u001b[43m_info_axis\u001b[49m\u001b[38;5;241;43m.\u001b[39;49m\u001b[43m_can_hold_identifiers_and_holds_name\u001b[49m\u001b[43m(\u001b[49m\u001b[43mname\u001b[49m\u001b[43m)\u001b[49m\n\u001b[1;32m   6297\u001b[0m ):\n\u001b[1;32m   6298\u001b[0m     \u001b[38;5;28;01mreturn\u001b[39;00m \u001b[38;5;28mself\u001b[39m[name]\n\u001b[1;32m   6299\u001b[0m \u001b[38;5;28;01mreturn\u001b[39;00m \u001b[38;5;28mobject\u001b[39m\u001b[38;5;241m.\u001b[39m\u001b[38;5;21m__getattribute__\u001b[39m(\u001b[38;5;28mself\u001b[39m, name)\n",
      "File \u001b[0;32m~/Documents/Studium/PhD/DPhil/rnap_minors/tb-rnap-subpopulations/.venv_rnap_sub/lib/python3.11/site-packages/pandas/core/indexes/base.py:5452\u001b[0m, in \u001b[0;36mIndex._can_hold_identifiers_and_holds_name\u001b[0;34m(self, name)\u001b[0m\n\u001b[1;32m   5439\u001b[0m \u001b[38;5;250m\u001b[39m\u001b[38;5;124;03m\"\"\"\u001b[39;00m\n\u001b[1;32m   5440\u001b[0m \u001b[38;5;124;03mFaster check for ``name in self`` when we know `name` is a Python\u001b[39;00m\n\u001b[1;32m   5441\u001b[0m \u001b[38;5;124;03midentifier (e.g. in NDFrame.__getattr__, which hits this to support\u001b[39;00m\n\u001b[0;32m   (...)\u001b[0m\n\u001b[1;32m   5445\u001b[0m \u001b[38;5;124;03mhttps://github.com/pandas-dev/pandas/issues/19764\u001b[39;00m\n\u001b[1;32m   5446\u001b[0m \u001b[38;5;124;03m\"\"\"\u001b[39;00m\n\u001b[1;32m   5447\u001b[0m \u001b[38;5;28;01mif\u001b[39;00m (\n\u001b[1;32m   5448\u001b[0m     is_object_dtype(\u001b[38;5;28mself\u001b[39m\u001b[38;5;241m.\u001b[39mdtype)\n\u001b[1;32m   5449\u001b[0m     \u001b[38;5;129;01mor\u001b[39;00m is_string_dtype(\u001b[38;5;28mself\u001b[39m\u001b[38;5;241m.\u001b[39mdtype)\n\u001b[1;32m   5450\u001b[0m     \u001b[38;5;129;01mor\u001b[39;00m \u001b[38;5;28misinstance\u001b[39m(\u001b[38;5;28mself\u001b[39m\u001b[38;5;241m.\u001b[39mdtype, CategoricalDtype)\n\u001b[1;32m   5451\u001b[0m ):\n\u001b[0;32m-> 5452\u001b[0m     \u001b[38;5;28;01mreturn\u001b[39;00m \u001b[43mname\u001b[49m\u001b[43m \u001b[49m\u001b[38;5;129;43;01min\u001b[39;49;00m\u001b[43m \u001b[49m\u001b[38;5;28;43mself\u001b[39;49m\n\u001b[1;32m   5453\u001b[0m \u001b[38;5;28;01mreturn\u001b[39;00m \u001b[38;5;28;01mFalse\u001b[39;00m\n",
      "File \u001b[0;32m~/Documents/Studium/PhD/DPhil/rnap_minors/tb-rnap-subpopulations/.venv_rnap_sub/lib/python3.11/site-packages/pandas/core/indexes/base.py:5360\u001b[0m, in \u001b[0;36mIndex.__contains__\u001b[0;34m(self, key)\u001b[0m\n\u001b[1;32m   5358\u001b[0m \u001b[38;5;28mhash\u001b[39m(key)\n\u001b[1;32m   5359\u001b[0m \u001b[38;5;28;01mtry\u001b[39;00m:\n\u001b[0;32m-> 5360\u001b[0m     \u001b[38;5;28;01mreturn\u001b[39;00m \u001b[43mkey\u001b[49m\u001b[43m \u001b[49m\u001b[38;5;129;43;01min\u001b[39;49;00m\u001b[43m \u001b[49m\u001b[38;5;28;43mself\u001b[39;49m\u001b[38;5;241;43m.\u001b[39;49m\u001b[43m_engine\u001b[49m\n\u001b[1;32m   5361\u001b[0m \u001b[38;5;28;01mexcept\u001b[39;00m (\u001b[38;5;167;01mOverflowError\u001b[39;00m, \u001b[38;5;167;01mTypeError\u001b[39;00m, \u001b[38;5;167;01mValueError\u001b[39;00m):\n\u001b[1;32m   5362\u001b[0m     \u001b[38;5;28;01mreturn\u001b[39;00m \u001b[38;5;28;01mFalse\u001b[39;00m\n",
      "File \u001b[0;32mindex.pyx:162\u001b[0m, in \u001b[0;36mpandas._libs.index.IndexEngine.__contains__\u001b[0;34m()\u001b[0m\n",
      "File \u001b[0;32mindex.pyx:191\u001b[0m, in \u001b[0;36mpandas._libs.index.IndexEngine.get_loc\u001b[0;34m()\u001b[0m\n",
      "File \u001b[0;32mindex.pyx:234\u001b[0m, in \u001b[0;36mpandas._libs.index.IndexEngine._get_loc_duplicates\u001b[0;34m()\u001b[0m\n",
      "File \u001b[0;32mindex.pyx:242\u001b[0m, in \u001b[0;36mpandas._libs.index.IndexEngine._maybe_get_bool_indexer\u001b[0;34m()\u001b[0m\n",
      "File \u001b[0;32mindex.pyx:126\u001b[0m, in \u001b[0;36mpandas._libs.index._unpack_bool_indexer\u001b[0;34m()\u001b[0m\n",
      "File \u001b[0;32m~/Documents/Studium/PhD/DPhil/rnap_minors/tb-rnap-subpopulations/.venv_rnap_sub/lib/python3.11/site-packages/numpy/_core/multiarray.py:363\u001b[0m, in \u001b[0;36mwhere\u001b[0;34m(condition, x, y)\u001b[0m\n\u001b[1;32m    272\u001b[0m \u001b[38;5;250m    \u001b[39m\u001b[38;5;124;03m\"\"\"\u001b[39;00m\n\u001b[1;32m    273\u001b[0m \u001b[38;5;124;03m    inner(a, b, /)\u001b[39;00m\n\u001b[1;32m    274\u001b[0m \n\u001b[0;32m   (...)\u001b[0m\n\u001b[1;32m    358\u001b[0m \n\u001b[1;32m    359\u001b[0m \u001b[38;5;124;03m    \"\"\"\u001b[39;00m\n\u001b[1;32m    360\u001b[0m     \u001b[38;5;28;01mreturn\u001b[39;00m (a, b)\n\u001b[0;32m--> 363\u001b[0m \u001b[38;5;129m@array_function_from_c_func_and_dispatcher\u001b[39m(_multiarray_umath\u001b[38;5;241m.\u001b[39mwhere)\n\u001b[1;32m    364\u001b[0m \u001b[38;5;28;01mdef\u001b[39;00m \u001b[38;5;21mwhere\u001b[39m(condition, x\u001b[38;5;241m=\u001b[39m\u001b[38;5;28;01mNone\u001b[39;00m, y\u001b[38;5;241m=\u001b[39m\u001b[38;5;28;01mNone\u001b[39;00m):\n\u001b[1;32m    365\u001b[0m \u001b[38;5;250m    \u001b[39m\u001b[38;5;124;03m\"\"\"\u001b[39;00m\n\u001b[1;32m    366\u001b[0m \u001b[38;5;124;03m    where(condition, [x, y], /)\u001b[39;00m\n\u001b[1;32m    367\u001b[0m \n\u001b[0;32m   (...)\u001b[0m\n\u001b[1;32m    434\u001b[0m \u001b[38;5;124;03m           [ 0,  3, -1]])\u001b[39;00m\n\u001b[1;32m    435\u001b[0m \u001b[38;5;124;03m    \"\"\"\u001b[39;00m\n\u001b[1;32m    436\u001b[0m     \u001b[38;5;28;01mreturn\u001b[39;00m (condition, x, y)\n",
      "\u001b[0;31mKeyboardInterrupt\u001b[0m: "
     ]
    }
   ],
   "source": [
    "#create script to mark major and minor RIF resistant samples in tree\n",
    "vis = 'binary'\n",
    "\n",
    "binary_header=\"\"\"DATASET_BINARY\n",
    "\n",
    "SEPARATOR COMMA\n",
    "\n",
    "DATASET_LABEL,binary\n",
    "\n",
    "COLOR,#e41a1c\n",
    "\n",
    "FIELD_SHAPES,1\n",
    "\n",
    "FIELD_LABELS,f1\n",
    "\n",
    "DATA\n",
    "\"\"\"\n",
    "\n",
    "binary_annotations = ''\n",
    "\n",
    "for i in tqdm(range(ts.num_nodes)):   \n",
    "\n",
    "        row = new_tables.nodes[i]\n",
    "\n",
    "        if 'name' in row.metadata.keys():\n",
    "\n",
    "            uid = row.metadata['name']\n",
    "\n",
    "            if uid in mutations_agg[mutations_agg['R_MINOR_ALLELE']].index:\n",
    "                line = 'n'+str(i) +',1\\n'\n",
    "                binary_annotations += line \n",
    "\n",
    "binary_annotations = binary_header + binary_annotations\n",
    "    \n",
    "title = 'minor_res-annotations_circle.txt'\n",
    "print(title)\n",
    "\n",
    "with open(title,'w') as f:\n",
    "        f.write(binary_annotations)"
   ]
  },
  {
   "cell_type": "code",
   "execution_count": 12,
   "metadata": {},
   "outputs": [
    {
     "name": "stderr",
     "output_type": "stream",
     "text": [
      "100%|██████████| 30454/30454 [00:08<00:00, 3456.06it/s]"
     ]
    },
    {
     "name": "stdout",
     "output_type": "stream",
     "text": [
      "minor_res-annotations_symbol_red.txt\n"
     ]
    },
    {
     "name": "stderr",
     "output_type": "stream",
     "text": [
      "\n"
     ]
    }
   ],
   "source": [
    "vis = 'symbol'\n",
    "\n",
    "symbol_header=\"\"\"DATASET_SYMBOL\n",
    "\n",
    "SEPARATOR COMMA\n",
    "\n",
    "DATASET_LABEL,example symbols\n",
    "\n",
    "COLOR,#e41a1c\n",
    "\n",
    "MAXIMUM_SIZE,3\n",
    "\n",
    "\n",
    "DATA\n",
    "\"\"\"\n",
    "\n",
    "symbol_annotations = ''\n",
    "\n",
    "for i in tqdm(range(ts.num_nodes)):   \n",
    "\n",
    "        row = new_tables.nodes[i]\n",
    "\n",
    "        if 'name' in row.metadata.keys():\n",
    "\n",
    "            uid = row.metadata['name']\n",
    "\n",
    "            if uid in mutations_agg[mutations_agg['R_MINOR_ALLELE']].index:\n",
    "                line = 'n'+str(i) +',1,1,' + '#e41a1c' + ',1,1\\n' ##e41a1c, #4daf4a\n",
    "                symbol_annotations += line \n",
    "    \n",
    "\n",
    "symbol_annotations = symbol_header + symbol_annotations\n",
    "\n",
    "title = 'minor_res-annotations_symbol_red.txt'\n",
    "print(title)\n",
    "\n",
    "with open(title,'w') as f:\n",
    "        f.write(symbol_annotations)"
   ]
  },
  {
   "cell_type": "code",
   "execution_count": null,
   "metadata": {},
   "outputs": [],
   "source": []
  }
 ],
 "metadata": {
  "kernelspec": {
   "display_name": ".venv",
   "language": "python",
   "name": "python3"
  },
  "language_info": {
   "codemirror_mode": {
    "name": "ipython",
    "version": 3
   },
   "file_extension": ".py",
   "mimetype": "text/x-python",
   "name": "python",
   "nbconvert_exporter": "python",
   "pygments_lexer": "ipython3",
   "version": "3.11.8"
  }
 },
 "nbformat": 4,
 "nbformat_minor": 2
}
