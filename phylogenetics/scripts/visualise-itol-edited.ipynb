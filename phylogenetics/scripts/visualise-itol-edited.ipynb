{
 "cells": [
  {
   "cell_type": "code",
   "execution_count": 1,
   "metadata": {},
   "outputs": [],
   "source": [
    "import tskit\n",
    "import pandas\n",
    "import numpy\n",
    "\n",
    "from tqdm import tqdm\n",
    "pandas.options.display.max_columns=999\n",
    "import tsconvert\n",
    "import functools\n",
    "from functools import reduce\n",
    "from scipy.stats import chi2_contingency\n",
    "\n",
    "import warnings\n",
    "warnings.filterwarnings('ignore')"
   ]
  },
  {
   "cell_type": "markdown",
   "metadata": {},
   "source": [
    "Let's make an tree annotated by lineage (using shapes at the end of branches) and whether or not the sample contains an S450L mutation in rpoB (by dots around the circle)"
   ]
  },
  {
   "cell_type": "markdown",
   "metadata": {},
   "source": [
    "First, let's read in the `GENOMES` table and extract the form of `uid` that Kerri used in her phylogenetic tree (this was how the vcf files were named but there were two problems so when I made the tables I fixed the problems, but because she used this original identifier we have to rebuilt it from the VCF filename)"
   ]
  },
  {
   "cell_type": "code",
   "execution_count": 3,
   "metadata": {
    "scrolled": false
   },
   "outputs": [
    {
     "data": {
      "text/html": [
       "<div>\n",
       "<style scoped>\n",
       "    .dataframe tbody tr th:only-of-type {\n",
       "        vertical-align: middle;\n",
       "    }\n",
       "\n",
       "    .dataframe tbody tr th {\n",
       "        vertical-align: top;\n",
       "    }\n",
       "\n",
       "    .dataframe thead th {\n",
       "        text-align: right;\n",
       "    }\n",
       "</style>\n",
       "<table border=\"1\" class=\"dataframe\">\n",
       "  <thead>\n",
       "    <tr style=\"text-align: right;\">\n",
       "      <th></th>\n",
       "      <th>SITEID</th>\n",
       "      <th>SUBJID</th>\n",
       "      <th>LABID</th>\n",
       "      <th>ISOLATENO</th>\n",
       "      <th>SEQREPS</th>\n",
       "      <th>BELONGS_GPI</th>\n",
       "      <th>PER_SAMPLE_VCF_PRESENT</th>\n",
       "      <th>REGENOTYPED_VCF_PRESENT</th>\n",
       "      <th>CLOCKWORK_VERSION</th>\n",
       "      <th>TBI_INDEX</th>\n",
       "      <th>KMER_COUNTS</th>\n",
       "      <th>SNP_DISTANCE_TO_H37rV</th>\n",
       "      <th>SPECIES</th>\n",
       "      <th>LINEAGE_NAME</th>\n",
       "      <th>SUBLINEAGE_NAME</th>\n",
       "      <th>LINEAGE_PERCENTAGE</th>\n",
       "      <th>N_NULL</th>\n",
       "      <th>N_SNP</th>\n",
       "      <th>N_INDEL</th>\n",
       "      <th>N_FILTER_FAIL</th>\n",
       "      <th>N_REF</th>\n",
       "      <th>N_HET</th>\n",
       "      <th>CATALOGUE_NAME</th>\n",
       "      <th>CATALOGUE_VERSION</th>\n",
       "      <th>TB_TYPE_1</th>\n",
       "      <th>WGS_PREDICTION_STRING</th>\n",
       "      <th>IMAGE_MD5SUM</th>\n",
       "      <th>FTP_PATH</th>\n",
       "      <th>FTP_FILENAME_VCF</th>\n",
       "      <th>TREE_PATH</th>\n",
       "      <th>TREE_FILENAME_VCF</th>\n",
       "      <th>FASTQ_MD5SUMS</th>\n",
       "      <th>SEQTREAT_SAMPLE</th>\n",
       "      <th>MYKROBE_LINEAGE_NAME_1</th>\n",
       "      <th>MYKROBE_LINEAGE_NAME_2</th>\n",
       "      <th>ENA</th>\n",
       "      <th>ORIGINAL_UID</th>\n",
       "    </tr>\n",
       "    <tr>\n",
       "      <th>UNIQUEID</th>\n",
       "      <th></th>\n",
       "      <th></th>\n",
       "      <th></th>\n",
       "      <th></th>\n",
       "      <th></th>\n",
       "      <th></th>\n",
       "      <th></th>\n",
       "      <th></th>\n",
       "      <th></th>\n",
       "      <th></th>\n",
       "      <th></th>\n",
       "      <th></th>\n",
       "      <th></th>\n",
       "      <th></th>\n",
       "      <th></th>\n",
       "      <th></th>\n",
       "      <th></th>\n",
       "      <th></th>\n",
       "      <th></th>\n",
       "      <th></th>\n",
       "      <th></th>\n",
       "      <th></th>\n",
       "      <th></th>\n",
       "      <th></th>\n",
       "      <th></th>\n",
       "      <th></th>\n",
       "      <th></th>\n",
       "      <th></th>\n",
       "      <th></th>\n",
       "      <th></th>\n",
       "      <th></th>\n",
       "      <th></th>\n",
       "      <th></th>\n",
       "      <th></th>\n",
       "      <th></th>\n",
       "      <th></th>\n",
       "      <th></th>\n",
       "    </tr>\n",
       "  </thead>\n",
       "  <tbody>\n",
       "    <tr>\n",
       "      <th>site.02.subj.0958.lab.22A197.iso.1</th>\n",
       "      <td>02</td>\n",
       "      <td>0958</td>\n",
       "      <td>22A197</td>\n",
       "      <td>1</td>\n",
       "      <td>197</td>\n",
       "      <td>True</td>\n",
       "      <td>True</td>\n",
       "      <td>True</td>\n",
       "      <td>0.8.3</td>\n",
       "      <td>True</td>\n",
       "      <td>False</td>\n",
       "      <td>1154.0</td>\n",
       "      <td>M. tuberculosis</td>\n",
       "      <td>Lineage 2</td>\n",
       "      <td></td>\n",
       "      <td>71.283784</td>\n",
       "      <td>4934</td>\n",
       "      <td>0</td>\n",
       "      <td>1154</td>\n",
       "      <td>104</td>\n",
       "      <td>0</td>\n",
       "      <td>14329</td>\n",
       "      <td>CRyPTIC</td>\n",
       "      <td>v1.31</td>\n",
       "      <td>MDR</td>\n",
       "      <td>RRURRRSSSSSSSSS</td>\n",
       "      <td>{'02-0958-22A197-1-14': 'a587bac9ad2a0ebd36274...</td>\n",
       "      <td>/well/bag/jeffk/release_staging/</td>\n",
       "      <td>00/01/41/00/14100/site.02.iso.1.subject.0958.l...</td>\n",
       "      <td>dat/CRyPTIC2/V2/02/0958/22A197/1/regenotyped/</td>\n",
       "      <td>site.02.subj.0958.lab.22A197.iso.1.v0.8.3.rege...</td>\n",
       "      <td></td>\n",
       "      <td>False</td>\n",
       "      <td>Lineage 2</td>\n",
       "      <td>lineage2.2.1</td>\n",
       "      <td>ERS5301054</td>\n",
       "      <td>site.02.iso.1.subject.0958.lab_id.22A197.seq_r...</td>\n",
       "    </tr>\n",
       "    <tr>\n",
       "      <th>site.02.subj.0823.lab.2013241494.iso.1</th>\n",
       "      <td>02</td>\n",
       "      <td>0823</td>\n",
       "      <td>2013241494</td>\n",
       "      <td>1</td>\n",
       "      <td>241494</td>\n",
       "      <td>True</td>\n",
       "      <td>True</td>\n",
       "      <td>True</td>\n",
       "      <td>0.8.3</td>\n",
       "      <td>True</td>\n",
       "      <td>False</td>\n",
       "      <td>388.0</td>\n",
       "      <td>M. tuberculosis</td>\n",
       "      <td>Lineage 4</td>\n",
       "      <td></td>\n",
       "      <td>95.705521</td>\n",
       "      <td>2250</td>\n",
       "      <td>0</td>\n",
       "      <td>388</td>\n",
       "      <td>43</td>\n",
       "      <td>0</td>\n",
       "      <td>9442</td>\n",
       "      <td>CRyPTIC</td>\n",
       "      <td>v1.31</td>\n",
       "      <td>UNK</td>\n",
       "      <td>UUSUSSSSSSSSSSS</td>\n",
       "      <td>{'02-0823-2013241494-1-14': '698507bed7ff19268...</td>\n",
       "      <td>/well/bag/jeffk/release_staging/</td>\n",
       "      <td>00/01/41/43/14143/site.02.iso.1.subject.0823.l...</td>\n",
       "      <td>dat/CRyPTIC2/V2/02/0823/2013241494/1/regenotyped/</td>\n",
       "      <td>site.02.subj.0823.lab.2013241494.iso.1.v0.8.3....</td>\n",
       "      <td></td>\n",
       "      <td>False</td>\n",
       "      <td>Lineage 2</td>\n",
       "      <td>lineage2.2.3</td>\n",
       "      <td>ERS5301097</td>\n",
       "      <td>site.02.iso.1.subject.0823.lab_id.2013241494.s...</td>\n",
       "    </tr>\n",
       "    <tr>\n",
       "      <th>site.02.subj.0359.lab.222018-14.iso.1</th>\n",
       "      <td>02</td>\n",
       "      <td>0359</td>\n",
       "      <td>222018-14</td>\n",
       "      <td>1</td>\n",
       "      <td>14222018</td>\n",
       "      <td>True</td>\n",
       "      <td>True</td>\n",
       "      <td>True</td>\n",
       "      <td>0.8.3</td>\n",
       "      <td>True</td>\n",
       "      <td>False</td>\n",
       "      <td>1147.0</td>\n",
       "      <td>M. tuberculosis</td>\n",
       "      <td>Lineage 2</td>\n",
       "      <td></td>\n",
       "      <td>95.608108</td>\n",
       "      <td>3578</td>\n",
       "      <td>0</td>\n",
       "      <td>1147</td>\n",
       "      <td>118</td>\n",
       "      <td>0</td>\n",
       "      <td>13038</td>\n",
       "      <td>CRyPTIC</td>\n",
       "      <td>v1.31</td>\n",
       "      <td>UNK</td>\n",
       "      <td>SUSSSSSSUSSSSSS</td>\n",
       "      <td>{'02-0359-222018-14-1-14': '39c28529c7564ce379...</td>\n",
       "      <td>/well/bag/jeffk/release_staging/</td>\n",
       "      <td>00/01/08/73/10873/site.02.iso.1.subject.0359.l...</td>\n",
       "      <td>dat/CRyPTIC2/V2/02/0359/222018-14/1/regenotyped/</td>\n",
       "      <td>site.02.subj.0359.lab.222018-14.iso.1.v0.8.3.r...</td>\n",
       "      <td></td>\n",
       "      <td>False</td>\n",
       "      <td>Lineage 2</td>\n",
       "      <td>lineage2.2.3</td>\n",
       "      <td>ERS5298526</td>\n",
       "      <td>site.02.iso.1.subject.0359.lab_id.222018-14.se...</td>\n",
       "    </tr>\n",
       "    <tr>\n",
       "      <th>site.02.subj.0224.lab.2013221088.iso.1</th>\n",
       "      <td>02</td>\n",
       "      <td>0224</td>\n",
       "      <td>2013221088</td>\n",
       "      <td>1</td>\n",
       "      <td>13221088_2013221088</td>\n",
       "      <td>True</td>\n",
       "      <td>True</td>\n",
       "      <td>True</td>\n",
       "      <td>0.8.3</td>\n",
       "      <td>True</td>\n",
       "      <td>False</td>\n",
       "      <td>1193.0</td>\n",
       "      <td>M. tuberculosis</td>\n",
       "      <td>Lineage 2</td>\n",
       "      <td></td>\n",
       "      <td>96.621622</td>\n",
       "      <td>3529</td>\n",
       "      <td>0</td>\n",
       "      <td>1193</td>\n",
       "      <td>104</td>\n",
       "      <td>0</td>\n",
       "      <td>13201</td>\n",
       "      <td>CRyPTIC</td>\n",
       "      <td>v1.31</td>\n",
       "      <td>SUS</td>\n",
       "      <td>SSSSSSSSSSSSSSS</td>\n",
       "      <td></td>\n",
       "      <td>/well/bag/jeffk/release_staging/</td>\n",
       "      <td>00/01/13/37/11337/site.02.iso.1.subject.0224.l...</td>\n",
       "      <td>dat/CRyPTIC2/V2/02/0224/2013221088/1/regenotyped/</td>\n",
       "      <td>site.02.subj.0224.lab.2013221088.iso.1.v0.8.3....</td>\n",
       "      <td></td>\n",
       "      <td>False</td>\n",
       "      <td>Lineage 2</td>\n",
       "      <td>lineage2.2.5</td>\n",
       "      <td>ERS5300527</td>\n",
       "      <td>site.02.iso.1.subject.0224.lab_id.2013221088.s...</td>\n",
       "    </tr>\n",
       "    <tr>\n",
       "      <th>site.02.subj.0918.lab.22A153.iso.1</th>\n",
       "      <td>02</td>\n",
       "      <td>0918</td>\n",
       "      <td>22A153</td>\n",
       "      <td>1</td>\n",
       "      <td>153</td>\n",
       "      <td>True</td>\n",
       "      <td>True</td>\n",
       "      <td>True</td>\n",
       "      <td>0.8.3</td>\n",
       "      <td>True</td>\n",
       "      <td>False</td>\n",
       "      <td>1163.0</td>\n",
       "      <td>M. tuberculosis</td>\n",
       "      <td>Lineage 2</td>\n",
       "      <td></td>\n",
       "      <td>96.283784</td>\n",
       "      <td>4736</td>\n",
       "      <td>0</td>\n",
       "      <td>1163</td>\n",
       "      <td>121</td>\n",
       "      <td>0</td>\n",
       "      <td>13970</td>\n",
       "      <td>CRyPTIC</td>\n",
       "      <td>v1.31</td>\n",
       "      <td>MDR</td>\n",
       "      <td>RRRRSSUSUSSSSSS</td>\n",
       "      <td>{'02-0918-22A153-1-14': 'b48e27b23f8377c209854...</td>\n",
       "      <td>/well/bag/jeffk/release_staging/</td>\n",
       "      <td>00/01/40/62/14062/site.02.iso.1.subject.0918.l...</td>\n",
       "      <td>dat/CRyPTIC2/V2/02/0918/22A153/1/regenotyped/</td>\n",
       "      <td>site.02.subj.0918.lab.22A153.iso.1.v0.8.3.rege...</td>\n",
       "      <td></td>\n",
       "      <td>False</td>\n",
       "      <td>Lineage 2</td>\n",
       "      <td>lineage2.2.3</td>\n",
       "      <td>ERS5301016</td>\n",
       "      <td>site.02.iso.1.subject.0918.lab_id.22A153.seq_r...</td>\n",
       "    </tr>\n",
       "    <tr>\n",
       "      <th>...</th>\n",
       "      <td>...</td>\n",
       "      <td>...</td>\n",
       "      <td>...</td>\n",
       "      <td>...</td>\n",
       "      <td>...</td>\n",
       "      <td>...</td>\n",
       "      <td>...</td>\n",
       "      <td>...</td>\n",
       "      <td>...</td>\n",
       "      <td>...</td>\n",
       "      <td>...</td>\n",
       "      <td>...</td>\n",
       "      <td>...</td>\n",
       "      <td>...</td>\n",
       "      <td>...</td>\n",
       "      <td>...</td>\n",
       "      <td>...</td>\n",
       "      <td>...</td>\n",
       "      <td>...</td>\n",
       "      <td>...</td>\n",
       "      <td>...</td>\n",
       "      <td>...</td>\n",
       "      <td>...</td>\n",
       "      <td>...</td>\n",
       "      <td>...</td>\n",
       "      <td>...</td>\n",
       "      <td>...</td>\n",
       "      <td>...</td>\n",
       "      <td>...</td>\n",
       "      <td>...</td>\n",
       "      <td>...</td>\n",
       "      <td>...</td>\n",
       "      <td>...</td>\n",
       "      <td>...</td>\n",
       "      <td>...</td>\n",
       "      <td>...</td>\n",
       "      <td>...</td>\n",
       "    </tr>\n",
       "    <tr>\n",
       "      <th>site.10.subj.YA00023171.lab.YA00023171.iso.1</th>\n",
       "      <td>10</td>\n",
       "      <td>YA00023171</td>\n",
       "      <td>YA00023171</td>\n",
       "      <td>1</td>\n",
       "      <td>1</td>\n",
       "      <td>True</td>\n",
       "      <td>True</td>\n",
       "      <td>True</td>\n",
       "      <td>0.8.3</td>\n",
       "      <td>True</td>\n",
       "      <td>False</td>\n",
       "      <td>693.0</td>\n",
       "      <td>M. tuberculosis</td>\n",
       "      <td>Lineage 4</td>\n",
       "      <td>LAM</td>\n",
       "      <td>100.000000</td>\n",
       "      <td>5911</td>\n",
       "      <td>0</td>\n",
       "      <td>693</td>\n",
       "      <td>55</td>\n",
       "      <td>0</td>\n",
       "      <td>11874</td>\n",
       "      <td>CRyPTIC</td>\n",
       "      <td>v1.31</td>\n",
       "      <td>SUS</td>\n",
       "      <td>SSSSSSUSSSSSSSS</td>\n",
       "      <td>{'10-YA00023171-YA00023171-1-7': 'da79aa0564b0...</td>\n",
       "      <td>/well/bag/jeffk/release_staging/</td>\n",
       "      <td>00/00/31/24/3124/site.10.iso.1.subject.YA00023...</td>\n",
       "      <td>dat/CRyPTIC2/V2/10/YA00023171/YA00023171/1/reg...</td>\n",
       "      <td>site.10.subj.YA00023171.lab.YA00023171.iso.1.v...</td>\n",
       "      <td></td>\n",
       "      <td>False</td>\n",
       "      <td>Lineage 4</td>\n",
       "      <td>lineage4.3.2.1</td>\n",
       "      <td>ERS5298216</td>\n",
       "      <td>site.10.iso.1.subject.YA00023171.lab_id.YA0002...</td>\n",
       "    </tr>\n",
       "    <tr>\n",
       "      <th>site.10.subj.SADH00634109_S16.lab.DH00634109_S16.iso.1</th>\n",
       "      <td>10</td>\n",
       "      <td>SADH00634109_S16</td>\n",
       "      <td>DH00634109_S16</td>\n",
       "      <td>1</td>\n",
       "      <td>1</td>\n",
       "      <td>False</td>\n",
       "      <td>True</td>\n",
       "      <td>False</td>\n",
       "      <td>0.8.3</td>\n",
       "      <td>True</td>\n",
       "      <td>True</td>\n",
       "      <td>NaN</td>\n",
       "      <td></td>\n",
       "      <td></td>\n",
       "      <td></td>\n",
       "      <td>NaN</td>\n",
       "      <td>317</td>\n",
       "      <td>0</td>\n",
       "      <td>700</td>\n",
       "      <td>63</td>\n",
       "      <td>0</td>\n",
       "      <td>32</td>\n",
       "      <td>CRyPTIC</td>\n",
       "      <td>v1.31</td>\n",
       "      <td>SUS</td>\n",
       "      <td>SSSSSSSSSSSSSSS</td>\n",
       "      <td></td>\n",
       "      <td>/well/bag/jeffk/release_staging/</td>\n",
       "      <td>00/00/81/50/8150/site.10.iso.1.subject.SADH006...</td>\n",
       "      <td>dat/CRyPTIC2/V2/10/SADH00634109_S16/DH00634109...</td>\n",
       "      <td>site.10.subj.SADH00634109_S16.lab.DH00634109_S...</td>\n",
       "      <td></td>\n",
       "      <td>False</td>\n",
       "      <td>Lineage 4</td>\n",
       "      <td>lineage4.3.2</td>\n",
       "      <td>ERS2400531</td>\n",
       "      <td>None</td>\n",
       "    </tr>\n",
       "    <tr>\n",
       "      <th>site.10.subj.H37RV_SA2437.lab.H37RV_SA2437.iso.1</th>\n",
       "      <td>10</td>\n",
       "      <td>H37RV_SA2437</td>\n",
       "      <td>H37RV_SA2437</td>\n",
       "      <td>1</td>\n",
       "      <td>1</td>\n",
       "      <td>False</td>\n",
       "      <td>True</td>\n",
       "      <td>False</td>\n",
       "      <td>0.8.3</td>\n",
       "      <td>True</td>\n",
       "      <td>True</td>\n",
       "      <td>NaN</td>\n",
       "      <td></td>\n",
       "      <td></td>\n",
       "      <td></td>\n",
       "      <td>NaN</td>\n",
       "      <td>44</td>\n",
       "      <td>0</td>\n",
       "      <td>34</td>\n",
       "      <td>16</td>\n",
       "      <td>0</td>\n",
       "      <td>1</td>\n",
       "      <td>CRyPTIC</td>\n",
       "      <td>v1.31</td>\n",
       "      <td>SUS</td>\n",
       "      <td>SSSSSSSSSSSSSSS</td>\n",
       "      <td></td>\n",
       "      <td>/well/bag/jeffk/release_staging/</td>\n",
       "      <td>00/01/45/29/14529/site.10.iso.1.subject.H37Rv_...</td>\n",
       "      <td>dat/CRyPTIC2/V2/10/H37RV_SA2437/H37RV_SA2437/1...</td>\n",
       "      <td>site.10.subj.H37RV_SA2437.lab.H37RV_SA2437.iso...</td>\n",
       "      <td></td>\n",
       "      <td>False</td>\n",
       "      <td>Lineage 4</td>\n",
       "      <td>lineage4.10</td>\n",
       "      <td>NO_ENA</td>\n",
       "      <td>None</td>\n",
       "    </tr>\n",
       "    <tr>\n",
       "      <th>site.10.subj.YA00044774.lab.YA00044774.iso.1</th>\n",
       "      <td>10</td>\n",
       "      <td>YA00044774</td>\n",
       "      <td>YA00044774</td>\n",
       "      <td>1</td>\n",
       "      <td>1</td>\n",
       "      <td>True</td>\n",
       "      <td>True</td>\n",
       "      <td>True</td>\n",
       "      <td>0.8.3</td>\n",
       "      <td>True</td>\n",
       "      <td>False</td>\n",
       "      <td>668.0</td>\n",
       "      <td>M. tuberculosis</td>\n",
       "      <td>Lineage 4</td>\n",
       "      <td>LAM</td>\n",
       "      <td>100.000000</td>\n",
       "      <td>13671</td>\n",
       "      <td>0</td>\n",
       "      <td>668</td>\n",
       "      <td>60</td>\n",
       "      <td>0</td>\n",
       "      <td>35563</td>\n",
       "      <td>CRyPTIC</td>\n",
       "      <td>v1.31</td>\n",
       "      <td>SUS</td>\n",
       "      <td>SSSSSSUSSSSSSSS</td>\n",
       "      <td>{'10-YA00044774-YA00044774-1-14': 'd3917b6c0c2...</td>\n",
       "      <td>/well/bag/jeffk/release_staging/</td>\n",
       "      <td>00/01/42/55/14255/site.10.iso.1.subject.YA0004...</td>\n",
       "      <td>dat/CRyPTIC2/V2/10/YA00044774/YA00044774/1/reg...</td>\n",
       "      <td>site.10.subj.YA00044774.lab.YA00044774.iso.1.v...</td>\n",
       "      <td></td>\n",
       "      <td>False</td>\n",
       "      <td>Lineage 4</td>\n",
       "      <td>lineage4.3.2.1</td>\n",
       "      <td>NO_ENA</td>\n",
       "      <td>site.10.iso.1.subject.YA00044774.lab_id.YA0004...</td>\n",
       "    </tr>\n",
       "    <tr>\n",
       "      <th>site.10.subj.YA00166043.lab.YA00166043.iso.1</th>\n",
       "      <td>10</td>\n",
       "      <td>YA00166043</td>\n",
       "      <td>YA00166043</td>\n",
       "      <td>1</td>\n",
       "      <td>1</td>\n",
       "      <td>True</td>\n",
       "      <td>True</td>\n",
       "      <td>True</td>\n",
       "      <td>0.8.3</td>\n",
       "      <td>True</td>\n",
       "      <td>False</td>\n",
       "      <td>1156.0</td>\n",
       "      <td>M. tuberculosis</td>\n",
       "      <td>Lineage 2</td>\n",
       "      <td></td>\n",
       "      <td>71.621622</td>\n",
       "      <td>5127</td>\n",
       "      <td>0</td>\n",
       "      <td>1156</td>\n",
       "      <td>112</td>\n",
       "      <td>0</td>\n",
       "      <td>14268</td>\n",
       "      <td>CRyPTIC</td>\n",
       "      <td>v1.31</td>\n",
       "      <td>XDR</td>\n",
       "      <td>RRURRRRRUSSSSSS</td>\n",
       "      <td>{'10-YA00166043-YA00166043-1-14': 'e151041dd9b...</td>\n",
       "      <td>/well/bag/jeffk/release_staging/</td>\n",
       "      <td>00/02/95/61/29561/site.10.iso.1.subject.YA0016...</td>\n",
       "      <td>dat/CRyPTIC2/V2/10/YA00166043/YA00166043/1/reg...</td>\n",
       "      <td>site.10.subj.YA00166043.lab.YA00166043.iso.1.v...</td>\n",
       "      <td></td>\n",
       "      <td>False</td>\n",
       "      <td>Lineage 2</td>\n",
       "      <td>lineage2.2.1</td>\n",
       "      <td>NO_ENA</td>\n",
       "      <td>site.10.iso.1.subject.YA00166043.lab_id.YA0016...</td>\n",
       "    </tr>\n",
       "  </tbody>\n",
       "</table>\n",
       "<p>77860 rows × 37 columns</p>\n",
       "</div>"
      ],
      "text/plain": [
       "                                                   SITEID            SUBJID   \n",
       "UNIQUEID                                                                      \n",
       "site.02.subj.0958.lab.22A197.iso.1                     02              0958  \\\n",
       "site.02.subj.0823.lab.2013241494.iso.1                 02              0823   \n",
       "site.02.subj.0359.lab.222018-14.iso.1                  02              0359   \n",
       "site.02.subj.0224.lab.2013221088.iso.1                 02              0224   \n",
       "site.02.subj.0918.lab.22A153.iso.1                     02              0918   \n",
       "...                                                   ...               ...   \n",
       "site.10.subj.YA00023171.lab.YA00023171.iso.1           10        YA00023171   \n",
       "site.10.subj.SADH00634109_S16.lab.DH00634109_S1...     10  SADH00634109_S16   \n",
       "site.10.subj.H37RV_SA2437.lab.H37RV_SA2437.iso.1       10      H37RV_SA2437   \n",
       "site.10.subj.YA00044774.lab.YA00044774.iso.1           10        YA00044774   \n",
       "site.10.subj.YA00166043.lab.YA00166043.iso.1           10        YA00166043   \n",
       "\n",
       "                                                             LABID  ISOLATENO   \n",
       "UNIQUEID                                                                        \n",
       "site.02.subj.0958.lab.22A197.iso.1                          22A197          1  \\\n",
       "site.02.subj.0823.lab.2013241494.iso.1                  2013241494          1   \n",
       "site.02.subj.0359.lab.222018-14.iso.1                    222018-14          1   \n",
       "site.02.subj.0224.lab.2013221088.iso.1                  2013221088          1   \n",
       "site.02.subj.0918.lab.22A153.iso.1                          22A153          1   \n",
       "...                                                            ...        ...   \n",
       "site.10.subj.YA00023171.lab.YA00023171.iso.1            YA00023171          1   \n",
       "site.10.subj.SADH00634109_S16.lab.DH00634109_S1...  DH00634109_S16          1   \n",
       "site.10.subj.H37RV_SA2437.lab.H37RV_SA2437.iso.1      H37RV_SA2437          1   \n",
       "site.10.subj.YA00044774.lab.YA00044774.iso.1            YA00044774          1   \n",
       "site.10.subj.YA00166043.lab.YA00166043.iso.1            YA00166043          1   \n",
       "\n",
       "                                                                SEQREPS   \n",
       "UNIQUEID                                                                  \n",
       "site.02.subj.0958.lab.22A197.iso.1                                  197  \\\n",
       "site.02.subj.0823.lab.2013241494.iso.1                           241494   \n",
       "site.02.subj.0359.lab.222018-14.iso.1                          14222018   \n",
       "site.02.subj.0224.lab.2013221088.iso.1              13221088_2013221088   \n",
       "site.02.subj.0918.lab.22A153.iso.1                                  153   \n",
       "...                                                                 ...   \n",
       "site.10.subj.YA00023171.lab.YA00023171.iso.1                          1   \n",
       "site.10.subj.SADH00634109_S16.lab.DH00634109_S1...                    1   \n",
       "site.10.subj.H37RV_SA2437.lab.H37RV_SA2437.iso.1                      1   \n",
       "site.10.subj.YA00044774.lab.YA00044774.iso.1                          1   \n",
       "site.10.subj.YA00166043.lab.YA00166043.iso.1                          1   \n",
       "\n",
       "                                                    BELONGS_GPI   \n",
       "UNIQUEID                                                          \n",
       "site.02.subj.0958.lab.22A197.iso.1                         True  \\\n",
       "site.02.subj.0823.lab.2013241494.iso.1                     True   \n",
       "site.02.subj.0359.lab.222018-14.iso.1                      True   \n",
       "site.02.subj.0224.lab.2013221088.iso.1                     True   \n",
       "site.02.subj.0918.lab.22A153.iso.1                         True   \n",
       "...                                                         ...   \n",
       "site.10.subj.YA00023171.lab.YA00023171.iso.1               True   \n",
       "site.10.subj.SADH00634109_S16.lab.DH00634109_S1...        False   \n",
       "site.10.subj.H37RV_SA2437.lab.H37RV_SA2437.iso.1          False   \n",
       "site.10.subj.YA00044774.lab.YA00044774.iso.1               True   \n",
       "site.10.subj.YA00166043.lab.YA00166043.iso.1               True   \n",
       "\n",
       "                                                    PER_SAMPLE_VCF_PRESENT   \n",
       "UNIQUEID                                                                     \n",
       "site.02.subj.0958.lab.22A197.iso.1                                    True  \\\n",
       "site.02.subj.0823.lab.2013241494.iso.1                                True   \n",
       "site.02.subj.0359.lab.222018-14.iso.1                                 True   \n",
       "site.02.subj.0224.lab.2013221088.iso.1                                True   \n",
       "site.02.subj.0918.lab.22A153.iso.1                                    True   \n",
       "...                                                                    ...   \n",
       "site.10.subj.YA00023171.lab.YA00023171.iso.1                          True   \n",
       "site.10.subj.SADH00634109_S16.lab.DH00634109_S1...                    True   \n",
       "site.10.subj.H37RV_SA2437.lab.H37RV_SA2437.iso.1                      True   \n",
       "site.10.subj.YA00044774.lab.YA00044774.iso.1                          True   \n",
       "site.10.subj.YA00166043.lab.YA00166043.iso.1                          True   \n",
       "\n",
       "                                                    REGENOTYPED_VCF_PRESENT   \n",
       "UNIQUEID                                                                      \n",
       "site.02.subj.0958.lab.22A197.iso.1                                     True  \\\n",
       "site.02.subj.0823.lab.2013241494.iso.1                                 True   \n",
       "site.02.subj.0359.lab.222018-14.iso.1                                  True   \n",
       "site.02.subj.0224.lab.2013221088.iso.1                                 True   \n",
       "site.02.subj.0918.lab.22A153.iso.1                                     True   \n",
       "...                                                                     ...   \n",
       "site.10.subj.YA00023171.lab.YA00023171.iso.1                           True   \n",
       "site.10.subj.SADH00634109_S16.lab.DH00634109_S1...                    False   \n",
       "site.10.subj.H37RV_SA2437.lab.H37RV_SA2437.iso.1                      False   \n",
       "site.10.subj.YA00044774.lab.YA00044774.iso.1                           True   \n",
       "site.10.subj.YA00166043.lab.YA00166043.iso.1                           True   \n",
       "\n",
       "                                                   CLOCKWORK_VERSION   \n",
       "UNIQUEID                                                               \n",
       "site.02.subj.0958.lab.22A197.iso.1                             0.8.3  \\\n",
       "site.02.subj.0823.lab.2013241494.iso.1                         0.8.3   \n",
       "site.02.subj.0359.lab.222018-14.iso.1                          0.8.3   \n",
       "site.02.subj.0224.lab.2013221088.iso.1                         0.8.3   \n",
       "site.02.subj.0918.lab.22A153.iso.1                             0.8.3   \n",
       "...                                                              ...   \n",
       "site.10.subj.YA00023171.lab.YA00023171.iso.1                   0.8.3   \n",
       "site.10.subj.SADH00634109_S16.lab.DH00634109_S1...             0.8.3   \n",
       "site.10.subj.H37RV_SA2437.lab.H37RV_SA2437.iso.1               0.8.3   \n",
       "site.10.subj.YA00044774.lab.YA00044774.iso.1                   0.8.3   \n",
       "site.10.subj.YA00166043.lab.YA00166043.iso.1                   0.8.3   \n",
       "\n",
       "                                                    TBI_INDEX  KMER_COUNTS   \n",
       "UNIQUEID                                                                     \n",
       "site.02.subj.0958.lab.22A197.iso.1                       True        False  \\\n",
       "site.02.subj.0823.lab.2013241494.iso.1                   True        False   \n",
       "site.02.subj.0359.lab.222018-14.iso.1                    True        False   \n",
       "site.02.subj.0224.lab.2013221088.iso.1                   True        False   \n",
       "site.02.subj.0918.lab.22A153.iso.1                       True        False   \n",
       "...                                                       ...          ...   \n",
       "site.10.subj.YA00023171.lab.YA00023171.iso.1             True        False   \n",
       "site.10.subj.SADH00634109_S16.lab.DH00634109_S1...       True         True   \n",
       "site.10.subj.H37RV_SA2437.lab.H37RV_SA2437.iso.1         True         True   \n",
       "site.10.subj.YA00044774.lab.YA00044774.iso.1             True        False   \n",
       "site.10.subj.YA00166043.lab.YA00166043.iso.1             True        False   \n",
       "\n",
       "                                                    SNP_DISTANCE_TO_H37rV   \n",
       "UNIQUEID                                                                    \n",
       "site.02.subj.0958.lab.22A197.iso.1                                 1154.0  \\\n",
       "site.02.subj.0823.lab.2013241494.iso.1                              388.0   \n",
       "site.02.subj.0359.lab.222018-14.iso.1                              1147.0   \n",
       "site.02.subj.0224.lab.2013221088.iso.1                             1193.0   \n",
       "site.02.subj.0918.lab.22A153.iso.1                                 1163.0   \n",
       "...                                                                   ...   \n",
       "site.10.subj.YA00023171.lab.YA00023171.iso.1                        693.0   \n",
       "site.10.subj.SADH00634109_S16.lab.DH00634109_S1...                    NaN   \n",
       "site.10.subj.H37RV_SA2437.lab.H37RV_SA2437.iso.1                      NaN   \n",
       "site.10.subj.YA00044774.lab.YA00044774.iso.1                        668.0   \n",
       "site.10.subj.YA00166043.lab.YA00166043.iso.1                       1156.0   \n",
       "\n",
       "                                                            SPECIES   \n",
       "UNIQUEID                                                              \n",
       "site.02.subj.0958.lab.22A197.iso.1                  M. tuberculosis  \\\n",
       "site.02.subj.0823.lab.2013241494.iso.1              M. tuberculosis   \n",
       "site.02.subj.0359.lab.222018-14.iso.1               M. tuberculosis   \n",
       "site.02.subj.0224.lab.2013221088.iso.1              M. tuberculosis   \n",
       "site.02.subj.0918.lab.22A153.iso.1                  M. tuberculosis   \n",
       "...                                                             ...   \n",
       "site.10.subj.YA00023171.lab.YA00023171.iso.1        M. tuberculosis   \n",
       "site.10.subj.SADH00634109_S16.lab.DH00634109_S1...                    \n",
       "site.10.subj.H37RV_SA2437.lab.H37RV_SA2437.iso.1                      \n",
       "site.10.subj.YA00044774.lab.YA00044774.iso.1        M. tuberculosis   \n",
       "site.10.subj.YA00166043.lab.YA00166043.iso.1        M. tuberculosis   \n",
       "\n",
       "                                                   LINEAGE_NAME   \n",
       "UNIQUEID                                                          \n",
       "site.02.subj.0958.lab.22A197.iso.1                    Lineage 2  \\\n",
       "site.02.subj.0823.lab.2013241494.iso.1                Lineage 4   \n",
       "site.02.subj.0359.lab.222018-14.iso.1                 Lineage 2   \n",
       "site.02.subj.0224.lab.2013221088.iso.1                Lineage 2   \n",
       "site.02.subj.0918.lab.22A153.iso.1                    Lineage 2   \n",
       "...                                                         ...   \n",
       "site.10.subj.YA00023171.lab.YA00023171.iso.1          Lineage 4   \n",
       "site.10.subj.SADH00634109_S16.lab.DH00634109_S1...                \n",
       "site.10.subj.H37RV_SA2437.lab.H37RV_SA2437.iso.1                  \n",
       "site.10.subj.YA00044774.lab.YA00044774.iso.1          Lineage 4   \n",
       "site.10.subj.YA00166043.lab.YA00166043.iso.1          Lineage 2   \n",
       "\n",
       "                                                   SUBLINEAGE_NAME   \n",
       "UNIQUEID                                                             \n",
       "site.02.subj.0958.lab.22A197.iso.1                                  \\\n",
       "site.02.subj.0823.lab.2013241494.iso.1                               \n",
       "site.02.subj.0359.lab.222018-14.iso.1                                \n",
       "site.02.subj.0224.lab.2013221088.iso.1                               \n",
       "site.02.subj.0918.lab.22A153.iso.1                                   \n",
       "...                                                            ...   \n",
       "site.10.subj.YA00023171.lab.YA00023171.iso.1                   LAM   \n",
       "site.10.subj.SADH00634109_S16.lab.DH00634109_S1...                   \n",
       "site.10.subj.H37RV_SA2437.lab.H37RV_SA2437.iso.1                     \n",
       "site.10.subj.YA00044774.lab.YA00044774.iso.1                   LAM   \n",
       "site.10.subj.YA00166043.lab.YA00166043.iso.1                         \n",
       "\n",
       "                                                    LINEAGE_PERCENTAGE   \n",
       "UNIQUEID                                                                 \n",
       "site.02.subj.0958.lab.22A197.iso.1                           71.283784  \\\n",
       "site.02.subj.0823.lab.2013241494.iso.1                       95.705521   \n",
       "site.02.subj.0359.lab.222018-14.iso.1                        95.608108   \n",
       "site.02.subj.0224.lab.2013221088.iso.1                       96.621622   \n",
       "site.02.subj.0918.lab.22A153.iso.1                           96.283784   \n",
       "...                                                                ...   \n",
       "site.10.subj.YA00023171.lab.YA00023171.iso.1                100.000000   \n",
       "site.10.subj.SADH00634109_S16.lab.DH00634109_S1...                 NaN   \n",
       "site.10.subj.H37RV_SA2437.lab.H37RV_SA2437.iso.1                   NaN   \n",
       "site.10.subj.YA00044774.lab.YA00044774.iso.1                100.000000   \n",
       "site.10.subj.YA00166043.lab.YA00166043.iso.1                 71.621622   \n",
       "\n",
       "                                                    N_NULL  N_SNP  N_INDEL   \n",
       "UNIQUEID                                                                     \n",
       "site.02.subj.0958.lab.22A197.iso.1                    4934      0     1154  \\\n",
       "site.02.subj.0823.lab.2013241494.iso.1                2250      0      388   \n",
       "site.02.subj.0359.lab.222018-14.iso.1                 3578      0     1147   \n",
       "site.02.subj.0224.lab.2013221088.iso.1                3529      0     1193   \n",
       "site.02.subj.0918.lab.22A153.iso.1                    4736      0     1163   \n",
       "...                                                    ...    ...      ...   \n",
       "site.10.subj.YA00023171.lab.YA00023171.iso.1          5911      0      693   \n",
       "site.10.subj.SADH00634109_S16.lab.DH00634109_S1...     317      0      700   \n",
       "site.10.subj.H37RV_SA2437.lab.H37RV_SA2437.iso.1        44      0       34   \n",
       "site.10.subj.YA00044774.lab.YA00044774.iso.1         13671      0      668   \n",
       "site.10.subj.YA00166043.lab.YA00166043.iso.1          5127      0     1156   \n",
       "\n",
       "                                                    N_FILTER_FAIL  N_REF   \n",
       "UNIQUEID                                                                   \n",
       "site.02.subj.0958.lab.22A197.iso.1                            104      0  \\\n",
       "site.02.subj.0823.lab.2013241494.iso.1                         43      0   \n",
       "site.02.subj.0359.lab.222018-14.iso.1                         118      0   \n",
       "site.02.subj.0224.lab.2013221088.iso.1                        104      0   \n",
       "site.02.subj.0918.lab.22A153.iso.1                            121      0   \n",
       "...                                                           ...    ...   \n",
       "site.10.subj.YA00023171.lab.YA00023171.iso.1                   55      0   \n",
       "site.10.subj.SADH00634109_S16.lab.DH00634109_S1...             63      0   \n",
       "site.10.subj.H37RV_SA2437.lab.H37RV_SA2437.iso.1               16      0   \n",
       "site.10.subj.YA00044774.lab.YA00044774.iso.1                   60      0   \n",
       "site.10.subj.YA00166043.lab.YA00166043.iso.1                  112      0   \n",
       "\n",
       "                                                    N_HET CATALOGUE_NAME   \n",
       "UNIQUEID                                                                   \n",
       "site.02.subj.0958.lab.22A197.iso.1                  14329        CRyPTIC  \\\n",
       "site.02.subj.0823.lab.2013241494.iso.1               9442        CRyPTIC   \n",
       "site.02.subj.0359.lab.222018-14.iso.1               13038        CRyPTIC   \n",
       "site.02.subj.0224.lab.2013221088.iso.1              13201        CRyPTIC   \n",
       "site.02.subj.0918.lab.22A153.iso.1                  13970        CRyPTIC   \n",
       "...                                                   ...            ...   \n",
       "site.10.subj.YA00023171.lab.YA00023171.iso.1        11874        CRyPTIC   \n",
       "site.10.subj.SADH00634109_S16.lab.DH00634109_S1...     32        CRyPTIC   \n",
       "site.10.subj.H37RV_SA2437.lab.H37RV_SA2437.iso.1        1        CRyPTIC   \n",
       "site.10.subj.YA00044774.lab.YA00044774.iso.1        35563        CRyPTIC   \n",
       "site.10.subj.YA00166043.lab.YA00166043.iso.1        14268        CRyPTIC   \n",
       "\n",
       "                                                   CATALOGUE_VERSION   \n",
       "UNIQUEID                                                               \n",
       "site.02.subj.0958.lab.22A197.iso.1                             v1.31  \\\n",
       "site.02.subj.0823.lab.2013241494.iso.1                         v1.31   \n",
       "site.02.subj.0359.lab.222018-14.iso.1                          v1.31   \n",
       "site.02.subj.0224.lab.2013221088.iso.1                         v1.31   \n",
       "site.02.subj.0918.lab.22A153.iso.1                             v1.31   \n",
       "...                                                              ...   \n",
       "site.10.subj.YA00023171.lab.YA00023171.iso.1                   v1.31   \n",
       "site.10.subj.SADH00634109_S16.lab.DH00634109_S1...             v1.31   \n",
       "site.10.subj.H37RV_SA2437.lab.H37RV_SA2437.iso.1               v1.31   \n",
       "site.10.subj.YA00044774.lab.YA00044774.iso.1                   v1.31   \n",
       "site.10.subj.YA00166043.lab.YA00166043.iso.1                   v1.31   \n",
       "\n",
       "                                                   TB_TYPE_1   \n",
       "UNIQUEID                                                       \n",
       "site.02.subj.0958.lab.22A197.iso.1                       MDR  \\\n",
       "site.02.subj.0823.lab.2013241494.iso.1                   UNK   \n",
       "site.02.subj.0359.lab.222018-14.iso.1                    UNK   \n",
       "site.02.subj.0224.lab.2013221088.iso.1                   SUS   \n",
       "site.02.subj.0918.lab.22A153.iso.1                       MDR   \n",
       "...                                                      ...   \n",
       "site.10.subj.YA00023171.lab.YA00023171.iso.1             SUS   \n",
       "site.10.subj.SADH00634109_S16.lab.DH00634109_S1...       SUS   \n",
       "site.10.subj.H37RV_SA2437.lab.H37RV_SA2437.iso.1         SUS   \n",
       "site.10.subj.YA00044774.lab.YA00044774.iso.1             SUS   \n",
       "site.10.subj.YA00166043.lab.YA00166043.iso.1             XDR   \n",
       "\n",
       "                                                   WGS_PREDICTION_STRING   \n",
       "UNIQUEID                                                                   \n",
       "site.02.subj.0958.lab.22A197.iso.1                       RRURRRSSSSSSSSS  \\\n",
       "site.02.subj.0823.lab.2013241494.iso.1                   UUSUSSSSSSSSSSS   \n",
       "site.02.subj.0359.lab.222018-14.iso.1                    SUSSSSSSUSSSSSS   \n",
       "site.02.subj.0224.lab.2013221088.iso.1                   SSSSSSSSSSSSSSS   \n",
       "site.02.subj.0918.lab.22A153.iso.1                       RRRRSSUSUSSSSSS   \n",
       "...                                                                  ...   \n",
       "site.10.subj.YA00023171.lab.YA00023171.iso.1             SSSSSSUSSSSSSSS   \n",
       "site.10.subj.SADH00634109_S16.lab.DH00634109_S1...       SSSSSSSSSSSSSSS   \n",
       "site.10.subj.H37RV_SA2437.lab.H37RV_SA2437.iso.1         SSSSSSSSSSSSSSS   \n",
       "site.10.subj.YA00044774.lab.YA00044774.iso.1             SSSSSSUSSSSSSSS   \n",
       "site.10.subj.YA00166043.lab.YA00166043.iso.1             RRURRRRRUSSSSSS   \n",
       "\n",
       "                                                                                         IMAGE_MD5SUM   \n",
       "UNIQUEID                                                                                                \n",
       "site.02.subj.0958.lab.22A197.iso.1                  {'02-0958-22A197-1-14': 'a587bac9ad2a0ebd36274...  \\\n",
       "site.02.subj.0823.lab.2013241494.iso.1              {'02-0823-2013241494-1-14': '698507bed7ff19268...   \n",
       "site.02.subj.0359.lab.222018-14.iso.1               {'02-0359-222018-14-1-14': '39c28529c7564ce379...   \n",
       "site.02.subj.0224.lab.2013221088.iso.1                                                                  \n",
       "site.02.subj.0918.lab.22A153.iso.1                  {'02-0918-22A153-1-14': 'b48e27b23f8377c209854...   \n",
       "...                                                                                               ...   \n",
       "site.10.subj.YA00023171.lab.YA00023171.iso.1        {'10-YA00023171-YA00023171-1-7': 'da79aa0564b0...   \n",
       "site.10.subj.SADH00634109_S16.lab.DH00634109_S1...                                                      \n",
       "site.10.subj.H37RV_SA2437.lab.H37RV_SA2437.iso.1                                                        \n",
       "site.10.subj.YA00044774.lab.YA00044774.iso.1        {'10-YA00044774-YA00044774-1-14': 'd3917b6c0c2...   \n",
       "site.10.subj.YA00166043.lab.YA00166043.iso.1        {'10-YA00166043-YA00166043-1-14': 'e151041dd9b...   \n",
       "\n",
       "                                                                            FTP_PATH   \n",
       "UNIQUEID                                                                               \n",
       "site.02.subj.0958.lab.22A197.iso.1                  /well/bag/jeffk/release_staging/  \\\n",
       "site.02.subj.0823.lab.2013241494.iso.1              /well/bag/jeffk/release_staging/   \n",
       "site.02.subj.0359.lab.222018-14.iso.1               /well/bag/jeffk/release_staging/   \n",
       "site.02.subj.0224.lab.2013221088.iso.1              /well/bag/jeffk/release_staging/   \n",
       "site.02.subj.0918.lab.22A153.iso.1                  /well/bag/jeffk/release_staging/   \n",
       "...                                                                              ...   \n",
       "site.10.subj.YA00023171.lab.YA00023171.iso.1        /well/bag/jeffk/release_staging/   \n",
       "site.10.subj.SADH00634109_S16.lab.DH00634109_S1...  /well/bag/jeffk/release_staging/   \n",
       "site.10.subj.H37RV_SA2437.lab.H37RV_SA2437.iso.1    /well/bag/jeffk/release_staging/   \n",
       "site.10.subj.YA00044774.lab.YA00044774.iso.1        /well/bag/jeffk/release_staging/   \n",
       "site.10.subj.YA00166043.lab.YA00166043.iso.1        /well/bag/jeffk/release_staging/   \n",
       "\n",
       "                                                                                     FTP_FILENAME_VCF   \n",
       "UNIQUEID                                                                                                \n",
       "site.02.subj.0958.lab.22A197.iso.1                  00/01/41/00/14100/site.02.iso.1.subject.0958.l...  \\\n",
       "site.02.subj.0823.lab.2013241494.iso.1              00/01/41/43/14143/site.02.iso.1.subject.0823.l...   \n",
       "site.02.subj.0359.lab.222018-14.iso.1               00/01/08/73/10873/site.02.iso.1.subject.0359.l...   \n",
       "site.02.subj.0224.lab.2013221088.iso.1              00/01/13/37/11337/site.02.iso.1.subject.0224.l...   \n",
       "site.02.subj.0918.lab.22A153.iso.1                  00/01/40/62/14062/site.02.iso.1.subject.0918.l...   \n",
       "...                                                                                               ...   \n",
       "site.10.subj.YA00023171.lab.YA00023171.iso.1        00/00/31/24/3124/site.10.iso.1.subject.YA00023...   \n",
       "site.10.subj.SADH00634109_S16.lab.DH00634109_S1...  00/00/81/50/8150/site.10.iso.1.subject.SADH006...   \n",
       "site.10.subj.H37RV_SA2437.lab.H37RV_SA2437.iso.1    00/01/45/29/14529/site.10.iso.1.subject.H37Rv_...   \n",
       "site.10.subj.YA00044774.lab.YA00044774.iso.1        00/01/42/55/14255/site.10.iso.1.subject.YA0004...   \n",
       "site.10.subj.YA00166043.lab.YA00166043.iso.1        00/02/95/61/29561/site.10.iso.1.subject.YA0016...   \n",
       "\n",
       "                                                                                            TREE_PATH   \n",
       "UNIQUEID                                                                                                \n",
       "site.02.subj.0958.lab.22A197.iso.1                      dat/CRyPTIC2/V2/02/0958/22A197/1/regenotyped/  \\\n",
       "site.02.subj.0823.lab.2013241494.iso.1              dat/CRyPTIC2/V2/02/0823/2013241494/1/regenotyped/   \n",
       "site.02.subj.0359.lab.222018-14.iso.1                dat/CRyPTIC2/V2/02/0359/222018-14/1/regenotyped/   \n",
       "site.02.subj.0224.lab.2013221088.iso.1              dat/CRyPTIC2/V2/02/0224/2013221088/1/regenotyped/   \n",
       "site.02.subj.0918.lab.22A153.iso.1                      dat/CRyPTIC2/V2/02/0918/22A153/1/regenotyped/   \n",
       "...                                                                                               ...   \n",
       "site.10.subj.YA00023171.lab.YA00023171.iso.1        dat/CRyPTIC2/V2/10/YA00023171/YA00023171/1/reg...   \n",
       "site.10.subj.SADH00634109_S16.lab.DH00634109_S1...  dat/CRyPTIC2/V2/10/SADH00634109_S16/DH00634109...   \n",
       "site.10.subj.H37RV_SA2437.lab.H37RV_SA2437.iso.1    dat/CRyPTIC2/V2/10/H37RV_SA2437/H37RV_SA2437/1...   \n",
       "site.10.subj.YA00044774.lab.YA00044774.iso.1        dat/CRyPTIC2/V2/10/YA00044774/YA00044774/1/reg...   \n",
       "site.10.subj.YA00166043.lab.YA00166043.iso.1        dat/CRyPTIC2/V2/10/YA00166043/YA00166043/1/reg...   \n",
       "\n",
       "                                                                                    TREE_FILENAME_VCF   \n",
       "UNIQUEID                                                                                                \n",
       "site.02.subj.0958.lab.22A197.iso.1                  site.02.subj.0958.lab.22A197.iso.1.v0.8.3.rege...  \\\n",
       "site.02.subj.0823.lab.2013241494.iso.1              site.02.subj.0823.lab.2013241494.iso.1.v0.8.3....   \n",
       "site.02.subj.0359.lab.222018-14.iso.1               site.02.subj.0359.lab.222018-14.iso.1.v0.8.3.r...   \n",
       "site.02.subj.0224.lab.2013221088.iso.1              site.02.subj.0224.lab.2013221088.iso.1.v0.8.3....   \n",
       "site.02.subj.0918.lab.22A153.iso.1                  site.02.subj.0918.lab.22A153.iso.1.v0.8.3.rege...   \n",
       "...                                                                                               ...   \n",
       "site.10.subj.YA00023171.lab.YA00023171.iso.1        site.10.subj.YA00023171.lab.YA00023171.iso.1.v...   \n",
       "site.10.subj.SADH00634109_S16.lab.DH00634109_S1...  site.10.subj.SADH00634109_S16.lab.DH00634109_S...   \n",
       "site.10.subj.H37RV_SA2437.lab.H37RV_SA2437.iso.1    site.10.subj.H37RV_SA2437.lab.H37RV_SA2437.iso...   \n",
       "site.10.subj.YA00044774.lab.YA00044774.iso.1        site.10.subj.YA00044774.lab.YA00044774.iso.1.v...   \n",
       "site.10.subj.YA00166043.lab.YA00166043.iso.1        site.10.subj.YA00166043.lab.YA00166043.iso.1.v...   \n",
       "\n",
       "                                                   FASTQ_MD5SUMS   \n",
       "UNIQUEID                                                           \n",
       "site.02.subj.0958.lab.22A197.iso.1                                \\\n",
       "site.02.subj.0823.lab.2013241494.iso.1                             \n",
       "site.02.subj.0359.lab.222018-14.iso.1                              \n",
       "site.02.subj.0224.lab.2013221088.iso.1                             \n",
       "site.02.subj.0918.lab.22A153.iso.1                                 \n",
       "...                                                          ...   \n",
       "site.10.subj.YA00023171.lab.YA00023171.iso.1                       \n",
       "site.10.subj.SADH00634109_S16.lab.DH00634109_S1...                 \n",
       "site.10.subj.H37RV_SA2437.lab.H37RV_SA2437.iso.1                   \n",
       "site.10.subj.YA00044774.lab.YA00044774.iso.1                       \n",
       "site.10.subj.YA00166043.lab.YA00166043.iso.1                       \n",
       "\n",
       "                                                   SEQTREAT_SAMPLE   \n",
       "UNIQUEID                                                             \n",
       "site.02.subj.0958.lab.22A197.iso.1                           False  \\\n",
       "site.02.subj.0823.lab.2013241494.iso.1                       False   \n",
       "site.02.subj.0359.lab.222018-14.iso.1                        False   \n",
       "site.02.subj.0224.lab.2013221088.iso.1                       False   \n",
       "site.02.subj.0918.lab.22A153.iso.1                           False   \n",
       "...                                                            ...   \n",
       "site.10.subj.YA00023171.lab.YA00023171.iso.1                 False   \n",
       "site.10.subj.SADH00634109_S16.lab.DH00634109_S1...           False   \n",
       "site.10.subj.H37RV_SA2437.lab.H37RV_SA2437.iso.1             False   \n",
       "site.10.subj.YA00044774.lab.YA00044774.iso.1                 False   \n",
       "site.10.subj.YA00166043.lab.YA00166043.iso.1                 False   \n",
       "\n",
       "                                                   MYKROBE_LINEAGE_NAME_1   \n",
       "UNIQUEID                                                                    \n",
       "site.02.subj.0958.lab.22A197.iso.1                              Lineage 2  \\\n",
       "site.02.subj.0823.lab.2013241494.iso.1                          Lineage 2   \n",
       "site.02.subj.0359.lab.222018-14.iso.1                           Lineage 2   \n",
       "site.02.subj.0224.lab.2013221088.iso.1                          Lineage 2   \n",
       "site.02.subj.0918.lab.22A153.iso.1                              Lineage 2   \n",
       "...                                                                   ...   \n",
       "site.10.subj.YA00023171.lab.YA00023171.iso.1                    Lineage 4   \n",
       "site.10.subj.SADH00634109_S16.lab.DH00634109_S1...              Lineage 4   \n",
       "site.10.subj.H37RV_SA2437.lab.H37RV_SA2437.iso.1                Lineage 4   \n",
       "site.10.subj.YA00044774.lab.YA00044774.iso.1                    Lineage 4   \n",
       "site.10.subj.YA00166043.lab.YA00166043.iso.1                    Lineage 2   \n",
       "\n",
       "                                                   MYKROBE_LINEAGE_NAME_2   \n",
       "UNIQUEID                                                                    \n",
       "site.02.subj.0958.lab.22A197.iso.1                           lineage2.2.1  \\\n",
       "site.02.subj.0823.lab.2013241494.iso.1                       lineage2.2.3   \n",
       "site.02.subj.0359.lab.222018-14.iso.1                        lineage2.2.3   \n",
       "site.02.subj.0224.lab.2013221088.iso.1                       lineage2.2.5   \n",
       "site.02.subj.0918.lab.22A153.iso.1                           lineage2.2.3   \n",
       "...                                                                   ...   \n",
       "site.10.subj.YA00023171.lab.YA00023171.iso.1               lineage4.3.2.1   \n",
       "site.10.subj.SADH00634109_S16.lab.DH00634109_S1...           lineage4.3.2   \n",
       "site.10.subj.H37RV_SA2437.lab.H37RV_SA2437.iso.1              lineage4.10   \n",
       "site.10.subj.YA00044774.lab.YA00044774.iso.1               lineage4.3.2.1   \n",
       "site.10.subj.YA00166043.lab.YA00166043.iso.1                 lineage2.2.1   \n",
       "\n",
       "                                                           ENA   \n",
       "UNIQUEID                                                         \n",
       "site.02.subj.0958.lab.22A197.iso.1                  ERS5301054  \\\n",
       "site.02.subj.0823.lab.2013241494.iso.1              ERS5301097   \n",
       "site.02.subj.0359.lab.222018-14.iso.1               ERS5298526   \n",
       "site.02.subj.0224.lab.2013221088.iso.1              ERS5300527   \n",
       "site.02.subj.0918.lab.22A153.iso.1                  ERS5301016   \n",
       "...                                                        ...   \n",
       "site.10.subj.YA00023171.lab.YA00023171.iso.1        ERS5298216   \n",
       "site.10.subj.SADH00634109_S16.lab.DH00634109_S1...  ERS2400531   \n",
       "site.10.subj.H37RV_SA2437.lab.H37RV_SA2437.iso.1        NO_ENA   \n",
       "site.10.subj.YA00044774.lab.YA00044774.iso.1            NO_ENA   \n",
       "site.10.subj.YA00166043.lab.YA00166043.iso.1            NO_ENA   \n",
       "\n",
       "                                                                                         ORIGINAL_UID  \n",
       "UNIQUEID                                                                                               \n",
       "site.02.subj.0958.lab.22A197.iso.1                  site.02.iso.1.subject.0958.lab_id.22A197.seq_r...  \n",
       "site.02.subj.0823.lab.2013241494.iso.1              site.02.iso.1.subject.0823.lab_id.2013241494.s...  \n",
       "site.02.subj.0359.lab.222018-14.iso.1               site.02.iso.1.subject.0359.lab_id.222018-14.se...  \n",
       "site.02.subj.0224.lab.2013221088.iso.1              site.02.iso.1.subject.0224.lab_id.2013221088.s...  \n",
       "site.02.subj.0918.lab.22A153.iso.1                  site.02.iso.1.subject.0918.lab_id.22A153.seq_r...  \n",
       "...                                                                                               ...  \n",
       "site.10.subj.YA00023171.lab.YA00023171.iso.1        site.10.iso.1.subject.YA00023171.lab_id.YA0002...  \n",
       "site.10.subj.SADH00634109_S16.lab.DH00634109_S1...                                               None  \n",
       "site.10.subj.H37RV_SA2437.lab.H37RV_SA2437.iso.1                                                 None  \n",
       "site.10.subj.YA00044774.lab.YA00044774.iso.1        site.10.iso.1.subject.YA00044774.lab_id.YA0004...  \n",
       "site.10.subj.YA00166043.lab.YA00166043.iso.1        site.10.iso.1.subject.YA00166043.lab_id.YA0016...  \n",
       "\n",
       "[77860 rows x 37 columns]"
      ]
     },
     "execution_count": 3,
     "metadata": {},
     "output_type": "execute_result"
    }
   ],
   "source": [
    "GENOMES = pandas.read_pickle('/Users/viktoriabrunner/Documents/Studium/PhD/DPhil/paper/tb-rnap-compensation/tb_rnap_compensation/tables/GENOMES.pkl.gz')\n",
    "GENOMES.reset_index(inplace=True)\n",
    "\n",
    "def create_original_uid(row):\n",
    "\n",
    "    filename = row.FTP_FILENAME_VCF\n",
    "\n",
    "    if '.regeno' in filename:\n",
    "        if filename[:5] != 'comas':\n",
    "            return('site'+filename.split('/site')[1].split('.regeno')[0])\n",
    "        else:\n",
    "            return(filename.split('comas_regeno/')[1].split('.regeno')[0])\n",
    "    else:\n",
    "        return None\n",
    "\n",
    "GENOMES['ORIGINAL_UID'] = GENOMES.apply(create_original_uid, axis=1)\n",
    "GENOMES.set_index('UNIQUEID', inplace=True)\n",
    "GENOMES\n"
   ]
  },
  {
   "cell_type": "code",
   "execution_count": null,
   "metadata": {},
   "outputs": [],
   "source": [
    "GENOMES."
   ]
  },
  {
   "cell_type": "markdown",
   "metadata": {},
   "source": [
    "Save UNIQUEIDs with inconclusive sequencing result in REMOVE list"
   ]
  },
  {
   "cell_type": "code",
   "execution_count": 4,
   "metadata": {
    "scrolled": true
   },
   "outputs": [
    {
     "data": {
      "text/plain": [
       "8                     site.02.subj.0823.lab.2013241494.iso.1\n",
       "9                     site.02.subj.0823.lab.2013241494.iso.1\n",
       "24                        site.02.subj.0085.lab.22A036.iso.1\n",
       "25                        site.02.subj.0085.lab.22A036.iso.1\n",
       "26                    site.02.subj.0830.lab.2013221279.iso.1\n",
       "                                 ...                        \n",
       "1074535    site.10.subj.SATRL0073861_S19.lab.TRL0073861_S...\n",
       "1074564         site.10.subj.YA00038960.lab.YA00038960.iso.1\n",
       "1074565         site.10.subj.YA00038960.lab.YA00038960.iso.1\n",
       "1074598         site.10.subj.YA00036589.lab.YA00036589.iso.1\n",
       "1074599         site.10.subj.YA00036589.lab.YA00036589.iso.1\n",
       "Name: UNIQUEID, Length: 158356, dtype: object"
      ]
     },
     "execution_count": 4,
     "metadata": {},
     "output_type": "execute_result"
    }
   ],
   "source": [
    "EFFECTS = pandas.read_pickle('/Users/viktoriabrunner/Documents/Studium/PhD/DPhil/paper/tb-rnap-compensation/tb_rnap_compensation/tables/EFFECTS.pkl.gz')\n",
    "EFFECTS.reset_index(inplace = True)\n",
    "REMOVE = EFFECTS[EFFECTS.MUTATION.str[-1].isin(['O','X'])].UNIQUEID\n",
    "REMOVE"
   ]
  },
  {
   "cell_type": "markdown",
   "metadata": {},
   "source": [
    "Make dataframe of all UNIQUEIDs that are classified as resistant"
   ]
  },
  {
   "cell_type": "markdown",
   "metadata": {},
   "source": [
    "Include other resistances ()"
   ]
  },
  {
   "cell_type": "code",
   "execution_count": 5,
   "metadata": {},
   "outputs": [
    {
     "data": {
      "text/html": [
       "<div>\n",
       "<style scoped>\n",
       "    .dataframe tbody tr th:only-of-type {\n",
       "        vertical-align: middle;\n",
       "    }\n",
       "\n",
       "    .dataframe tbody tr th {\n",
       "        vertical-align: top;\n",
       "    }\n",
       "\n",
       "    .dataframe thead th {\n",
       "        text-align: right;\n",
       "    }\n",
       "</style>\n",
       "<table border=\"1\" class=\"dataframe\">\n",
       "  <thead>\n",
       "    <tr style=\"text-align: right;\">\n",
       "      <th></th>\n",
       "      <th>UNIQUEID</th>\n",
       "      <th>DRUG</th>\n",
       "      <th>GENE</th>\n",
       "      <th>MUTATION</th>\n",
       "      <th>CATALOGUE_NAME</th>\n",
       "      <th>CATALOGUE_VERSION</th>\n",
       "      <th>CATALOGUE_GRAMMAR</th>\n",
       "      <th>SITEID</th>\n",
       "      <th>PREDICTION</th>\n",
       "      <th>DEFAULT_CATALOGUE</th>\n",
       "    </tr>\n",
       "  </thead>\n",
       "  <tbody>\n",
       "    <tr>\n",
       "      <th>0</th>\n",
       "      <td>site.02.subj.0958.lab.22A197.iso.1</td>\n",
       "      <td>RFB</td>\n",
       "      <td>rpoB</td>\n",
       "      <td>P45S</td>\n",
       "      <td>CRyPTIC</td>\n",
       "      <td>v1.31</td>\n",
       "      <td>GARC1</td>\n",
       "      <td>02</td>\n",
       "      <td>U</td>\n",
       "      <td>True</td>\n",
       "    </tr>\n",
       "    <tr>\n",
       "      <th>1</th>\n",
       "      <td>site.02.subj.0958.lab.22A197.iso.1</td>\n",
       "      <td>RIF</td>\n",
       "      <td>rpoB</td>\n",
       "      <td>P45S</td>\n",
       "      <td>CRyPTIC</td>\n",
       "      <td>v1.31</td>\n",
       "      <td>GARC1</td>\n",
       "      <td>02</td>\n",
       "      <td>U</td>\n",
       "      <td>True</td>\n",
       "    </tr>\n",
       "    <tr>\n",
       "      <th>2</th>\n",
       "      <td>site.02.subj.0958.lab.22A197.iso.1</td>\n",
       "      <td>RFB</td>\n",
       "      <td>rpoB</td>\n",
       "      <td>S450L</td>\n",
       "      <td>CRyPTIC</td>\n",
       "      <td>v1.31</td>\n",
       "      <td>GARC1</td>\n",
       "      <td>02</td>\n",
       "      <td>U</td>\n",
       "      <td>True</td>\n",
       "    </tr>\n",
       "    <tr>\n",
       "      <th>3</th>\n",
       "      <td>site.02.subj.0958.lab.22A197.iso.1</td>\n",
       "      <td>RIF</td>\n",
       "      <td>rpoB</td>\n",
       "      <td>S450L</td>\n",
       "      <td>CRyPTIC</td>\n",
       "      <td>v1.31</td>\n",
       "      <td>GARC1</td>\n",
       "      <td>02</td>\n",
       "      <td>R</td>\n",
       "      <td>True</td>\n",
       "    </tr>\n",
       "    <tr>\n",
       "      <th>4</th>\n",
       "      <td>site.02.subj.0958.lab.22A197.iso.1</td>\n",
       "      <td>RFB</td>\n",
       "      <td>rpoB</td>\n",
       "      <td>A1075A</td>\n",
       "      <td>CRyPTIC</td>\n",
       "      <td>v1.31</td>\n",
       "      <td>GARC1</td>\n",
       "      <td>02</td>\n",
       "      <td>S</td>\n",
       "      <td>True</td>\n",
       "    </tr>\n",
       "    <tr>\n",
       "      <th>...</th>\n",
       "      <td>...</td>\n",
       "      <td>...</td>\n",
       "      <td>...</td>\n",
       "      <td>...</td>\n",
       "      <td>...</td>\n",
       "      <td>...</td>\n",
       "      <td>...</td>\n",
       "      <td>...</td>\n",
       "      <td>...</td>\n",
       "      <td>...</td>\n",
       "    </tr>\n",
       "    <tr>\n",
       "      <th>1074679</th>\n",
       "      <td>site.10.subj.YA00044774.lab.YA00044774.iso.1</td>\n",
       "      <td>RFB</td>\n",
       "      <td>rpoC</td>\n",
       "      <td>A542A</td>\n",
       "      <td>CRyPTIC</td>\n",
       "      <td>v1.31</td>\n",
       "      <td>GARC1</td>\n",
       "      <td>10</td>\n",
       "      <td>S</td>\n",
       "      <td>True</td>\n",
       "    </tr>\n",
       "    <tr>\n",
       "      <th>1074680</th>\n",
       "      <td>site.10.subj.YA00166043.lab.YA00166043.iso.1</td>\n",
       "      <td>RIF</td>\n",
       "      <td>rpoB</td>\n",
       "      <td>D435V</td>\n",
       "      <td>CRyPTIC</td>\n",
       "      <td>v1.31</td>\n",
       "      <td>GARC1</td>\n",
       "      <td>10</td>\n",
       "      <td>R</td>\n",
       "      <td>True</td>\n",
       "    </tr>\n",
       "    <tr>\n",
       "      <th>1074681</th>\n",
       "      <td>site.10.subj.YA00166043.lab.YA00166043.iso.1</td>\n",
       "      <td>RFB</td>\n",
       "      <td>rpoB</td>\n",
       "      <td>D435V</td>\n",
       "      <td>CRyPTIC</td>\n",
       "      <td>v1.31</td>\n",
       "      <td>GARC1</td>\n",
       "      <td>10</td>\n",
       "      <td>U</td>\n",
       "      <td>True</td>\n",
       "    </tr>\n",
       "    <tr>\n",
       "      <th>1074682</th>\n",
       "      <td>site.10.subj.YA00166043.lab.YA00166043.iso.1</td>\n",
       "      <td>RIF</td>\n",
       "      <td>rpoB</td>\n",
       "      <td>A1075A</td>\n",
       "      <td>CRyPTIC</td>\n",
       "      <td>v1.31</td>\n",
       "      <td>GARC1</td>\n",
       "      <td>10</td>\n",
       "      <td>S</td>\n",
       "      <td>True</td>\n",
       "    </tr>\n",
       "    <tr>\n",
       "      <th>1074683</th>\n",
       "      <td>site.10.subj.YA00166043.lab.YA00166043.iso.1</td>\n",
       "      <td>RFB</td>\n",
       "      <td>rpoB</td>\n",
       "      <td>A1075A</td>\n",
       "      <td>CRyPTIC</td>\n",
       "      <td>v1.31</td>\n",
       "      <td>GARC1</td>\n",
       "      <td>10</td>\n",
       "      <td>S</td>\n",
       "      <td>True</td>\n",
       "    </tr>\n",
       "  </tbody>\n",
       "</table>\n",
       "<p>1074684 rows × 10 columns</p>\n",
       "</div>"
      ],
      "text/plain": [
       "                                             UNIQUEID DRUG  GENE MUTATION   \n",
       "0                  site.02.subj.0958.lab.22A197.iso.1  RFB  rpoB     P45S  \\\n",
       "1                  site.02.subj.0958.lab.22A197.iso.1  RIF  rpoB     P45S   \n",
       "2                  site.02.subj.0958.lab.22A197.iso.1  RFB  rpoB    S450L   \n",
       "3                  site.02.subj.0958.lab.22A197.iso.1  RIF  rpoB    S450L   \n",
       "4                  site.02.subj.0958.lab.22A197.iso.1  RFB  rpoB   A1075A   \n",
       "...                                               ...  ...   ...      ...   \n",
       "1074679  site.10.subj.YA00044774.lab.YA00044774.iso.1  RFB  rpoC    A542A   \n",
       "1074680  site.10.subj.YA00166043.lab.YA00166043.iso.1  RIF  rpoB    D435V   \n",
       "1074681  site.10.subj.YA00166043.lab.YA00166043.iso.1  RFB  rpoB    D435V   \n",
       "1074682  site.10.subj.YA00166043.lab.YA00166043.iso.1  RIF  rpoB   A1075A   \n",
       "1074683  site.10.subj.YA00166043.lab.YA00166043.iso.1  RFB  rpoB   A1075A   \n",
       "\n",
       "        CATALOGUE_NAME CATALOGUE_VERSION CATALOGUE_GRAMMAR SITEID PREDICTION   \n",
       "0              CRyPTIC             v1.31             GARC1     02          U  \\\n",
       "1              CRyPTIC             v1.31             GARC1     02          U   \n",
       "2              CRyPTIC             v1.31             GARC1     02          U   \n",
       "3              CRyPTIC             v1.31             GARC1     02          R   \n",
       "4              CRyPTIC             v1.31             GARC1     02          S   \n",
       "...                ...               ...               ...    ...        ...   \n",
       "1074679        CRyPTIC             v1.31             GARC1     10          S   \n",
       "1074680        CRyPTIC             v1.31             GARC1     10          R   \n",
       "1074681        CRyPTIC             v1.31             GARC1     10          U   \n",
       "1074682        CRyPTIC             v1.31             GARC1     10          S   \n",
       "1074683        CRyPTIC             v1.31             GARC1     10          S   \n",
       "\n",
       "         DEFAULT_CATALOGUE  \n",
       "0                     True  \n",
       "1                     True  \n",
       "2                     True  \n",
       "3                     True  \n",
       "4                     True  \n",
       "...                    ...  \n",
       "1074679               True  \n",
       "1074680               True  \n",
       "1074681               True  \n",
       "1074682               True  \n",
       "1074683               True  \n",
       "\n",
       "[1074684 rows x 10 columns]"
      ]
     },
     "execution_count": 5,
     "metadata": {},
     "output_type": "execute_result"
    }
   ],
   "source": [
    "EFFECTS = pandas.read_pickle('/Users/viktoriabrunner/Documents/Studium/PhD/DPhil/paper/tb-rnap-compensation/tb_rnap_compensation/tables/EFFECTS.pkl.gz')\n",
    "EFFECTS.reset_index(inplace = True)\n",
    "EFFECTS"
   ]
  },
  {
   "cell_type": "code",
   "execution_count": 23,
   "metadata": {},
   "outputs": [
    {
     "data": {
      "text/html": [
       "<div>\n",
       "<style scoped>\n",
       "    .dataframe tbody tr th:only-of-type {\n",
       "        vertical-align: middle;\n",
       "    }\n",
       "\n",
       "    .dataframe tbody tr th {\n",
       "        vertical-align: top;\n",
       "    }\n",
       "\n",
       "    .dataframe thead th {\n",
       "        text-align: right;\n",
       "    }\n",
       "</style>\n",
       "<table border=\"1\" class=\"dataframe\">\n",
       "  <thead>\n",
       "    <tr style=\"text-align: right;\">\n",
       "      <th></th>\n",
       "      <th>GENE</th>\n",
       "      <th>MUTATION</th>\n",
       "      <th>POSITION</th>\n",
       "      <th>AMINO_ACID_NUMBER</th>\n",
       "      <th>GENOME_INDEX</th>\n",
       "      <th>NUCLEOTIDE_NUMBER</th>\n",
       "      <th>REF</th>\n",
       "      <th>ALT</th>\n",
       "      <th>IS_SNP</th>\n",
       "      <th>IS_INDEL</th>\n",
       "      <th>IN_CDS</th>\n",
       "      <th>IN_PROMOTER</th>\n",
       "      <th>IS_SYNONYMOUS</th>\n",
       "      <th>IS_NONSYNONYMOUS</th>\n",
       "      <th>IS_HET</th>\n",
       "      <th>IS_NULL</th>\n",
       "      <th>IS_FILTER_PASS</th>\n",
       "      <th>ELEMENT_TYPE</th>\n",
       "      <th>MUTATION_TYPE</th>\n",
       "      <th>INDEL_LENGTH</th>\n",
       "      <th>INDEL_1</th>\n",
       "      <th>INDEL_2</th>\n",
       "      <th>SITEID</th>\n",
       "      <th>NUMBER_NUCLEOTIDE_CHANGES</th>\n",
       "      <th>GENE_MUTATION</th>\n",
       "      <th>IS_RES</th>\n",
       "    </tr>\n",
       "    <tr>\n",
       "      <th>UNIQUEID</th>\n",
       "      <th></th>\n",
       "      <th></th>\n",
       "      <th></th>\n",
       "      <th></th>\n",
       "      <th></th>\n",
       "      <th></th>\n",
       "      <th></th>\n",
       "      <th></th>\n",
       "      <th></th>\n",
       "      <th></th>\n",
       "      <th></th>\n",
       "      <th></th>\n",
       "      <th></th>\n",
       "      <th></th>\n",
       "      <th></th>\n",
       "      <th></th>\n",
       "      <th></th>\n",
       "      <th></th>\n",
       "      <th></th>\n",
       "      <th></th>\n",
       "      <th></th>\n",
       "      <th></th>\n",
       "      <th></th>\n",
       "      <th></th>\n",
       "      <th></th>\n",
       "      <th></th>\n",
       "    </tr>\n",
       "  </thead>\n",
       "  <tbody>\n",
       "    <tr>\n",
       "      <th>site.02.subj.0958.lab.22A197.iso.1</th>\n",
       "      <td>rpoB</td>\n",
       "      <td>S450L</td>\n",
       "      <td>450.0</td>\n",
       "      <td>450.0</td>\n",
       "      <td>NaN</td>\n",
       "      <td>NaN</td>\n",
       "      <td>tcg</td>\n",
       "      <td>ttg</td>\n",
       "      <td>True</td>\n",
       "      <td>False</td>\n",
       "      <td>True</td>\n",
       "      <td>False</td>\n",
       "      <td>False</td>\n",
       "      <td>True</td>\n",
       "      <td>False</td>\n",
       "      <td>False</td>\n",
       "      <td>True</td>\n",
       "      <td>GENE</td>\n",
       "      <td>AAM</td>\n",
       "      <td>NaN</td>\n",
       "      <td></td>\n",
       "      <td></td>\n",
       "      <td>02</td>\n",
       "      <td>1</td>\n",
       "      <td>rpoB_S450L</td>\n",
       "      <td>True</td>\n",
       "    </tr>\n",
       "    <tr>\n",
       "      <th>site.02.subj.0918.lab.22A153.iso.1</th>\n",
       "      <td>rpoB</td>\n",
       "      <td>D435G</td>\n",
       "      <td>435.0</td>\n",
       "      <td>435.0</td>\n",
       "      <td>NaN</td>\n",
       "      <td>NaN</td>\n",
       "      <td>gac</td>\n",
       "      <td>ggc</td>\n",
       "      <td>True</td>\n",
       "      <td>False</td>\n",
       "      <td>True</td>\n",
       "      <td>False</td>\n",
       "      <td>False</td>\n",
       "      <td>True</td>\n",
       "      <td>False</td>\n",
       "      <td>False</td>\n",
       "      <td>True</td>\n",
       "      <td>GENE</td>\n",
       "      <td>AAM</td>\n",
       "      <td>NaN</td>\n",
       "      <td></td>\n",
       "      <td></td>\n",
       "      <td>02</td>\n",
       "      <td>1</td>\n",
       "      <td>rpoB_D435G</td>\n",
       "      <td>True</td>\n",
       "    </tr>\n",
       "    <tr>\n",
       "      <th>site.02.subj.1033.lab.2013185075.iso.1</th>\n",
       "      <td>rpoB</td>\n",
       "      <td>S450L</td>\n",
       "      <td>450.0</td>\n",
       "      <td>450.0</td>\n",
       "      <td>NaN</td>\n",
       "      <td>NaN</td>\n",
       "      <td>tcg</td>\n",
       "      <td>ttg</td>\n",
       "      <td>True</td>\n",
       "      <td>False</td>\n",
       "      <td>True</td>\n",
       "      <td>False</td>\n",
       "      <td>False</td>\n",
       "      <td>True</td>\n",
       "      <td>False</td>\n",
       "      <td>False</td>\n",
       "      <td>True</td>\n",
       "      <td>GENE</td>\n",
       "      <td>AAM</td>\n",
       "      <td>NaN</td>\n",
       "      <td></td>\n",
       "      <td></td>\n",
       "      <td>02</td>\n",
       "      <td>1</td>\n",
       "      <td>rpoB_S450L</td>\n",
       "      <td>True</td>\n",
       "    </tr>\n",
       "    <tr>\n",
       "      <th>site.02.subj.0739.lab.2013221518.iso.1</th>\n",
       "      <td>rpoB</td>\n",
       "      <td>S450L</td>\n",
       "      <td>450.0</td>\n",
       "      <td>450.0</td>\n",
       "      <td>NaN</td>\n",
       "      <td>NaN</td>\n",
       "      <td>tcg</td>\n",
       "      <td>ttg</td>\n",
       "      <td>True</td>\n",
       "      <td>False</td>\n",
       "      <td>True</td>\n",
       "      <td>False</td>\n",
       "      <td>False</td>\n",
       "      <td>True</td>\n",
       "      <td>False</td>\n",
       "      <td>False</td>\n",
       "      <td>True</td>\n",
       "      <td>GENE</td>\n",
       "      <td>AAM</td>\n",
       "      <td>NaN</td>\n",
       "      <td></td>\n",
       "      <td></td>\n",
       "      <td>02</td>\n",
       "      <td>1</td>\n",
       "      <td>rpoB_S450L</td>\n",
       "      <td>True</td>\n",
       "    </tr>\n",
       "    <tr>\n",
       "      <th>site.02.subj.0104.lab.22A057.iso.1</th>\n",
       "      <td>rpoB</td>\n",
       "      <td>S450L</td>\n",
       "      <td>450.0</td>\n",
       "      <td>450.0</td>\n",
       "      <td>NaN</td>\n",
       "      <td>NaN</td>\n",
       "      <td>tcg</td>\n",
       "      <td>ttg</td>\n",
       "      <td>True</td>\n",
       "      <td>False</td>\n",
       "      <td>True</td>\n",
       "      <td>False</td>\n",
       "      <td>False</td>\n",
       "      <td>True</td>\n",
       "      <td>False</td>\n",
       "      <td>False</td>\n",
       "      <td>True</td>\n",
       "      <td>GENE</td>\n",
       "      <td>AAM</td>\n",
       "      <td>NaN</td>\n",
       "      <td></td>\n",
       "      <td></td>\n",
       "      <td>02</td>\n",
       "      <td>1</td>\n",
       "      <td>rpoB_S450L</td>\n",
       "      <td>True</td>\n",
       "    </tr>\n",
       "    <tr>\n",
       "      <th>...</th>\n",
       "      <td>...</td>\n",
       "      <td>...</td>\n",
       "      <td>...</td>\n",
       "      <td>...</td>\n",
       "      <td>...</td>\n",
       "      <td>...</td>\n",
       "      <td>...</td>\n",
       "      <td>...</td>\n",
       "      <td>...</td>\n",
       "      <td>...</td>\n",
       "      <td>...</td>\n",
       "      <td>...</td>\n",
       "      <td>...</td>\n",
       "      <td>...</td>\n",
       "      <td>...</td>\n",
       "      <td>...</td>\n",
       "      <td>...</td>\n",
       "      <td>...</td>\n",
       "      <td>...</td>\n",
       "      <td>...</td>\n",
       "      <td>...</td>\n",
       "      <td>...</td>\n",
       "      <td>...</td>\n",
       "      <td>...</td>\n",
       "      <td>...</td>\n",
       "      <td>...</td>\n",
       "    </tr>\n",
       "    <tr>\n",
       "      <th>site.10.subj.SATRL0115669_S18.lab.TRL0115669_S18.iso.1</th>\n",
       "      <td>rpoB</td>\n",
       "      <td>S450L</td>\n",
       "      <td>450.0</td>\n",
       "      <td>450.0</td>\n",
       "      <td>NaN</td>\n",
       "      <td>NaN</td>\n",
       "      <td>tcg</td>\n",
       "      <td>ttg</td>\n",
       "      <td>True</td>\n",
       "      <td>False</td>\n",
       "      <td>True</td>\n",
       "      <td>False</td>\n",
       "      <td>False</td>\n",
       "      <td>True</td>\n",
       "      <td>False</td>\n",
       "      <td>False</td>\n",
       "      <td>True</td>\n",
       "      <td>GENE</td>\n",
       "      <td>AAM</td>\n",
       "      <td>NaN</td>\n",
       "      <td></td>\n",
       "      <td></td>\n",
       "      <td>10</td>\n",
       "      <td>1</td>\n",
       "      <td>rpoB_S450L</td>\n",
       "      <td>True</td>\n",
       "    </tr>\n",
       "    <tr>\n",
       "      <th>site.10.subj.XD01227882.lab.XD01227882.iso.1</th>\n",
       "      <td>rpoB</td>\n",
       "      <td>S450L</td>\n",
       "      <td>450.0</td>\n",
       "      <td>450.0</td>\n",
       "      <td>NaN</td>\n",
       "      <td>NaN</td>\n",
       "      <td>tcg</td>\n",
       "      <td>ttg</td>\n",
       "      <td>True</td>\n",
       "      <td>False</td>\n",
       "      <td>True</td>\n",
       "      <td>False</td>\n",
       "      <td>False</td>\n",
       "      <td>True</td>\n",
       "      <td>False</td>\n",
       "      <td>False</td>\n",
       "      <td>True</td>\n",
       "      <td>GENE</td>\n",
       "      <td>AAM</td>\n",
       "      <td>NaN</td>\n",
       "      <td></td>\n",
       "      <td></td>\n",
       "      <td>10</td>\n",
       "      <td>1</td>\n",
       "      <td>rpoB_S450L</td>\n",
       "      <td>True</td>\n",
       "    </tr>\n",
       "    <tr>\n",
       "      <th>site.10.subj.WG00269790.lab.WG00269790.iso.1</th>\n",
       "      <td>rpoB</td>\n",
       "      <td>S450L</td>\n",
       "      <td>450.0</td>\n",
       "      <td>450.0</td>\n",
       "      <td>NaN</td>\n",
       "      <td>NaN</td>\n",
       "      <td>tcg</td>\n",
       "      <td>ttg</td>\n",
       "      <td>True</td>\n",
       "      <td>False</td>\n",
       "      <td>True</td>\n",
       "      <td>False</td>\n",
       "      <td>False</td>\n",
       "      <td>True</td>\n",
       "      <td>False</td>\n",
       "      <td>False</td>\n",
       "      <td>True</td>\n",
       "      <td>GENE</td>\n",
       "      <td>AAM</td>\n",
       "      <td>NaN</td>\n",
       "      <td></td>\n",
       "      <td></td>\n",
       "      <td>10</td>\n",
       "      <td>1</td>\n",
       "      <td>rpoB_S450L</td>\n",
       "      <td>True</td>\n",
       "    </tr>\n",
       "    <tr>\n",
       "      <th>site.10.subj.YA00008913.lab.YA00008913.iso.1</th>\n",
       "      <td>rpoB</td>\n",
       "      <td>S450L</td>\n",
       "      <td>450.0</td>\n",
       "      <td>450.0</td>\n",
       "      <td>NaN</td>\n",
       "      <td>NaN</td>\n",
       "      <td>tcg</td>\n",
       "      <td>ttg</td>\n",
       "      <td>True</td>\n",
       "      <td>False</td>\n",
       "      <td>True</td>\n",
       "      <td>False</td>\n",
       "      <td>False</td>\n",
       "      <td>True</td>\n",
       "      <td>False</td>\n",
       "      <td>False</td>\n",
       "      <td>True</td>\n",
       "      <td>GENE</td>\n",
       "      <td>AAM</td>\n",
       "      <td>NaN</td>\n",
       "      <td></td>\n",
       "      <td></td>\n",
       "      <td>10</td>\n",
       "      <td>1</td>\n",
       "      <td>rpoB_S450L</td>\n",
       "      <td>True</td>\n",
       "    </tr>\n",
       "    <tr>\n",
       "      <th>site.10.subj.YA00166043.lab.YA00166043.iso.1</th>\n",
       "      <td>rpoB</td>\n",
       "      <td>D435V</td>\n",
       "      <td>435.0</td>\n",
       "      <td>435.0</td>\n",
       "      <td>NaN</td>\n",
       "      <td>NaN</td>\n",
       "      <td>gac</td>\n",
       "      <td>gtc</td>\n",
       "      <td>True</td>\n",
       "      <td>False</td>\n",
       "      <td>True</td>\n",
       "      <td>False</td>\n",
       "      <td>False</td>\n",
       "      <td>True</td>\n",
       "      <td>False</td>\n",
       "      <td>False</td>\n",
       "      <td>True</td>\n",
       "      <td>GENE</td>\n",
       "      <td>AAM</td>\n",
       "      <td>NaN</td>\n",
       "      <td></td>\n",
       "      <td></td>\n",
       "      <td>10</td>\n",
       "      <td>1</td>\n",
       "      <td>rpoB_D435V</td>\n",
       "      <td>True</td>\n",
       "    </tr>\n",
       "  </tbody>\n",
       "</table>\n",
       "<p>20829 rows × 26 columns</p>\n",
       "</div>"
      ],
      "text/plain": [
       "                                                    GENE MUTATION  POSITION   \n",
       "UNIQUEID                                                                      \n",
       "site.02.subj.0958.lab.22A197.iso.1                  rpoB    S450L     450.0  \\\n",
       "site.02.subj.0918.lab.22A153.iso.1                  rpoB    D435G     435.0   \n",
       "site.02.subj.1033.lab.2013185075.iso.1              rpoB    S450L     450.0   \n",
       "site.02.subj.0739.lab.2013221518.iso.1              rpoB    S450L     450.0   \n",
       "site.02.subj.0104.lab.22A057.iso.1                  rpoB    S450L     450.0   \n",
       "...                                                  ...      ...       ...   \n",
       "site.10.subj.SATRL0115669_S18.lab.TRL0115669_S1...  rpoB    S450L     450.0   \n",
       "site.10.subj.XD01227882.lab.XD01227882.iso.1        rpoB    S450L     450.0   \n",
       "site.10.subj.WG00269790.lab.WG00269790.iso.1        rpoB    S450L     450.0   \n",
       "site.10.subj.YA00008913.lab.YA00008913.iso.1        rpoB    S450L     450.0   \n",
       "site.10.subj.YA00166043.lab.YA00166043.iso.1        rpoB    D435V     435.0   \n",
       "\n",
       "                                                    AMINO_ACID_NUMBER   \n",
       "UNIQUEID                                                                \n",
       "site.02.subj.0958.lab.22A197.iso.1                              450.0  \\\n",
       "site.02.subj.0918.lab.22A153.iso.1                              435.0   \n",
       "site.02.subj.1033.lab.2013185075.iso.1                          450.0   \n",
       "site.02.subj.0739.lab.2013221518.iso.1                          450.0   \n",
       "site.02.subj.0104.lab.22A057.iso.1                              450.0   \n",
       "...                                                               ...   \n",
       "site.10.subj.SATRL0115669_S18.lab.TRL0115669_S1...              450.0   \n",
       "site.10.subj.XD01227882.lab.XD01227882.iso.1                    450.0   \n",
       "site.10.subj.WG00269790.lab.WG00269790.iso.1                    450.0   \n",
       "site.10.subj.YA00008913.lab.YA00008913.iso.1                    450.0   \n",
       "site.10.subj.YA00166043.lab.YA00166043.iso.1                    435.0   \n",
       "\n",
       "                                                    GENOME_INDEX   \n",
       "UNIQUEID                                                           \n",
       "site.02.subj.0958.lab.22A197.iso.1                           NaN  \\\n",
       "site.02.subj.0918.lab.22A153.iso.1                           NaN   \n",
       "site.02.subj.1033.lab.2013185075.iso.1                       NaN   \n",
       "site.02.subj.0739.lab.2013221518.iso.1                       NaN   \n",
       "site.02.subj.0104.lab.22A057.iso.1                           NaN   \n",
       "...                                                          ...   \n",
       "site.10.subj.SATRL0115669_S18.lab.TRL0115669_S1...           NaN   \n",
       "site.10.subj.XD01227882.lab.XD01227882.iso.1                 NaN   \n",
       "site.10.subj.WG00269790.lab.WG00269790.iso.1                 NaN   \n",
       "site.10.subj.YA00008913.lab.YA00008913.iso.1                 NaN   \n",
       "site.10.subj.YA00166043.lab.YA00166043.iso.1                 NaN   \n",
       "\n",
       "                                                    NUCLEOTIDE_NUMBER  REF   \n",
       "UNIQUEID                                                                     \n",
       "site.02.subj.0958.lab.22A197.iso.1                                NaN  tcg  \\\n",
       "site.02.subj.0918.lab.22A153.iso.1                                NaN  gac   \n",
       "site.02.subj.1033.lab.2013185075.iso.1                            NaN  tcg   \n",
       "site.02.subj.0739.lab.2013221518.iso.1                            NaN  tcg   \n",
       "site.02.subj.0104.lab.22A057.iso.1                                NaN  tcg   \n",
       "...                                                               ...  ...   \n",
       "site.10.subj.SATRL0115669_S18.lab.TRL0115669_S1...                NaN  tcg   \n",
       "site.10.subj.XD01227882.lab.XD01227882.iso.1                      NaN  tcg   \n",
       "site.10.subj.WG00269790.lab.WG00269790.iso.1                      NaN  tcg   \n",
       "site.10.subj.YA00008913.lab.YA00008913.iso.1                      NaN  tcg   \n",
       "site.10.subj.YA00166043.lab.YA00166043.iso.1                      NaN  gac   \n",
       "\n",
       "                                                    ALT  IS_SNP  IS_INDEL   \n",
       "UNIQUEID                                                                    \n",
       "site.02.subj.0958.lab.22A197.iso.1                  ttg    True     False  \\\n",
       "site.02.subj.0918.lab.22A153.iso.1                  ggc    True     False   \n",
       "site.02.subj.1033.lab.2013185075.iso.1              ttg    True     False   \n",
       "site.02.subj.0739.lab.2013221518.iso.1              ttg    True     False   \n",
       "site.02.subj.0104.lab.22A057.iso.1                  ttg    True     False   \n",
       "...                                                 ...     ...       ...   \n",
       "site.10.subj.SATRL0115669_S18.lab.TRL0115669_S1...  ttg    True     False   \n",
       "site.10.subj.XD01227882.lab.XD01227882.iso.1        ttg    True     False   \n",
       "site.10.subj.WG00269790.lab.WG00269790.iso.1        ttg    True     False   \n",
       "site.10.subj.YA00008913.lab.YA00008913.iso.1        ttg    True     False   \n",
       "site.10.subj.YA00166043.lab.YA00166043.iso.1        gtc    True     False   \n",
       "\n",
       "                                                    IN_CDS  IN_PROMOTER   \n",
       "UNIQUEID                                                                  \n",
       "site.02.subj.0958.lab.22A197.iso.1                    True        False  \\\n",
       "site.02.subj.0918.lab.22A153.iso.1                    True        False   \n",
       "site.02.subj.1033.lab.2013185075.iso.1                True        False   \n",
       "site.02.subj.0739.lab.2013221518.iso.1                True        False   \n",
       "site.02.subj.0104.lab.22A057.iso.1                    True        False   \n",
       "...                                                    ...          ...   \n",
       "site.10.subj.SATRL0115669_S18.lab.TRL0115669_S1...    True        False   \n",
       "site.10.subj.XD01227882.lab.XD01227882.iso.1          True        False   \n",
       "site.10.subj.WG00269790.lab.WG00269790.iso.1          True        False   \n",
       "site.10.subj.YA00008913.lab.YA00008913.iso.1          True        False   \n",
       "site.10.subj.YA00166043.lab.YA00166043.iso.1          True        False   \n",
       "\n",
       "                                                    IS_SYNONYMOUS   \n",
       "UNIQUEID                                                            \n",
       "site.02.subj.0958.lab.22A197.iso.1                          False  \\\n",
       "site.02.subj.0918.lab.22A153.iso.1                          False   \n",
       "site.02.subj.1033.lab.2013185075.iso.1                      False   \n",
       "site.02.subj.0739.lab.2013221518.iso.1                      False   \n",
       "site.02.subj.0104.lab.22A057.iso.1                          False   \n",
       "...                                                           ...   \n",
       "site.10.subj.SATRL0115669_S18.lab.TRL0115669_S1...          False   \n",
       "site.10.subj.XD01227882.lab.XD01227882.iso.1                False   \n",
       "site.10.subj.WG00269790.lab.WG00269790.iso.1                False   \n",
       "site.10.subj.YA00008913.lab.YA00008913.iso.1                False   \n",
       "site.10.subj.YA00166043.lab.YA00166043.iso.1                False   \n",
       "\n",
       "                                                    IS_NONSYNONYMOUS  IS_HET   \n",
       "UNIQUEID                                                                       \n",
       "site.02.subj.0958.lab.22A197.iso.1                              True   False  \\\n",
       "site.02.subj.0918.lab.22A153.iso.1                              True   False   \n",
       "site.02.subj.1033.lab.2013185075.iso.1                          True   False   \n",
       "site.02.subj.0739.lab.2013221518.iso.1                          True   False   \n",
       "site.02.subj.0104.lab.22A057.iso.1                              True   False   \n",
       "...                                                              ...     ...   \n",
       "site.10.subj.SATRL0115669_S18.lab.TRL0115669_S1...              True   False   \n",
       "site.10.subj.XD01227882.lab.XD01227882.iso.1                    True   False   \n",
       "site.10.subj.WG00269790.lab.WG00269790.iso.1                    True   False   \n",
       "site.10.subj.YA00008913.lab.YA00008913.iso.1                    True   False   \n",
       "site.10.subj.YA00166043.lab.YA00166043.iso.1                    True   False   \n",
       "\n",
       "                                                    IS_NULL  IS_FILTER_PASS   \n",
       "UNIQUEID                                                                      \n",
       "site.02.subj.0958.lab.22A197.iso.1                    False            True  \\\n",
       "site.02.subj.0918.lab.22A153.iso.1                    False            True   \n",
       "site.02.subj.1033.lab.2013185075.iso.1                False            True   \n",
       "site.02.subj.0739.lab.2013221518.iso.1                False            True   \n",
       "site.02.subj.0104.lab.22A057.iso.1                    False            True   \n",
       "...                                                     ...             ...   \n",
       "site.10.subj.SATRL0115669_S18.lab.TRL0115669_S1...    False            True   \n",
       "site.10.subj.XD01227882.lab.XD01227882.iso.1          False            True   \n",
       "site.10.subj.WG00269790.lab.WG00269790.iso.1          False            True   \n",
       "site.10.subj.YA00008913.lab.YA00008913.iso.1          False            True   \n",
       "site.10.subj.YA00166043.lab.YA00166043.iso.1          False            True   \n",
       "\n",
       "                                                   ELEMENT_TYPE MUTATION_TYPE   \n",
       "UNIQUEID                                                                        \n",
       "site.02.subj.0958.lab.22A197.iso.1                         GENE           AAM  \\\n",
       "site.02.subj.0918.lab.22A153.iso.1                         GENE           AAM   \n",
       "site.02.subj.1033.lab.2013185075.iso.1                     GENE           AAM   \n",
       "site.02.subj.0739.lab.2013221518.iso.1                     GENE           AAM   \n",
       "site.02.subj.0104.lab.22A057.iso.1                         GENE           AAM   \n",
       "...                                                         ...           ...   \n",
       "site.10.subj.SATRL0115669_S18.lab.TRL0115669_S1...         GENE           AAM   \n",
       "site.10.subj.XD01227882.lab.XD01227882.iso.1               GENE           AAM   \n",
       "site.10.subj.WG00269790.lab.WG00269790.iso.1               GENE           AAM   \n",
       "site.10.subj.YA00008913.lab.YA00008913.iso.1               GENE           AAM   \n",
       "site.10.subj.YA00166043.lab.YA00166043.iso.1               GENE           AAM   \n",
       "\n",
       "                                                    INDEL_LENGTH INDEL_1   \n",
       "UNIQUEID                                                                   \n",
       "site.02.subj.0958.lab.22A197.iso.1                           NaN          \\\n",
       "site.02.subj.0918.lab.22A153.iso.1                           NaN           \n",
       "site.02.subj.1033.lab.2013185075.iso.1                       NaN           \n",
       "site.02.subj.0739.lab.2013221518.iso.1                       NaN           \n",
       "site.02.subj.0104.lab.22A057.iso.1                           NaN           \n",
       "...                                                          ...     ...   \n",
       "site.10.subj.SATRL0115669_S18.lab.TRL0115669_S1...           NaN           \n",
       "site.10.subj.XD01227882.lab.XD01227882.iso.1                 NaN           \n",
       "site.10.subj.WG00269790.lab.WG00269790.iso.1                 NaN           \n",
       "site.10.subj.YA00008913.lab.YA00008913.iso.1                 NaN           \n",
       "site.10.subj.YA00166043.lab.YA00166043.iso.1                 NaN           \n",
       "\n",
       "                                                   INDEL_2 SITEID   \n",
       "UNIQUEID                                                            \n",
       "site.02.subj.0958.lab.22A197.iso.1                             02  \\\n",
       "site.02.subj.0918.lab.22A153.iso.1                             02   \n",
       "site.02.subj.1033.lab.2013185075.iso.1                         02   \n",
       "site.02.subj.0739.lab.2013221518.iso.1                         02   \n",
       "site.02.subj.0104.lab.22A057.iso.1                             02   \n",
       "...                                                    ...    ...   \n",
       "site.10.subj.SATRL0115669_S18.lab.TRL0115669_S1...             10   \n",
       "site.10.subj.XD01227882.lab.XD01227882.iso.1                   10   \n",
       "site.10.subj.WG00269790.lab.WG00269790.iso.1                   10   \n",
       "site.10.subj.YA00008913.lab.YA00008913.iso.1                   10   \n",
       "site.10.subj.YA00166043.lab.YA00166043.iso.1                   10   \n",
       "\n",
       "                                                    NUMBER_NUCLEOTIDE_CHANGES   \n",
       "UNIQUEID                                                                        \n",
       "site.02.subj.0958.lab.22A197.iso.1                                          1  \\\n",
       "site.02.subj.0918.lab.22A153.iso.1                                          1   \n",
       "site.02.subj.1033.lab.2013185075.iso.1                                      1   \n",
       "site.02.subj.0739.lab.2013221518.iso.1                                      1   \n",
       "site.02.subj.0104.lab.22A057.iso.1                                          1   \n",
       "...                                                                       ...   \n",
       "site.10.subj.SATRL0115669_S18.lab.TRL0115669_S1...                          1   \n",
       "site.10.subj.XD01227882.lab.XD01227882.iso.1                                1   \n",
       "site.10.subj.WG00269790.lab.WG00269790.iso.1                                1   \n",
       "site.10.subj.YA00008913.lab.YA00008913.iso.1                                1   \n",
       "site.10.subj.YA00166043.lab.YA00166043.iso.1                                1   \n",
       "\n",
       "                                                   GENE_MUTATION  IS_RES  \n",
       "UNIQUEID                                                                  \n",
       "site.02.subj.0958.lab.22A197.iso.1                    rpoB_S450L    True  \n",
       "site.02.subj.0918.lab.22A153.iso.1                    rpoB_D435G    True  \n",
       "site.02.subj.1033.lab.2013185075.iso.1                rpoB_S450L    True  \n",
       "site.02.subj.0739.lab.2013221518.iso.1                rpoB_S450L    True  \n",
       "site.02.subj.0104.lab.22A057.iso.1                    rpoB_S450L    True  \n",
       "...                                                          ...     ...  \n",
       "site.10.subj.SATRL0115669_S18.lab.TRL0115669_S1...    rpoB_S450L    True  \n",
       "site.10.subj.XD01227882.lab.XD01227882.iso.1          rpoB_S450L    True  \n",
       "site.10.subj.WG00269790.lab.WG00269790.iso.1          rpoB_S450L    True  \n",
       "site.10.subj.YA00008913.lab.YA00008913.iso.1          rpoB_S450L    True  \n",
       "site.10.subj.YA00166043.lab.YA00166043.iso.1          rpoB_D435V    True  \n",
       "\n",
       "[20829 rows x 26 columns]"
      ]
     },
     "execution_count": 23,
     "metadata": {},
     "output_type": "execute_result"
    }
   ],
   "source": [
    "EFFECTS = pandas.read_pickle('/Users/viktoriabrunner/Documents/Studium/PhD/DPhil/paper/tb-rnap-compensation/tb_rnap_compensation/tables/EFFECTS.pkl.gz')\n",
    "EFFECTS.reset_index(inplace = True)\n",
    "EFFECTS['GENE_MUTATION'] = EFFECTS['GENE'] + '_' + EFFECTS['MUTATION']\n",
    "EFFECTS = EFFECTS[(EFFECTS.DRUG=='RIF') & (EFFECTS.PREDICTION=='R') \n",
    "                  & (~EFFECTS.MUTATION.str[-1].isin(['O','X']))]\n",
    "\n",
    "res_gene_mutations = EFFECTS.GENE_MUTATION\n",
    "query = res_gene_mutations.unique()\n",
    "\n",
    "MUTATIONS = pandas.read_pickle('/Users/viktoriabrunner/Documents/Studium/PhD/DPhil/paper/tb-rnap-compensation/tb_rnap_compensation/tables/MUTATIONS.pkl.gz')\n",
    "MUTATIONS.reset_index(inplace = True)\n",
    "MUTATIONS = MUTATIONS.astype({'GENE':'str'})\n",
    "MUTATIONS['GENE_MUTATION'] = MUTATIONS['GENE'] + '_' + MUTATIONS['MUTATION']\n",
    "\n",
    "resistant = MUTATIONS[MUTATIONS.GENE_MUTATION.isin(res_gene_mutations.unique())]\n",
    "resistant.set_index('UNIQUEID', inplace=True)\n",
    "resistant['IS_RES'] = True\n",
    "resistant"
   ]
  },
  {
   "cell_type": "markdown",
   "metadata": {},
   "source": [
    "Make dataframe of all UNIQUEIDs that contain CMs"
   ]
  },
  {
   "cell_type": "code",
   "execution_count": 8,
   "metadata": {},
   "outputs": [
    {
     "name": "stdout",
     "output_type": "stream",
     "text": [
      "There are 96 hits above the indicated p-value quantile\n"
     ]
    },
    {
     "data": {
      "text/html": [
       "<div>\n",
       "<style scoped>\n",
       "    .dataframe tbody tr th:only-of-type {\n",
       "        vertical-align: middle;\n",
       "    }\n",
       "\n",
       "    .dataframe tbody tr th {\n",
       "        vertical-align: top;\n",
       "    }\n",
       "\n",
       "    .dataframe thead th {\n",
       "        text-align: right;\n",
       "    }\n",
       "</style>\n",
       "<table border=\"1\" class=\"dataframe\">\n",
       "  <thead>\n",
       "    <tr style=\"text-align: right;\">\n",
       "      <th></th>\n",
       "      <th>resistant_mutation</th>\n",
       "      <th>other_mutation</th>\n",
       "      <th>both</th>\n",
       "    </tr>\n",
       "  </thead>\n",
       "  <tbody>\n",
       "    <tr>\n",
       "      <th>0</th>\n",
       "      <td>rpoB_S450L</td>\n",
       "      <td>rpoC_V483G</td>\n",
       "      <td>1206</td>\n",
       "    </tr>\n",
       "    <tr>\n",
       "      <th>1</th>\n",
       "      <td>rpoB_S450L</td>\n",
       "      <td>rpoC_I491V</td>\n",
       "      <td>665</td>\n",
       "    </tr>\n",
       "    <tr>\n",
       "      <th>2</th>\n",
       "      <td>rpoB_S450L</td>\n",
       "      <td>rpoC_V483A</td>\n",
       "      <td>586</td>\n",
       "    </tr>\n",
       "    <tr>\n",
       "      <th>3</th>\n",
       "      <td>rpoB_S450L</td>\n",
       "      <td>rpoC_I491T</td>\n",
       "      <td>457</td>\n",
       "    </tr>\n",
       "    <tr>\n",
       "      <th>4</th>\n",
       "      <td>rpoB_S450L</td>\n",
       "      <td>rpoC_P1040R</td>\n",
       "      <td>396</td>\n",
       "    </tr>\n",
       "    <tr>\n",
       "      <th>5</th>\n",
       "      <td>rpoB_S450L</td>\n",
       "      <td>rpoC_F452S</td>\n",
       "      <td>345</td>\n",
       "    </tr>\n",
       "    <tr>\n",
       "      <th>6</th>\n",
       "      <td>rpoB_S450L</td>\n",
       "      <td>rpoB_L731P</td>\n",
       "      <td>226</td>\n",
       "    </tr>\n",
       "    <tr>\n",
       "      <th>7</th>\n",
       "      <td>rpoB_S450L</td>\n",
       "      <td>rpoC_N698S</td>\n",
       "      <td>205</td>\n",
       "    </tr>\n",
       "    <tr>\n",
       "      <th>8</th>\n",
       "      <td>rpoB_S450L</td>\n",
       "      <td>rpoC_D485Y</td>\n",
       "      <td>194</td>\n",
       "    </tr>\n",
       "    <tr>\n",
       "      <th>9</th>\n",
       "      <td>rpoB_S450L</td>\n",
       "      <td>rpoC_V517L</td>\n",
       "      <td>184</td>\n",
       "    </tr>\n",
       "    <tr>\n",
       "      <th>10</th>\n",
       "      <td>rpoB_S450L</td>\n",
       "      <td>rpoC_G332S</td>\n",
       "      <td>179</td>\n",
       "    </tr>\n",
       "    <tr>\n",
       "      <th>11</th>\n",
       "      <td>rpoB_S450L</td>\n",
       "      <td>rpoC_V1252L</td>\n",
       "      <td>175</td>\n",
       "    </tr>\n",
       "    <tr>\n",
       "      <th>12</th>\n",
       "      <td>rpoB_S450L</td>\n",
       "      <td>rpoA_T187A</td>\n",
       "      <td>171</td>\n",
       "    </tr>\n",
       "    <tr>\n",
       "      <th>13</th>\n",
       "      <td>rpoB_S450L</td>\n",
       "      <td>rpoC_D485N</td>\n",
       "      <td>166</td>\n",
       "    </tr>\n",
       "    <tr>\n",
       "      <th>14</th>\n",
       "      <td>rpoB_S450L</td>\n",
       "      <td>rpoC_L516P</td>\n",
       "      <td>144</td>\n",
       "    </tr>\n",
       "    <tr>\n",
       "      <th>15</th>\n",
       "      <td>rpoB_S450L</td>\n",
       "      <td>rpoC_G433S</td>\n",
       "      <td>141</td>\n",
       "    </tr>\n",
       "    <tr>\n",
       "      <th>16</th>\n",
       "      <td>rpoB_S450L</td>\n",
       "      <td>rpoB_R827C</td>\n",
       "      <td>123</td>\n",
       "    </tr>\n",
       "    <tr>\n",
       "      <th>17</th>\n",
       "      <td>rpoB_S450L</td>\n",
       "      <td>rpoC_P1040S</td>\n",
       "      <td>118</td>\n",
       "    </tr>\n",
       "    <tr>\n",
       "      <th>18</th>\n",
       "      <td>rpoB_S450L</td>\n",
       "      <td>rpoC_G332R</td>\n",
       "      <td>113</td>\n",
       "    </tr>\n",
       "    <tr>\n",
       "      <th>19</th>\n",
       "      <td>rpoB_S450L</td>\n",
       "      <td>rpoC_L527V</td>\n",
       "      <td>113</td>\n",
       "    </tr>\n",
       "    <tr>\n",
       "      <th>20</th>\n",
       "      <td>rpoB_S450L</td>\n",
       "      <td>rpoC_P1040A</td>\n",
       "      <td>110</td>\n",
       "    </tr>\n",
       "    <tr>\n",
       "      <th>21</th>\n",
       "      <td>rpoB_S450L</td>\n",
       "      <td>rpoC_K445R</td>\n",
       "      <td>98</td>\n",
       "    </tr>\n",
       "    <tr>\n",
       "      <th>22</th>\n",
       "      <td>rpoB_S450L</td>\n",
       "      <td>rpoC_F452L</td>\n",
       "      <td>96</td>\n",
       "    </tr>\n",
       "    <tr>\n",
       "      <th>23</th>\n",
       "      <td>rpoB_S450L</td>\n",
       "      <td>rpoC_W484G</td>\n",
       "      <td>80</td>\n",
       "    </tr>\n",
       "    <tr>\n",
       "      <th>24</th>\n",
       "      <td>rpoB_S450L</td>\n",
       "      <td>rpoB_I480V</td>\n",
       "      <td>78</td>\n",
       "    </tr>\n",
       "    <tr>\n",
       "      <th>25</th>\n",
       "      <td>rpoB_S450L</td>\n",
       "      <td>rpoA_V183G</td>\n",
       "      <td>77</td>\n",
       "    </tr>\n",
       "    <tr>\n",
       "      <th>26</th>\n",
       "      <td>rpoB_S450L</td>\n",
       "      <td>rpoB_K891E</td>\n",
       "      <td>74</td>\n",
       "    </tr>\n",
       "    <tr>\n",
       "      <th>27</th>\n",
       "      <td>rpoB_S450L</td>\n",
       "      <td>rpoC_N416S</td>\n",
       "      <td>72</td>\n",
       "    </tr>\n",
       "    <tr>\n",
       "      <th>28</th>\n",
       "      <td>rpoB_S450L</td>\n",
       "      <td>rpoB_Q409R</td>\n",
       "      <td>69</td>\n",
       "    </tr>\n",
       "    <tr>\n",
       "      <th>29</th>\n",
       "      <td>rpoB_S450L</td>\n",
       "      <td>rpoC_V1039A</td>\n",
       "      <td>68</td>\n",
       "    </tr>\n",
       "    <tr>\n",
       "      <th>30</th>\n",
       "      <td>rpoB_S450L</td>\n",
       "      <td>rpoC_A521D</td>\n",
       "      <td>65</td>\n",
       "    </tr>\n",
       "    <tr>\n",
       "      <th>31</th>\n",
       "      <td>rpoB_S450L</td>\n",
       "      <td>rpoB_P45S</td>\n",
       "      <td>65</td>\n",
       "    </tr>\n",
       "    <tr>\n",
       "      <th>32</th>\n",
       "      <td>rpoB_S450L</td>\n",
       "      <td>rpoC_L507V</td>\n",
       "      <td>64</td>\n",
       "    </tr>\n",
       "    <tr>\n",
       "      <th>33</th>\n",
       "      <td>rpoB_S450L</td>\n",
       "      <td>rpoC_V431M</td>\n",
       "      <td>62</td>\n",
       "    </tr>\n",
       "    <tr>\n",
       "      <th>34</th>\n",
       "      <td>rpoB_S450L</td>\n",
       "      <td>rpoB_I488V</td>\n",
       "      <td>59</td>\n",
       "    </tr>\n",
       "    <tr>\n",
       "      <th>35</th>\n",
       "      <td>rpoB_S450L</td>\n",
       "      <td>rpoC_V1252M</td>\n",
       "      <td>59</td>\n",
       "    </tr>\n",
       "    <tr>\n",
       "      <th>36</th>\n",
       "      <td>rpoB_S450L</td>\n",
       "      <td>rpoB_A286V</td>\n",
       "      <td>56</td>\n",
       "    </tr>\n",
       "    <tr>\n",
       "      <th>37</th>\n",
       "      <td>rpoB_S450L</td>\n",
       "      <td>rpoC_T812I</td>\n",
       "      <td>51</td>\n",
       "    </tr>\n",
       "    <tr>\n",
       "      <th>38</th>\n",
       "      <td>rpoB_S450L</td>\n",
       "      <td>rpoB_R827L</td>\n",
       "      <td>50</td>\n",
       "    </tr>\n",
       "    <tr>\n",
       "      <th>39</th>\n",
       "      <td>rpoB_S450L</td>\n",
       "      <td>rpoC_L449V</td>\n",
       "      <td>50</td>\n",
       "    </tr>\n",
       "    <tr>\n",
       "      <th>40</th>\n",
       "      <td>rpoB_S450L</td>\n",
       "      <td>rpoC_N698K</td>\n",
       "      <td>48</td>\n",
       "    </tr>\n",
       "    <tr>\n",
       "      <th>41</th>\n",
       "      <td>rpoB_S450L</td>\n",
       "      <td>rpoA_A180V</td>\n",
       "      <td>48</td>\n",
       "    </tr>\n",
       "    <tr>\n",
       "      <th>42</th>\n",
       "      <td>rpoB_S450L</td>\n",
       "      <td>rpoC_F452C</td>\n",
       "      <td>48</td>\n",
       "    </tr>\n",
       "    <tr>\n",
       "      <th>43</th>\n",
       "      <td>rpoB_I491F</td>\n",
       "      <td>rpoC_E1033A</td>\n",
       "      <td>46</td>\n",
       "    </tr>\n",
       "    <tr>\n",
       "      <th>44</th>\n",
       "      <td>rpoB_S450L</td>\n",
       "      <td>rpoA_D190G</td>\n",
       "      <td>46</td>\n",
       "    </tr>\n",
       "    <tr>\n",
       "      <th>45</th>\n",
       "      <td>rpoB_S450L</td>\n",
       "      <td>rpoA_G31S</td>\n",
       "      <td>44</td>\n",
       "    </tr>\n",
       "    <tr>\n",
       "      <th>46</th>\n",
       "      <td>rpoB_S450L</td>\n",
       "      <td>rpoC_P434R</td>\n",
       "      <td>44</td>\n",
       "    </tr>\n",
       "    <tr>\n",
       "      <th>47</th>\n",
       "      <td>rpoB_S450L</td>\n",
       "      <td>rpoA_E184D</td>\n",
       "      <td>40</td>\n",
       "    </tr>\n",
       "    <tr>\n",
       "      <th>48</th>\n",
       "      <td>rpoB_H445R</td>\n",
       "      <td>rpoC_S561P</td>\n",
       "      <td>39</td>\n",
       "    </tr>\n",
       "    <tr>\n",
       "      <th>49</th>\n",
       "      <td>rpoB_D435G</td>\n",
       "      <td>rpoB_I491L</td>\n",
       "      <td>17</td>\n",
       "    </tr>\n",
       "    <tr>\n",
       "      <th>50</th>\n",
       "      <td>rpoB_H445D</td>\n",
       "      <td>rpoC_G388A</td>\n",
       "      <td>17</td>\n",
       "    </tr>\n",
       "  </tbody>\n",
       "</table>\n",
       "</div>"
      ],
      "text/plain": [
       "   resistant_mutation other_mutation  both\n",
       "0          rpoB_S450L     rpoC_V483G  1206\n",
       "1          rpoB_S450L     rpoC_I491V   665\n",
       "2          rpoB_S450L     rpoC_V483A   586\n",
       "3          rpoB_S450L     rpoC_I491T   457\n",
       "4          rpoB_S450L    rpoC_P1040R   396\n",
       "5          rpoB_S450L     rpoC_F452S   345\n",
       "6          rpoB_S450L     rpoB_L731P   226\n",
       "7          rpoB_S450L     rpoC_N698S   205\n",
       "8          rpoB_S450L     rpoC_D485Y   194\n",
       "9          rpoB_S450L     rpoC_V517L   184\n",
       "10         rpoB_S450L     rpoC_G332S   179\n",
       "11         rpoB_S450L    rpoC_V1252L   175\n",
       "12         rpoB_S450L     rpoA_T187A   171\n",
       "13         rpoB_S450L     rpoC_D485N   166\n",
       "14         rpoB_S450L     rpoC_L516P   144\n",
       "15         rpoB_S450L     rpoC_G433S   141\n",
       "16         rpoB_S450L     rpoB_R827C   123\n",
       "17         rpoB_S450L    rpoC_P1040S   118\n",
       "18         rpoB_S450L     rpoC_G332R   113\n",
       "19         rpoB_S450L     rpoC_L527V   113\n",
       "20         rpoB_S450L    rpoC_P1040A   110\n",
       "21         rpoB_S450L     rpoC_K445R    98\n",
       "22         rpoB_S450L     rpoC_F452L    96\n",
       "23         rpoB_S450L     rpoC_W484G    80\n",
       "24         rpoB_S450L     rpoB_I480V    78\n",
       "25         rpoB_S450L     rpoA_V183G    77\n",
       "26         rpoB_S450L     rpoB_K891E    74\n",
       "27         rpoB_S450L     rpoC_N416S    72\n",
       "28         rpoB_S450L     rpoB_Q409R    69\n",
       "29         rpoB_S450L    rpoC_V1039A    68\n",
       "30         rpoB_S450L     rpoC_A521D    65\n",
       "31         rpoB_S450L      rpoB_P45S    65\n",
       "32         rpoB_S450L     rpoC_L507V    64\n",
       "33         rpoB_S450L     rpoC_V431M    62\n",
       "34         rpoB_S450L     rpoB_I488V    59\n",
       "35         rpoB_S450L    rpoC_V1252M    59\n",
       "36         rpoB_S450L     rpoB_A286V    56\n",
       "37         rpoB_S450L     rpoC_T812I    51\n",
       "38         rpoB_S450L     rpoB_R827L    50\n",
       "39         rpoB_S450L     rpoC_L449V    50\n",
       "40         rpoB_S450L     rpoC_N698K    48\n",
       "41         rpoB_S450L     rpoA_A180V    48\n",
       "42         rpoB_S450L     rpoC_F452C    48\n",
       "43         rpoB_I491F    rpoC_E1033A    46\n",
       "44         rpoB_S450L     rpoA_D190G    46\n",
       "45         rpoB_S450L      rpoA_G31S    44\n",
       "46         rpoB_S450L     rpoC_P434R    44\n",
       "47         rpoB_S450L     rpoA_E184D    40\n",
       "48         rpoB_H445R     rpoC_S561P    39\n",
       "49         rpoB_D435G     rpoB_I491L    17\n",
       "50         rpoB_H445D     rpoC_G388A    17"
      ]
     },
     "execution_count": 8,
     "metadata": {},
     "output_type": "execute_result"
    }
   ],
   "source": [
    "hits_final = pandas.read_csv('/Users/viktoriabrunner/Documents/Studium/PhD/DPhil/paper/tb-rnap-compensation/fisher_all.csv')\n",
    "hits_final = hits_final[hits_final.both != 0]\n",
    "hits_final = hits_final.iloc[:-1,:]\n",
    "\n",
    "hits_final['log10'] = -numpy.log10(hits_final.p_value.astype('float'))\n",
    "\n",
    "#create list of all hits above the 98% quantile of p-values\n",
    "hits_final = hits_final[(hits_final.log10 > numpy.quantile(hits_final.log10, 0.98))]\n",
    "print('There are', len(hits_final.other_mutation.unique()), 'hits above the indicated p-value quantile')\n",
    "\n",
    "#remove all hits that are synonymous mutations or non-homoplastic\n",
    "hits_final = hits_final[~(hits_final.other_mutation.apply(lambda x: x[5]==x[-1]))]\n",
    "no_homoplasy = pandas.read_csv('/Users/viktoriabrunner/Documents/Studium/PhD/DPhil/paper/tb-rnap-compensation/all_hits_concat.csv')\n",
    "no_homoplasy = no_homoplasy[no_homoplasy.homoplasy == False].CM\n",
    "hits_final['homoplasy'] = (~hits_final.other_mutation.isin(no_homoplasy))\n",
    "hits_final = hits_final[(hits_final.homoplasy == True)]\n",
    "\n",
    "hits_final = hits_final.sort_values('both', ascending = False)\n",
    "hits_final = hits_final.drop(['p_value', 'None', 'other', 'resistant', 'n_resistant', 'n_other', 'log10', 'homoplasy'], axis = 1)\n",
    "hits_final.reset_index(drop = True, inplace = True)\n",
    "hits_final"
   ]
  },
  {
   "cell_type": "code",
   "execution_count": 9,
   "metadata": {},
   "outputs": [
    {
     "data": {
      "text/html": [
       "<div>\n",
       "<style scoped>\n",
       "    .dataframe tbody tr th:only-of-type {\n",
       "        vertical-align: middle;\n",
       "    }\n",
       "\n",
       "    .dataframe tbody tr th {\n",
       "        vertical-align: top;\n",
       "    }\n",
       "\n",
       "    .dataframe thead th {\n",
       "        text-align: right;\n",
       "    }\n",
       "</style>\n",
       "<table border=\"1\" class=\"dataframe\">\n",
       "  <thead>\n",
       "    <tr style=\"text-align: right;\">\n",
       "      <th></th>\n",
       "      <th>GENE</th>\n",
       "      <th>MUTATION</th>\n",
       "      <th>POSITION</th>\n",
       "      <th>AMINO_ACID_NUMBER</th>\n",
       "      <th>GENOME_INDEX</th>\n",
       "      <th>NUCLEOTIDE_NUMBER</th>\n",
       "      <th>REF</th>\n",
       "      <th>ALT</th>\n",
       "      <th>IS_SNP</th>\n",
       "      <th>IS_INDEL</th>\n",
       "      <th>IN_CDS</th>\n",
       "      <th>IN_PROMOTER</th>\n",
       "      <th>IS_SYNONYMOUS</th>\n",
       "      <th>IS_NONSYNONYMOUS</th>\n",
       "      <th>IS_HET</th>\n",
       "      <th>IS_NULL</th>\n",
       "      <th>IS_FILTER_PASS</th>\n",
       "      <th>ELEMENT_TYPE</th>\n",
       "      <th>MUTATION_TYPE</th>\n",
       "      <th>INDEL_LENGTH</th>\n",
       "      <th>INDEL_1</th>\n",
       "      <th>INDEL_2</th>\n",
       "      <th>SITEID</th>\n",
       "      <th>NUMBER_NUCLEOTIDE_CHANGES</th>\n",
       "      <th>GENE_MUTATION</th>\n",
       "      <th>IS_CM</th>\n",
       "    </tr>\n",
       "    <tr>\n",
       "      <th>UNIQUEID</th>\n",
       "      <th></th>\n",
       "      <th></th>\n",
       "      <th></th>\n",
       "      <th></th>\n",
       "      <th></th>\n",
       "      <th></th>\n",
       "      <th></th>\n",
       "      <th></th>\n",
       "      <th></th>\n",
       "      <th></th>\n",
       "      <th></th>\n",
       "      <th></th>\n",
       "      <th></th>\n",
       "      <th></th>\n",
       "      <th></th>\n",
       "      <th></th>\n",
       "      <th></th>\n",
       "      <th></th>\n",
       "      <th></th>\n",
       "      <th></th>\n",
       "      <th></th>\n",
       "      <th></th>\n",
       "      <th></th>\n",
       "      <th></th>\n",
       "      <th></th>\n",
       "      <th></th>\n",
       "    </tr>\n",
       "  </thead>\n",
       "  <tbody>\n",
       "    <tr>\n",
       "      <th>site.02.subj.0958.lab.22A197.iso.1</th>\n",
       "      <td>rpoB</td>\n",
       "      <td>P45S</td>\n",
       "      <td>45.0</td>\n",
       "      <td>45.0</td>\n",
       "      <td>NaN</td>\n",
       "      <td>NaN</td>\n",
       "      <td>ccg</td>\n",
       "      <td>tcg</td>\n",
       "      <td>True</td>\n",
       "      <td>False</td>\n",
       "      <td>True</td>\n",
       "      <td>False</td>\n",
       "      <td>False</td>\n",
       "      <td>True</td>\n",
       "      <td>False</td>\n",
       "      <td>False</td>\n",
       "      <td>True</td>\n",
       "      <td>GENE</td>\n",
       "      <td>AAM</td>\n",
       "      <td>NaN</td>\n",
       "      <td></td>\n",
       "      <td></td>\n",
       "      <td>02</td>\n",
       "      <td>1</td>\n",
       "      <td>rpoB_P45S</td>\n",
       "      <td>True</td>\n",
       "    </tr>\n",
       "    <tr>\n",
       "      <th>site.02.subj.0918.lab.22A153.iso.1</th>\n",
       "      <td>rpoB</td>\n",
       "      <td>I491L</td>\n",
       "      <td>491.0</td>\n",
       "      <td>491.0</td>\n",
       "      <td>NaN</td>\n",
       "      <td>NaN</td>\n",
       "      <td>atc</td>\n",
       "      <td>ctc</td>\n",
       "      <td>True</td>\n",
       "      <td>False</td>\n",
       "      <td>True</td>\n",
       "      <td>False</td>\n",
       "      <td>False</td>\n",
       "      <td>True</td>\n",
       "      <td>False</td>\n",
       "      <td>False</td>\n",
       "      <td>True</td>\n",
       "      <td>GENE</td>\n",
       "      <td>AAM</td>\n",
       "      <td>NaN</td>\n",
       "      <td></td>\n",
       "      <td></td>\n",
       "      <td>02</td>\n",
       "      <td>1</td>\n",
       "      <td>rpoB_I491L</td>\n",
       "      <td>True</td>\n",
       "    </tr>\n",
       "    <tr>\n",
       "      <th>site.02.subj.0739.lab.2013221518.iso.1</th>\n",
       "      <td>rpoC</td>\n",
       "      <td>V483A</td>\n",
       "      <td>483.0</td>\n",
       "      <td>483.0</td>\n",
       "      <td>NaN</td>\n",
       "      <td>NaN</td>\n",
       "      <td>gtg</td>\n",
       "      <td>gcg</td>\n",
       "      <td>True</td>\n",
       "      <td>False</td>\n",
       "      <td>True</td>\n",
       "      <td>False</td>\n",
       "      <td>False</td>\n",
       "      <td>True</td>\n",
       "      <td>False</td>\n",
       "      <td>False</td>\n",
       "      <td>True</td>\n",
       "      <td>GENE</td>\n",
       "      <td>AAM</td>\n",
       "      <td>NaN</td>\n",
       "      <td></td>\n",
       "      <td></td>\n",
       "      <td>02</td>\n",
       "      <td>1</td>\n",
       "      <td>rpoC_V483A</td>\n",
       "      <td>True</td>\n",
       "    </tr>\n",
       "    <tr>\n",
       "      <th>site.02.subj.0885.lab.22A119.iso.1</th>\n",
       "      <td>rpoC</td>\n",
       "      <td>V483A</td>\n",
       "      <td>483.0</td>\n",
       "      <td>483.0</td>\n",
       "      <td>NaN</td>\n",
       "      <td>NaN</td>\n",
       "      <td>gtg</td>\n",
       "      <td>gcg</td>\n",
       "      <td>True</td>\n",
       "      <td>False</td>\n",
       "      <td>True</td>\n",
       "      <td>False</td>\n",
       "      <td>False</td>\n",
       "      <td>True</td>\n",
       "      <td>False</td>\n",
       "      <td>False</td>\n",
       "      <td>True</td>\n",
       "      <td>GENE</td>\n",
       "      <td>AAM</td>\n",
       "      <td>NaN</td>\n",
       "      <td></td>\n",
       "      <td></td>\n",
       "      <td>02</td>\n",
       "      <td>1</td>\n",
       "      <td>rpoC_V483A</td>\n",
       "      <td>True</td>\n",
       "    </tr>\n",
       "    <tr>\n",
       "      <th>site.02.subj.0411.lab.235087-14.iso.1</th>\n",
       "      <td>rpoA</td>\n",
       "      <td>T187A</td>\n",
       "      <td>187.0</td>\n",
       "      <td>187.0</td>\n",
       "      <td>NaN</td>\n",
       "      <td>NaN</td>\n",
       "      <td>acc</td>\n",
       "      <td>gcc</td>\n",
       "      <td>True</td>\n",
       "      <td>False</td>\n",
       "      <td>True</td>\n",
       "      <td>False</td>\n",
       "      <td>False</td>\n",
       "      <td>True</td>\n",
       "      <td>False</td>\n",
       "      <td>False</td>\n",
       "      <td>True</td>\n",
       "      <td>GENE</td>\n",
       "      <td>AAM</td>\n",
       "      <td>NaN</td>\n",
       "      <td></td>\n",
       "      <td></td>\n",
       "      <td>02</td>\n",
       "      <td>1</td>\n",
       "      <td>rpoA_T187A</td>\n",
       "      <td>True</td>\n",
       "    </tr>\n",
       "    <tr>\n",
       "      <th>...</th>\n",
       "      <td>...</td>\n",
       "      <td>...</td>\n",
       "      <td>...</td>\n",
       "      <td>...</td>\n",
       "      <td>...</td>\n",
       "      <td>...</td>\n",
       "      <td>...</td>\n",
       "      <td>...</td>\n",
       "      <td>...</td>\n",
       "      <td>...</td>\n",
       "      <td>...</td>\n",
       "      <td>...</td>\n",
       "      <td>...</td>\n",
       "      <td>...</td>\n",
       "      <td>...</td>\n",
       "      <td>...</td>\n",
       "      <td>...</td>\n",
       "      <td>...</td>\n",
       "      <td>...</td>\n",
       "      <td>...</td>\n",
       "      <td>...</td>\n",
       "      <td>...</td>\n",
       "      <td>...</td>\n",
       "      <td>...</td>\n",
       "      <td>...</td>\n",
       "      <td>...</td>\n",
       "    </tr>\n",
       "    <tr>\n",
       "      <th>site.10.subj.SATRL0116843_S10.lab.TRL0116843_S10.iso.1</th>\n",
       "      <td>rpoC</td>\n",
       "      <td>V483G</td>\n",
       "      <td>483.0</td>\n",
       "      <td>483.0</td>\n",
       "      <td>NaN</td>\n",
       "      <td>NaN</td>\n",
       "      <td>gtg</td>\n",
       "      <td>ggg</td>\n",
       "      <td>True</td>\n",
       "      <td>False</td>\n",
       "      <td>True</td>\n",
       "      <td>False</td>\n",
       "      <td>False</td>\n",
       "      <td>True</td>\n",
       "      <td>False</td>\n",
       "      <td>False</td>\n",
       "      <td>True</td>\n",
       "      <td>GENE</td>\n",
       "      <td>AAM</td>\n",
       "      <td>NaN</td>\n",
       "      <td></td>\n",
       "      <td></td>\n",
       "      <td>10</td>\n",
       "      <td>1</td>\n",
       "      <td>rpoC_V483G</td>\n",
       "      <td>True</td>\n",
       "    </tr>\n",
       "    <tr>\n",
       "      <th>site.10.subj.SATRL0116880_S12.lab.TRL0116880_S12.iso.1</th>\n",
       "      <td>rpoC</td>\n",
       "      <td>N698S</td>\n",
       "      <td>698.0</td>\n",
       "      <td>698.0</td>\n",
       "      <td>NaN</td>\n",
       "      <td>NaN</td>\n",
       "      <td>aac</td>\n",
       "      <td>agc</td>\n",
       "      <td>True</td>\n",
       "      <td>False</td>\n",
       "      <td>True</td>\n",
       "      <td>False</td>\n",
       "      <td>False</td>\n",
       "      <td>True</td>\n",
       "      <td>False</td>\n",
       "      <td>False</td>\n",
       "      <td>True</td>\n",
       "      <td>GENE</td>\n",
       "      <td>AAM</td>\n",
       "      <td>NaN</td>\n",
       "      <td></td>\n",
       "      <td></td>\n",
       "      <td>10</td>\n",
       "      <td>1</td>\n",
       "      <td>rpoC_N698S</td>\n",
       "      <td>True</td>\n",
       "    </tr>\n",
       "    <tr>\n",
       "      <th>site.10.subj.SATRL0116187_S19.lab.TRL0116187_S19.iso.1</th>\n",
       "      <td>rpoC</td>\n",
       "      <td>V483G</td>\n",
       "      <td>483.0</td>\n",
       "      <td>483.0</td>\n",
       "      <td>NaN</td>\n",
       "      <td>NaN</td>\n",
       "      <td>gtg</td>\n",
       "      <td>ggg</td>\n",
       "      <td>True</td>\n",
       "      <td>False</td>\n",
       "      <td>True</td>\n",
       "      <td>False</td>\n",
       "      <td>False</td>\n",
       "      <td>True</td>\n",
       "      <td>False</td>\n",
       "      <td>False</td>\n",
       "      <td>True</td>\n",
       "      <td>GENE</td>\n",
       "      <td>AAM</td>\n",
       "      <td>NaN</td>\n",
       "      <td></td>\n",
       "      <td></td>\n",
       "      <td>10</td>\n",
       "      <td>1</td>\n",
       "      <td>rpoC_V483G</td>\n",
       "      <td>True</td>\n",
       "    </tr>\n",
       "    <tr>\n",
       "      <th>site.10.subj.SATRL0115669_S18.lab.TRL0115669_S18.iso.1</th>\n",
       "      <td>rpoC</td>\n",
       "      <td>L527V</td>\n",
       "      <td>527.0</td>\n",
       "      <td>527.0</td>\n",
       "      <td>NaN</td>\n",
       "      <td>NaN</td>\n",
       "      <td>ttg</td>\n",
       "      <td>gtg</td>\n",
       "      <td>True</td>\n",
       "      <td>False</td>\n",
       "      <td>True</td>\n",
       "      <td>False</td>\n",
       "      <td>False</td>\n",
       "      <td>True</td>\n",
       "      <td>False</td>\n",
       "      <td>False</td>\n",
       "      <td>True</td>\n",
       "      <td>GENE</td>\n",
       "      <td>AAM</td>\n",
       "      <td>NaN</td>\n",
       "      <td></td>\n",
       "      <td></td>\n",
       "      <td>10</td>\n",
       "      <td>1</td>\n",
       "      <td>rpoC_L527V</td>\n",
       "      <td>True</td>\n",
       "    </tr>\n",
       "    <tr>\n",
       "      <th>site.10.subj.YA00008913.lab.YA00008913.iso.1</th>\n",
       "      <td>rpoC</td>\n",
       "      <td>V1252L</td>\n",
       "      <td>1252.0</td>\n",
       "      <td>1252.0</td>\n",
       "      <td>NaN</td>\n",
       "      <td>NaN</td>\n",
       "      <td>gtg</td>\n",
       "      <td>ttg</td>\n",
       "      <td>True</td>\n",
       "      <td>False</td>\n",
       "      <td>True</td>\n",
       "      <td>False</td>\n",
       "      <td>False</td>\n",
       "      <td>True</td>\n",
       "      <td>False</td>\n",
       "      <td>False</td>\n",
       "      <td>True</td>\n",
       "      <td>GENE</td>\n",
       "      <td>AAM</td>\n",
       "      <td>NaN</td>\n",
       "      <td></td>\n",
       "      <td></td>\n",
       "      <td>10</td>\n",
       "      <td>1</td>\n",
       "      <td>rpoC_V1252L</td>\n",
       "      <td>True</td>\n",
       "    </tr>\n",
       "  </tbody>\n",
       "</table>\n",
       "<p>8064 rows × 26 columns</p>\n",
       "</div>"
      ],
      "text/plain": [
       "                                                    GENE MUTATION  POSITION   \n",
       "UNIQUEID                                                                      \n",
       "site.02.subj.0958.lab.22A197.iso.1                  rpoB     P45S      45.0  \\\n",
       "site.02.subj.0918.lab.22A153.iso.1                  rpoB    I491L     491.0   \n",
       "site.02.subj.0739.lab.2013221518.iso.1              rpoC    V483A     483.0   \n",
       "site.02.subj.0885.lab.22A119.iso.1                  rpoC    V483A     483.0   \n",
       "site.02.subj.0411.lab.235087-14.iso.1               rpoA    T187A     187.0   \n",
       "...                                                  ...      ...       ...   \n",
       "site.10.subj.SATRL0116843_S10.lab.TRL0116843_S1...  rpoC    V483G     483.0   \n",
       "site.10.subj.SATRL0116880_S12.lab.TRL0116880_S1...  rpoC    N698S     698.0   \n",
       "site.10.subj.SATRL0116187_S19.lab.TRL0116187_S1...  rpoC    V483G     483.0   \n",
       "site.10.subj.SATRL0115669_S18.lab.TRL0115669_S1...  rpoC    L527V     527.0   \n",
       "site.10.subj.YA00008913.lab.YA00008913.iso.1        rpoC   V1252L    1252.0   \n",
       "\n",
       "                                                    AMINO_ACID_NUMBER   \n",
       "UNIQUEID                                                                \n",
       "site.02.subj.0958.lab.22A197.iso.1                               45.0  \\\n",
       "site.02.subj.0918.lab.22A153.iso.1                              491.0   \n",
       "site.02.subj.0739.lab.2013221518.iso.1                          483.0   \n",
       "site.02.subj.0885.lab.22A119.iso.1                              483.0   \n",
       "site.02.subj.0411.lab.235087-14.iso.1                           187.0   \n",
       "...                                                               ...   \n",
       "site.10.subj.SATRL0116843_S10.lab.TRL0116843_S1...              483.0   \n",
       "site.10.subj.SATRL0116880_S12.lab.TRL0116880_S1...              698.0   \n",
       "site.10.subj.SATRL0116187_S19.lab.TRL0116187_S1...              483.0   \n",
       "site.10.subj.SATRL0115669_S18.lab.TRL0115669_S1...              527.0   \n",
       "site.10.subj.YA00008913.lab.YA00008913.iso.1                   1252.0   \n",
       "\n",
       "                                                    GENOME_INDEX   \n",
       "UNIQUEID                                                           \n",
       "site.02.subj.0958.lab.22A197.iso.1                           NaN  \\\n",
       "site.02.subj.0918.lab.22A153.iso.1                           NaN   \n",
       "site.02.subj.0739.lab.2013221518.iso.1                       NaN   \n",
       "site.02.subj.0885.lab.22A119.iso.1                           NaN   \n",
       "site.02.subj.0411.lab.235087-14.iso.1                        NaN   \n",
       "...                                                          ...   \n",
       "site.10.subj.SATRL0116843_S10.lab.TRL0116843_S1...           NaN   \n",
       "site.10.subj.SATRL0116880_S12.lab.TRL0116880_S1...           NaN   \n",
       "site.10.subj.SATRL0116187_S19.lab.TRL0116187_S1...           NaN   \n",
       "site.10.subj.SATRL0115669_S18.lab.TRL0115669_S1...           NaN   \n",
       "site.10.subj.YA00008913.lab.YA00008913.iso.1                 NaN   \n",
       "\n",
       "                                                    NUCLEOTIDE_NUMBER  REF   \n",
       "UNIQUEID                                                                     \n",
       "site.02.subj.0958.lab.22A197.iso.1                                NaN  ccg  \\\n",
       "site.02.subj.0918.lab.22A153.iso.1                                NaN  atc   \n",
       "site.02.subj.0739.lab.2013221518.iso.1                            NaN  gtg   \n",
       "site.02.subj.0885.lab.22A119.iso.1                                NaN  gtg   \n",
       "site.02.subj.0411.lab.235087-14.iso.1                             NaN  acc   \n",
       "...                                                               ...  ...   \n",
       "site.10.subj.SATRL0116843_S10.lab.TRL0116843_S1...                NaN  gtg   \n",
       "site.10.subj.SATRL0116880_S12.lab.TRL0116880_S1...                NaN  aac   \n",
       "site.10.subj.SATRL0116187_S19.lab.TRL0116187_S1...                NaN  gtg   \n",
       "site.10.subj.SATRL0115669_S18.lab.TRL0115669_S1...                NaN  ttg   \n",
       "site.10.subj.YA00008913.lab.YA00008913.iso.1                      NaN  gtg   \n",
       "\n",
       "                                                    ALT  IS_SNP  IS_INDEL   \n",
       "UNIQUEID                                                                    \n",
       "site.02.subj.0958.lab.22A197.iso.1                  tcg    True     False  \\\n",
       "site.02.subj.0918.lab.22A153.iso.1                  ctc    True     False   \n",
       "site.02.subj.0739.lab.2013221518.iso.1              gcg    True     False   \n",
       "site.02.subj.0885.lab.22A119.iso.1                  gcg    True     False   \n",
       "site.02.subj.0411.lab.235087-14.iso.1               gcc    True     False   \n",
       "...                                                 ...     ...       ...   \n",
       "site.10.subj.SATRL0116843_S10.lab.TRL0116843_S1...  ggg    True     False   \n",
       "site.10.subj.SATRL0116880_S12.lab.TRL0116880_S1...  agc    True     False   \n",
       "site.10.subj.SATRL0116187_S19.lab.TRL0116187_S1...  ggg    True     False   \n",
       "site.10.subj.SATRL0115669_S18.lab.TRL0115669_S1...  gtg    True     False   \n",
       "site.10.subj.YA00008913.lab.YA00008913.iso.1        ttg    True     False   \n",
       "\n",
       "                                                    IN_CDS  IN_PROMOTER   \n",
       "UNIQUEID                                                                  \n",
       "site.02.subj.0958.lab.22A197.iso.1                    True        False  \\\n",
       "site.02.subj.0918.lab.22A153.iso.1                    True        False   \n",
       "site.02.subj.0739.lab.2013221518.iso.1                True        False   \n",
       "site.02.subj.0885.lab.22A119.iso.1                    True        False   \n",
       "site.02.subj.0411.lab.235087-14.iso.1                 True        False   \n",
       "...                                                    ...          ...   \n",
       "site.10.subj.SATRL0116843_S10.lab.TRL0116843_S1...    True        False   \n",
       "site.10.subj.SATRL0116880_S12.lab.TRL0116880_S1...    True        False   \n",
       "site.10.subj.SATRL0116187_S19.lab.TRL0116187_S1...    True        False   \n",
       "site.10.subj.SATRL0115669_S18.lab.TRL0115669_S1...    True        False   \n",
       "site.10.subj.YA00008913.lab.YA00008913.iso.1          True        False   \n",
       "\n",
       "                                                    IS_SYNONYMOUS   \n",
       "UNIQUEID                                                            \n",
       "site.02.subj.0958.lab.22A197.iso.1                          False  \\\n",
       "site.02.subj.0918.lab.22A153.iso.1                          False   \n",
       "site.02.subj.0739.lab.2013221518.iso.1                      False   \n",
       "site.02.subj.0885.lab.22A119.iso.1                          False   \n",
       "site.02.subj.0411.lab.235087-14.iso.1                       False   \n",
       "...                                                           ...   \n",
       "site.10.subj.SATRL0116843_S10.lab.TRL0116843_S1...          False   \n",
       "site.10.subj.SATRL0116880_S12.lab.TRL0116880_S1...          False   \n",
       "site.10.subj.SATRL0116187_S19.lab.TRL0116187_S1...          False   \n",
       "site.10.subj.SATRL0115669_S18.lab.TRL0115669_S1...          False   \n",
       "site.10.subj.YA00008913.lab.YA00008913.iso.1                False   \n",
       "\n",
       "                                                    IS_NONSYNONYMOUS  IS_HET   \n",
       "UNIQUEID                                                                       \n",
       "site.02.subj.0958.lab.22A197.iso.1                              True   False  \\\n",
       "site.02.subj.0918.lab.22A153.iso.1                              True   False   \n",
       "site.02.subj.0739.lab.2013221518.iso.1                          True   False   \n",
       "site.02.subj.0885.lab.22A119.iso.1                              True   False   \n",
       "site.02.subj.0411.lab.235087-14.iso.1                           True   False   \n",
       "...                                                              ...     ...   \n",
       "site.10.subj.SATRL0116843_S10.lab.TRL0116843_S1...              True   False   \n",
       "site.10.subj.SATRL0116880_S12.lab.TRL0116880_S1...              True   False   \n",
       "site.10.subj.SATRL0116187_S19.lab.TRL0116187_S1...              True   False   \n",
       "site.10.subj.SATRL0115669_S18.lab.TRL0115669_S1...              True   False   \n",
       "site.10.subj.YA00008913.lab.YA00008913.iso.1                    True   False   \n",
       "\n",
       "                                                    IS_NULL  IS_FILTER_PASS   \n",
       "UNIQUEID                                                                      \n",
       "site.02.subj.0958.lab.22A197.iso.1                    False            True  \\\n",
       "site.02.subj.0918.lab.22A153.iso.1                    False            True   \n",
       "site.02.subj.0739.lab.2013221518.iso.1                False            True   \n",
       "site.02.subj.0885.lab.22A119.iso.1                    False            True   \n",
       "site.02.subj.0411.lab.235087-14.iso.1                 False            True   \n",
       "...                                                     ...             ...   \n",
       "site.10.subj.SATRL0116843_S10.lab.TRL0116843_S1...    False            True   \n",
       "site.10.subj.SATRL0116880_S12.lab.TRL0116880_S1...    False            True   \n",
       "site.10.subj.SATRL0116187_S19.lab.TRL0116187_S1...    False            True   \n",
       "site.10.subj.SATRL0115669_S18.lab.TRL0115669_S1...    False            True   \n",
       "site.10.subj.YA00008913.lab.YA00008913.iso.1          False            True   \n",
       "\n",
       "                                                   ELEMENT_TYPE MUTATION_TYPE   \n",
       "UNIQUEID                                                                        \n",
       "site.02.subj.0958.lab.22A197.iso.1                         GENE           AAM  \\\n",
       "site.02.subj.0918.lab.22A153.iso.1                         GENE           AAM   \n",
       "site.02.subj.0739.lab.2013221518.iso.1                     GENE           AAM   \n",
       "site.02.subj.0885.lab.22A119.iso.1                         GENE           AAM   \n",
       "site.02.subj.0411.lab.235087-14.iso.1                      GENE           AAM   \n",
       "...                                                         ...           ...   \n",
       "site.10.subj.SATRL0116843_S10.lab.TRL0116843_S1...         GENE           AAM   \n",
       "site.10.subj.SATRL0116880_S12.lab.TRL0116880_S1...         GENE           AAM   \n",
       "site.10.subj.SATRL0116187_S19.lab.TRL0116187_S1...         GENE           AAM   \n",
       "site.10.subj.SATRL0115669_S18.lab.TRL0115669_S1...         GENE           AAM   \n",
       "site.10.subj.YA00008913.lab.YA00008913.iso.1               GENE           AAM   \n",
       "\n",
       "                                                    INDEL_LENGTH INDEL_1   \n",
       "UNIQUEID                                                                   \n",
       "site.02.subj.0958.lab.22A197.iso.1                           NaN          \\\n",
       "site.02.subj.0918.lab.22A153.iso.1                           NaN           \n",
       "site.02.subj.0739.lab.2013221518.iso.1                       NaN           \n",
       "site.02.subj.0885.lab.22A119.iso.1                           NaN           \n",
       "site.02.subj.0411.lab.235087-14.iso.1                        NaN           \n",
       "...                                                          ...     ...   \n",
       "site.10.subj.SATRL0116843_S10.lab.TRL0116843_S1...           NaN           \n",
       "site.10.subj.SATRL0116880_S12.lab.TRL0116880_S1...           NaN           \n",
       "site.10.subj.SATRL0116187_S19.lab.TRL0116187_S1...           NaN           \n",
       "site.10.subj.SATRL0115669_S18.lab.TRL0115669_S1...           NaN           \n",
       "site.10.subj.YA00008913.lab.YA00008913.iso.1                 NaN           \n",
       "\n",
       "                                                   INDEL_2 SITEID   \n",
       "UNIQUEID                                                            \n",
       "site.02.subj.0958.lab.22A197.iso.1                             02  \\\n",
       "site.02.subj.0918.lab.22A153.iso.1                             02   \n",
       "site.02.subj.0739.lab.2013221518.iso.1                         02   \n",
       "site.02.subj.0885.lab.22A119.iso.1                             02   \n",
       "site.02.subj.0411.lab.235087-14.iso.1                          02   \n",
       "...                                                    ...    ...   \n",
       "site.10.subj.SATRL0116843_S10.lab.TRL0116843_S1...             10   \n",
       "site.10.subj.SATRL0116880_S12.lab.TRL0116880_S1...             10   \n",
       "site.10.subj.SATRL0116187_S19.lab.TRL0116187_S1...             10   \n",
       "site.10.subj.SATRL0115669_S18.lab.TRL0115669_S1...             10   \n",
       "site.10.subj.YA00008913.lab.YA00008913.iso.1                   10   \n",
       "\n",
       "                                                    NUMBER_NUCLEOTIDE_CHANGES   \n",
       "UNIQUEID                                                                        \n",
       "site.02.subj.0958.lab.22A197.iso.1                                          1  \\\n",
       "site.02.subj.0918.lab.22A153.iso.1                                          1   \n",
       "site.02.subj.0739.lab.2013221518.iso.1                                      1   \n",
       "site.02.subj.0885.lab.22A119.iso.1                                          1   \n",
       "site.02.subj.0411.lab.235087-14.iso.1                                       1   \n",
       "...                                                                       ...   \n",
       "site.10.subj.SATRL0116843_S10.lab.TRL0116843_S1...                          1   \n",
       "site.10.subj.SATRL0116880_S12.lab.TRL0116880_S1...                          1   \n",
       "site.10.subj.SATRL0116187_S19.lab.TRL0116187_S1...                          1   \n",
       "site.10.subj.SATRL0115669_S18.lab.TRL0115669_S1...                          1   \n",
       "site.10.subj.YA00008913.lab.YA00008913.iso.1                                1   \n",
       "\n",
       "                                                   GENE_MUTATION  IS_CM  \n",
       "UNIQUEID                                                                 \n",
       "site.02.subj.0958.lab.22A197.iso.1                     rpoB_P45S   True  \n",
       "site.02.subj.0918.lab.22A153.iso.1                    rpoB_I491L   True  \n",
       "site.02.subj.0739.lab.2013221518.iso.1                rpoC_V483A   True  \n",
       "site.02.subj.0885.lab.22A119.iso.1                    rpoC_V483A   True  \n",
       "site.02.subj.0411.lab.235087-14.iso.1                 rpoA_T187A   True  \n",
       "...                                                          ...    ...  \n",
       "site.10.subj.SATRL0116843_S10.lab.TRL0116843_S1...    rpoC_V483G   True  \n",
       "site.10.subj.SATRL0116880_S12.lab.TRL0116880_S1...    rpoC_N698S   True  \n",
       "site.10.subj.SATRL0116187_S19.lab.TRL0116187_S1...    rpoC_V483G   True  \n",
       "site.10.subj.SATRL0115669_S18.lab.TRL0115669_S1...    rpoC_L527V   True  \n",
       "site.10.subj.YA00008913.lab.YA00008913.iso.1         rpoC_V1252L   True  \n",
       "\n",
       "[8064 rows x 26 columns]"
      ]
     },
     "execution_count": 9,
     "metadata": {},
     "output_type": "execute_result"
    }
   ],
   "source": [
    "compensatory = MUTATIONS[MUTATIONS.GENE_MUTATION.isin(hits_final.other_mutation.unique())]\n",
    "compensatory.set_index('UNIQUEID', inplace=True)\n",
    "compensatory['IS_CM'] = True\n",
    "compensatory"
   ]
  },
  {
   "cell_type": "markdown",
   "metadata": {},
   "source": [
    "Prevalence of CMs in resistant samples in lineage 2 (vs other lineages)"
   ]
  },
  {
   "cell_type": "code",
   "execution_count": 10,
   "metadata": {},
   "outputs": [
    {
     "data": {
      "text/plain": [
       "TB_TYPE_1\n",
       "SUS    47914\n",
       "MDR    16885\n",
       "UNK     8900\n",
       "XDR     2122\n",
       "RIF     2039\n",
       "Name: count, dtype: int64"
      ]
     },
     "execution_count": 10,
     "metadata": {},
     "output_type": "execute_result"
    }
   ],
   "source": [
    "GENOMES.TB_TYPE_1.value_counts()"
   ]
  },
  {
   "cell_type": "code",
   "execution_count": 11,
   "metadata": {
    "scrolled": false
   },
   "outputs": [
    {
     "name": "stdout",
     "output_type": "stream",
     "text": [
      "5873 15756 0.37274689007362277\n"
     ]
    }
   ],
   "source": [
    "res_CM = GENOMES[((GENOMES.TB_TYPE_1 == 'MDR') | (GENOMES.TB_TYPE_1 == 'XDR')) & (GENOMES.LINEAGE_NAME != 'Lineage 2') & (GENOMES.index.isin(compensatory.index))]\n",
    "res = GENOMES[((GENOMES.TB_TYPE_1 == 'MDR') | (GENOMES.TB_TYPE_1 == 'XDR')) & (GENOMES.LINEAGE_NAME != 'Lineage 2')] #(GENOMES.TB_TYPE_1 == 'RIF') | \n",
    "print(len(res_CM), len(res), len(res_CM)/len(res))"
   ]
  },
  {
   "cell_type": "markdown",
   "metadata": {},
   "source": [
    "Calculate statistic for CM prevalence in resistant samples in Lineage 2 vs other Lineages:"
   ]
  },
  {
   "cell_type": "code",
   "execution_count": 12,
   "metadata": {},
   "outputs": [
    {
     "name": "stdout",
     "output_type": "stream",
     "text": [
      "p value is 1.2772599244343872e-60\n",
      "Dependent (reject H0)\n"
     ]
    }
   ],
   "source": [
    "data_res = [[2407, 3423], [11217, 17623]]\n",
    "data_res = [[2059, 3423], [5980, 17623]]\n",
    "data_MDR = [[2047, 3251], [5873, 15756]]\n",
    "\n",
    "stat, p, dof, expected = chi2_contingency(data_MDR)\n",
    "  \n",
    "# interpret p-value\n",
    "alpha = 0.05\n",
    "print(\"p value is \" + str(p))\n",
    "if p <= alpha:\n",
    "    print('Dependent (reject H0)')\n",
    "else:\n",
    "    print('Independent (H0 holds true)')"
   ]
  },
  {
   "cell_type": "markdown",
   "metadata": {},
   "source": [
    "Now let's read in the mutational data for samples with specific mutations"
   ]
  },
  {
   "cell_type": "code",
   "execution_count": 13,
   "metadata": {
    "scrolled": true
   },
   "outputs": [],
   "source": [
    "MUTATIONS = pandas.read_pickle('/Users/viktoriabrunner/Documents/Studium/PhD/DPhil/paper/tb-rnap-compensation/tb_rnap_compensation/tables/MUTATIONS.pkl.gz')\n",
    "MUTATIONS.reset_index(inplace=True)\n",
    "\n",
    "rpob_s450l = MUTATIONS[(MUTATIONS.GENE=='rpoB') & (MUTATIONS.MUTATION=='S450L')]\n",
    "rpob_s450l.set_index('UNIQUEID', inplace=True)\n",
    "rpob_s450l['HAS_S450L'] = True\n",
    "rpob_s450l\n",
    "\n",
    "rpoc_e1092d = MUTATIONS[(MUTATIONS.GENE=='rpoC') & (MUTATIONS.MUTATION=='E1092D')] #No\n",
    "rpoc_e1092d.set_index('UNIQUEID', inplace=True)\n",
    "rpoc_e1092d['HAS_E1092D'] = True\n",
    "rpoc_e1092d\n",
    "\n",
    "rpoc_v483g = MUTATIONS[(MUTATIONS.GENE=='rpoC') & (MUTATIONS.MUTATION=='V483G')] #Yes\n",
    "rpoc_v483g.set_index('UNIQUEID', inplace=True)\n",
    "rpoc_v483g['HAS_V483G'] = True\n",
    "rpoc_v483g\n",
    "\n",
    "rpoc_i491v = MUTATIONS[(MUTATIONS.GENE=='rpoC') & (MUTATIONS.MUTATION=='I491V')] #Yes\n",
    "rpoc_i491v.set_index('UNIQUEID', inplace=True)\n",
    "rpoc_i491v['HAS_I491V'] = True\n",
    "rpoc_i491v\n",
    "\n",
    "rpoc_v483a = MUTATIONS[(MUTATIONS.GENE=='rpoC') & (MUTATIONS.MUTATION=='V483A')] #Yes\n",
    "rpoc_v483a.set_index('UNIQUEID', inplace=True)\n",
    "rpoc_v483a['HAS_V483A'] = True\n",
    "rpoc_v483a\n",
    "\n",
    "rpoc_i491t = MUTATIONS[(MUTATIONS.GENE=='rpoC') & (MUTATIONS.MUTATION=='I491T')] #Yes (but almost exclusively lineage 2)\n",
    "rpoc_i491t.set_index('UNIQUEID', inplace=True)\n",
    "rpoc_i491t['HAS_I491T'] = True\n",
    "rpoc_i491t\n",
    "\n",
    "rpoc_p1040r = MUTATIONS[(MUTATIONS.GENE=='rpoC') & (MUTATIONS.MUTATION=='P1040R')] #Yes\n",
    "rpoc_p1040r.set_index('UNIQUEID', inplace=True)\n",
    "rpoc_p1040r['HAS_P1040R'] = True\n",
    "rpoc_p1040r\n",
    "\n",
    "rpoc_g332s = MUTATIONS[(MUTATIONS.GENE=='rpoC') & (MUTATIONS.MUTATION=='G332S')] #Yes\n",
    "rpoc_g332s.set_index('UNIQUEID', inplace=True)\n",
    "rpoc_g332s['HAS_G332S'] = True\n",
    "rpoc_g332s\n",
    "\n",
    "rpoc_g433s = MUTATIONS[(MUTATIONS.GENE=='rpoC') & (MUTATIONS.MUTATION=='G433S')] #Yes\n",
    "rpoc_g433s.set_index('UNIQUEID', inplace=True)\n",
    "rpoc_g433s['HAS_G433S'] = True\n",
    "rpoc_g433s\n",
    "\n",
    "\n",
    "#rpoC_N698S\n",
    "rpoc_n698s = MUTATIONS[(MUTATIONS.GENE=='rpoC') & (MUTATIONS.MUTATION=='N698S')] #Yes\n",
    "rpoc_n698s.set_index('UNIQUEID', inplace=True)\n",
    "rpoc_n698s['HAS_N698S'] = True\n",
    "rpoc_n698s\n",
    "\n",
    "#rpoC_F452S\n",
    "rpoc_f452s = MUTATIONS[(MUTATIONS.GENE=='rpoC') & (MUTATIONS.MUTATION=='F452S')] #Yes\n",
    "rpoc_f452s.set_index('UNIQUEID', inplace=True)\n",
    "rpoc_f452s['HAS_F452S'] = True\n",
    "rpoc_f452s\n",
    "\n",
    "#rpoB_E761D\n",
    "rpob_e761d = MUTATIONS[(MUTATIONS.GENE=='rpoB') & (MUTATIONS.MUTATION=='E761D')] #Yes\n",
    "rpob_e761d.set_index('UNIQUEID', inplace=True)\n",
    "rpob_e761d['HAS_E761D'] = True\n",
    "rpob_e761d\n",
    "\n",
    "#rpoB_L731P\n",
    "rpob_l731p = MUTATIONS[(MUTATIONS.GENE=='rpoB') & (MUTATIONS.MUTATION=='L731P')] #Yes\n",
    "rpob_l731p.set_index('UNIQUEID', inplace=True)\n",
    "rpob_l731p['HAS_L731P'] = True\n",
    "rpob_l731p\n",
    "\n",
    "#rpoC_D485Y\n",
    "rpoc_d485y = MUTATIONS[(MUTATIONS.GENE=='rpoC') & (MUTATIONS.MUTATION=='D485Y')] #Yes\n",
    "rpoc_d485y.set_index('UNIQUEID', inplace=True)\n",
    "rpoc_d485y['HAS_D485Y'] = True\n",
    "rpoc_d485y\n",
    "\n",
    "#rpoC_V517L\n",
    "rpoc_v517l = MUTATIONS[(MUTATIONS.GENE=='rpoC') & (MUTATIONS.MUTATION=='V517L')] #Yes\n",
    "rpoc_v517l.set_index('UNIQUEID', inplace=True)\n",
    "rpoc_v517l['HAS_V517L'] = True\n",
    "rpoc_v517l\n",
    "\n",
    "#rpoC_V1252L\n",
    "rpoc_v1252l = MUTATIONS[(MUTATIONS.GENE=='rpoC') & (MUTATIONS.MUTATION=='V1252L')] #Yes\n",
    "rpoc_v1252l.set_index('UNIQUEID', inplace=True)\n",
    "rpoc_v1252l['HAS_V1252L'] = True\n",
    "rpoc_v1252l\n",
    "\n",
    "#rpoA_T187A\n",
    "rpoa_t187a = MUTATIONS[(MUTATIONS.GENE=='rpoA') & (MUTATIONS.MUTATION=='T187A')] #Yes\n",
    "rpoa_t187a.set_index('UNIQUEID', inplace=True)\n",
    "rpoa_t187a['HAS_T187A'] = True\n",
    "rpoa_t187a\n",
    "\n",
    "\n",
    "#rpoC_D485N\n",
    "rpoc_d485n = MUTATIONS[(MUTATIONS.GENE=='rpoC') & (MUTATIONS.MUTATION=='D485N')] #Yes\n",
    "rpoc_d485n.set_index('UNIQUEID', inplace=True)\n",
    "rpoc_d485n['HAS_D485N'] = True\n",
    "rpoc_d485n\n",
    "\n",
    "#rpoC_L516P\n",
    "rpoc_l516p = MUTATIONS[(MUTATIONS.GENE=='rpoC') & (MUTATIONS.MUTATION=='L516P')] #Yes\n",
    "rpoc_l516p.set_index('UNIQUEID', inplace=True)\n",
    "rpoc_l516p['HAS_L516P'] = True\n",
    "rpoc_l516p\n",
    "\n",
    "#rpoB_R827C\n",
    "rpob_r827c = MUTATIONS[(MUTATIONS.GENE=='rpoB') & (MUTATIONS.MUTATION=='R827C')] #Yes\n",
    "rpob_r827c.set_index('UNIQUEID', inplace=True)\n",
    "rpob_r827c['HAS_R827C'] = True\n",
    "rpob_r827c\n",
    "\n",
    "#rpoC_P1040S\n",
    "rpoc_p1040s = MUTATIONS[(MUTATIONS.GENE=='rpoC') & (MUTATIONS.MUTATION=='P1040S')] #Yes\n",
    "rpoc_p1040s.set_index('UNIQUEID', inplace=True)\n",
    "rpoc_p1040s['HAS_P1040S'] = True\n",
    "rpoc_p1040s\n",
    "\n",
    "#rpoC_G332R\n",
    "rpoc_g332R = MUTATIONS[(MUTATIONS.GENE=='rpoC') & (MUTATIONS.MUTATION=='G332R')] #Yes\n",
    "rpoc_g332R.set_index('UNIQUEID', inplace=True)\n",
    "rpoc_g332R['HAS_G332R'] = True\n",
    "rpoc_g332R\n",
    "\n",
    "#rpoC_L527V\n",
    "rpoc_l527v = MUTATIONS[(MUTATIONS.GENE=='rpoC') & (MUTATIONS.MUTATION=='L527V')] #Yes\n",
    "rpoc_l527v.set_index('UNIQUEID', inplace=True)\n",
    "rpoc_l527v['HAS_L527V'] = True\n",
    "rpoc_l527v\n",
    "\n",
    "#rpoC_P1040A\n",
    "rpoc_p1040a = MUTATIONS[(MUTATIONS.GENE=='rpoC') & (MUTATIONS.MUTATION=='P1040A')] #Yes\n",
    "rpoc_p1040a.set_index('UNIQUEID', inplace=True)\n",
    "rpoc_p1040a['HAS_P1040A'] = True\n",
    "rpoc_p1040a\n",
    "\n",
    "#rpoB_I1106T\n",
    "rpob_i1106t = MUTATIONS[(MUTATIONS.GENE=='rpoB') & (MUTATIONS.MUTATION=='I1106T')] #No\n",
    "rpob_i1106t.set_index('UNIQUEID', inplace=True)\n",
    "rpob_i1106t['HAS_I1106T'] = True\n",
    "rpob_i1106t\n",
    "\n",
    "\n",
    "#rpoC_K445R\n",
    "rpoc_k445r = MUTATIONS[(MUTATIONS.GENE=='rpoC') & (MUTATIONS.MUTATION=='K445R')] #Yes\n",
    "rpoc_k445r.set_index('UNIQUEID', inplace=True)\n",
    "rpoc_k445r['HAS_K445R'] = True\n",
    "rpoc_k445r\n",
    "\n",
    "#rpoC_F452L\n",
    "rpoc_f452l = MUTATIONS[(MUTATIONS.GENE=='rpoC') & (MUTATIONS.MUTATION=='F452L')] #Yes\n",
    "rpoc_f452l.set_index('UNIQUEID', inplace=True)\n",
    "rpoc_f452l['HAS_F452L'] = True\n",
    "rpoc_f452l\n",
    "\n",
    "#rpoC_L547V\n",
    "rpoc_l547v = MUTATIONS[(MUTATIONS.GENE=='rpoC') & (MUTATIONS.MUTATION=='L547V')] #No\n",
    "rpoc_l547v.set_index('UNIQUEID', inplace=True)\n",
    "rpoc_l547v['HAS_L547V'] = True\n",
    "rpoc_l547v\n",
    "\n",
    "#rpoB_I480V\n",
    "rpob_i480v = MUTATIONS[(MUTATIONS.GENE=='rpoB') & (MUTATIONS.MUTATION=='I480V')] #Yes\n",
    "rpob_i480v.set_index('UNIQUEID', inplace=True)\n",
    "rpob_i480v['HAS_I480V'] = True\n",
    "rpob_i480v\n",
    "\n",
    "#rpoB_K891E\n",
    "rpob_k891e = MUTATIONS[(MUTATIONS.GENE=='rpoB') & (MUTATIONS.MUTATION=='K891E')] #Yes\n",
    "rpob_k891e.set_index('UNIQUEID', inplace=True)\n",
    "rpob_k891e['HAS_K891E'] = True\n",
    "rpob_k891e\n",
    "\n",
    "#rpoC_N416S\n",
    "rpoc_n416s = MUTATIONS[(MUTATIONS.GENE=='rpoC') & (MUTATIONS.MUTATION=='N416S')] #Yes\n",
    "rpoc_n416s.set_index('UNIQUEID', inplace=True)\n",
    "rpoc_n416s['HAS_N416S'] = True\n",
    "rpoc_n416s\n",
    "\n",
    "#rpoC_E1033A\n",
    "rpoc_e1033a = MUTATIONS[(MUTATIONS.GENE=='rpoC') & (MUTATIONS.MUTATION=='E1033A')] #Yes\n",
    "rpoc_e1033a.set_index('UNIQUEID', inplace=True)\n",
    "rpoc_e1033a['HAS_E1033A'] = True\n",
    "rpoc_e1033a\n",
    "\n",
    "#rpoC_S561P\n",
    "rpoc_s561p = MUTATIONS[(MUTATIONS.GENE=='rpoC') & (MUTATIONS.MUTATION=='S561P')] #Yes\n",
    "rpoc_s561p.set_index('UNIQUEID', inplace=True)\n",
    "rpoc_s561p['HAS_S561P'] = True\n",
    "rpoc_s561p\n",
    "\n",
    "\n",
    "#rpoB_V168A\n",
    "rpob_v168a = MUTATIONS[(MUTATIONS.GENE=='rpoB') & (MUTATIONS.MUTATION=='V168A')] #Yes\n",
    "rpob_v168a.set_index('UNIQUEID', inplace=True)\n",
    "rpob_v168a['HAS_V168A'] = True\n",
    "rpob_v168a\n",
    "\n",
    "#rpoB_H1028R\n",
    "rpob_h1028r = MUTATIONS[(MUTATIONS.GENE=='rpoB') & (MUTATIONS.MUTATION=='H1028R')] #No\n",
    "rpob_h1028r.set_index('UNIQUEID', inplace=True)\n",
    "rpob_h1028r['HAS_H1028R'] = True\n",
    "rpob_h1028r\n",
    "\n",
    "#sigA_D146E\n",
    "siga_d146e = MUTATIONS[(MUTATIONS.GENE=='sigA') & (MUTATIONS.MUTATION=='D146E')] #Yes\n",
    "siga_d146e.set_index('UNIQUEID', inplace=True)\n",
    "siga_d146e['HAS_D146E'] = True\n",
    "siga_d146e\n",
    "\n",
    "#rpoA_P25R\n",
    "rpoa_p25r = MUTATIONS[(MUTATIONS.GENE=='rpoA') & (MUTATIONS.MUTATION=='P25R')] #Not enough data (1)\n",
    "rpoa_p25r.set_index('UNIQUEID', inplace=True)\n",
    "rpoa_p25r['HAS_P25R'] = True\n",
    "rpoa_p25r\n",
    "\n",
    "#rpoB_I491L\n",
    "rpob_i491l = MUTATIONS[(MUTATIONS.GENE=='rpoB') & (MUTATIONS.MUTATION=='I491L')] #Yes\n",
    "rpob_i491l.set_index('UNIQUEID', inplace=True)\n",
    "rpob_i491l['HAS_I491L'] = True\n",
    "rpob_i491l\n",
    "\n",
    "#rpoC_G388A\n",
    "rpoc_g388a = MUTATIONS[(MUTATIONS.GENE=='rpoC') & (MUTATIONS.MUTATION=='G388A')] #Yes\n",
    "rpoc_g388a.set_index('UNIQUEID', inplace=True)\n",
    "rpoc_g388a['HAS_G388A'] = True\n",
    "rpoc_g388a\n",
    "\n",
    "#sigA_A223T\n",
    "siga_a223t = MUTATIONS[(MUTATIONS.GENE=='sigA') & (MUTATIONS.MUTATION=='A223T')] #No\n",
    "siga_a223t.set_index('UNIQUEID', inplace=True)\n",
    "siga_a223t['HAS_A223T'] = True\n",
    "siga_a223t\n",
    "\n",
    "#rpoB_E207K\n",
    "rpob_e207k = MUTATIONS[(MUTATIONS.GENE=='rpoB') & (MUTATIONS.MUTATION=='E207K')] #No\n",
    "rpob_e207k.set_index('UNIQUEID', inplace=True)\n",
    "rpob_e207k['HAS_E207K'] = True\n",
    "rpob_e207k\n",
    "\n",
    "\n",
    "#rpoB_R167C\n",
    "rpob_r167c = MUTATIONS[(MUTATIONS.GENE=='rpoB') & (MUTATIONS.MUTATION=='R167C')] #Yes\n",
    "rpob_r167c.set_index('UNIQUEID', inplace=True)\n",
    "rpob_r167c['HAS_R167C'] = True\n",
    "rpob_r167c\n",
    "\n",
    "#rpoC_G571R\n",
    "rpoc_g571r = MUTATIONS[(MUTATIONS.GENE=='rpoC') & (MUTATIONS.MUTATION=='G571R')] #Yes\n",
    "rpoc_g571r.set_index('UNIQUEID', inplace=True)\n",
    "rpoc_g571r['HAS_G571R'] = True\n",
    "rpoc_g571r\n",
    "\n",
    "#rpoC_L405M\n",
    "rpoc_l405m = MUTATIONS[(MUTATIONS.GENE=='rpoC') & (MUTATIONS.MUTATION=='L405M')] #No data (0)\n",
    "rpoc_l405m.set_index('UNIQUEID', inplace=True)\n",
    "rpoc_l405m['HAS_L405M'] = True\n",
    "rpoc_l405m\n",
    "\n",
    "#rpoB_L464M\n",
    "rpob_l464m = MUTATIONS[(MUTATIONS.GENE=='rpoB') & (MUTATIONS.MUTATION=='L464M')] #No data (0)\n",
    "rpob_l464m.set_index('UNIQUEID', inplace=True)\n",
    "rpob_l464m['HAS_L464M'] = True\n",
    "rpob_l464m\n",
    "\n",
    "#rpoZ_T107I\n",
    "rpoz_t107i = MUTATIONS[(MUTATIONS.GENE=='rpoZ') & (MUTATIONS.MUTATION=='T107I')] #No data (0)\n",
    "rpoz_t107i.set_index('UNIQUEID', inplace=True)\n",
    "rpoz_t107i['HAS_T107I'] = True\n",
    "rpoz_t107i\n",
    "\n",
    "#rpoC_T853A\n",
    "rpoc_t853a = MUTATIONS[(MUTATIONS.GENE=='rpoC') & (MUTATIONS.MUTATION=='T853A')] #Yes\n",
    "rpoc_t853a.set_index('UNIQUEID', inplace=True)\n",
    "rpoc_t853a['HAS_T853A'] = True\n",
    "rpoc_t853a\n",
    "\n",
    "#make process faster (list of mutations that are missing, loop through them and make dataframe)\n",
    "mutation_list = ['rpoC_G594E','rpoB_c-61t','rpoB_V695L','rpoC_W484G','rpoB_A692T','rpoA_V183G','rpoC_P481T','rpoB_Q409R','rpoC_V1039A','rpoC_A521D','rpoB_Q975H','rpoB_P45S','rpoC_N826T','rpoA_-40_indel','rpoC_L507V','rpoC_V431M','rpoB_V496A','rpoB_I488V','rpoC_V1252M','rpoB_A286V','rpoC_K1152Q','rpoC_T812I','rpoC_G519D','rpoC_L449V','rpoB_R827L','rpoC_F452C','rpoB_A405P','rpoA_A180V','rpoC_N698K','rpoA_D190G','rpoC_H525Q','rpoC_P434R','rpoA_G31S','rpoB_P45L','sigA_247_indel','rpoA_E184D','rpoB_F503S','rpoB_T400A','rpoC_S428A','rpoB_I491V','rpoB_S874Y','rpoB_R552L','rpoA_G31A','rpoC_D747A','rpoC_P1040L','rpoC_E1033K','rpoC_R741S','rpoC_E1137G','rpoC_T1230I','rpoC_W484S','rpoB_H835R','rpoC_L449R','rpoC_N698H','rpoB_R827H','rpoA_R182L','rpoC_F831L','rpoZ_P85S','rpoC_G332C','rpoB_V496M','rpoC_H525N','rpoB_V534M','rpoC_Q523E','rpoC_E518D','rpoB_R552H','rpoC_P1040Q','rpoB_E550G','rpoB_T399I','rpoC_Q1125H','rpoB_F971L','rpoC_R770H','rpoC_P434Q','rpoC_P434T','rpoA_V183A','rpoC_V1039G','rpoC_K1152N','rpoC_P1040T','rpoC_A734V','rpoC_G433A','rpoC_K715T','rpoC_E750G','rpoB_H723D','rpoC_I885V','rpoC_E750D','rpoC_Q1110H','rpoB_L42V','rpoC_G433C','rpoC_E1113G','rpoB_I588V','rpoC_E1140D','rpoC_E757G','rpoB_V970A','rpoC_Q479R','rpoB_V534A','rpoB_Y564H','rpoB_L554P','rpoB_R552C','rpoC_P434A','rpoB_D574E','rpoA_T181A','rpoC_A492V','rpoB_I873F','rpoC_G519R','rpoA_T187P','rpoC_E488Q','rpoB_T400S','rpoC_D747G','rpoC_A1213E','rpoB_a-83g','rpoC_V1124G','rpoC_N416T','rpoB_P45T','rpoC_W484L','rpoC_V1147A','rpoC_D735E','rpoC_H748P','rpoB_N487S','rpoB_I491M','rpoB_L862R']"
   ]
  },
  {
   "cell_type": "code",
   "execution_count": 15,
   "metadata": {},
   "outputs": [
    {
     "data": {
      "text/plain": [
       "dict_keys(['sigA_L386M', 'sigA_G380A', 'rpoC_I128V', 'sigA_I382V', 'rpoB_R791T', 'rpoB_E460D', 'sigA_E385Q'])"
      ]
     },
     "execution_count": 15,
     "metadata": {},
     "output_type": "execute_result"
    }
   ],
   "source": [
    "#make process faster (list of mutations that are missing, loop through them and make dataframe)\n",
    "#mutation_list = ['rpoC_G594E','rpoB_c-61t','rpoB_V695L','rpoC_W484G','rpoB_A692T','rpoA_V183G','rpoC_P481T','rpoB_Q409R','rpoC_V1039A','rpoC_A521D','rpoB_Q975H','rpoB_P45S','rpoC_N826T','rpoA_-40_indel','rpoC_L507V','rpoC_V431M','rpoB_V496A','rpoB_I488V','rpoC_V1252M','rpoB_A286V','rpoC_K1152Q','rpoC_T812I','rpoC_G519D','rpoC_L449V','rpoB_R827L','rpoC_F452C','rpoB_A405P','rpoA_A180V','rpoC_N698K','rpoA_D190G','rpoC_H525Q','rpoC_P434R','rpoA_G31S','rpoB_P45L','sigA_247_indel','rpoA_E184D','rpoB_F503S','rpoB_T400A','rpoC_S428A','rpoB_I491V','rpoB_S874Y','rpoB_R552L','rpoA_G31A','rpoC_D747A','rpoC_P1040L','rpoC_E1033K','rpoC_R741S','rpoC_E1137G','rpoC_T1230I','rpoC_W484S','rpoB_H835R','rpoC_L449R','rpoC_N698H','rpoB_R827H','rpoA_R182L','rpoC_F831L','rpoZ_P85S','rpoC_G332C','rpoB_V496M','rpoC_H525N','rpoB_V534M','rpoC_Q523E','rpoC_E518D','rpoB_R552H','rpoC_P1040Q','rpoB_E550G','rpoB_T399I','rpoC_Q1125H','rpoB_F971L','rpoC_R770H','rpoC_P434Q','rpoC_P434T','rpoA_V183A','rpoC_V1039G','rpoC_K1152N','rpoC_P1040T','rpoC_A734V','rpoC_G433A','rpoC_K715T','rpoC_E750G','rpoB_H723D','rpoC_I885V','rpoC_E750D','rpoC_Q1110H','rpoB_L42V','rpoC_G433C','rpoC_E1113G','rpoB_I588V','rpoC_E1140D','rpoC_E757G','rpoB_V970A','rpoC_Q479R','rpoB_V534A','rpoB_Y564H','rpoB_L554P','rpoB_R552C','rpoC_P434A','rpoB_D574E','rpoA_T181A','rpoC_A492V','rpoB_I873F','rpoC_G519R','rpoA_T187P','rpoC_E488Q','rpoB_T400S','rpoC_D747G','rpoC_A1213E','rpoB_a-83g','rpoC_V1124G','rpoC_N416T','rpoB_P45T','rpoC_W484L','rpoC_V1147A','rpoC_D735E','rpoC_H748P','rpoB_N487S','rpoB_I491M','rpoB_L862R']\n",
    "#mutation_list = ['rpoB_A1075A','rpoB_A451A','rpoZ_S22S','rpoC_S548S','rpoB_G453G','rpoB_S431S','rpoC_C62C','rpoB_Q432Q','rpoB_G442G','rpoC_D404D','rpoB_L443L','rpoC_A542A','rpoB_S428S','rpoB_G426G','rpoB_P416P','sigA_V375V']\n",
    "mutation_list = ['sigA_L386M','sigA_G380A','rpoC_I128V','sigA_I382V','rpoB_R791T','rpoB_E460D','sigA_E385Q']\n",
    "mutation_list\n",
    "\n",
    "data_frames = [GENOMES[['ORIGINAL_UID', 'LINEAGE_NAME']]]\n",
    "\n",
    "d = {}\n",
    "for i,name in enumerate(mutation_list):\n",
    "    d[\"{0}\".format(name)] = MUTATIONS[(MUTATIONS.GENE==name[0:4]) & (MUTATIONS.MUTATION==name[5:])]\n",
    "    d[\"{0}\".format(name)].set_index('UNIQUEID', inplace=True)\n",
    "    d[\"{0}\".format(name)]['HAS_MUTATION'] = True\n",
    "    \n",
    "d.keys()"
   ]
  },
  {
   "cell_type": "code",
   "execution_count": 16,
   "metadata": {},
   "outputs": [
    {
     "data": {
      "text/html": [
       "<div>\n",
       "<style scoped>\n",
       "    .dataframe tbody tr th:only-of-type {\n",
       "        vertical-align: middle;\n",
       "    }\n",
       "\n",
       "    .dataframe tbody tr th {\n",
       "        vertical-align: top;\n",
       "    }\n",
       "\n",
       "    .dataframe thead th {\n",
       "        text-align: right;\n",
       "    }\n",
       "</style>\n",
       "<table border=\"1\" class=\"dataframe\">\n",
       "  <thead>\n",
       "    <tr style=\"text-align: right;\">\n",
       "      <th></th>\n",
       "      <th>UNIQUEID</th>\n",
       "      <th>LINEAGE_NAME</th>\n",
       "      <th>HAS_S450L</th>\n",
       "      <th>sigA_L386M</th>\n",
       "      <th>sigA_G380A</th>\n",
       "      <th>rpoC_I128V</th>\n",
       "      <th>sigA_I382V</th>\n",
       "      <th>rpoB_R791T</th>\n",
       "      <th>rpoB_E460D</th>\n",
       "      <th>sigA_E385Q</th>\n",
       "    </tr>\n",
       "    <tr>\n",
       "      <th>ORIGINAL_UID</th>\n",
       "      <th></th>\n",
       "      <th></th>\n",
       "      <th></th>\n",
       "      <th></th>\n",
       "      <th></th>\n",
       "      <th></th>\n",
       "      <th></th>\n",
       "      <th></th>\n",
       "      <th></th>\n",
       "      <th></th>\n",
       "    </tr>\n",
       "  </thead>\n",
       "  <tbody>\n",
       "    <tr>\n",
       "      <th>site.02.iso.1.subject.0958.lab_id.22A197.seq_reps.197</th>\n",
       "      <td>site.02.subj.0958.lab.22A197.iso.1</td>\n",
       "      <td>Lineage 2</td>\n",
       "      <td>True</td>\n",
       "      <td>False</td>\n",
       "      <td>False</td>\n",
       "      <td>False</td>\n",
       "      <td>False</td>\n",
       "      <td>False</td>\n",
       "      <td>False</td>\n",
       "      <td>False</td>\n",
       "    </tr>\n",
       "    <tr>\n",
       "      <th>site.02.iso.1.subject.0823.lab_id.2013241494.seq_reps.241494</th>\n",
       "      <td>site.02.subj.0823.lab.2013241494.iso.1</td>\n",
       "      <td>Lineage 4</td>\n",
       "      <td>False</td>\n",
       "      <td>False</td>\n",
       "      <td>False</td>\n",
       "      <td>False</td>\n",
       "      <td>False</td>\n",
       "      <td>False</td>\n",
       "      <td>False</td>\n",
       "      <td>False</td>\n",
       "    </tr>\n",
       "    <tr>\n",
       "      <th>site.02.iso.1.subject.0359.lab_id.222018-14.seq_reps.14222018</th>\n",
       "      <td>site.02.subj.0359.lab.222018-14.iso.1</td>\n",
       "      <td>Lineage 2</td>\n",
       "      <td>False</td>\n",
       "      <td>False</td>\n",
       "      <td>False</td>\n",
       "      <td>False</td>\n",
       "      <td>False</td>\n",
       "      <td>False</td>\n",
       "      <td>False</td>\n",
       "      <td>False</td>\n",
       "    </tr>\n",
       "    <tr>\n",
       "      <th>site.02.iso.1.subject.0224.lab_id.2013221088.seq_reps.13221088_2013221088</th>\n",
       "      <td>site.02.subj.0224.lab.2013221088.iso.1</td>\n",
       "      <td>Lineage 2</td>\n",
       "      <td>False</td>\n",
       "      <td>False</td>\n",
       "      <td>False</td>\n",
       "      <td>False</td>\n",
       "      <td>False</td>\n",
       "      <td>False</td>\n",
       "      <td>False</td>\n",
       "      <td>False</td>\n",
       "    </tr>\n",
       "    <tr>\n",
       "      <th>site.02.iso.1.subject.0918.lab_id.22A153.seq_reps.153</th>\n",
       "      <td>site.02.subj.0918.lab.22A153.iso.1</td>\n",
       "      <td>Lineage 2</td>\n",
       "      <td>False</td>\n",
       "      <td>False</td>\n",
       "      <td>False</td>\n",
       "      <td>False</td>\n",
       "      <td>False</td>\n",
       "      <td>False</td>\n",
       "      <td>False</td>\n",
       "      <td>False</td>\n",
       "    </tr>\n",
       "    <tr>\n",
       "      <th>...</th>\n",
       "      <td>...</td>\n",
       "      <td>...</td>\n",
       "      <td>...</td>\n",
       "      <td>...</td>\n",
       "      <td>...</td>\n",
       "      <td>...</td>\n",
       "      <td>...</td>\n",
       "      <td>...</td>\n",
       "      <td>...</td>\n",
       "      <td>...</td>\n",
       "    </tr>\n",
       "    <tr>\n",
       "      <th>site.10.iso.1.subject.YA00023171.lab_id.YA00023171.seq_reps.1</th>\n",
       "      <td>site.10.subj.YA00023171.lab.YA00023171.iso.1</td>\n",
       "      <td>Lineage 4</td>\n",
       "      <td>False</td>\n",
       "      <td>False</td>\n",
       "      <td>False</td>\n",
       "      <td>False</td>\n",
       "      <td>False</td>\n",
       "      <td>False</td>\n",
       "      <td>False</td>\n",
       "      <td>False</td>\n",
       "    </tr>\n",
       "    <tr>\n",
       "      <th>None</th>\n",
       "      <td>site.10.subj.SADH00634109_S16.lab.DH00634109_S...</td>\n",
       "      <td></td>\n",
       "      <td>False</td>\n",
       "      <td>False</td>\n",
       "      <td>False</td>\n",
       "      <td>False</td>\n",
       "      <td>False</td>\n",
       "      <td>False</td>\n",
       "      <td>False</td>\n",
       "      <td>False</td>\n",
       "    </tr>\n",
       "    <tr>\n",
       "      <th>None</th>\n",
       "      <td>site.10.subj.H37RV_SA2437.lab.H37RV_SA2437.iso.1</td>\n",
       "      <td></td>\n",
       "      <td>False</td>\n",
       "      <td>False</td>\n",
       "      <td>False</td>\n",
       "      <td>False</td>\n",
       "      <td>False</td>\n",
       "      <td>False</td>\n",
       "      <td>False</td>\n",
       "      <td>False</td>\n",
       "    </tr>\n",
       "    <tr>\n",
       "      <th>site.10.iso.1.subject.YA00044774.lab_id.YA00044774.seq_reps.1</th>\n",
       "      <td>site.10.subj.YA00044774.lab.YA00044774.iso.1</td>\n",
       "      <td>Lineage 4</td>\n",
       "      <td>False</td>\n",
       "      <td>False</td>\n",
       "      <td>False</td>\n",
       "      <td>False</td>\n",
       "      <td>False</td>\n",
       "      <td>False</td>\n",
       "      <td>False</td>\n",
       "      <td>False</td>\n",
       "    </tr>\n",
       "    <tr>\n",
       "      <th>site.10.iso.1.subject.YA00166043.lab_id.YA00166043.seq_reps.1</th>\n",
       "      <td>site.10.subj.YA00166043.lab.YA00166043.iso.1</td>\n",
       "      <td>Lineage 2</td>\n",
       "      <td>False</td>\n",
       "      <td>False</td>\n",
       "      <td>False</td>\n",
       "      <td>False</td>\n",
       "      <td>False</td>\n",
       "      <td>False</td>\n",
       "      <td>False</td>\n",
       "      <td>False</td>\n",
       "    </tr>\n",
       "  </tbody>\n",
       "</table>\n",
       "<p>77860 rows × 10 columns</p>\n",
       "</div>"
      ],
      "text/plain": [
       "                                                                                             UNIQUEID   \n",
       "ORIGINAL_UID                                                                                            \n",
       "site.02.iso.1.subject.0958.lab_id.22A197.seq_re...                 site.02.subj.0958.lab.22A197.iso.1  \\\n",
       "site.02.iso.1.subject.0823.lab_id.2013241494.se...             site.02.subj.0823.lab.2013241494.iso.1   \n",
       "site.02.iso.1.subject.0359.lab_id.222018-14.seq...              site.02.subj.0359.lab.222018-14.iso.1   \n",
       "site.02.iso.1.subject.0224.lab_id.2013221088.se...             site.02.subj.0224.lab.2013221088.iso.1   \n",
       "site.02.iso.1.subject.0918.lab_id.22A153.seq_re...                 site.02.subj.0918.lab.22A153.iso.1   \n",
       "...                                                                                               ...   \n",
       "site.10.iso.1.subject.YA00023171.lab_id.YA00023...       site.10.subj.YA00023171.lab.YA00023171.iso.1   \n",
       "None                                                site.10.subj.SADH00634109_S16.lab.DH00634109_S...   \n",
       "None                                                 site.10.subj.H37RV_SA2437.lab.H37RV_SA2437.iso.1   \n",
       "site.10.iso.1.subject.YA00044774.lab_id.YA00044...       site.10.subj.YA00044774.lab.YA00044774.iso.1   \n",
       "site.10.iso.1.subject.YA00166043.lab_id.YA00166...       site.10.subj.YA00166043.lab.YA00166043.iso.1   \n",
       "\n",
       "                                                   LINEAGE_NAME  HAS_S450L   \n",
       "ORIGINAL_UID                                                                 \n",
       "site.02.iso.1.subject.0958.lab_id.22A197.seq_re...    Lineage 2       True  \\\n",
       "site.02.iso.1.subject.0823.lab_id.2013241494.se...    Lineage 4      False   \n",
       "site.02.iso.1.subject.0359.lab_id.222018-14.seq...    Lineage 2      False   \n",
       "site.02.iso.1.subject.0224.lab_id.2013221088.se...    Lineage 2      False   \n",
       "site.02.iso.1.subject.0918.lab_id.22A153.seq_re...    Lineage 2      False   \n",
       "...                                                         ...        ...   \n",
       "site.10.iso.1.subject.YA00023171.lab_id.YA00023...    Lineage 4      False   \n",
       "None                                                                 False   \n",
       "None                                                                 False   \n",
       "site.10.iso.1.subject.YA00044774.lab_id.YA00044...    Lineage 4      False   \n",
       "site.10.iso.1.subject.YA00166043.lab_id.YA00166...    Lineage 2      False   \n",
       "\n",
       "                                                    sigA_L386M  sigA_G380A   \n",
       "ORIGINAL_UID                                                                 \n",
       "site.02.iso.1.subject.0958.lab_id.22A197.seq_re...       False       False  \\\n",
       "site.02.iso.1.subject.0823.lab_id.2013241494.se...       False       False   \n",
       "site.02.iso.1.subject.0359.lab_id.222018-14.seq...       False       False   \n",
       "site.02.iso.1.subject.0224.lab_id.2013221088.se...       False       False   \n",
       "site.02.iso.1.subject.0918.lab_id.22A153.seq_re...       False       False   \n",
       "...                                                        ...         ...   \n",
       "site.10.iso.1.subject.YA00023171.lab_id.YA00023...       False       False   \n",
       "None                                                     False       False   \n",
       "None                                                     False       False   \n",
       "site.10.iso.1.subject.YA00044774.lab_id.YA00044...       False       False   \n",
       "site.10.iso.1.subject.YA00166043.lab_id.YA00166...       False       False   \n",
       "\n",
       "                                                    rpoC_I128V  sigA_I382V   \n",
       "ORIGINAL_UID                                                                 \n",
       "site.02.iso.1.subject.0958.lab_id.22A197.seq_re...       False       False  \\\n",
       "site.02.iso.1.subject.0823.lab_id.2013241494.se...       False       False   \n",
       "site.02.iso.1.subject.0359.lab_id.222018-14.seq...       False       False   \n",
       "site.02.iso.1.subject.0224.lab_id.2013221088.se...       False       False   \n",
       "site.02.iso.1.subject.0918.lab_id.22A153.seq_re...       False       False   \n",
       "...                                                        ...         ...   \n",
       "site.10.iso.1.subject.YA00023171.lab_id.YA00023...       False       False   \n",
       "None                                                     False       False   \n",
       "None                                                     False       False   \n",
       "site.10.iso.1.subject.YA00044774.lab_id.YA00044...       False       False   \n",
       "site.10.iso.1.subject.YA00166043.lab_id.YA00166...       False       False   \n",
       "\n",
       "                                                    rpoB_R791T  rpoB_E460D   \n",
       "ORIGINAL_UID                                                                 \n",
       "site.02.iso.1.subject.0958.lab_id.22A197.seq_re...       False       False  \\\n",
       "site.02.iso.1.subject.0823.lab_id.2013241494.se...       False       False   \n",
       "site.02.iso.1.subject.0359.lab_id.222018-14.seq...       False       False   \n",
       "site.02.iso.1.subject.0224.lab_id.2013221088.se...       False       False   \n",
       "site.02.iso.1.subject.0918.lab_id.22A153.seq_re...       False       False   \n",
       "...                                                        ...         ...   \n",
       "site.10.iso.1.subject.YA00023171.lab_id.YA00023...       False       False   \n",
       "None                                                     False       False   \n",
       "None                                                     False       False   \n",
       "site.10.iso.1.subject.YA00044774.lab_id.YA00044...       False       False   \n",
       "site.10.iso.1.subject.YA00166043.lab_id.YA00166...       False       False   \n",
       "\n",
       "                                                    sigA_E385Q  \n",
       "ORIGINAL_UID                                                    \n",
       "site.02.iso.1.subject.0958.lab_id.22A197.seq_re...       False  \n",
       "site.02.iso.1.subject.0823.lab_id.2013241494.se...       False  \n",
       "site.02.iso.1.subject.0359.lab_id.222018-14.seq...       False  \n",
       "site.02.iso.1.subject.0224.lab_id.2013221088.se...       False  \n",
       "site.02.iso.1.subject.0918.lab_id.22A153.seq_re...       False  \n",
       "...                                                        ...  \n",
       "site.10.iso.1.subject.YA00023171.lab_id.YA00023...       False  \n",
       "None                                                     False  \n",
       "None                                                     False  \n",
       "site.10.iso.1.subject.YA00044774.lab_id.YA00044...       False  \n",
       "site.10.iso.1.subject.YA00166043.lab_id.YA00166...       False  \n",
       "\n",
       "[77860 rows x 10 columns]"
      ]
     },
     "execution_count": 16,
     "metadata": {},
     "output_type": "execute_result"
    }
   ],
   "source": [
    "LABELS = GENOMES[['ORIGINAL_UID', 'LINEAGE_NAME']].join(rpob_s450l[['HAS_S450L']], how='left')\n",
    "LABELS.fillna(value={'HAS_S450L': False}, inplace=True)\n",
    "\n",
    "for i,name in enumerate(d.keys()):\n",
    "    LABELS = LABELS.join(d[name]['HAS_MUTATION'], how='left')\n",
    "    LABELS.rename(columns=({ 'HAS_MUTATION': name}), inplace=True)\n",
    "    LABELS.fillna(value={name: False}, inplace=True)\n",
    "\n",
    "LABELS.reset_index(inplace=True)\n",
    "LABELS.set_index('ORIGINAL_UID', inplace=True)\n",
    "LABELS"
   ]
  },
  {
   "cell_type": "markdown",
   "metadata": {},
   "source": [
    "Join the boolean dataframes with the LABEL dataframe"
   ]
  },
  {
   "cell_type": "code",
   "execution_count": 17,
   "metadata": {
    "scrolled": true
   },
   "outputs": [
    {
     "data": {
      "text/plain": [
       "ORIGINAL_UID\n",
       "site.02.iso.1.subject.0958.lab_id.22A197.seq_reps.197              1\n",
       "site.13.iso.1.subject.180200018.lab_id.180200018.seq_reps.1        1\n",
       "site.13.iso.1.subject.140300022.lab_id.140300022.seq_reps.1        1\n",
       "site.13.iso.1.subject.080200106.lab_id.080200106.seq_reps.1        1\n",
       "site.13.iso.1.subject.180200089.lab_id.180200089.seq_reps.1        1\n",
       "                                                                  ..\n",
       "site.11.iso.1.subject.XTB_17-589.lab_id.XTB_17-589.seq_reps.1      1\n",
       "site.11.iso.1.subject.XTB_18-022.lab_id.XTB_18-022.seq_reps.1_2    1\n",
       "site.11.iso.1.subject.XTB_17-188.lab_id.XTB_17-188.seq_reps.1      1\n",
       "site.11.iso.1.subject.XTB_18-108.lab_id.XTB_18-108.seq_reps.1      1\n",
       "site.10.iso.1.subject.YA00166043.lab_id.YA00166043.seq_reps.1      1\n",
       "Name: count, Length: 15228, dtype: int64"
      ]
     },
     "execution_count": 17,
     "metadata": {},
     "output_type": "execute_result"
    }
   ],
   "source": [
    "LABELS = GENOMES[['ORIGINAL_UID', 'LINEAGE_NAME']].join(rpob_s450l[['HAS_S450L']], how='left')\n",
    "LABELS.fillna(value={'HAS_S450L': False}, inplace=True)\n",
    "LABELS.reset_index(inplace=True)\n",
    "LABELS.set_index('ORIGINAL_UID', inplace=True)\n",
    "LABELS.index.value_counts()"
   ]
  },
  {
   "cell_type": "markdown",
   "metadata": {},
   "source": [
    "Tried more efficient way of joining multiple dataframes (still has same issue of duplicated UNIQUEIDs when joining resistant and compensatory)"
   ]
  },
  {
   "cell_type": "code",
   "execution_count": 13,
   "metadata": {
    "scrolled": true
   },
   "outputs": [
    {
     "data": {
      "text/plain": [
       "ORIGINAL_UID\n",
       "False                                                                    63079\n",
       "site.03.iso.1.subject.JPN-R2012-0044.lab_id.JPN-R2012-0044.seq_reps.1        3\n",
       "site.02.iso.1.subject.0183.lab_id.2013222280.seq_reps.2013222280             3\n",
       "site.02.iso.1.subject.0070.lab_id.22A021.seq_reps.21                         3\n",
       "site.02.iso.1.subject.0133.lab_id.22A088.seq_reps.88                         3\n",
       "                                                                         ...  \n",
       "site.11.iso.1.subject.XTB-18-189.lab_id.XTB-18-189.seq_reps.1                1\n",
       "site.11.iso.1.subject.XTB_18-028.lab_id.XTB_18-028.seq_reps.1_2              1\n",
       "site.11.iso.1.subject.XTB-18-160.lab_id.XTB-18-160.seq_reps.1                1\n",
       "site.11.iso.1.subject.XTB_17-505.lab_id.XTB_17-505.seq_reps.1_2              1\n",
       "site.10.iso.1.subject.YA00166043.lab_id.YA00166043.seq_reps.1                1\n",
       "Name: count, Length: 15229, dtype: int64"
      ]
     },
     "execution_count": 13,
     "metadata": {},
     "output_type": "execute_result"
    }
   ],
   "source": [
    "data_frames = [GENOMES[['ORIGINAL_UID', 'LINEAGE_NAME']], resistant[['IS_RES']], compensatory[['IS_CM']],\n",
    "               rpoc_e1092d[['HAS_E1092D']], rpoc_v483g[['HAS_V483G']], rpob_s450l[['HAS_S450L']], \n",
    "               rpoc_i491v[['HAS_I491V']], rpoc_v483a[['HAS_V483A']], rpoc_i491t[['HAS_I491T']], \n",
    "               rpoc_p1040r[['HAS_P1040R']],rpoc_g332s[['HAS_G332S']], rpoc_g433s[['HAS_G433S']], \n",
    "               rpoc_n698s[['HAS_N698S']], rpoc_f452s[['HAS_F452S']], rpob_e761d[['HAS_E761D']], \n",
    "               rpob_l731p[['HAS_L731P']], rpoc_d485y[['HAS_D485Y']], rpoc_v517l[['HAS_V517L']], \n",
    "               rpoc_v1252l[['HAS_V1252L']], rpoa_t187a[['HAS_T187A']], rpoc_d485n[['HAS_D485N']], \n",
    "               rpoc_l516p[['HAS_L516P']], rpob_r827c[['HAS_R827C']], rpoc_p1040s[['HAS_P1040S']], \n",
    "               rpoc_g332R[['HAS_G332R']], rpoc_l527v[['HAS_L527V']], rpoc_p1040a[['HAS_P1040A']], \n",
    "               rpob_i1106t[['HAS_I1106T']], rpoc_k445r[['HAS_K445R']], rpoc_f452l[['HAS_F452L']], \n",
    "               rpoc_l547v[['HAS_L547V']], rpob_i480v[['HAS_I480V']], rpob_k891e[['HAS_K891E']], \n",
    "               rpoc_n416s[['HAS_N416S']], rpoc_e1033a[['HAS_E1033A']], rpoc_s561p[['HAS_S561P']], \n",
    "               rpob_v168a[['HAS_V168A']], rpob_h1028r[['HAS_H1028R']], siga_d146e[['HAS_D146E']], \n",
    "               rpoa_p25r[['HAS_P25R']], rpob_i491l[['HAS_I491L']], rpoc_g388a[['HAS_G388A']], \n",
    "               siga_a223t[['HAS_A223T']], rpob_e207k[['HAS_E207K']], rpob_r167c[['HAS_R167C']], \n",
    "               rpoc_g571r[['HAS_G571R']], rpoc_l405m[['HAS_L405M']], rpob_l464m[['HAS_L464M']], \n",
    "               rpoz_t107i[['HAS_T107I']], rpoc_t853a[['HAS_T853A']]]\n",
    "\n",
    "LABELS = reduce(lambda  left,right: pandas.merge(left,right, on=['UNIQUEID'],\n",
    "                                            how='outer'), data_frames)\n",
    "LABELS.replace(numpy.nan, False, inplace = True)\n",
    "LABELS.reset_index(inplace=True)\n",
    "LABELS.set_index('ORIGINAL_UID', inplace=True)\n",
    "LABELS.index.value_counts()"
   ]
  },
  {
   "cell_type": "code",
   "execution_count": 18,
   "metadata": {},
   "outputs": [
    {
     "data": {
      "text/html": [
       "<div>\n",
       "<style scoped>\n",
       "    .dataframe tbody tr th:only-of-type {\n",
       "        vertical-align: middle;\n",
       "    }\n",
       "\n",
       "    .dataframe tbody tr th {\n",
       "        vertical-align: top;\n",
       "    }\n",
       "\n",
       "    .dataframe thead th {\n",
       "        text-align: right;\n",
       "    }\n",
       "</style>\n",
       "<table border=\"1\" class=\"dataframe\">\n",
       "  <thead>\n",
       "    <tr style=\"text-align: right;\">\n",
       "      <th></th>\n",
       "      <th>UNIQUEID</th>\n",
       "      <th>LINEAGE_NAME</th>\n",
       "      <th>HAS_S450L</th>\n",
       "    </tr>\n",
       "    <tr>\n",
       "      <th>ORIGINAL_UID</th>\n",
       "      <th></th>\n",
       "      <th></th>\n",
       "      <th></th>\n",
       "    </tr>\n",
       "  </thead>\n",
       "  <tbody>\n",
       "    <tr>\n",
       "      <th>site.02.iso.1.subject.0958.lab_id.22A197.seq_reps.197</th>\n",
       "      <td>site.02.subj.0958.lab.22A197.iso.1</td>\n",
       "      <td>Lineage 2</td>\n",
       "      <td>True</td>\n",
       "    </tr>\n",
       "    <tr>\n",
       "      <th>site.02.iso.1.subject.0823.lab_id.2013241494.seq_reps.241494</th>\n",
       "      <td>site.02.subj.0823.lab.2013241494.iso.1</td>\n",
       "      <td>Lineage 4</td>\n",
       "      <td>False</td>\n",
       "    </tr>\n",
       "    <tr>\n",
       "      <th>site.02.iso.1.subject.0359.lab_id.222018-14.seq_reps.14222018</th>\n",
       "      <td>site.02.subj.0359.lab.222018-14.iso.1</td>\n",
       "      <td>Lineage 2</td>\n",
       "      <td>False</td>\n",
       "    </tr>\n",
       "    <tr>\n",
       "      <th>site.02.iso.1.subject.0224.lab_id.2013221088.seq_reps.13221088_2013221088</th>\n",
       "      <td>site.02.subj.0224.lab.2013221088.iso.1</td>\n",
       "      <td>Lineage 2</td>\n",
       "      <td>False</td>\n",
       "    </tr>\n",
       "    <tr>\n",
       "      <th>site.02.iso.1.subject.0918.lab_id.22A153.seq_reps.153</th>\n",
       "      <td>site.02.subj.0918.lab.22A153.iso.1</td>\n",
       "      <td>Lineage 2</td>\n",
       "      <td>False</td>\n",
       "    </tr>\n",
       "    <tr>\n",
       "      <th>...</th>\n",
       "      <td>...</td>\n",
       "      <td>...</td>\n",
       "      <td>...</td>\n",
       "    </tr>\n",
       "    <tr>\n",
       "      <th>site.10.iso.1.subject.YA00023171.lab_id.YA00023171.seq_reps.1</th>\n",
       "      <td>site.10.subj.YA00023171.lab.YA00023171.iso.1</td>\n",
       "      <td>Lineage 4</td>\n",
       "      <td>False</td>\n",
       "    </tr>\n",
       "    <tr>\n",
       "      <th>None</th>\n",
       "      <td>site.10.subj.SADH00634109_S16.lab.DH00634109_S...</td>\n",
       "      <td></td>\n",
       "      <td>False</td>\n",
       "    </tr>\n",
       "    <tr>\n",
       "      <th>None</th>\n",
       "      <td>site.10.subj.H37RV_SA2437.lab.H37RV_SA2437.iso.1</td>\n",
       "      <td></td>\n",
       "      <td>False</td>\n",
       "    </tr>\n",
       "    <tr>\n",
       "      <th>site.10.iso.1.subject.YA00044774.lab_id.YA00044774.seq_reps.1</th>\n",
       "      <td>site.10.subj.YA00044774.lab.YA00044774.iso.1</td>\n",
       "      <td>Lineage 4</td>\n",
       "      <td>False</td>\n",
       "    </tr>\n",
       "    <tr>\n",
       "      <th>site.10.iso.1.subject.YA00166043.lab_id.YA00166043.seq_reps.1</th>\n",
       "      <td>site.10.subj.YA00166043.lab.YA00166043.iso.1</td>\n",
       "      <td>Lineage 2</td>\n",
       "      <td>False</td>\n",
       "    </tr>\n",
       "  </tbody>\n",
       "</table>\n",
       "<p>77860 rows × 3 columns</p>\n",
       "</div>"
      ],
      "text/plain": [
       "                                                                                             UNIQUEID   \n",
       "ORIGINAL_UID                                                                                            \n",
       "site.02.iso.1.subject.0958.lab_id.22A197.seq_re...                 site.02.subj.0958.lab.22A197.iso.1  \\\n",
       "site.02.iso.1.subject.0823.lab_id.2013241494.se...             site.02.subj.0823.lab.2013241494.iso.1   \n",
       "site.02.iso.1.subject.0359.lab_id.222018-14.seq...              site.02.subj.0359.lab.222018-14.iso.1   \n",
       "site.02.iso.1.subject.0224.lab_id.2013221088.se...             site.02.subj.0224.lab.2013221088.iso.1   \n",
       "site.02.iso.1.subject.0918.lab_id.22A153.seq_re...                 site.02.subj.0918.lab.22A153.iso.1   \n",
       "...                                                                                               ...   \n",
       "site.10.iso.1.subject.YA00023171.lab_id.YA00023...       site.10.subj.YA00023171.lab.YA00023171.iso.1   \n",
       "None                                                site.10.subj.SADH00634109_S16.lab.DH00634109_S...   \n",
       "None                                                 site.10.subj.H37RV_SA2437.lab.H37RV_SA2437.iso.1   \n",
       "site.10.iso.1.subject.YA00044774.lab_id.YA00044...       site.10.subj.YA00044774.lab.YA00044774.iso.1   \n",
       "site.10.iso.1.subject.YA00166043.lab_id.YA00166...       site.10.subj.YA00166043.lab.YA00166043.iso.1   \n",
       "\n",
       "                                                   LINEAGE_NAME  HAS_S450L  \n",
       "ORIGINAL_UID                                                                \n",
       "site.02.iso.1.subject.0958.lab_id.22A197.seq_re...    Lineage 2       True  \n",
       "site.02.iso.1.subject.0823.lab_id.2013241494.se...    Lineage 4      False  \n",
       "site.02.iso.1.subject.0359.lab_id.222018-14.seq...    Lineage 2      False  \n",
       "site.02.iso.1.subject.0224.lab_id.2013221088.se...    Lineage 2      False  \n",
       "site.02.iso.1.subject.0918.lab_id.22A153.seq_re...    Lineage 2      False  \n",
       "...                                                         ...        ...  \n",
       "site.10.iso.1.subject.YA00023171.lab_id.YA00023...    Lineage 4      False  \n",
       "None                                                                 False  \n",
       "None                                                                 False  \n",
       "site.10.iso.1.subject.YA00044774.lab_id.YA00044...    Lineage 4      False  \n",
       "site.10.iso.1.subject.YA00166043.lab_id.YA00166...    Lineage 2      False  \n",
       "\n",
       "[77860 rows x 3 columns]"
      ]
     },
     "execution_count": 18,
     "metadata": {},
     "output_type": "execute_result"
    }
   ],
   "source": [
    "LABELS"
   ]
  },
  {
   "cell_type": "markdown",
   "metadata": {},
   "source": [
    "Read in the Newick file downloaded from ITOL. To get this I uploaded the Newick file in the `Brankin_Malone` repo and then exported it again as a Newick. Don't know why but trying to use the original Newick leads to errors in `tsconvert` lower down"
   ]
  },
  {
   "cell_type": "code",
   "execution_count": 19,
   "metadata": {},
   "outputs": [
    {
     "name": "stdout",
     "output_type": "stream",
     "text": [
      "(site.04.iso.1.subject.03818.lab_id.830476.seq_reps.1:6.90800,site.04.iso.1.subject.00310.lab_id.701951.seq_reps.1:3.09200,(site.04.iso.1.subject.01627.lab_id.27972.seq_reps.1:0.46454,(site.04.iso.1.subject.01042.lab_id.717652.seq_reps.1:8.18534,(((site.04.iso.1.subject.02112.lab_id.803805.seq_reps.1:9.91015,site.04.iso.1.subject.04137.lab_id.832790.seq_reps.1:8.08985):0.17857,((((site.04.iso.1.subject.01432.lab_id.724551.seq_reps.1:1.73206,site.04.iso.1.subject.02235.lab_id.805177.seq_reps.1:4.26794):0.87800,(site.04.iso.1.subject.00300.lab_id.702487.seq_reps.1:0.00000,site.04.iso.1.subject.03648.lab_id.JJH9682.seq_reps.1:2.00000):3.62200):8.94817,(site.04.iso.1.subject.00564.lab_id.709046.seq_reps.1:7.96229,(site.04.iso.1.subject.04356.lab_id.903933.seq_reps.1:5.42753,(site.04.iso.1.subject.01175.lab_id.721997.seq_reps.1:1.00000,site.04.iso.1.subject.01288.lab_id.801278.seq_reps.1:0.00000):3.07247):2.53771):1.48933):0.11168,(((site.04.iso.1.subject.02152.lab_id.803055.seq_reps.1:0.89\n"
     ]
    }
   ],
   "source": [
    "with open('cryptic_tree.itol.newick', 'r') as f:\n",
    "    cryptic_newick = f.read()\n",
    "\n",
    "print(cryptic_newick[:1000])"
   ]
  },
  {
   "cell_type": "markdown",
   "metadata": {},
   "source": [
    "Use `tsconvert` to convert to a succint tree sequence"
   ]
  },
  {
   "cell_type": "code",
   "execution_count": 20,
   "metadata": {},
   "outputs": [
    {
     "name": "stdout",
     "output_type": "stream",
     "text": [
      "done\n"
     ]
    }
   ],
   "source": [
    "ts = tsconvert.from_newick(cryptic_newick, min_edge_length=0.001)\n",
    "print('done')"
   ]
  },
  {
   "cell_type": "markdown",
   "metadata": {},
   "source": [
    "Get a copy of the underlying tables that describe the tree so we can relate the `node id` to the `UNIQUEID`"
   ]
  },
  {
   "cell_type": "code",
   "execution_count": 21,
   "metadata": {
    "scrolled": true
   },
   "outputs": [
    {
     "data": {
      "text/html": [
       "\n",
       "        <div>\n",
       "            <style scoped=\"\">\n",
       "                .tskit-table tbody tr th:only-of-type {vertical-align: middle;}\n",
       "                .tskit-table tbody tr th {vertical-align: top;}\n",
       "                .tskit-table tbody td {text-align: right;padding: 0.5em 0.5em;}\n",
       "                .tskit-table tbody th {padding: 0.5em 0.5em;}\n",
       "            </style>\n",
       "            <table border=\"1\" class=\"tskit-table\">\n",
       "                <thead>\n",
       "                    <tr>\n",
       "                        <th>id</th><th>flags</th><th>population</th><th>individual</th><th>time</th><th>metadata</th>\n",
       "                    </tr>\n",
       "                </thead>\n",
       "                <tbody>\n",
       "                    <tr><td>0</td><td>0</td><td>-1</td><td>-1</td><td>2060.10904000</td><td>{}</td></tr>\n",
       "<tr><td>1</td><td>1</td><td>-1</td><td>-1</td><td>2053.20104000</td><td>{'name': 'site.04.iso.1.subject.03818...</td></tr>\n",
       "<tr><td>2</td><td>1</td><td>-1</td><td>-1</td><td>2057.01704000</td><td>{'name': 'site.04.iso.1.subject.00310...</td></tr>\n",
       "\n",
       "                </tbody>\n",
       "            </table>\n",
       "        </div>\n",
       "    "
      ],
      "text/plain": [
       "<tskit.tables.NodeTable at 0x12bfb1930>"
      ]
     },
     "execution_count": 21,
     "metadata": {},
     "output_type": "execute_result"
    }
   ],
   "source": [
    "new_tables = ts.dump_tables()  # make a copy of the tree sequence tables, for parsing\n",
    "new_tables.nodes[:3]"
   ]
  },
  {
   "cell_type": "markdown",
   "metadata": {},
   "source": [
    "Attempt to prune the tree by removing lineages that are not 1-4, and removing outliers/ inconclusive sequences"
   ]
  },
  {
   "cell_type": "code",
   "execution_count": 31,
   "metadata": {},
   "outputs": [
    {
     "name": "stderr",
     "output_type": "stream",
     "text": [
      "  0%|                                       | 51/30454 [00:00<01:59, 253.68it/s]"
     ]
    },
    {
     "name": "stdout",
     "output_type": "stream",
     "text": [
      "inconclusive sequencing: 1 {'name': 'site.04.iso.1.subject.03818.lab_id.830476.seq_reps.1'}\n"
     ]
    },
    {
     "name": "stderr",
     "output_type": "stream",
     "text": [
      "  0%|▏                                     | 150/30454 [00:00<01:38, 309.00it/s]"
     ]
    },
    {
     "name": "stdout",
     "output_type": "stream",
     "text": [
      "inconclusive sequencing: 106 {'name': 'site.04.iso.1.subject.03595.lab_id.819090.seq_reps.1'}\n",
      "inconclusive sequencing: 139 {'name': 'site.04.iso.1.subject.04511.lab_id.905563.seq_reps.1_2'}\n",
      "inconclusive sequencing: 164 {'name': 'site.04.iso.1.subject.04554.lab_id.903942.seq_reps.1'}\n"
     ]
    },
    {
     "name": "stderr",
     "output_type": "stream",
     "text": [
      "  1%|▎                                     | 252/30454 [00:00<01:33, 322.95it/s]"
     ]
    },
    {
     "name": "stdout",
     "output_type": "stream",
     "text": [
      "inconclusive sequencing: 196 {'name': 'site.04.iso.1.subject.04556.lab_id.901728.seq_reps.1'}\n"
     ]
    },
    {
     "name": "stderr",
     "output_type": "stream",
     "text": [
      "  1%|▍                                     | 357/30454 [00:01<01:30, 332.45it/s]"
     ]
    },
    {
     "name": "stdout",
     "output_type": "stream",
     "text": [
      "inconclusive sequencing: 312 {'name': 'site.04.iso.1.subject.00549.lab_id.712263.seq_reps.1'}\n",
      "inconclusive sequencing: 314 {'name': 'site.04.iso.1.subject.00429.lab_id.712261.seq_reps.1'}\n",
      "inconclusive sequencing: 337 {'name': 'site.04.iso.1.subject.03218.lab_id.825638.seq_reps.1'}\n",
      "inconclusive sequencing: 360 {'name': 'site.04.iso.1.subject.00898.lab_id.716085.seq_reps.1'}\n"
     ]
    },
    {
     "name": "stderr",
     "output_type": "stream",
     "text": [
      "  2%|▌                                     | 495/30454 [00:01<01:34, 315.37it/s]"
     ]
    },
    {
     "name": "stdout",
     "output_type": "stream",
     "text": [
      "inconclusive sequencing: 430 {'name': 'site.04.iso.1.subject.01401.lab_id.726777.seq_reps.1'}\n",
      "inconclusive sequencing: 453 {'name': 'site.04.iso.1.subject.04004.lab_id.829393.seq_reps.1'}\n",
      "inconclusive sequencing: 469 {'name': 'site.04.iso.1.subject.03598.lab_id.827147.seq_reps.1'}\n",
      "inconclusive sequencing: 506 {'name': 'site.04.iso.1.subject.04448.lab_id.903574.seq_reps.1'}\n"
     ]
    },
    {
     "name": "stderr",
     "output_type": "stream",
     "text": [
      "  2%|▋                                     | 599/30454 [00:01<01:31, 327.46it/s]"
     ]
    },
    {
     "name": "stdout",
     "output_type": "stream",
     "text": [
      "inconclusive sequencing: 545 {'name': 'site.04.iso.1.subject.05330.lab_id.910071.seq_reps.1'}\n",
      "inconclusive sequencing: 550 {'name': 'site.04.iso.1.subject.01554.lab_id.728320.seq_reps.1'}\n",
      "inconclusive sequencing: 554 {'name': 'site.04.iso.1.subject.03767.lab_id.831236.seq_reps.1'}\n",
      "inconclusive sequencing: 569 {'name': 'site.04.iso.1.subject.04189.lab_id.829826.seq_reps.1'}\n",
      "inconclusive sequencing: 572 {'name': 'site.04.iso.1.subject.01563.lab_id.726771.seq_reps.1'}\n",
      "inconclusive sequencing: 574 {'name': 'site.04.iso.1.subject.03317.lab_id.826189.seq_reps.1'}\n",
      "inconclusive sequencing: 592 {'name': 'site.04.iso.1.subject.03654.lab_id.JJH9867.seq_reps.1'}\n",
      "inconclusive sequencing: 604 {'name': 'site.04.iso.1.subject.01999.lab_id.802031.seq_reps.1'}\n",
      "inconclusive sequencing: 605 {'name': 'site.04.iso.1.subject.03568.lab_id.829571.seq_reps.1'}\n",
      "inconclusive sequencing: 619 {'name': 'site.04.iso.1.subject.02854.lab_id.816419.seq_reps.1'}\n",
      "inconclusive sequencing: 622 {'name': 'site.04.iso.1.subject.04542.lab_id.905565.seq_reps.1'}\n",
      "inconclusive sequencing:"
     ]
    },
    {
     "name": "stderr",
     "output_type": "stream",
     "text": [
      "  2%|▊                                     | 673/30454 [00:02<01:31, 324.58it/s]"
     ]
    },
    {
     "name": "stdout",
     "output_type": "stream",
     "text": [
      " 631 {'name': 'site.04.iso.1.subject.02311.lab_id.803284.seq_reps.1'}\n",
      "inconclusive sequencing: 635 {'name': 'site.04.iso.1.subject.01957.lab_id.801380.seq_reps.1'}\n",
      "inconclusive sequencing: 656 {'name': 'site.04.iso.1.subject.00475.lab_id.711002.seq_reps.1'}\n"
     ]
    },
    {
     "name": "stderr",
     "output_type": "stream",
     "text": [
      "  2%|▉                                     | 739/30454 [00:02<01:32, 322.96it/s]"
     ]
    },
    {
     "name": "stdout",
     "output_type": "stream",
     "text": [
      "inconclusive sequencing: 705 {'name': 'site.04.iso.1.subject.05350.lab_id.913369.seq_reps.1'}\n",
      "inconclusive sequencing: 708 {'name': 'site.04.iso.1.subject.03267.lab_id.824801.seq_reps.1'}\n",
      "inconclusive sequencing: 718 {'name': 'site.04.iso.1.subject.03922.lab_id.914205.seq_reps.1'}\n",
      "inconclusive sequencing: 721 {'name': 'site.04.iso.1.subject.05398.lab_id.912132.seq_reps.1'}\n",
      "inconclusive sequencing: 722 {'name': 'site.04.iso.1.subject.04111.lab_id.901398.seq_reps.1'}\n",
      "inconclusive sequencing: 738 {'name': 'site.04.iso.1.subject.03495.lab_id.827494.seq_reps.1'}\n",
      "inconclusive sequencing: 746 {'name': 'site.04.iso.1.subject.02094.lab_id.803708.seq_reps.1'}\n",
      "inconclusive sequencing: 750 {'name': 'site.04.iso.1.subject.02964.lab_id.827959.seq_reps.1'}\n"
     ]
    },
    {
     "name": "stderr",
     "output_type": "stream",
     "text": [
      "  3%|█                                     | 841/30454 [00:02<01:35, 308.90it/s]"
     ]
    },
    {
     "name": "stdout",
     "output_type": "stream",
     "text": [
      "inconclusive sequencing: 811 {'name': 'site.04.iso.1.subject.04610.lab_id.905979.seq_reps.1'}\n",
      "inconclusive sequencing: 824 {'name': 'site.04.iso.1.subject.00194.lab_id.633913.seq_reps.1'}\n",
      "inconclusive sequencing: 828 {'name': 'site.04.iso.1.subject.01628.lab_id.725044.seq_reps.1'}\n",
      "inconclusive sequencing: 862 {'name': 'site.04.iso.1.subject.03910.lab_id.831968.seq_reps.1'}\n"
     ]
    },
    {
     "name": "stderr",
     "output_type": "stream",
     "text": [
      "  3%|█▏                                    | 934/30454 [00:02<01:41, 289.58it/s]"
     ]
    },
    {
     "name": "stdout",
     "output_type": "stream",
     "text": [
      "inconclusive sequencing: 884 {'name': 'site.04.iso.1.subject.00700.lab_id.706706.seq_reps.1'}\n",
      "inconclusive sequencing: 897 {'name': 'site.04.iso.1.subject.03494.lab_id.828960.seq_reps.1'}\n",
      "inconclusive sequencing: 904 {'name': 'site.04.iso.1.subject.04399.lab_id.902995.seq_reps.1'}\n",
      "inconclusive sequencing: 916 {'name': 'site.04.iso.1.subject.03499.lab_id.827478.seq_reps.1'}\n",
      "inconclusive sequencing: 919 {'name': 'site.04.iso.1.subject.04758.lab_id.905292.seq_reps.1'}\n"
     ]
    },
    {
     "name": "stderr",
     "output_type": "stream",
     "text": [
      "  3%|█▏                                   | 1022/30454 [00:03<01:45, 278.76it/s]"
     ]
    },
    {
     "name": "stdout",
     "output_type": "stream",
     "text": [
      "inconclusive sequencing: 981 {'name': 'site.04.iso.1.subject.04391.lab_id.904171.seq_reps.1'}\n"
     ]
    },
    {
     "name": "stderr",
     "output_type": "stream",
     "text": [
      "  4%|█▎                                   | 1087/30454 [00:03<01:42, 286.93it/s]"
     ]
    },
    {
     "name": "stdout",
     "output_type": "stream",
     "text": [
      "inconclusive sequencing: 1048 {'name': 'site.04.iso.1.subject.04636.lab_id.905869.seq_reps.1'}\n",
      "inconclusive sequencing: 1080 {'name': 'site.04.iso.1.subject.01388.lab_id.726392.seq_reps.1'}\n",
      "inconclusive sequencing: 1084 {'name': 'site.04.iso.1.subject.00699.lab_id.714916.seq_reps.1'}\n"
     ]
    },
    {
     "name": "stderr",
     "output_type": "stream",
     "text": [
      "  4%|█▍                                   | 1149/30454 [00:03<01:47, 273.38it/s]"
     ]
    },
    {
     "name": "stdout",
     "output_type": "stream",
     "text": [
      "inconclusive sequencing: 1119 {'name': 'site.04.iso.1.subject.03691.lab_id.JJH10303.seq_reps.1'}\n",
      "inconclusive sequencing: 1158 {'name': 'site.04.iso.1.subject.04059.lab_id.831960.seq_reps.1'}\n"
     ]
    },
    {
     "name": "stderr",
     "output_type": "stream",
     "text": [
      "  4%|█▌                                   | 1236/30454 [00:04<01:49, 266.68it/s]"
     ]
    },
    {
     "name": "stdout",
     "output_type": "stream",
     "text": [
      "inconclusive sequencing: 1197 {'name': 'site.04.iso.1.subject.04386.lab_id.903936.seq_reps.1'}\n",
      "inconclusive sequencing: 1244 {'name': 'site.04.iso.1.subject.03706.lab_id.JJH9874.seq_reps.1'}\n",
      "inconclusive sequencing: 1248 {'name': 'site.04.iso.1.subject.03822.lab_id.829849.seq_reps.1'}\n"
     ]
    },
    {
     "name": "stderr",
     "output_type": "stream",
     "text": [
      "  4%|█▌                                   | 1295/30454 [00:04<01:49, 266.73it/s]"
     ]
    },
    {
     "name": "stdout",
     "output_type": "stream",
     "text": [
      "inconclusive sequencing: 1258 {'name': 'site.04.iso.1.subject.04490.lab_id.904547.seq_reps.1'}\n",
      "inconclusive sequencing: 1288 {'name': 'site.04.iso.1.subject.04508.lab_id.904449.seq_reps.1'}\n",
      "inconclusive sequencing: 1290 {'name': 'site.04.iso.1.subject.03278.lab_id.821146.seq_reps.1'}\n",
      "inconclusive sequencing: 1298 {'name': 'site.04.iso.1.subject.04388.lab_id.903579.seq_reps.1'}\n",
      "inconclusive sequencing: 1299 {'name': 'site.04.iso.1.subject.04558.lab_id.904897.seq_reps.1_2'}\n"
     ]
    },
    {
     "name": "stderr",
     "output_type": "stream",
     "text": [
      "  5%|█▋                                   | 1391/30454 [00:04<01:37, 296.73it/s]"
     ]
    },
    {
     "name": "stdout",
     "output_type": "stream",
     "text": [
      "inconclusive sequencing: 1334 {'name': 'site.04.iso.1.subject.03617.lab_id.830304.seq_reps.1'}\n",
      "inconclusive sequencing: 1352 {'name': 'site.04.iso.1.subject.05006.lab_id.908561.seq_reps.1'}\n",
      "inconclusive sequencing: 1360 {'name': 'site.04.iso.1.subject.02239.lab_id.806552.seq_reps.1'}\n",
      "inconclusive sequencing: 1362 {'name': 'site.04.iso.1.subject.00083.lab_id.632666.seq_reps.1'}\n",
      "inconclusive sequencing: 1364 {'name': 'site.04.iso.1.subject.00499.lab_id.705592.seq_reps.1'}\n",
      "inconclusive sequencing: 1370 {'name': 'site.04.iso.1.subject.01229.lab_id.728523.seq_reps.1'}\n",
      "inconclusive sequencing: 1372 {'name': 'site.04.iso.1.subject.05638.lab_id.919105.seq_reps.1'}\n",
      "inconclusive sequencing: 1376 {'name': 'site.04.iso.1.subject.00218.lab_id.629294.seq_reps.1'}\n",
      "inconclusive sequencing: 1378 {'name': 'site.04.iso.1.subject.01516.lab_id.728189.seq_reps.1'}\n",
      "inconclusive sequencing: 1380 {'name': 'site.04.iso.1.subject.03448.lab_id.827388.seq_reps.1'}\n",
      "inconclusive sequencing: 1381 {'name': 'site.04.iso.1.subject.04839.lab_id.907565.seq_reps.1'}\n",
      "inconclusive sequencing:"
     ]
    },
    {
     "name": "stderr",
     "output_type": "stream",
     "text": [
      "  5%|█▊                                   | 1488/30454 [00:04<01:33, 311.34it/s]"
     ]
    },
    {
     "name": "stdout",
     "output_type": "stream",
     "text": [
      " 1416 {'name': 'site.10.iso.1.subject.YA00026182.lab_id.YA00026182.seq_reps.1'}\n",
      "inconclusive sequencing: 1418 {'name': 'site.10.iso.1.subject.YA00058291.lab_id.YA00058291.seq_reps.1'}\n",
      "inconclusive sequencing: 1440 {'name': 'site.10.iso.1.subject.MG03902304.lab_id.MG03902304.seq_reps.1'}\n"
     ]
    },
    {
     "name": "stderr",
     "output_type": "stream",
     "text": [
      "  5%|█▉                                   | 1559/30454 [00:05<01:28, 327.51it/s]"
     ]
    },
    {
     "name": "stdout",
     "output_type": "stream",
     "text": [
      "inconclusive sequencing: 1493 {'name': 'site.17.iso.1.subject.K0045.lab_id.123-20-0045-1000.seq_reps.1'}\n"
     ]
    },
    {
     "name": "stderr",
     "output_type": "stream",
     "text": [
      "  5%|██                                   | 1663/30454 [00:05<01:28, 325.96it/s]"
     ]
    },
    {
     "name": "stdout",
     "output_type": "stream",
     "text": [
      "inconclusive sequencing: 1606 {'name': 'site.08.iso.1.subject.02TB1566.lab_id.20646.seq_reps.1'}\n",
      "inconclusive sequencing: 1612 {'name': 'site.08.iso.1.subject.05TB21119.lab_id.26636.seq_reps.1'}\n",
      "inconclusive sequencing: 1614 {'name': 'site.08.iso.1.subject.02TB1566.lab_id.20950.seq_reps.1'}\n",
      "inconclusive sequencing: 1616 {'name': 'site.08.iso.1.subject.05TB32024.lab_id.1892.seq_reps.1'}\n",
      "inconclusive sequencing: 1628 {'name': 'site.08.iso.1.subject.02TB2346.lab_id.26277.seq_reps.1'}\n",
      "inconclusive sequencing: 1634 {'name': 'site.08.iso.1.subject.DTU-109.lab_id.2414.seq_reps.1'}\n",
      "inconclusive sequencing: 1654 {'name': 'site.08.iso.1.subject.28TB-D06-009.lab_id.2849.seq_reps.1'}\n",
      "inconclusive sequencing: 1681 {'name': 'site.08.iso.1.subject.24TB-068.lab_id.2205.seq_reps.1'}\n"
     ]
    },
    {
     "name": "stderr",
     "output_type": "stream",
     "text": [
      "  6%|██▏                                  | 1762/30454 [00:05<01:36, 296.79it/s]"
     ]
    },
    {
     "name": "stdout",
     "output_type": "stream",
     "text": [
      "inconclusive sequencing: 1718 {'name': 'site.02.iso.1.subject.0058.lab_id.22A008.seq_reps.8'}\n",
      "inconclusive sequencing: 1746 {'name': 'site.04.iso.1.subject.00622.lab_id.706166.seq_reps.1'}\n",
      "inconclusive sequencing: 1752 {'name': 'site.08.iso.1.subject.24TB-057.lab_id.2170.seq_reps.1'}\n",
      "inconclusive sequencing: 1762 {'name': 'site.02.iso.1.subject.0951.lab_id.22A186.seq_reps.186'}\n"
     ]
    },
    {
     "name": "stderr",
     "output_type": "stream",
     "text": [
      "  6%|██▏                                  | 1850/30454 [00:06<01:48, 263.80it/s]"
     ]
    },
    {
     "name": "stdout",
     "output_type": "stream",
     "text": [
      "inconclusive sequencing: 1823 {'name': 'site.04.iso.1.subject.04628.lab_id.905741.seq_reps.1'}\n",
      "inconclusive sequencing: 1865 {'name': 'site.04.iso.1.subject.04792.lab_id.905999.seq_reps.1'}\n"
     ]
    },
    {
     "name": "stderr",
     "output_type": "stream",
     "text": [
      "  6%|██▎                                  | 1940/30454 [00:06<01:40, 283.50it/s]"
     ]
    },
    {
     "name": "stdout",
     "output_type": "stream",
     "text": [
      "inconclusive sequencing: 1901 {'name': 'site.13.iso.1.subject.150300002.lab_id.150300002.seq_reps.1'}\n",
      "inconclusive sequencing: 1930 {'name': 'site.02.iso.1.subject.0395.lab_id.235084-15.seq_reps.15235084'}\n",
      "inconclusive sequencing: 1938 {'name': 'site.02.iso.1.subject.0485.lab_id.235059-14.seq_reps.14235059'}\n"
     ]
    },
    {
     "name": "stderr",
     "output_type": "stream",
     "text": [
      "  7%|██▍                                  | 2003/30454 [00:06<01:39, 286.94it/s]"
     ]
    },
    {
     "name": "stdout",
     "output_type": "stream",
     "text": [
      "inconclusive sequencing: 1973 {'name': 'site.08.iso.1.subject.DTU-102.lab_id.2228.seq_reps.1'}\n",
      "inconclusive sequencing: 1985 {'name': 'site.08.iso.1.subject.02TB1435.lab_id.20230.seq_reps.1'}\n",
      "inconclusive sequencing: 2023 {'name': 'site.04.iso.1.subject.03483.lab_id.828400.seq_reps.1'}\n",
      "inconclusive sequencing: 2028 {'name': 'site.04.iso.1.subject.04055.lab_id.900808.seq_reps.1_2'}\n"
     ]
    },
    {
     "name": "stderr",
     "output_type": "stream",
     "text": [
      "  7%|██▌                                  | 2115/30454 [00:07<01:52, 252.80it/s]"
     ]
    },
    {
     "name": "stdout",
     "output_type": "stream",
     "text": [
      "inconclusive sequencing: 2072 {'name': 'site.10.iso.1.subject.XC00297731.lab_id.XC00297731.seq_reps.1'}\n",
      "inconclusive sequencing: 2082 {'name': 'site.10.iso.1.subject.TD02566481.lab_id.TD02566481.seq_reps.1'}\n",
      "inconclusive sequencing: 2110 {'name': 'site.10.iso.1.subject.LA00815854.lab_id.LA00815854.seq_reps.1'}\n"
     ]
    },
    {
     "name": "stderr",
     "output_type": "stream",
     "text": [
      "  7%|██▋                                  | 2224/30454 [00:07<01:55, 245.33it/s]"
     ]
    },
    {
     "name": "stdout",
     "output_type": "stream",
     "text": [
      "inconclusive sequencing: 2184 {'name': 'site.13.iso.1.subject.130200098.lab_id.130200098.seq_reps.1'}\n"
     ]
    },
    {
     "name": "stderr",
     "output_type": "stream",
     "text": [
      "  8%|██▉                                  | 2394/30454 [00:08<01:38, 284.15it/s]"
     ]
    },
    {
     "name": "stdout",
     "output_type": "stream",
     "text": [
      "inconclusive sequencing: 2348 {'name': 'site.08.iso.1.subject.24TB00-031.lab_id.2290.seq_reps.1'}\n",
      "inconclusive sequencing: 2349 {'name': 'site.08.iso.1.subject.24TB00-031.lab_id.2291.seq_reps.1'}\n",
      "inconclusive sequencing: 2352 {'name': 'site.02.iso.1.subject.0634.lab_id.232085-15.seq_reps.15232085'}\n",
      "inconclusive sequencing: 2380 {'name': 'site.02.iso.1.subject.0247.lab_id.2013241149.seq_reps.241149'}\n",
      "inconclusive sequencing: 2383 {'name': 'site.02.iso.1.subject.0786.lab_id.2013241530.seq_reps.13241530'}\n"
     ]
    },
    {
     "name": "stderr",
     "output_type": "stream",
     "text": [
      "  8%|███                                  | 2479/30454 [00:08<01:46, 262.21it/s]"
     ]
    },
    {
     "name": "stdout",
     "output_type": "stream",
     "text": [
      "inconclusive sequencing: 2442 {'name': 'site.10.iso.1.subject.YA00071169.lab_id.YA00071169.seq_reps.1'}\n",
      "inconclusive sequencing: 2491 {'name': 'site.10.iso.1.subject.YA00127813.lab_id.YA00127813.seq_reps.1'}\n"
     ]
    },
    {
     "name": "stderr",
     "output_type": "stream",
     "text": [
      "  8%|███                                  | 2559/30454 [00:08<01:52, 248.65it/s]"
     ]
    },
    {
     "name": "stdout",
     "output_type": "stream",
     "text": [
      "inconclusive sequencing: 2518 {'name': 'site.04.iso.1.subject.01781.lab_id.733189.seq_reps.1'}\n",
      "inconclusive sequencing: 2522 {'name': 'site.04.iso.1.subject.05586.lab_id.919100.seq_reps.1'}\n",
      "inconclusive sequencing: 2543 {'name': 'site.04.iso.1.subject.04188.lab_id.900889.seq_reps.2'}\n",
      "inconclusive sequencing: 2553 {'name': 'site.04.iso.1.subject.04786.lab_id.908366.seq_reps.1'}\n",
      "inconclusive sequencing: 2558 {'name': 'site.04.iso.1.subject.05590.lab_id.919708.seq_reps.1'}\n"
     ]
    },
    {
     "name": "stderr",
     "output_type": "stream",
     "text": [
      "  9%|███▎                                 | 2760/30454 [00:09<01:20, 342.85it/s]"
     ]
    },
    {
     "name": "stdout",
     "output_type": "stream",
     "text": [
      "inconclusive sequencing: 2680 {'name': 'site.04.iso.1.subject.01833.lab_id.733790.seq_reps.1'}\n",
      "inconclusive sequencing: 2682 {'name': 'site.10.iso.1.subject.YA00056649.lab_id.YA00056649.seq_reps.1'}\n",
      "inconclusive sequencing: 2684 {'name': 'site.04.iso.1.subject.03145.lab_id.824025.seq_reps.1'}\n",
      "inconclusive sequencing: 2688 {'name': 'site.04.iso.1.subject.03457.lab_id.825198.seq_reps.1'}\n",
      "inconclusive sequencing: 2690 {'name': 'site.04.iso.1.subject.01008.lab_id.717670.seq_reps.1'}\n",
      "inconclusive sequencing: 2692 {'name': 'site.04.iso.1.subject.00749.lab_id.707627.seq_reps.1'}\n",
      "inconclusive sequencing: 2694 {'name': 'site.04.iso.1.subject.03078.lab_id.822554.seq_reps.1'}\n",
      "inconclusive sequencing: 2696 {'name': 'site.04.iso.1.subject.00720.lab_id.707220.seq_reps.1'}\n",
      "inconclusive sequencing: 2697 {'name': 'site.06.iso.1.subject.D130116.lab_id.06MIL1353.seq_reps.1'}\n",
      "inconclusive sequencing: 2703 {'name': 'site.05.iso.1.subject.LR-2178.lab_id.FN-00683-16.seq_reps.1'}\n",
      "inconclusive sequencing: 2706 {'name': 'site.04.iso.1.subject.05346.lab_id.912568.seq_reps.1'}\n",
      "inconclusive sequencing: 2708 {'name': 'site.04.iso.1.subject.04975.lab_id.905036.seq_reps.1_2'}\n",
      "inconclusive sequencing: 2710 {'name': 'site.04.iso.1.subject.00552.lab_id.715649.seq_reps.1'}\n",
      "inconclusive sequencing: 2712 {'name': 'site.08.iso.1.subject.02TB2623.lab_id.26202.seq_reps.1'}\n",
      "inconclusive sequencing: 2714 {'name': 'site.08.iso.1.subject.02TB0685.lab_id.19393.seq_reps.1'}\n",
      "inconclusive sequencing: 2716 {'name': 'site.08.iso.1.subject.05TB11041.lab_id.24562.seq_reps.1'}\n",
      "inconclusive sequencing: 2718 {'name': 'site.08.iso.1.subject.28TB-D18-001.lab_id.2850.seq_reps.1'}\n",
      "inconclusive sequencing: 2720 {'name': 'site.08.iso.1.subject.02TB2205.lab_id.26058.seq_reps.1'}\n",
      "inconclusive sequencing: 2722 {'name': 'site.08.iso.1.subject.02TB2214.lab_id.26204.seq_reps.1'}\n",
      "inconclusive sequencing: 2724 {'name': 'site.08.iso.1.subject.05TB42026.lab_id.1840.seq_reps.1'}\n",
      "inconclusive sequencing: 2726 {'name': 'site.08.iso.1.subject.02TB1108.lab_id.21699.seq_reps.1'}\n",
      "inconclusive sequencing: 2728 {'name': 'site.08.iso.1.subject.24TB00-031.lab_id.2266.seq_reps.1'}\n",
      "inconclusive sequencing: 2730 {'name': 'site.08.iso.1.subject.02TB2395.lab_id.25815.seq_reps.1'}\n",
      "inconclusive sequencing: 2732 {'name': 'site.08.iso.1.subject.02TB2468.lab_id.26070.seq_reps.1'}\n",
      "inconclusive sequencing: 2734 {'name': 'site.08.iso.1.subject.02TB2267.lab_id.25811.seq_reps.1'}\n",
      "inconclusive sequencing: 2735 {'name': 'site.08.iso.1.subject.02TB2449.lab_id.25807.seq_reps.1'}\n",
      "inconclusive sequencing: 2738 {'name': 'site.11.iso.1.subject.XTB_17-242.lab_id.XTB_17-242.seq_reps.1'}\n",
      "inconclusive sequencing: 2740 {'name': 'site.11.iso.1.subject.XTB_17-228.lab_id.XTB_17-228.seq_reps.1'}\n",
      "inconclusive sequencing: 2741 {'name': 'site.11.iso.1.subject.XTB_17-628.lab_id.XTB_17-628.seq_reps.1_2'}\n",
      "inconclusive sequencing: 2742 {'name': 'site.11.iso.1.subject.XTB_17-089.lab_id.XTB_17-089.seq_reps.1'}\n",
      "inconclusive sequencing: 2744 {'name': 'site.10.iso.1.subject.YA00106009.lab_id.YA00106009.seq_reps.1'}\n"
     ]
    },
    {
     "name": "stderr",
     "output_type": "stream",
     "text": [
      "  9%|███▍                                 | 2832/30454 [00:09<01:21, 339.60it/s]"
     ]
    },
    {
     "name": "stdout",
     "output_type": "stream",
     "text": [
      "inconclusive sequencing: 2770 {'name': 'site.11.iso.1.subject.MDR085.lab_id.SWE-68.seq_reps.1_2_3_4'}\n",
      "inconclusive sequencing: 2800 {'name': 'site.10.iso.1.subject.YA00072101.lab_id.YA00072101.seq_reps.1'}\n",
      "inconclusive sequencing: 2848 {'name': 'site.08.iso.1.subject.02TB0912.lab_id.18954.seq_reps.1'}\n"
     ]
    },
    {
     "name": "stderr",
     "output_type": "stream",
     "text": [
      " 10%|███▌                                 | 2935/30454 [00:10<01:27, 315.18it/s]"
     ]
    },
    {
     "name": "stdout",
     "output_type": "stream",
     "text": [
      "inconclusive sequencing: 2874 {'name': 'site.08.iso.1.subject.28TB-D19-008.lab_id.2993.seq_reps.1'}\n",
      "inconclusive sequencing: 2896 {'name': 'site.17.iso.1.subject.K0056.lab_id.123-20-0056-1010.seq_reps.1'}\n",
      "inconclusive sequencing: 2936 {'name': 'site.08.iso.1.subject.24TB00-005.lab_id.2246.seq_reps.1'}\n",
      "inconclusive sequencing: 2938 {'name': 'site.08.iso.1.subject.02TB0119.lab_id.17106.seq_reps.1'}\n",
      "inconclusive sequencing: 2940 {'name': 'site.08.iso.1.subject.05TB32041.lab_id.1974.seq_reps.1'}\n"
     ]
    },
    {
     "name": "stderr",
     "output_type": "stream",
     "text": [
      " 10%|███▋                                 | 3042/30454 [00:10<01:23, 328.41it/s]"
     ]
    },
    {
     "name": "stdout",
     "output_type": "stream",
     "text": [
      "inconclusive sequencing: 2977 {'name': 'site.08.iso.1.subject.02TB1827.lab_id.21466.seq_reps.1'}\n",
      "inconclusive sequencing: 2980 {'name': 'site.08.iso.1.subject.02TB0058.lab_id.17681.seq_reps.1'}\n"
     ]
    },
    {
     "name": "stderr",
     "output_type": "stream",
     "text": [
      " 10%|███▊                                 | 3111/30454 [00:10<01:22, 332.24it/s]"
     ]
    },
    {
     "name": "stdout",
     "output_type": "stream",
     "text": [
      "inconclusive sequencing: 3068 {'name': 'site.02.iso.1.subject.0570.lab_id.242345-14.seq_reps.14242345'}\n",
      "inconclusive sequencing: 3096 {'name': 'site.03.iso.1.subject.T7615.lab_id.IML00128.seq_reps.1'}\n",
      "inconclusive sequencing: 3110 {'name': 'site.10.iso.1.subject.BG00791366.lab_id.BG00791366.seq_reps.1'}\n",
      "inconclusive sequencing: 3112 {'name': 'site.10.iso.1.subject.YA00013543.lab_id.YA00013543.seq_reps.1'}\n"
     ]
    },
    {
     "name": "stderr",
     "output_type": "stream",
     "text": [
      " 11%|███▉                                 | 3220/30454 [00:10<01:21, 333.10it/s]"
     ]
    },
    {
     "name": "stdout",
     "output_type": "stream",
     "text": [
      "inconclusive sequencing: 3166 {'name': 'site.08.iso.1.subject.24TB-082.lab_id.2281.seq_reps.1'}\n",
      "inconclusive sequencing: 3190 {'name': 'site.04.iso.1.subject.04199.lab_id.901558.seq_reps.1'}\n",
      "inconclusive sequencing: 3223 {'name': 'site.13.iso.1.subject.170300209.lab_id.170300209.seq_reps.1'}\n",
      "inconclusive sequencing: 3232 {'name': 'site.04.iso.1.subject.02691.lab_id.817428.seq_reps.1'}\n"
     ]
    },
    {
     "name": "stderr",
     "output_type": "stream",
     "text": [
      " 11%|███▉                                 | 3290/30454 [00:11<01:20, 338.29it/s]"
     ]
    },
    {
     "name": "stdout",
     "output_type": "stream",
     "text": [
      "inconclusive sequencing: 3253 {'name': 'site.04.iso.1.subject.03315.lab_id.827426.seq_reps.1'}\n",
      "inconclusive sequencing: 3260 {'name': 'site.04.iso.1.subject.04768.lab_id.907072.seq_reps.1'}\n"
     ]
    },
    {
     "name": "stderr",
     "output_type": "stream",
     "text": [
      " 11%|████                                 | 3395/30454 [00:11<01:21, 331.20it/s]"
     ]
    },
    {
     "name": "stdout",
     "output_type": "stream",
     "text": [
      "inconclusive sequencing: 3336 {'name': 'site.08.iso.1.subject.24TB-064.lab_id.2201.seq_reps.1'}\n"
     ]
    },
    {
     "name": "stderr",
     "output_type": "stream",
     "text": [
      " 11%|████▏                                | 3469/30454 [00:11<01:17, 346.23it/s]"
     ]
    },
    {
     "name": "stdout",
     "output_type": "stream",
     "text": [
      "inconclusive sequencing: 3427 {'name': 'site.08.iso.1.subject.02TB1922.lab_id.21394.seq_reps.1'}\n",
      "inconclusive sequencing: 3430 {'name': 'site.08.iso.1.subject.02TB0851.lab_id.18810.seq_reps.1'}\n",
      "inconclusive sequencing: 3446 {'name': 'site.08.iso.1.subject.02TB2023.lab_id.21665.seq_reps.1'}\n",
      "inconclusive sequencing: 3460 {'name': 'site.08.iso.1.subject.05TB43016.lab_id.1882.seq_reps.1'}\n",
      "inconclusive sequencing: 3478 {'name': 'site.04.iso.1.subject.03358.lab_id.825654.seq_reps.1'}\n"
     ]
    },
    {
     "name": "stderr",
     "output_type": "stream",
     "text": [
      " 12%|████▍                                | 3653/30454 [00:12<01:17, 345.85it/s]"
     ]
    },
    {
     "name": "stdout",
     "output_type": "stream",
     "text": [
      "inconclusive sequencing: 3588 {'name': 'site.05.iso.1.subject.PTAN-0044.lab_id.TAN-138.seq_reps.1'}\n",
      "inconclusive sequencing: 3590 {'name': 'site.05.iso.1.subject.LR-3086.lab_id.CR-01358-16.seq_reps.1'}\n",
      "inconclusive sequencing: 3592 {'name': 'site.05.iso.1.subject.LR-2217.lab_id.FN-00228-17.seq_reps.1'}\n",
      "inconclusive sequencing: 3594 {'name': 'site.05.iso.1.subject.LR-3093.lab_id.CR-01555-16.seq_reps.1'}\n"
     ]
    },
    {
     "name": "stderr",
     "output_type": "stream",
     "text": [
      " 12%|████▌                                | 3757/30454 [00:12<01:21, 328.23it/s]"
     ]
    },
    {
     "name": "stdout",
     "output_type": "stream",
     "text": [
      "inconclusive sequencing: 3689 {'name': 'site.02.iso.1.subject.0961.lab_id.22A201.seq_reps.201'}\n",
      "inconclusive sequencing: 3738 {'name': 'site.08.iso.1.subject.02TB1380.lab_id.21047.seq_reps.1'}\n"
     ]
    },
    {
     "name": "stderr",
     "output_type": "stream",
     "text": [
      " 13%|████▋                                | 3831/30454 [00:12<01:18, 337.79it/s]"
     ]
    },
    {
     "name": "stdout",
     "output_type": "stream",
     "text": [
      "inconclusive sequencing: 3766 {'name': 'site.05.iso.1.subject.LR-3094.lab_id.CR-01588-16.seq_reps.1'}\n",
      "inconclusive sequencing: 3810 {'name': 'site.05.iso.1.subject.PMOP-0634.lab_id.MOP-199.seq_reps.1'}\n",
      "inconclusive sequencing: 3824 {'name': 'site.05.iso.1.subject.LR-2051.lab_id.FN-00659-15.seq_reps.1'}\n",
      "inconclusive sequencing: 3825 {'name': 'site.05.iso.1.subject.LR-2158.lab_id.FN-00245-16.seq_reps.1'}\n",
      "inconclusive sequencing: 3826 {'name': 'site.05.iso.1.subject.PSLM-0798.lab_id.SLM-057.seq_reps.1'}\n"
     ]
    },
    {
     "name": "stderr",
     "output_type": "stream",
     "text": [
      " 13%|████▊                                | 3938/30454 [00:13<01:19, 334.09it/s]"
     ]
    },
    {
     "name": "stdout",
     "output_type": "stream",
     "text": [
      "inconclusive sequencing: 3894 {'name': 'site.02.iso.1.subject.0108.lab_id.22A062.seq_reps.62'}\n"
     ]
    },
    {
     "name": "stderr",
     "output_type": "stream",
     "text": [
      " 13%|████▉                                | 4086/30454 [00:13<01:13, 357.83it/s]"
     ]
    },
    {
     "name": "stdout",
     "output_type": "stream",
     "text": [
      "inconclusive sequencing: 4028 {'name': 'site.05.iso.1.subject.LR-2122.lab_id.FN-01741-15.seq_reps.1'}\n",
      "inconclusive sequencing: 4042 {'name': 'site.05.iso.1.subject.PMOP-0535.lab_id.MOP-058.seq_reps.1'}\n",
      "inconclusive sequencing: 4046 {'name': 'site.05.iso.1.subject.CA-0915.lab_id.CO-15367-18.seq_reps.1'}\n",
      "inconclusive sequencing: 4048 {'name': 'site.05.iso.1.subject.LS-1095.lab_id.LS-11002-18.seq_reps.1'}\n",
      "inconclusive sequencing: 4050 {'name': 'site.05.iso.1.subject.CA-1230.lab_id.CO-01326-19.seq_reps.1'}\n",
      "inconclusive sequencing: 4052 {'name': 'site.10.iso.1.subject.YA00053864.lab_id.YA00053864.seq_reps.1'}\n",
      "inconclusive sequencing: 4054 {'name': 'site.05.iso.1.subject.LS-1046.lab_id.LS-10565-18.seq_reps.1'}\n",
      "inconclusive sequencing: 4056 {'name': 'site.03.iso.1.subject.T8704.lab_id.IML00166.seq_reps.1'}\n",
      "inconclusive sequencing: 4060 {'name': 'site.05.iso.1.subject.CA-0082.lab_id.CO-07029-18.seq_reps.1'}\n",
      "inconclusive sequencing: 4062 {'name': 'site.05.iso.1.subject.LS-1226.lab_id.MA-01567-19.seq_reps.1'}\n",
      "inconclusive sequencing: 4064 {'name': 'site.05.iso.1.subject.CA-0388.lab_id.CO-10210-18.seq_reps.1'}\n",
      "inconclusive sequencing: 4066 {'name': 'site.02.iso.1.subject.0823.lab_id.2013241494.seq_reps.241494'}\n",
      "inconclusive sequencing: 4067 {'name': 'site.02.iso.1.subject.0830.lab_id.2013221279.seq_reps.13221279'}\n",
      "inconclusive sequencing: 4070 {'name': 'site.05.iso.1.subject.PTAN-0146.lab_id.TAN-440.seq_reps.1'}\n",
      "inconclusive sequencing: 4085 {'name': 'site.02.iso.1.subject.1188.lab_id.2015291003.seq_reps.2015291003'}\n",
      "inconclusive sequencing: 4088 {'name': 'site.05.iso.1.subject.CA-0642.lab_id.CO-12459-18.seq_reps.1'}\n"
     ]
    },
    {
     "name": "stderr",
     "output_type": "stream",
     "text": [
      " 14%|█████                                | 4194/30454 [00:13<01:18, 332.50it/s]"
     ]
    },
    {
     "name": "stdout",
     "output_type": "stream",
     "text": [
      "inconclusive sequencing: 4154 {'name': 'site.02.iso.1.subject.0081.lab_id.22A032.seq_reps.32'}\n",
      "inconclusive sequencing: 4202 {'name': 'site.02.iso.1.subject.1106.lab_id.2014185016.seq_reps.2014185016'}\n",
      "inconclusive sequencing: 4218 {'name': 'site.08.iso.1.subject.02TB0720.lab_id.18744.seq_reps.1'}\n"
     ]
    },
    {
     "name": "stderr",
     "output_type": "stream",
     "text": [
      " 14%|█████▎                               | 4337/30454 [00:14<01:16, 340.79it/s]"
     ]
    },
    {
     "name": "stdout",
     "output_type": "stream",
     "text": [
      "inconclusive sequencing: 4300 {'name': 'site.08.iso.1.subject.02TB1468.lab_id.20931.seq_reps.1'}\n",
      "inconclusive sequencing: 4302 {'name': 'site.08.iso.1.subject.02TB1468.lab_id.20005.seq_reps.1'}\n",
      "inconclusive sequencing: 4303 {'name': 'site.08.iso.1.subject.02TB1468.lab_id.20257.seq_reps.1'}\n",
      "inconclusive sequencing: 4318 {'name': 'site.05.iso.1.subject.CA-1235.lab_id.CO-01071-19.seq_reps.1'}\n",
      "inconclusive sequencing: 4322 {'name': 'site.05.iso.1.subject.PTAN-0446.lab_id.TAN-240.seq_reps.1'}\n",
      "inconclusive sequencing: 4340 {'name': 'site.05.iso.1.subject.LR-2032.lab_id.FN-00407-15.seq_reps.1'}\n",
      "inconclusive sequencing: 4342 {'name': 'site.05.iso.1.subject.LR-2047.lab_id.FN-00615-15.seq_reps.1'}\n",
      "inconclusive sequencing: 4343 {'name': 'site.05.iso.1.subject.LR-2050.lab_id.FN-00640-15.seq_reps.1'}\n"
     ]
    },
    {
     "name": "stderr",
     "output_type": "stream",
     "text": [
      " 15%|█████▌                               | 4591/30454 [00:14<01:15, 343.82it/s]"
     ]
    },
    {
     "name": "stdout",
     "output_type": "stream",
     "text": [
      "inconclusive sequencing: 4533 {'name': 'site.05.iso.1.subject.CA-1566.lab_id.CO-01462-19.seq_reps.1'}\n",
      "inconclusive sequencing: 4582 {'name': 'site.05.iso.1.subject.PMFR-0737.lab_id.MFR-230.seq_reps.1'}\n"
     ]
    },
    {
     "name": "stderr",
     "output_type": "stream",
     "text": [
      " 15%|█████▋                               | 4662/30454 [00:15<01:15, 339.37it/s]"
     ]
    },
    {
     "name": "stdout",
     "output_type": "stream",
     "text": [
      "inconclusive sequencing: 4614 {'name': 'site.05.iso.1.subject.CA-1568.lab_id.CO-02226-19.seq_reps.1'}\n",
      "inconclusive sequencing: 4630 {'name': 'site.05.iso.1.subject.CA-1507.lab_id.CO-00609-19.seq_reps.1'}\n"
     ]
    },
    {
     "name": "stderr",
     "output_type": "stream",
     "text": [
      " 16%|█████▊                               | 4805/30454 [00:15<01:14, 345.26it/s]"
     ]
    },
    {
     "name": "stdout",
     "output_type": "stream",
     "text": [
      "inconclusive sequencing: 4760 {'name': 'site.10.iso.1.subject.XD00893425.lab_id.XD00893425.seq_reps.1'}\n",
      "inconclusive sequencing: 4768 {'name': 'site.20.iso.1.subject.SA00022500.lab_id.YA00134632.seq_reps.1'}\n",
      "inconclusive sequencing: 4780 {'name': 'site.02.iso.1.subject.0969.lab_id.22A209.seq_reps.209'}\n",
      "inconclusive sequencing: 4820 {'name': 'site.08.iso.1.subject.02TB1654.lab_id.20946.seq_reps.1'}\n",
      "inconclusive sequencing: 4836 {'name': 'site.08.iso.1.subject.02TB1875.lab_id.21400.seq_reps.1'}\n"
     ]
    },
    {
     "name": "stderr",
     "output_type": "stream",
     "text": [
      " 16%|█████▉                               | 4875/30454 [00:15<01:14, 342.19it/s]"
     ]
    },
    {
     "name": "stdout",
     "output_type": "stream",
     "text": [
      "inconclusive sequencing: 4842 {'name': 'site.08.iso.1.subject.02TB1654.lab_id.21125.seq_reps.1'}\n",
      "inconclusive sequencing: 4844 {'name': 'site.08.iso.1.subject.02TB1654.lab_id.20531.seq_reps.1'}\n"
     ]
    },
    {
     "name": "stderr",
     "output_type": "stream",
     "text": [
      " 16%|██████                               | 5010/30454 [00:16<01:25, 298.79it/s]"
     ]
    },
    {
     "name": "stdout",
     "output_type": "stream",
     "text": [
      "inconclusive sequencing: 4952 {'name': 'site.04.iso.1.subject.00843.lab_id.714909.seq_reps.1'}\n",
      "inconclusive sequencing: 4956 {'name': 'site.04.iso.1.subject.05045.lab_id.909570.seq_reps.1'}\n",
      "inconclusive sequencing: 4958 {'name': 'site.04.iso.1.subject.01173.lab_id.720348.seq_reps.1'}\n",
      "inconclusive sequencing: 4962 {'name': 'site.04.iso.1.subject.04812.lab_id.907295.seq_reps.1'}\n",
      "inconclusive sequencing: 4964 {'name': 'site.04.iso.1.subject.03635.lab_id.831197.seq_reps.1'}\n",
      "inconclusive sequencing: 4999 {'name': 'site.08.iso.1.subject.02TB1854.lab_id.21854.seq_reps.1'}\n",
      "inconclusive sequencing: 5022 {'name': 'site.04.iso.1.subject.03464.lab_id.825169.seq_reps.1'}\n"
     ]
    },
    {
     "name": "stderr",
     "output_type": "stream",
     "text": [
      " 17%|██████▏                              | 5077/30454 [00:16<01:21, 311.63it/s]"
     ]
    },
    {
     "name": "stdout",
     "output_type": "stream",
     "text": [
      "inconclusive sequencing: 5042 {'name': 'site.04.iso.1.subject.04629.lab_id.902939.seq_reps.1'}\n",
      "inconclusive sequencing: 5058 {'name': 'site.04.iso.1.subject.00695.lab_id.714108.seq_reps.1'}\n",
      "inconclusive sequencing: 5060 {'name': 'site.04.iso.1.subject.03670.lab_id.JJH9840.seq_reps.1'}\n",
      "inconclusive sequencing: 5080 {'name': 'site.04.iso.1.subject.04126.lab_id.832376.seq_reps.1'}\n",
      "inconclusive sequencing: 5084 {'name': 'site.04.iso.1.subject.03586.lab_id.818896.seq_reps.1'}\n",
      "inconclusive sequencing: 5087 {'name': 'site.04.iso.1.subject.05487.lab_id.912582.seq_reps.1'}\n",
      "inconclusive sequencing: 5094 {'name': 'site.04.iso.1.subject.04276.lab_id.903362.seq_reps.1'}\n",
      "inconclusive sequencing: 5096 {'name': 'site.04.iso.1.subject.03232.lab_id.826153.seq_reps.1'}\n",
      "inconclusive sequencing: 5104 {'name': 'site.04.iso.1.subject.03247.lab_id.823479.seq_reps.1'}\n"
     ]
    },
    {
     "name": "stderr",
     "output_type": "stream",
     "text": [
      " 17%|██████▎                              | 5187/30454 [00:16<01:16, 329.31it/s]"
     ]
    },
    {
     "name": "stdout",
     "output_type": "stream",
     "text": [
      "inconclusive sequencing: 5121 {'name': 'site.04.iso.1.subject.05400.lab_id.912774.seq_reps.1'}\n",
      "inconclusive sequencing: 5135 {'name': 'site.04.iso.1.subject.05353.lab_id.913368.seq_reps.1'}\n",
      "inconclusive sequencing: 5160 {'name': 'site.04.iso.1.subject.01224.lab_id.721665.seq_reps.1'}\n",
      "inconclusive sequencing: 5186 {'name': 'site.04.iso.1.subject.03765.lab_id.911878.seq_reps.1'}\n",
      "inconclusive sequencing: 5190 {'name': 'site.03.iso.1.subject.DR-257.lab_id.IML-01175.seq_reps.1'}\n"
     ]
    },
    {
     "name": "stderr",
     "output_type": "stream",
     "text": [
      " 17%|██████▍                              | 5262/30454 [00:16<01:13, 342.67it/s]"
     ]
    },
    {
     "name": "stdout",
     "output_type": "stream",
     "text": [
      "inconclusive sequencing: 5196 {'name': 'site.04.iso.1.subject.03169.lab_id.823019.seq_reps.1'}\n",
      "inconclusive sequencing: 5200 {'name': 'site.04.iso.1.subject.03585.lab_id.830403.seq_reps.1'}\n",
      "inconclusive sequencing: 5210 {'name': 'site.04.iso.1.subject.02985.lab_id.829373.seq_reps.1'}\n",
      "inconclusive sequencing: 5212 {'name': 'site.04.iso.1.subject.04699.lab_id.905157.seq_reps.1'}\n",
      "inconclusive sequencing: 5226 {'name': 'site.04.iso.1.subject.01813.lab_id.20218.seq_reps.1'}\n",
      "inconclusive sequencing: 5239 {'name': 'site.04.iso.1.subject.04986.lab_id.906055.seq_reps.1'}\n",
      "inconclusive sequencing: 5250 {'name': 'site.04.iso.1.subject.04038.lab_id.829619.seq_reps.1'}\n"
     ]
    },
    {
     "name": "stderr",
     "output_type": "stream",
     "text": [
      " 18%|██████▌                              | 5400/30454 [00:17<01:14, 335.60it/s]"
     ]
    },
    {
     "name": "stdout",
     "output_type": "stream",
     "text": [
      "inconclusive sequencing: 5335 {'name': 'site.04.iso.1.subject.03998.lab_id.832973.seq_reps.1'}\n",
      "inconclusive sequencing: 5341 {'name': 'site.04.iso.1.subject.03344.lab_id.826332.seq_reps.1'}\n",
      "inconclusive sequencing: 5361 {'name': 'site.04.iso.1.subject.03697.lab_id.912284.seq_reps.1'}\n",
      "inconclusive sequencing: 5371 {'name': 'site.04.iso.1.subject.05473.lab_id.913264.seq_reps.1'}\n",
      "inconclusive sequencing: 5377 {'name': 'site.04.iso.1.subject.03283.lab_id.825531.seq_reps.1'}\n",
      "inconclusive sequencing: 5381 {'name': 'site.04.iso.1.subject.03286.lab_id.830190.seq_reps.1'}\n",
      "inconclusive sequencing: 5394 {'name': 'site.10.iso.1.subject.YA00099906.lab_id.YA00099906.seq_reps.1'}\n",
      "inconclusive sequencing: 5396 {'name': 'site.20.iso.1.subject.SCH8041859.lab_id.YA00134169.seq_reps.1'}\n"
     ]
    },
    {
     "name": "stderr",
     "output_type": "stream",
     "text": [
      " 18%|██████▋                              | 5470/30454 [00:17<01:13, 339.97it/s]"
     ]
    },
    {
     "name": "stdout",
     "output_type": "stream",
     "text": [
      "inconclusive sequencing: 5418 {'name': 'site.08.iso.1.subject.24TB-080.lab_id.2273.seq_reps.1'}\n",
      "inconclusive sequencing: 5421 {'name': 'site.08.iso.1.subject.24TB-080.lab_id.2257.seq_reps.1'}\n",
      "inconclusive sequencing: 5436 {'name': 'site.02.iso.1.subject.0530.lab_id.241139-14.seq_reps.14241139'}\n",
      "inconclusive sequencing: 5479 {'name': 'site.02.iso.1.subject.1033.lab_id.2013185075.seq_reps.2013185075'}\n"
     ]
    },
    {
     "name": "stderr",
     "output_type": "stream",
     "text": [
      " 18%|██████▊                              | 5576/30454 [00:17<01:12, 341.04it/s]"
     ]
    },
    {
     "name": "stdout",
     "output_type": "stream",
     "text": [
      "inconclusive sequencing: 5530 {'name': 'site.08.iso.1.subject.02TB0408.lab_id.17682.seq_reps.1'}\n"
     ]
    },
    {
     "name": "stderr",
     "output_type": "stream",
     "text": [
      " 19%|███████                              | 5864/30454 [00:18<01:11, 344.65it/s]"
     ]
    },
    {
     "name": "stdout",
     "output_type": "stream",
     "text": [
      "inconclusive sequencing: 5820 {'name': 'site.04.iso.1.subject.03415.lab_id.827704.seq_reps.1'}\n",
      "inconclusive sequencing: 5841 {'name': 'site.04.iso.1.subject.05253.lab_id.911547.seq_reps.1'}\n"
     ]
    },
    {
     "name": "stderr",
     "output_type": "stream",
     "text": [
      " 20%|███████▎                             | 6006/30454 [00:19<01:13, 332.11it/s]"
     ]
    },
    {
     "name": "stdout",
     "output_type": "stream",
     "text": [
      "inconclusive sequencing: 5950 {'name': 'site.10.iso.1.subject.YA00005293.lab_id.YA00005293.seq_reps.1'}\n",
      "inconclusive sequencing: 5980 {'name': 'site.10.iso.1.subject.YA00026325.lab_id.YA00026325.seq_reps.1'}\n",
      "inconclusive sequencing: 5981 {'name': 'site.10.iso.1.subject.YA00026333.lab_id.YA00026333.seq_reps.1'}\n"
     ]
    },
    {
     "name": "stderr",
     "output_type": "stream",
     "text": [
      " 20%|███████▍                             | 6151/30454 [00:19<01:12, 337.14it/s]"
     ]
    },
    {
     "name": "stdout",
     "output_type": "stream",
     "text": [
      "inconclusive sequencing: 6082 {'name': 'site.10.iso.1.subject.YA00024450.lab_id.YA00024450.seq_reps.1'}\n",
      "inconclusive sequencing: 6150 {'name': 'site.10.iso.1.subject.YA00053708.lab_id.YA00053708.seq_reps.1'}\n"
     ]
    },
    {
     "name": "stderr",
     "output_type": "stream",
     "text": [
      " 20%|███████▌                             | 6223/30454 [00:19<01:10, 343.80it/s]"
     ]
    },
    {
     "name": "stdout",
     "output_type": "stream",
     "text": [
      "inconclusive sequencing: 6165 {'name': 'site.10.iso.1.subject.YA00134710.lab_id.YA00134710.seq_reps.1'}\n",
      "inconclusive sequencing: 6182 {'name': 'site.10.iso.1.subject.XD02650754.lab_id.XD02650754.seq_reps.1'}\n",
      "inconclusive sequencing: 6235 {'name': 'site.20.iso.1.subject.SA00422875.lab_id.YA00135294.seq_reps.1'}\n",
      "inconclusive sequencing: 6240 {'name': 'site.10.iso.1.subject.UH01324061.lab_id.UH01324061.seq_reps.1'}\n",
      "inconclusive sequencing:"
     ]
    },
    {
     "name": "stderr",
     "output_type": "stream",
     "text": [
      " 21%|███████▋                             | 6299/30454 [00:19<01:07, 360.47it/s]"
     ]
    },
    {
     "name": "stdout",
     "output_type": "stream",
     "text": [
      " 6248 {'name': 'site.04.iso.1.subject.02947.lab_id.822027.seq_reps.1'}\n",
      "inconclusive sequencing: 6252 {'name': 'site.04.iso.1.subject.00927.lab_id.716467.seq_reps.1'}\n",
      "inconclusive sequencing: 6255 {'name': 'site.02.iso.1.subject.0968.lab_id.22A208.seq_reps.208'}\n",
      "inconclusive sequencing: 6258 {'name': 'site.04.iso.1.subject.02393.lab_id.815134.seq_reps.1_2'}\n",
      "inconclusive sequencing: 6260 {'name': 'site.04.iso.1.subject.00949.lab_id.716971.seq_reps.1'}\n",
      "inconclusive sequencing: 6262 {'name': 'site.04.iso.1.subject.03993.lab_id.830698.seq_reps.1'}\n",
      "inconclusive sequencing: 6266 {'name': 'site.04.iso.1.subject.00546.lab_id.714945.seq_reps.1'}\n",
      "inconclusive sequencing: 6268 {'name': 'site.04.iso.1.subject.00540.lab_id.711869.seq_reps.1'}\n"
     ]
    },
    {
     "name": "stderr",
     "output_type": "stream",
     "text": [
      " 21%|███████▊                             | 6411/30454 [00:20<01:11, 336.54it/s]"
     ]
    },
    {
     "name": "stdout",
     "output_type": "stream",
     "text": [
      "inconclusive sequencing: 6350 {'name': 'site.04.iso.1.subject.03414.lab_id.828547.seq_reps.1'}\n",
      "inconclusive sequencing: 6351 {'name': 'site.04.iso.1.subject.03875.lab_id.829858.seq_reps.1'}\n",
      "inconclusive sequencing: 6353 {'name': 'site.04.iso.1.subject.05589.lab_id.919947.seq_reps.1'}\n",
      "inconclusive sequencing: 6370 {'name': 'site.04.iso.1.subject.04478.lab_id.902793.seq_reps.1'}\n",
      "inconclusive sequencing: 6392 {'name': 'site.03.iso.1.subject.DR-279.lab_id.IML-01187.seq_reps.1'}\n",
      "inconclusive sequencing: 6412 {'name': 'site.03.iso.1.subject.DR-305.lab_id.IML-01192.seq_reps.1'}\n",
      "inconclusive sequencing: 6416 {'name': 'site.03.iso.1.subject.DR-314.lab_id.IML-01198.seq_reps.1'}\n"
     ]
    },
    {
     "name": "stderr",
     "output_type": "stream",
     "text": [
      " 21%|███████▉                             | 6483/30454 [00:20<01:10, 340.29it/s]"
     ]
    },
    {
     "name": "stdout",
     "output_type": "stream",
     "text": [
      "inconclusive sequencing: 6440 {'name': 'site.03.iso.1.subject.DR-281.lab_id.IML-01188.seq_reps.1'}\n",
      "inconclusive sequencing: 6447 {'name': 'site.04.iso.1.subject.03470.lab_id.827987.seq_reps.1'}\n",
      "inconclusive sequencing: 6458 {'name': 'site.03.iso.1.subject.DR-121.lab_id.IML-01105.seq_reps.1'}\n",
      "inconclusive sequencing: 6461 {'name': 'site.04.iso.1.subject.04502.lab_id.902838.seq_reps.1'}\n",
      "inconclusive sequencing: 6470 {'name': 'site.04.iso.1.subject.04449.lab_id.904981.seq_reps.1'}\n",
      "inconclusive sequencing: 6483 {'name': 'site.04.iso.1.subject.04500.lab_id.904529.seq_reps.1'}\n",
      "inconclusive sequencing: 6504 {'name': 'site.04.iso.1.subject.03533.lab_id.829545.seq_reps.1'}\n",
      "inconclusive sequencing:"
     ]
    },
    {
     "name": "stderr",
     "output_type": "stream",
     "text": [
      " 22%|███████▉                             | 6555/30454 [00:20<01:09, 341.66it/s]"
     ]
    },
    {
     "name": "stdout",
     "output_type": "stream",
     "text": [
      " 6514 {'name': 'site.04.iso.1.subject.03646.lab_id.JJH9567.seq_reps.1'}\n",
      "inconclusive sequencing: 6525 {'name': 'site.04.iso.1.subject.03529.lab_id.829855.seq_reps.1_2'}\n",
      "inconclusive sequencing: 6547 {'name': 'site.04.iso.1.subject.03975.lab_id.831547.seq_reps.1'}\n",
      "inconclusive sequencing: 6580 {'name': 'site.04.iso.1.subject.03542.lab_id.826122.seq_reps.1'}\n"
     ]
    },
    {
     "name": "stderr",
     "output_type": "stream",
     "text": [
      " 22%|████████                             | 6663/30454 [00:21<01:09, 344.26it/s]"
     ]
    },
    {
     "name": "stdout",
     "output_type": "stream",
     "text": [
      "inconclusive sequencing: 6594 {'name': 'site.04.iso.1.subject.03324.lab_id.827121.seq_reps.1'}\n",
      "inconclusive sequencing: 6607 {'name': 'site.04.iso.1.subject.05477.lab_id.913495.seq_reps.1'}\n",
      "inconclusive sequencing: 6617 {'name': 'site.04.iso.1.subject.04569.lab_id.905056.seq_reps.1'}\n",
      "inconclusive sequencing: 6635 {'name': 'site.04.iso.1.subject.04513.lab_id.832156.seq_reps.1'}\n",
      "inconclusive sequencing: 6655 {'name': 'site.04.iso.1.subject.03508.lab_id.827362.seq_reps.1'}\n",
      "inconclusive sequencing: 6661 {'name': 'site.04.iso.1.subject.04224.lab_id.833174.seq_reps.1'}\n"
     ]
    },
    {
     "name": "stderr",
     "output_type": "stream",
     "text": [
      " 22%|████████▎                            | 6805/30454 [00:21<01:10, 333.43it/s]"
     ]
    },
    {
     "name": "stdout",
     "output_type": "stream",
     "text": [
      "inconclusive sequencing: 6735 {'name': 'site.04.iso.1.subject.04559.lab_id.901648.seq_reps.1_2'}\n",
      "inconclusive sequencing: 6760 {'name': 'site.04.iso.1.subject.04763.lab_id.905930.seq_reps.1'}\n",
      "inconclusive sequencing: 6765 {'name': 'site.04.iso.1.subject.03546.lab_id.828627.seq_reps.1'}\n"
     ]
    },
    {
     "name": "stderr",
     "output_type": "stream",
     "text": [
      " 23%|████████▍                            | 6947/30454 [00:21<01:08, 340.88it/s]"
     ]
    },
    {
     "name": "stdout",
     "output_type": "stream",
     "text": [
      "inconclusive sequencing: 6880 {'name': 'site.06.iso.1.subject.06TB_0034.lab_id.06MIL0495.seq_reps.1'}\n",
      "inconclusive sequencing: 6888 {'name': 'site.06.iso.1.subject.06TB_0465.lab_id.06MIL1143.seq_reps.1'}\n"
     ]
    },
    {
     "name": "stderr",
     "output_type": "stream",
     "text": [
      " 23%|████████▌                            | 7017/30454 [00:22<01:10, 330.13it/s]"
     ]
    },
    {
     "name": "stdout",
     "output_type": "stream",
     "text": [
      "inconclusive sequencing: 6972 {'name': 'site.10.iso.1.subject.XD02583671.lab_id.XD02583671.seq_reps.1'}\n",
      "inconclusive sequencing: 6996 {'name': 'site.10.iso.1.subject.XD01227017.lab_id.XD01227017.seq_reps.1'}\n"
     ]
    },
    {
     "name": "stderr",
     "output_type": "stream",
     "text": [
      " 23%|████████▋                            | 7124/30454 [00:22<01:09, 335.24it/s]"
     ]
    },
    {
     "name": "stdout",
     "output_type": "stream",
     "text": [
      "inconclusive sequencing: 7066 {'name': 'site.14.iso.1.subject.4349.lab_id.4349.seq_reps.1'}\n"
     ]
    },
    {
     "name": "stderr",
     "output_type": "stream",
     "text": [
      " 24%|████████▊                            | 7265/30454 [00:22<01:07, 341.46it/s]"
     ]
    },
    {
     "name": "stdout",
     "output_type": "stream",
     "text": [
      "inconclusive sequencing: 7200 {'name': 'site.11.iso.1.subject.XTB-18-232.lab_id.XTB-18-232.seq_reps.1'}\n",
      "inconclusive sequencing: 7202 {'name': 'site.11.iso.1.subject.XTB-18-231.lab_id.XTB-18-231.seq_reps.1'}\n",
      "inconclusive sequencing: 7230 {'name': 'site.03.iso.1.subject.T298.lab_id.T298.seq_reps.1'}\n"
     ]
    },
    {
     "name": "stderr",
     "output_type": "stream",
     "text": [
      " 25%|█████████▍                           | 7724/30454 [00:24<01:07, 337.11it/s]"
     ]
    },
    {
     "name": "stdout",
     "output_type": "stream",
     "text": [
      "inconclusive sequencing: 7662 {'name': 'site.11.iso.1.subject.XTB_17-552.lab_id.XTB_17-552.seq_reps.1'}\n"
     ]
    },
    {
     "name": "stderr",
     "output_type": "stream",
     "text": [
      " 26%|█████████▋                           | 8023/30454 [00:25<01:12, 308.72it/s]"
     ]
    },
    {
     "name": "stdout",
     "output_type": "stream",
     "text": [
      "inconclusive sequencing: 7970 {'name': 'site.02.iso.1.subject.0067.lab_id.22A017.seq_reps.17'}\n",
      "inconclusive sequencing: 8009 {'name': 'site.02.iso.1.subject.0903.lab_id.22A137.seq_reps.137'}\n",
      "inconclusive sequencing: 8042 {'name': 'site.20.iso.1.subject.SA00103754.lab_id.YA00134640.seq_reps.1'}\n"
     ]
    },
    {
     "name": "stderr",
     "output_type": "stream",
     "text": [
      " 27%|█████████▉                           | 8180/30454 [00:25<01:17, 288.54it/s]"
     ]
    },
    {
     "name": "stdout",
     "output_type": "stream",
     "text": [
      "inconclusive sequencing: 8124 {'name': 'site.10.iso.1.subject.YA00006705.lab_id.YA00006705.seq_reps.1'}\n",
      "inconclusive sequencing: 8142 {'name': 'site.11.iso.1.subject.XTB_18-027.lab_id.XTB_18-027.seq_reps.1_2'}\n",
      "inconclusive sequencing: 8146 {'name': 'site.03.iso.1.subject.KGZ-13412-2018.lab_id.13412-2018.seq_reps.1'}\n"
     ]
    },
    {
     "name": "stderr",
     "output_type": "stream",
     "text": [
      " 27%|██████████                           | 8238/30454 [00:25<01:18, 284.47it/s]"
     ]
    },
    {
     "name": "stdout",
     "output_type": "stream",
     "text": [
      "inconclusive sequencing: 8182 {'name': 'site.06.iso.1.subject.06TB_0266.lab_id.06MIL0857.seq_reps.1'}\n"
     ]
    },
    {
     "name": "stderr",
     "output_type": "stream",
     "text": [
      " 27%|██████████                           | 8323/30454 [00:26<01:27, 252.82it/s]"
     ]
    },
    {
     "name": "stdout",
     "output_type": "stream",
     "text": [
      "inconclusive sequencing: 8280 {'name': 'site.03.iso.1.subject.10815.lab_id.IML-01026.seq_reps.1'}\n",
      "inconclusive sequencing: 8289 {'name': 'site.11.iso.1.subject.MDR153.lab_id.SWE-121.seq_reps.1_2_3_4'}\n",
      "inconclusive sequencing: 8301 {'name': 'site.03.iso.1.subject.T1010.lab_id.IML-00008.seq_reps.1'}\n"
     ]
    },
    {
     "name": "stderr",
     "output_type": "stream",
     "text": [
      " 27%|██████████▏                          | 8373/30454 [00:26<01:39, 221.59it/s]"
     ]
    },
    {
     "name": "stdout",
     "output_type": "stream",
     "text": [
      "inconclusive sequencing: 8334 {'name': 'site.03.iso.1.subject.11159.lab_id.IML-00811.seq_reps.1'}\n"
     ]
    },
    {
     "name": "stderr",
     "output_type": "stream",
     "text": [
      " 28%|██████████▎                          | 8483/30454 [00:27<01:47, 204.93it/s]"
     ]
    },
    {
     "name": "stdout",
     "output_type": "stream",
     "text": [
      "inconclusive sequencing: 8440 {'name': 'site.03.iso.1.subject.10823.lab_id.IML-00975.seq_reps.1'}\n",
      "inconclusive sequencing: 8442 {'name': 'site.03.iso.1.subject.10262.lab_id.IML-01016.seq_reps.1'}\n",
      "inconclusive sequencing: 8480 {'name': 'site.06.iso.1.subject.06TB_0025.lab_id.06MIL0486.seq_reps.1'}\n"
     ]
    },
    {
     "name": "stderr",
     "output_type": "stream",
     "text": [
      " 28%|██████████▍                          | 8574/30454 [00:27<01:43, 211.83it/s]"
     ]
    },
    {
     "name": "stdout",
     "output_type": "stream",
     "text": [
      "inconclusive sequencing: 8542 {'name': 'site.03.iso.1.subject.GB-7075-180.lab_id.7075-180.seq_reps.1'}\n",
      "inconclusive sequencing: 8544 {'name': 'site.11.iso.1.subject.MDR100.lab_id.SWE-76.seq_reps.1_2_3_4'}\n"
     ]
    },
    {
     "name": "stderr",
     "output_type": "stream",
     "text": [
      " 28%|██████████▌                          | 8667/30454 [00:28<02:24, 151.23it/s]"
     ]
    },
    {
     "name": "stdout",
     "output_type": "stream",
     "text": [
      "inconclusive sequencing: 8646 {'name': 'site.03.iso.1.subject.BOR-1696-17.lab_id.IML-00754.seq_reps.1'}\n"
     ]
    },
    {
     "name": "stderr",
     "output_type": "stream",
     "text": [
      " 29%|██████████▋                          | 8749/30454 [00:28<02:24, 149.92it/s]"
     ]
    },
    {
     "name": "stdout",
     "output_type": "stream",
     "text": [
      "inconclusive sequencing: 8727 {'name': 'site.03.iso.1.subject.T8554.lab_id.IML-00126.seq_reps.1'}\n"
     ]
    },
    {
     "name": "stderr",
     "output_type": "stream",
     "text": [
      " 29%|██████████▊                          | 8951/30454 [00:29<01:43, 208.47it/s]"
     ]
    },
    {
     "name": "stdout",
     "output_type": "stream",
     "text": [
      "inconclusive sequencing: 8902 {'name': 'site.04.iso.1.subject.03688.lab_id.JJH10305.seq_reps.1'}\n",
      "inconclusive sequencing: 8904 {'name': 'site.03.iso.1.subject.11142.lab_id.IML-00808.seq_reps.1'}\n",
      "inconclusive sequencing: 8906 {'name': 'site.03.iso.1.subject.11086.lab_id.IML-00871.seq_reps.1'}\n",
      "inconclusive sequencing: 8908 {'name': 'site.10.iso.1.subject.YA00023063.lab_id.YA00023063.seq_reps.1'}\n",
      "inconclusive sequencing: 8912 {'name': 'site.10.iso.1.subject.YA00027815.lab_id.YA00027815.seq_reps.1'}\n",
      "inconclusive sequencing: 8913 {'name': 'site.10.iso.1.subject.YA00038960.lab_id.YA00038960.seq_reps.1'}\n",
      "inconclusive sequencing: 8916 {'name': 'site.03.iso.1.subject.T7331.lab_id.IML00135.seq_reps.1'}\n",
      "inconclusive sequencing: 8918 {'name': 'site.04.iso.1.subject.03442.lab_id.827260.seq_reps.1'}\n",
      "inconclusive sequencing: 8920 {'name': 'site.04.iso.1.subject.02006.lab_id.802524.seq_reps.1'}\n",
      "inconclusive sequencing: 8924 {'name': 'site.08.iso.1.subject.02TB1934.lab_id.21396.seq_reps.1'}\n"
     ]
    },
    {
     "name": "stderr",
     "output_type": "stream",
     "text": [
      " 30%|██████████▉                          | 9051/30454 [00:30<01:31, 234.08it/s]"
     ]
    },
    {
     "name": "stdout",
     "output_type": "stream",
     "text": [
      "inconclusive sequencing: 9006 {'name': 'site.02.iso.1.subject.0130.lab_id.22A085.seq_reps.85'}\n",
      "inconclusive sequencing: 9050 {'name': 'site.02.iso.1.subject.0093.lab_id.22A045.seq_reps.45'}\n",
      "inconclusive sequencing:"
     ]
    },
    {
     "name": "stderr",
     "output_type": "stream",
     "text": [
      " 31%|███████████▎                         | 9292/30454 [00:31<01:11, 296.37it/s]"
     ]
    },
    {
     "name": "stdout",
     "output_type": "stream",
     "text": [
      " 9061 {'name': 'site.02.iso.1.subject.1019.lab_id.2013183230.seq_reps.2013183230'}\n",
      "inconclusive sequencing: 9210 {'name': 'site.02.iso.1.subject.0455.lab_id.251040-15.seq_reps.15251040'}\n"
     ]
    },
    {
     "name": "stderr",
     "output_type": "stream",
     "text": [
      " 31%|███████████▍                         | 9443/30454 [00:31<01:13, 287.28it/s]"
     ]
    },
    {
     "name": "stdout",
     "output_type": "stream",
     "text": [
      "inconclusive sequencing: 9398 {'name': 'site.02.iso.1.subject.0867.lab_id.22A101.seq_reps.101'}\n",
      "inconclusive sequencing: 9434 {'name': 'site.08.iso.1.subject.02TB0334.lab_id.17436.seq_reps.1'}\n",
      "inconclusive sequencing: 9436 {'name': 'site.08.iso.1.subject.02TB0334.lab_id.17201.seq_reps.1'}\n",
      "inconclusive sequencing: 9456 {'name': 'site.08.iso.1.subject.02TB0159.lab_id.17105.seq_reps.1'}\n"
     ]
    },
    {
     "name": "stderr",
     "output_type": "stream",
     "text": [
      " 31%|███████████▌                         | 9560/30454 [00:32<01:49, 191.68it/s]"
     ]
    },
    {
     "name": "stdout",
     "output_type": "stream",
     "text": [
      "inconclusive sequencing: 9528 {'name': 'site.02.iso.1.subject.0936.lab_id.22A171.seq_reps.171'}\n",
      "inconclusive sequencing: 9560 {'name': 'site.04.iso.1.subject.01451.lab_id.726829.seq_reps.1'}\n",
      "inconclusive sequencing: 9561 {'name': 'site.04.iso.1.subject.01579.lab_id.730821.seq_reps.1'}\n",
      "inconclusive sequencing: 9570 {'name': 'site.02.iso.1.subject.0116.lab_id.22A070.seq_reps.70'}\n"
     ]
    },
    {
     "name": "stderr",
     "output_type": "stream",
     "text": [
      " 32%|███████████▋                         | 9640/30454 [00:32<01:41, 204.38it/s]"
     ]
    },
    {
     "name": "stdout",
     "output_type": "stream",
     "text": [
      "inconclusive sequencing: 9611 {'name': 'site.04.iso.1.subject.03541.lab_id.828165.seq_reps.1'}\n"
     ]
    },
    {
     "name": "stderr",
     "output_type": "stream",
     "text": [
      " 33%|████████████                         | 9933/30454 [00:34<01:32, 221.03it/s]"
     ]
    },
    {
     "name": "stdout",
     "output_type": "stream",
     "text": [
      "inconclusive sequencing: 9889 {'name': 'site.08.iso.1.subject.28TB-D25-017.lab_id.3079.seq_reps.1'}\n",
      "inconclusive sequencing: 9940 {'name': 'site.04.iso.1.subject.03192.lab_id.816831.seq_reps.1'}\n"
     ]
    },
    {
     "name": "stderr",
     "output_type": "stream",
     "text": [
      " 33%|████████████▏                        | 9989/30454 [00:34<01:21, 250.65it/s]"
     ]
    },
    {
     "name": "stdout",
     "output_type": "stream",
     "text": [
      "inconclusive sequencing: 9954 {'name': 'site.04.iso.1.subject.04509.lab_id.902937.seq_reps.1_2'}\n",
      "inconclusive sequencing: 9958 {'name': 'site.04.iso.1.subject.04785.lab_id.906894.seq_reps.1'}\n",
      "inconclusive sequencing: 9966 {'name': 'site.04.iso.1.subject.04515.lab_id.905889.seq_reps.1'}\n",
      "inconclusive sequencing: 9977 {'name': 'site.04.iso.1.subject.04627.lab_id.906710.seq_reps.1'}\n",
      "inconclusive sequencing: 9978 {'name': 'site.04.iso.1.subject.03467.lab_id.828293.seq_reps.1'}\n",
      "inconclusive sequencing: 9984 {'name': 'site.04.iso.1.subject.04039.lab_id.832143.seq_reps.1'}\n"
     ]
    },
    {
     "name": "stderr",
     "output_type": "stream",
     "text": [
      " 33%|███████████▊                        | 10045/30454 [00:34<01:16, 265.09it/s]"
     ]
    },
    {
     "name": "stdout",
     "output_type": "stream",
     "text": [
      "inconclusive sequencing: 10010 {'name': 'site.04.iso.1.subject.03504.lab_id.829540.seq_reps.1'}\n",
      "inconclusive sequencing: 10018 {'name': 'site.04.iso.1.subject.04607.lab_id.906480.seq_reps.1'}\n",
      "inconclusive sequencing: 10028 {'name': 'site.04.iso.1.subject.04774.lab_id.907691.seq_reps.1'}\n",
      "inconclusive sequencing: 10053 {'name': 'site.04.iso.1.subject.04913.lab_id.906933.seq_reps.1'}\n",
      "inconclusive sequencing: 10064 {'name': 'site.04.iso.1.subject.03602.lab_id.829428.seq_reps.1'}\n"
     ]
    },
    {
     "name": "stderr",
     "output_type": "stream",
     "text": [
      " 33%|███████████▉                        | 10133/30454 [00:34<01:13, 274.77it/s]"
     ]
    },
    {
     "name": "stdout",
     "output_type": "stream",
     "text": [
      "inconclusive sequencing: 10075 {'name': 'site.04.iso.1.subject.04219.lab_id.901037.seq_reps.1'}\n",
      "inconclusive sequencing: 10106 {'name': 'site.04.iso.1.subject.04784.lab_id.907810.seq_reps.1'}\n",
      "inconclusive sequencing: 10109 {'name': 'site.04.iso.1.subject.03000.lab_id.823467.seq_reps.1'}\n",
      "inconclusive sequencing: 10124 {'name': 'site.04.iso.1.subject.04608.lab_id.905248.seq_reps.1'}\n"
     ]
    },
    {
     "name": "stderr",
     "output_type": "stream",
     "text": [
      " 34%|████████████                        | 10218/30454 [00:35<01:14, 272.79it/s]"
     ]
    },
    {
     "name": "stdout",
     "output_type": "stream",
     "text": [
      "inconclusive sequencing: 10170 {'name': 'site.04.iso.1.subject.04588.lab_id.905619.seq_reps.1'}\n",
      "inconclusive sequencing: 10196 {'name': 'site.04.iso.1.subject.04441.lab_id.902320.seq_reps.1'}\n",
      "inconclusive sequencing: 10197 {'name': 'site.04.iso.1.subject.04493.lab_id.902434.seq_reps.1'}\n"
     ]
    },
    {
     "name": "stderr",
     "output_type": "stream",
     "text": [
      " 34%|████████████▏                       | 10319/30454 [00:35<01:06, 304.25it/s]"
     ]
    },
    {
     "name": "stdout",
     "output_type": "stream",
     "text": [
      "inconclusive sequencing: 10250 {'name': 'site.04.iso.1.subject.03854.lab_id.901503.seq_reps.1'}\n",
      "inconclusive sequencing: 10257 {'name': 'site.04.iso.1.subject.04645.lab_id.905638.seq_reps.1'}\n",
      "inconclusive sequencing: 10258 {'name': 'site.04.iso.1.subject.05640.lab_id.919103.seq_reps.1'}\n",
      "inconclusive sequencing: 10264 {'name': 'site.04.iso.1.subject.04231.lab_id.902783.seq_reps.1'}\n",
      "inconclusive sequencing: 10302 {'name': 'site.04.iso.1.subject.04161.lab_id.912212.seq_reps.1'}\n"
     ]
    },
    {
     "name": "stderr",
     "output_type": "stream",
     "text": [
      " 34%|████████████▎                       | 10421/30454 [00:35<01:04, 308.46it/s]"
     ]
    },
    {
     "name": "stdout",
     "output_type": "stream",
     "text": [
      "inconclusive sequencing: 10346 {'name': 'site.04.iso.1.subject.04149.lab_id.913375.seq_reps.1'}\n",
      "inconclusive sequencing: 10356 {'name': 'site.04.iso.1.subject.04655.lab_id.900918.seq_reps.1'}\n"
     ]
    },
    {
     "name": "stderr",
     "output_type": "stream",
     "text": [
      " 34%|████████████▍                       | 10483/30454 [00:36<01:07, 295.53it/s]"
     ]
    },
    {
     "name": "stdout",
     "output_type": "stream",
     "text": [
      "inconclusive sequencing: 10432 {'name': 'site.04.iso.1.subject.03462.lab_id.828523.seq_reps.1'}\n",
      "inconclusive sequencing: 10449 {'name': 'site.04.iso.1.subject.03418.lab_id.826143.seq_reps.1'}\n",
      "inconclusive sequencing: 10478 {'name': 'site.04.iso.1.subject.03665.lab_id.JJH10041.seq_reps.1'}\n",
      "inconclusive sequencing: 10486 {'name': 'site.08.iso.1.subject.DTU-079.lab_id.2182.seq_reps.1'}\n"
     ]
    },
    {
     "name": "stderr",
     "output_type": "stream",
     "text": [
      " 35%|████████████▌                       | 10581/30454 [00:36<01:07, 292.72it/s]"
     ]
    },
    {
     "name": "stdout",
     "output_type": "stream",
     "text": [
      "inconclusive sequencing: 10504 {'name': 'site.02.iso.1.subject.0499.lab_id.251034-15.seq_reps.15251034'}\n"
     ]
    },
    {
     "name": "stderr",
     "output_type": "stream",
     "text": [
      " 35%|████████████▌                       | 10671/30454 [00:36<01:10, 281.60it/s]"
     ]
    },
    {
     "name": "stdout",
     "output_type": "stream",
     "text": [
      "inconclusive sequencing: 10628 {'name': 'site.10.iso.1.subject.YA00099903.lab_id.YA00099903.seq_reps.1'}\n",
      "inconclusive sequencing: 10630 {'name': 'site.10.iso.1.subject.XD02692733.lab_id.XD02692733.seq_reps.1'}\n",
      "inconclusive sequencing: 10632 {'name': 'site.13.iso.1.subject.160200065.lab_id.160200065.seq_reps.1'}\n",
      "inconclusive sequencing: 10634 {'name': 'site.04.iso.1.subject.03402.lab_id.827187.seq_reps.1'}\n",
      "inconclusive sequencing: 10638 {'name': 'site.10.iso.1.subject.XD01458051.lab_id.XD01458051.seq_reps.1'}\n"
     ]
    },
    {
     "name": "stderr",
     "output_type": "stream",
     "text": [
      " 36%|████████████▊                       | 10857/30454 [00:37<01:03, 310.79it/s]"
     ]
    },
    {
     "name": "stdout",
     "output_type": "stream",
     "text": [
      "inconclusive sequencing: 10788 {'name': 'site.03.iso.1.subject.JPN-R2011-0071.lab_id.JPN-R2011-0071.seq_reps.1'}\n",
      "inconclusive sequencing: 10824 {'name': 'site.08.iso.1.subject.02TB0187.lab_id.17344.seq_reps.1'}\n"
     ]
    },
    {
     "name": "stderr",
     "output_type": "stream",
     "text": [
      " 37%|█████████████▍                      | 11335/30454 [00:38<01:05, 290.96it/s]"
     ]
    },
    {
     "name": "stdout",
     "output_type": "stream",
     "text": [
      "inconclusive sequencing: 11280 {'name': 'site.04.iso.1.subject.04499.lab_id.904068.seq_reps.1'}\n",
      "inconclusive sequencing: 11282 {'name': 'site.04.iso.1.subject.04267.lab_id.901742.seq_reps.1_2'}\n",
      "inconclusive sequencing: 11284 {'name': 'site.04.iso.1.subject.01719.lab_id.730558.seq_reps.1'}\n",
      "inconclusive sequencing: 11286 {'name': 'site.06.iso.1.subject.SGD_0084-14.lab_id.06MIL0410.seq_reps.1'}\n",
      "inconclusive sequencing: 11290 {'name': 'site.04.iso.1.subject.01146.lab_id.720155.seq_reps.1'}\n",
      "inconclusive sequencing: 11294 {'name': 'site.04.iso.1.subject.03986.lab_id.829800.seq_reps.1'}\n",
      "inconclusive sequencing: 11298 {'name': 'site.04.iso.1.subject.00042.lab_id.631456.seq_reps.1'}\n",
      "inconclusive sequencing: 11300 {'name': 'site.04.iso.1.subject.00787.lab_id.713388.seq_reps.1'}\n",
      "inconclusive sequencing: 11301 {'name': 'site.04.iso.1.subject.02009.lab_id.732263.seq_reps.1'}\n",
      "inconclusive sequencing: 11302 {'name': 'site.20.iso.1.subject.SA00377494.lab_id.YA00135266.seq_reps.1'}\n",
      "inconclusive sequencing: 11304 {'name': 'site.04.iso.1.subject.02058.lab_id.803420.seq_reps.1'}\n",
      "inconclusive sequencing: 11306 {'name': 'site.04.iso.1.subject.04974.lab_id.910166.seq_reps.1_2'}\n",
      "inconclusive sequencing: 11308 {'name': 'site.06.iso.1.subject.JHL_0055-14.lab_id.06MIL0215.seq_reps.1'}\n",
      "inconclusive sequencing: 11310 {'name': 'site.06.iso.1.subject.SGD_0058-14.lab_id.06MIL0278.seq_reps.1'}\n",
      "inconclusive sequencing: 11312 {'name': 'site.04.iso.1.subject.03694.lab_id.JJH9953.seq_reps.2'}\n",
      "inconclusive sequencing: 11318 {'name': 'site.04.iso.1.subject.00174.lab_id.630532.seq_reps.1'}\n",
      "inconclusive sequencing: 11319 {'name': 'site.04.iso.1.subject.04350.lab_id.902095.seq_reps.1'}\n",
      "inconclusive sequencing: 11320 {'name': 'site.04.iso.1.subject.04023.lab_id.911177.seq_reps.1'}\n",
      "inconclusive sequencing: 11322 {'name': 'site.04.iso.1.subject.03703.lab_id.JJH10747.seq_reps.1'}\n",
      "inconclusive sequencing: 11326 {'name': 'site.06.iso.1.subject.SGD_0087-14.lab_id.06MIL0412.seq_reps.1'}\n",
      "inconclusive sequencing: 11328 {'name': 'site.10.iso.1.subject.YA00023167.lab_id.YA00023167.seq_reps.1'}\n",
      "inconclusive sequencing: 11330 {'name': 'site.04.iso.1.subject.00905.lab_id.715417.seq_reps.1'}\n",
      "inconclusive sequencing: 11332 {'name': 'site.04.iso.1.subject.00141.lab_id.704234.seq_reps.1'}\n",
      "inconclusive sequencing: 11336 {'name': 'site.04.iso.1.subject.03582.lab_id.828567.seq_reps.1'}\n",
      "inconclusive sequencing: 11338 {'name': 'site.04.iso.1.subject.00655.lab_id.715050.seq_reps.1'}\n",
      "inconclusive sequencing: 11340 {'name': 'site.04.iso.1.subject.03456.lab_id.825174.seq_reps.1'}\n"
     ]
    },
    {
     "name": "stderr",
     "output_type": "stream",
     "text": [
      " 38%|█████████████▌                      | 11442/30454 [00:39<01:24, 226.09it/s]"
     ]
    },
    {
     "name": "stdout",
     "output_type": "stream",
     "text": [
      "inconclusive sequencing: 11416 {'name': 'site.04.iso.1.subject.01017.lab_id.720678.seq_reps.1'}\n",
      "inconclusive sequencing: 11418 {'name': 'site.06.iso.1.subject.SZH_0040-14.lab_id.06MIL0314.seq_reps.1'}\n",
      "inconclusive sequencing: 11423 {'name': 'site.04.iso.1.subject.04438.lab_id.901563.seq_reps.1'}\n",
      "inconclusive sequencing: 11426 {'name': 'site.03.iso.1.subject.DS-155.lab_id.IML-01241.seq_reps.1'}\n"
     ]
    },
    {
     "name": "stderr",
     "output_type": "stream",
     "text": [
      " 38%|█████████████▌                      | 11512/30454 [00:39<01:30, 208.71it/s]"
     ]
    },
    {
     "name": "stdout",
     "output_type": "stream",
     "text": [
      "inconclusive sequencing: 11478 {'name': 'site.06.iso.1.subject.JHL_0098-14.lab_id.06MIL0456.seq_reps.1'}\n"
     ]
    },
    {
     "name": "stderr",
     "output_type": "stream",
     "text": [
      " 38%|█████████████▋                      | 11598/30454 [00:40<01:35, 197.20it/s]"
     ]
    },
    {
     "name": "stdout",
     "output_type": "stream",
     "text": [
      "inconclusive sequencing: 11566 {'name': 'site.06.iso.1.subject.MHL_0173-14.lab_id.06MIL0228.seq_reps.1'}\n"
     ]
    },
    {
     "name": "stderr",
     "output_type": "stream",
     "text": [
      " 38%|█████████████▊                      | 11663/30454 [00:40<01:42, 183.88it/s]"
     ]
    },
    {
     "name": "stdout",
     "output_type": "stream",
     "text": [
      "inconclusive sequencing: 11628 {'name': 'site.06.iso.1.subject.JHL_0096-14.lab_id.06MIL0419.seq_reps.1'}\n"
     ]
    },
    {
     "name": "stderr",
     "output_type": "stream",
     "text": [
      " 39%|█████████████▉                      | 11748/30454 [00:41<01:31, 204.25it/s]"
     ]
    },
    {
     "name": "stdout",
     "output_type": "stream",
     "text": [
      "inconclusive sequencing: 11724 {'name': 'site.06.iso.1.subject.BVH_0010-14.lab_id.06MIL0235.seq_reps.1'}\n",
      "inconclusive sequencing: 11734 {'name': 'site.06.iso.1.subject.JHL_0046-14.lab_id.06MIL0185.seq_reps.1'}\n",
      "inconclusive sequencing: 11770 {'name': 'site.06.iso.1.subject.ICK-1198.lab_id.06MIL1096.seq_reps.1'}\n"
     ]
    },
    {
     "name": "stderr",
     "output_type": "stream",
     "text": [
      " 39%|█████████████▉                      | 11833/30454 [00:41<01:13, 252.40it/s]"
     ]
    },
    {
     "name": "stdout",
     "output_type": "stream",
     "text": [
      "inconclusive sequencing: 11788 {'name': 'site.06.iso.1.subject.NHM_0324-14.lab_id.06MIL0453.seq_reps.1'}\n",
      "inconclusive sequencing: 11793 {'name': 'site.06.iso.1.subject.SSM_0138_14.lab_id.06MIL0222.seq_reps.1'}\n",
      "inconclusive sequencing: 11799 {'name': 'site.06.iso.1.subject.RLH_0278-14.lab_id.06MIL0210.seq_reps.1'}\n",
      "inconclusive sequencing: 11811 {'name': 'site.06.iso.1.subject.NHM_0291-14.lab_id.06MIL0346.seq_reps.1'}\n",
      "inconclusive sequencing: 11812 {'name': 'site.04.iso.1.subject.03285.lab_id.825110.seq_reps.1'}\n",
      "inconclusive sequencing: 11820 {'name': 'site.06.iso.1.subject.RLH_0289-14.lab_id.06MIL0257.seq_reps.1'}\n",
      "inconclusive sequencing:"
     ]
    },
    {
     "name": "stderr",
     "output_type": "stream",
     "text": [
      " 39%|██████████████                      | 11887/30454 [00:41<01:13, 251.76it/s]"
     ]
    },
    {
     "name": "stdout",
     "output_type": "stream",
     "text": [
      " 11847 {'name': 'site.06.iso.1.subject.NHM_0323-14.lab_id.06MIL0452.seq_reps.1'}\n",
      "inconclusive sequencing: 11851 {'name': 'site.04.iso.1.subject.00933.lab_id.715240.seq_reps.1'}\n"
     ]
    },
    {
     "name": "stderr",
     "output_type": "stream",
     "text": [
      " 39%|██████████████                      | 11945/30454 [00:41<01:08, 270.47it/s]"
     ]
    },
    {
     "name": "stdout",
     "output_type": "stream",
     "text": [
      "inconclusive sequencing: 11902 {'name': 'site.06.iso.1.subject.MHL_0156-14.lab_id.06MIL0152.seq_reps.1'}\n",
      "inconclusive sequencing: 11952 {'name': 'site.06.iso.1.subject.MHL_0007_12.lab_id.06MIL0115.seq_reps.1'}\n"
     ]
    },
    {
     "name": "stderr",
     "output_type": "stream",
     "text": [
      " 39%|██████████████▏                     | 11999/30454 [00:42<01:16, 240.93it/s]"
     ]
    },
    {
     "name": "stdout",
     "output_type": "stream",
     "text": [
      "inconclusive sequencing: 11964 {'name': 'site.04.iso.1.subject.04256.lab_id.901537.seq_reps.1'}\n",
      "inconclusive sequencing: 11966 {'name': 'site.04.iso.1.subject.04037.lab_id.830098.seq_reps.1_2'}\n",
      "inconclusive sequencing: 11967 {'name': 'site.04.iso.1.subject.04947.lab_id.904603.seq_reps.1'}\n",
      "inconclusive sequencing: 11992 {'name': 'site.04.iso.1.subject.04440.lab_id.832125.seq_reps.1'}\n",
      "inconclusive sequencing: 11994 {'name': 'site.04.iso.1.subject.03558.lab_id.823529.seq_reps.1'}\n"
     ]
    },
    {
     "name": "stderr",
     "output_type": "stream",
     "text": [
      " 40%|██████████████▏                     | 12053/30454 [00:42<01:13, 250.67it/s]"
     ]
    },
    {
     "name": "stdout",
     "output_type": "stream",
     "text": [
      "inconclusive sequencing: 12023 {'name': 'site.04.iso.1.subject.02952.lab_id.827574.seq_reps.1'}\n"
     ]
    },
    {
     "name": "stderr",
     "output_type": "stream",
     "text": [
      " 40%|██████████████▎                     | 12105/30454 [00:42<01:15, 243.22it/s]"
     ]
    },
    {
     "name": "stdout",
     "output_type": "stream",
     "text": [
      "inconclusive sequencing: 12078 {'name': 'site.04.iso.1.subject.05501.lab_id.913629.seq_reps.1'}\n",
      "inconclusive sequencing: 12088 {'name': 'site.04.iso.1.subject.05622.lab_id.918821.seq_reps.1'}\n"
     ]
    },
    {
     "name": "stderr",
     "output_type": "stream",
     "text": [
      " 40%|██████████████▍                     | 12201/30454 [00:42<01:04, 282.97it/s]"
     ]
    },
    {
     "name": "stdout",
     "output_type": "stream",
     "text": [
      "inconclusive sequencing: 12132 {'name': 'site.04.iso.1.subject.00823.lab_id.713738.seq_reps.1'}\n"
     ]
    },
    {
     "name": "stderr",
     "output_type": "stream",
     "text": [
      " 40%|██████████████▌                     | 12323/30454 [00:43<01:11, 252.92it/s]"
     ]
    },
    {
     "name": "stdout",
     "output_type": "stream",
     "text": [
      "inconclusive sequencing: 12278 {'name': 'site.06.iso.1.subject.NHM_0488-14.lab_id.06MIL0064.seq_reps.1'}\n",
      "inconclusive sequencing: 12285 {'name': 'site.04.iso.1.subject.04571.lab_id.903433.seq_reps.1'}\n",
      "inconclusive sequencing: 12304 {'name': 'site.06.iso.1.subject.SGD_0083-14.lab_id.06MIL0411.seq_reps.1'}\n"
     ]
    },
    {
     "name": "stderr",
     "output_type": "stream",
     "text": [
      " 41%|██████████████▊                     | 12548/30454 [00:44<00:59, 300.35it/s]"
     ]
    },
    {
     "name": "stdout",
     "output_type": "stream",
     "text": [
      "inconclusive sequencing: 12481 {'name': 'site.04.iso.1.subject.04528.lab_id.904472.seq_reps.1'}\n",
      "inconclusive sequencing: 12530 {'name': 'site.06.iso.1.subject.MHL_0013-12.lab_id.06MIL0079.seq_reps.1'}\n"
     ]
    },
    {
     "name": "stderr",
     "output_type": "stream",
     "text": [
      " 42%|██████████████▉                     | 12672/30454 [00:44<01:00, 294.88it/s]"
     ]
    },
    {
     "name": "stdout",
     "output_type": "stream",
     "text": [
      "inconclusive sequencing: 12629 {'name': 'site.04.iso.1.subject.03379.lab_id.828130.seq_reps.1'}\n",
      "inconclusive sequencing: 12650 {'name': 'site.04.iso.1.subject.04592.lab_id.905079.seq_reps.1_2'}\n"
     ]
    },
    {
     "name": "stderr",
     "output_type": "stream",
     "text": [
      " 42%|███████████████                     | 12763/30454 [00:44<01:00, 293.54it/s]"
     ]
    },
    {
     "name": "stdout",
     "output_type": "stream",
     "text": [
      "inconclusive sequencing: 12730 {'name': 'site.04.iso.1.subject.04002.lab_id.900530.seq_reps.1'}\n",
      "inconclusive sequencing: 12740 {'name': 'site.04.iso.1.subject.04673.lab_id.906913.seq_reps.1_2'}\n",
      "inconclusive sequencing: 12751 {'name': 'site.04.iso.1.subject.04523.lab_id.904332.seq_reps.1'}\n",
      "inconclusive sequencing: 12754 {'name': 'site.06.iso.1.subject.SGD_0059-14.lab_id.06MIL0292.seq_reps.1'}\n",
      "inconclusive sequencing: 12760 {'name': 'site.06.iso.1.subject.BVH_0038-14.lab_id.06MIL0381.seq_reps.1'}\n"
     ]
    },
    {
     "name": "stderr",
     "output_type": "stream",
     "text": [
      " 42%|███████████████▏                    | 12857/30454 [00:45<00:59, 298.11it/s]"
     ]
    },
    {
     "name": "stdout",
     "output_type": "stream",
     "text": [
      "inconclusive sequencing: 12820 {'name': 'site.04.iso.1.subject.02563.lab_id.815563.seq_reps.1'}\n",
      "inconclusive sequencing: 12825 {'name': 'site.04.iso.1.subject.03888.lab_id.832521.seq_reps.1'}\n"
     ]
    },
    {
     "name": "stderr",
     "output_type": "stream",
     "text": [
      " 43%|███████████████▎                    | 12986/30454 [00:45<00:55, 312.75it/s]"
     ]
    },
    {
     "name": "stdout",
     "output_type": "stream",
     "text": [
      "inconclusive sequencing: 12922 {'name': 'site.04.iso.1.subject.04453.lab_id.905101.seq_reps.1'}\n",
      "inconclusive sequencing:"
     ]
    },
    {
     "name": "stderr",
     "output_type": "stream",
     "text": [
      " 43%|███████████████▍                    | 13050/30454 [00:45<00:58, 298.65it/s]"
     ]
    },
    {
     "name": "stdout",
     "output_type": "stream",
     "text": [
      " 12995 {'name': 'site.04.iso.1.subject.04279.lab_id.902914.seq_reps.1'}\n",
      "inconclusive sequencing: 12996 {'name': 'site.04.iso.1.subject.03257.lab_id.826330.seq_reps.1'}\n",
      "inconclusive sequencing: 13008 {'name': 'site.04.iso.1.subject.03782.lab_id.829533.seq_reps.1'}\n",
      "inconclusive sequencing: 13010 {'name': 'site.03.iso.1.subject.DR-292.lab_id.IML-01197.seq_reps.1'}\n"
     ]
    },
    {
     "name": "stderr",
     "output_type": "stream",
     "text": [
      " 43%|███████████████▌                    | 13152/30454 [00:46<00:54, 318.47it/s]"
     ]
    },
    {
     "name": "stdout",
     "output_type": "stream",
     "text": [
      "inconclusive sequencing: 13086 {'name': 'site.04.iso.1.subject.04675.lab_id.906454.seq_reps.1'}\n"
     ]
    },
    {
     "name": "stderr",
     "output_type": "stream",
     "text": [
      " 44%|███████████████▋                    | 13249/30454 [00:46<00:55, 308.47it/s]"
     ]
    },
    {
     "name": "stdout",
     "output_type": "stream",
     "text": [
      "inconclusive sequencing: 13205 {'name': 'site.06.iso.1.subject.RLH_0302-14.lab_id.06MIL0294.seq_reps.1'}\n",
      "inconclusive sequencing: 13215 {'name': 'site.06.iso.1.subject.MHL_0142-14.lab_id.06MIL0050.seq_reps.1'}\n"
     ]
    },
    {
     "name": "stderr",
     "output_type": "stream",
     "text": [
      " 44%|███████████████▊                    | 13373/30454 [00:46<00:57, 298.30it/s]"
     ]
    },
    {
     "name": "stdout",
     "output_type": "stream",
     "text": [
      "inconclusive sequencing: 13318 {'name': 'site.06.iso.1.subject.D0543-17.lab_id.06MIL1561.seq_reps.1'}\n",
      "inconclusive sequencing: 13378 {'name': 'site.06.iso.1.subject.NHM_0313-14.lab_id.06MIL0413.seq_reps.1'}\n"
     ]
    },
    {
     "name": "stderr",
     "output_type": "stream",
     "text": [
      " 44%|███████████████▉                    | 13437/30454 [00:46<00:56, 300.69it/s]"
     ]
    },
    {
     "name": "stdout",
     "output_type": "stream",
     "text": [
      "inconclusive sequencing: 13399 {'name': 'site.06.iso.1.subject.RLH_0236-14.lab_id.06MIL0086.seq_reps.1'}\n",
      "inconclusive sequencing: 13439 {'name': 'site.04.iso.1.subject.04638.lab_id.904751.seq_reps.1'}\n",
      "inconclusive sequencing: 13440 {'name': 'site.04.iso.1.subject.04190.lab_id.901180.seq_reps.1'}\n",
      "inconclusive sequencing: 13461 {'name': 'site.06.iso.1.subject.IR30.lab_id.06MIL1854.seq_reps.1'}\n"
     ]
    },
    {
     "name": "stderr",
     "output_type": "stream",
     "text": [
      " 44%|███████████████▉                    | 13531/30454 [00:47<00:57, 295.45it/s]"
     ]
    },
    {
     "name": "stdout",
     "output_type": "stream",
     "text": [
      "inconclusive sequencing: 13492 {'name': 'site.04.iso.1.subject.04362.lab_id.831548.seq_reps.1'}\n",
      "inconclusive sequencing: 13493 {'name': 'site.04.iso.1.subject.04920.lab_id.908048.seq_reps.1'}\n"
     ]
    },
    {
     "name": "stderr",
     "output_type": "stream",
     "text": [
      " 45%|████████████████                    | 13621/30454 [00:47<00:58, 289.14it/s]"
     ]
    },
    {
     "name": "stdout",
     "output_type": "stream",
     "text": [
      "inconclusive sequencing: 13585 {'name': 'site.04.iso.1.subject.04476.lab_id.903922.seq_reps.1'}\n",
      "inconclusive sequencing: 13594 {'name': 'site.08.iso.1.subject.24TB-047.lab_id.2135.seq_reps.1'}\n"
     ]
    },
    {
     "name": "stderr",
     "output_type": "stream",
     "text": [
      " 45%|████████████████▎                   | 13810/30454 [00:48<00:54, 304.09it/s]"
     ]
    },
    {
     "name": "stdout",
     "output_type": "stream",
     "text": [
      "inconclusive sequencing: 13762 {'name': 'site.04.iso.1.subject.05467.lab_id.913724.seq_reps.1'}\n"
     ]
    },
    {
     "name": "stderr",
     "output_type": "stream",
     "text": [
      " 46%|████████████████▍                   | 13873/30454 [00:48<00:54, 306.57it/s]"
     ]
    },
    {
     "name": "stdout",
     "output_type": "stream",
     "text": [
      "inconclusive sequencing: 13831 {'name': 'site.06.iso.1.subject.SGD_0189-15.lab_id.06MIL0061.seq_reps.1'}\n",
      "inconclusive sequencing: 13850 {'name': 'site.04.iso.1.subject.03514.lab_id.829103.seq_reps.1'}\n",
      "inconclusive sequencing: 13882 {'name': 'site.04.iso.1.subject.03965.lab_id.900753.seq_reps.1'}\n"
     ]
    },
    {
     "name": "stderr",
     "output_type": "stream",
     "text": [
      " 46%|████████████████▌                   | 13967/30454 [00:48<00:55, 298.98it/s]"
     ]
    },
    {
     "name": "stdout",
     "output_type": "stream",
     "text": [
      "inconclusive sequencing: 13924 {'name': 'site.04.iso.1.subject.03863.lab_id.831332.seq_reps.1'}\n",
      "inconclusive sequencing: 13950 {'name': 'site.04.iso.1.subject.00173.lab_id.701433.seq_reps.1'}\n"
     ]
    },
    {
     "name": "stderr",
     "output_type": "stream",
     "text": [
      " 46%|████████████████▋                   | 14113/30454 [00:49<00:58, 279.02it/s]"
     ]
    },
    {
     "name": "stdout",
     "output_type": "stream",
     "text": [
      "inconclusive sequencing: 14066 {'name': 'site.06.iso.1.subject.BVH_0011-14.lab_id.06MIL0264.seq_reps.1'}\n"
     ]
    },
    {
     "name": "stderr",
     "output_type": "stream",
     "text": [
      " 47%|████████████████▊                   | 14201/30454 [00:49<00:57, 282.67it/s]"
     ]
    },
    {
     "name": "stdout",
     "output_type": "stream",
     "text": [
      "inconclusive sequencing: 14164 {'name': 'site.04.iso.1.subject.04187.lab_id.900623.seq_reps.1_2'}\n",
      "inconclusive sequencing: 14230 {'name': 'site.06.iso.1.subject.SGD_0067-14.lab_id.06MIL0424.seq_reps.1'}\n"
     ]
    },
    {
     "name": "stderr",
     "output_type": "stream",
     "text": [
      " 47%|████████████████▉                   | 14297/30454 [00:49<00:53, 303.52it/s]"
     ]
    },
    {
     "name": "stdout",
     "output_type": "stream",
     "text": [
      "inconclusive sequencing: 14234 {'name': 'site.06.iso.1.subject.BVH_0016-14.lab_id.06MIL0247.seq_reps.1'}\n"
     ]
    },
    {
     "name": "stderr",
     "output_type": "stream",
     "text": [
      " 47%|█████████████████                   | 14394/30454 [00:50<00:51, 314.78it/s]"
     ]
    },
    {
     "name": "stdout",
     "output_type": "stream",
     "text": [
      "inconclusive sequencing: 14346 {'name': 'site.04.iso.1.subject.03666.lab_id.912713.seq_reps.1'}\n",
      "inconclusive sequencing: 14364 {'name': 'site.04.iso.1.subject.00987.lab_id.717126.seq_reps.1'}\n",
      "inconclusive sequencing: 14378 {'name': 'site.04.iso.1.subject.03886.lab_id.830570.seq_reps.1'}\n"
     ]
    },
    {
     "name": "stderr",
     "output_type": "stream",
     "text": [
      " 48%|█████████████████▏                  | 14495/30454 [00:50<00:50, 316.94it/s]"
     ]
    },
    {
     "name": "stdout",
     "output_type": "stream",
     "text": [
      "inconclusive sequencing: 14454 {'name': 'site.06.iso.1.subject.JHL_0061-14.lab_id.06MIL0267.seq_reps.1'}\n",
      "inconclusive sequencing: 14457 {'name': 'site.04.iso.1.subject.05502.lab_id.913559.seq_reps.1'}\n",
      "inconclusive sequencing: 14490 {'name': 'site.04.iso.1.subject.05664.lab_id.918988.seq_reps.1'}\n"
     ]
    },
    {
     "name": "stderr",
     "output_type": "stream",
     "text": [
      " 48%|█████████████████▎                  | 14593/30454 [00:50<00:50, 316.14it/s]"
     ]
    },
    {
     "name": "stdout",
     "output_type": "stream",
     "text": [
      "inconclusive sequencing: 14551 {'name': 'site.04.iso.1.subject.05044.lab_id.908595.seq_reps.1'}\n",
      "inconclusive sequencing: 14556 {'name': 'site.04.iso.1.subject.04479.lab_id.903938.seq_reps.1'}\n",
      "inconclusive sequencing: 14558 {'name': 'site.04.iso.1.subject.04206.lab_id.901267.seq_reps.1'}\n",
      "inconclusive sequencing: 14573 {'name': 'site.04.iso.1.subject.03537.lab_id.828949.seq_reps.1'}\n",
      "inconclusive sequencing: 14608 {'name': 'site.04.iso.1.subject.00976.lab_id.716294.seq_reps.1'}\n"
     ]
    },
    {
     "name": "stderr",
     "output_type": "stream",
     "text": [
      " 49%|█████████████████▍                  | 14794/30454 [00:51<00:48, 321.63it/s]"
     ]
    },
    {
     "name": "stdout",
     "output_type": "stream",
     "text": [
      "inconclusive sequencing: 14736 {'name': 'site.06.iso.1.subject.MHL_0150-14.lab_id.06MIL0075.seq_reps.1'}\n"
     ]
    },
    {
     "name": "stderr",
     "output_type": "stream",
     "text": [
      " 49%|█████████████████▌                  | 14898/30454 [00:51<00:47, 326.89it/s]"
     ]
    },
    {
     "name": "stdout",
     "output_type": "stream",
     "text": [
      "inconclusive sequencing: 14814 {'name': 'site.04.iso.1.subject.00654.lab_id.714029.seq_reps.1'}\n",
      "inconclusive sequencing: 14857 {'name': 'site.04.iso.1.subject.04612.lab_id.900688.seq_reps.1'}\n",
      "inconclusive sequencing: 14861 {'name': 'site.04.iso.1.subject.03511.lab_id.828495.seq_reps.1'}\n",
      "inconclusive sequencing: 14895 {'name': 'site.06.iso.1.subject.MHL_0145-13.lab_id.06MIL0072.seq_reps.1'}\n",
      "inconclusive sequencing: 14902 {'name': 'site.04.iso.1.subject.04560.lab_id.902718.seq_reps.1'}\n",
      "inconclusive sequencing: 14903 {'name': 'site.04.iso.1.subject.05566.lab_id.916742.seq_reps.1'}\n",
      "inconclusive sequencing: 14919 {'name': 'site.04.iso.1.subject.04794.lab_id.907389.seq_reps.1'}\n"
     ]
    },
    {
     "name": "stderr",
     "output_type": "stream",
     "text": [
      " 49%|█████████████████▊                  | 15037/30454 [00:52<00:45, 337.16it/s]"
     ]
    },
    {
     "name": "stdout",
     "output_type": "stream",
     "text": [
      "inconclusive sequencing: 14974 {'name': 'site.04.iso.1.subject.00127.lab_id.634380.seq_reps.1'}\n",
      "inconclusive sequencing: 14994 {'name': 'site.04.iso.1.subject.00574.lab_id.706414.seq_reps.1'}\n",
      "inconclusive sequencing: 14998 {'name': 'site.04.iso.1.subject.04412.lab_id.902976.seq_reps.1'}\n",
      "inconclusive sequencing: 15004 {'name': 'site.04.iso.1.subject.03764.lab_id.829856.seq_reps.1'}\n",
      "inconclusive sequencing: 15012 {'name': 'site.04.iso.1.subject.03039.lab_id.827673.seq_reps.1'}\n",
      "inconclusive sequencing: 15014 {'name': 'site.04.iso.1.subject.04430.lab_id.902675.seq_reps.1'}\n",
      "inconclusive sequencing: 15018 {'name': 'site.04.iso.1.subject.01261.lab_id.721904.seq_reps.1'}\n",
      "other lineage: 15022\n",
      "other lineage: 15023\n",
      "other lineage: 15028\n",
      "other lineage: 15030\n",
      "other lineage: 15031\n",
      "other lineage: 15034\n",
      "other lineage: 15035\n",
      "other lineage: 15036\n",
      "other lineage: 15038\n",
      "other lineage: 15040\n",
      "other lineage: 15041\n",
      "no lineage: 15044\n",
      "no lineage: 15048\n",
      "no lineage:"
     ]
    },
    {
     "name": "stderr",
     "output_type": "stream",
     "text": [
      " 50%|█████████████████▊                  | 15104/30454 [00:52<00:48, 318.92it/s]"
     ]
    },
    {
     "name": "stdout",
     "output_type": "stream",
     "text": [
      " 15049\n",
      "no lineage: 15050\n",
      "no lineage: 15054\n",
      "no lineage: 15056\n",
      "no lineage: 15057\n",
      "no lineage: 15058\n",
      "no lineage: 15060\n",
      "no lineage: 15061\n",
      "no lineage: 15062\n",
      "no lineage: 15066\n",
      "no lineage: 15068\n",
      "no lineage: 15069\n",
      "outliers: {'name': 'site.06.iso.1.subject.06TB_0666.lab_id.06MIL1604.seq_reps.1'}\n",
      "outliers: {'name': 'site.06.iso.1.subject.06TB_1029.lab_id.06MIL2034.seq_reps.1'}\n",
      "outliers: {'name': 'site.06.iso.1.subject.06TB_1406.lab_id.06MIL2684.seq_reps.1'}\n",
      "outliers: {'name': 'site.06.iso.1.subject.06TB_1408.lab_id.06MIL2686.seq_reps.1'}\n",
      "no lineage: 15080\n",
      "no lineage: 15082\n",
      "no lineage: 15083\n",
      "no lineage: 15084\n",
      "no lineage: 15086\n",
      "no lineage: 15088\n",
      "no lineage: 15090\n",
      "no lineage: 15091\n",
      "inconclusive sequencing: 15094 {'name': 'site.04.iso.1.subject.03296.lab_id.825159.seq_reps.1'}\n",
      "inconclusive sequencing: 15096 {'name': 'site.04.iso.1.subject.03606.lab_id.826678.seq_reps.1'}\n",
      "inconclusive sequencing: 15098 {'name': 'site.04.iso.1.subject.01053.lab_id.714898.seq_reps.1'}\n",
      "inconclusive sequencing: 15100 {'name': 'site.06.iso.1.subject.NHM_0292-14.lab_id.06MIL0345.seq_reps.1'}\n",
      "inconclusive sequencing: 15104 {'name': 'site.08.iso.1.subject.02TB2266.lab_id.25813.seq_reps.1'}\n",
      "inconclusive sequencing: 15107 {'name': 'site.08.iso.1.subject.24TB-074.lab_id.2208.seq_reps.1'}\n"
     ]
    },
    {
     "name": "stderr",
     "output_type": "stream",
     "text": [
      "\r\n",
      " 50%|█████████████████▉                  | 15143/30454 [00:52<00:45, 335.02it/s]"
     ]
    },
    {
     "name": "stdout",
     "output_type": "stream",
     "text": [
      "inconclusive sequencing: 15112 {'name': 'site.04.iso.1.subject.04397.lab_id.832405.seq_reps.1'}\n",
      "inconclusive sequencing: 15113 {'name': 'site.10.iso.1.subject.YA00046953.lab_id.YA00046953.seq_reps.1'}\n",
      "inconclusive sequencing: 15116 {'name': 'site.08.iso.1.subject.24TB-081.lab_id.2249.seq_reps.1'}\n"
     ]
    },
    {
     "name": "stderr",
     "output_type": "stream",
     "text": [
      " 50%|██████████████████                  | 15314/30454 [00:53<00:46, 327.18it/s]"
     ]
    },
    {
     "name": "stdout",
     "output_type": "stream",
     "text": [
      "inconclusive sequencing: 15248 {'name': 'site.05.iso.1.subject.CA-0116.lab_id.CO-07428-18.seq_reps.1'}\n",
      "inconclusive sequencing: 15275 {'name': 'site.04.iso.1.subject.04844.lab_id.905760.seq_reps.1'}\n",
      "inconclusive sequencing: 15288 {'name': 'site.08.iso.1.subject.02TB0158.lab_id.17101.seq_reps.1'}\n",
      "inconclusive sequencing: 15289 {'name': 'site.08.iso.1.subject.02TB0896.lab_id.19235.seq_reps.1'}\n",
      "inconclusive sequencing: 15290 {'name': 'site.08.iso.1.subject.23TB03-117.lab_id.2122.seq_reps.1'}\n"
     ]
    },
    {
     "name": "stderr",
     "output_type": "stream",
     "text": [
      " 51%|██████████████████▏                 | 15413/30454 [00:53<00:48, 309.54it/s]"
     ]
    },
    {
     "name": "stdout",
     "output_type": "stream",
     "text": [
      "inconclusive sequencing: 15353 {'name': 'site.08.iso.1.subject.02TB0048.lab_id.17496.seq_reps.1'}\n"
     ]
    },
    {
     "name": "stderr",
     "output_type": "stream",
     "text": [
      " 51%|██████████████████▎                 | 15477/30454 [00:53<00:48, 311.21it/s]"
     ]
    },
    {
     "name": "stdout",
     "output_type": "stream",
     "text": [
      "inconclusive sequencing: 15432 {'name': 'site.08.iso.1.subject.02TB1380.lab_id.20875.seq_reps.1'}\n"
     ]
    },
    {
     "name": "stderr",
     "output_type": "stream",
     "text": [
      " 51%|██████████████████▍                 | 15605/30454 [00:54<00:48, 306.02it/s]"
     ]
    },
    {
     "name": "stdout",
     "output_type": "stream",
     "text": [
      "inconclusive sequencing: 15560 {'name': 'site.08.iso.1.subject.02TB2402.lab_id.25893.seq_reps.1'}\n"
     ]
    },
    {
     "name": "stderr",
     "output_type": "stream",
     "text": [
      " 52%|██████████████████▌                 | 15728/30454 [00:54<00:50, 289.35it/s]"
     ]
    },
    {
     "name": "stdout",
     "output_type": "stream",
     "text": [
      "inconclusive sequencing: 15672 {'name': 'site.08.iso.1.subject.05TB43025.lab_id.1944.seq_reps.1'}\n"
     ]
    },
    {
     "name": "stderr",
     "output_type": "stream",
     "text": [
      " 52%|██████████████████▋                 | 15839/30454 [00:55<01:08, 213.69it/s]"
     ]
    },
    {
     "name": "stdout",
     "output_type": "stream",
     "text": [
      "inconclusive sequencing: 15802 {'name': 'site.04.iso.1.subject.03553.lab_id.828663.seq_reps.1'}\n"
     ]
    },
    {
     "name": "stderr",
     "output_type": "stream",
     "text": [
      " 52%|██████████████████▊                 | 15912/30454 [00:55<01:07, 214.04it/s]"
     ]
    },
    {
     "name": "stdout",
     "output_type": "stream",
     "text": [
      "inconclusive sequencing: 15872 {'name': 'site.04.iso.1.subject.03057.lab_id.827163.seq_reps.1'}\n",
      "inconclusive sequencing: 15880 {'name': 'site.04.iso.1.subject.03989.lab_id.830874.seq_reps.1'}\n",
      "inconclusive sequencing: 15886 {'name': 'site.04.iso.1.subject.00800.lab_id.715057.seq_reps.1'}\n"
     ]
    },
    {
     "name": "stderr",
     "output_type": "stream",
     "text": [
      " 52%|██████████████████▊                 | 15961/30454 [00:55<01:08, 212.53it/s]"
     ]
    },
    {
     "name": "stdout",
     "output_type": "stream",
     "text": [
      "inconclusive sequencing: 15934 {'name': 'site.04.iso.1.subject.00744.lab_id.706847.seq_reps.1'}\n"
     ]
    },
    {
     "name": "stderr",
     "output_type": "stream",
     "text": [
      " 53%|██████████████████▉                 | 16023/30454 [00:56<01:22, 174.74it/s]"
     ]
    },
    {
     "name": "stdout",
     "output_type": "stream",
     "text": [
      "inconclusive sequencing: 15995 {'name': 'site.04.iso.1.subject.02741.lab_id.816087.seq_reps.1'}\n"
     ]
    },
    {
     "name": "stderr",
     "output_type": "stream",
     "text": [
      " 53%|███████████████████                 | 16083/30454 [00:56<01:18, 183.23it/s]"
     ]
    },
    {
     "name": "stdout",
     "output_type": "stream",
     "text": [
      "inconclusive sequencing: 16050 {'name': 'site.04.iso.1.subject.04225.lab_id.901531.seq_reps.1'}\n",
      "inconclusive sequencing: 16083 {'name': 'site.04.iso.1.subject.01029.lab_id.716739.seq_reps.1'}\n"
     ]
    },
    {
     "name": "stderr",
     "output_type": "stream",
     "text": [
      " 53%|███████████████████                 | 16121/30454 [00:56<01:18, 182.31it/s]"
     ]
    },
    {
     "name": "stdout",
     "output_type": "stream",
     "text": [
      "inconclusive sequencing: 16092 {'name': 'site.04.iso.1.subject.00015.lab_id.631149.seq_reps.1'}\n"
     ]
    },
    {
     "name": "stderr",
     "output_type": "stream",
     "text": [
      " 53%|███████████████████                 | 16161/30454 [00:56<01:17, 184.01it/s]"
     ]
    },
    {
     "name": "stdout",
     "output_type": "stream",
     "text": [
      "inconclusive sequencing: 16139 {'name': 'site.04.iso.1.subject.04843.lab_id.907308.seq_reps.1'}\n"
     ]
    },
    {
     "name": "stderr",
     "output_type": "stream",
     "text": [
      " 53%|███████████████████▏                | 16245/30454 [00:57<01:15, 187.82it/s]"
     ]
    },
    {
     "name": "stdout",
     "output_type": "stream",
     "text": [
      "inconclusive sequencing: 16206 {'name': 'site.04.iso.1.subject.00091.lab_id.705647.seq_reps.1'}\n",
      "inconclusive sequencing: 16207 {'name': 'site.04.iso.1.subject.03869.lab_id.829921.seq_reps.1'}\n",
      "inconclusive sequencing: 16223 {'name': 'site.04.iso.1.subject.03630.lab_id.828569.seq_reps.1'}\n"
     ]
    },
    {
     "name": "stderr",
     "output_type": "stream",
     "text": [
      " 54%|███████████████████▎                | 16321/30454 [00:57<01:25, 165.67it/s]"
     ]
    },
    {
     "name": "stdout",
     "output_type": "stream",
     "text": [
      "inconclusive sequencing: 16289 {'name': 'site.04.iso.1.subject.03228.lab_id.824346.seq_reps.1'}\n",
      "inconclusive sequencing: 16297 {'name': 'site.04.iso.1.subject.05663.lab_id.918688.seq_reps.1'}\n"
     ]
    },
    {
     "name": "stderr",
     "output_type": "stream",
     "text": [
      " 54%|███████████████████▌                | 16500/30454 [00:58<01:22, 169.61it/s]"
     ]
    },
    {
     "name": "stdout",
     "output_type": "stream",
     "text": [
      "inconclusive sequencing: 16477 {'name': 'site.04.iso.1.subject.04373.lab_id.901532.seq_reps.1'}\n"
     ]
    },
    {
     "name": "stderr",
     "output_type": "stream",
     "text": [
      " 54%|███████████████████▌                | 16539/30454 [00:58<01:19, 175.75it/s]"
     ]
    },
    {
     "name": "stdout",
     "output_type": "stream",
     "text": [
      "inconclusive sequencing: 16514 {'name': 'site.04.iso.1.subject.03929.lab_id.832237.seq_reps.1'}\n",
      "inconclusive sequencing: 16519 {'name': 'site.04.iso.1.subject.03271.lab_id.826349.seq_reps.1'}\n",
      "inconclusive sequencing: 16521 {'name': 'site.04.iso.1.subject.03678.lab_id.JJH9853.seq_reps.1'}\n",
      "inconclusive sequencing: 16533 {'name': 'site.04.iso.1.subject.03632.lab_id.827666.seq_reps.1'}\n",
      "inconclusive sequencing: 16542 {'name': 'site.04.iso.1.subject.03500.lab_id.828647.seq_reps.1'}\n",
      "inconclusive sequencing: 16548 {'name': 'site.04.iso.1.subject.00376.lab_id.701593.seq_reps.1'}\n",
      "inconclusive sequencing: 16550 {'name': 'site.04.iso.1.subject.01633.lab_id.730144.seq_reps.1'}\n",
      "inconclusive sequencing: 16552 {'name': 'site.04.iso.1.subject.03294.lab_id.823395.seq_reps.1'}\n"
     ]
    },
    {
     "name": "stderr",
     "output_type": "stream",
     "text": [
      " 55%|███████████████████▋                | 16605/30454 [00:59<01:09, 199.24it/s]"
     ]
    },
    {
     "name": "stdout",
     "output_type": "stream",
     "text": [
      "inconclusive sequencing: 16582 {'name': 'site.04.iso.1.subject.04891.lab_id.907806.seq_reps.1'}\n",
      "inconclusive sequencing: 16628 {'name': 'site.04.iso.1.subject.03554.lab_id.828586.seq_reps.1'}\n"
     ]
    },
    {
     "name": "stderr",
     "output_type": "stream",
     "text": [
      " 55%|███████████████████▊                | 16729/30454 [00:59<01:06, 206.66it/s]"
     ]
    },
    {
     "name": "stdout",
     "output_type": "stream",
     "text": [
      "inconclusive sequencing: 16683 {'name': 'site.06.iso.1.subject.06TB_1012.lab_id.06MIL2007.seq_reps.1'}\n"
     ]
    },
    {
     "name": "stderr",
     "output_type": "stream",
     "text": [
      " 55%|███████████████████▉                | 16841/30454 [01:00<01:06, 203.56it/s]"
     ]
    },
    {
     "name": "stdout",
     "output_type": "stream",
     "text": [
      "inconclusive sequencing: 16807 {'name': 'site.04.iso.1.subject.04550.lab_id.904001.seq_reps.1'}\n",
      "inconclusive sequencing: 16820 {'name': 'site.04.iso.1.subject.04212.lab_id.901186.seq_reps.1'}\n"
     ]
    },
    {
     "name": "stderr",
     "output_type": "stream",
     "text": [
      " 56%|████████████████████                | 16971/30454 [01:01<01:07, 200.60it/s]"
     ]
    },
    {
     "name": "stdout",
     "output_type": "stream",
     "text": [
      "inconclusive sequencing: 16949 {'name': 'site.04.iso.1.subject.04131.lab_id.900834.seq_reps.1'}\n"
     ]
    },
    {
     "name": "stderr",
     "output_type": "stream",
     "text": [
      " 56%|████████████████████▏               | 17055/30454 [01:01<01:08, 195.17it/s]"
     ]
    },
    {
     "name": "stdout",
     "output_type": "stream",
     "text": [
      "inconclusive sequencing: 17021 {'name': 'site.06.iso.1.subject.SZH_0013-14.lab_id.06MIL0195.seq_reps.1'}\n"
     ]
    },
    {
     "name": "stderr",
     "output_type": "stream",
     "text": [
      " 56%|████████████████████▎               | 17148/30454 [01:01<01:01, 216.54it/s]"
     ]
    },
    {
     "name": "stdout",
     "output_type": "stream",
     "text": [
      "inconclusive sequencing: 17104 {'name': 'site.04.iso.1.subject.04120.lab_id.833088.seq_reps.1'}\n"
     ]
    },
    {
     "name": "stderr",
     "output_type": "stream",
     "text": [
      " 57%|████████████████████▎               | 17223/30454 [01:02<00:56, 233.49it/s]"
     ]
    },
    {
     "name": "stdout",
     "output_type": "stream",
     "text": [
      "inconclusive sequencing: 17186 {'name': 'site.04.iso.1.subject.03292.lab_id.824174.seq_reps.1'}\n",
      "inconclusive sequencing: 17187 {'name': 'site.04.iso.1.subject.04589.lab_id.904941.seq_reps.1'}\n"
     ]
    },
    {
     "name": "stderr",
     "output_type": "stream",
     "text": [
      " 57%|████████████████████▍               | 17271/30454 [01:02<01:04, 205.00it/s]"
     ]
    },
    {
     "name": "stdout",
     "output_type": "stream",
     "text": [
      "inconclusive sequencing: 17246 {'name': 'site.06.iso.1.subject.OIC-1206.lab_id.06MIL1099.seq_reps.1'}\n"
     ]
    },
    {
     "name": "stderr",
     "output_type": "stream",
     "text": [
      " 57%|████████████████████▌               | 17351/30454 [01:02<00:54, 238.65it/s]"
     ]
    },
    {
     "name": "stdout",
     "output_type": "stream",
     "text": [
      "inconclusive sequencing: 17296 {'name': 'site.04.iso.1.subject.05456.lab_id.913735.seq_reps.1'}\n",
      "inconclusive sequencing: 17302 {'name': 'site.08.iso.1.subject.02TB2324.lab_id.25790.seq_reps.1'}\n",
      "inconclusive sequencing: 17305 {'name': 'site.08.iso.1.subject.24TB-031.lab_id.2103.seq_reps.1'}\n",
      "inconclusive sequencing: 17306 {'name': 'site.04.iso.1.subject.00957.lab_id.717048.seq_reps.1'}\n",
      "inconclusive sequencing: 17308 {'name': 'site.04.iso.1.subject.00954.lab_id.714841.seq_reps.1'}\n",
      "inconclusive sequencing: 17312 {'name': 'site.05.iso.1.subject.CA-1399.lab_id.CO-01063-19.seq_reps.1'}\n",
      "inconclusive sequencing: 17316 {'name': 'site.05.iso.1.subject.CA-0206.lab_id.CO-09546-18.seq_reps.1'}\n",
      "inconclusive sequencing: 17318 {'name': 'site.05.iso.1.subject.CA-0149.lab_id.CO-07575-18.seq_reps.1'}\n",
      "inconclusive sequencing: 17319 {'name': 'site.05.iso.1.subject.LS-1093.lab_id.LS-10946-18.seq_reps.1'}\n",
      "inconclusive sequencing: 17322 {'name': 'site.05.iso.1.subject.LS-1414.lab_id.MA-00011-19.seq_reps.1'}\n",
      "inconclusive sequencing: 17324 {'name': 'site.05.iso.1.subject.LR-2330.lab_id.FN-01288-18.seq_reps.1'}\n",
      "inconclusive sequencing: 17326 {'name': 'site.11.iso.1.subject.MDR106.lab_id.SWE-82.seq_reps.1_2_3_4'}\n",
      "inconclusive sequencing: 17328 {'name': 'site.05.iso.1.subject.LR-2285.lab_id.FN-00492-18.seq_reps.1'}\n"
     ]
    },
    {
     "name": "stderr",
     "output_type": "stream",
     "text": [
      " 57%|████████████████████▌               | 17412/30454 [01:03<00:49, 264.62it/s]"
     ]
    },
    {
     "name": "stdout",
     "output_type": "stream",
     "text": [
      "inconclusive sequencing: 17374 {'name': 'site.05.iso.1.subject.PMOP-0540.lab_id.MOP-066.seq_reps.1'}\n"
     ]
    },
    {
     "name": "stderr",
     "output_type": "stream",
     "text": [
      " 58%|████████████████████▊               | 17575/30454 [01:03<00:49, 262.23it/s]"
     ]
    },
    {
     "name": "stdout",
     "output_type": "stream",
     "text": [
      "inconclusive sequencing: 17532 {'name': 'site.05.iso.1.subject.PSLM-0811.lab_id.SLM-071.seq_reps.1'}\n",
      "inconclusive sequencing: 17540 {'name': 'site.06.iso.1.subject.06TB_0596.lab_id.06MIL1450.seq_reps.1'}\n",
      "inconclusive sequencing: 17542 {'name': 'site.06.iso.1.subject.06TB_0994.lab_id.06MIL1989.seq_reps.1'}\n",
      "inconclusive sequencing: 17544 {'name': 'site.02.iso.1.subject.1082.lab_id.2014184064.seq_reps.2014184064'}\n",
      "inconclusive sequencing: 17546 {'name': 'site.02.iso.1.subject.0366.lab_id.222025-14.seq_reps.14222025'}\n",
      "inconclusive sequencing: 17548 {'name': 'site.10.iso.1.subject.YA00026185.lab_id.YA00026185.seq_reps.1'}\n"
     ]
    },
    {
     "name": "stderr",
     "output_type": "stream",
     "text": [
      " 58%|████████████████████▊               | 17657/30454 [01:04<00:50, 252.03it/s]"
     ]
    },
    {
     "name": "stdout",
     "output_type": "stream",
     "text": [
      "inconclusive sequencing: 17620 {'name': 'site.03.iso.1.subject.10963.lab_id.IML-00795.seq_reps.1'}\n",
      "inconclusive sequencing: 17636 {'name': 'site.10.iso.1.subject.YA00026188.lab_id.YA00026188.seq_reps.1'}\n"
     ]
    },
    {
     "name": "stderr",
     "output_type": "stream",
     "text": [
      " 58%|█████████████████████               | 17795/30454 [01:04<00:47, 269.08it/s]"
     ]
    },
    {
     "name": "stdout",
     "output_type": "stream",
     "text": [
      "inconclusive sequencing: 17753 {'name': 'site.02.iso.1.subject.0085.lab_id.22A036.seq_reps.36'}\n",
      "inconclusive sequencing: 17754 {'name': 'site.02.iso.1.subject.0964.lab_id.22A204.seq_reps.204'}\n"
     ]
    },
    {
     "name": "stderr",
     "output_type": "stream",
     "text": [
      " 59%|█████████████████████▏              | 17912/30454 [01:05<00:44, 282.38it/s]"
     ]
    },
    {
     "name": "stdout",
     "output_type": "stream",
     "text": [
      "inconclusive sequencing: 17867 {'name': 'site.04.iso.1.subject.05336.lab_id.912600.seq_reps.1'}\n",
      "inconclusive sequencing: 17868 {'name': 'site.04.iso.1.subject.03729.lab_id.JJH9315.seq_reps.1'}\n"
     ]
    },
    {
     "name": "stderr",
     "output_type": "stream",
     "text": [
      " 59%|█████████████████████▎              | 18011/30454 [01:05<00:40, 310.44it/s]"
     ]
    },
    {
     "name": "stdout",
     "output_type": "stream",
     "text": [
      "inconclusive sequencing: 17947 {'name': 'site.04.iso.1.subject.03757.lab_id.830589.seq_reps.1'}\n",
      "inconclusive sequencing: 17995 {'name': 'site.06.iso.1.subject.06TB_0989.lab_id.06MIL1984.seq_reps.1'}\n"
     ]
    },
    {
     "name": "stderr",
     "output_type": "stream",
     "text": [
      " 60%|█████████████████████▍              | 18177/30454 [01:05<00:39, 314.71it/s]"
     ]
    },
    {
     "name": "stdout",
     "output_type": "stream",
     "text": [
      "inconclusive sequencing: 18084 {'name': 'site.06.iso.1.subject.06TB_0947.lab_id.06MIL1942.seq_reps.1'}\n"
     ]
    },
    {
     "name": "stderr",
     "output_type": "stream",
     "text": [
      " 60%|█████████████████████▌              | 18245/30454 [01:06<00:37, 322.93it/s]"
     ]
    },
    {
     "name": "stdout",
     "output_type": "stream",
     "text": [
      "inconclusive sequencing: 18200 {'name': 'site.04.iso.1.subject.03176.lab_id.822101.seq_reps.1'}\n",
      "inconclusive sequencing: 18205 {'name': 'site.04.iso.1.subject.04635.lab_id.905112.seq_reps.1'}\n",
      "inconclusive sequencing: 18208 {'name': 'site.04.iso.1.subject.04539.lab_id.904470.seq_reps.1'}\n",
      "inconclusive sequencing: 18224 {'name': 'site.04.iso.1.subject.03750.lab_id.828912.seq_reps.1'}\n",
      "inconclusive sequencing: 18266 {'name': 'site.04.iso.1.subject.03512.lab_id.829895.seq_reps.1'}\n"
     ]
    },
    {
     "name": "stderr",
     "output_type": "stream",
     "text": [
      " 60%|█████████████████████▋              | 18345/30454 [01:06<00:39, 310.02it/s]"
     ]
    },
    {
     "name": "stdout",
     "output_type": "stream",
     "text": [
      "inconclusive sequencing: 18278 {'name': 'site.05.iso.1.subject.LS-1033.lab_id.MA-02068-18.seq_reps.1'}\n",
      "inconclusive sequencing: 18280 {'name': 'site.04.iso.1.subject.02796.lab_id.818659.seq_reps.1_2'}\n",
      "inconclusive sequencing: 18282 {'name': 'site.05.iso.1.subject.PSLM-0802.lab_id.SLM-061.seq_reps.1'}\n",
      "inconclusive sequencing: 18284 {'name': 'site.14.iso.1.subject.4411.lab_id.4411.seq_reps.1'}\n",
      "inconclusive sequencing: 18286 {'name': 'site.20.iso.1.subject.SCH8123945.lab_id.YA00134192.seq_reps.1'}\n"
     ]
    },
    {
     "name": "stderr",
     "output_type": "stream",
     "text": [
      " 61%|█████████████████████▉              | 18539/30454 [01:07<00:38, 307.11it/s]"
     ]
    },
    {
     "name": "stdout",
     "output_type": "stream",
     "text": [
      "inconclusive sequencing: 18494 {'name': 'site.05.iso.1.subject.LR-2419.lab_id.FN-00641-18.seq_reps.1'}\n"
     ]
    },
    {
     "name": "stderr",
     "output_type": "stream",
     "text": [
      " 62%|██████████████████████▏             | 18811/30454 [01:07<00:37, 311.74it/s]"
     ]
    },
    {
     "name": "stdout",
     "output_type": "stream",
     "text": [
      "inconclusive sequencing: 18752 {'name': 'site.05.iso.1.subject.PMK-0958.lab_id.MK-0889.seq_reps.1'}\n",
      "inconclusive sequencing: 18802 {'name': 'site.14.iso.1.subject.4198.lab_id.4198.seq_reps.1'}\n",
      "inconclusive sequencing: 18808 {'name': 'site.05.iso.1.subject.CA-1159.lab_id.CO-00141-19.seq_reps.1'}\n",
      "inconclusive sequencing: 18810 {'name': 'site.14.iso.1.subject.4341.lab_id.4341.seq_reps.1'}\n",
      "inconclusive sequencing: 18814 {'name': 'site.05.iso.1.subject.LS-1146.lab_id.MA-01447-19.seq_reps.1'}\n",
      "inconclusive sequencing: 18816 {'name': 'site.05.iso.1.subject.PMK-0926.lab_id.MK-0188.seq_reps.1'}\n"
     ]
    },
    {
     "name": "stderr",
     "output_type": "stream",
     "text": [
      " 62%|██████████████████████▍             | 19017/30454 [01:08<00:36, 310.31it/s]"
     ]
    },
    {
     "name": "stdout",
     "output_type": "stream",
     "text": [
      "inconclusive sequencing: 18980 {'name': 'site.05.iso.1.subject.LR-2153.lab_id.FN-00117-16.seq_reps.1'}\n",
      "inconclusive sequencing: 18994 {'name': 'site.05.iso.1.subject.CA-1366.lab_id.CO-02570-19.seq_reps.1'}\n",
      "inconclusive sequencing: 19029 {'name': 'site.04.iso.1.subject.03601.lab_id.821968.seq_reps.1'}\n"
     ]
    },
    {
     "name": "stderr",
     "output_type": "stream",
     "text": [
      " 63%|██████████████████████▊             | 19325/30454 [01:09<00:34, 318.78it/s]"
     ]
    },
    {
     "name": "stdout",
     "output_type": "stream",
     "text": [
      "inconclusive sequencing: 19260 {'name': 'site.05.iso.1.subject.CA-1364.lab_id.CO-02526-19.seq_reps.1'}\n",
      "inconclusive sequencing: 19262 {'name': 'site.05.iso.1.subject.LR-2189.lab_id.FN-01526-16.seq_reps.1'}\n",
      "inconclusive sequencing: 19264 {'name': 'site.05.iso.1.subject.LR-2322.lab_id.FN-01100-18.seq_reps.1'}\n",
      "inconclusive sequencing: 19266 {'name': 'site.05.iso.1.subject.CA-1323.lab_id.CO-01765-19.seq_reps.1'}\n"
     ]
    },
    {
     "name": "stderr",
     "output_type": "stream",
     "text": [
      " 64%|███████████████████████             | 19522/30454 [01:10<00:36, 297.38it/s]"
     ]
    },
    {
     "name": "stdout",
     "output_type": "stream",
     "text": [
      "inconclusive sequencing: 19488 {'name': 'site.05.iso.1.subject.PMOP-0644.lab_id.MOP-214.seq_reps.1'}\n",
      "inconclusive sequencing: 19538 {'name': 'site.06.iso.1.subject.A43826.lab_id.06MIL1288.seq_reps.1'}\n"
     ]
    },
    {
     "name": "stderr",
     "output_type": "stream",
     "text": [
      " 65%|███████████████████████▎            | 19743/30454 [01:10<00:37, 285.70it/s]"
     ]
    },
    {
     "name": "stdout",
     "output_type": "stream",
     "text": [
      "inconclusive sequencing: 19705 {'name': 'site.05.iso.1.subject.PMFR-0701.lab_id.MFR-134.seq_reps.1'}\n",
      "inconclusive sequencing: 19734 {'name': 'site.14.iso.1.subject.3753.lab_id.3753.seq_reps.1'}\n",
      "inconclusive sequencing: 19740 {'name': 'site.05.iso.1.subject.LR-2043.lab_id.FN-00557-15.seq_reps.1'}\n",
      "inconclusive sequencing: 19746 {'name': 'site.05.iso.1.subject.LS-0561.lab_id.LS-09620-18.seq_reps.1'}\n",
      "inconclusive sequencing: 19748 {'name': 'site.05.iso.1.subject.CA-1427.lab_id.CO-02136-19.seq_reps.1'}\n",
      "inconclusive sequencing: 19753 {'name': 'site.05.iso.1.subject.LR-2034.lab_id.FN-00458-15.seq_reps.1'}\n",
      "inconclusive sequencing: 19760 {'name': 'site.05.iso.1.subject.LR-2082.lab_id.FN-01188-15.seq_reps.1'}\n"
     ]
    },
    {
     "name": "stderr",
     "output_type": "stream",
     "text": [
      " 65%|███████████████████████▍            | 19842/30454 [01:11<00:36, 288.33it/s]"
     ]
    },
    {
     "name": "stdout",
     "output_type": "stream",
     "text": [
      "inconclusive sequencing: 19784 {'name': 'site.05.iso.1.subject.PSLM-0816.lab_id.SLM-077.seq_reps.1'}\n"
     ]
    },
    {
     "name": "stderr",
     "output_type": "stream",
     "text": [
      " 66%|███████████████████████▋            | 20007/30454 [01:12<00:46, 226.26it/s]"
     ]
    },
    {
     "name": "stdout",
     "output_type": "stream",
     "text": [
      "inconclusive sequencing: 19970 {'name': 'site.05.iso.1.subject.CA-1477.lab_id.CO-03485-19.seq_reps.1'}\n"
     ]
    },
    {
     "name": "stderr",
     "output_type": "stream",
     "text": [
      " 66%|███████████████████████▉            | 20217/30454 [01:13<00:52, 194.79it/s]"
     ]
    },
    {
     "name": "stdout",
     "output_type": "stream",
     "text": [
      "inconclusive sequencing: 20180 {'name': 'site.05.iso.1.subject.CA-1426.lab_id.CO-02041-19.seq_reps.1'}\n",
      "inconclusive sequencing: 20200 {'name': 'site.05.iso.1.subject.PSLM-0842.lab_id.SLM-111.seq_reps.1'}\n"
     ]
    },
    {
     "name": "stderr",
     "output_type": "stream",
     "text": [
      " 67%|███████████████████████▉            | 20256/30454 [01:13<00:56, 180.30it/s]"
     ]
    },
    {
     "name": "stdout",
     "output_type": "stream",
     "text": [
      "inconclusive sequencing: 20226 {'name': 'site.05.iso.1.subject.LR-2053.lab_id.FN-00668-15.seq_reps.1'}\n",
      "inconclusive sequencing: 20250 {'name': 'site.05.iso.1.subject.PSLM-0815.lab_id.SLM-076.seq_reps.1'}\n"
     ]
    },
    {
     "name": "stderr",
     "output_type": "stream",
     "text": [
      " 67%|███████████████████████▉            | 20293/30454 [01:13<01:07, 151.10it/s]"
     ]
    },
    {
     "name": "stdout",
     "output_type": "stream",
     "text": [
      "inconclusive sequencing: 20260 {'name': 'site.05.iso.1.subject.LR-2023.lab_id.FN-00302-15.seq_reps.1'}\n"
     ]
    },
    {
     "name": "stderr",
     "output_type": "stream",
     "text": [
      " 67%|████████████████████████▏           | 20413/30454 [01:14<00:55, 180.16it/s]"
     ]
    },
    {
     "name": "stdout",
     "output_type": "stream",
     "text": [
      "inconclusive sequencing: 20388 {'name': 'site.05.iso.1.subject.LS-1079.lab_id.MA-02897-18.seq_reps.1'}\n"
     ]
    },
    {
     "name": "stderr",
     "output_type": "stream",
     "text": [
      " 67%|████████████████████████▎           | 20537/30454 [01:14<00:44, 221.69it/s]"
     ]
    },
    {
     "name": "stdout",
     "output_type": "stream",
     "text": [
      "inconclusive sequencing: 20502 {'name': 'site.05.iso.1.subject.LS-1434.lab_id.SJ-01039-19.seq_reps.1'}\n",
      "inconclusive sequencing: 20504 {'name': 'site.05.iso.1.subject.LR-2202.lab_id.FN-02211-16.seq_reps.1'}\n"
     ]
    },
    {
     "name": "stderr",
     "output_type": "stream",
     "text": [
      " 68%|████████████████████████▍           | 20621/30454 [01:15<00:38, 258.05it/s]"
     ]
    },
    {
     "name": "stdout",
     "output_type": "stream",
     "text": [
      "inconclusive sequencing: 20565 {'name': 'site.05.iso.1.subject.CA-1192.lab_id.CO-00829-19.seq_reps.1'}\n"
     ]
    },
    {
     "name": "stderr",
     "output_type": "stream",
     "text": [
      " 68%|████████████████████████▌           | 20798/30454 [01:15<00:34, 282.26it/s]"
     ]
    },
    {
     "name": "stdout",
     "output_type": "stream",
     "text": [
      "inconclusive sequencing: 20754 {'name': 'site.14.iso.1.subject.3797.lab_id.3797.seq_reps.1'}\n"
     ]
    },
    {
     "name": "stderr",
     "output_type": "stream",
     "text": [
      " 69%|████████████████████████▋           | 20922/30454 [01:16<00:31, 302.41it/s]"
     ]
    },
    {
     "name": "stdout",
     "output_type": "stream",
     "text": [
      "inconclusive sequencing: 20870 {'name': 'site.05.iso.1.subject.CA-0200.lab_id.CO-09078-18.seq_reps.1'}\n"
     ]
    },
    {
     "name": "stderr",
     "output_type": "stream",
     "text": [
      " 69%|████████████████████████▉           | 21110/30454 [01:16<00:30, 309.32it/s]"
     ]
    },
    {
     "name": "stdout",
     "output_type": "stream",
     "text": [
      "inconclusive sequencing: 21076 {'name': 'site.14.iso.1.subject.4401.lab_id.4401.seq_reps.1'}\n"
     ]
    },
    {
     "name": "stderr",
     "output_type": "stream",
     "text": [
      " 70%|█████████████████████████           | 21239/30454 [01:17<00:31, 290.01it/s]"
     ]
    },
    {
     "name": "stdout",
     "output_type": "stream",
     "text": [
      "inconclusive sequencing: 21179 {'name': 'site.06.iso.1.subject.A43917.lab_id.06MIL1817.seq_reps.1'}\n",
      "inconclusive sequencing: 21198 {'name': 'site.04.iso.1.subject.04203.lab_id.901529.seq_reps.1'}\n",
      "inconclusive sequencing: 21201 {'name': 'site.04.iso.1.subject.05591.lab_id.917510.seq_reps.1'}\n",
      "inconclusive sequencing: 21204 {'name': 'site.05.iso.1.subject.LR-2388.lab_id.FN-00704-18.seq_reps.1'}\n",
      "inconclusive sequencing: 21208 {'name': 'site.05.iso.1.subject.LR-2174.lab_id.FN-00526-16.seq_reps.1'}\n",
      "inconclusive sequencing: 21232 {'name': 'site.05.iso.1.subject.LR-2046.lab_id.FN-00592-15.seq_reps.1'}\n"
     ]
    },
    {
     "name": "stderr",
     "output_type": "stream",
     "text": [
      " 71%|█████████████████████████▌          | 21627/30454 [01:18<00:34, 257.51it/s]"
     ]
    },
    {
     "name": "stdout",
     "output_type": "stream",
     "text": [
      "inconclusive sequencing: 21578 {'name': 'site.04.iso.1.subject.03205.lab_id.824233.seq_reps.1'}\n",
      "inconclusive sequencing: 21582 {'name': 'site.04.iso.1.subject.03830.lab_id.827812.seq_reps.1'}\n",
      "inconclusive sequencing: 21586 {'name': 'site.04.iso.1.subject.03174.lab_id.824301.seq_reps.1'}\n",
      "inconclusive sequencing: 21588 {'name': 'site.04.iso.1.subject.03519.lab_id.912126.seq_reps.1'}\n",
      "inconclusive sequencing: 21589 {'name': 'site.04.iso.1.subject.05038.lab_id.910168.seq_reps.1'}\n"
     ]
    },
    {
     "name": "stderr",
     "output_type": "stream",
     "text": [
      " 71%|█████████████████████████▋          | 21740/30454 [01:19<00:33, 263.71it/s]"
     ]
    },
    {
     "name": "stdout",
     "output_type": "stream",
     "text": [
      "inconclusive sequencing: 21685 {'name': 'site.06.iso.1.subject.ATH_0086-14.lab_id.06MIL0300.seq_reps.1'}\n"
     ]
    },
    {
     "name": "stderr",
     "output_type": "stream",
     "text": [
      " 72%|█████████████████████████▊          | 21887/30454 [01:19<00:31, 272.38it/s]"
     ]
    },
    {
     "name": "stdout",
     "output_type": "stream",
     "text": [
      "inconclusive sequencing: 21846 {'name': 'site.10.iso.1.subject.HG06854962.lab_id.HG06854962.seq_reps.1'}\n",
      "inconclusive sequencing: 21882 {'name': 'site.10.iso.1.subject.YA00014035.lab_id.YA00014035.seq_reps.1'}\n"
     ]
    },
    {
     "name": "stderr",
     "output_type": "stream",
     "text": [
      " 73%|██████████████████████████          | 22091/30454 [01:20<00:30, 272.88it/s]"
     ]
    },
    {
     "name": "stdout",
     "output_type": "stream",
     "text": [
      "inconclusive sequencing: 22056 {'name': 'site.06.iso.1.subject.06TB_0846.lab_id.06MIL1793.seq_reps.1'}\n"
     ]
    },
    {
     "name": "stderr",
     "output_type": "stream",
     "text": [
      " 73%|██████████████████████████▏         | 22189/30454 [01:20<00:26, 308.16it/s]"
     ]
    },
    {
     "name": "stdout",
     "output_type": "stream",
     "text": [
      "inconclusive sequencing: 22128 {'name': 'site.14.iso.1.subject.4197.lab_id.4197.seq_reps.1'}\n",
      "inconclusive sequencing: 22130 {'name': 'site.05.iso.1.subject.PTAN-0030.lab_id.TAN-096.seq_reps.1'}\n",
      "inconclusive sequencing: 22132 {'name': 'site.05.iso.1.subject.PTAN-0045.lab_id.TAN-139.seq_reps.1'}\n",
      "inconclusive sequencing: 22136 {'name': 'site.05.iso.1.subject.LR-2257.lab_id.FN-00609-17.seq_reps.1'}\n",
      "inconclusive sequencing: 22140 {'name': 'site.03.iso.1.subject.10278.lab_id.IML-00837.seq_reps.1'}\n",
      "inconclusive sequencing: 22144 {'name': 'site.05.iso.1.subject.LS-0996.lab_id.MA-02939-18.seq_reps.1'}\n",
      "inconclusive sequencing: 22148 {'name': 'site.05.iso.1.subject.LR-2040.lab_id.FN-00527-15.seq_reps.1'}\n",
      "inconclusive sequencing: 22149 {'name': 'site.05.iso.1.subject.LR-2126.lab_id.FN-01856-15.seq_reps.1'}\n",
      "inconclusive sequencing: 22150 {'name': 'site.05.iso.1.subject.LR-2049.lab_id.FN-00619-15.seq_reps.1'}\n",
      "inconclusive sequencing: 22152 {'name': 'site.05.iso.1.subject.LR-2041.lab_id.FN-00534-15.seq_reps.1'}\n",
      "inconclusive sequencing: 22154 {'name': 'site.05.iso.1.subject.LR-2382.lab_id.FN-02295-16.seq_reps.1'}\n",
      "inconclusive sequencing: 22156 {'name': 'site.05.iso.1.subject.LR-2084.lab_id.FN-01208-15.seq_reps.1'}\n",
      "inconclusive sequencing: 22158 {'name': 'site.05.iso.1.subject.LR-2313.lab_id.FN-00787-18.seq_reps.1'}\n",
      "inconclusive sequencing: 22160 {'name': 'site.05.iso.1.subject.PSRO-0908.lab_id.SRO-589.seq_reps.1'}\n",
      "inconclusive sequencing: 22162 {'name': 'site.05.iso.1.subject.LR-2042.lab_id.FN-00541-15.seq_reps.1'}\n",
      "inconclusive sequencing: 22164 {'name': 'site.05.iso.1.subject.LR-2006.lab_id.FN-00141-15.seq_reps.1'}\n"
     ]
    },
    {
     "name": "stderr",
     "output_type": "stream",
     "text": [
      " 73%|██████████████████████████▎         | 22282/30454 [01:20<00:27, 297.50it/s]"
     ]
    },
    {
     "name": "stdout",
     "output_type": "stream",
     "text": [
      "inconclusive sequencing: 22226 {'name': 'site.05.iso.1.subject.LR-2354.lab_id.FN-00598-16.seq_reps.1'}\n"
     ]
    },
    {
     "name": "stderr",
     "output_type": "stream",
     "text": [
      " 74%|██████████████████████████▌         | 22469/30454 [01:21<00:26, 298.44it/s]"
     ]
    },
    {
     "name": "stdout",
     "output_type": "stream",
     "text": [
      "inconclusive sequencing: 22380 {'name': 'site.05.iso.1.subject.LR-2255.lab_id.FN-00544-17.seq_reps.1'}\n"
     ]
    },
    {
     "name": "stderr",
     "output_type": "stream",
     "text": [
      " 74%|██████████████████████████▋         | 22532/30454 [01:21<00:26, 301.31it/s]"
     ]
    },
    {
     "name": "stdout",
     "output_type": "stream",
     "text": [
      "inconclusive sequencing: 22492 {'name': 'site.05.iso.1.subject.LR-2352.lab_id.FN-00479-16.seq_reps.1'}\n"
     ]
    },
    {
     "name": "stderr",
     "output_type": "stream",
     "text": [
      " 74%|██████████████████████████▊         | 22661/30454 [01:22<00:25, 305.40it/s]"
     ]
    },
    {
     "name": "stdout",
     "output_type": "stream",
     "text": [
      "inconclusive sequencing: 22604 {'name': 'site.05.iso.1.subject.PMK-0984.lab_id.MK-1285.seq_reps.1'}\n"
     ]
    },
    {
     "name": "stderr",
     "output_type": "stream",
     "text": [
      " 75%|██████████████████████████▉         | 22758/30454 [01:22<00:24, 311.64it/s]"
     ]
    },
    {
     "name": "stdout",
     "output_type": "stream",
     "text": [
      "inconclusive sequencing: 22700 {'name': 'site.14.iso.1.subject.4277.lab_id.4277.seq_reps.1'}\n",
      "inconclusive sequencing: 22706 {'name': 'site.04.iso.1.subject.03403.lab_id.823488.seq_reps.1'}\n",
      "inconclusive sequencing: 22731 {'name': 'site.08.iso.1.subject.02TB2016.lab_id.24551.seq_reps.1'}\n",
      "inconclusive sequencing: 22757 {'name': 'site.04.iso.1.subject.03811.lab_id.828657.seq_reps.1'}\n"
     ]
    },
    {
     "name": "stderr",
     "output_type": "stream",
     "text": [
      " 76%|███████████████████████████▍        | 23159/30454 [01:23<00:23, 315.33it/s]"
     ]
    },
    {
     "name": "stdout",
     "output_type": "stream",
     "text": [
      "inconclusive sequencing: 23094 {'name': 'site.10.iso.1.subject.KD01935501.lab_id.KD01935501.seq_reps.1'}\n",
      "inconclusive sequencing: 23096 {'name': 'site.10.iso.1.subject.YA00125839.lab_id.YA00125839.seq_reps.1'}\n"
     ]
    },
    {
     "name": "stderr",
     "output_type": "stream",
     "text": [
      " 77%|███████████████████████████▊        | 23524/30454 [01:25<00:24, 283.63it/s]"
     ]
    },
    {
     "name": "stdout",
     "output_type": "stream",
     "text": [
      "inconclusive sequencing: 23471 {'name': 'site.06.iso.1.subject.NM-17-027.lab_id.06MIL0833.seq_reps.1'}\n"
     ]
    },
    {
     "name": "stderr",
     "output_type": "stream",
     "text": [
      " 78%|███████████████████████████▉        | 23640/30454 [01:25<00:25, 267.38it/s]"
     ]
    },
    {
     "name": "stdout",
     "output_type": "stream",
     "text": [
      "inconclusive sequencing: 23609 {'name': 'site.06.iso.1.subject.N1744.lab_id.06MIL1483.seq_reps.1'}\n",
      "inconclusive sequencing: 23620 {'name': 'site.06.iso.1.subject.06TB_0854.lab_id.06MIL1802.seq_reps.1'}\n",
      "inconclusive sequencing: 23624 {'name': 'site.06.iso.1.subject.N524.lab_id.06MIL1582.seq_reps.1'}\n",
      "inconclusive sequencing: 23645 {'name': 'site.06.iso.1.subject.NM-17-077.lab_id.06MIL0846.seq_reps.1'}\n"
     ]
    },
    {
     "name": "stderr",
     "output_type": "stream",
     "text": [
      " 78%|████████████████████████████        | 23781/30454 [01:26<00:24, 275.70it/s]"
     ]
    },
    {
     "name": "stdout",
     "output_type": "stream",
     "text": [
      "inconclusive sequencing: 23732 {'name': 'site.06.iso.1.subject.N679.lab_id.06MIL1554.seq_reps.1'}\n",
      "inconclusive sequencing: 23752 {'name': 'site.02.iso.1.subject.0666.lab_id.235178-15.seq_reps.15235178'}\n",
      "inconclusive sequencing: 23754 {'name': 'site.02.iso.1.subject.1167.lab_id.2013185497.seq_reps.2013185497'}\n"
     ]
    },
    {
     "name": "stderr",
     "output_type": "stream",
     "text": [
      " 79%|████████████████████████████▍       | 24023/30454 [01:27<00:31, 202.69it/s]"
     ]
    },
    {
     "name": "stdout",
     "output_type": "stream",
     "text": [
      "inconclusive sequencing: 24000 {'name': 'site.02.iso.1.subject.0533.lab_id.242321-14.seq_reps.14242321'}\n"
     ]
    },
    {
     "name": "stderr",
     "output_type": "stream",
     "text": [
      " 79%|████████████████████████████▌       | 24133/30454 [01:27<00:30, 204.26it/s]"
     ]
    },
    {
     "name": "stdout",
     "output_type": "stream",
     "text": [
      "inconclusive sequencing: 24090 {'name': 'site.08.iso.1.subject.02TB1100.lab_id.20956.seq_reps.1'}\n"
     ]
    },
    {
     "name": "stderr",
     "output_type": "stream",
     "text": [
      " 79%|████████████████████████████▌       | 24187/30454 [01:27<00:27, 231.25it/s]"
     ]
    },
    {
     "name": "stdout",
     "output_type": "stream",
     "text": [
      "inconclusive sequencing: 24155 {'name': 'site.02.iso.1.subject.1049.lab_id.2013185124.seq_reps.2013185124'}\n",
      "inconclusive sequencing: 24184 {'name': 'site.02.iso.1.subject.0925.lab_id.22A160.seq_reps.160'}\n"
     ]
    },
    {
     "name": "stderr",
     "output_type": "stream",
     "text": [
      " 80%|████████████████████████████▊       | 24345/30454 [01:28<00:24, 247.48it/s]"
     ]
    },
    {
     "name": "stdout",
     "output_type": "stream",
     "text": [
      "inconclusive sequencing: 24298 {'name': 'site.08.iso.1.subject.24TB00-060.lab_id.2395.seq_reps.1'}\n",
      "inconclusive sequencing: 24303 {'name': 'site.08.iso.1.subject.24TB00-060.lab_id.2442.seq_reps.1'}\n",
      "inconclusive sequencing: 24319 {'name': 'site.02.iso.1.subject.0703.lab_id.2014242256.seq_reps.14242256'}\n"
     ]
    },
    {
     "name": "stderr",
     "output_type": "stream",
     "text": [
      " 80%|████████████████████████████▉       | 24454/30454 [01:29<00:23, 253.67it/s]"
     ]
    },
    {
     "name": "stdout",
     "output_type": "stream",
     "text": [
      "inconclusive sequencing: 24418 {'name': 'site.02.iso.1.subject.0186.lab_id.2013222215.seq_reps.2013222215'}\n"
     ]
    },
    {
     "name": "stderr",
     "output_type": "stream",
     "text": [
      " 81%|█████████████████████████████▏      | 24726/30454 [01:29<00:19, 300.79it/s]"
     ]
    },
    {
     "name": "stdout",
     "output_type": "stream",
     "text": [
      "inconclusive sequencing: 24670 {'name': 'site.04.iso.1.subject.04581.lab_id.901852.seq_reps.1'}\n",
      "inconclusive sequencing: 24744 {'name': 'site.04.iso.1.subject.03622.lab_id.830059.seq_reps.1'}\n"
     ]
    },
    {
     "name": "stderr",
     "output_type": "stream",
     "text": [
      " 82%|█████████████████████████████▍      | 24886/30454 [01:30<00:19, 291.27it/s]"
     ]
    },
    {
     "name": "stdout",
     "output_type": "stream",
     "text": [
      "inconclusive sequencing: 24845 {'name': 'site.06.iso.1.subject.06TB_0215.lab_id.06MIL0676.seq_reps.1'}\n"
     ]
    },
    {
     "name": "stderr",
     "output_type": "stream",
     "text": [
      " 83%|█████████████████████████████▋      | 25136/30454 [01:31<00:17, 295.76it/s]"
     ]
    },
    {
     "name": "stdout",
     "output_type": "stream",
     "text": [
      "inconclusive sequencing: 25105 {'name': 'site.06.iso.1.subject.SSM_0134-14.lab_id.06MIL0206.seq_reps.1'}\n"
     ]
    },
    {
     "name": "stderr",
     "output_type": "stream",
     "text": [
      " 83%|█████████████████████████████▊      | 25222/30454 [01:31<00:20, 258.32it/s]"
     ]
    },
    {
     "name": "stdout",
     "output_type": "stream",
     "text": [
      "inconclusive sequencing: 25183 {'name': 'site.10.iso.1.subject.YA00036589.lab_id.YA00036589.seq_reps.1'}\n",
      "inconclusive sequencing: 25234 {'name': 'site.05.iso.1.subject.LR-2408.lab_id.FN-00931-17.seq_reps.1'}\n"
     ]
    },
    {
     "name": "stderr",
     "output_type": "stream",
     "text": [
      " 83%|█████████████████████████████▉      | 25362/30454 [01:32<00:19, 259.35it/s]"
     ]
    },
    {
     "name": "stdout",
     "output_type": "stream",
     "text": [
      "inconclusive sequencing: 25332 {'name': 'site.04.iso.1.subject.03536.lab_id.827489.seq_reps.1'}\n",
      "inconclusive sequencing: 25374 {'name': 'site.04.iso.1.subject.05329.lab_id.911208.seq_reps.1'}\n",
      "inconclusive sequencing: 25382 {'name': 'site.04.iso.1.subject.03468.lab_id.827200.seq_reps.1'}\n"
     ]
    },
    {
     "name": "stderr",
     "output_type": "stream",
     "text": [
      " 84%|██████████████████████████████▏     | 25489/30454 [01:32<00:17, 290.96it/s]"
     ]
    },
    {
     "name": "stdout",
     "output_type": "stream",
     "text": [
      "inconclusive sequencing: 25408 {'name': 'site.04.iso.1.subject.03509.lab_id.828917.seq_reps.1'}\n",
      "inconclusive sequencing: 25421 {'name': 'site.04.iso.1.subject.04093.lab_id.830108.seq_reps.1'}\n",
      "inconclusive sequencing: 25477 {'name': 'site.06.iso.1.subject.06TB_1519.lab_id.06MIL2798.seq_reps.1'}\n"
     ]
    },
    {
     "name": "stderr",
     "output_type": "stream",
     "text": [
      " 84%|██████████████████████████████▏     | 25555/30454 [01:32<00:16, 300.33it/s]"
     ]
    },
    {
     "name": "stdout",
     "output_type": "stream",
     "text": [
      "inconclusive sequencing: 25498 {'name': 'site.04.iso.1.subject.03531.lab_id.825618.seq_reps.1'}\n"
     ]
    },
    {
     "name": "stderr",
     "output_type": "stream",
     "text": [
      " 84%|██████████████████████████████▎     | 25649/30454 [01:33<00:16, 292.19it/s]"
     ]
    },
    {
     "name": "stdout",
     "output_type": "stream",
     "text": [
      "inconclusive sequencing: 25603 {'name': 'site.05.iso.1.subject.PMK-0921.lab_id.MK-0024.seq_reps.1'}\n"
     ]
    },
    {
     "name": "stderr",
     "output_type": "stream",
     "text": [
      " 85%|██████████████████████████████▋     | 25927/30454 [01:34<00:15, 298.65it/s]"
     ]
    },
    {
     "name": "stdout",
     "output_type": "stream",
     "text": [
      "inconclusive sequencing: 25842 {'name': 'site.06.iso.1.subject.06TB_0026.lab_id.06MIL0487.seq_reps.1'}\n",
      "inconclusive sequencing: 25857 {'name': 'site.06.iso.1.subject.06TB_0094.lab_id.06MIL0555.seq_reps.1'}\n"
     ]
    },
    {
     "name": "stderr",
     "output_type": "stream",
     "text": [
      " 86%|██████████████████████████████▉     | 26180/30454 [01:35<00:13, 309.06it/s]"
     ]
    },
    {
     "name": "stdout",
     "output_type": "stream",
     "text": [
      "inconclusive sequencing: 26140 {'name': 'site.10.iso.1.subject.YA00043356.lab_id.YA00043356.seq_reps.1'}\n"
     ]
    },
    {
     "name": "stderr",
     "output_type": "stream",
     "text": [
      " 86%|███████████████████████████████     | 26315/30454 [01:35<00:12, 320.36it/s]"
     ]
    },
    {
     "name": "stdout",
     "output_type": "stream",
     "text": [
      "inconclusive sequencing: 26228 {'name': 'site.04.iso.1.subject.04392.lab_id.902356.seq_reps.1'}\n",
      "inconclusive sequencing: 26235 {'name': 'site.04.iso.1.subject.03607.lab_id.830102.seq_reps.1'}\n"
     ]
    },
    {
     "name": "stderr",
     "output_type": "stream",
     "text": [
      " 87%|███████████████████████████████▎    | 26483/30454 [01:35<00:12, 327.89it/s]"
     ]
    },
    {
     "name": "stdout",
     "output_type": "stream",
     "text": [
      "inconclusive sequencing: 26334 {'name': 'site.10.iso.1.subject.YA00029563.lab_id.YA00029563.seq_reps.1'}\n",
      "inconclusive sequencing: 26437 {'name': 'site.04.iso.1.subject.04073.lab_id.830328.seq_reps.1'}\n",
      "inconclusive sequencing: 26448 {'name': 'site.04.iso.1.subject.04483.lab_id.905492.seq_reps.1'}\n",
      "inconclusive sequencing: 26478 {'name': 'site.04.iso.1.subject.03658.lab_id.JJH9636.seq_reps.1'}\n",
      "inconclusive sequencing: 26496 {'name': 'site.04.iso.1.subject.01110.lab_id.719927.seq_reps.1'}\n",
      "inconclusive sequencing: 26497 {'name': 'site.04.iso.1.subject.03981.lab_id.900045.seq_reps.1'}\n"
     ]
    },
    {
     "name": "stderr",
     "output_type": "stream",
     "text": [
      " 87%|███████████████████████████████▍    | 26628/30454 [01:36<00:11, 345.38it/s]"
     ]
    },
    {
     "name": "stdout",
     "output_type": "stream",
     "text": [
      "inconclusive sequencing: 26546 {'name': 'site.14.iso.1.subject.4219.lab_id.4219.seq_reps.1'}\n",
      "inconclusive sequencing: 26550 {'name': 'site.05.iso.1.subject.LS-0594.lab_id.LS-09084-18.seq_reps.1'}\n",
      "inconclusive sequencing: 26552 {'name': 'site.05.iso.1.subject.PSLM-0831.lab_id.SLM-095.seq_reps.1'}\n",
      "inconclusive sequencing: 26554 {'name': 'site.05.iso.1.subject.PMFR-0719.lab_id.MFR-181.seq_reps.1'}\n",
      "inconclusive sequencing: 26564 {'name': 'site.05.iso.1.subject.LR-2271.lab_id.FN-01151-17.seq_reps.1'}\n",
      "inconclusive sequencing: 26565 {'name': 'site.05.iso.1.subject.LR-2385.lab_id.FN-00460-17.seq_reps.1'}\n",
      "inconclusive sequencing: 26568 {'name': 'site.05.iso.1.subject.LR-2039.lab_id.FN-00515-15.seq_reps.1'}\n",
      "inconclusive sequencing: 26604 {'name': 'site.05.iso.1.subject.PTAN-0241.lab_id.TAN-604.seq_reps.1'}\n",
      "inconclusive sequencing: 26651 {'name': 'site.04.iso.1.subject.03465.lab_id.826457.seq_reps.1'}\n"
     ]
    },
    {
     "name": "stderr",
     "output_type": "stream",
     "text": [
      " 88%|███████████████████████████████▌    | 26698/30454 [01:36<00:11, 327.71it/s]"
     ]
    },
    {
     "name": "stdout",
     "output_type": "stream",
     "text": [
      "inconclusive sequencing: 26655 {'name': 'site.04.iso.1.subject.04322.lab_id.901387.seq_reps.1'}\n"
     ]
    },
    {
     "name": "stderr",
     "output_type": "stream",
     "text": [
      " 88%|███████████████████████████████▊    | 26931/30454 [01:37<00:11, 315.85it/s]"
     ]
    },
    {
     "name": "stdout",
     "output_type": "stream",
     "text": [
      "inconclusive sequencing: 26860 {'name': 'site.14.iso.1.subject.2050.lab_id.2050.seq_reps.1'}\n",
      "inconclusive sequencing: 26890 {'name': 'site.10.iso.1.subject.YA00046931.lab_id.YA00046931.seq_reps.1'}\n"
     ]
    },
    {
     "name": "stderr",
     "output_type": "stream",
     "text": [
      " 89%|████████████████████████████████    | 27137/30454 [01:38<00:10, 308.33it/s]"
     ]
    },
    {
     "name": "stdout",
     "output_type": "stream",
     "text": [
      "inconclusive sequencing: 27076 {'name': 'site.05.iso.1.subject.LR-2048.lab_id.FN-00618-15.seq_reps.1'}\n",
      "inconclusive sequencing: 27084 {'name': 'site.05.iso.1.subject.LR-2328.lab_id.FN-01229-18.seq_reps.1'}\n",
      "inconclusive sequencing: 27090 {'name': 'site.05.iso.1.subject.LR-2445.lab_id.FN-00278-17.seq_reps.1'}\n"
     ]
    },
    {
     "name": "stderr",
     "output_type": "stream",
     "text": [
      " 89%|████████████████████████████████▏   | 27239/30454 [01:38<00:10, 306.00it/s]"
     ]
    },
    {
     "name": "stdout",
     "output_type": "stream",
     "text": [
      "inconclusive sequencing: 27195 {'name': 'site.05.iso.1.subject.PSLM-0777.lab_id.SLM-032.seq_reps.1'}\n"
     ]
    },
    {
     "name": "stderr",
     "output_type": "stream",
     "text": [
      " 90%|████████████████████████████████▍   | 27462/30454 [01:39<00:09, 303.80it/s]"
     ]
    },
    {
     "name": "stdout",
     "output_type": "stream",
     "text": [
      "inconclusive sequencing: 27391 {'name': 'site.10.iso.1.subject.YA00023153.lab_id.YA00023153.seq_reps.1'}\n"
     ]
    },
    {
     "name": "stderr",
     "output_type": "stream",
     "text": [
      " 91%|████████████████████████████████▋   | 27617/30454 [01:39<00:09, 290.54it/s]"
     ]
    },
    {
     "name": "stdout",
     "output_type": "stream",
     "text": [
      "inconclusive sequencing: 27582 {'name': 'site.06.iso.1.subject.06TB_1458.lab_id.06MIL2737.seq_reps.1'}\n",
      "inconclusive sequencing: 27584 {'name': 'site.06.iso.1.subject.06TB_0121.lab_id.06MIL0582.seq_reps.1'}\n",
      "inconclusive sequencing: 27594 {'name': 'site.05.iso.1.subject.LS-1646.lab_id.LS-01716-19.seq_reps.1'}\n",
      "inconclusive sequencing: 27640 {'name': 'site.05.iso.1.subject.LS-1438.lab_id.SJ-01362-19.seq_reps.1'}\n"
     ]
    },
    {
     "name": "stderr",
     "output_type": "stream",
     "text": [
      " 92%|████████████████████████████████▉   | 27907/30454 [01:40<00:08, 305.34it/s]"
     ]
    },
    {
     "name": "stdout",
     "output_type": "stream",
     "text": [
      "inconclusive sequencing: 27853 {'name': 'site.05.iso.1.subject.LR-2410.lab_id.FN-00332-17.seq_reps.1'}\n"
     ]
    },
    {
     "name": "stderr",
     "output_type": "stream",
     "text": [
      " 92%|█████████████████████████████████▏  | 28103/30454 [01:41<00:07, 305.95it/s]"
     ]
    },
    {
     "name": "stdout",
     "output_type": "stream",
     "text": [
      "inconclusive sequencing: 28046 {'name': 'site.05.iso.1.subject.LR-2030.lab_id.FN-00391-15.seq_reps.1'}\n",
      "inconclusive sequencing: 28050 {'name': 'site.05.iso.1.subject.LR-2059.lab_id.FN-00766-15.seq_reps.1'}\n"
     ]
    },
    {
     "name": "stderr",
     "output_type": "stream",
     "text": [
      " 93%|█████████████████████████████████▍  | 28266/30454 [01:41<00:06, 313.98it/s]"
     ]
    },
    {
     "name": "stdout",
     "output_type": "stream",
     "text": [
      "inconclusive sequencing: 28178 {'name': 'site.10.iso.1.subject.YA00026034.lab_id.YA00026034.seq_reps.1'}\n",
      "inconclusive sequencing: 28196 {'name': 'site.10.iso.1.subject.YA00161028.lab_id.YA00161028.seq_reps.1'}\n",
      "inconclusive sequencing: 28224 {'name': 'site.10.iso.1.subject.TD02715638.lab_id.TD02715638.seq_reps.1'}\n"
     ]
    },
    {
     "name": "stderr",
     "output_type": "stream",
     "text": [
      " 94%|█████████████████████████████████▊  | 28575/30454 [01:42<00:05, 331.45it/s]"
     ]
    },
    {
     "name": "stdout",
     "output_type": "stream",
     "text": [
      "inconclusive sequencing: 28486 {'name': 'site.10.iso.1.subject.YA00013555.lab_id.YA00013555.seq_reps.1'}\n"
     ]
    },
    {
     "name": "stderr",
     "output_type": "stream",
     "text": [
      " 94%|█████████████████████████████████▊  | 28642/30454 [01:42<00:05, 309.74it/s]"
     ]
    },
    {
     "name": "stdout",
     "output_type": "stream",
     "text": [
      "inconclusive sequencing: 28580 {'name': 'site.10.iso.1.subject.YA00011214.lab_id.YA00011214.seq_reps.1'}\n",
      "inconclusive sequencing: 28641 {'name': 'site.10.iso.1.subject.YA00020543.lab_id.YA00020543.seq_reps.1'}\n",
      "inconclusive sequencing: 28642 {'name': 'site.20.iso.1.subject.SA00390429.lab_id.YA00135269.seq_reps.1'}\n",
      "inconclusive sequencing: 28665 {'name': 'site.05.iso.1.subject.PTAN-0335.lab_id.TAN-329.seq_reps.1'}\n"
     ]
    },
    {
     "name": "stderr",
     "output_type": "stream",
     "text": [
      " 94%|█████████████████████████████████▉  | 28751/30454 [01:43<00:05, 328.16it/s]"
     ]
    },
    {
     "name": "stdout",
     "output_type": "stream",
     "text": [
      "inconclusive sequencing: 28716 {'name': 'site.05.iso.1.subject.LR-2304.lab_id.FN-00520-18.seq_reps.1'}\n"
     ]
    },
    {
     "name": "stderr",
     "output_type": "stream",
     "text": [
      " 95%|██████████████████████████████████  | 28854/30454 [01:43<00:05, 306.43it/s]"
     ]
    },
    {
     "name": "stdout",
     "output_type": "stream",
     "text": [
      "inconclusive sequencing: 28810 {'name': 'site.11.iso.1.subject.XTB_17-509.lab_id.XTB_17-509.seq_reps.1'}\n",
      "inconclusive sequencing: 28812 {'name': 'site.04.iso.1.subject.01907.lab_id.733231.seq_reps.1'}\n",
      "inconclusive sequencing: 28858 {'name': 'site.06.iso.1.subject.06TB_0537.lab_id.06MIL1395.seq_reps.1'}\n"
     ]
    },
    {
     "name": "stderr",
     "output_type": "stream",
     "text": [
      " 95%|██████████████████████████████████▎ | 28995/30454 [01:44<00:04, 326.25it/s]"
     ]
    },
    {
     "name": "stdout",
     "output_type": "stream",
     "text": [
      "inconclusive sequencing: 28898 {'name': 'site.11.iso.1.subject.XTB-18-173.lab_id.XTB-18-173.seq_reps.1'}\n"
     ]
    },
    {
     "name": "stderr",
     "output_type": "stream",
     "text": [
      " 96%|██████████████████████████████████▋ | 29312/30454 [01:45<00:03, 342.33it/s]"
     ]
    },
    {
     "name": "stdout",
     "output_type": "stream",
     "text": [
      "inconclusive sequencing: 29273 {'name': 'site.04.iso.1.subject.04036.lab_id.900047.seq_reps.1_2'}\n",
      "inconclusive sequencing: 29327 {'name': 'site.04.iso.1.subject.04796.lab_id.904161.seq_reps.1'}\n"
     ]
    },
    {
     "name": "stderr",
     "output_type": "stream",
     "text": [
      " 97%|██████████████████████████████████▊ | 29457/30454 [01:45<00:02, 353.38it/s]"
     ]
    },
    {
     "name": "stdout",
     "output_type": "stream",
     "text": [
      "inconclusive sequencing: 29397 {'name': 'site.04.iso.1.subject.03261.lab_id.824783.seq_reps.1'}\n",
      "inconclusive sequencing: 29402 {'name': 'site.04.iso.1.subject.03619.lab_id.826279.seq_reps.1'}\n",
      "inconclusive sequencing: 29403 {'name': 'site.04.iso.1.subject.04992.lab_id.909759.seq_reps.1_2'}\n",
      "inconclusive sequencing: 29462 {'name': 'site.06.iso.1.subject.06TB_0016.lab_id.06MIL0477.seq_reps.1'}\n"
     ]
    },
    {
     "name": "stderr",
     "output_type": "stream",
     "text": [
      " 99%|███████████████████████████████████▌| 30032/30454 [01:47<00:01, 342.00it/s]"
     ]
    },
    {
     "name": "stdout",
     "output_type": "stream",
     "text": [
      "inconclusive sequencing: 29994 {'name': 'site.05.iso.1.subject.LR-2356.lab_id.FN-00723-16.seq_reps.1'}\n",
      "inconclusive sequencing: 30054 {'name': 'site.05.iso.1.subject.LR-2355.lab_id.FN-00718-16.seq_reps.1'}\n"
     ]
    },
    {
     "name": "stderr",
     "output_type": "stream",
     "text": [
      " 99%|███████████████████████████████████▊| 30286/30454 [01:47<00:00, 342.59it/s]"
     ]
    },
    {
     "name": "stdout",
     "output_type": "stream",
     "text": [
      "inconclusive sequencing: 30220 {'name': 'site.05.iso.1.subject.LR-2426.lab_id.FN-01116-15.seq_reps.1'}\n",
      "inconclusive sequencing: 30222 {'name': 'site.05.iso.1.subject.PTAN-0100.lab_id.TAN-306.seq_reps.1'}\n",
      "inconclusive sequencing: 30228 {'name': 'site.05.iso.1.subject.PMOP-0526.lab_id.MOP-044.seq_reps.1'}\n",
      "inconclusive sequencing: 30230 {'name': 'site.05.iso.1.subject.LR-2353.lab_id.FN-00515-16.seq_reps.1'}\n"
     ]
    },
    {
     "name": "stderr",
     "output_type": "stream",
     "text": [
      "100%|███████████████████████████████████▉| 30391/30454 [01:48<00:00, 335.55it/s]"
     ]
    },
    {
     "name": "stdout",
     "output_type": "stream",
     "text": [
      "inconclusive sequencing: 30344 {'name': 'site.05.iso.1.subject.CA-1360.lab_id.CO-02151-19.seq_reps.1'}\n",
      "inconclusive sequencing: 30352 {'name': 'site.05.iso.1.subject.PSLM-0843.lab_id.SLM-112.seq_reps.1'}\n"
     ]
    },
    {
     "name": "stderr",
     "output_type": "stream",
     "text": [
      "100%|████████████████████████████████████| 30454/30454 [01:48<00:00, 281.01it/s]\n"
     ]
    }
   ],
   "source": [
    "vis = 'prune'\n",
    "\n",
    "prune_header=\"\"\"PRUNE\n",
    "\n",
    "DATA\n",
    "\"\"\"\n",
    "\n",
    "prune_annotations = ''\n",
    "\n",
    "# LABELS = GENOMES[['ORIGINAL_UID', 'LINEAGE_NAME']]\n",
    "\n",
    "for i in tqdm(range(ts.num_nodes)):  \n",
    "\n",
    "    row = new_tables.nodes[i]\n",
    "\n",
    "    if 'name' in row.metadata.keys():\n",
    "\n",
    "        uid = row.metadata['name']\n",
    "\n",
    "        lineage = LABELS.loc[uid]['LINEAGE_NAME']\n",
    "        \n",
    "        if i == 15072 or i == 15074 or i == 15077 or i == 15076:\n",
    "            print('outliers:', row.metadata)\n",
    "            \n",
    "            #uncomment to exclude outliers:\n",
    "            #continue\n",
    "            \n",
    "        if LABELS.loc[uid].UNIQUEID in REMOVE.to_list():\n",
    "            print('inconclusive sequencing:', str(i), row.metadata)\n",
    "            \n",
    "            #uncomment to exclude inconclusive sequences:\n",
    "            continue\n",
    "        \n",
    "        if lineage!='' and lineage[0]=='L':\n",
    "            \n",
    "            if lineage == 'Lineage 1' or lineage == 'Lineage 2' or lineage == 'Lineage 3' or lineage == 'Lineage 4':\n",
    "                line = 'n' + str(i) + '\\n'\n",
    "\n",
    "                prune_annotations += line \n",
    "\n",
    "            else:\n",
    "                print('other lineage:', i)\n",
    "                \n",
    "                continue\n",
    "                \n",
    "        else:\n",
    "            print('no lineage:', i)\n",
    "            lineage = None\n",
    "\n",
    "prune_annotations = prune_header + prune_annotations"
   ]
  },
  {
   "cell_type": "markdown",
   "metadata": {},
   "source": [
    "Dynamically create the ITOL annotations file to add symbols at the end of the branches coloured by lineage"
   ]
  },
  {
   "cell_type": "code",
   "execution_count": 282,
   "metadata": {},
   "outputs": [
    {
     "name": "stderr",
     "output_type": "stream",
     "text": [
      "100%|███████████████████████████████████| 30454/30454 [00:24<00:00, 1263.32it/s]\n"
     ]
    }
   ],
   "source": [
    "vis = 'symbol'\n",
    "\n",
    "lineage_header=\"\"\"DATASET_SYMBOL\n",
    "\n",
    "SEPARATOR COMMA\n",
    "\n",
    "DATASET_LABEL,example symbols\n",
    "\n",
    "COLOR,#e41a1c\n",
    "\n",
    "MAXIMUM_SIZE,3\n",
    "\n",
    "\n",
    "DATA\n",
    "\"\"\"\n",
    "\n",
    "colour_lookup = {1: '#4daf4a', 2: '#e41a1c', 3: '#984ea3', 4: '#377eb8', 5: '#ff7f00', 6: '#a65628'}\n",
    "\n",
    "lineage_annotations = ''\n",
    "\n",
    "for i in tqdm(range(ts.num_nodes)):\n",
    "# for i in tqdm(range(20010,20040)):    \n",
    "\n",
    "    row = new_tables.nodes[i]\n",
    "\n",
    "    if 'name' in row.metadata.keys():\n",
    "\n",
    "        uid = row.metadata['name']\n",
    "\n",
    "        lineage = LABELS.loc[uid]['LINEAGE_NAME']\n",
    "        if lineage!='' and lineage[0]=='L':\n",
    "            lineage=int(lineage[-1])\n",
    "        else:\n",
    "            lineage=None\n",
    "\n",
    "        if lineage in colour_lookup.keys():\n",
    "            colour = colour_lookup[lineage]\n",
    "        else:\n",
    "            colour = '#bbbbbb'\n",
    "\n",
    "        line = 'n'+str(i) +',1,1,' + colour + ',1,1\\n'\n",
    "        lineage_annotations += line \n",
    "    \n",
    "\n",
    "lineage_annotations = lineage_header + lineage_annotations\n",
    "            "
   ]
  },
  {
   "cell_type": "markdown",
   "metadata": {},
   "source": [
    "Display lineage as colored strip instead"
   ]
  },
  {
   "cell_type": "code",
   "execution_count": 153,
   "metadata": {},
   "outputs": [
    {
     "name": "stderr",
     "output_type": "stream",
     "text": [
      "100%|███████████████████████████████████| 30454/30454 [00:27<00:00, 1093.67it/s]\n"
     ]
    }
   ],
   "source": [
    "vis = 'colorstrip'\n",
    "\n",
    "lineage_header=\"\"\"DATASET_COLORSTRIP\n",
    "\n",
    "SEPARATOR COMMA\n",
    "\n",
    "DATASET_LABEL,label1\n",
    "\n",
    "COLOR,#e41a1c\n",
    "\n",
    "COLOR_BRANCHES,0\n",
    "\n",
    "\n",
    "DATA\n",
    "\"\"\"\n",
    "\n",
    "colour_lookup = {1: '#e41a1c', 2: '#377eb8', 3: '#4daf4a', 4: '#ff7f00', 5: '#ff7f00', 6: '#a65628'}\n",
    "\n",
    "lineage_annotations = ''\n",
    "\n",
    "for i in tqdm(range(ts.num_nodes)):\n",
    "# for i in tqdm(range(20010,20040)):    \n",
    "\n",
    "    row = new_tables.nodes[i]\n",
    "\n",
    "    if 'name' in row.metadata.keys():\n",
    "\n",
    "        uid = row.metadata['name']\n",
    "\n",
    "        lineage = LABELS.loc[uid]['LINEAGE_NAME']\n",
    "        if lineage!='' and lineage[0]=='L':\n",
    "            lineage=int(lineage[-1])\n",
    "        else:\n",
    "            lineage=None\n",
    "\n",
    "        if lineage in colour_lookup.keys():\n",
    "            colour = colour_lookup[lineage]\n",
    "        else:\n",
    "            colour = '#bbbbbb'\n",
    "\n",
    "        line = 'n'+ str(i) + ',' + colour + ',Lineage ' + str(lineage) + '\\n'\n",
    "        lineage_annotations += line \n",
    "    \n",
    "\n",
    "lineage_annotations = lineage_header + lineage_annotations\n"
   ]
  },
  {
   "cell_type": "markdown",
   "metadata": {},
   "source": [
    "Display lineages as colored ranges"
   ]
  },
  {
   "cell_type": "code",
   "execution_count": 20,
   "metadata": {},
   "outputs": [
    {
     "name": "stderr",
     "output_type": "stream",
     "text": [
      "100%|███████████████████████████████████| 30454/30454 [00:25<00:00, 1208.66it/s]\n"
     ]
    }
   ],
   "source": [
    "vis = 'colorstrip'\n",
    "\n",
    "lineage_header=\"\"\"TREE_COLORS\n",
    "\n",
    "SEPARATOR COMMA\n",
    "\n",
    "DATA\n",
    "\"\"\"\n",
    "\n",
    "colour_lookup = {1: '#4daf4a', 2: '#e41a1c', 3: '#984ea3', 4: '#377eb8', 5: '#ff7f00', 6: '#a65628'}\n",
    "\n",
    "lineage_annotations = ''\n",
    "\n",
    "for i in tqdm(range(ts.num_nodes)):  \n",
    "\n",
    "    row = new_tables.nodes[i]\n",
    "\n",
    "    if 'name' in row.metadata.keys():\n",
    "\n",
    "        uid = row.metadata['name']\n",
    "\n",
    "        lineage = LABELS.loc[uid]['LINEAGE_NAME']\n",
    "        if lineage!='' and lineage[0]=='L':\n",
    "            lineage=int(lineage[-1])\n",
    "        else:\n",
    "            lineage=None\n",
    "\n",
    "        if lineage in colour_lookup.keys():\n",
    "            colour = colour_lookup[lineage]\n",
    "        else:\n",
    "            colour = '#bbbbbb'\n",
    "\n",
    "        line = 'n'+ str(i) + ',' + 'range,' + colour + ',Lineage ' + str(lineage) + '\\n'\n",
    "        lineage_annotations += line \n",
    "    \n",
    "\n",
    "lineage_annotations = lineage_header + lineage_annotations\n"
   ]
  },
  {
   "cell_type": "markdown",
   "metadata": {},
   "source": [
    "Some ORIGINAL_IDS are duplicated due to a step before (join LINEAGE), but it would make no difference to simply choose one of the instances"
   ]
  },
  {
   "cell_type": "code",
   "execution_count": 24,
   "metadata": {},
   "outputs": [
    {
     "name": "stderr",
     "output_type": "stream",
     "text": [
      "  5%|█▉                                  | 1662/30454 [00:01<00:22, 1272.41it/s]"
     ]
    },
    {
     "name": "stdout",
     "output_type": "stream",
     "text": [
      "2 Index(['site.17.iso.1.subject.K0057.lab_id.123-20-0057-1000.seq_reps.1', 'site.17.iso.1.subject.K0057.lab_id.123-20-0057-1000.seq_reps.1'], dtype='object', name='ORIGINAL_UID')\n",
      "2 Index(['site.08.iso.1.subject.02TB2346.lab_id.26277.seq_reps.1', 'site.08.iso.1.subject.02TB2346.lab_id.26277.seq_reps.1'], dtype='object', name='ORIGINAL_UID')\n",
      "2 Index(['site.08.iso.1.subject.24TB00-016.lab_id.2394.seq_reps.1', 'site.08.iso.1.subject.24TB00-016.lab_id.2394.seq_reps.1'], dtype='object', name='ORIGINAL_UID')\n",
      "2 Index(['site.08.iso.1.subject.24TB00-016.lab_id.2297.seq_reps.1', 'site.08.iso.1.subject.24TB00-016.lab_id.2297.seq_reps.1'], dtype='object', name='ORIGINAL_UID')\n",
      "2 Index(['site.08.iso.1.subject.24TB00-016.lab_id.2248.seq_reps.1', 'site.08.iso.1.subject.24TB00-016.lab_id.2248.seq_reps.1'], dtype='object', name='ORIGINAL_UID')\n",
      "2 Index(['site.08.iso.1.subject.24TB00-016.lab_id.2296.seq_reps.1', 'site.08.iso.1.subject.24TB00-016.lab_id.2296.seq_reps.1'], dtype='object', name='ORIGINAL_UID')\n",
      "2 Index(['site.08.iso.1.subject.24TB00-058.lab_id.2436.seq_reps.1', 'site.08.iso.1.subject.24TB00-058.lab_id.2436.seq_reps.1'], dtype='object', name='ORIGINAL_UID')\n",
      "2 Index(['site.08.iso.1.subject.24TB00-058.lab_id.2403.seq_reps.1', 'site.08.iso.1.subject.24TB00-058.lab_id.2403.seq_reps.1'], dtype='object', name='ORIGINAL_UID')\n",
      "2 Index(['site.08.iso.1.subject.24TB00-058.lab_id.2443.seq_reps.1', 'site.08.iso.1.subject.24TB00-058.lab_id.2443.seq_reps.1'], dtype='object', name='ORIGINAL_UID')\n"
     ]
    },
    {
     "name": "stderr",
     "output_type": "stream",
     "text": [
      "  7%|██▌                                 | 2167/30454 [00:01<00:24, 1132.70it/s]"
     ]
    },
    {
     "name": "stdout",
     "output_type": "stream",
     "text": [
      "2 Index(['site.02.iso.1.subject.0129.lab_id.22A084.seq_reps.84', 'site.02.iso.1.subject.0129.lab_id.22A084.seq_reps.84'], dtype='object', name='ORIGINAL_UID')\n",
      "2 Index(['site.02.iso.1.subject.0486.lab_id.235060-14.seq_reps.14235060', 'site.02.iso.1.subject.0486.lab_id.235060-14.seq_reps.14235060'], dtype='object', name='ORIGINAL_UID')\n",
      "2 Index(['site.02.iso.1.subject.0114.lab_id.22A068.seq_reps.68', 'site.02.iso.1.subject.0114.lab_id.22A068.seq_reps.68'], dtype='object', name='ORIGINAL_UID')\n"
     ]
    },
    {
     "name": "stderr",
     "output_type": "stream",
     "text": [
      "  8%|███                                 | 2559/30454 [00:02<00:22, 1237.15it/s]"
     ]
    },
    {
     "name": "stdout",
     "output_type": "stream",
     "text": [
      "2 Index(['site.02.iso.1.subject.0877.lab_id.22A111.seq_reps.111', 'site.02.iso.1.subject.0877.lab_id.22A111.seq_reps.111'], dtype='object', name='ORIGINAL_UID')\n",
      "2 Index(['site.02.iso.1.subject.0919.lab_id.22A154.seq_reps.154', 'site.02.iso.1.subject.0919.lab_id.22A154.seq_reps.154'], dtype='object', name='ORIGINAL_UID')\n",
      "2 Index(['site.04.iso.1.subject.01004.lab_id.718501.seq_reps.1', 'site.04.iso.1.subject.01004.lab_id.718501.seq_reps.1'], dtype='object', name='ORIGINAL_UID')\n",
      "2 Index(['site.11.iso.1.subject.MDR156.lab_id.SWE-124.seq_reps.1_2_3_4', 'site.11.iso.1.subject.MDR156.lab_id.SWE-124.seq_reps.1_2_3_4'], dtype='object', name='ORIGINAL_UID')\n"
     ]
    },
    {
     "name": "stderr",
     "output_type": "stream",
     "text": [
      " 11%|███▉                                | 3341/30454 [00:02<00:21, 1243.63it/s]"
     ]
    },
    {
     "name": "stdout",
     "output_type": "stream",
     "text": [
      "3 Index(['site.02.iso.1.subject.0133.lab_id.22A088.seq_reps.88',\n",
      "       'site.02.iso.1.subject.0133.lab_id.22A088.seq_reps.88',\n",
      "       'site.02.iso.1.subject.0133.lab_id.22A088.seq_reps.88'],\n",
      "      dtype='object', name='ORIGINAL_UID')\n",
      "2 Index(['site.02.iso.1.subject.0946.lab_id.22A181.seq_reps.181', 'site.02.iso.1.subject.0946.lab_id.22A181.seq_reps.181'], dtype='object', name='ORIGINAL_UID')\n",
      "2 Index(['site.02.iso.1.subject.0087.lab_id.22A039.seq_reps.39', 'site.02.iso.1.subject.0087.lab_id.22A039.seq_reps.39'], dtype='object', name='ORIGINAL_UID')\n"
     ]
    },
    {
     "name": "stderr",
     "output_type": "stream",
     "text": [
      " 12%|████▍                               | 3724/30454 [00:03<00:26, 1015.21it/s]"
     ]
    },
    {
     "name": "stdout",
     "output_type": "stream",
     "text": [
      "2 Index(['site.03.iso.1.subject.JPN-R2012-0023.lab_id.JPN-R2012-0023.seq_reps.1', 'site.03.iso.1.subject.JPN-R2012-0023.lab_id.JPN-R2012-0023.seq_reps.1'], dtype='object', name='ORIGINAL_UID')\n",
      "2 Index(['site.08.iso.1.subject.02TB1380.lab_id.21047.seq_reps.1', 'site.08.iso.1.subject.02TB1380.lab_id.21047.seq_reps.1'], dtype='object', name='ORIGINAL_UID')\n"
     ]
    },
    {
     "name": "stderr",
     "output_type": "stream",
     "text": [
      " 13%|████▉                                | 4036/30454 [00:03<00:27, 973.85it/s]"
     ]
    },
    {
     "name": "stdout",
     "output_type": "stream",
     "text": [
      "2 Index(['site.02.iso.1.subject.0108.lab_id.22A062.seq_reps.62', 'site.02.iso.1.subject.0108.lab_id.22A062.seq_reps.62'], dtype='object', name='ORIGINAL_UID')\n",
      "2 Index(['site.08.iso.1.subject.02TB1295.lab_id.19778.seq_reps.1', 'site.08.iso.1.subject.02TB1295.lab_id.19778.seq_reps.1'], dtype='object', name='ORIGINAL_UID')\n"
     ]
    },
    {
     "name": "stderr",
     "output_type": "stream",
     "text": [
      " 16%|█████▊                               | 4776/30454 [00:04<00:25, 998.64it/s]"
     ]
    },
    {
     "name": "stdout",
     "output_type": "stream",
     "text": [
      "2 Index(['site.05.iso.1.subject.LR-2251.lab_id.FN-00446-17.seq_reps.1', 'site.05.iso.1.subject.LR-2251.lab_id.FN-00446-17.seq_reps.1'], dtype='object', name='ORIGINAL_UID')\n",
      "2 Index(['site.05.iso.1.subject.PMFR-0661.lab_id.MFR-010.seq_reps.1', 'site.05.iso.1.subject.PMFR-0661.lab_id.MFR-010.seq_reps.1'], dtype='object', name='ORIGINAL_UID')\n"
     ]
    },
    {
     "name": "stderr",
     "output_type": "stream",
     "text": [
      " 16%|██████                               | 4974/30454 [00:04<00:26, 952.40it/s]"
     ]
    },
    {
     "name": "stdout",
     "output_type": "stream",
     "text": [
      "2 Index(['site.13.iso.1.subject.160200127.lab_id.160200127.seq_reps.1', 'site.13.iso.1.subject.160200127.lab_id.160200127.seq_reps.1'], dtype='object', name='ORIGINAL_UID')\n",
      "2 Index(['site.02.iso.1.subject.0064.lab_id.22A014.seq_reps.14', 'site.02.iso.1.subject.0064.lab_id.22A014.seq_reps.14'], dtype='object', name='ORIGINAL_UID')\n",
      "2 Index(['site.02.iso.1.subject.0109.lab_id.22A063.seq_reps.63', 'site.02.iso.1.subject.0109.lab_id.22A063.seq_reps.63'], dtype='object', name='ORIGINAL_UID')\n",
      "2 Index(['site.08.iso.1.subject.02TB1470.lab_id.20004.seq_reps.1', 'site.08.iso.1.subject.02TB1470.lab_id.20004.seq_reps.1'], dtype='object', name='ORIGINAL_UID')\n"
     ]
    },
    {
     "name": "stderr",
     "output_type": "stream",
     "text": [
      " 17%|██████▎                             | 5295/30454 [00:04<00:24, 1006.66it/s]"
     ]
    },
    {
     "name": "stdout",
     "output_type": "stream",
     "text": [
      "2 Index(['site.04.iso.1.subject.01851.lab_id.731052.seq_reps.1', 'site.04.iso.1.subject.01851.lab_id.731052.seq_reps.1'], dtype='object', name='ORIGINAL_UID')\n",
      "2 Index(['site.04.iso.1.subject.05421.lab_id.912075.seq_reps.1', 'site.04.iso.1.subject.05421.lab_id.912075.seq_reps.1'], dtype='object', name='ORIGINAL_UID')\n",
      "2 Index(['site.04.iso.1.subject.02197.lab_id.805429.seq_reps.1', 'site.04.iso.1.subject.02197.lab_id.805429.seq_reps.1'], dtype='object', name='ORIGINAL_UID')\n",
      "2 Index(['site.04.iso.1.subject.00153.lab_id.701553.seq_reps.1', 'site.04.iso.1.subject.00153.lab_id.701553.seq_reps.1'], dtype='object', name='ORIGINAL_UID')\n",
      "2 Index(['site.04.iso.1.subject.02057.lab_id.803377.seq_reps.1', 'site.04.iso.1.subject.02057.lab_id.803377.seq_reps.1'], dtype='object', name='ORIGINAL_UID')\n"
     ]
    },
    {
     "name": "stderr",
     "output_type": "stream",
     "text": [
      " 19%|██████▋                             | 5667/30454 [00:05<00:21, 1164.21it/s]"
     ]
    },
    {
     "name": "stdout",
     "output_type": "stream",
     "text": [
      "2 Index(['site.02.iso.1.subject.0915.lab_id.22A149.seq_reps.149', 'site.02.iso.1.subject.0915.lab_id.22A149.seq_reps.149'], dtype='object', name='ORIGINAL_UID')\n",
      "2 Index(['site.06.iso.1.subject.06TB_0097.lab_id.06MIL0558.seq_reps.1', 'site.06.iso.1.subject.06TB_0097.lab_id.06MIL0558.seq_reps.1'], dtype='object', name='ORIGINAL_UID')\n"
     ]
    },
    {
     "name": "stderr",
     "output_type": "stream",
     "text": [
      " 21%|███████▍                            | 6311/30454 [00:05<00:18, 1271.84it/s]"
     ]
    },
    {
     "name": "stdout",
     "output_type": "stream",
     "text": [
      "2 Index(['site.10.iso.1.subject.YA00029135.lab_id.YA00029135.seq_reps.1', 'site.10.iso.1.subject.YA00029135.lab_id.YA00029135.seq_reps.1'], dtype='object', name='ORIGINAL_UID')\n",
      "2 Index(['site.04.iso.1.subject.01290.lab_id.722418.seq_reps.1', 'site.04.iso.1.subject.01290.lab_id.722418.seq_reps.1'], dtype='object', name='ORIGINAL_UID')\n"
     ]
    },
    {
     "name": "stderr",
     "output_type": "stream",
     "text": [
      " 23%|████████▍                           | 7123/30454 [00:06<00:17, 1346.30it/s]"
     ]
    },
    {
     "name": "stdout",
     "output_type": "stream",
     "text": [
      "2 Index(['site.06.iso.1.subject.06TB_0041.lab_id.06MIL0502.seq_reps.1', 'site.06.iso.1.subject.06TB_0041.lab_id.06MIL0502.seq_reps.1'], dtype='object', name='ORIGINAL_UID')\n",
      "2 Index(['site.03.iso.1.subject.T4683.lab_id.IML-00063.seq_reps.1', 'site.03.iso.1.subject.T4683.lab_id.IML-00063.seq_reps.1'], dtype='object', name='ORIGINAL_UID')\n"
     ]
    },
    {
     "name": "stderr",
     "output_type": "stream",
     "text": [
      " 27%|█████████▌                          | 8108/30454 [00:06<00:16, 1388.84it/s]"
     ]
    },
    {
     "name": "stdout",
     "output_type": "stream",
     "text": [
      "2 Index(['site.02.iso.1.subject.0916.lab_id.22A151.seq_reps.151', 'site.02.iso.1.subject.0916.lab_id.22A151.seq_reps.151'], dtype='object', name='ORIGINAL_UID')\n",
      "2 Index(['site.02.iso.1.subject.0079.lab_id.22A031.seq_reps.31', 'site.02.iso.1.subject.0079.lab_id.22A031.seq_reps.31'], dtype='object', name='ORIGINAL_UID')\n",
      "2 Index(['site.03.iso.1.subject.10678.lab_id.IML-00977.seq_reps.1', 'site.03.iso.1.subject.10678.lab_id.IML-00977.seq_reps.1'], dtype='object', name='ORIGINAL_UID')\n",
      "2 Index(['site.06.iso.1.subject.06TB_0283.lab_id.06MIL1340.seq_reps.1', 'site.06.iso.1.subject.06TB_0283.lab_id.06MIL1340.seq_reps.1'], dtype='object', name='ORIGINAL_UID')\n",
      "2 Index(['site.06.iso.1.subject.06TB_0653.lab_id.06MIL1539.seq_reps.1', 'site.06.iso.1.subject.06TB_0653.lab_id.06MIL1539.seq_reps.1'], dtype='object', name='ORIGINAL_UID')\n",
      "2 Index(['site.03.iso.1.subject.GB-85010098.lab_id.85010098.seq_reps.1', 'site.03.iso.1.subject.GB-85010098.lab_id.85010098.seq_reps.1'], dtype='object', name='ORIGINAL_UID')\n",
      "2 Index(['site.06.iso.1.subject.06TB_0408.lab_id.06MIL1120.seq_reps.1', 'site.06.iso.1.subject.06TB_0408.lab_id.06MIL1120.seq_reps.1'], dtype='object', name='ORIGINAL_UID')\n",
      "2 Index(['site.06.iso.1.subject.06TB_0170.lab_id.06MIL0631.seq_reps.1', 'site.06.iso.1.subject.06TB_0170.lab_id.06MIL0631.seq_reps.1'], dtype='object', name='ORIGINAL_UID')\n",
      "2 Index(['site.06.iso.1.subject.06TB_0064.lab_id.06MIL0525.seq_reps.1', 'site.06.iso.1.subject.06TB_0064.lab_id.06MIL0525.seq_reps.1'], dtype='object', name='ORIGINAL_UID')\n",
      "2 Index(['site.06.iso.1.subject.06TB_0065.lab_id.06MIL0526.seq_reps.1', 'site.06.iso.1.subject.06TB_0065.lab_id.06MIL0526.seq_reps.1'], dtype='object', name='ORIGINAL_UID')\n",
      "2 Index(['site.11.iso.1.subject.XTB_17-558.lab_id.XTB_17-558.seq_reps.1', 'site.11.iso.1.subject.XTB_17-558.lab_id.XTB_17-558.seq_reps.1'], dtype='object', name='ORIGINAL_UID')\n",
      "2 Index(['site.06.iso.1.subject.D025518.lab_id.06MIL1356.seq_reps.1', 'site.06.iso.1.subject.D025518.lab_id.06MIL1356.seq_reps.1'], dtype='object', name='ORIGINAL_UID')\n",
      "2 Index(['site.06.iso.1.subject.RLH_0314-14.lab_id.06MIL0341.seq_reps.1', 'site.06.iso.1.subject.RLH_0314-14.lab_id.06MIL0341.seq_reps.1'], dtype='object', name='ORIGINAL_UID')\n",
      "2 Index(['site.03.iso.1.subject.10604.lab_id.IML-01037.seq_reps.1', 'site.03.iso.1.subject.10604.lab_id.IML-01037.seq_reps.1'], dtype='object', name='ORIGINAL_UID')\n",
      "2 Index(['site.11.iso.1.subject.XTB_17-104.lab_id.XTB_17-104.seq_reps.1', 'site.11.iso.1.subject.XTB_17-104.lab_id.XTB_17-104.seq_reps.1'], dtype='object', name='ORIGINAL_UID')"
     ]
    },
    {
     "name": "stderr",
     "output_type": "stream",
     "text": [
      " 28%|█████████▉                          | 8383/30454 [00:07<00:16, 1341.30it/s]"
     ]
    },
    {
     "name": "stdout",
     "output_type": "stream",
     "text": [
      "\n",
      "2 Index(['site.03.iso.1.subject.10889.lab_id.IML-00990.seq_reps.1', 'site.03.iso.1.subject.10889.lab_id.IML-00990.seq_reps.1'], dtype='object', name='ORIGINAL_UID')\n",
      "2 Index(['site.11.iso.1.subject.XTB_17-574.lab_id.XTB_17-574.seq_reps.1', 'site.11.iso.1.subject.XTB_17-574.lab_id.XTB_17-574.seq_reps.1'], dtype='object', name='ORIGINAL_UID')\n",
      "2 Index(['site.11.iso.1.subject.XTB_18-045.lab_id.XTB_18-045.seq_reps.1_2', 'site.11.iso.1.subject.XTB_18-045.lab_id.XTB_18-045.seq_reps.1_2'], dtype='object', name='ORIGINAL_UID')\n",
      "2 Index(['site.03.iso.1.subject.T779.lab_id.T779.seq_reps.1', 'site.03.iso.1.subject.T779.lab_id.T779.seq_reps.1'], dtype='object', name='ORIGINAL_UID')\n",
      "2 Index(['site.03.iso.1.subject.GB-92250159.lab_id.IML-01172.seq_reps.1', 'site.03.iso.1.subject.GB-92250159.lab_id.IML-01172.seq_reps.1'], dtype='object', name='ORIGINAL_UID')\n",
      "2 Index(['site.11.iso.1.subject.MDR153.lab_id.SWE-121.seq_reps.1_2_3_4', 'site.11.iso.1.subject.MDR153.lab_id.SWE-121.seq_reps.1_2_3_4'], dtype='object', name='ORIGINAL_UID')\n",
      "2 Index(['site.03.iso.1.subject.T8551.lab_id.IML-00125.seq_reps.1', 'site.03.iso.1.subject.T8551.lab_id.IML-00125.seq_reps.1'], dtype='object', name='ORIGINAL_UID')\n",
      "2 Index(['site.03.iso.1.subject.10856.lab_id.IML-00976.seq_reps.1', 'site.03.iso.1.subject.10856.lab_id.IML-00976.seq_reps.1'], dtype='object', name='ORIGINAL_UID')\n",
      "2 Index(['site.03.iso.1.subject.10763.lab_id.IML-00972.seq_reps.1', 'site.03.iso.1.subject.10763.lab_id.IML-00972.seq_reps.1'], dtype='object', name='ORIGINAL_UID')\n",
      "2 Index(['site.03.iso.1.subject.11068.lab_id.IML-00971.seq_reps.1', 'site.03.iso.1.subject.11068.lab_id.IML-00971.seq_reps.1'], dtype='object', name='ORIGINAL_UID')\n",
      "2 Index(['site.03.iso.1.subject.11138.lab_id.IML-00828.seq_reps.1', 'site.03.iso.1.subject.11138.lab_id.IML-00828.seq_reps.1'], dtype='object', name='ORIGINAL_UID')\n",
      "2 Index(['site.06.iso.1.subject.06TB_0498.lab_id.06MIL1176.seq_reps.1', 'site.06.iso.1.subject.06TB_0498.lab_id.06MIL1176.seq_reps.1'], dtype='object', name='ORIGINAL_UID')\n",
      "2 Index(['site.06.iso.1.subject.06TB_0287.lab_id.06MIL1254.seq_reps.1', 'site.06.iso.1.subject.06TB_0287.lab_id.06MIL1254.seq_reps.1'], dtype='object', name='ORIGINAL_UID')\n",
      "2 Index(['site.03.iso.1.subject.GB-90810036.lab_id.IML-01981.seq_reps.1', 'site.03.iso.1.subject.GB-90810036.lab_id.IML-01981.seq_reps.1'], dtype='object', name='ORIGINAL_UID')\n",
      "2 Index(['site.11.iso.1.subject.XTB_17-091.lab_id.XTB_17-091.seq_reps.1', 'site.11.iso.1.subject.XTB_17-091.lab_id.XTB_17-091.seq_reps.1'], dtype='object', name='ORIGINAL_UID')\n",
      "2"
     ]
    },
    {
     "name": "stderr",
     "output_type": "stream",
     "text": [
      " 28%|██████████▏                         | 8651/30454 [00:07<00:18, 1208.13it/s]"
     ]
    },
    {
     "name": "stdout",
     "output_type": "stream",
     "text": [
      " Index(['site.06.iso.1.subject.06TB_0060.lab_id.06MIL0521.seq_reps.1', 'site.06.iso.1.subject.06TB_0060.lab_id.06MIL0521.seq_reps.1'], dtype='object', name='ORIGINAL_UID')\n",
      "2 Index(['site.06.iso.1.subject.06TB_0189.lab_id.06MIL0650.seq_reps.1', 'site.06.iso.1.subject.06TB_0189.lab_id.06MIL0650.seq_reps.1'], dtype='object', name='ORIGINAL_UID')\n",
      "2 Index(['site.11.iso.1.subject.XTB-18-187.lab_id.XTB-18-187.seq_reps.1', 'site.11.iso.1.subject.XTB-18-187.lab_id.XTB-18-187.seq_reps.1'], dtype='object', name='ORIGINAL_UID')\n",
      "2 Index(['site.11.iso.1.subject.XTB-18-188.lab_id.XTB-18-188.seq_reps.1', 'site.11.iso.1.subject.XTB-18-188.lab_id.XTB-18-188.seq_reps.1'], dtype='object', name='ORIGINAL_UID')\n",
      "2 Index(['site.03.iso.1.subject.GB-84130099.lab_id.IML-01763.seq_reps.1', 'site.03.iso.1.subject.GB-84130099.lab_id.IML-01763.seq_reps.1'], dtype='object', name='ORIGINAL_UID')\n",
      "2 Index(['site.06.iso.1.subject.06TB_0275.lab_id.06MIL0866.seq_reps.1', 'site.06.iso.1.subject.06TB_0275.lab_id.06MIL0866.seq_reps.1'], dtype='object', name='ORIGINAL_UID')\n",
      "2 Index(['site.06.iso.1.subject.06TB_0272.lab_id.06MIL0863.seq_reps.1', 'site.06.iso.1.subject.06TB_0272.lab_id.06MIL0863.seq_reps.1'], dtype='object', name='ORIGINAL_UID')\n",
      "2 Index(['site.06.iso.1.subject.06TB_0043.lab_id.06MIL0504.seq_reps.1', 'site.06.iso.1.subject.06TB_0043.lab_id.06MIL0504.seq_reps.1'], dtype='object', name='ORIGINAL_UID')\n",
      "2 Index(['site.06.iso.1.subject.06TB_0540.lab_id.06MIL1394.seq_reps.1', 'site.06.iso.1.subject.06TB_0540.lab_id.06MIL1394.seq_reps.1'], dtype='object', name='ORIGINAL_UID')\n",
      "2 Index(['site.06.iso.1.subject.06TB_0840.lab_id.06MIL1787.seq_reps.1', 'site.06.iso.1.subject.06TB_0840.lab_id.06MIL1787.seq_reps.1'], dtype='object', name='ORIGINAL_UID')\n",
      "2 Index(['site.06.iso.1.subject.06TB_0277.lab_id.06MIL0868.seq_reps.1', 'site.06.iso.1.subject.06TB_0277.lab_id.06MIL0868.seq_reps.1'], dtype='object', name='ORIGINAL_UID')\n",
      "2 Index(['site.04.iso.1.subject.00106.lab_id.632082.seq_reps.1', 'site.04.iso.1.subject.00106.lab_id.632082.seq_reps.1'], dtype='object', name='ORIGINAL_UID')\n",
      "2 Index(['site.06.iso.1.subject.06TB_0039.lab_id.06MIL0500.seq_reps.1', 'site.06.iso.1.subject.06TB_0039.lab_id.06MIL0500.seq_reps.1'], dtype='object', name='ORIGINAL_UID')\n",
      "2 Index(['site.06.iso.1.subject.06TB_0002.lab_id.06MIL1190.seq_reps.1', 'site.06.iso.1.subject.06TB_0002.lab_id.06MIL1190.seq_reps.1'], dtype='object', name='ORIGINAL_UID')\n",
      "2 Index(['site.06.iso.1.subject.06TB_0002.lab_id.06MIL1011.seq_reps.1', 'site.06.iso.1.subject.06TB_0002.lab_id.06MIL1011.seq_reps.1'], dtype='object', name='ORIGINAL_UID')\n",
      "2 Index(['site.06.iso.1.subject.06TB_0002.lab_id.06MIL0876.seq_reps.1', 'site.06.iso.1.subject.06TB_0002.lab_id.06MIL0876.seq_reps.1'], dtype='object', name='ORIGINAL_UID')\n",
      "2 Index(['site.06.iso.1.subject.06TB_0002.lab_id.06MIL0463.seq_reps.1', 'site.06.iso.1.subject.06TB_0002.lab_id.06MIL0463.seq_reps.1'], dtype='object', name='ORIGINAL_UID')\n",
      "2 Index(['site.06.iso.1.subject.06TB_0002.lab_id.06MIL0859.seq_reps.1', 'site.06.iso.1.subject.06TB_0002.lab_id.06MIL0859.seq_reps.1'], dtype='object', name='ORIGINAL_UID')\n",
      "2 Index(['site.06.iso.1.subject.06TB_0849.lab_id.06MIL1797.seq_reps.1', 'site.06.iso.1.subject.06TB_0849.lab_id.06MIL1797.seq_reps.1'], dtype='object', name='ORIGINAL_UID')\n",
      "2 Index(['site.03.iso.1.subject.10864.lab_id.IML-00988.seq_reps.1', 'site.03.iso.1.subject.10864.lab_id.IML-00988.seq_reps.1'], dtype='object', name='ORIGINAL_UID')\n",
      "2 Index(['site.03.iso.1.subject.T8393.lab_id.IML00155.seq_reps.1', 'site.03.iso.1.subject.T8393.lab_id.IML00155.seq_reps.1'], dtype='object', name='ORIGINAL_UID')\n",
      "2 Index(['site.03.iso.1.subject.UA21-2017.lab_id.UA21-2017.seq_reps.1', 'site.03.iso.1.subject.UA21-2017.lab_id.UA21-2017.seq_reps.1'], dtype='object', name='ORIGINAL_UID')\n",
      "2 Index(['site.11.iso.1.subject.XTB_18-073.lab_id.XTB_18-073.seq_reps.1', 'site.11.iso.1.subject.XTB_18-073.lab_id.XTB_18-073.seq_reps.1'], dtype='object', name='ORIGINAL_UID')\n",
      "2 Index(['site.03.iso.1.subject.GB-94340127.lab_id.IML-01923.seq_reps.1', 'site.03.iso.1.subject.GB-94340127.lab_id.IML-01923.seq_reps.1'], dtype='object', name='ORIGINAL_UID')\n",
      "2 Index(['site.03.iso.1.subject.T2440.lab_id.IML-00042.seq_reps.1', 'site.03.iso.1.subject.T2440.lab_id.IML-00042.seq_reps.1'], dtype='object', name='ORIGINAL_UID')\n",
      "2 Index(['site.11.iso.1.subject.XTB_17-516.lab_id.XTB_17-516.seq_reps.1', 'site.11.iso.1.subject.XTB_17-516.lab_id.XTB_17-516.seq_reps.1'], dtype='object', name='ORIGINAL_UID')\n",
      "2 Index(['site.11.iso.1.subject.XTB_17-563.lab_id.XTB_17-563.seq_reps.1', 'site.11.iso.1.subject.XTB_17-563.lab_id.XTB_17-563.seq_reps.1'], dtype='object', name='ORIGINAL_UID')\n",
      "2 Index(['site.11.iso.1.subject.XTB_18-034.lab_id.XTB_18-034.seq_reps.1_2', 'site.11.iso.1.subject.XTB_18-034.lab_id.XTB_18-034.seq_reps.1_2'], dtype='object', name='ORIGINAL_UID')\n",
      "2 Index(['site.11.iso.1.subject.XTB-18-248.lab_id.XTB-18-248.seq_reps.1', 'site.11.iso.1.subject.XTB-18-248.lab_id.XTB-18-248.seq_reps.1'], dtype='object', name='ORIGINAL_UID')\n",
      "2 Index(['site.11.iso.1.subject.XTB_18-095.lab_id.XTB_18-095.seq_reps.1', 'site.11.iso.1.subject.XTB_18-095.lab_id.XTB_18-095.seq_reps.1'], dtype='object', name='ORIGINAL_UID')\n",
      "2 Index(['site.11.iso.1.subject.XTB_17-540.lab_id.XTB_17-540.seq_reps.1', 'site.11.iso.1.subject.XTB_17-540.lab_id.XTB_17-540.seq_reps.1'], dtype='object', name='ORIGINAL_UID')\n",
      "2 Index(['site.11.iso.1.subject.XTB_17-598.lab_id.XTB_17-598.seq_reps.1_2', 'site.11.iso.1.subject.XTB_17-598.lab_id.XTB_17-598.seq_reps.1_2'], dtype='object', name='ORIGINAL_UID')\n",
      "2 Index(['site.11.iso.1.subject.XTB_17-099.lab_id.XTB_17-099.seq_reps.1', 'site.11.iso.1.subject.XTB_17-099.lab_id.XTB_17-099.seq_reps.1'], dtype='object', name='ORIGINAL_UID')\n",
      "2 Index(['site.11.iso.1.subject.XTB_17-617.lab_id.XTB_17-617.seq_reps.1_2', 'site.11.iso.1.subject.XTB_17-617.lab_id.XTB_17-617.seq_reps.1_2'], dtype='object', name='ORIGINAL_UID')\n",
      "2 Index(['site.06.iso.1.subject.13348.lab_id.06MIL2173.seq_reps.1', 'site.06.iso.1.subject.13348.lab_id.06MIL2173.seq_reps.1'], dtype='object', name='ORIGINAL_UID')\n",
      "2 Index(['site.11.iso.1.subject.XTB_17-534.lab_id.XTB_17-534.seq_reps.1', 'site.11.iso.1.subject.XTB_17-534.lab_id.XTB_17-534.seq_reps.1'], dtype='object', name='ORIGINAL_UID')\n",
      "2 Index(['site.11.iso.1.subject.XTB_18-038.lab_id.XTB_18-038.seq_reps.1_2', 'site.11.iso.1.subject.XTB_18-038.lab_id.XTB_18-038.seq_reps.1_2'], dtype='object', name='ORIGINAL_UID')\n",
      "2 Index(['site.11.iso.1.subject.XTB-18-254.lab_id.XTB-18-254.seq_reps.1', 'site.11.iso.1.subject.XTB-18-254.lab_id.XTB-18-254.seq_reps.1'], dtype='object', name='ORIGINAL_UID')\n",
      "2 Index(['site.11.iso.1.subject.XTB_17-499.lab_id.XTB_17-499.seq_reps.1_2', 'site.11.iso.1.subject.XTB_17-499.lab_id.XTB_17-499.seq_reps.1_2'], dtype='object', name='ORIGINAL_UID')\n",
      "2 Index(['site.11.iso.1.subject.XTB_17-531.lab_id.XTB_17-531.seq_reps.1_2', 'site.11.iso.1.subject.XTB_17-531.lab_id.XTB_17-531.seq_reps.1_2'], dtype='object', name='ORIGINAL_UID')\n",
      "2 Index(['site.11.iso.1.subject.XTB_17-578.lab_id.XTB_17-578.seq_reps.1', 'site.11.iso.1.subject.XTB_17-578.lab_id.XTB_17-578.seq_reps.1'], dtype='object', name='ORIGINAL_UID')\n",
      "2 Index(['site.11.iso.1.subject.XTB_17-183.lab_id.XTB_17-183.seq_reps.1', 'site.11.iso.1.subject.XTB_17-183.lab_id.XTB_17-183.seq_reps.1'], dtype='object', name='ORIGINAL_UID')\n",
      "2 Index(['site.11.iso.1.subject.XTB_17-606.lab_id.XTB_17-606.seq_reps.1_2', 'site.11.iso.1.subject.XTB_17-606.lab_id.XTB_17-606.seq_reps.1_2'], dtype='object', name='ORIGINAL_UID')\n",
      "2 Index(['site.11.iso.1.subject.XTB-18-159.lab_id.XTB-18-159.seq_reps.1', 'site.11.iso.1.subject.XTB-18-159.lab_id.XTB-18-159.seq_reps.1'], dtype='object', name='ORIGINAL_UID')\n",
      "2 Index(['site.11.iso.1.subject.XTB-18-160.lab_id.XTB-18-160.seq_reps.1', 'site.11.iso.1.subject.XTB-18-160.lab_id.XTB-18-160.seq_reps.1'], dtype='object', name='ORIGINAL_UID')\n",
      "2 Index(['site.11.iso.1.subject.XTB_17-148.lab_id.XTB_17-148.seq_reps.1', 'site.11.iso.1.subject.XTB_17-148.lab_id.XTB_17-148.seq_reps.1'], dtype='object', name='ORIGINAL_UID')\n",
      "2 Index(['site.11.iso.1.subject.XTB_17-596.lab_id.XTB_17-596.seq_reps.1_2', 'site.11.iso.1.subject.XTB_17-596.lab_id.XTB_17-596.seq_reps.1_2'], dtype='object', name='ORIGINAL_UID')\n",
      "2 Index(['site.03.iso.1.subject.BOR-6874-17.lab_id.6874-17.seq_reps.1', 'site.03.iso.1.subject.BOR-6874-17.lab_id.6874-17.seq_reps.1'], dtype='object', name='ORIGINAL_UID')\n",
      "2 Index(['site.06.iso.1.subject.PIMS_0012-14.lab_id.06MIL0028.seq_reps.1', 'site.06.iso.1.subject.PIMS_0012-14.lab_id.06MIL0028.seq_reps.1'], dtype='object', name='ORIGINAL_UID')\n",
      "2 Index(['site.06.iso.1.subject.SSM_0149-14.lab_id.06MIL0322.seq_reps.1', 'site.06.iso.1.subject.SSM_0149-14.lab_id.06MIL0322.seq_reps.1'], dtype='object', name='ORIGINAL_UID')\n",
      "2 Index(['site.03.iso.1.subject.UA8-2017.lab_id.UA8-2017.seq_reps.1', 'site.03.iso.1.subject.UA8-2017.lab_id.UA8-2017.seq_reps.1'], dtype='object', name='ORIGINAL_UID')\n",
      "2 Index(['site.06.iso.1.subject.06TB_0145.lab_id.06MIL0606.seq_reps.1', 'site.06.iso.1.subject.06TB_0145.lab_id.06MIL0606.seq_reps.1'], dtype='object', name='ORIGINAL_UID')\n",
      "2 Index(['site.06.iso.1.subject.06TB_0655.lab_id.06MIL1586.seq_reps.1', 'site.06.iso.1.subject.06TB_0655.lab_id.06MIL1586.seq_reps.1'], dtype='object', name='ORIGINAL_UID')\n",
      "2 Index(['site.03.iso.1.subject.T2650.lab_id.IML-00047.seq_reps.1', 'site.03.iso.1.subject.T2650.lab_id.IML-00047.seq_reps.1'], dtype='object', name='ORIGINAL_UID')\n",
      "2 Index(['site.03.iso.1.subject.11120.lab_id.IML-00804.seq_reps.1', 'site.03.iso.1.subject.11120.lab_id.IML-00804.seq_reps.1'], dtype='object', name='ORIGINAL_UID')\n",
      "2 Index(['site.03.iso.1.subject.11064.lab_id.IML-00970.seq_reps.1', 'site.03.iso.1.subject.11064.lab_id.IML-00970.seq_reps.1'], dtype='object', name='ORIGINAL_UID')\n",
      "2 Index(['site.03.iso.1.subject.11134.lab_id.IML-00807.seq_reps.1', 'site.03.iso.1.subject.11134.lab_id.IML-00807.seq_reps.1'], dtype='object', name='ORIGINAL_UID')\n",
      "2 Index(['site.11.iso.1.subject.XTB_17-562.lab_id.XTB_17-562.seq_reps.1', 'site.11.iso.1.subject.XTB_17-562.lab_id.XTB_17-562.seq_reps.1'], dtype='object', name='ORIGINAL_UID')\n",
      "2 Index(['site.11.iso.1.subject.XTB_18-036.lab_id.XTB_18-036.seq_reps.1_2', 'site.11.iso.1.subject.XTB_18-036.lab_id.XTB_18-036.seq_reps.1_2'], dtype='object', name='ORIGINAL_UID')\n",
      "2 Index(['site.11.iso.1.subject.XTB_17-155.lab_id.XTB_17-155.seq_reps.1', 'site.11.iso.1.subject.XTB_17-155.lab_id.XTB_17-155.seq_reps.1'], dtype='object', name='ORIGINAL_UID')\n",
      "2 Index(['site.11.iso.1.subject.XTB_17-549.lab_id.XTB_17-549.seq_reps.1', 'site.11.iso.1.subject.XTB_17-549.lab_id.XTB_17-549.seq_reps.1'], dtype='object', name='ORIGINAL_UID')\n",
      "2 Index(['site.11.iso.1.subject.XTB_17-203.lab_id.XTB_17-203.seq_reps.1', 'site.11.iso.1.subject.XTB_17-203.lab_id.XTB_17-203.seq_reps.1'], dtype='object', name='ORIGINAL_UID')\n",
      "2 Index(['site.11.iso.1.subject.XTB_18-010.lab_id.XTB_18-010.seq_reps.1_2', 'site.11.iso.1.subject.XTB_18-010.lab_id.XTB_18-010.seq_reps.1_2'], dtype='object', name='ORIGINAL_UID')\n",
      "2 Index(['site.03.iso.1.subject.T6548.lab_id.IML-00103.seq_reps.1', 'site.03.iso.1.subject.T6548.lab_id.IML-00103.seq_reps.1'], dtype='object', name='ORIGINAL_UID')\n",
      "2 Index(['site.03.iso.1.subject.T4475.lab_id.IML-00058.seq_reps.1', 'site.03.iso.1.subject.T4475.lab_id.IML-00058.seq_reps.1'], dtype='object', name='ORIGINAL_UID')"
     ]
    },
    {
     "name": "stderr",
     "output_type": "stream",
     "text": [
      " 29%|██████████▌                         | 8896/30454 [00:07<00:18, 1136.64it/s]"
     ]
    },
    {
     "name": "stdout",
     "output_type": "stream",
     "text": [
      "\n",
      "2 Index(['site.03.iso.1.subject.GB-84210116.lab_id.IML-01914.seq_reps.1', 'site.03.iso.1.subject.GB-84210116.lab_id.IML-01914.seq_reps.1'], dtype='object', name='ORIGINAL_UID')\n",
      "2 Index(['site.03.iso.1.subject.BOR-18007016.lab_id.IML-00185.seq_reps.1', 'site.03.iso.1.subject.BOR-18007016.lab_id.IML-00185.seq_reps.1'], dtype='object', name='ORIGINAL_UID')\n",
      "2 Index(['site.03.iso.1.subject.GB-82760043.lab_id.82760043.seq_reps.1', 'site.03.iso.1.subject.GB-82760043.lab_id.82760043.seq_reps.1'], dtype='object', name='ORIGINAL_UID')\n",
      "2 Index(['site.03.iso.1.subject.KGZ-6834-2018.lab_id.6834-2018.seq_reps.1', 'site.03.iso.1.subject.KGZ-6834-2018.lab_id.6834-2018.seq_reps.1'], dtype='object', name='ORIGINAL_UID')\n",
      "2 Index(['site.03.iso.1.subject.T1607.lab_id.IML-00025.seq_reps.1', 'site.03.iso.1.subject.T1607.lab_id.IML-00025.seq_reps.1'], dtype='object', name='ORIGINAL_UID')\n",
      "2 Index(['site.03.iso.1.subject.10743.lab_id.IML-01013.seq_reps.1', 'site.03.iso.1.subject.10743.lab_id.IML-01013.seq_reps.1'], dtype='object', name='ORIGINAL_UID')\n",
      "2 Index(['site.03.iso.1.subject.10368.lab_id.IML-00989.seq_reps.1', 'site.03.iso.1.subject.10368.lab_id.IML-00989.seq_reps.1'], dtype='object', name='ORIGINAL_UID')\n",
      "2 Index(['site.03.iso.1.subject.10926.lab_id.IML-01000.seq_reps.1', 'site.03.iso.1.subject.10926.lab_id.IML-01000.seq_reps.1'], dtype='object', name='ORIGINAL_UID')\n",
      "2 Index(['site.03.iso.1.subject.T9006.lab_id.IML00178.seq_reps.1', 'site.03.iso.1.subject.T9006.lab_id.IML00178.seq_reps.1'], dtype='object', name='ORIGINAL_UID')\n",
      "2 Index(['site.03.iso.1.subject.GB-84730088.lab_id.84730088.seq_reps.1', 'site.03.iso.1.subject.GB-84730088.lab_id.84730088.seq_reps.1'], dtype='object', name='ORIGINAL_UID')\n",
      "2 Index(['site.11.iso.1.subject.XTB-18-253.lab_id.XTB-18-253.seq_reps.1', 'site.11.iso.1.subject.XTB-18-253.lab_id.XTB-18-253.seq_reps.1'], dtype='object', name='ORIGINAL_UID')\n",
      "2 Index(['site.11.iso.1.subject.XTB_17-560.lab_id.XTB_17-560.seq_reps.1', 'site.11.iso.1.subject.XTB_17-560.lab_id.XTB_17-560.seq_reps.1'], dtype='object', name='ORIGINAL_UID')\n",
      "2 Index(['site.11.iso.1.subject.XTB_17-619.lab_id.XTB_17-619.seq_reps.1_2', 'site.11.iso.1.subject.XTB_17-619.lab_id.XTB_17-619.seq_reps.1_2'], dtype='object', name='ORIGINAL_UID')\n",
      "2 Index(['site.11.iso.1.subject.XTB_17-577.lab_id.XTB_17-577.seq_reps.1_2_3', 'site.11.iso.1.subject.XTB_17-577.lab_id.XTB_17-577.seq_reps.1_2_3'], dtype='object', name='ORIGINAL_UID')\n",
      "2 Index(['site.11.iso.1.subject.XTB_18-006.lab_id.XTB_18-006.seq_reps.1_2', 'site.11.iso.1.subject.XTB_18-006.lab_id.XTB_18-006.seq_reps.1_2'], dtype='object', name='ORIGINAL_UID')\n",
      "2 Index(['site.03.iso.1.subject.T8389.lab_id.IML00154.seq_reps.1', 'site.03.iso.1.subject.T8389.lab_id.IML00154.seq_reps.1'], dtype='object', name='ORIGINAL_UID')\n",
      "2 Index(['site.11.iso.1.subject.MDR134.lab_id.SWE-105.seq_reps.1_2_3_4', 'site.11.iso.1.subject.MDR134.lab_id.SWE-105.seq_reps.1_2_3_4'], dtype='object', name='ORIGINAL_UID')\n",
      "2 Index(['site.11.iso.1.subject.MDR075.lab_id.SWE-60.seq_reps.1_2_3_4', 'site.11.iso.1.subject.MDR075.lab_id.SWE-60.seq_reps.1_2_3_4'], dtype='object', name='ORIGINAL_UID')\n",
      "2 Index(['site.06.iso.1.subject.06TB_0115.lab_id.06MIL1028.seq_reps.1', 'site.06.iso.1.subject.06TB_0115.lab_id.06MIL1028.seq_reps.1'], dtype='object', name='ORIGINAL_UID')\n",
      "2 Index(['site.03.iso.1.subject.T4666.lab_id.IML-00062.seq_reps.1', 'site.03.iso.1.subject.T4666.lab_id.IML-00062.seq_reps.1'], dtype='object', name='ORIGINAL_UID')\n",
      "2 Index(['site.03.iso.1.subject.KGZ-7919-2018.lab_id.7919-2018.seq_reps.1', 'site.03.iso.1.subject.KGZ-7919-2018.lab_id.7919-2018.seq_reps.1'], dtype='object', name='ORIGINAL_UID')\n",
      "2 Index(['site.03.iso.1.subject.BOR-19000369.lab_id.IML-01767.seq_reps.1', 'site.03.iso.1.subject.BOR-19000369.lab_id.IML-01767.seq_reps.1'], dtype='object', name='ORIGINAL_UID')\n",
      "2 Index(['site.03.iso.1.subject.T6134.lab_id.IML-00091.seq_reps.1', 'site.03.iso.1.subject.T6134.lab_id.IML-00091.seq_reps.1'], dtype='object', name='ORIGINAL_UID')\n",
      "2 Index(['site.11.iso.1.subject.MDR163.lab_id.SWE-131.seq_reps.1_2_3_4', 'site.11.iso.1.subject.MDR163.lab_id.SWE-131.seq_reps.1_2_3_4'], dtype='object', name='ORIGINAL_UID')\n",
      "2 Index(['site.03.iso.1.subject.10208.lab_id.IML-01017.seq_reps.1', 'site.03.iso.1.subject.10208.lab_id.IML-01017.seq_reps.1'], dtype='object', name='ORIGINAL_UID')\n",
      "2 Index(['site.03.iso.1.subject.10303.lab_id.IML-00999.seq_reps.1', 'site.03.iso.1.subject.10303.lab_id.IML-00999.seq_reps.1'], dtype='object', name='ORIGINAL_UID')\n",
      "2 Index(['site.03.iso.1.subject.10585.lab_id.IML-00986.seq_reps.1', 'site.03.iso.1.subject.10585.lab_id.IML-00986.seq_reps.1'], dtype='object', name='ORIGINAL_UID')\n",
      "2 Index(['site.03.iso.1.subject.11122.lab_id.IML-00805.seq_reps.1', 'site.03.iso.1.subject.11122.lab_id.IML-00805.seq_reps.1'], dtype='object', name='ORIGINAL_UID')\n",
      "2 Index(['site.03.iso.1.subject.11164.lab_id.IML-00981.seq_reps.1', 'site.03.iso.1.subject.11164.lab_id.IML-00981.seq_reps.1'], dtype='object', name='ORIGINAL_UID')\n",
      "2 Index(['site.03.iso.1.subject.11067.lab_id.IML-00980.seq_reps.1', 'site.03.iso.1.subject.11067.lab_id.IML-00980.seq_reps.1'], dtype='object', name='ORIGINAL_UID')\n",
      "2 Index(['site.03.iso.1.subject.11088.lab_id.IML-00802.seq_reps.1', 'site.03.iso.1.subject.11088.lab_id.IML-00802.seq_reps.1'], dtype='object', name='ORIGINAL_UID')\n",
      "2 Index(['site.03.iso.1.subject.11108.lab_id.IML-00803.seq_reps.1', 'site.03.iso.1.subject.11108.lab_id.IML-00803.seq_reps.1'], dtype='object', name='ORIGINAL_UID')\n",
      "2 Index(['site.03.iso.1.subject.11123.lab_id.IML-00806.seq_reps.1', 'site.03.iso.1.subject.11123.lab_id.IML-00806.seq_reps.1'], dtype='object', name='ORIGINAL_UID')\n",
      "2 Index(['site.03.iso.1.subject.10587.lab_id.IML-00984.seq_reps.1', 'site.03.iso.1.subject.10587.lab_id.IML-00984.seq_reps.1'], dtype='object', name='ORIGINAL_UID')\n",
      "2 Index(['site.03.iso.1.subject.10676.lab_id.IML-00968.seq_reps.1', 'site.03.iso.1.subject.10676.lab_id.IML-00968.seq_reps.1'], dtype='object', name='ORIGINAL_UID')\n",
      "2 Index(['site.03.iso.1.subject.10831.lab_id.IML-00979.seq_reps.1', 'site.03.iso.1.subject.10831.lab_id.IML-00979.seq_reps.1'], dtype='object', name='ORIGINAL_UID')\n",
      "2 Index(['site.03.iso.1.subject.11043.lab_id.IML-01051.seq_reps.1', 'site.03.iso.1.subject.11043.lab_id.IML-01051.seq_reps.1'], dtype='object', name='ORIGINAL_UID')\n",
      "2 Index(['site.03.iso.1.subject.10586.lab_id.IML-01018.seq_reps.1', 'site.03.iso.1.subject.10586.lab_id.IML-01018.seq_reps.1'], dtype='object', name='ORIGINAL_UID')\n",
      "2 Index(['site.06.iso.1.subject.IR13.lab_id.06MIL1837.seq_reps.1', 'site.06.iso.1.subject.IR13.lab_id.06MIL1837.seq_reps.1'], dtype='object', name='ORIGINAL_UID')\n",
      "2 Index(['site.03.iso.1.subject.10120.lab_id.IML-01041.seq_reps.1', 'site.03.iso.1.subject.10120.lab_id.IML-01041.seq_reps.1'], dtype='object', name='ORIGINAL_UID')\n",
      "2 Index(['site.03.iso.1.subject.10307.lab_id.IML-00969.seq_reps.1', 'site.03.iso.1.subject.10307.lab_id.IML-00969.seq_reps.1'], dtype='object', name='ORIGINAL_UID')\n",
      "2 Index(['site.03.iso.1.subject.11030.lab_id.IML-00824.seq_reps.1', 'site.03.iso.1.subject.11030.lab_id.IML-00824.seq_reps.1'], dtype='object', name='ORIGINAL_UID')\n",
      "2 Index(['site.03.iso.1.subject.10914.lab_id.IML-01028.seq_reps.1', 'site.03.iso.1.subject.10914.lab_id.IML-01028.seq_reps.1'], dtype='object', name='ORIGINAL_UID')\n",
      "2 Index(['site.03.iso.1.subject.11077.lab_id.IML-00978.seq_reps.1', 'site.03.iso.1.subject.11077.lab_id.IML-00978.seq_reps.1'], dtype='object', name='ORIGINAL_UID')\n",
      "2 Index(['site.03.iso.1.subject.11147.lab_id.IML-00809.seq_reps.1', 'site.03.iso.1.subject.11147.lab_id.IML-00809.seq_reps.1'], dtype='object', name='ORIGINAL_UID')\n",
      "2 Index(['site.02.iso.1.subject.1182.lab_id.2014291035.seq_reps.2014291035', 'site.02.iso.1.subject.1182.lab_id.2014291035.seq_reps.2014291035'], dtype='object', name='ORIGINAL_UID')\n"
     ]
    },
    {
     "name": "stderr",
     "output_type": "stream",
     "text": [
      " 30%|███████████                          | 9135/30454 [00:07<00:21, 969.89it/s]"
     ]
    },
    {
     "name": "stdout",
     "output_type": "stream",
     "text": [
      "3 Index(['site.06.iso.1.subject.PIMS_0020-14.lab_id.06MIL0109.seq_reps.1',\n",
      "       'site.06.iso.1.subject.PIMS_0020-14.lab_id.06MIL0109.seq_reps.1',\n",
      "       'site.06.iso.1.subject.PIMS_0020-14.lab_id.06MIL0109.seq_reps.1'],\n",
      "      dtype='object', name='ORIGINAL_UID')\n",
      "2 Index(['site.02.iso.1.subject.0063.lab_id.22A013.seq_reps.13', 'site.02.iso.1.subject.0063.lab_id.22A013.seq_reps.13'], dtype='object', name='ORIGINAL_UID')\n",
      "2 Index(['site.02.iso.1.subject.0949.lab_id.22A184.seq_reps.184', 'site.02.iso.1.subject.0949.lab_id.22A184.seq_reps.184'], dtype='object', name='ORIGINAL_UID')\n"
     ]
    },
    {
     "name": "stderr",
     "output_type": "stream",
     "text": [
      " 31%|███████████▍                         | 9463/30454 [00:08<00:21, 990.38it/s]"
     ]
    },
    {
     "name": "stdout",
     "output_type": "stream",
     "text": [
      "2 Index(['site.03.iso.1.subject.JPN-R2012-00021.lab_id.03-JPN-R2012-0021.seq_reps.1', 'site.03.iso.1.subject.JPN-R2012-00021.lab_id.03-JPN-R2012-0021.seq_reps.1'], dtype='object', name='ORIGINAL_UID')\n",
      "2 Index(['site.02.iso.1.subject.0970.lab_id.22A210.seq_reps.210', 'site.02.iso.1.subject.0970.lab_id.22A210.seq_reps.210'], dtype='object', name='ORIGINAL_UID')\n",
      "2 Index(['site.08.iso.1.subject.02TB0159.lab_id.16990.seq_reps.1', 'site.08.iso.1.subject.02TB0159.lab_id.16990.seq_reps.1'], dtype='object', name='ORIGINAL_UID')\n",
      "2 Index(['site.08.iso.1.subject.02TB0159.lab_id.17585.seq_reps.1', 'site.08.iso.1.subject.02TB0159.lab_id.17585.seq_reps.1'], dtype='object', name='ORIGINAL_UID')\n"
     ]
    },
    {
     "name": "stderr",
     "output_type": "stream",
     "text": [
      " 32%|███████████▌                        | 9777/30454 [00:08<00:20, 1005.87it/s]"
     ]
    },
    {
     "name": "stdout",
     "output_type": "stream",
     "text": [
      "2 Index(['site.13.iso.1.subject.110300280.lab_id.110300280.seq_reps.1', 'site.13.iso.1.subject.110300280.lab_id.110300280.seq_reps.1'], dtype='object', name='ORIGINAL_UID')\n",
      "2 Index(['site.06.iso.1.subject.AF11681.lab_id.06MIL1559.seq_reps.1', 'site.06.iso.1.subject.AF11681.lab_id.06MIL1559.seq_reps.1'], dtype='object', name='ORIGINAL_UID')\n",
      "2 Index(['site.06.iso.1.subject.OIC-1179.lab_id.06MIL1092.seq_reps.1', 'site.06.iso.1.subject.OIC-1179.lab_id.06MIL1092.seq_reps.1'], dtype='object', name='ORIGINAL_UID')\n",
      "2 Index(['site.04.iso.1.subject.00276.lab_id.T-4091.seq_reps.1', 'site.04.iso.1.subject.00276.lab_id.T-4091.seq_reps.1'], dtype='object', name='ORIGINAL_UID')\n",
      "3 Index(['site.02.iso.1.subject.0070.lab_id.22A021.seq_reps.21',\n",
      "       'site.02.iso.1.subject.0070.lab_id.22A021.seq_reps.21',\n",
      "       'site.02.iso.1.subject.0070.lab_id.22A021.seq_reps.21'],\n",
      "      dtype='object', name='ORIGINAL_UID')\n",
      "3 Index(['site.02.iso.1.subject.0183.lab_id.2013222280.seq_reps.2013222280',\n",
      "       'site.02.iso.1.subject.0183.lab_id.2013222280.seq_reps.2013222280',\n",
      "       'site.02.iso.1.subject.0183.lab_id.2013222280.seq_reps.2013222280'],\n",
      "      dtype='object', name='ORIGINAL_UID')\n",
      "2 Index(['site.02.iso.1.subject.0460.lab_id.222009-14.seq_reps.14222009', 'site.02.iso.1.subject.0460.lab_id.222009-14.seq_reps.14222009'], dtype='object', name='ORIGINAL_UID')\n",
      "2 Index(['site.02.iso.1.subject.0945.lab_id.22A180.seq_reps.180', 'site.02.iso.1.subject.0945.lab_id.22A180.seq_reps.180'], dtype='object', name='ORIGINAL_UID')\n"
     ]
    },
    {
     "name": "stderr",
     "output_type": "stream",
     "text": [
      " 35%|████████████▎                      | 10688/30454 [00:09<00:17, 1106.74it/s]"
     ]
    },
    {
     "name": "stdout",
     "output_type": "stream",
     "text": [
      "2 Index(['site.08.iso.1.subject.02TB2486.lab_id.26519.seq_reps.1', 'site.08.iso.1.subject.02TB2486.lab_id.26519.seq_reps.1'], dtype='object', name='ORIGINAL_UID')\n",
      "2 Index(['site.03.iso.1.subject.JPN-R2012-0029.lab_id.JPN-R2012-0029.seq_reps.1', 'site.03.iso.1.subject.JPN-R2012-0029.lab_id.JPN-R2012-0029.seq_reps.1'], dtype='object', name='ORIGINAL_UID')\n",
      "2 Index(['site.08.iso.1.subject.DTU-059.lab_id.2159.seq_reps.1', 'site.08.iso.1.subject.DTU-059.lab_id.2159.seq_reps.1'], dtype='object', name='ORIGINAL_UID')\n"
     ]
    },
    {
     "name": "stderr",
     "output_type": "stream",
     "text": [
      " 36%|████████████▋                      | 11062/30454 [00:09<00:16, 1204.46it/s]"
     ]
    },
    {
     "name": "stdout",
     "output_type": "stream",
     "text": [
      "2 Index(['site.10.iso.1.subject.UH00075855.lab_id.UH00075855.seq_reps.1', 'site.10.iso.1.subject.UH00075855.lab_id.UH00075855.seq_reps.1'], dtype='object', name='ORIGINAL_UID')\n",
      "2 Index(['site.10.iso.1.subject.YA00027786.lab_id.YA00027786.seq_reps.1', 'site.10.iso.1.subject.YA00027786.lab_id.YA00027786.seq_reps.1'], dtype='object', name='ORIGINAL_UID')\n",
      "2 Index(['site.10.iso.1.subject.YA00027931.lab_id.YA00027931.seq_reps.1', 'site.10.iso.1.subject.YA00027931.lab_id.YA00027931.seq_reps.1'], dtype='object', name='ORIGINAL_UID')\n",
      "2 Index(['site.10.iso.1.subject.YA00053736.lab_id.YA00053736.seq_reps.1', 'site.10.iso.1.subject.YA00053736.lab_id.YA00053736.seq_reps.1'], dtype='object', name='ORIGINAL_UID')\n"
     ]
    },
    {
     "name": "stderr",
     "output_type": "stream",
     "text": [
      " 40%|██████████████▎                     | 12086/30454 [00:10<00:18, 998.83it/s]"
     ]
    },
    {
     "name": "stdout",
     "output_type": "stream",
     "text": [
      "2 Index(['site.06.iso.1.subject.MHL_0129-15.lab_id.06MIL0018.seq_reps.1', 'site.06.iso.1.subject.MHL_0129-15.lab_id.06MIL0018.seq_reps.1'], dtype='object', name='ORIGINAL_UID')\n",
      "2 Index(['site.06.iso.1.subject.ATH_0074-14.lab_id.06MIL0217.seq_reps.1', 'site.06.iso.1.subject.ATH_0074-14.lab_id.06MIL0217.seq_reps.1'], dtype='object', name='ORIGINAL_UID')\n",
      "2 Index(['site.21.iso.1.subject.006.lab_id.MR304907G.seq_reps.1', 'site.21.iso.1.subject.006.lab_id.MR304907G.seq_reps.1'], dtype='object', name='ORIGINAL_UID')\n",
      "2 Index(['site.04.iso.1.subject.01199.lab_id.720017.seq_reps.1', 'site.04.iso.1.subject.01199.lab_id.720017.seq_reps.1'], dtype='object', name='ORIGINAL_UID')\n",
      "2 Index(['site.04.iso.1.subject.03339.lab_id.826118.seq_reps.1', 'site.04.iso.1.subject.03339.lab_id.826118.seq_reps.1'], dtype='object', name='ORIGINAL_UID')\n",
      "2 Index(['site.04.iso.1.subject.00254.lab_id.702164.seq_reps.1', 'site.04.iso.1.subject.00254.lab_id.702164.seq_reps.1'], dtype='object', name='ORIGINAL_UID')\n"
     ]
    },
    {
     "name": "stderr",
     "output_type": "stream",
     "text": [
      " 40%|██████████████▌                     | 12288/30454 [00:10<00:18, 988.07it/s]"
     ]
    },
    {
     "name": "stdout",
     "output_type": "stream",
     "text": [
      "2 Index(['site.04.iso.1.subject.02824.lab_id.819313.seq_reps.1', 'site.04.iso.1.subject.02824.lab_id.819313.seq_reps.1'], dtype='object', name='ORIGINAL_UID')\n",
      "2 Index(['site.11.iso.1.subject.MDR054.lab_id.SWE-42.seq_reps.1_2_3_4', 'site.11.iso.1.subject.MDR054.lab_id.SWE-42.seq_reps.1_2_3_4'], dtype='object', name='ORIGINAL_UID')\n",
      "2 Index(['site.06.iso.1.subject.NHM_0299-14.lab_id.06MIL0387.seq_reps.1', 'site.06.iso.1.subject.NHM_0299-14.lab_id.06MIL0387.seq_reps.1'], dtype='object', name='ORIGINAL_UID')\n"
     ]
    },
    {
     "name": "stderr",
     "output_type": "stream",
     "text": [
      " 41%|██████████████▌                    | 12636/30454 [00:11<00:16, 1098.57it/s]"
     ]
    },
    {
     "name": "stdout",
     "output_type": "stream",
     "text": [
      "2 Index(['site.06.iso.1.subject.IHK-1155.lab_id.06MIL1085.seq_reps.1', 'site.06.iso.1.subject.IHK-1155.lab_id.06MIL1085.seq_reps.1'], dtype='object', name='ORIGINAL_UID')\n",
      "2 Index(['site.06.iso.1.subject.MHL_0146-14.lab_id.06MIL0051.seq_reps.1', 'site.06.iso.1.subject.MHL_0146-14.lab_id.06MIL0051.seq_reps.1'], dtype='object', name='ORIGINAL_UID')\n"
     ]
    },
    {
     "name": "stderr",
     "output_type": "stream",
     "text": [
      " 42%|██████████████▊                    | 12865/30454 [00:11<00:15, 1119.06it/s]"
     ]
    },
    {
     "name": "stdout",
     "output_type": "stream",
     "text": [
      "2 Index(['site.06.iso.1.subject.SGD_0061-14.lab_id.06MIL0262.seq_reps.1', 'site.06.iso.1.subject.SGD_0061-14.lab_id.06MIL0262.seq_reps.1'], dtype='object', name='ORIGINAL_UID')\n",
      "2 Index(['site.04.iso.1.subject.01761.lab_id.732277.seq_reps.1', 'site.04.iso.1.subject.01761.lab_id.732277.seq_reps.1'], dtype='object', name='ORIGINAL_UID')\n",
      "2 Index(['site.04.iso.1.subject.02167.lab_id.804933.seq_reps.1', 'site.04.iso.1.subject.02167.lab_id.804933.seq_reps.1'], dtype='object', name='ORIGINAL_UID')\n",
      "2 Index(['site.06.iso.1.subject.MHL_0241-14.lab_id.06MIL0460.seq_reps.1', 'site.06.iso.1.subject.MHL_0241-14.lab_id.06MIL0460.seq_reps.1'], dtype='object', name='ORIGINAL_UID')\n"
     ]
    },
    {
     "name": "stderr",
     "output_type": "stream",
     "text": [
      " 44%|███████████████▎                   | 13323/30454 [00:11<00:15, 1118.03it/s]"
     ]
    },
    {
     "name": "stdout",
     "output_type": "stream",
     "text": [
      "2 Index(['site.06.iso.1.subject.SGD_0057-14.lab_id.06MIL0265.seq_reps.1', 'site.06.iso.1.subject.SGD_0057-14.lab_id.06MIL0265.seq_reps.1'], dtype='object', name='ORIGINAL_UID')\n",
      "3 Index(['site.06.iso.1.subject.RLH_0055-15.lab_id.06MIL0058.seq_reps.1',\n",
      "       'site.06.iso.1.subject.RLH_0055-15.lab_id.06MIL0058.seq_reps.1',\n",
      "       'site.06.iso.1.subject.RLH_0055-15.lab_id.06MIL0058.seq_reps.1'],\n",
      "      dtype='object', name='ORIGINAL_UID')\n",
      "2 Index(['site.06.iso.1.subject.ATH_0078-14.lab_id.06MIL0218.seq_reps.1', 'site.06.iso.1.subject.ATH_0078-14.lab_id.06MIL0218.seq_reps.1'], dtype='object', name='ORIGINAL_UID')\n"
     ]
    },
    {
     "name": "stderr",
     "output_type": "stream",
     "text": [
      " 46%|████████████████▏                  | 14037/30454 [00:12<00:13, 1184.39it/s]"
     ]
    },
    {
     "name": "stdout",
     "output_type": "stream",
     "text": [
      "2 Index(['site.06.iso.1.subject.PIMS_0019-14.lab_id.06MIL0181.seq_reps.1', 'site.06.iso.1.subject.PIMS_0019-14.lab_id.06MIL0181.seq_reps.1'], dtype='object', name='ORIGINAL_UID')\n"
     ]
    },
    {
     "name": "stderr",
     "output_type": "stream",
     "text": [
      " 47%|████████████████▌                  | 14400/30454 [00:12<00:13, 1173.47it/s]"
     ]
    },
    {
     "name": "stdout",
     "output_type": "stream",
     "text": [
      "2 Index(['site.06.iso.1.subject.ICK-1180.lab_id.06MIL1093.seq_reps.1', 'site.06.iso.1.subject.ICK-1180.lab_id.06MIL1093.seq_reps.1'], dtype='object', name='ORIGINAL_UID')\n",
      "2 Index(['site.06.iso.1.subject.RLH_0315-14.lab_id.06MIL0370.seq_reps.1', 'site.06.iso.1.subject.RLH_0315-14.lab_id.06MIL0370.seq_reps.1'], dtype='object', name='ORIGINAL_UID')\n",
      "2 Index(['site.06.iso.1.subject.ICK-1174.lab_id.06MIL1090.seq_reps.1', 'site.06.iso.1.subject.ICK-1174.lab_id.06MIL1090.seq_reps.1'], dtype='object', name='ORIGINAL_UID')\n",
      "2 Index(['site.06.iso.1.subject.ICK-1186.lab_id.06MIL1095.seq_reps.1', 'site.06.iso.1.subject.ICK-1186.lab_id.06MIL1095.seq_reps.1'], dtype='object', name='ORIGINAL_UID')\n",
      "2 Index(['site.06.iso.1.subject.IHK-1174.lab_id.06MIL1091.seq_reps.1', 'site.06.iso.1.subject.IHK-1174.lab_id.06MIL1091.seq_reps.1'], dtype='object', name='ORIGINAL_UID')\n",
      "2 Index(['site.06.iso.1.subject.RLH_0269-14.lab_id.06MIL0194.seq_reps.1', 'site.06.iso.1.subject.RLH_0269-14.lab_id.06MIL0194.seq_reps.1'], dtype='object', name='ORIGINAL_UID')\n",
      "2 Index(['site.06.iso.1.subject.RLH_0318-14.lab_id.06MIL0379.seq_reps.1', 'site.06.iso.1.subject.RLH_0318-14.lab_id.06MIL0379.seq_reps.1'], dtype='object', name='ORIGINAL_UID')\n",
      "2 Index(['site.06.iso.1.subject.RLH_0320-14.lab_id.06MIL0378.seq_reps.1', 'site.06.iso.1.subject.RLH_0320-14.lab_id.06MIL0378.seq_reps.1'], dtype='object', name='ORIGINAL_UID')\n",
      "2 Index(['site.04.iso.1.subject.01564.lab_id.729214.seq_reps.1', 'site.04.iso.1.subject.01564.lab_id.729214.seq_reps.1'], dtype='object', name='ORIGINAL_UID')\n",
      "2 Index(['site.04.iso.1.subject.00374.lab_id.630391.seq_reps.1', 'site.04.iso.1.subject.00374.lab_id.630391.seq_reps.1'], dtype='object', name='ORIGINAL_UID')\n",
      "2 Index(['site.04.iso.1.subject.02103.lab_id.804990.seq_reps.1', 'site.04.iso.1.subject.02103.lab_id.804990.seq_reps.1'], dtype='object', name='ORIGINAL_UID')\n",
      "2 Index(['site.04.iso.1.subject.01411.lab_id.20387.seq_reps.1', 'site.04.iso.1.subject.01411.lab_id.20387.seq_reps.1'], dtype='object', name='ORIGINAL_UID')\n"
     ]
    },
    {
     "name": "stderr",
     "output_type": "stream",
     "text": [
      " 49%|█████████████████                  | 14895/30454 [00:13<00:12, 1197.72it/s]"
     ]
    },
    {
     "name": "stdout",
     "output_type": "stream",
     "text": [
      "2 Index(['site.06.iso.1.subject.BVH_0025_14.lab_id.06MIL0340.seq_reps.1', 'site.06.iso.1.subject.BVH_0025_14.lab_id.06MIL0340.seq_reps.1'], dtype='object', name='ORIGINAL_UID')\n",
      "2 Index(['site.06.iso.1.subject.MHL_0234-14.lab_id.06MIL0443.seq_reps.1', 'site.06.iso.1.subject.MHL_0234-14.lab_id.06MIL0443.seq_reps.1'], dtype='object', name='ORIGINAL_UID')\n"
     ]
    },
    {
     "name": "stderr",
     "output_type": "stream",
     "text": [
      " 50%|█████████████████▌                 | 15282/30454 [00:13<00:13, 1146.27it/s]"
     ]
    },
    {
     "name": "stdout",
     "output_type": "stream",
     "text": [
      "2 Index(['site.13.iso.1.subject.180200031.lab_id.180200031.seq_reps.1', 'site.13.iso.1.subject.180200031.lab_id.180200031.seq_reps.1'], dtype='object', name='ORIGINAL_UID')\n",
      "2 Index(['site.03.iso.1.subject.JPN-R2012-0087.lab_id.JPN-R2012-0087.seq_reps.1', 'site.03.iso.1.subject.JPN-R2012-0087.lab_id.JPN-R2012-0087.seq_reps.1'], dtype='object', name='ORIGINAL_UID')\n"
     ]
    },
    {
     "name": "stderr",
     "output_type": "stream",
     "text": [
      " 54%|██████████████████▊                | 16419/30454 [00:14<00:10, 1284.66it/s]"
     ]
    },
    {
     "name": "stdout",
     "output_type": "stream",
     "text": [
      "2 Index(['site.04.iso.1.subject.00636.lab_id.710100.seq_reps.1', 'site.04.iso.1.subject.00636.lab_id.710100.seq_reps.1'], dtype='object', name='ORIGINAL_UID')\n"
     ]
    },
    {
     "name": "stderr",
     "output_type": "stream",
     "text": [
      " 55%|███████████████████▏               | 16687/30454 [00:14<00:10, 1300.47it/s]"
     ]
    },
    {
     "name": "stdout",
     "output_type": "stream",
     "text": [
      "2 Index(['site.04.iso.1.subject.00505.lab_id.21757.seq_reps.1', 'site.04.iso.1.subject.00505.lab_id.21757.seq_reps.1'], dtype='object', name='ORIGINAL_UID')\n",
      "2 Index(['site.04.iso.1.subject.00197.lab_id.700492.seq_reps.1', 'site.04.iso.1.subject.00197.lab_id.700492.seq_reps.1'], dtype='object', name='ORIGINAL_UID')\n",
      "2 Index(['site.04.iso.1.subject.01574.lab_id.729868.seq_reps.1', 'site.04.iso.1.subject.01574.lab_id.729868.seq_reps.1'], dtype='object', name='ORIGINAL_UID')\n"
     ]
    },
    {
     "name": "stderr",
     "output_type": "stream",
     "text": [
      " 57%|███████████████████▉               | 17364/30454 [00:14<00:09, 1341.62it/s]"
     ]
    },
    {
     "name": "stdout",
     "output_type": "stream",
     "text": [
      "2 Index(['site.06.iso.1.subject.SZH_0050-14.lab_id.06MIL0427.seq_reps.1', 'site.06.iso.1.subject.SZH_0050-14.lab_id.06MIL0427.seq_reps.1'], dtype='object', name='ORIGINAL_UID')\n",
      "2 Index(['site.04.iso.1.subject.00077.lab_id.634379.seq_reps.1', 'site.04.iso.1.subject.00077.lab_id.634379.seq_reps.1'], dtype='object', name='ORIGINAL_UID')\n",
      "2 Index(['site.05.iso.1.subject.PPAR-0896.lab_id.PAR-044.seq_reps.1', 'site.05.iso.1.subject.PPAR-0896.lab_id.PAR-044.seq_reps.1'], dtype='object', name='ORIGINAL_UID')\n",
      "2 Index(['site.05.iso.1.subject.PSLM-0788.lab_id.SLM-046.seq_reps.1', 'site.05.iso.1.subject.PSLM-0788.lab_id.SLM-046.seq_reps.1'], dtype='object', name='ORIGINAL_UID')\n"
     ]
    },
    {
     "name": "stderr",
     "output_type": "stream",
     "text": [
      " 58%|████████████████████▍              | 17769/30454 [00:15<00:09, 1327.27it/s]"
     ]
    },
    {
     "name": "stdout",
     "output_type": "stream",
     "text": [
      "2 Index(['site.05.iso.1.subject.PTPI-0905.lab_id.TPI-973.seq_reps.1', 'site.05.iso.1.subject.PTPI-0905.lab_id.TPI-973.seq_reps.1'], dtype='object', name='ORIGINAL_UID')\n",
      "2 Index(['site.03.iso.1.subject.10951.lab_id.IML-01006.seq_reps.1', 'site.03.iso.1.subject.10951.lab_id.IML-01006.seq_reps.1'], dtype='object', name='ORIGINAL_UID')\n",
      "2 Index(['site.03.iso.1.subject.10531.lab_id.IML-01050.seq_reps.1', 'site.03.iso.1.subject.10531.lab_id.IML-01050.seq_reps.1'], dtype='object', name='ORIGINAL_UID')\n",
      "2 Index(['site.03.iso.1.subject.11071.lab_id.IML-00997.seq_reps.1', 'site.03.iso.1.subject.11071.lab_id.IML-00997.seq_reps.1'], dtype='object', name='ORIGINAL_UID')\n"
     ]
    },
    {
     "name": "stderr",
     "output_type": "stream",
     "text": [
      " 59%|████████████████████▋              | 18045/30454 [00:15<00:09, 1321.09it/s]"
     ]
    },
    {
     "name": "stdout",
     "output_type": "stream",
     "text": [
      "2 Index(['site.02.iso.1.subject.0869.lab_id.22A103.seq_reps.103', 'site.02.iso.1.subject.0869.lab_id.22A103.seq_reps.103'], dtype='object', name='ORIGINAL_UID')\n",
      "2 Index(['site.02.iso.1.subject.0960.lab_id.22A200.seq_reps.200', 'site.02.iso.1.subject.0960.lab_id.22A200.seq_reps.200'], dtype='object', name='ORIGINAL_UID')\n",
      "3 Index(['site.03.iso.1.subject.JPN-R2012-0044.lab_id.JPN-R2012-0044.seq_reps.1',\n",
      "       'site.03.iso.1.subject.JPN-R2012-0044.lab_id.JPN-R2012-0044.seq_reps.1',\n",
      "       'site.03.iso.1.subject.JPN-R2012-0044.lab_id.JPN-R2012-0044.seq_reps.1'],\n",
      "      dtype='object', name='ORIGINAL_UID')\n",
      "2 Index(['site.03.iso.1.subject.BOR-17010158.lab_id.IML-00660.seq_reps.1', 'site.03.iso.1.subject.BOR-17010158.lab_id.IML-00660.seq_reps.1'], dtype='object', name='ORIGINAL_UID')\n",
      "2 Index(['site.06.iso.1.subject.06TB_0970.lab_id.06MIL1965.seq_reps.1', 'site.06.iso.1.subject.06TB_0970.lab_id.06MIL1965.seq_reps.1'], dtype='object', name='ORIGINAL_UID')\n",
      "2 Index(['site.06.iso.1.subject.DJB28.lab_id.06MIL1514.seq_reps.1', 'site.06.iso.1.subject.DJB28.lab_id.06MIL1514.seq_reps.1'], dtype='object', name='ORIGINAL_UID')\n",
      "2 Index(['site.04.iso.1.subject.00961.lab_id.715884.seq_reps.1', 'site.04.iso.1.subject.00961.lab_id.715884.seq_reps.1'], dtype='object', name='ORIGINAL_UID')\n"
     ]
    },
    {
     "name": "stderr",
     "output_type": "stream",
     "text": [
      " 61%|█████████████████████▏             | 18446/30454 [00:15<00:09, 1310.41it/s]"
     ]
    },
    {
     "name": "stdout",
     "output_type": "stream",
     "text": [
      "2 Index(['site.06.iso.1.subject.BVH_0008-14.lab_id.06MIL0198.seq_reps.1', 'site.06.iso.1.subject.BVH_0008-14.lab_id.06MIL0198.seq_reps.1'], dtype='object', name='ORIGINAL_UID')\n",
      "2 Index(['site.06.iso.1.subject.JHL_0048-14.lab_id.06MIL0178.seq_reps.1', 'site.06.iso.1.subject.JHL_0048-14.lab_id.06MIL0178.seq_reps.1'], dtype='object', name='ORIGINAL_UID')\n",
      "2 Index(['site.03.iso.1.subject.DR-261.lab_id.IML-01177.seq_reps.1', 'site.03.iso.1.subject.DR-261.lab_id.IML-01177.seq_reps.1'], dtype='object', name='ORIGINAL_UID')\n",
      "2 Index(['site.06.iso.1.subject.ATH_0065-14.lab_id.06MIL0147.seq_reps.1', 'site.06.iso.1.subject.ATH_0065-14.lab_id.06MIL0147.seq_reps.1'], dtype='object', name='ORIGINAL_UID')\n",
      "2 Index(['site.10.iso.1.subject.YA00046932.lab_id.YA00046932.seq_reps.1', 'site.10.iso.1.subject.YA00046932.lab_id.YA00046932.seq_reps.1'], dtype='object', name='ORIGINAL_UID')\n"
     ]
    },
    {
     "name": "stderr",
     "output_type": "stream",
     "text": [
      " 62%|█████████████████████▋             | 18849/30454 [00:16<00:08, 1323.81it/s]"
     ]
    },
    {
     "name": "stdout",
     "output_type": "stream",
     "text": [
      "2 Index(['site.04.iso.1.subject.01130.lab_id.718446.seq_reps.1', 'site.04.iso.1.subject.01130.lab_id.718446.seq_reps.1'], dtype='object', name='ORIGINAL_UID')\n",
      "2 Index(['site.04.iso.1.subject.01855.lab_id.734284.seq_reps.1', 'site.04.iso.1.subject.01855.lab_id.734284.seq_reps.1'], dtype='object', name='ORIGINAL_UID')\n",
      "2 Index(['site.10.iso.1.subject.YA00032100.lab_id.YA00032100.seq_reps.1', 'site.10.iso.1.subject.YA00032100.lab_id.YA00032100.seq_reps.1'], dtype='object', name='ORIGINAL_UID')\n",
      "2 Index(['site.06.iso.1.subject.06TB_1486.lab_id.06MIL2765.seq_reps.1', 'site.06.iso.1.subject.06TB_1486.lab_id.06MIL2765.seq_reps.1'], dtype='object', name='ORIGINAL_UID')\n",
      "2 Index(['site.06.iso.1.subject.06TB_0162.lab_id.06MIL0623.seq_reps.1', 'site.06.iso.1.subject.06TB_0162.lab_id.06MIL0623.seq_reps.1'], dtype='object', name='ORIGINAL_UID')\n"
     ]
    },
    {
     "name": "stderr",
     "output_type": "stream",
     "text": [
      " 63%|██████████████████████▏            | 19264/30454 [00:16<00:08, 1345.26it/s]"
     ]
    },
    {
     "name": "stdout",
     "output_type": "stream",
     "text": [
      "2 Index(['site.05.iso.1.subject.CA-1642.lab_id.CO-14766-18.seq_reps.1', 'site.05.iso.1.subject.CA-1642.lab_id.CO-14766-18.seq_reps.1'], dtype='object', name='ORIGINAL_UID')\n",
      "2 Index(['site.05.iso.1.subject.LR-3112.lab_id.CR-01992-16.seq_reps.1', 'site.05.iso.1.subject.LR-3112.lab_id.CR-01992-16.seq_reps.1'], dtype='object', name='ORIGINAL_UID')\n"
     ]
    },
    {
     "name": "stderr",
     "output_type": "stream",
     "text": [
      " 65%|██████████████████████▊            | 19816/30454 [00:16<00:07, 1368.98it/s]"
     ]
    },
    {
     "name": "stdout",
     "output_type": "stream",
     "text": [
      "2 Index(['site.06.iso.1.subject.06TB_0951.lab_id.06MIL1946.seq_reps.1', 'site.06.iso.1.subject.06TB_0951.lab_id.06MIL1946.seq_reps.1'], dtype='object', name='ORIGINAL_UID')\n"
     ]
    },
    {
     "name": "stderr",
     "output_type": "stream",
     "text": [
      " 72%|█████████████████████████▎         | 22077/30454 [00:18<00:06, 1387.98it/s]"
     ]
    },
    {
     "name": "stdout",
     "output_type": "stream",
     "text": [
      "2 Index(['site.06.iso.1.subject.14015.lab_id.06MIL2154.seq_reps.1', 'site.06.iso.1.subject.14015.lab_id.06MIL2154.seq_reps.1'], dtype='object', name='ORIGINAL_UID')\n",
      "2 Index(['site.06.iso.1.subject.06TB_1564.lab_id.06MIL2843.seq_reps.1', 'site.06.iso.1.subject.06TB_1564.lab_id.06MIL2843.seq_reps.1'], dtype='object', name='ORIGINAL_UID')\n"
     ]
    },
    {
     "name": "stderr",
     "output_type": "stream",
     "text": [
      " 74%|██████████████████████████         | 22637/30454 [00:18<00:05, 1322.26it/s]"
     ]
    },
    {
     "name": "stdout",
     "output_type": "stream",
     "text": [
      "2 Index(['site.05.iso.1.subject.LS-1658.lab_id.MA-01344-19.seq_reps.1', 'site.05.iso.1.subject.LS-1658.lab_id.MA-01344-19.seq_reps.1'], dtype='object', name='ORIGINAL_UID')\n",
      "2 Index(['site.06.iso.1.subject.06TB_0557.lab_id.06MIL1363.seq_reps.1', 'site.06.iso.1.subject.06TB_0557.lab_id.06MIL1363.seq_reps.1'], dtype='object', name='ORIGINAL_UID')\n"
     ]
    },
    {
     "name": "stderr",
     "output_type": "stream",
     "text": [
      " 77%|███████████████████████████        | 23590/30454 [00:19<00:05, 1360.61it/s]"
     ]
    },
    {
     "name": "stdout",
     "output_type": "stream",
     "text": [
      "2 Index(['site.06.iso.1.subject.06TB_0523.lab_id.06MIL1201.seq_reps.1', 'site.06.iso.1.subject.06TB_0523.lab_id.06MIL1201.seq_reps.1'], dtype='object', name='ORIGINAL_UID')\n",
      "2 Index(['site.02.iso.1.subject.0074.lab_id.22A026.seq_reps.26', 'site.02.iso.1.subject.0074.lab_id.22A026.seq_reps.26'], dtype='object', name='ORIGINAL_UID')\n"
     ]
    },
    {
     "name": "stderr",
     "output_type": "stream",
     "text": [
      " 80%|████████████████████████████       | 24423/30454 [00:20<00:04, 1363.79it/s]"
     ]
    },
    {
     "name": "stdout",
     "output_type": "stream",
     "text": [
      "2 Index(['site.02.iso.1.subject.0880.lab_id.22A114.seq_reps.114', 'site.02.iso.1.subject.0880.lab_id.22A114.seq_reps.114'], dtype='object', name='ORIGINAL_UID')\n",
      "2 Index(['site.13.iso.1.subject.160200058.lab_id.160200058.seq_reps.1', 'site.13.iso.1.subject.160200058.lab_id.160200058.seq_reps.1'], dtype='object', name='ORIGINAL_UID')\n",
      "2 Index(['site.13.iso.1.subject.110200121.lab_id.110200121.seq_reps.1', 'site.13.iso.1.subject.110200121.lab_id.110200121.seq_reps.1'], dtype='object', name='ORIGINAL_UID')\n",
      "2 Index(['site.02.iso.1.subject.0954.lab_id.22A190.seq_reps.190', 'site.02.iso.1.subject.0954.lab_id.22A190.seq_reps.190'], dtype='object', name='ORIGINAL_UID')\n"
     ]
    },
    {
     "name": "stderr",
     "output_type": "stream",
     "text": [
      " 82%|████████████████████████████▋      | 24975/30454 [00:20<00:04, 1358.51it/s]"
     ]
    },
    {
     "name": "stdout",
     "output_type": "stream",
     "text": [
      "2 Index(['site.06.iso.1.subject.SGD_0076-14.lab_id.06MIL0339.seq_reps.1', 'site.06.iso.1.subject.SGD_0076-14.lab_id.06MIL0339.seq_reps.1'], dtype='object', name='ORIGINAL_UID')\n"
     ]
    },
    {
     "name": "stderr",
     "output_type": "stream",
     "text": [
      " 83%|█████████████████████████████▏     | 25397/30454 [00:20<00:03, 1383.92it/s]"
     ]
    },
    {
     "name": "stdout",
     "output_type": "stream",
     "text": [
      "2 Index(['site.05.iso.1.subject.CA-1629.lab_id.CO-02971-19.seq_reps.1', 'site.05.iso.1.subject.CA-1629.lab_id.CO-02971-19.seq_reps.1'], dtype='object', name='ORIGINAL_UID')\n"
     ]
    },
    {
     "name": "stderr",
     "output_type": "stream",
     "text": [
      " 85%|█████████████████████████████▊     | 25953/30454 [00:21<00:03, 1314.78it/s]"
     ]
    },
    {
     "name": "stdout",
     "output_type": "stream",
     "text": [
      "2 Index(['site.06.iso.1.subject.06TB_0391.lab_id.06MIL0982.seq_reps.1', 'site.06.iso.1.subject.06TB_0391.lab_id.06MIL0982.seq_reps.1'], dtype='object', name='ORIGINAL_UID')\n",
      "2 Index(['site.06.iso.1.subject.06TB_0485.lab_id.06MIL1163.seq_reps.1', 'site.06.iso.1.subject.06TB_0485.lab_id.06MIL1163.seq_reps.1'], dtype='object', name='ORIGINAL_UID')\n",
      "2 Index(['site.06.iso.1.subject.06TB_0843.lab_id.06MIL1790.seq_reps.1', 'site.06.iso.1.subject.06TB_0843.lab_id.06MIL1790.seq_reps.1'], dtype='object', name='ORIGINAL_UID')\n",
      "2 Index(['site.06.iso.1.subject.06TB_0640.lab_id.06MIL1524.seq_reps.1', 'site.06.iso.1.subject.06TB_0640.lab_id.06MIL1524.seq_reps.1'], dtype='object', name='ORIGINAL_UID')\n",
      "2 Index(['site.06.iso.1.subject.06TB_0072.lab_id.06MIL0533.seq_reps.1', 'site.06.iso.1.subject.06TB_0072.lab_id.06MIL0533.seq_reps.1'], dtype='object', name='ORIGINAL_UID')\n",
      "2 Index(['site.06.iso.1.subject.06TB_0141.lab_id.06MIL0602.seq_reps.1', 'site.06.iso.1.subject.06TB_0141.lab_id.06MIL0602.seq_reps.1'], dtype='object', name='ORIGINAL_UID')\n",
      "2 Index(['site.06.iso.1.subject.06TB_0432.lab_id.06MIL1396.seq_reps.1', 'site.06.iso.1.subject.06TB_0432.lab_id.06MIL1396.seq_reps.1'], dtype='object', name='ORIGINAL_UID')\n",
      "2 Index(['site.06.iso.1.subject.06TB_1103.lab_id.06MIL2246.seq_reps.1', 'site.06.iso.1.subject.06TB_1103.lab_id.06MIL2246.seq_reps.1'], dtype='object', name='ORIGINAL_UID')\n",
      "2 Index(['site.06.iso.1.subject.06TB_0618.lab_id.06MIL1485.seq_reps.1', 'site.06.iso.1.subject.06TB_0618.lab_id.06MIL1485.seq_reps.1'], dtype='object', name='ORIGINAL_UID')\n",
      "2 Index(['site.06.iso.1.subject.06TB_1616.lab_id.06MIL2895.seq_reps.1', 'site.06.iso.1.subject.06TB_1616.lab_id.06MIL2895.seq_reps.1'], dtype='object', name='ORIGINAL_UID')\n",
      "2 Index(['site.06.iso.1.subject.06TB_0869.lab_id.06MIL1864.seq_reps.1', 'site.06.iso.1.subject.06TB_0869.lab_id.06MIL1864.seq_reps.1'], dtype='object', name='ORIGINAL_UID')\n",
      "2 Index(['site.06.iso.1.subject.06TB_1373.lab_id.06MIL2648.seq_reps.1', 'site.06.iso.1.subject.06TB_1373.lab_id.06MIL2648.seq_reps.1'], dtype='object', name='ORIGINAL_UID')\n"
     ]
    },
    {
     "name": "stderr",
     "output_type": "stream",
     "text": [
      " 87%|██████████████████████████████▌    | 26647/30454 [00:21<00:02, 1353.37it/s]"
     ]
    },
    {
     "name": "stdout",
     "output_type": "stream",
     "text": [
      "2 Index(['site.06.iso.1.subject.ICK-1151.lab_id.06MIL1084.seq_reps.1', 'site.06.iso.1.subject.ICK-1151.lab_id.06MIL1084.seq_reps.1'], dtype='object', name='ORIGINAL_UID')\n",
      "2 Index(['site.06.iso.1.subject.IHK-1123.lab_id.06MIL1078.seq_reps.1', 'site.06.iso.1.subject.IHK-1123.lab_id.06MIL1078.seq_reps.1'], dtype='object', name='ORIGINAL_UID')\n",
      "2 Index(['site.06.iso.1.subject.RLH_0304-14.lab_id.06MIL0282.seq_reps.1', 'site.06.iso.1.subject.RLH_0304-14.lab_id.06MIL0282.seq_reps.1'], dtype='object', name='ORIGINAL_UID')\n",
      "2 Index(['site.04.iso.1.subject.03150.lab_id.823509.seq_reps.1', 'site.04.iso.1.subject.03150.lab_id.823509.seq_reps.1'], dtype='object', name='ORIGINAL_UID')\n",
      "2 Index(['site.04.iso.1.subject.00795.lab_id.718293.seq_reps.1', 'site.04.iso.1.subject.00795.lab_id.718293.seq_reps.1'], dtype='object', name='ORIGINAL_UID')\n",
      "2 Index(['site.04.iso.1.subject.02831.lab_id.819986.seq_reps.1', 'site.04.iso.1.subject.02831.lab_id.819986.seq_reps.1'], dtype='object', name='ORIGINAL_UID')\n"
     ]
    },
    {
     "name": "stderr",
     "output_type": "stream",
     "text": [
      " 90%|███████████████████████████████▍   | 27341/30454 [00:22<00:02, 1371.90it/s]"
     ]
    },
    {
     "name": "stdout",
     "output_type": "stream",
     "text": [
      "2 Index(['site.05.iso.1.subject.PMK-0982.lab_id.MK-1262.seq_reps.1', 'site.05.iso.1.subject.PMK-0982.lab_id.MK-1262.seq_reps.1'], dtype='object', name='ORIGINAL_UID')\n"
     ]
    },
    {
     "name": "stderr",
     "output_type": "stream",
     "text": [
      " 95%|█████████████████████████████████▏ | 28835/30454 [00:23<00:01, 1217.76it/s]"
     ]
    },
    {
     "name": "stdout",
     "output_type": "stream",
     "text": [
      "2 Index(['site.03.iso.1.subject.BOR-12632-16.lab_id.12632-16.seq_reps.1', 'site.03.iso.1.subject.BOR-12632-16.lab_id.12632-16.seq_reps.1'], dtype='object', name='ORIGINAL_UID')\n",
      "2 Index(['site.03.iso.1.subject.BOR-13462-16.lab_id.IML-00757.seq_reps.1', 'site.03.iso.1.subject.BOR-13462-16.lab_id.IML-00757.seq_reps.1'], dtype='object', name='ORIGINAL_UID')\n",
      "2 Index(['site.03.iso.1.subject.BOR-14593-16.lab_id.IML-00767.seq_reps.1', 'site.03.iso.1.subject.BOR-14593-16.lab_id.IML-00767.seq_reps.1'], dtype='object', name='ORIGINAL_UID')\n"
     ]
    },
    {
     "name": "stderr",
     "output_type": "stream",
     "text": [
      " 96%|█████████████████████████████████▋ | 29347/30454 [00:23<00:00, 1248.36it/s]"
     ]
    },
    {
     "name": "stdout",
     "output_type": "stream",
     "text": [
      "2 Index(['site.10.iso.1.subject.KD01666167.lab_id.KD01666167.seq_reps.1', 'site.10.iso.1.subject.KD01666167.lab_id.KD01666167.seq_reps.1'], dtype='object', name='ORIGINAL_UID')\n"
     ]
    },
    {
     "name": "stderr",
     "output_type": "stream",
     "text": [
      " 98%|██████████████████████████████████▏| 29730/30454 [00:24<00:00, 1196.85it/s]"
     ]
    },
    {
     "name": "stdout",
     "output_type": "stream",
     "text": [
      "2 Index(['site.05.iso.1.subject.PMK-1048.lab_id.MK-2348.seq_reps.1', 'site.05.iso.1.subject.PMK-1048.lab_id.MK-2348.seq_reps.1'], dtype='object', name='ORIGINAL_UID')\n",
      "2 Index(['site.10.iso.1.subject.BA00346437.lab_id.BA00346437.seq_reps.1', 'site.10.iso.1.subject.BA00346437.lab_id.BA00346437.seq_reps.1'], dtype='object', name='ORIGINAL_UID')\n",
      "2 Index(['site.10.iso.1.subject.YA00013886.lab_id.YA00013886.seq_reps.1', 'site.10.iso.1.subject.YA00013886.lab_id.YA00013886.seq_reps.1'], dtype='object', name='ORIGINAL_UID')\n",
      "2 Index(['site.17.iso.1.subject.K0059.lab_id.123-20-0059-1000.seq_reps.1', 'site.17.iso.1.subject.K0059.lab_id.123-20-0059-1000.seq_reps.1'], dtype='object', name='ORIGINAL_UID')\n",
      "2 Index(['site.10.iso.1.subject.YA00038859.lab_id.YA00038859.seq_reps.1', 'site.10.iso.1.subject.YA00038859.lab_id.YA00038859.seq_reps.1'], dtype='object', name='ORIGINAL_UID')\n",
      "2 Index(['site.17.iso.1.subject.K0091.lab_id.123-20-0091-1000.seq_reps.1', 'site.17.iso.1.subject.K0091.lab_id.123-20-0091-1000.seq_reps.1'], dtype='object', name='ORIGINAL_UID')\n",
      "2 Index(['site.17.iso.1.subject.P0101.lab_id.086-15-0101-B.seq_reps.1', 'site.17.iso.1.subject.P0101.lab_id.086-15-0101-B.seq_reps.1'], dtype='object', name='ORIGINAL_UID')\n",
      "2 Index(['site.17.iso.1.subject.K0076.lab_id.123-20-0076-1000.seq_reps.1', 'site.17.iso.1.subject.K0076.lab_id.123-20-0076-1000.seq_reps.1'], dtype='object', name='ORIGINAL_UID')\n",
      "2 Index(['site.10.iso.1.subject.LA00832952.lab_id.LA00832952.seq_reps.1', 'site.10.iso.1.subject.LA00832952.lab_id.LA00832952.seq_reps.1'], dtype='object', name='ORIGINAL_UID')\n",
      "2 Index(['site.10.iso.1.subject.CG04211949.lab_id.CG04211949.seq_reps.1', 'site.10.iso.1.subject.CG04211949.lab_id.CG04211949.seq_reps.1'], dtype='object', name='ORIGINAL_UID')\n",
      "2 Index(['site.17.iso.1.subject.P3535.lab_id.086-15-3535-B.seq_reps.1', 'site.17.iso.1.subject.P3535.lab_id.086-15-3535-B.seq_reps.1'], dtype='object', name='ORIGINAL_UID')\n",
      "2 Index(['site.10.iso.1.subject.YA00033456.lab_id.YA00033456.seq_reps.1', 'site.10.iso.1.subject.YA00033456.lab_id.YA00033456.seq_reps.1'], dtype='object', name='ORIGINAL_UID')\n",
      "2 Index(['site.10.iso.1.subject.YA00128254.lab_id.YA00128254.seq_reps.1', 'site.10.iso.1.subject.YA00128254.lab_id.YA00128254.seq_reps.1'], dtype='object', name='ORIGINAL_UID')\n",
      "2 Index(['site.17.iso.1.subject.K0032.lab_id.123-20-0032-1240.seq_reps.1', 'site.17.iso.1.subject.K0032.lab_id.123-20-0032-1240.seq_reps.1'], dtype='object', name='ORIGINAL_UID')\n",
      "2 Index(['site.10.iso.1.subject.EF00485556.lab_id.EF00485556.seq_reps.1', 'site.10.iso.1.subject.EF00485556.lab_id.EF00485556.seq_reps.1'], dtype='object', name='ORIGINAL_UID')\n",
      "2 Index(['site.10.iso.1.subject.BC01318997.lab_id.BC01318997.seq_reps.1', 'site.10.iso.1.subject.BC01318997.lab_id.BC01318997.seq_reps.1'], dtype='object', name='ORIGINAL_UID')\n",
      "2 Index(['site.10.iso.1.subject.LA00631235.lab_id.LA00631235.seq_reps.1', 'site.10.iso.1.subject.LA00631235.lab_id.LA00631235.seq_reps.1'], dtype='object', name='ORIGINAL_UID')\n",
      "2 Index(['site.10.iso.1.subject.YA00018020.lab_id.YA00018020.seq_reps.1', 'site.10.iso.1.subject.YA00018020.lab_id.YA00018020.seq_reps.1'], dtype='object', name='ORIGINAL_UID')\n",
      "2 Index(['site.10.iso.1.subject.BC01299674.lab_id.BC01299674.seq_reps.1', 'site.10.iso.1.subject.BC01299674.lab_id.BC01299674.seq_reps.1'], dtype='object', name='ORIGINAL_UID')\n",
      "2 Index(['site.10.iso.1.subject.LA00694310.lab_id.LA00694310.seq_reps.1', 'site.10.iso.1.subject.LA00694310.lab_id.LA00694310.seq_reps.1'], dtype='object', name='ORIGINAL_UID')\n"
     ]
    },
    {
     "name": "stderr",
     "output_type": "stream",
     "text": [
      "100%|███████████████████████████████████| 30454/30454 [00:24<00:00, 1224.16it/s]"
     ]
    },
    {
     "name": "stdout",
     "output_type": "stream",
     "text": [
      "True\n"
     ]
    },
    {
     "name": "stderr",
     "output_type": "stream",
     "text": [
      "\n"
     ]
    }
   ],
   "source": [
    "list = []\n",
    "for i in tqdm(range(ts.num_nodes)):  \n",
    "    row = new_tables.nodes[i]\n",
    "    if 'name' in row.metadata.keys():\n",
    "        uid = row.metadata['name']\n",
    "        mutation = LABELS.loc[uid]\n",
    "        if mutation.IS_RES.size > 1:  \n",
    "            print(mutation.IS_RES.size, mutation.index)\n",
    "            list.append(mutation.iloc[0].IS_RES == mutation.iloc[1].IS_RES)\n",
    "print(all(list))"
   ]
  },
  {
   "cell_type": "markdown",
   "metadata": {},
   "source": [
    "Display resistance/ CM presence on nodes (red = resistance mutation, blue = CM, green = both)"
   ]
  },
  {
   "cell_type": "code",
   "execution_count": 28,
   "metadata": {},
   "outputs": [
    {
     "name": "stderr",
     "output_type": "stream",
     "text": [
      "100%|███████████████████████████████████| 30454/30454 [00:22<00:00, 1340.57it/s]\n"
     ]
    }
   ],
   "source": [
    "vis = 'symbol'\n",
    "\n",
    "mutation_header=\"\"\"DATASET_SYMBOL\n",
    "\n",
    "SEPARATOR COMMA\n",
    "\n",
    "DATASET_LABEL,example symbols\n",
    "\n",
    "COLOR,#e41a1c\n",
    "\n",
    "MAXIMUM_SIZE,3\n",
    "\n",
    "\n",
    "DATA\n",
    "\"\"\"\n",
    "\n",
    "colour_lookup = {1: '#e41a1c', 2: '#377eb8', 3: '#4daf4a'}\n",
    "\n",
    "mutation_annotations = ''\n",
    "\n",
    "for i in tqdm(range(ts.num_nodes)):   \n",
    "\n",
    "    row = new_tables.nodes[i]\n",
    "\n",
    "    if 'name' in row.metadata.keys():\n",
    "\n",
    "        uid = row.metadata['name']\n",
    "\n",
    "        mutation = LABELS.loc[uid]\n",
    "        \n",
    "        if mutation.IS_RES.size > 1:\n",
    "            mutation = mutation.iloc[0]\n",
    "            \n",
    "        if mutation.IS_RES == True:\n",
    "            if mutation.IS_CM == True:\n",
    "                mutation = 3\n",
    "            else:\n",
    "                mutation = 1\n",
    "        else:\n",
    "            if mutation.IS_CM == True:\n",
    "                mutation = 2\n",
    "            else:\n",
    "                mutation = None\n",
    "\n",
    "        if mutation in colour_lookup.keys():\n",
    "            colour = colour_lookup[mutation]\n",
    "            \n",
    "            line = 'n'+str(i) +',1,1,' + colour + ',1,0.5\\n'\n",
    "            mutation_annotations += line \n",
    "        else:\n",
    "            continue\n",
    "    \n",
    "\n",
    "mutation_annotations = mutation_header + mutation_annotations\n"
   ]
  },
  {
   "cell_type": "markdown",
   "metadata": {},
   "source": [
    "Do the same for specific combinations of CM + S450L"
   ]
  },
  {
   "cell_type": "code",
   "execution_count": 47,
   "metadata": {},
   "outputs": [
    {
     "name": "stderr",
     "output_type": "stream",
     "text": [
      "100%|███████████████████████████████████| 30454/30454 [00:22<00:00, 1356.06it/s]\n"
     ]
    }
   ],
   "source": [
    "vis = 'symbol'\n",
    "\n",
    "mutation_header=\"\"\"DATASET_SYMBOL\n",
    "\n",
    "SEPARATOR COMMA\n",
    "\n",
    "DATASET_LABEL,example symbols\n",
    "\n",
    "COLOR,#e41a1c\n",
    "\n",
    "MAXIMUM_SIZE,3\n",
    "\n",
    "\n",
    "DATA\n",
    "\"\"\"\n",
    "\n",
    "colour_lookup = {1: '#e41a1c', 2: '#377eb8', 3: '#4daf4a'}\n",
    "\n",
    "mutation_annotations = ''\n",
    "\n",
    "for i in tqdm(range(ts.num_nodes)):   \n",
    "\n",
    "    row = new_tables.nodes[i]\n",
    "\n",
    "    if 'name' in row.metadata.keys():\n",
    "\n",
    "        uid = row.metadata['name']\n",
    "\n",
    "        mutation = LABELS.loc[uid]\n",
    "        \n",
    "        if mutation.IS_RES.size > 1:\n",
    "            mutation = mutation.iloc[0]\n",
    "            \n",
    "        if mutation.HAS_S450L == True:\n",
    "            if mutation.HAS_E1092D == True:\n",
    "                mutation = 3\n",
    "            else:\n",
    "                mutation = 1\n",
    "        else:\n",
    "            if mutation.HAS_E1092D == True:\n",
    "                mutation = 2\n",
    "            else:\n",
    "                mutation = None\n",
    "\n",
    "        if mutation in colour_lookup.keys():\n",
    "            colour = colour_lookup[mutation]\n",
    "            \n",
    "            line = 'n'+str(i) +',1,1,' + colour + ',1,0.5\\n'\n",
    "            mutation_annotations += line \n",
    "        else:\n",
    "            continue\n",
    "    \n",
    "\n",
    "mutation_annotations = mutation_header + mutation_annotations\n"
   ]
  },
  {
   "cell_type": "markdown",
   "metadata": {},
   "source": [
    "Do the same for single CMs without resistance mutations"
   ]
  },
  {
   "cell_type": "code",
   "execution_count": 38,
   "metadata": {},
   "outputs": [
    {
     "name": "stderr",
     "output_type": "stream",
     "text": [
      "100%|███████████████████████████████████| 30454/30454 [00:27<00:00, 1113.62it/s]\n"
     ]
    }
   ],
   "source": [
    "vis = 'symbol'\n",
    "\n",
    "mutation_header=\"\"\"DATASET_SYMBOL\n",
    "\n",
    "SEPARATOR COMMA\n",
    "\n",
    "DATASET_LABEL,example symbols\n",
    "\n",
    "COLOR,#e41a1c\n",
    "\n",
    "MAXIMUM_SIZE,3\n",
    "\n",
    "\n",
    "DATA\n",
    "\"\"\"\n",
    "\n",
    "colour_lookup = {1: '#e41a1c', 2: '#377eb8', 3: '#4daf4a', 4: '#984ea3', 5: '#ff7f00', 6: '#a65628'}\n",
    "\n",
    "mutation_annotations = ''\n",
    "\n",
    "for i in tqdm(range(ts.num_nodes)):   \n",
    "\n",
    "    row = new_tables.nodes[i]\n",
    "\n",
    "    if 'name' in row.metadata.keys():\n",
    "\n",
    "        uid = row.metadata['name']\n",
    "\n",
    "        mutation = LABELS.loc[uid]\n",
    "        \n",
    "        if mutation.IS_RES.size > 1:\n",
    "            mutation = mutation.iloc[0]\n",
    "            \n",
    "        if mutation.HAS_V483G == True or mutation.HAS_V483A == True:\n",
    "            mutation = 1\n",
    "\n",
    "        elif mutation.HAS_I491V == True or mutation.HAS_I491T == True:\n",
    "            mutation = 2\n",
    "            \n",
    "        elif mutation.HAS_P1040R == True:\n",
    "            mutation = 3\n",
    "            \n",
    "        elif mutation.HAS_G332S == True:\n",
    "            mutation = 4\n",
    "            \n",
    "        elif mutation.HAS_G433S == True:\n",
    "            mutation = 5\n",
    "            \n",
    "        elif mutation.HAS_N698S == True:\n",
    "            mutation = 6\n",
    "            \n",
    "        else:\n",
    "            mutation = None\n",
    "\n",
    "        if mutation in colour_lookup.keys():\n",
    "            colour = colour_lookup[mutation]\n",
    "            \n",
    "            line = 'n'+str(i) +',1,1,' + colour + ',1,0.5\\n'\n",
    "            mutation_annotations += line \n",
    "        else:\n",
    "            continue\n",
    "    \n",
    "\n",
    "mutation_annotations = mutation_header + mutation_annotations\n"
   ]
  },
  {
   "cell_type": "markdown",
   "metadata": {},
   "source": [
    "Dynamically create the ITOL annotations file to small circles around the circle if the sample contains an S450L mutation in rpoB"
   ]
  },
  {
   "cell_type": "code",
   "execution_count": 100,
   "metadata": {},
   "outputs": [
    {
     "name": "stderr",
     "output_type": "stream",
     "text": [
      "  0%|                                       | 1/30454 [00:00<00:08, 3799.19it/s]\n"
     ]
    },
    {
     "ename": "KeyError",
     "evalue": "'HAS_T853A'",
     "output_type": "error",
     "traceback": [
      "\u001b[0;31m---------------------------------------------------------------------------\u001b[0m",
      "\u001b[0;31mKeyError\u001b[0m                                  Traceback (most recent call last)",
      "\u001b[0;32m~/opt/anaconda3/lib/python3.9/site-packages/pandas/core/indexes/base.py\u001b[0m in \u001b[0;36mget_loc\u001b[0;34m(self, key, method, tolerance)\u001b[0m\n\u001b[1;32m   3360\u001b[0m             \u001b[0;32mtry\u001b[0m\u001b[0;34m:\u001b[0m\u001b[0;34m\u001b[0m\u001b[0;34m\u001b[0m\u001b[0m\n\u001b[0;32m-> 3361\u001b[0;31m                 \u001b[0;32mreturn\u001b[0m \u001b[0mself\u001b[0m\u001b[0;34m.\u001b[0m\u001b[0m_engine\u001b[0m\u001b[0;34m.\u001b[0m\u001b[0mget_loc\u001b[0m\u001b[0;34m(\u001b[0m\u001b[0mcasted_key\u001b[0m\u001b[0;34m)\u001b[0m\u001b[0;34m\u001b[0m\u001b[0;34m\u001b[0m\u001b[0m\n\u001b[0m\u001b[1;32m   3362\u001b[0m             \u001b[0;32mexcept\u001b[0m \u001b[0mKeyError\u001b[0m \u001b[0;32mas\u001b[0m \u001b[0merr\u001b[0m\u001b[0;34m:\u001b[0m\u001b[0;34m\u001b[0m\u001b[0;34m\u001b[0m\u001b[0m\n",
      "\u001b[0;32m~/opt/anaconda3/lib/python3.9/site-packages/pandas/_libs/index.pyx\u001b[0m in \u001b[0;36mpandas._libs.index.IndexEngine.get_loc\u001b[0;34m()\u001b[0m\n",
      "\u001b[0;32m~/opt/anaconda3/lib/python3.9/site-packages/pandas/_libs/index.pyx\u001b[0m in \u001b[0;36mpandas._libs.index.IndexEngine.get_loc\u001b[0;34m()\u001b[0m\n",
      "\u001b[0;32mpandas/_libs/hashtable_class_helper.pxi\u001b[0m in \u001b[0;36mpandas._libs.hashtable.PyObjectHashTable.get_item\u001b[0;34m()\u001b[0m\n",
      "\u001b[0;32mpandas/_libs/hashtable_class_helper.pxi\u001b[0m in \u001b[0;36mpandas._libs.hashtable.PyObjectHashTable.get_item\u001b[0;34m()\u001b[0m\n",
      "\u001b[0;31mKeyError\u001b[0m: 'HAS_T853A'",
      "\nThe above exception was the direct cause of the following exception:\n",
      "\u001b[0;31mKeyError\u001b[0m                                  Traceback (most recent call last)",
      "\u001b[0;32m/var/folders/qq/hh4z_qvd2l183wg_57cf1pyc0000gn/T/ipykernel_1831/1156328298.py\u001b[0m in \u001b[0;36m<module>\u001b[0;34m\u001b[0m\n\u001b[1;32m     26\u001b[0m         \u001b[0muid\u001b[0m \u001b[0;34m=\u001b[0m \u001b[0mrow\u001b[0m\u001b[0;34m.\u001b[0m\u001b[0mmetadata\u001b[0m\u001b[0;34m[\u001b[0m\u001b[0;34m'name'\u001b[0m\u001b[0;34m]\u001b[0m\u001b[0;34m\u001b[0m\u001b[0;34m\u001b[0m\u001b[0m\n\u001b[1;32m     27\u001b[0m \u001b[0;34m\u001b[0m\u001b[0m\n\u001b[0;32m---> 28\u001b[0;31m         \u001b[0;32mif\u001b[0m \u001b[0muid\u001b[0m \u001b[0;32min\u001b[0m \u001b[0mLABELS\u001b[0m\u001b[0;34m[\u001b[0m\u001b[0mLABELS\u001b[0m\u001b[0;34m[\u001b[0m\u001b[0;34m'HAS_T853A'\u001b[0m\u001b[0;34m]\u001b[0m\u001b[0;34m]\u001b[0m\u001b[0;34m.\u001b[0m\u001b[0mindex\u001b[0m\u001b[0;34m:\u001b[0m\u001b[0;34m\u001b[0m\u001b[0;34m\u001b[0m\u001b[0m\n\u001b[0m\u001b[1;32m     29\u001b[0m             \u001b[0mline\u001b[0m \u001b[0;34m=\u001b[0m \u001b[0;34m'n'\u001b[0m\u001b[0;34m+\u001b[0m\u001b[0mstr\u001b[0m\u001b[0;34m(\u001b[0m\u001b[0mi\u001b[0m\u001b[0;34m)\u001b[0m \u001b[0;34m+\u001b[0m\u001b[0;34m',1\\n'\u001b[0m\u001b[0;34m\u001b[0m\u001b[0;34m\u001b[0m\u001b[0m\n\u001b[1;32m     30\u001b[0m             \u001b[0mbinary_annotations\u001b[0m \u001b[0;34m+=\u001b[0m \u001b[0mline\u001b[0m\u001b[0;34m\u001b[0m\u001b[0;34m\u001b[0m\u001b[0m\n",
      "\u001b[0;32m~/opt/anaconda3/lib/python3.9/site-packages/pandas/core/frame.py\u001b[0m in \u001b[0;36m__getitem__\u001b[0;34m(self, key)\u001b[0m\n\u001b[1;32m   3456\u001b[0m             \u001b[0;32mif\u001b[0m \u001b[0mself\u001b[0m\u001b[0;34m.\u001b[0m\u001b[0mcolumns\u001b[0m\u001b[0;34m.\u001b[0m\u001b[0mnlevels\u001b[0m \u001b[0;34m>\u001b[0m \u001b[0;36m1\u001b[0m\u001b[0;34m:\u001b[0m\u001b[0;34m\u001b[0m\u001b[0;34m\u001b[0m\u001b[0m\n\u001b[1;32m   3457\u001b[0m                 \u001b[0;32mreturn\u001b[0m \u001b[0mself\u001b[0m\u001b[0;34m.\u001b[0m\u001b[0m_getitem_multilevel\u001b[0m\u001b[0;34m(\u001b[0m\u001b[0mkey\u001b[0m\u001b[0;34m)\u001b[0m\u001b[0;34m\u001b[0m\u001b[0;34m\u001b[0m\u001b[0m\n\u001b[0;32m-> 3458\u001b[0;31m             \u001b[0mindexer\u001b[0m \u001b[0;34m=\u001b[0m \u001b[0mself\u001b[0m\u001b[0;34m.\u001b[0m\u001b[0mcolumns\u001b[0m\u001b[0;34m.\u001b[0m\u001b[0mget_loc\u001b[0m\u001b[0;34m(\u001b[0m\u001b[0mkey\u001b[0m\u001b[0;34m)\u001b[0m\u001b[0;34m\u001b[0m\u001b[0;34m\u001b[0m\u001b[0m\n\u001b[0m\u001b[1;32m   3459\u001b[0m             \u001b[0;32mif\u001b[0m \u001b[0mis_integer\u001b[0m\u001b[0;34m(\u001b[0m\u001b[0mindexer\u001b[0m\u001b[0;34m)\u001b[0m\u001b[0;34m:\u001b[0m\u001b[0;34m\u001b[0m\u001b[0;34m\u001b[0m\u001b[0m\n\u001b[1;32m   3460\u001b[0m                 \u001b[0mindexer\u001b[0m \u001b[0;34m=\u001b[0m \u001b[0;34m[\u001b[0m\u001b[0mindexer\u001b[0m\u001b[0;34m]\u001b[0m\u001b[0;34m\u001b[0m\u001b[0;34m\u001b[0m\u001b[0m\n",
      "\u001b[0;32m~/opt/anaconda3/lib/python3.9/site-packages/pandas/core/indexes/base.py\u001b[0m in \u001b[0;36mget_loc\u001b[0;34m(self, key, method, tolerance)\u001b[0m\n\u001b[1;32m   3361\u001b[0m                 \u001b[0;32mreturn\u001b[0m \u001b[0mself\u001b[0m\u001b[0;34m.\u001b[0m\u001b[0m_engine\u001b[0m\u001b[0;34m.\u001b[0m\u001b[0mget_loc\u001b[0m\u001b[0;34m(\u001b[0m\u001b[0mcasted_key\u001b[0m\u001b[0;34m)\u001b[0m\u001b[0;34m\u001b[0m\u001b[0;34m\u001b[0m\u001b[0m\n\u001b[1;32m   3362\u001b[0m             \u001b[0;32mexcept\u001b[0m \u001b[0mKeyError\u001b[0m \u001b[0;32mas\u001b[0m \u001b[0merr\u001b[0m\u001b[0;34m:\u001b[0m\u001b[0;34m\u001b[0m\u001b[0;34m\u001b[0m\u001b[0m\n\u001b[0;32m-> 3363\u001b[0;31m                 \u001b[0;32mraise\u001b[0m \u001b[0mKeyError\u001b[0m\u001b[0;34m(\u001b[0m\u001b[0mkey\u001b[0m\u001b[0;34m)\u001b[0m \u001b[0;32mfrom\u001b[0m \u001b[0merr\u001b[0m\u001b[0;34m\u001b[0m\u001b[0;34m\u001b[0m\u001b[0m\n\u001b[0m\u001b[1;32m   3364\u001b[0m \u001b[0;34m\u001b[0m\u001b[0m\n\u001b[1;32m   3365\u001b[0m         \u001b[0;32mif\u001b[0m \u001b[0mis_scalar\u001b[0m\u001b[0;34m(\u001b[0m\u001b[0mkey\u001b[0m\u001b[0;34m)\u001b[0m \u001b[0;32mand\u001b[0m \u001b[0misna\u001b[0m\u001b[0;34m(\u001b[0m\u001b[0mkey\u001b[0m\u001b[0;34m)\u001b[0m \u001b[0;32mand\u001b[0m \u001b[0;32mnot\u001b[0m \u001b[0mself\u001b[0m\u001b[0;34m.\u001b[0m\u001b[0mhasnans\u001b[0m\u001b[0;34m:\u001b[0m\u001b[0;34m\u001b[0m\u001b[0;34m\u001b[0m\u001b[0m\n",
      "\u001b[0;31mKeyError\u001b[0m: 'HAS_T853A'"
     ]
    }
   ],
   "source": [
    "vis = 'binary'\n",
    "\n",
    "binary_header=\"\"\"DATASET_BINARY\n",
    "\n",
    "SEPARATOR COMMA\n",
    "\n",
    "DATASET_LABEL,binary\n",
    "\n",
    "COLOR,#e41a1c\n",
    "\n",
    "FIELD_SHAPES,1\n",
    "\n",
    "FIELD_LABELS,f1\n",
    "\n",
    "DATA\n",
    "\"\"\"\n",
    "\n",
    "binary_annotations = ''\n",
    "\n",
    "for i in tqdm(range(ts.num_nodes)):   \n",
    "\n",
    "    row = new_tables.nodes[i]\n",
    "\n",
    "    if 'name' in row.metadata.keys():\n",
    "\n",
    "        uid = row.metadata['name']\n",
    "\n",
    "        if uid in LABELS[LABELS['HAS_T853A']].index:\n",
    "            line = 'n'+str(i) +',1\\n'\n",
    "            binary_annotations += line \n",
    "\n",
    "binary_annotations = binary_header + binary_annotations\n",
    "\n",
    "with open('ct-CM-annotations_name_circle.txt','w') as f:\n",
    "    f.write(binary_annotations)"
   ]
  },
  {
   "cell_type": "markdown",
   "metadata": {},
   "source": [
    "for new hits through fishers test"
   ]
  },
  {
   "cell_type": "code",
   "execution_count": 28,
   "metadata": {
    "scrolled": false
   },
   "outputs": [
    {
     "name": "stdout",
     "output_type": "stream",
     "text": [
      "sigA_L386M\n"
     ]
    },
    {
     "name": "stderr",
     "output_type": "stream",
     "text": [
      "100%|███████████████████████████████████| 30454/30454 [00:03<00:00, 9180.32it/s]\n"
     ]
    },
    {
     "name": "stdout",
     "output_type": "stream",
     "text": [
      "ct-CM-annotations_sigA_L386M_circle.txt\n",
      "sigA_G380A\n"
     ]
    },
    {
     "name": "stderr",
     "output_type": "stream",
     "text": [
      "100%|███████████████████████████████████| 30454/30454 [00:03<00:00, 8044.15it/s]\n"
     ]
    },
    {
     "name": "stdout",
     "output_type": "stream",
     "text": [
      "ct-CM-annotations_sigA_G380A_circle.txt\n",
      "rpoC_I128V\n"
     ]
    },
    {
     "name": "stderr",
     "output_type": "stream",
     "text": [
      "100%|███████████████████████████████████| 30454/30454 [00:03<00:00, 8073.83it/s]\n"
     ]
    },
    {
     "name": "stdout",
     "output_type": "stream",
     "text": [
      "ct-CM-annotations_rpoC_I128V_circle.txt\n",
      "sigA_I382V\n"
     ]
    },
    {
     "name": "stderr",
     "output_type": "stream",
     "text": [
      "100%|███████████████████████████████████| 30454/30454 [00:03<00:00, 7953.99it/s]\n"
     ]
    },
    {
     "name": "stdout",
     "output_type": "stream",
     "text": [
      "ct-CM-annotations_sigA_I382V_circle.txt\n",
      "rpoB_R791T\n"
     ]
    },
    {
     "name": "stderr",
     "output_type": "stream",
     "text": [
      "100%|███████████████████████████████████| 30454/30454 [00:04<00:00, 6188.82it/s]\n"
     ]
    },
    {
     "name": "stdout",
     "output_type": "stream",
     "text": [
      "ct-CM-annotations_rpoB_R791T_circle.txt\n",
      "rpoB_E460D\n"
     ]
    },
    {
     "name": "stderr",
     "output_type": "stream",
     "text": [
      "100%|███████████████████████████████████| 30454/30454 [00:04<00:00, 7573.62it/s]\n"
     ]
    },
    {
     "name": "stdout",
     "output_type": "stream",
     "text": [
      "ct-CM-annotations_rpoB_E460D_circle.txt\n",
      "sigA_E385Q\n"
     ]
    },
    {
     "name": "stderr",
     "output_type": "stream",
     "text": [
      "100%|███████████████████████████████████| 30454/30454 [00:03<00:00, 8211.95it/s]"
     ]
    },
    {
     "name": "stdout",
     "output_type": "stream",
     "text": [
      "ct-CM-annotations_sigA_E385Q_circle.txt\n"
     ]
    },
    {
     "name": "stderr",
     "output_type": "stream",
     "text": [
      "\n"
     ]
    }
   ],
   "source": [
    "for i,name in enumerate(mutation_list):\n",
    "    \n",
    "    print(name)\n",
    "    \n",
    "    vis = 'binary'\n",
    "\n",
    "    binary_header=\"\"\"DATASET_BINARY\n",
    "\n",
    "    SEPARATOR COMMA\n",
    "\n",
    "    DATASET_LABEL,binary\n",
    "\n",
    "    COLOR,#e41a1c\n",
    "\n",
    "    FIELD_SHAPES,1\n",
    "\n",
    "    FIELD_LABELS,f1\n",
    "\n",
    "    DATA\n",
    "    \"\"\"\n",
    "\n",
    "    binary_annotations = ''\n",
    "\n",
    "    for i in tqdm(range(ts.num_nodes)):   \n",
    "\n",
    "        row = new_tables.nodes[i]\n",
    "\n",
    "        if 'name' in row.metadata.keys():\n",
    "\n",
    "            uid = row.metadata['name']\n",
    "\n",
    "            if uid in LABELS[LABELS[name]].index:\n",
    "                line = 'n'+str(i) +',1\\n'\n",
    "                binary_annotations += line \n",
    "\n",
    "    binary_annotations = binary_header + binary_annotations\n",
    "    \n",
    "    title = 'ct-CM-annotations_' + name + '_circle.txt'\n",
    "    print(title)\n",
    "\n",
    "    with open(title,'w') as f:\n",
    "        f.write(binary_annotations)"
   ]
  },
  {
   "cell_type": "code",
   "execution_count": 150,
   "metadata": {},
   "outputs": [
    {
     "data": {
      "text/plain": [
       "'(n1:6.90799999999990177,n2:3.09200000000009823,(n4:0.46453999999994267,(n6:8.18533999999999651,(((n12:9.91015000000015789,n13:8.08985000000006949):0.17857000000003609,((((n20:1.73206000000004678,n21:4.26793999999995322):0.87799999999992906,(n22:0.00099999999997635,n23:2.00000000000000000):3.62199999999984357):8.94817000000011831,(n24:7.96229000000016640,(n26:5.42753000000016073,(n28:1.00000000000000000,n29:0.00099999999997635):3.07247000000006665):2.53771000000006097):1.48932999999988169):0.11167999999997846,(((n34:0.89059000000020205,(n36:1.04859000000010383,n37:1.95141000000012355):2.10941000000002532):12.25711999999998625,(n38:12.04489999999987049,(n40:6.05602000000021690,(n42:7.91893000000027314,(n44:0.86409999999978027,n45:5.13589999999999236):0.08107000000018161):0.19398000000001048):0.70509999999967476):2.83663000000024113):0.34405999999989945,(n46:4.74698000000012144,((n50:6.11341000000015811,n51:8.88659000000006927):0.02957999999989624,((n54:0.00099999999997635,(n56:6.10577000'"
      ]
     },
     "execution_count": 150,
     "metadata": {},
     "output_type": "execute_result"
    }
   ],
   "source": [
    "tree = ts.first()\n",
    "\n",
    "newick_string = tree.as_newick()"
   ]
  },
  {
   "cell_type": "markdown",
   "metadata": {},
   "source": [
    "Make a bar plot for the growth corresponding to each sample"
   ]
  },
  {
   "cell_type": "code",
   "execution_count": 85,
   "metadata": {
    "scrolled": true
   },
   "outputs": [
    {
     "name": "stderr",
     "output_type": "stream",
     "text": [
      "100%|████████████████████████████████████| 30454/30454 [01:35<00:00, 317.89it/s]\n"
     ]
    }
   ],
   "source": [
    "vis = 'bar'\n",
    "\n",
    "bar_header=\"\"\"DATASET_SIMPLEBAR\n",
    "\n",
    "SEPARATOR COMMA\n",
    "\n",
    "DATASET_LABEL,bar\n",
    "\n",
    "COLOR,#ff0000\n",
    "\n",
    "WIDTH,100\n",
    "\n",
    "DATA\n",
    "\"\"\"\n",
    "\n",
    "#ID1,value1\n",
    "#ID2,value2\n",
    "#9606,10000\n",
    "#LEAF1|LEAF2,11000\n",
    "\n",
    "bar_annotations = ''\n",
    "\n",
    "for i in tqdm(range(ts.num_nodes)):   \n",
    "\n",
    "    row = new_tables.nodes[i]\n",
    "\n",
    "    if 'name' in row.metadata.keys():\n",
    "\n",
    "        uid = row.metadata['name']\n",
    "        \n",
    "        if numpy.any(PLATES[PLATES.UNIQUEID==LABELS.loc[uid].UNIQUEID].IM_POS_AVERAGE.values):\n",
    "            \n",
    "            growth = PLATES[PLATES.UNIQUEID==LABELS.loc[uid].UNIQUEID].IM_POS_AVERAGE.values[0]\n",
    "            line = 'n'+ str(i) + ',' + str(growth) + '\\n'\n",
    "            bar_annotations += line \n",
    "        \n",
    "        else:\n",
    "            \n",
    "            continue\n",
    "\n",
    "#         if uid in LABELS[LABELS['HAS_T853A']].index:\n",
    "#             line = 'n'+str(i) +',1\\n'\n",
    "#             bar_annotations += line \n",
    "\n",
    "bar_annotations = bar_header + bar_annotations\n"
   ]
  },
  {
   "cell_type": "code",
   "execution_count": 175,
   "metadata": {},
   "outputs": [
    {
     "name": "stdout",
     "output_type": "stream",
     "text": [
      "0.4973363324257133\n"
     ]
    }
   ],
   "source": [
    "uid = new_tables.nodes[2].metadata['name']\n",
    "GENOMES[GENOMES.TB_TYPE_1 == 'XDR']\n",
    "\n",
    "#load UNIQUEIDs of resistant samples with CMs\n",
    "\n",
    "res_CM_samples = []\n",
    "\n",
    "for i, name in enumerate(hits_final.resistant_mutation.unique()):\n",
    "    resistance = MUTATIONS[(MUTATIONS.GENE_MUTATION == name)].UNIQUEID\n",
    "    hit_samples_local = MUTATIONS[(MUTATIONS.GENE_MUTATION.isin(hits_final.other_mutation.values.tolist())) \n",
    "                                  & (MUTATIONS.UNIQUEID.isin(resistance.tolist()))].UNIQUEID.unique()\n",
    "    res_CM_samples.append(hit_samples_local)\n",
    "\n",
    "res_CM_samples = numpy.concatenate(res_CM_samples)\n",
    "res_CM_samples = pandas.Series(res_CM_samples)\n",
    "res_CM_samples = res_CM_samples.tolist()\n",
    "\n",
    "print(len(GENOMES[((GENOMES.TB_TYPE_1 == 'XDR')|(GENOMES.TB_TYPE_1 == 'MDR')) & (GENOMES.MYKROBE_LINEAGE_NAME_1 == 'Lineage 2') & (GENOMES.index.isin(res_CM_samples))])/len(GENOMES[((GENOMES.TB_TYPE_1 == 'XDR')|(GENOMES.TB_TYPE_1 == 'MDR')) & (GENOMES.MYKROBE_LINEAGE_NAME_1 == 'Lineage 2')]))\n",
    "#GENOMES.index"
   ]
  },
  {
   "cell_type": "markdown",
   "metadata": {},
   "source": [
    "Make a colored strip for resistance type (RIF/ MDR/ XDR/ UNK/ SUS)"
   ]
  },
  {
   "cell_type": "code",
   "execution_count": 22,
   "metadata": {},
   "outputs": [
    {
     "name": "stderr",
     "output_type": "stream",
     "text": [
      "100%|███████████████████████████████████████████████████████████████████████████████| 30454/30454 [00:27<00:00, 1120.46it/s]\n"
     ]
    }
   ],
   "source": [
    "vis = 'colorstrip'\n",
    "\n",
    "resistance_header=\"\"\"DATASET_COLORSTRIP\n",
    "\n",
    "SEPARATOR COMMA\n",
    "\n",
    "DATASET_LABEL,label1\n",
    "\n",
    "COLOR,#e41a1c\n",
    "\n",
    "COLOR_BRANCHES,0\n",
    "\n",
    "DATA\n",
    "\"\"\"\n",
    "\n",
    "colour_lookup = {1: '#F2CD5C', 2: '#F2921D', 3: '#A61F69', 4: '#400E32', 5: '#D3D3D3'}\n",
    "\n",
    "resistance_annotations = ''\n",
    "\n",
    "for i in tqdm(range(ts.num_nodes)): \n",
    "\n",
    "    row = new_tables.nodes[i]\n",
    "\n",
    "    if 'name' in row.metadata.keys():\n",
    "\n",
    "        uid = row.metadata['name']\n",
    "        \n",
    "        res_type = GENOMES.TB_TYPE_1[LABELS.loc[uid].UNIQUEID]\n",
    "\n",
    "        if res_type == 'SUS':\n",
    "            res_colour = colour_lookup[1]\n",
    "            \n",
    "        elif res_type == 'RIF':\n",
    "            res_colour = colour_lookup[3]\n",
    "            \n",
    "        elif res_type == 'MDR':\n",
    "            res_colour = colour_lookup[3]\n",
    "            \n",
    "        elif res_type == 'XDR':\n",
    "            res_colour = colour_lookup[3]\n",
    "            \n",
    "        elif res_type == 'UNK':\n",
    "            res_colour = colour_lookup[5]\n",
    "\n",
    "        else:\n",
    "            colour = '#bbbbbb'\n",
    "\n",
    "        line = 'n'+ str(i) + ',' + res_colour + ',Resistance ' + res_type + '\\n'\n",
    "        resistance_annotations += line \n",
    "    \n",
    "\n",
    "resistance_annotations = resistance_header + resistance_annotations\n"
   ]
  },
  {
   "cell_type": "markdown",
   "metadata": {},
   "source": [
    "Write out the Tree in Newick format (probably don't need as we read it in earlier..) and the matching annotation files that you can drag and drop onto ITOL"
   ]
  },
  {
   "cell_type": "code",
   "execution_count": 24,
   "metadata": {},
   "outputs": [],
   "source": [
    "# with open('ct-tree.newick','w') as f:\n",
    "#     f.write(newick_string)\n",
    "\n",
    "# with open('ct-prune-sparse.txt','w') as f:\n",
    "#     f.write(prune_annotations)\n",
    "\n",
    "# with open('ct-lineage-annotations-circle.txt','w') as f:\n",
    "#     f.write(lineage_annotations)\n",
    "\n",
    "# with open('ct-lineage-annotations-circle.txt','w') as f:\n",
    "#     f.write(lineage_annotations)\n",
    "\n",
    "# with open('ct-lineage-annotations-range.txt','w') as f:\n",
    "#     f.write(lineage_annotations)\n",
    "\n",
    "# with open('ct-annotations.txt','w') as f:\n",
    "#     f.write(binary_annotations)\n",
    "    \n",
    "# with open('ct-resistant-annotations.txt','w') as f:\n",
    "#     f.write(binary_annotations)\n",
    "    \n",
    "# with open('T853A_ct-CM-annotations_circle.txt','w') as f:\n",
    "#     f.write(binary_annotations)\n",
    "\n",
    "# with open('ct-mutation-annotations_V483G.txt','w') as f:\n",
    "#     f.write(mutation_annotations)\n",
    "\n",
    "# with open('ct-mutation-annotations-CMs-colored.txt','w') as f:\n",
    "#     f.write(mutation_annotations)\n",
    "\n",
    "# with open('ct-growth-bar.txt','w') as f:\n",
    "#     f.write(bar_annotations)\n",
    "    \n",
    "with open('ct-resistance_type.txt','w') as f:\n",
    "    f.write(resistance_annotations)"
   ]
  },
  {
   "cell_type": "markdown",
   "metadata": {},
   "source": [
    "**Below are investigations of specific sub clades with either interesting aspects or accumulated CMs**"
   ]
  },
  {
   "cell_type": "markdown",
   "metadata": {},
   "source": [
    "Investigate nodes with CMs arising before resistance"
   ]
  },
  {
   "cell_type": "code",
   "execution_count": 121,
   "metadata": {
    "scrolled": true
   },
   "outputs": [
    {
     "data": {
      "text/html": [
       "<div>\n",
       "<style scoped>\n",
       "    .dataframe tbody tr th:only-of-type {\n",
       "        vertical-align: middle;\n",
       "    }\n",
       "\n",
       "    .dataframe tbody tr th {\n",
       "        vertical-align: top;\n",
       "    }\n",
       "\n",
       "    .dataframe thead th {\n",
       "        text-align: right;\n",
       "    }\n",
       "</style>\n",
       "<table border=\"1\" class=\"dataframe\">\n",
       "  <thead>\n",
       "    <tr style=\"text-align: right;\">\n",
       "      <th></th>\n",
       "      <th>0</th>\n",
       "    </tr>\n",
       "  </thead>\n",
       "  <tbody>\n",
       "    <tr>\n",
       "      <th>0</th>\n",
       "      <td>rpoA_a-40o</td>\n",
       "    </tr>\n",
       "    <tr>\n",
       "      <th>1</th>\n",
       "      <td>rpoB_A1075A</td>\n",
       "    </tr>\n",
       "    <tr>\n",
       "      <th>2</th>\n",
       "      <td>rpoC_E1092D</td>\n",
       "    </tr>\n",
       "    <tr>\n",
       "      <th>3</th>\n",
       "      <td>rpoC_L1307L</td>\n",
       "    </tr>\n",
       "    <tr>\n",
       "      <th>4</th>\n",
       "      <td>rpoA_g-100x</td>\n",
       "    </tr>\n",
       "    <tr>\n",
       "      <th>...</th>\n",
       "      <td>...</td>\n",
       "    </tr>\n",
       "    <tr>\n",
       "      <th>5795</th>\n",
       "      <td>rpoC_E1092D</td>\n",
       "    </tr>\n",
       "    <tr>\n",
       "      <th>5796</th>\n",
       "      <td>rpoB_S450L</td>\n",
       "    </tr>\n",
       "    <tr>\n",
       "      <th>5797</th>\n",
       "      <td>rpoB_A1075A</td>\n",
       "    </tr>\n",
       "    <tr>\n",
       "      <th>5798</th>\n",
       "      <td>rpoC_I491T</td>\n",
       "    </tr>\n",
       "    <tr>\n",
       "      <th>5799</th>\n",
       "      <td>rpoC_E1092D</td>\n",
       "    </tr>\n",
       "  </tbody>\n",
       "</table>\n",
       "<p>5800 rows × 1 columns</p>\n",
       "</div>"
      ],
      "text/plain": [
       "                0\n",
       "0      rpoA_a-40o\n",
       "1     rpoB_A1075A\n",
       "2     rpoC_E1092D\n",
       "3     rpoC_L1307L\n",
       "4     rpoA_g-100x\n",
       "...           ...\n",
       "5795  rpoC_E1092D\n",
       "5796   rpoB_S450L\n",
       "5797  rpoB_A1075A\n",
       "5798   rpoC_I491T\n",
       "5799  rpoC_E1092D\n",
       "\n",
       "[5800 rows x 1 columns]"
      ]
     },
     "execution_count": 121,
     "metadata": {},
     "output_type": "execute_result"
    }
   ],
   "source": [
    "#n8190 - n8900\n",
    "\n",
    "interesting_clade = []\n",
    "\n",
    "for i in new_tables.nodes[8190:8900]:\n",
    "    if 'name' in i.metadata.keys():\n",
    "        index = GENOMES[GENOMES['ORIGINAL_UID'] == i.metadata['name']].index\n",
    "        interesting_clade.extend(MUTATIONS[MUTATIONS.UNIQUEID == index[0]].GENE_MUTATION.values)\n",
    "    \n",
    "df = pandas.DataFrame(interesting_clade)\n",
    "df"
   ]
  },
  {
   "cell_type": "code",
   "execution_count": 122,
   "metadata": {
    "scrolled": true
   },
   "outputs": [
    {
     "data": {
      "text/plain": [
       "rpoB_A1075A    357\n",
       "rpoC_E1092D    356\n",
       "rpoB_S450L     225\n",
       "rpoA_a-40o     157\n",
       "rpoA_c-92x      83\n",
       "rpoA_g-63x      83\n",
       "rpoA_g-61x      83\n",
       "rpoA_g-58x      83\n",
       "rpoA_g-52x      83\n",
       "rpoA_g-100x     83\n",
       "rpoA_c-91x      83\n",
       "rpoA_g-65x      83\n",
       "rpoA_c-89x      83\n",
       "rpoA_c-88x      83\n",
       "rpoA_c-87x      83\n",
       "rpoA_c-85x      83\n",
       "rpoA_g-64x      83\n",
       "rpoA_g-66x      83\n",
       "rpoA_c-78x      83\n",
       "rpoA_g-67x      83\n",
       "rpoA_g-81x      83\n",
       "rpoA_g-83x      83\n",
       "rpoA_g-90x      83\n",
       "rpoA_g-93x      83\n",
       "rpoA_g-95x      83\n",
       "rpoA_g-96x      83\n",
       "rpoA_g-97x      83\n",
       "rpoA_g-98x      83\n",
       "rpoA_g-99x      83\n",
       "rpoA_t-69x      83\n",
       "rpoA_t-80x      83\n",
       "rpoA_c-84x      83\n",
       "rpoA_c-94x      83\n",
       "rpoA_c-77x      83\n",
       "rpoA_c-62x      83\n",
       "rpoA_a-73x      83\n",
       "rpoA_a-79x      83\n",
       "rpoA_a-82x      83\n",
       "rpoA_c-53x      83\n",
       "rpoA_c-54x      83\n",
       "rpoA_c-55x      83\n",
       "rpoA_c-76x      83\n",
       "rpoA_c-56x      83\n",
       "rpoA_c-57x      83\n",
       "rpoA_c-59x      83\n",
       "rpoA_c-60x      83\n",
       "rpoA_c-86x      83\n",
       "rpoA_c-75x      83\n",
       "rpoA_c-68x      83\n",
       "rpoA_c-70x      83\n",
       "dtype: int64"
      ]
     },
     "execution_count": 122,
     "metadata": {},
     "output_type": "execute_result"
    }
   ],
   "source": [
    "df.value_counts()[0:50]"
   ]
  },
  {
   "cell_type": "markdown",
   "metadata": {},
   "source": [
    "Interesting clade of lineage 4 clusters with lineage 5 and 6"
   ]
  },
  {
   "cell_type": "code",
   "execution_count": 30,
   "metadata": {
    "scrolled": true
   },
   "outputs": [
    {
     "name": "stdout",
     "output_type": "stream",
     "text": [
      "site.06.subj.06TB_0666.lab.06MIL1604.iso.1\n",
      "site.06.subj.06TB_1029.lab.06MIL2034.iso.1\n",
      "site.06.subj.06TB_1408.lab.06MIL2686.iso.1\n",
      "site.06.subj.06TB_1406.lab.06MIL2684.iso.1\n"
     ]
    }
   ],
   "source": [
    "#n15072, n15074, n15077, n15076\n",
    "list = [15072, 15074, 15077, 15076]\n",
    "interesting_clade2 = []\n",
    "\n",
    "for i in list:\n",
    "    node = new_tables.nodes[i]\n",
    "    if 'name' in node.metadata.keys():\n",
    "        index = GENOMES[GENOMES['ORIGINAL_UID'] == node.metadata['name']].index\n",
    "        print(index[0])\n",
    "        interesting_clade2.extend(MUTATIONS[MUTATIONS.UNIQUEID == index[0]].GENE_MUTATION.values)\n",
    "    \n",
    "df = pandas.DataFrame(interesting_clade2)"
   ]
  },
  {
   "cell_type": "code",
   "execution_count": 28,
   "metadata": {
    "scrolled": true
   },
   "outputs": [
    {
     "data": {
      "text/plain": [
       "rpoA_a-40o     4\n",
       "rpoA_g-67x     4\n",
       "rpoA_c-92x     4\n",
       "rpoA_c-94x     4\n",
       "rpoA_g-100x    4\n",
       "rpoA_g-48x     4\n",
       "rpoA_g-50x     4\n",
       "rpoA_g-52x     4\n",
       "rpoA_g-58x     4\n",
       "rpoA_g-61x     4\n",
       "rpoA_g-63x     4\n",
       "rpoA_g-64x     4\n",
       "rpoA_g-65x     4\n",
       "rpoA_g-66x     4\n",
       "rpoA_g-81x     4\n",
       "rpoA_a-42x     4\n",
       "rpoA_g-83x     4\n",
       "rpoA_g-90x     4\n",
       "rpoA_g-93x     4\n",
       "rpoA_g-95x     4\n",
       "rpoA_g-96x     4\n",
       "rpoA_g-97x     4\n",
       "rpoA_g-98x     4\n",
       "rpoA_g-99x     4\n",
       "rpoA_t-49x     4\n",
       "rpoA_t-69x     4\n",
       "rpoA_t-80x     4\n",
       "rpoB_A1075A    4\n",
       "rpoA_c-91x     4\n",
       "rpoA_c-89x     4\n",
       "rpoA_c-88x     4\n",
       "rpoA_c-87x     4\n",
       "rpoA_a-73x     4\n",
       "rpoA_a-79x     4\n",
       "rpoA_a-82x     4\n",
       "rpoA_c-41x     4\n",
       "rpoA_c-43x     4\n",
       "rpoA_c-53x     4\n",
       "rpoA_c-54x     4\n",
       "rpoA_c-55x     4\n",
       "rpoA_c-56x     4\n",
       "rpoA_c-57x     4\n",
       "rpoA_c-59x     4\n",
       "rpoA_c-60x     4\n",
       "rpoA_c-62x     4\n",
       "rpoA_c-68x     4\n",
       "rpoA_c-70x     4\n",
       "rpoA_c-71x     4\n",
       "rpoA_c-72x     4\n",
       "rpoA_c-74x     4\n",
       "rpoA_c-75x     4\n",
       "rpoA_c-76x     4\n",
       "rpoA_c-77x     4\n",
       "rpoA_c-78x     4\n",
       "rpoA_c-84x     4\n",
       "rpoA_c-85x     4\n",
       "rpoA_c-86x     4\n",
       "rpoC_V626I     1\n",
       "dtype: int64"
      ]
     },
     "execution_count": 28,
     "metadata": {},
     "output_type": "execute_result"
    }
   ],
   "source": [
    "df.value_counts()"
   ]
  },
  {
   "cell_type": "markdown",
   "metadata": {},
   "source": [
    "Interesting clade within lineage 2 (root): blue nodes have S450O instead of S450L!"
   ]
  },
  {
   "cell_type": "code",
   "execution_count": 171,
   "metadata": {},
   "outputs": [
    {
     "data": {
      "text/html": [
       "<div>\n",
       "<style scoped>\n",
       "    .dataframe tbody tr th:only-of-type {\n",
       "        vertical-align: middle;\n",
       "    }\n",
       "\n",
       "    .dataframe tbody tr th {\n",
       "        vertical-align: top;\n",
       "    }\n",
       "\n",
       "    .dataframe thead th {\n",
       "        text-align: right;\n",
       "    }\n",
       "</style>\n",
       "<table border=\"1\" class=\"dataframe\">\n",
       "  <thead>\n",
       "    <tr style=\"text-align: right;\">\n",
       "      <th></th>\n",
       "      <th>0</th>\n",
       "    </tr>\n",
       "  </thead>\n",
       "  <tbody>\n",
       "    <tr>\n",
       "      <th>0</th>\n",
       "      <td>rpoB_S450O</td>\n",
       "    </tr>\n",
       "    <tr>\n",
       "      <th>1</th>\n",
       "      <td>rpoB_A1075A</td>\n",
       "    </tr>\n",
       "    <tr>\n",
       "      <th>2</th>\n",
       "      <td>rpoC_I491V</td>\n",
       "    </tr>\n",
       "    <tr>\n",
       "      <th>3</th>\n",
       "      <td>rpoB_S450L</td>\n",
       "    </tr>\n",
       "    <tr>\n",
       "      <th>4</th>\n",
       "      <td>rpoB_A1075A</td>\n",
       "    </tr>\n",
       "    <tr>\n",
       "      <th>...</th>\n",
       "      <td>...</td>\n",
       "    </tr>\n",
       "    <tr>\n",
       "      <th>4889</th>\n",
       "      <td>rpoA_a-40o</td>\n",
       "    </tr>\n",
       "    <tr>\n",
       "      <th>4890</th>\n",
       "      <td>rpoB_S450L</td>\n",
       "    </tr>\n",
       "    <tr>\n",
       "      <th>4891</th>\n",
       "      <td>rpoB_A1075A</td>\n",
       "    </tr>\n",
       "    <tr>\n",
       "      <th>4892</th>\n",
       "      <td>rpoC_G388G</td>\n",
       "    </tr>\n",
       "    <tr>\n",
       "      <th>4893</th>\n",
       "      <td>rpoC_I491V</td>\n",
       "    </tr>\n",
       "  </tbody>\n",
       "</table>\n",
       "<p>4894 rows × 1 columns</p>\n",
       "</div>"
      ],
      "text/plain": [
       "                0\n",
       "0      rpoB_S450O\n",
       "1     rpoB_A1075A\n",
       "2      rpoC_I491V\n",
       "3      rpoB_S450L\n",
       "4     rpoB_A1075A\n",
       "...           ...\n",
       "4889   rpoA_a-40o\n",
       "4890   rpoB_S450L\n",
       "4891  rpoB_A1075A\n",
       "4892   rpoC_G388G\n",
       "4893   rpoC_I491V\n",
       "\n",
       "[4894 rows x 1 columns]"
      ]
     },
     "execution_count": 171,
     "metadata": {},
     "output_type": "execute_result"
    }
   ],
   "source": [
    "#n1-n600\n",
    "interesting_clade3 = []\n",
    "\n",
    "for i in new_tables.nodes[1:600]:\n",
    "    if 'name' in i.metadata.keys():\n",
    "        index = GENOMES[GENOMES['ORIGINAL_UID'] == i.metadata['name']].index\n",
    "        interesting_clade3.extend(MUTATIONS[MUTATIONS.UNIQUEID == index[0]].GENE_MUTATION.values)\n",
    "    \n",
    "df = pandas.DataFrame(interesting_clade3)\n",
    "df"
   ]
  },
  {
   "cell_type": "code",
   "execution_count": 46,
   "metadata": {
    "scrolled": true
   },
   "outputs": [
    {
     "data": {
      "text/plain": [
       "rpoB_A1075A    299\n",
       "rpoC_I491V     293\n",
       "rpoB_S450L     286\n",
       "rpoA_a-40o     118\n",
       "rpoA_g-66x      72\n",
       "rpoA_c-88x      72\n",
       "rpoA_c-89x      72\n",
       "rpoA_c-92x      72\n",
       "rpoA_c-94x      72\n",
       "rpoA_g-100x     72\n",
       "rpoA_g-52x      72\n",
       "rpoA_g-58x      72\n",
       "rpoA_g-61x      72\n",
       "rpoA_g-63x      72\n",
       "rpoA_g-64x      72\n",
       "rpoA_g-65x      72\n",
       "rpoA_g-81x      72\n",
       "rpoA_g-67x      72\n",
       "rpoA_c-85x      72\n",
       "rpoA_g-83x      72\n",
       "rpoA_g-90x      72\n",
       "rpoA_g-93x      72\n",
       "rpoA_g-95x      72\n",
       "rpoA_g-96x      72\n",
       "rpoA_g-97x      72\n",
       "rpoA_g-98x      72\n",
       "rpoA_g-99x      72\n",
       "rpoA_t-69x      72\n",
       "rpoA_t-80x      72\n",
       "rpoA_c-86x      72\n",
       "rpoA_c-91x      72\n",
       "rpoA_c-84x      72\n",
       "rpoA_c-70x      72\n",
       "rpoA_a-73x      72\n",
       "rpoA_a-79x      72\n",
       "rpoA_a-82x      72\n",
       "rpoA_c-53x      72\n",
       "rpoA_c-54x      72\n",
       "rpoA_c-55x      72\n",
       "rpoA_c-56x      72\n",
       "dtype: int64"
      ]
     },
     "execution_count": 46,
     "metadata": {},
     "output_type": "execute_result"
    }
   ],
   "source": [
    "df.value_counts()[:40]"
   ]
  },
  {
   "cell_type": "code",
   "execution_count": 26,
   "metadata": {
    "scrolled": true
   },
   "outputs": [
    {
     "data": {
      "text/html": [
       "<div>\n",
       "<style scoped>\n",
       "    .dataframe tbody tr th:only-of-type {\n",
       "        vertical-align: middle;\n",
       "    }\n",
       "\n",
       "    .dataframe tbody tr th {\n",
       "        vertical-align: top;\n",
       "    }\n",
       "\n",
       "    .dataframe thead th {\n",
       "        text-align: right;\n",
       "    }\n",
       "</style>\n",
       "<table border=\"1\" class=\"dataframe\">\n",
       "  <thead>\n",
       "    <tr style=\"text-align: right;\">\n",
       "      <th></th>\n",
       "      <th>SITEID</th>\n",
       "      <th>SUBJID</th>\n",
       "      <th>LABID</th>\n",
       "      <th>COUNTRY_WHERE_SAMPLE_TAKEN</th>\n",
       "      <th>REGION</th>\n",
       "      <th>COLLECTION_DATE</th>\n",
       "      <th>ISOLATE_COLLECTED_PROSPECTIVELY</th>\n",
       "      <th>ANATOMICAL_ORIGIN</th>\n",
       "      <th>SMEAR_RESULT</th>\n",
       "      <th>WGS_SEQUENCING_PLATFORM</th>\n",
       "      <th>XPERT_MTB_RIF</th>\n",
       "      <th>HAIN_RIF</th>\n",
       "      <th>HAIN_INH</th>\n",
       "      <th>HAIN_FL</th>\n",
       "      <th>HAIN_AM</th>\n",
       "      <th>HAIN_ETH</th>\n",
       "      <th>SMOKER</th>\n",
       "      <th>INJECT_DRUG_USER</th>\n",
       "      <th>IS_HOMELESS</th>\n",
       "      <th>IS_IMPRISONED</th>\n",
       "      <th>HIV</th>\n",
       "      <th>DIABETES</th>\n",
       "      <th>WHO_OUTCOME</th>\n",
       "      <th>UNIQUEID</th>\n",
       "    </tr>\n",
       "  </thead>\n",
       "  <tbody>\n",
       "    <tr>\n",
       "      <th>0</th>\n",
       "      <td>02</td>\n",
       "      <td>0958</td>\n",
       "      <td>22A197</td>\n",
       "      <td>CHN</td>\n",
       "      <td>ChongQing</td>\n",
       "      <td>2017-12-04 00:00:00+07:00</td>\n",
       "      <td>False</td>\n",
       "      <td>not known</td>\n",
       "      <td>not known</td>\n",
       "      <td>HiSeq</td>\n",
       "      <td>not tested</td>\n",
       "      <td>not tested</td>\n",
       "      <td>not tested</td>\n",
       "      <td>not tested</td>\n",
       "      <td>not tested</td>\n",
       "      <td>not tested</td>\n",
       "      <td>not known</td>\n",
       "      <td>not known</td>\n",
       "      <td>False</td>\n",
       "      <td>False</td>\n",
       "      <td>not known</td>\n",
       "      <td>not known</td>\n",
       "      <td>not known</td>\n",
       "      <td>site.02.subj.0958.lab.22A197.iso.1</td>\n",
       "    </tr>\n",
       "    <tr>\n",
       "      <th>1</th>\n",
       "      <td>02</td>\n",
       "      <td>0823</td>\n",
       "      <td>2013241494</td>\n",
       "      <td>CHN</td>\n",
       "      <td>GuiZhou</td>\n",
       "      <td>2013-10-06 00:00:00+07:00</td>\n",
       "      <td>False</td>\n",
       "      <td>not known</td>\n",
       "      <td>not known</td>\n",
       "      <td>HiSeq</td>\n",
       "      <td>not tested</td>\n",
       "      <td>not tested</td>\n",
       "      <td>not tested</td>\n",
       "      <td>not tested</td>\n",
       "      <td>not tested</td>\n",
       "      <td>not tested</td>\n",
       "      <td>not known</td>\n",
       "      <td>not known</td>\n",
       "      <td>False</td>\n",
       "      <td>False</td>\n",
       "      <td>not known</td>\n",
       "      <td>not known</td>\n",
       "      <td>not known</td>\n",
       "      <td>site.02.subj.0823.lab.2013241494.iso.1</td>\n",
       "    </tr>\n",
       "    <tr>\n",
       "      <th>2</th>\n",
       "      <td>02</td>\n",
       "      <td>0359</td>\n",
       "      <td>222018-14</td>\n",
       "      <td>CHN</td>\n",
       "      <td>ChongQing</td>\n",
       "      <td>2014-01-01 00:00:00+07:00</td>\n",
       "      <td>False</td>\n",
       "      <td>not known</td>\n",
       "      <td>not known</td>\n",
       "      <td>HiSeq</td>\n",
       "      <td>not tested</td>\n",
       "      <td>not tested</td>\n",
       "      <td>not tested</td>\n",
       "      <td>not tested</td>\n",
       "      <td>not tested</td>\n",
       "      <td>not tested</td>\n",
       "      <td>not known</td>\n",
       "      <td>not known</td>\n",
       "      <td>False</td>\n",
       "      <td>False</td>\n",
       "      <td>not known</td>\n",
       "      <td>not known</td>\n",
       "      <td>not known</td>\n",
       "      <td>site.02.subj.0359.lab.222018-14.iso.1</td>\n",
       "    </tr>\n",
       "    <tr>\n",
       "      <th>3</th>\n",
       "      <td>02</td>\n",
       "      <td>0224</td>\n",
       "      <td>2013221088</td>\n",
       "      <td>CHN</td>\n",
       "      <td>ChongQing</td>\n",
       "      <td>2013-01-01 00:00:00+07:00</td>\n",
       "      <td>False</td>\n",
       "      <td>not known</td>\n",
       "      <td>not known</td>\n",
       "      <td>HiSeq</td>\n",
       "      <td>not tested</td>\n",
       "      <td>not tested</td>\n",
       "      <td>not tested</td>\n",
       "      <td>not tested</td>\n",
       "      <td>not tested</td>\n",
       "      <td>not tested</td>\n",
       "      <td>not known</td>\n",
       "      <td>not known</td>\n",
       "      <td>False</td>\n",
       "      <td>False</td>\n",
       "      <td>not known</td>\n",
       "      <td>not known</td>\n",
       "      <td>not known</td>\n",
       "      <td>site.02.subj.0224.lab.2013221088.iso.1</td>\n",
       "    </tr>\n",
       "    <tr>\n",
       "      <th>4</th>\n",
       "      <td>02</td>\n",
       "      <td>1347</td>\n",
       "      <td>2013154310</td>\n",
       "      <td>CHN</td>\n",
       "      <td>Shandong</td>\n",
       "      <td>2013-01-01 00:00:00+07:00</td>\n",
       "      <td>False</td>\n",
       "      <td>not known</td>\n",
       "      <td>not known</td>\n",
       "      <td>HiSeq</td>\n",
       "      <td>not tested</td>\n",
       "      <td>not tested</td>\n",
       "      <td>not tested</td>\n",
       "      <td>not tested</td>\n",
       "      <td>not tested</td>\n",
       "      <td>not tested</td>\n",
       "      <td>not known</td>\n",
       "      <td>not known</td>\n",
       "      <td>False</td>\n",
       "      <td>False</td>\n",
       "      <td>not known</td>\n",
       "      <td>not known</td>\n",
       "      <td>not known</td>\n",
       "      <td>site.02.subj.1347.lab.2013154310.iso.1</td>\n",
       "    </tr>\n",
       "    <tr>\n",
       "      <th>...</th>\n",
       "      <td>...</td>\n",
       "      <td>...</td>\n",
       "      <td>...</td>\n",
       "      <td>...</td>\n",
       "      <td>...</td>\n",
       "      <td>...</td>\n",
       "      <td>...</td>\n",
       "      <td>...</td>\n",
       "      <td>...</td>\n",
       "      <td>...</td>\n",
       "      <td>...</td>\n",
       "      <td>...</td>\n",
       "      <td>...</td>\n",
       "      <td>...</td>\n",
       "      <td>...</td>\n",
       "      <td>...</td>\n",
       "      <td>...</td>\n",
       "      <td>...</td>\n",
       "      <td>...</td>\n",
       "      <td>...</td>\n",
       "      <td>...</td>\n",
       "      <td>...</td>\n",
       "      <td>...</td>\n",
       "      <td>...</td>\n",
       "    </tr>\n",
       "    <tr>\n",
       "      <th>16664</th>\n",
       "      <td>06</td>\n",
       "      <td>06TB_0565</td>\n",
       "      <td>06MIL1243</td>\n",
       "      <td>ITA</td>\n",
       "      <td>nan</td>\n",
       "      <td>NaT</td>\n",
       "      <td>False</td>\n",
       "      <td>not known</td>\n",
       "      <td>not known</td>\n",
       "      <td>Unknown</td>\n",
       "      <td>not tested</td>\n",
       "      <td>not tested</td>\n",
       "      <td>not tested</td>\n",
       "      <td>not tested</td>\n",
       "      <td>not tested</td>\n",
       "      <td>not tested</td>\n",
       "      <td>not known</td>\n",
       "      <td>not known</td>\n",
       "      <td>False</td>\n",
       "      <td>False</td>\n",
       "      <td>not known</td>\n",
       "      <td>not known</td>\n",
       "      <td>not known</td>\n",
       "      <td>site.06.subj.06TB_0565.lab.06MIL1243.iso.1</td>\n",
       "    </tr>\n",
       "    <tr>\n",
       "      <th>16665</th>\n",
       "      <td>06</td>\n",
       "      <td>06TB_0566</td>\n",
       "      <td>06MIL1244</td>\n",
       "      <td>ITA</td>\n",
       "      <td>nan</td>\n",
       "      <td>NaT</td>\n",
       "      <td>False</td>\n",
       "      <td>not known</td>\n",
       "      <td>not known</td>\n",
       "      <td>Unknown</td>\n",
       "      <td>not tested</td>\n",
       "      <td>not tested</td>\n",
       "      <td>not tested</td>\n",
       "      <td>not tested</td>\n",
       "      <td>not tested</td>\n",
       "      <td>not tested</td>\n",
       "      <td>not known</td>\n",
       "      <td>not known</td>\n",
       "      <td>False</td>\n",
       "      <td>False</td>\n",
       "      <td>not known</td>\n",
       "      <td>not known</td>\n",
       "      <td>not known</td>\n",
       "      <td>site.06.subj.06TB_0566.lab.06MIL1244.iso.1</td>\n",
       "    </tr>\n",
       "    <tr>\n",
       "      <th>16666</th>\n",
       "      <td>06</td>\n",
       "      <td>ICK-1132</td>\n",
       "      <td>06MIL1248</td>\n",
       "      <td>PAK</td>\n",
       "      <td>nan</td>\n",
       "      <td>NaT</td>\n",
       "      <td>False</td>\n",
       "      <td>not known</td>\n",
       "      <td>not known</td>\n",
       "      <td>Unknown</td>\n",
       "      <td>not tested</td>\n",
       "      <td>not tested</td>\n",
       "      <td>not tested</td>\n",
       "      <td>not tested</td>\n",
       "      <td>not tested</td>\n",
       "      <td>not tested</td>\n",
       "      <td>not known</td>\n",
       "      <td>not known</td>\n",
       "      <td>False</td>\n",
       "      <td>False</td>\n",
       "      <td>not known</td>\n",
       "      <td>not known</td>\n",
       "      <td>not known</td>\n",
       "      <td>site.06.subj.ICK-1132.lab.06MIL1248.iso.1</td>\n",
       "    </tr>\n",
       "    <tr>\n",
       "      <th>16667</th>\n",
       "      <td>06</td>\n",
       "      <td>06TB_0474</td>\n",
       "      <td>06MIL1249</td>\n",
       "      <td>ITA</td>\n",
       "      <td>nan</td>\n",
       "      <td>NaT</td>\n",
       "      <td>False</td>\n",
       "      <td>not known</td>\n",
       "      <td>not known</td>\n",
       "      <td>Unknown</td>\n",
       "      <td>not tested</td>\n",
       "      <td>not tested</td>\n",
       "      <td>not tested</td>\n",
       "      <td>not tested</td>\n",
       "      <td>not tested</td>\n",
       "      <td>not tested</td>\n",
       "      <td>not known</td>\n",
       "      <td>not known</td>\n",
       "      <td>False</td>\n",
       "      <td>False</td>\n",
       "      <td>not known</td>\n",
       "      <td>not known</td>\n",
       "      <td>not known</td>\n",
       "      <td>site.06.subj.06TB_0474.lab.06MIL1249.iso.1</td>\n",
       "    </tr>\n",
       "    <tr>\n",
       "      <th>16668</th>\n",
       "      <td>06</td>\n",
       "      <td>RLH-639</td>\n",
       "      <td>06MIL1250</td>\n",
       "      <td>PAK</td>\n",
       "      <td>nan</td>\n",
       "      <td>NaT</td>\n",
       "      <td>False</td>\n",
       "      <td>not known</td>\n",
       "      <td>not known</td>\n",
       "      <td>Unknown</td>\n",
       "      <td>not tested</td>\n",
       "      <td>not tested</td>\n",
       "      <td>not tested</td>\n",
       "      <td>not tested</td>\n",
       "      <td>not tested</td>\n",
       "      <td>not tested</td>\n",
       "      <td>not known</td>\n",
       "      <td>not known</td>\n",
       "      <td>False</td>\n",
       "      <td>False</td>\n",
       "      <td>not known</td>\n",
       "      <td>not known</td>\n",
       "      <td>not known</td>\n",
       "      <td>site.06.subj.RLH-639.lab.06MIL1250.iso.1</td>\n",
       "    </tr>\n",
       "  </tbody>\n",
       "</table>\n",
       "<p>16669 rows × 24 columns</p>\n",
       "</div>"
      ],
      "text/plain": [
       "      SITEID     SUBJID       LABID COUNTRY_WHERE_SAMPLE_TAKEN     REGION   \n",
       "0         02       0958      22A197                        CHN  ChongQing  \\\n",
       "1         02       0823  2013241494                        CHN    GuiZhou   \n",
       "2         02       0359   222018-14                        CHN  ChongQing   \n",
       "3         02       0224  2013221088                        CHN  ChongQing   \n",
       "4         02       1347  2013154310                        CHN   Shandong   \n",
       "...      ...        ...         ...                        ...        ...   \n",
       "16664     06  06TB_0565   06MIL1243                        ITA        nan   \n",
       "16665     06  06TB_0566   06MIL1244                        ITA        nan   \n",
       "16666     06   ICK-1132   06MIL1248                        PAK        nan   \n",
       "16667     06  06TB_0474   06MIL1249                        ITA        nan   \n",
       "16668     06    RLH-639   06MIL1250                        PAK        nan   \n",
       "\n",
       "                COLLECTION_DATE  ISOLATE_COLLECTED_PROSPECTIVELY   \n",
       "0     2017-12-04 00:00:00+07:00                            False  \\\n",
       "1     2013-10-06 00:00:00+07:00                            False   \n",
       "2     2014-01-01 00:00:00+07:00                            False   \n",
       "3     2013-01-01 00:00:00+07:00                            False   \n",
       "4     2013-01-01 00:00:00+07:00                            False   \n",
       "...                         ...                              ...   \n",
       "16664                       NaT                            False   \n",
       "16665                       NaT                            False   \n",
       "16666                       NaT                            False   \n",
       "16667                       NaT                            False   \n",
       "16668                       NaT                            False   \n",
       "\n",
       "      ANATOMICAL_ORIGIN SMEAR_RESULT WGS_SEQUENCING_PLATFORM XPERT_MTB_RIF   \n",
       "0             not known    not known                   HiSeq    not tested  \\\n",
       "1             not known    not known                   HiSeq    not tested   \n",
       "2             not known    not known                   HiSeq    not tested   \n",
       "3             not known    not known                   HiSeq    not tested   \n",
       "4             not known    not known                   HiSeq    not tested   \n",
       "...                 ...          ...                     ...           ...   \n",
       "16664         not known    not known                 Unknown    not tested   \n",
       "16665         not known    not known                 Unknown    not tested   \n",
       "16666         not known    not known                 Unknown    not tested   \n",
       "16667         not known    not known                 Unknown    not tested   \n",
       "16668         not known    not known                 Unknown    not tested   \n",
       "\n",
       "         HAIN_RIF    HAIN_INH     HAIN_FL     HAIN_AM    HAIN_ETH     SMOKER   \n",
       "0      not tested  not tested  not tested  not tested  not tested  not known  \\\n",
       "1      not tested  not tested  not tested  not tested  not tested  not known   \n",
       "2      not tested  not tested  not tested  not tested  not tested  not known   \n",
       "3      not tested  not tested  not tested  not tested  not tested  not known   \n",
       "4      not tested  not tested  not tested  not tested  not tested  not known   \n",
       "...           ...         ...         ...         ...         ...        ...   \n",
       "16664  not tested  not tested  not tested  not tested  not tested  not known   \n",
       "16665  not tested  not tested  not tested  not tested  not tested  not known   \n",
       "16666  not tested  not tested  not tested  not tested  not tested  not known   \n",
       "16667  not tested  not tested  not tested  not tested  not tested  not known   \n",
       "16668  not tested  not tested  not tested  not tested  not tested  not known   \n",
       "\n",
       "      INJECT_DRUG_USER  IS_HOMELESS  IS_IMPRISONED        HIV   DIABETES   \n",
       "0            not known        False          False  not known  not known  \\\n",
       "1            not known        False          False  not known  not known   \n",
       "2            not known        False          False  not known  not known   \n",
       "3            not known        False          False  not known  not known   \n",
       "4            not known        False          False  not known  not known   \n",
       "...                ...          ...            ...        ...        ...   \n",
       "16664        not known        False          False  not known  not known   \n",
       "16665        not known        False          False  not known  not known   \n",
       "16666        not known        False          False  not known  not known   \n",
       "16667        not known        False          False  not known  not known   \n",
       "16668        not known        False          False  not known  not known   \n",
       "\n",
       "      WHO_OUTCOME                                    UNIQUEID  \n",
       "0       not known          site.02.subj.0958.lab.22A197.iso.1  \n",
       "1       not known      site.02.subj.0823.lab.2013241494.iso.1  \n",
       "2       not known       site.02.subj.0359.lab.222018-14.iso.1  \n",
       "3       not known      site.02.subj.0224.lab.2013221088.iso.1  \n",
       "4       not known      site.02.subj.1347.lab.2013154310.iso.1  \n",
       "...           ...                                         ...  \n",
       "16664   not known  site.06.subj.06TB_0565.lab.06MIL1243.iso.1  \n",
       "16665   not known  site.06.subj.06TB_0566.lab.06MIL1244.iso.1  \n",
       "16666   not known   site.06.subj.ICK-1132.lab.06MIL1248.iso.1  \n",
       "16667   not known  site.06.subj.06TB_0474.lab.06MIL1249.iso.1  \n",
       "16668   not known    site.06.subj.RLH-639.lab.06MIL1250.iso.1  \n",
       "\n",
       "[16669 rows x 24 columns]"
      ]
     },
     "execution_count": 26,
     "metadata": {},
     "output_type": "execute_result"
    }
   ],
   "source": [
    "SAMPLES = pandas.read_pickle('/Users/viktoriabrunner/Documents/Studium/PhD/DPhil/paper/tb-rnap-compensation/tb_rnap_compensation/tables/SAMPLES.pkl.gz')\n",
    "SAMPLES.COUNTRY_WHERE_SAMPLE_TAKEN.value_counts()\n",
    "SAMPLES.reset_index(inplace=True)\n",
    "\n",
    "def create_uid(row):\n",
    "\n",
    "    return 'site.' + row.SITEID + '.subj.' + row.SUBJID + '.lab.' + row.LABID + '.iso.1'\n",
    "\n",
    "SAMPLES['UNIQUEID'] = SAMPLES.apply(create_uid, axis=1)\n",
    "\n",
    "SAMPLES"
   ]
  },
  {
   "cell_type": "markdown",
   "metadata": {},
   "source": [
    "Look at SAMPLES.COUNTRY_WHERE_SAMPLE_TAKEN and SAMPLES.REGION"
   ]
  },
  {
   "cell_type": "markdown",
   "metadata": {},
   "source": [
    "Investigate clades with accumulated CMs for oversampling of outbreaks"
   ]
  },
  {
   "cell_type": "code",
   "execution_count": 96,
   "metadata": {},
   "outputs": [
    {
     "data": {
      "text/plain": [
       "['site.03.subj.DR-285.lab.IML-01190.iso.1',\n",
       " 'site.03.subj.DS-64.lab.IML-01232.iso.1',\n",
       " 'site.03.subj.DS-150.lab.IML-01256.iso.1',\n",
       " 'site.04.subj.01225.lab.720110.iso.1',\n",
       " 'site.04.subj.01423.lab.26568.iso.1',\n",
       " 'site.04.subj.03248.lab.823504.iso.1',\n",
       " 'site.04.subj.04775.lab.907378.iso.1',\n",
       " 'site.03.subj.DS-36.lab.IML-01239.iso.1',\n",
       " 'site.03.subj.DR-44.lab.IML-01077.iso.1',\n",
       " 'site.03.subj.DR-79.lab.IML-01092.iso.1',\n",
       " 'site.03.subj.DS-10.lab.IML-01203.iso.1',\n",
       " 'site.04.subj.00991.lab.717123.iso.1',\n",
       " 'site.03.subj.DR-281.lab.IML-01188.iso.1',\n",
       " 'site.04.subj.01901.lab.732532.iso.1',\n",
       " 'site.04.subj.03470.lab.827987.iso.1',\n",
       " 'site.04.subj.04118.lab.832668.iso.1',\n",
       " 'site.04.subj.01900.lab.801874.iso.1',\n",
       " 'site.04.subj.03027.lab.823876.iso.1',\n",
       " 'site.03.subj.DR-320.lab.IML-01200.iso.1',\n",
       " 'site.03.subj.DR-91.lab.IML-01095.iso.1',\n",
       " 'site.03.subj.DR-121.lab.IML-01105.iso.1',\n",
       " 'site.04.subj.01318.lab.723498.iso.1',\n",
       " 'site.04.subj.04502.lab.902838.iso.1',\n",
       " 'site.04.subj.03305.lab.825625.iso.1',\n",
       " 'site.04.subj.01263.lab.721262.iso.1',\n",
       " 'site.04.subj.03438.lab.827584.iso.1',\n",
       " 'site.04.subj.04449.lab.904981.iso.1',\n",
       " 'site.04.subj.00827.lab.707875.iso.1',\n",
       " 'site.11.subj.MDR145.lab.SWE-113.iso.1',\n",
       " 'site.04.subj.01125.lab.720639.iso.1',\n",
       " 'site.04.subj.02288.lab.808082.iso.1',\n",
       " 'site.04.subj.02354.lab.808626.iso.1',\n",
       " 'site.04.subj.04500.lab.904529.iso.1',\n",
       " 'site.04.subj.00879.lab.710812.iso.1',\n",
       " 'site.04.subj.03108.lab.822766.iso.1',\n",
       " 'site.04.subj.01364.lab.724919.iso.1',\n",
       " 'site.04.subj.01365.lab.724917.iso.1',\n",
       " 'site.04.subj.03139.lab.822443.iso.1',\n",
       " 'site.04.subj.03347.lab.825087.iso.1',\n",
       " 'site.04.subj.00897.lab.715466.iso.1',\n",
       " 'site.04.subj.03692.lab.JJH10829.iso.1',\n",
       " 'site.04.subj.03533.lab.829545.iso.1',\n",
       " 'site.04.subj.04261.lab.900438.iso.1',\n",
       " 'site.04.subj.01898.lab.734610.iso.1',\n",
       " 'site.04.subj.00340.lab.702752.iso.1',\n",
       " 'site.04.subj.04273.lab.903363.iso.1',\n",
       " 'site.04.subj.01725.lab.731759.iso.1',\n",
       " 'site.04.subj.05667.lab.917311.iso.1',\n",
       " 'site.04.subj.03646.lab.JJH9567.iso.1',\n",
       " 'site.04.subj.03265.lab.823627.iso.1',\n",
       " 'site.04.subj.01675.lab.726589.iso.1',\n",
       " 'site.04.subj.03213.lab.825391.iso.1',\n",
       " 'site.04.subj.04076.lab.912606.iso.1',\n",
       " 'site.03.subj.DR-29.lab.IML-01069.iso.1',\n",
       " 'site.04.subj.03529.lab.829855.iso.1',\n",
       " 'site.04.subj.03631.lab.829403.iso.1',\n",
       " 'site.04.subj.01768.lab.733402.iso.1',\n",
       " 'site.04.subj.05434.lab.913889.iso.1',\n",
       " 'site.04.subj.02034.lab.803972.iso.1',\n",
       " 'site.04.subj.04169.lab.902026.iso.1',\n",
       " 'site.03.subj.DS-140.lab.IML-01261.iso.1',\n",
       " 'site.04.subj.03336.lab.823777.iso.1',\n",
       " 'site.04.subj.03231.lab.823981.iso.1',\n",
       " 'site.04.subj.03975.lab.831547.iso.1',\n",
       " 'site.03.subj.DR-272.lab.IML-01182.iso.1',\n",
       " 'site.03.subj.DR-275.lab.IML-01183.iso.1',\n",
       " 'site.03.subj.DR-270.lab.IML-01181.iso.1',\n",
       " 'site.03.subj.DR-118.lab.IML-01104.iso.1',\n",
       " 'site.03.subj.DR-75.lab.IML-01091.iso.1',\n",
       " 'site.03.subj.DR-113.lab.IML-01103.iso.1',\n",
       " 'site.04.subj.00160.lab.633080.iso.1',\n",
       " 'site.04.subj.01630.lab.731896.iso.1',\n",
       " 'site.04.subj.00362.lab.705315.iso.1',\n",
       " 'site.04.subj.00782.lab.708284.iso.1',\n",
       " 'site.04.subj.00246.lab.701573.iso.1',\n",
       " 'site.04.subj.00611.lab.704315.iso.1',\n",
       " 'site.04.subj.00895.lab.714859.iso.1',\n",
       " 'site.04.subj.02809.lab.818508.iso.1',\n",
       " 'site.04.subj.00854.lab.714761.iso.1',\n",
       " 'site.04.subj.03215.lab.823605.iso.1',\n",
       " 'site.04.subj.03542.lab.826122.iso.1',\n",
       " 'site.04.subj.00849.lab.709715.iso.1',\n",
       " 'site.04.subj.02945.lab.827085.iso.1',\n",
       " 'site.04.subj.01844.lab.734547.iso.1',\n",
       " 'site.04.subj.05318.lab.911644.iso.1',\n",
       " 'site.04.subj.00304.lab.702274.iso.1',\n",
       " 'site.04.subj.01550.lab.729588.iso.1',\n",
       " 'site.04.subj.03324.lab.827121.iso.1',\n",
       " 'site.04.subj.03263.lab.825133.iso.1',\n",
       " 'site.04.subj.04900.lab.903336.iso.1',\n",
       " 'site.04.subj.00755.lab.708950.iso.1',\n",
       " 'site.04.subj.04909.lab.909510.iso.1',\n",
       " 'site.04.subj.04192.lab.831568.iso.1',\n",
       " 'site.04.subj.01465.lab.725621.iso.1',\n",
       " 'site.04.subj.00392.lab.715620.iso.1',\n",
       " 'site.04.subj.05477.lab.913495.iso.1',\n",
       " 'site.04.subj.00235.lab.702383.iso.1',\n",
       " 'site.04.subj.01114.lab.718076.iso.1',\n",
       " 'site.04.subj.04569.lab.905056.iso.1',\n",
       " 'site.04.subj.01189.lab.721807.iso.1',\n",
       " 'site.04.subj.02274.lab.806239.iso.1',\n",
       " 'site.04.subj.00872.lab.715388.iso.1',\n",
       " 'site.04.subj.03375.lab.828556.iso.1',\n",
       " 'site.04.subj.04333.lab.902183.iso.1',\n",
       " 'site.03.subj.DR-68.lab.IML-01084.iso.1',\n",
       " 'site.04.subj.04210.lab.900286.iso.1',\n",
       " 'site.04.subj.01069.lab.718881.iso.1',\n",
       " 'site.04.subj.04513.lab.832156.iso.1',\n",
       " 'site.04.subj.05445.lab.913887.iso.1',\n",
       " 'site.04.subj.05392.lab.911911.iso.1',\n",
       " 'site.04.subj.00125.lab.631393.iso.1',\n",
       " 'site.04.subj.04235.lab.901668.iso.1',\n",
       " 'site.03.subj.DR-54.lab.IML-01081.iso.1',\n",
       " 'site.03.subj.DR-22.lab.IML-01067.iso.1',\n",
       " 'site.03.subj.DR-78.lab.IML-01108.iso.1',\n",
       " 'site.03.subj.DR-58.lab.IML-01083.iso.1',\n",
       " 'site.04.subj.03140.lab.823040.iso.1',\n",
       " 'site.04.subj.03508.lab.827362.iso.1',\n",
       " 'site.03.subj.DR-3.lab.IML-01057.iso.1',\n",
       " 'site.04.subj.01154.lab.724757.iso.1',\n",
       " 'site.04.subj.00043.lab.632396.iso.1',\n",
       " 'site.04.subj.04224.lab.833174.iso.1',\n",
       " 'site.04.subj.00657.lab.706591.iso.1',\n",
       " 'site.04.subj.00131.lab.633258.iso.1',\n",
       " 'site.04.subj.00548.lab.706924.iso.1',\n",
       " 'site.04.subj.03188.lab.825114.iso.1',\n",
       " 'site.04.subj.02011.lab.20919.iso.1',\n",
       " 'site.04.subj.03454.lab.828336.iso.1',\n",
       " 'site.04.subj.02136.lab.802458.iso.1',\n",
       " 'site.04.subj.04128.lab.900913.iso.1',\n",
       " 'site.03.subj.DR-100.lab.IML-01099.iso.1',\n",
       " 'site.03.subj.DR-31.lab.IML-01071.iso.1',\n",
       " 'site.04.subj.02765.lab.817965.iso.1',\n",
       " 'site.04.subj.00981.lab.717268.iso.1',\n",
       " 'site.04.subj.02708.lab.817739.iso.1',\n",
       " 'site.04.subj.01191.lab.718228.iso.1',\n",
       " 'site.04.subj.01756.lab.732743.iso.1',\n",
       " 'site.04.subj.02294.lab.22106.iso.1',\n",
       " 'site.04.subj.00097.lab.633433.iso.1',\n",
       " 'site.04.subj.00354.lab.703497.iso.1',\n",
       " 'site.04.subj.00982.lab.710061.iso.1',\n",
       " 'site.03.subj.DR-318.lab.IML-01199.iso.1',\n",
       " 'site.03.subj.DR-52.lab.IML-01080.iso.1',\n",
       " 'site.03.subj.DR-241.lab.IML-01164.iso.1',\n",
       " 'site.04.subj.02852.lab.816551.iso.1',\n",
       " 'site.03.subj.DR-190.lab.IML-01140.iso.1',\n",
       " 'site.03.subj.DR-194.lab.IML-01142.iso.1',\n",
       " 'site.04.subj.01289.lab.723291.iso.1',\n",
       " 'site.04.subj.05430.lab.909076.iso.1',\n",
       " 'site.04.subj.04475.lab.904744.iso.1',\n",
       " 'site.04.subj.04800.lab.907303.iso.1',\n",
       " 'site.04.subj.02738.lab.818375.iso.1',\n",
       " 'site.04.subj.00183.lab.700782.iso.1',\n",
       " 'site.04.subj.02806.lab.818354.iso.1',\n",
       " 'site.04.subj.01314.lab.722912.iso.1',\n",
       " 'site.03.subj.DR-73.lab.IML-01090.iso.1',\n",
       " 'site.04.subj.03728.lab.JJH9678.iso.1',\n",
       " 'site.04.subj.04559.lab.901648.iso.1',\n",
       " 'site.04.subj.03445.lab.825016.iso.1',\n",
       " 'site.04.subj.00185.lab.633248.iso.1',\n",
       " 'site.04.subj.00692.lab.714045.iso.1',\n",
       " 'site.03.subj.DR-216.lab.IML-01151.iso.1',\n",
       " 'site.04.subj.00051.lab.632745.iso.1',\n",
       " 'site.04.subj.01614.lab.731740.iso.1',\n",
       " 'site.04.subj.04535.lab.902155.iso.1',\n",
       " 'site.04.subj.01370.lab.733713.iso.1',\n",
       " 'site.04.subj.02834.lab.23917.iso.1',\n",
       " 'site.04.subj.00457.lab.705036.iso.1',\n",
       " 'site.04.subj.01204.lab.720549.iso.1',\n",
       " 'site.04.subj.00778.lab.708693.iso.1',\n",
       " 'site.04.subj.04763.lab.905930.iso.1',\n",
       " 'site.04.subj.03792.lab.912167.iso.1',\n",
       " 'site.04.subj.00188.lab.701354.iso.1',\n",
       " 'site.04.subj.03546.lab.828627.iso.1',\n",
       " 'site.04.subj.01701.lab.724671.iso.1',\n",
       " 'site.03.subj.DR-83.lab.IML-01094.iso.1',\n",
       " 'site.04.subj.01602.lab.729747.iso.1',\n",
       " 'site.03.subj.DR-109.lab.IML-01101.iso.1',\n",
       " 'site.03.subj.DR-111.lab.IML-01102.iso.1',\n",
       " 'site.03.subj.DR-142.lab.IML-01117.iso.1',\n",
       " 'site.04.subj.02201.lab.806005.iso.1',\n",
       " 'site.04.subj.00327.lab.703443.iso.1',\n",
       " 'site.04.subj.02020.lab.802734.iso.1',\n",
       " 'site.04.subj.02025.lab.801602.iso.1',\n",
       " 'site.04.subj.01079.lab.25315.iso.1',\n",
       " 'site.04.subj.04548.lab.904456.iso.1',\n",
       " 'site.04.subj.00483.lab.705915.iso.1',\n",
       " 'site.04.subj.00609.lab.705871.iso.1',\n",
       " 'site.03.subj.DR-180.lab.IML-01135.iso.1',\n",
       " 'site.04.subj.00863.lab.714123.iso.1',\n",
       " 'site.04.subj.01651.lab.732983.iso.1',\n",
       " 'site.03.subj.DR-132.lab.IML-01115.iso.1',\n",
       " 'site.04.subj.04694.lab.907694.iso.1',\n",
       " 'site.03.subj.DR-240.lab.IML-01163.iso.1',\n",
       " 'site.03.subj.DR-228.lab.IML-01157.iso.1',\n",
       " 'site.03.subj.DR-185.lab.IML-01137.iso.1',\n",
       " 'site.03.subj.DR-237.lab.IML-01161.iso.1',\n",
       " 'site.04.subj.00731.lab.708143.iso.1',\n",
       " 'site.04.subj.04980.lab.910169.iso.1',\n",
       " 'site.04.subj.00915.lab.715684.iso.1',\n",
       " 'site.04.subj.02019.lab.802117.iso.1',\n",
       " 'site.04.subj.05656.lab.919205.iso.1',\n",
       " 'site.04.subj.05670.lab.919271.iso.1',\n",
       " 'site.04.subj.00953.lab.716197.iso.1',\n",
       " 'site.04.subj.03466.lab.824760.iso.1',\n",
       " 'site.03.subj.DR-220.lab.IML-01153.iso.1',\n",
       " 'site.04.subj.03571.lab.829922.iso.1',\n",
       " 'site.04.subj.01598.lab.726612.iso.1',\n",
       " 'site.04.subj.05621.lab.918800.iso.1',\n",
       " 'site.04.subj.01062.lab.719968.iso.1',\n",
       " 'site.04.subj.00168.lab.700996.iso.1',\n",
       " 'site.04.subj.00780.lab.706828.iso.1',\n",
       " 'site.04.subj.00024.lab.631993.iso.1',\n",
       " 'site.04.subj.00299.lab.702745.iso.1',\n",
       " 'site.03.subj.DR-8.lab.IML-01060.iso.1',\n",
       " 'site.03.subj.GB-83220123.lab.GB-83220123.iso.1',\n",
       " 'site.04.subj.03160.lab.823354.iso.1',\n",
       " 'site.03.subj.DR-70.lab.IML-01085.iso.1',\n",
       " 'site.04.subj.00324.lab.633873.iso.1',\n",
       " 'site.04.subj.02051.lab.802512.iso.1',\n",
       " 'site.03.subj.DR-47.lab.IML-01078.iso.1',\n",
       " 'site.04.subj.01296.lab.722396.iso.1',\n",
       " 'site.04.subj.01275.lab.26422.iso.1',\n",
       " 'site.04.subj.01055.lab.718532.iso.1',\n",
       " 'site.04.subj.02775.lab.817692.iso.1',\n",
       " 'site.04.subj.00367.lab.704912.iso.1',\n",
       " 'site.04.subj.01039.lab.718468.iso.1',\n",
       " 'site.04.subj.01599.lab.728693.iso.1',\n",
       " 'site.04.subj.05565.lab.917313.iso.1',\n",
       " 'site.04.subj.00639.lab.706226.iso.1',\n",
       " 'site.04.subj.01814.lab.729825.iso.1']"
      ]
     },
     "execution_count": 96,
     "metadata": {},
     "output_type": "execute_result"
    }
   ],
   "source": [
    "#V483A, n6419 - n6878\n",
    "v483a_clade = []\n",
    "growth_v483a = []\n",
    "\n",
    "for i in new_tables.nodes[6419:6878]:\n",
    "    if 'name' in i.metadata.keys():\n",
    "        index = GENOMES[GENOMES['ORIGINAL_UID'] == i.metadata['name']].index\n",
    "        growth_v483a.extend(index)\n",
    "        v483a_clade.extend(MUTATIONS[MUTATIONS.UNIQUEID == index[0]].GENE_MUTATION.values)\n",
    "\n",
    "df = pandas.DataFrame(v483a_clade)\n",
    "df.value_counts()[:20]\n",
    "growth_v483a\n",
    "\n",
    "# df = pandas.DataFrame(growth_v483a)\n",
    "# df.to_csv('subclade_V483A.csv', index = False)"
   ]
  },
  {
   "cell_type": "code",
   "execution_count": 28,
   "metadata": {},
   "outputs": [
    {
     "data": {
      "text/plain": [
       "COUNTRY_WHERE_SAMPLE_TAKEN\n",
       "IND    181\n",
       "NPL     48\n",
       "SWE      1\n",
       "AFG      0\n",
       "NGA      0\n",
       "Name: count, dtype: int64"
      ]
     },
     "execution_count": 28,
     "metadata": {},
     "output_type": "execute_result"
    }
   ],
   "source": [
    "SAMPLES[SAMPLES.UNIQUEID.isin(growth_v483a)].COUNTRY_WHERE_SAMPLE_TAKEN.value_counts()[:5]"
   ]
  },
  {
   "cell_type": "code",
   "execution_count": 29,
   "metadata": {
    "scrolled": true
   },
   "outputs": [
    {
     "data": {
      "text/plain": [
       "REGION\n",
       "Kathmandu                     48\n",
       "Mumbai                        32\n",
       "Mumbai (Malad)                 8\n",
       "Mumbra                         6\n",
       "Mumbai (Mazagaon)              6\n",
       "Mumbai (Central)               5\n",
       "Mumbai (Jogeshwari)            5\n",
       "Mumbai (Kurla)                 4\n",
       "Mumbai (Malad west)            4\n",
       "Mumbai (Byculla)               4\n",
       "Mumbai (Wadala)                4\n",
       "Mumbai (Grant Road)            4\n",
       "Mumbai (Mira Road)             4\n",
       "Thane                          4\n",
       "Mumbai (Sion)                  4\n",
       "Mumbai (Bhandup)               3\n",
       "Mira Bhayandar (Bhayandar)     3\n",
       "Mumbai (Kurla west)            3\n",
       "Mumbai (Andheri west)          3\n",
       "Mumbai (Nagpada)               3\n",
       "Mumbai (Ghatkopar)             3\n",
       "Mumbai (Mahim)                 3\n",
       "Mumbai (Andheri)               3\n",
       "Nala Sopara                    2\n",
       "Mumbai (Dadar)                 2\n",
       "Mumbai (Dahisar)               2\n",
       "Mumbai (Chunabhatti)           2\n",
       "Mumbai (Borivali)              2\n",
       "Mumbai (Saki Naka)             2\n",
       "Mumbai (Govandi)               2\n",
       "Name: count, dtype: int64"
      ]
     },
     "execution_count": 29,
     "metadata": {},
     "output_type": "execute_result"
    }
   ],
   "source": [
    "SAMPLES[SAMPLES.UNIQUEID.isin(growth_v483a)].REGION.value_counts()[:30]"
   ]
  },
  {
   "cell_type": "code",
   "execution_count": 103,
   "metadata": {},
   "outputs": [
    {
     "name": "stdout",
     "output_type": "stream",
     "text": [
      "UNIQUEID\n",
      "site.03.subj.DR-285.lab.IML-01190.iso.1    lineage2.2\n",
      "Name: MYKROBE_LINEAGE_NAME_2, dtype: object\n",
      "UNIQUEID\n",
      "site.03.subj.DS-64.lab.IML-01232.iso.1    lineage2.2\n",
      "Name: MYKROBE_LINEAGE_NAME_2, dtype: object\n",
      "UNIQUEID\n",
      "site.03.subj.DS-150.lab.IML-01256.iso.1    lineage2.2\n",
      "Name: MYKROBE_LINEAGE_NAME_2, dtype: object\n",
      "UNIQUEID\n",
      "site.04.subj.01225.lab.720110.iso.1    lineage2.2\n",
      "Name: MYKROBE_LINEAGE_NAME_2, dtype: object\n",
      "UNIQUEID\n",
      "site.04.subj.01423.lab.26568.iso.1    lineage2.2\n",
      "Name: MYKROBE_LINEAGE_NAME_2, dtype: object\n",
      "UNIQUEID\n",
      "site.04.subj.03248.lab.823504.iso.1    lineage2.2\n",
      "Name: MYKROBE_LINEAGE_NAME_2, dtype: object\n",
      "UNIQUEID\n",
      "site.04.subj.04775.lab.907378.iso.1    lineage2.2\n",
      "Name: MYKROBE_LINEAGE_NAME_2, dtype: object\n",
      "UNIQUEID\n",
      "site.03.subj.DS-36.lab.IML-01239.iso.1    lineage2.2\n",
      "Name: MYKROBE_LINEAGE_NAME_2, dtype: object\n",
      "UNIQUEID\n",
      "site.03.subj.DR-44.lab.IML-01077.iso.1    lineage2.2\n",
      "Name: MYKROBE_LINEAGE_NAME_2, dtype: object\n",
      "UNIQUEID\n",
      "site.03.subj.DR-79.lab.IML-01092.iso.1    lineage2.2\n",
      "Name: MYKROBE_LINEAGE_NAME_2, dtype: object\n",
      "UNIQUEID\n",
      "site.03.subj.DS-10.lab.IML-01203.iso.1    lineage2.2\n",
      "Name: MYKROBE_LINEAGE_NAME_2, dtype: object\n",
      "UNIQUEID\n",
      "site.04.subj.00991.lab.717123.iso.1    lineage2.2\n",
      "Name: MYKROBE_LINEAGE_NAME_2, dtype: object\n",
      "UNIQUEID\n",
      "site.03.subj.DR-281.lab.IML-01188.iso.1    lineage2.2\n",
      "Name: MYKROBE_LINEAGE_NAME_2, dtype: object\n",
      "UNIQUEID\n",
      "site.04.subj.01901.lab.732532.iso.1    lineage2.2\n",
      "Name: MYKROBE_LINEAGE_NAME_2, dtype: object\n",
      "UNIQUEID\n",
      "site.04.subj.03470.lab.827987.iso.1    lineage2.2\n",
      "Name: MYKROBE_LINEAGE_NAME_2, dtype: object\n",
      "UNIQUEID\n",
      "site.04.subj.04118.lab.832668.iso.1    lineage2.2\n",
      "Name: MYKROBE_LINEAGE_NAME_2, dtype: object\n",
      "UNIQUEID\n",
      "site.04.subj.01900.lab.801874.iso.1    lineage2.2\n",
      "Name: MYKROBE_LINEAGE_NAME_2, dtype: object\n",
      "UNIQUEID\n",
      "site.04.subj.03027.lab.823876.iso.1    lineage2.2\n",
      "Name: MYKROBE_LINEAGE_NAME_2, dtype: object\n",
      "UNIQUEID\n",
      "site.03.subj.DR-320.lab.IML-01200.iso.1    lineage2.2\n",
      "Name: MYKROBE_LINEAGE_NAME_2, dtype: object\n",
      "UNIQUEID\n",
      "site.03.subj.DR-91.lab.IML-01095.iso.1    lineage2.2\n",
      "Name: MYKROBE_LINEAGE_NAME_2, dtype: object\n",
      "UNIQUEID\n",
      "site.03.subj.DR-121.lab.IML-01105.iso.1    lineage2.2\n",
      "Name: MYKROBE_LINEAGE_NAME_2, dtype: object\n",
      "UNIQUEID\n",
      "site.04.subj.01318.lab.723498.iso.1    lineage2.2\n",
      "Name: MYKROBE_LINEAGE_NAME_2, dtype: object\n",
      "UNIQUEID\n",
      "site.04.subj.04502.lab.902838.iso.1    lineage2.2\n",
      "Name: MYKROBE_LINEAGE_NAME_2, dtype: object\n",
      "UNIQUEID\n",
      "site.04.subj.03305.lab.825625.iso.1    lineage2.2\n",
      "Name: MYKROBE_LINEAGE_NAME_2, dtype: object\n",
      "UNIQUEID\n",
      "site.04.subj.01263.lab.721262.iso.1    lineage2.2\n",
      "Name: MYKROBE_LINEAGE_NAME_2, dtype: object\n",
      "UNIQUEID\n",
      "site.04.subj.03438.lab.827584.iso.1    lineage2.2\n",
      "Name: MYKROBE_LINEAGE_NAME_2, dtype: object\n",
      "UNIQUEID\n",
      "site.04.subj.04449.lab.904981.iso.1    lineage2.2\n",
      "Name: MYKROBE_LINEAGE_NAME_2, dtype: object\n",
      "UNIQUEID\n",
      "site.04.subj.00827.lab.707875.iso.1    lineage2.2\n",
      "Name: MYKROBE_LINEAGE_NAME_2, dtype: object\n",
      "UNIQUEID\n",
      "site.11.subj.MDR145.lab.SWE-113.iso.1    lineage2.2\n",
      "Name: MYKROBE_LINEAGE_NAME_2, dtype: object\n",
      "UNIQUEID\n",
      "site.04.subj.01125.lab.720639.iso.1    lineage2.2\n",
      "Name: MYKROBE_LINEAGE_NAME_2, dtype: object\n",
      "UNIQUEID\n",
      "site.04.subj.02288.lab.808082.iso.1    lineage2.2\n",
      "Name: MYKROBE_LINEAGE_NAME_2, dtype: object\n",
      "UNIQUEID\n",
      "site.04.subj.02354.lab.808626.iso.1    lineage2.2\n",
      "Name: MYKROBE_LINEAGE_NAME_2, dtype: object\n",
      "UNIQUEID\n",
      "site.04.subj.04500.lab.904529.iso.1    lineage2.2\n",
      "Name: MYKROBE_LINEAGE_NAME_2, dtype: object\n",
      "UNIQUEID\n",
      "site.04.subj.00879.lab.710812.iso.1    lineage2.2\n",
      "Name: MYKROBE_LINEAGE_NAME_2, dtype: object\n",
      "UNIQUEID\n",
      "site.04.subj.03108.lab.822766.iso.1    lineage2.2\n",
      "Name: MYKROBE_LINEAGE_NAME_2, dtype: object\n",
      "UNIQUEID\n",
      "site.04.subj.01364.lab.724919.iso.1    lineage2.2\n",
      "Name: MYKROBE_LINEAGE_NAME_2, dtype: object\n",
      "UNIQUEID\n",
      "site.04.subj.01365.lab.724917.iso.1    lineage2.2\n",
      "Name: MYKROBE_LINEAGE_NAME_2, dtype: object\n",
      "UNIQUEID\n",
      "site.04.subj.03139.lab.822443.iso.1    lineage2.2\n",
      "Name: MYKROBE_LINEAGE_NAME_2, dtype: object\n",
      "UNIQUEID\n",
      "site.04.subj.03347.lab.825087.iso.1    lineage2.2\n",
      "Name: MYKROBE_LINEAGE_NAME_2, dtype: object\n",
      "UNIQUEID\n",
      "site.04.subj.00897.lab.715466.iso.1    lineage2.2\n",
      "Name: MYKROBE_LINEAGE_NAME_2, dtype: object\n",
      "UNIQUEID\n",
      "site.04.subj.03692.lab.JJH10829.iso.1    lineage2.2\n",
      "Name: MYKROBE_LINEAGE_NAME_2, dtype: object\n",
      "UNIQUEID\n",
      "site.04.subj.03533.lab.829545.iso.1    lineage2.2\n",
      "Name: MYKROBE_LINEAGE_NAME_2, dtype: object\n",
      "UNIQUEID\n",
      "site.04.subj.04261.lab.900438.iso.1    lineage2.2\n",
      "Name: MYKROBE_LINEAGE_NAME_2, dtype: object\n",
      "UNIQUEID\n",
      "site.04.subj.01898.lab.734610.iso.1    lineage2.2\n",
      "Name: MYKROBE_LINEAGE_NAME_2, dtype: object\n",
      "UNIQUEID\n",
      "site.04.subj.00340.lab.702752.iso.1    lineage2.2\n",
      "Name: MYKROBE_LINEAGE_NAME_2, dtype: object\n",
      "UNIQUEID\n",
      "site.04.subj.04273.lab.903363.iso.1    lineage2.2\n",
      "Name: MYKROBE_LINEAGE_NAME_2, dtype: object\n",
      "UNIQUEID\n",
      "site.04.subj.01725.lab.731759.iso.1    lineage2.2\n",
      "Name: MYKROBE_LINEAGE_NAME_2, dtype: object\n",
      "UNIQUEID\n",
      "site.04.subj.05667.lab.917311.iso.1    lineage2.2\n",
      "Name: MYKROBE_LINEAGE_NAME_2, dtype: object\n",
      "UNIQUEID\n",
      "site.04.subj.03646.lab.JJH9567.iso.1    lineage2.2\n",
      "Name: MYKROBE_LINEAGE_NAME_2, dtype: object\n",
      "UNIQUEID\n",
      "site.04.subj.03265.lab.823627.iso.1    lineage2.2\n",
      "Name: MYKROBE_LINEAGE_NAME_2, dtype: object\n",
      "UNIQUEID\n",
      "site.04.subj.01675.lab.726589.iso.1    lineage2.2\n",
      "Name: MYKROBE_LINEAGE_NAME_2, dtype: object\n",
      "UNIQUEID\n",
      "site.04.subj.03213.lab.825391.iso.1    lineage2.2\n",
      "Name: MYKROBE_LINEAGE_NAME_2, dtype: object\n",
      "UNIQUEID\n",
      "site.04.subj.04076.lab.912606.iso.1    lineage2.2\n",
      "Name: MYKROBE_LINEAGE_NAME_2, dtype: object\n",
      "UNIQUEID\n",
      "site.03.subj.DR-29.lab.IML-01069.iso.1    lineage2.2\n",
      "Name: MYKROBE_LINEAGE_NAME_2, dtype: object\n",
      "UNIQUEID\n",
      "site.04.subj.03529.lab.829855.iso.1    lineage2.2\n",
      "Name: MYKROBE_LINEAGE_NAME_2, dtype: object\n",
      "UNIQUEID\n",
      "site.04.subj.03631.lab.829403.iso.1    lineage2.2\n",
      "Name: MYKROBE_LINEAGE_NAME_2, dtype: object\n",
      "UNIQUEID\n",
      "site.04.subj.01768.lab.733402.iso.1    lineage2.2\n",
      "Name: MYKROBE_LINEAGE_NAME_2, dtype: object\n",
      "UNIQUEID\n",
      "site.04.subj.05434.lab.913889.iso.1    lineage2.2\n",
      "Name: MYKROBE_LINEAGE_NAME_2, dtype: object\n",
      "UNIQUEID\n",
      "site.04.subj.02034.lab.803972.iso.1    lineage2.2\n",
      "Name: MYKROBE_LINEAGE_NAME_2, dtype: object\n",
      "UNIQUEID\n",
      "site.04.subj.04169.lab.902026.iso.1    lineage2.2\n",
      "Name: MYKROBE_LINEAGE_NAME_2, dtype: object\n",
      "UNIQUEID\n",
      "site.03.subj.DS-140.lab.IML-01261.iso.1    lineage2.2\n",
      "Name: MYKROBE_LINEAGE_NAME_2, dtype: object\n",
      "UNIQUEID\n",
      "site.04.subj.03336.lab.823777.iso.1    lineage2.2\n",
      "Name: MYKROBE_LINEAGE_NAME_2, dtype: object\n",
      "UNIQUEID\n",
      "site.04.subj.03231.lab.823981.iso.1    lineage2.2\n",
      "Name: MYKROBE_LINEAGE_NAME_2, dtype: object\n",
      "UNIQUEID\n",
      "site.04.subj.03975.lab.831547.iso.1    lineage2.2\n",
      "Name: MYKROBE_LINEAGE_NAME_2, dtype: object\n",
      "UNIQUEID\n",
      "site.03.subj.DR-272.lab.IML-01182.iso.1    lineage2.2\n",
      "Name: MYKROBE_LINEAGE_NAME_2, dtype: object\n",
      "UNIQUEID\n",
      "site.03.subj.DR-275.lab.IML-01183.iso.1    lineage2.2\n",
      "Name: MYKROBE_LINEAGE_NAME_2, dtype: object\n",
      "UNIQUEID\n",
      "site.03.subj.DR-270.lab.IML-01181.iso.1    lineage2.2\n",
      "Name: MYKROBE_LINEAGE_NAME_2, dtype: object\n",
      "UNIQUEID\n",
      "site.03.subj.DR-118.lab.IML-01104.iso.1    lineage2.2\n",
      "Name: MYKROBE_LINEAGE_NAME_2, dtype: object\n",
      "UNIQUEID\n",
      "site.03.subj.DR-75.lab.IML-01091.iso.1    lineage2.2\n",
      "Name: MYKROBE_LINEAGE_NAME_2, dtype: object\n",
      "UNIQUEID\n",
      "site.03.subj.DR-113.lab.IML-01103.iso.1    lineage2.2\n",
      "Name: MYKROBE_LINEAGE_NAME_2, dtype: object\n",
      "UNIQUEID\n",
      "site.04.subj.00160.lab.633080.iso.1    lineage2.2\n",
      "Name: MYKROBE_LINEAGE_NAME_2, dtype: object\n",
      "UNIQUEID\n",
      "site.04.subj.01630.lab.731896.iso.1    lineage2.2\n",
      "Name: MYKROBE_LINEAGE_NAME_2, dtype: object\n",
      "UNIQUEID\n",
      "site.04.subj.00362.lab.705315.iso.1    lineage2.2\n",
      "Name: MYKROBE_LINEAGE_NAME_2, dtype: object\n",
      "UNIQUEID\n",
      "site.04.subj.00782.lab.708284.iso.1    lineage2.2\n",
      "Name: MYKROBE_LINEAGE_NAME_2, dtype: object\n",
      "UNIQUEID\n",
      "site.04.subj.00246.lab.701573.iso.1    lineage2.2\n",
      "Name: MYKROBE_LINEAGE_NAME_2, dtype: object\n",
      "UNIQUEID\n",
      "site.04.subj.00611.lab.704315.iso.1    lineage2.2\n",
      "Name: MYKROBE_LINEAGE_NAME_2, dtype: object\n",
      "UNIQUEID\n",
      "site.04.subj.00895.lab.714859.iso.1    lineage2.2\n",
      "Name: MYKROBE_LINEAGE_NAME_2, dtype: object\n",
      "UNIQUEID\n",
      "site.04.subj.02809.lab.818508.iso.1    lineage2.2\n",
      "Name: MYKROBE_LINEAGE_NAME_2, dtype: object\n",
      "UNIQUEID\n",
      "site.04.subj.00854.lab.714761.iso.1    lineage2.2\n",
      "Name: MYKROBE_LINEAGE_NAME_2, dtype: object\n",
      "UNIQUEID\n",
      "site.04.subj.03215.lab.823605.iso.1    lineage2.2\n",
      "Name: MYKROBE_LINEAGE_NAME_2, dtype: object\n",
      "UNIQUEID\n",
      "site.04.subj.03542.lab.826122.iso.1    lineage2.2\n",
      "Name: MYKROBE_LINEAGE_NAME_2, dtype: object\n",
      "UNIQUEID\n",
      "site.04.subj.00849.lab.709715.iso.1    lineage2.2\n",
      "Name: MYKROBE_LINEAGE_NAME_2, dtype: object\n",
      "UNIQUEID\n",
      "site.04.subj.02945.lab.827085.iso.1    lineage2.2\n",
      "Name: MYKROBE_LINEAGE_NAME_2, dtype: object\n",
      "UNIQUEID\n",
      "site.04.subj.01844.lab.734547.iso.1    lineage2.2\n",
      "Name: MYKROBE_LINEAGE_NAME_2, dtype: object\n",
      "UNIQUEID\n",
      "site.04.subj.05318.lab.911644.iso.1    lineage2.2\n",
      "Name: MYKROBE_LINEAGE_NAME_2, dtype: object\n",
      "UNIQUEID\n",
      "site.04.subj.00304.lab.702274.iso.1    lineage2.2\n",
      "Name: MYKROBE_LINEAGE_NAME_2, dtype: object\n"
     ]
    },
    {
     "name": "stdout",
     "output_type": "stream",
     "text": [
      "UNIQUEID\n",
      "site.04.subj.01550.lab.729588.iso.1    lineage2.2\n",
      "Name: MYKROBE_LINEAGE_NAME_2, dtype: object\n",
      "UNIQUEID\n",
      "site.04.subj.03324.lab.827121.iso.1    lineage2.2\n",
      "Name: MYKROBE_LINEAGE_NAME_2, dtype: object\n",
      "UNIQUEID\n",
      "site.04.subj.03263.lab.825133.iso.1    lineage2.2\n",
      "Name: MYKROBE_LINEAGE_NAME_2, dtype: object\n",
      "UNIQUEID\n",
      "site.04.subj.04900.lab.903336.iso.1    lineage2.2\n",
      "Name: MYKROBE_LINEAGE_NAME_2, dtype: object\n",
      "UNIQUEID\n",
      "site.04.subj.00755.lab.708950.iso.1    lineage2.2\n",
      "Name: MYKROBE_LINEAGE_NAME_2, dtype: object\n",
      "UNIQUEID\n",
      "site.04.subj.04909.lab.909510.iso.1    lineage2.2\n",
      "Name: MYKROBE_LINEAGE_NAME_2, dtype: object\n",
      "UNIQUEID\n",
      "site.04.subj.04192.lab.831568.iso.1    lineage2.2\n",
      "Name: MYKROBE_LINEAGE_NAME_2, dtype: object\n",
      "UNIQUEID\n",
      "site.04.subj.01465.lab.725621.iso.1    lineage2.2\n",
      "Name: MYKROBE_LINEAGE_NAME_2, dtype: object\n",
      "UNIQUEID\n",
      "site.04.subj.00392.lab.715620.iso.1    lineage2.2\n",
      "Name: MYKROBE_LINEAGE_NAME_2, dtype: object\n",
      "UNIQUEID\n",
      "site.04.subj.05477.lab.913495.iso.1    lineage2.2\n",
      "Name: MYKROBE_LINEAGE_NAME_2, dtype: object\n",
      "UNIQUEID\n",
      "site.04.subj.00235.lab.702383.iso.1    lineage2.2\n",
      "Name: MYKROBE_LINEAGE_NAME_2, dtype: object\n",
      "UNIQUEID\n",
      "site.04.subj.01114.lab.718076.iso.1    lineage2.2\n",
      "Name: MYKROBE_LINEAGE_NAME_2, dtype: object\n",
      "UNIQUEID\n",
      "site.04.subj.04569.lab.905056.iso.1    lineage2.2\n",
      "Name: MYKROBE_LINEAGE_NAME_2, dtype: object\n",
      "UNIQUEID\n",
      "site.04.subj.01189.lab.721807.iso.1    lineage2.2\n",
      "Name: MYKROBE_LINEAGE_NAME_2, dtype: object\n",
      "UNIQUEID\n",
      "site.04.subj.02274.lab.806239.iso.1    lineage2.2\n",
      "Name: MYKROBE_LINEAGE_NAME_2, dtype: object\n",
      "UNIQUEID\n",
      "site.04.subj.00872.lab.715388.iso.1    lineage2.2\n",
      "Name: MYKROBE_LINEAGE_NAME_2, dtype: object\n",
      "UNIQUEID\n",
      "site.04.subj.03375.lab.828556.iso.1    lineage2.2\n",
      "Name: MYKROBE_LINEAGE_NAME_2, dtype: object\n",
      "UNIQUEID\n",
      "site.04.subj.04333.lab.902183.iso.1    lineage2.2\n",
      "Name: MYKROBE_LINEAGE_NAME_2, dtype: object\n",
      "UNIQUEID\n",
      "site.03.subj.DR-68.lab.IML-01084.iso.1    lineage2.2\n",
      "Name: MYKROBE_LINEAGE_NAME_2, dtype: object\n",
      "UNIQUEID\n",
      "site.04.subj.04210.lab.900286.iso.1    lineage2.2\n",
      "Name: MYKROBE_LINEAGE_NAME_2, dtype: object\n",
      "UNIQUEID\n",
      "site.04.subj.01069.lab.718881.iso.1    lineage2.2\n",
      "Name: MYKROBE_LINEAGE_NAME_2, dtype: object\n",
      "UNIQUEID\n",
      "site.04.subj.04513.lab.832156.iso.1    lineage2.2\n",
      "Name: MYKROBE_LINEAGE_NAME_2, dtype: object\n",
      "UNIQUEID\n",
      "site.04.subj.05445.lab.913887.iso.1    lineage2.2\n",
      "Name: MYKROBE_LINEAGE_NAME_2, dtype: object\n",
      "UNIQUEID\n",
      "site.04.subj.05392.lab.911911.iso.1    lineage2.2\n",
      "Name: MYKROBE_LINEAGE_NAME_2, dtype: object\n",
      "UNIQUEID\n",
      "site.04.subj.00125.lab.631393.iso.1    lineage2.2\n",
      "Name: MYKROBE_LINEAGE_NAME_2, dtype: object\n",
      "UNIQUEID\n",
      "site.04.subj.04235.lab.901668.iso.1    lineage2.2\n",
      "Name: MYKROBE_LINEAGE_NAME_2, dtype: object\n",
      "UNIQUEID\n",
      "site.03.subj.DR-54.lab.IML-01081.iso.1    lineage2.2\n",
      "Name: MYKROBE_LINEAGE_NAME_2, dtype: object\n",
      "UNIQUEID\n",
      "site.03.subj.DR-22.lab.IML-01067.iso.1    lineage2.2\n",
      "Name: MYKROBE_LINEAGE_NAME_2, dtype: object\n",
      "UNIQUEID\n",
      "site.03.subj.DR-78.lab.IML-01108.iso.1    lineage2.2\n",
      "Name: MYKROBE_LINEAGE_NAME_2, dtype: object\n",
      "UNIQUEID\n",
      "site.03.subj.DR-58.lab.IML-01083.iso.1    lineage2.2\n",
      "Name: MYKROBE_LINEAGE_NAME_2, dtype: object\n",
      "UNIQUEID\n",
      "site.04.subj.03140.lab.823040.iso.1    lineage2.2\n",
      "Name: MYKROBE_LINEAGE_NAME_2, dtype: object\n",
      "UNIQUEID\n",
      "site.04.subj.03508.lab.827362.iso.1    lineage2.2\n",
      "Name: MYKROBE_LINEAGE_NAME_2, dtype: object\n",
      "UNIQUEID\n",
      "site.03.subj.DR-3.lab.IML-01057.iso.1    lineage2.2\n",
      "Name: MYKROBE_LINEAGE_NAME_2, dtype: object\n",
      "UNIQUEID\n",
      "site.04.subj.01154.lab.724757.iso.1    lineage2.2\n",
      "Name: MYKROBE_LINEAGE_NAME_2, dtype: object\n",
      "UNIQUEID\n",
      "site.04.subj.00043.lab.632396.iso.1    lineage2.2\n",
      "Name: MYKROBE_LINEAGE_NAME_2, dtype: object\n",
      "UNIQUEID\n",
      "site.04.subj.04224.lab.833174.iso.1    lineage2.2\n",
      "Name: MYKROBE_LINEAGE_NAME_2, dtype: object\n",
      "UNIQUEID\n",
      "site.04.subj.00657.lab.706591.iso.1    lineage2.2\n",
      "Name: MYKROBE_LINEAGE_NAME_2, dtype: object\n",
      "UNIQUEID\n",
      "site.04.subj.00131.lab.633258.iso.1    lineage2.2\n",
      "Name: MYKROBE_LINEAGE_NAME_2, dtype: object\n",
      "UNIQUEID\n",
      "site.04.subj.00548.lab.706924.iso.1    lineage2.2\n",
      "Name: MYKROBE_LINEAGE_NAME_2, dtype: object\n",
      "UNIQUEID\n",
      "site.04.subj.03188.lab.825114.iso.1    lineage2.2\n",
      "Name: MYKROBE_LINEAGE_NAME_2, dtype: object\n",
      "UNIQUEID\n",
      "site.04.subj.02011.lab.20919.iso.1    lineage2.2\n",
      "Name: MYKROBE_LINEAGE_NAME_2, dtype: object\n",
      "UNIQUEID\n",
      "site.04.subj.03454.lab.828336.iso.1    lineage2.2\n",
      "Name: MYKROBE_LINEAGE_NAME_2, dtype: object\n",
      "UNIQUEID\n",
      "site.04.subj.02136.lab.802458.iso.1    lineage2.2\n",
      "Name: MYKROBE_LINEAGE_NAME_2, dtype: object\n",
      "UNIQUEID\n",
      "site.04.subj.04128.lab.900913.iso.1    lineage2.2\n",
      "Name: MYKROBE_LINEAGE_NAME_2, dtype: object\n",
      "UNIQUEID\n",
      "site.03.subj.DR-100.lab.IML-01099.iso.1    lineage2.2\n",
      "Name: MYKROBE_LINEAGE_NAME_2, dtype: object\n",
      "UNIQUEID\n",
      "site.03.subj.DR-31.lab.IML-01071.iso.1    lineage2.2\n",
      "Name: MYKROBE_LINEAGE_NAME_2, dtype: object\n",
      "UNIQUEID\n",
      "site.04.subj.02765.lab.817965.iso.1    lineage2.2\n",
      "Name: MYKROBE_LINEAGE_NAME_2, dtype: object\n",
      "UNIQUEID\n",
      "site.04.subj.00981.lab.717268.iso.1    lineage2.2\n",
      "Name: MYKROBE_LINEAGE_NAME_2, dtype: object\n",
      "UNIQUEID\n",
      "site.04.subj.02708.lab.817739.iso.1    lineage2.2\n",
      "Name: MYKROBE_LINEAGE_NAME_2, dtype: object\n",
      "UNIQUEID\n",
      "site.04.subj.01191.lab.718228.iso.1    lineage2.2\n",
      "Name: MYKROBE_LINEAGE_NAME_2, dtype: object\n",
      "UNIQUEID\n",
      "site.04.subj.01756.lab.732743.iso.1    lineage2.2\n",
      "Name: MYKROBE_LINEAGE_NAME_2, dtype: object\n",
      "UNIQUEID\n",
      "site.04.subj.02294.lab.22106.iso.1    lineage2.2\n",
      "Name: MYKROBE_LINEAGE_NAME_2, dtype: object\n",
      "UNIQUEID\n",
      "site.04.subj.00097.lab.633433.iso.1    lineage2.2\n",
      "Name: MYKROBE_LINEAGE_NAME_2, dtype: object\n",
      "UNIQUEID\n",
      "site.04.subj.00354.lab.703497.iso.1    lineage2.2\n",
      "Name: MYKROBE_LINEAGE_NAME_2, dtype: object\n",
      "UNIQUEID\n",
      "site.04.subj.00982.lab.710061.iso.1    lineage2.2\n",
      "Name: MYKROBE_LINEAGE_NAME_2, dtype: object\n",
      "UNIQUEID\n",
      "site.03.subj.DR-318.lab.IML-01199.iso.1    lineage2.2\n",
      "Name: MYKROBE_LINEAGE_NAME_2, dtype: object\n",
      "UNIQUEID\n",
      "site.03.subj.DR-52.lab.IML-01080.iso.1    lineage2.2\n",
      "Name: MYKROBE_LINEAGE_NAME_2, dtype: object\n",
      "UNIQUEID\n",
      "site.03.subj.DR-241.lab.IML-01164.iso.1    lineage2.2\n",
      "Name: MYKROBE_LINEAGE_NAME_2, dtype: object\n",
      "UNIQUEID\n",
      "site.04.subj.02852.lab.816551.iso.1    lineage2.2\n",
      "Name: MYKROBE_LINEAGE_NAME_2, dtype: object\n",
      "UNIQUEID\n",
      "site.03.subj.DR-190.lab.IML-01140.iso.1    lineage2.2\n",
      "Name: MYKROBE_LINEAGE_NAME_2, dtype: object\n",
      "UNIQUEID\n",
      "site.03.subj.DR-194.lab.IML-01142.iso.1    lineage2.2\n",
      "Name: MYKROBE_LINEAGE_NAME_2, dtype: object\n",
      "UNIQUEID\n",
      "site.04.subj.01289.lab.723291.iso.1    lineage2.2\n",
      "Name: MYKROBE_LINEAGE_NAME_2, dtype: object\n",
      "UNIQUEID\n",
      "site.04.subj.05430.lab.909076.iso.1    lineage2.2\n",
      "Name: MYKROBE_LINEAGE_NAME_2, dtype: object\n",
      "UNIQUEID\n",
      "site.04.subj.04475.lab.904744.iso.1    lineage2.2\n",
      "Name: MYKROBE_LINEAGE_NAME_2, dtype: object\n",
      "UNIQUEID\n",
      "site.04.subj.04800.lab.907303.iso.1    lineage2.2\n",
      "Name: MYKROBE_LINEAGE_NAME_2, dtype: object\n",
      "UNIQUEID\n",
      "site.04.subj.02738.lab.818375.iso.1    lineage2.2\n",
      "Name: MYKROBE_LINEAGE_NAME_2, dtype: object\n",
      "UNIQUEID\n",
      "site.04.subj.00183.lab.700782.iso.1    lineage2.2\n",
      "Name: MYKROBE_LINEAGE_NAME_2, dtype: object\n",
      "UNIQUEID\n",
      "site.04.subj.02806.lab.818354.iso.1    lineage2.2\n",
      "Name: MYKROBE_LINEAGE_NAME_2, dtype: object\n",
      "UNIQUEID\n",
      "site.04.subj.01314.lab.722912.iso.1    lineage2.2\n",
      "Name: MYKROBE_LINEAGE_NAME_2, dtype: object\n",
      "UNIQUEID\n",
      "site.03.subj.DR-73.lab.IML-01090.iso.1    lineage2.2\n",
      "Name: MYKROBE_LINEAGE_NAME_2, dtype: object\n",
      "UNIQUEID\n",
      "site.04.subj.03728.lab.JJH9678.iso.1    lineage2.2\n",
      "Name: MYKROBE_LINEAGE_NAME_2, dtype: object\n",
      "UNIQUEID\n",
      "site.04.subj.04559.lab.901648.iso.1    lineage2.2\n",
      "Name: MYKROBE_LINEAGE_NAME_2, dtype: object\n",
      "UNIQUEID\n",
      "site.04.subj.03445.lab.825016.iso.1    lineage2.2\n",
      "Name: MYKROBE_LINEAGE_NAME_2, dtype: object\n",
      "UNIQUEID\n",
      "site.04.subj.00185.lab.633248.iso.1    lineage2.2\n",
      "Name: MYKROBE_LINEAGE_NAME_2, dtype: object\n",
      "UNIQUEID\n",
      "site.04.subj.00692.lab.714045.iso.1    lineage2.2\n",
      "Name: MYKROBE_LINEAGE_NAME_2, dtype: object\n",
      "UNIQUEID\n",
      "site.03.subj.DR-216.lab.IML-01151.iso.1    lineage2.2\n",
      "Name: MYKROBE_LINEAGE_NAME_2, dtype: object\n",
      "UNIQUEID\n",
      "site.04.subj.00051.lab.632745.iso.1    lineage2.2\n",
      "Name: MYKROBE_LINEAGE_NAME_2, dtype: object\n",
      "UNIQUEID\n",
      "site.04.subj.01614.lab.731740.iso.1    lineage2.2\n",
      "Name: MYKROBE_LINEAGE_NAME_2, dtype: object\n",
      "UNIQUEID\n",
      "site.04.subj.04535.lab.902155.iso.1    lineage2.2\n",
      "Name: MYKROBE_LINEAGE_NAME_2, dtype: object\n",
      "UNIQUEID\n",
      "site.04.subj.01370.lab.733713.iso.1    lineage2.2\n",
      "Name: MYKROBE_LINEAGE_NAME_2, dtype: object\n",
      "UNIQUEID\n",
      "site.04.subj.02834.lab.23917.iso.1    lineage2.2\n",
      "Name: MYKROBE_LINEAGE_NAME_2, dtype: object\n",
      "UNIQUEID\n",
      "site.04.subj.00457.lab.705036.iso.1    lineage2.2\n",
      "Name: MYKROBE_LINEAGE_NAME_2, dtype: object\n",
      "UNIQUEID\n",
      "site.04.subj.01204.lab.720549.iso.1    lineage2.2\n",
      "Name: MYKROBE_LINEAGE_NAME_2, dtype: object\n",
      "UNIQUEID\n",
      "site.04.subj.00778.lab.708693.iso.1    lineage2.2\n",
      "Name: MYKROBE_LINEAGE_NAME_2, dtype: object\n",
      "UNIQUEID\n",
      "site.04.subj.04763.lab.905930.iso.1    lineage2.2\n",
      "Name: MYKROBE_LINEAGE_NAME_2, dtype: object\n",
      "UNIQUEID\n",
      "site.04.subj.03792.lab.912167.iso.1    lineage2.2\n",
      "Name: MYKROBE_LINEAGE_NAME_2, dtype: object\n",
      "UNIQUEID\n",
      "site.04.subj.00188.lab.701354.iso.1    lineage2.2\n",
      "Name: MYKROBE_LINEAGE_NAME_2, dtype: object\n",
      "UNIQUEID\n",
      "site.04.subj.03546.lab.828627.iso.1    lineage2.2\n",
      "Name: MYKROBE_LINEAGE_NAME_2, dtype: object\n",
      "UNIQUEID\n",
      "site.04.subj.01701.lab.724671.iso.1    lineage2.2\n",
      "Name: MYKROBE_LINEAGE_NAME_2, dtype: object\n",
      "UNIQUEID\n",
      "site.03.subj.DR-83.lab.IML-01094.iso.1    lineage2.2\n",
      "Name: MYKROBE_LINEAGE_NAME_2, dtype: object\n",
      "UNIQUEID\n",
      "site.04.subj.01602.lab.729747.iso.1    lineage2.2\n",
      "Name: MYKROBE_LINEAGE_NAME_2, dtype: object\n",
      "UNIQUEID\n",
      "site.03.subj.DR-109.lab.IML-01101.iso.1    lineage2.2\n",
      "Name: MYKROBE_LINEAGE_NAME_2, dtype: object\n",
      "UNIQUEID\n",
      "site.03.subj.DR-111.lab.IML-01102.iso.1    lineage2.2\n",
      "Name: MYKROBE_LINEAGE_NAME_2, dtype: object\n",
      "UNIQUEID\n",
      "site.03.subj.DR-142.lab.IML-01117.iso.1    lineage2.2\n",
      "Name: MYKROBE_LINEAGE_NAME_2, dtype: object\n",
      "UNIQUEID\n",
      "site.04.subj.02201.lab.806005.iso.1    lineage2.2\n",
      "Name: MYKROBE_LINEAGE_NAME_2, dtype: object\n",
      "UNIQUEID\n",
      "site.04.subj.00327.lab.703443.iso.1    lineage2.2\n",
      "Name: MYKROBE_LINEAGE_NAME_2, dtype: object\n",
      "UNIQUEID\n",
      "site.04.subj.02020.lab.802734.iso.1    lineage2.2\n",
      "Name: MYKROBE_LINEAGE_NAME_2, dtype: object\n",
      "UNIQUEID\n",
      "site.04.subj.02025.lab.801602.iso.1    lineage2.2\n",
      "Name: MYKROBE_LINEAGE_NAME_2, dtype: object\n",
      "UNIQUEID\n",
      "site.04.subj.01079.lab.25315.iso.1    lineage2.2\n",
      "Name: MYKROBE_LINEAGE_NAME_2, dtype: object\n",
      "UNIQUEID\n",
      "site.04.subj.04548.lab.904456.iso.1    lineage2.2\n",
      "Name: MYKROBE_LINEAGE_NAME_2, dtype: object\n",
      "UNIQUEID\n",
      "site.04.subj.00483.lab.705915.iso.1    lineage2.2\n",
      "Name: MYKROBE_LINEAGE_NAME_2, dtype: object\n",
      "UNIQUEID\n",
      "site.04.subj.00609.lab.705871.iso.1    lineage2.2\n",
      "Name: MYKROBE_LINEAGE_NAME_2, dtype: object\n",
      "UNIQUEID\n",
      "site.03.subj.DR-180.lab.IML-01135.iso.1    lineage2.2\n",
      "Name: MYKROBE_LINEAGE_NAME_2, dtype: object\n",
      "UNIQUEID\n",
      "site.04.subj.00863.lab.714123.iso.1    lineage2.2\n",
      "Name: MYKROBE_LINEAGE_NAME_2, dtype: object\n",
      "UNIQUEID\n",
      "site.04.subj.01651.lab.732983.iso.1    lineage2.2\n",
      "Name: MYKROBE_LINEAGE_NAME_2, dtype: object\n",
      "UNIQUEID\n",
      "site.03.subj.DR-132.lab.IML-01115.iso.1    lineage2.2\n",
      "Name: MYKROBE_LINEAGE_NAME_2, dtype: object\n",
      "UNIQUEID\n",
      "site.04.subj.04694.lab.907694.iso.1    lineage2.2\n",
      "Name: MYKROBE_LINEAGE_NAME_2, dtype: object\n",
      "UNIQUEID\n",
      "site.03.subj.DR-240.lab.IML-01163.iso.1    lineage2.2\n",
      "Name: MYKROBE_LINEAGE_NAME_2, dtype: object\n",
      "UNIQUEID\n",
      "site.03.subj.DR-228.lab.IML-01157.iso.1    lineage2.2\n",
      "Name: MYKROBE_LINEAGE_NAME_2, dtype: object\n",
      "UNIQUEID\n",
      "site.03.subj.DR-185.lab.IML-01137.iso.1    lineage2.2\n",
      "Name: MYKROBE_LINEAGE_NAME_2, dtype: object\n",
      "UNIQUEID\n",
      "site.03.subj.DR-237.lab.IML-01161.iso.1    lineage2.2\n",
      "Name: MYKROBE_LINEAGE_NAME_2, dtype: object\n",
      "UNIQUEID\n",
      "site.04.subj.00731.lab.708143.iso.1    lineage2.2\n",
      "Name: MYKROBE_LINEAGE_NAME_2, dtype: object\n",
      "UNIQUEID\n",
      "site.04.subj.04980.lab.910169.iso.1    lineage2.2\n",
      "Name: MYKROBE_LINEAGE_NAME_2, dtype: object\n",
      "UNIQUEID\n",
      "site.04.subj.00915.lab.715684.iso.1    lineage2.2\n",
      "Name: MYKROBE_LINEAGE_NAME_2, dtype: object\n",
      "UNIQUEID\n",
      "site.04.subj.02019.lab.802117.iso.1    lineage2.2\n",
      "Name: MYKROBE_LINEAGE_NAME_2, dtype: object\n",
      "UNIQUEID\n",
      "site.04.subj.05656.lab.919205.iso.1    lineage2.2\n",
      "Name: MYKROBE_LINEAGE_NAME_2, dtype: object\n",
      "UNIQUEID\n",
      "site.04.subj.05670.lab.919271.iso.1    lineage2.2\n",
      "Name: MYKROBE_LINEAGE_NAME_2, dtype: object\n",
      "UNIQUEID\n",
      "site.04.subj.00953.lab.716197.iso.1    lineage2.2\n",
      "Name: MYKROBE_LINEAGE_NAME_2, dtype: object\n",
      "UNIQUEID\n",
      "site.04.subj.03466.lab.824760.iso.1    lineage2.2\n",
      "Name: MYKROBE_LINEAGE_NAME_2, dtype: object\n",
      "UNIQUEID\n",
      "site.03.subj.DR-220.lab.IML-01153.iso.1    lineage2.2\n",
      "Name: MYKROBE_LINEAGE_NAME_2, dtype: object\n"
     ]
    },
    {
     "name": "stdout",
     "output_type": "stream",
     "text": [
      "UNIQUEID\n",
      "site.04.subj.03571.lab.829922.iso.1    lineage2.2\n",
      "Name: MYKROBE_LINEAGE_NAME_2, dtype: object\n",
      "UNIQUEID\n",
      "site.04.subj.01598.lab.726612.iso.1    lineage2.2\n",
      "Name: MYKROBE_LINEAGE_NAME_2, dtype: object\n",
      "UNIQUEID\n",
      "site.04.subj.05621.lab.918800.iso.1    lineage2.2\n",
      "Name: MYKROBE_LINEAGE_NAME_2, dtype: object\n",
      "UNIQUEID\n",
      "site.04.subj.01062.lab.719968.iso.1    lineage2.2\n",
      "Name: MYKROBE_LINEAGE_NAME_2, dtype: object\n",
      "UNIQUEID\n",
      "site.04.subj.00168.lab.700996.iso.1    lineage2.2\n",
      "Name: MYKROBE_LINEAGE_NAME_2, dtype: object\n",
      "UNIQUEID\n",
      "site.04.subj.00780.lab.706828.iso.1    lineage2.2\n",
      "Name: MYKROBE_LINEAGE_NAME_2, dtype: object\n",
      "UNIQUEID\n",
      "site.04.subj.00024.lab.631993.iso.1    lineage2.2\n",
      "Name: MYKROBE_LINEAGE_NAME_2, dtype: object\n",
      "UNIQUEID\n",
      "site.04.subj.00299.lab.702745.iso.1    lineage2.2\n",
      "Name: MYKROBE_LINEAGE_NAME_2, dtype: object\n",
      "UNIQUEID\n",
      "site.03.subj.DR-8.lab.IML-01060.iso.1    lineage2.2\n",
      "Name: MYKROBE_LINEAGE_NAME_2, dtype: object\n",
      "UNIQUEID\n",
      "site.03.subj.GB-83220123.lab.GB-83220123.iso.1    lineage2.2\n",
      "Name: MYKROBE_LINEAGE_NAME_2, dtype: object\n",
      "UNIQUEID\n",
      "site.04.subj.03160.lab.823354.iso.1    lineage2.2\n",
      "Name: MYKROBE_LINEAGE_NAME_2, dtype: object\n",
      "UNIQUEID\n",
      "site.03.subj.DR-70.lab.IML-01085.iso.1    lineage2.2\n",
      "Name: MYKROBE_LINEAGE_NAME_2, dtype: object\n",
      "UNIQUEID\n",
      "site.04.subj.00324.lab.633873.iso.1    lineage2.2\n",
      "Name: MYKROBE_LINEAGE_NAME_2, dtype: object\n",
      "UNIQUEID\n",
      "site.04.subj.02051.lab.802512.iso.1    lineage2.2\n",
      "Name: MYKROBE_LINEAGE_NAME_2, dtype: object\n",
      "UNIQUEID\n",
      "site.03.subj.DR-47.lab.IML-01078.iso.1    lineage2.2\n",
      "Name: MYKROBE_LINEAGE_NAME_2, dtype: object\n",
      "UNIQUEID\n",
      "site.04.subj.01296.lab.722396.iso.1    lineage2.2\n",
      "Name: MYKROBE_LINEAGE_NAME_2, dtype: object\n",
      "UNIQUEID\n",
      "site.04.subj.01275.lab.26422.iso.1    lineage2.2\n",
      "Name: MYKROBE_LINEAGE_NAME_2, dtype: object\n",
      "UNIQUEID\n",
      "site.04.subj.01055.lab.718532.iso.1    lineage2.2\n",
      "Name: MYKROBE_LINEAGE_NAME_2, dtype: object\n",
      "UNIQUEID\n",
      "site.04.subj.02775.lab.817692.iso.1    lineage2.2\n",
      "Name: MYKROBE_LINEAGE_NAME_2, dtype: object\n",
      "UNIQUEID\n",
      "site.04.subj.00367.lab.704912.iso.1    lineage2.2\n",
      "Name: MYKROBE_LINEAGE_NAME_2, dtype: object\n",
      "UNIQUEID\n",
      "site.04.subj.01039.lab.718468.iso.1    lineage2.2\n",
      "Name: MYKROBE_LINEAGE_NAME_2, dtype: object\n",
      "UNIQUEID\n",
      "site.04.subj.01599.lab.728693.iso.1    lineage2.2\n",
      "Name: MYKROBE_LINEAGE_NAME_2, dtype: object\n",
      "UNIQUEID\n",
      "site.04.subj.05565.lab.917313.iso.1    lineage2.2\n",
      "Name: MYKROBE_LINEAGE_NAME_2, dtype: object\n",
      "UNIQUEID\n",
      "site.04.subj.00639.lab.706226.iso.1    lineage2.2\n",
      "Name: MYKROBE_LINEAGE_NAME_2, dtype: object\n",
      "UNIQUEID\n",
      "site.04.subj.01814.lab.729825.iso.1    lineage2.2\n",
      "Name: MYKROBE_LINEAGE_NAME_2, dtype: object\n"
     ]
    }
   ],
   "source": [
    "\n",
    "for i in growth_v483a:\n",
    "    sub_lin = GENOMES[GENOMES.index == i].MYKROBE_LINEAGE_NAME_2\n",
    "    print(sub_lin)"
   ]
  },
  {
   "cell_type": "code",
   "execution_count": 131,
   "metadata": {},
   "outputs": [
    {
     "name": "stdout",
     "output_type": "stream",
     "text": [
      "15228 15228\n",
      "(15228, 15228)\n",
      "0.032514552120093985\n"
     ]
    }
   ],
   "source": [
    "snp_distance = numpy.load('/Users/viktoriabrunner/Documents/Studium/PhD/DPhil/paper/GPI_SNP_DISTANCES_VALUES.npy')\n",
    "snp_label = numpy.load('/Users/viktoriabrunner/Documents/Studium/PhD/DPhil/paper/GPI_SNP_DISTANCES_LABELS.npy')\n",
    "\n",
    "print(len(snp_distance), len(snp_label))\n",
    "print(snp_distance.shape)\n",
    "len(snp_distance[(snp_distance<30) & (snp_distance!=0)])\n",
    "print(len(snp_distance[(snp_distance<200) & (snp_distance!=0)])/(len(snp_distance)*len(snp_distance)))"
   ]
  },
  {
   "cell_type": "code",
   "execution_count": 251,
   "metadata": {
    "scrolled": true
   },
   "outputs": [],
   "source": [
    "snp_distances_clade1 = []\n",
    "for i in growth_v483a:\n",
    "    for j in growth_v483a:\n",
    "        dist = snp_distance[snp_label == i][0][snp_label == j][0]\n",
    "        snp_distances_clade1.append(dist)\n",
    "    \n",
    "snp_distances_clade1\n",
    "df = pandas.DataFrame(snp_distances_clade1)\n",
    "list_df = df.value_counts()"
   ]
  },
  {
   "cell_type": "code",
   "execution_count": 252,
   "metadata": {
    "scrolled": true
   },
   "outputs": [
    {
     "data": {
      "text/html": [
       "<div>\n",
       "<style scoped>\n",
       "    .dataframe tbody tr th:only-of-type {\n",
       "        vertical-align: middle;\n",
       "    }\n",
       "\n",
       "    .dataframe tbody tr th {\n",
       "        vertical-align: top;\n",
       "    }\n",
       "\n",
       "    .dataframe thead th {\n",
       "        text-align: right;\n",
       "    }\n",
       "</style>\n",
       "<table border=\"1\" class=\"dataframe\">\n",
       "  <thead>\n",
       "    <tr style=\"text-align: right;\">\n",
       "      <th></th>\n",
       "      <th>SNP_dist</th>\n",
       "      <th>count</th>\n",
       "    </tr>\n",
       "  </thead>\n",
       "  <tbody>\n",
       "    <tr>\n",
       "      <th>0</th>\n",
       "      <td>22</td>\n",
       "      <td>3328</td>\n",
       "    </tr>\n",
       "    <tr>\n",
       "      <th>1</th>\n",
       "      <td>21</td>\n",
       "      <td>3318</td>\n",
       "    </tr>\n",
       "    <tr>\n",
       "      <th>2</th>\n",
       "      <td>23</td>\n",
       "      <td>3214</td>\n",
       "    </tr>\n",
       "    <tr>\n",
       "      <th>3</th>\n",
       "      <td>20</td>\n",
       "      <td>3074</td>\n",
       "    </tr>\n",
       "    <tr>\n",
       "      <th>4</th>\n",
       "      <td>19</td>\n",
       "      <td>2886</td>\n",
       "    </tr>\n",
       "    <tr>\n",
       "      <th>...</th>\n",
       "      <td>...</td>\n",
       "      <td>...</td>\n",
       "    </tr>\n",
       "    <tr>\n",
       "      <th>140</th>\n",
       "      <td>142</td>\n",
       "      <td>2</td>\n",
       "    </tr>\n",
       "    <tr>\n",
       "      <th>141</th>\n",
       "      <td>144</td>\n",
       "      <td>2</td>\n",
       "    </tr>\n",
       "    <tr>\n",
       "      <th>142</th>\n",
       "      <td>145</td>\n",
       "      <td>2</td>\n",
       "    </tr>\n",
       "    <tr>\n",
       "      <th>143</th>\n",
       "      <td>148</td>\n",
       "      <td>2</td>\n",
       "    </tr>\n",
       "    <tr>\n",
       "      <th>144</th>\n",
       "      <td>149</td>\n",
       "      <td>2</td>\n",
       "    </tr>\n",
       "  </tbody>\n",
       "</table>\n",
       "<p>145 rows × 2 columns</p>\n",
       "</div>"
      ],
      "text/plain": [
       "     SNP_dist  count\n",
       "0          22   3328\n",
       "1          21   3318\n",
       "2          23   3214\n",
       "3          20   3074\n",
       "4          19   2886\n",
       "..        ...    ...\n",
       "140       142      2\n",
       "141       144      2\n",
       "142       145      2\n",
       "143       148      2\n",
       "144       149      2\n",
       "\n",
       "[145 rows x 2 columns]"
      ]
     },
     "execution_count": 252,
     "metadata": {},
     "output_type": "execute_result"
    }
   ],
   "source": [
    "list_df = list_df.reset_index()\n",
    "\n",
    "list_df.rename({0:'SNP_dist'}, axis = 1, inplace = True)\n",
    "\n",
    "#remove SNP_dist = 0 since that equals the self-distance\n",
    "index = list_df[list_df['SNP_dist'] == 0].index\n",
    "list_df = list_df.drop(axis = 0, index = index)\n",
    "\n",
    "list_df = list_df.reset_index()\n",
    "list_df.drop(axis = 1, columns='index', inplace = True)\n",
    "\n",
    "list_df"
   ]
  },
  {
   "cell_type": "code",
   "execution_count": 253,
   "metadata": {},
   "outputs": [
    {
     "name": "stdout",
     "output_type": "stream",
     "text": [
      "The average SNP-distance is 30.659347695088883 for I491V\n"
     ]
    }
   ],
   "source": [
    "sum_df = 0\n",
    "total_count = 0\n",
    "\n",
    "for i in range(0,len(list_df)):\n",
    "    sum_df += list_df['SNP_dist'][i] * list_df['count'][i]\n",
    "    total_count += list_df['count'][i] \n",
    "    \n",
    "average_SNP_dist = sum_df/total_count\n",
    "print('The average SNP-distance is', average_SNP_dist, 'for V483A')"
   ]
  },
  {
   "cell_type": "code",
   "execution_count": 254,
   "metadata": {},
   "outputs": [
    {
     "data": {
      "text/plain": [
       "149"
      ]
     },
     "execution_count": 254,
     "metadata": {},
     "output_type": "execute_result"
    }
   ],
   "source": [
    "list_df['SNP_dist'].max()"
   ]
  },
  {
   "cell_type": "code",
   "execution_count": 250,
   "metadata": {},
   "outputs": [
    {
     "data": {
      "text/plain": [
       "rpoB_A1075A    49\n",
       "rpoB_S450L     49\n",
       "rpoC_V483G     46\n",
       "rpoA_a-40o     18\n",
       "rpoC_V483A      2\n",
       "rpoA_c-53x      1\n",
       "rpoA_g-90x      1\n",
       "rpoA_g-52x      1\n",
       "rpoA_g-58x      1\n",
       "rpoA_g-61x      1\n",
       "rpoA_g-63x      1\n",
       "rpoA_g-64x      1\n",
       "rpoA_g-65x      1\n",
       "rpoA_g-66x      1\n",
       "rpoA_g-67x      1\n",
       "rpoA_g-81x      1\n",
       "rpoA_g-83x      1\n",
       "rpoA_g-93x      1\n",
       "rpoA_c-54x      1\n",
       "rpoA_g-95x      1\n",
       "Name: count, dtype: int64"
      ]
     },
     "execution_count": 250,
     "metadata": {},
     "output_type": "execute_result"
    }
   ],
   "source": [
    "#V483G, n10889 - n10982\n",
    "v483g_clade = []\n",
    "growth_v483g = []\n",
    "\n",
    "for i in new_tables.nodes[10889:10982]:\n",
    "    if 'name' in i.metadata.keys():\n",
    "        index = GENOMES[GENOMES['ORIGINAL_UID'] == i.metadata['name']].index\n",
    "        growth_v483g.extend(index)\n",
    "        v483g_clade.extend(MUTATIONS[MUTATIONS.UNIQUEID == index[0]].GENE_MUTATION.values)\n",
    "\n",
    "df = pandas.DataFrame(v483g_clade)\n",
    "df.value_counts()[:20]\n",
    "\n",
    "# df = pandas.DataFrame(growth_v483g)\n",
    "# df.to_csv('subclade_V483G.csv', index = False)"
   ]
  },
  {
   "cell_type": "code",
   "execution_count": 129,
   "metadata": {},
   "outputs": [
    {
     "data": {
      "text/plain": [
       "ZAF    43\n",
       "SWE     1\n",
       "NGA     0\n",
       "VNM     0\n",
       "UKR     0\n",
       "Name: COUNTRY_WHERE_SAMPLE_TAKEN, dtype: int64"
      ]
     },
     "execution_count": 129,
     "metadata": {},
     "output_type": "execute_result"
    }
   ],
   "source": [
    "SAMPLES[SAMPLES.UNIQUEID.isin(growth_v483g)].COUNTRY_WHERE_SAMPLE_TAKEN.value_counts()[:5]"
   ]
  },
  {
   "cell_type": "code",
   "execution_count": 130,
   "metadata": {},
   "outputs": [
    {
     "data": {
      "text/plain": [
       "Eastern Cape     25\n",
       "Western Cape     11\n",
       "KwaZulu-Natal     5\n",
       "Stockholm         1\n",
       "South Africa      1\n",
       "Gauteng           1\n",
       "Name: REGION, dtype: int64"
      ]
     },
     "execution_count": 130,
     "metadata": {},
     "output_type": "execute_result"
    }
   ],
   "source": [
    "SAMPLES[SAMPLES.UNIQUEID.isin(growth_v483g)].REGION.value_counts()[:30]"
   ]
  },
  {
   "cell_type": "code",
   "execution_count": 166,
   "metadata": {},
   "outputs": [],
   "source": [
    "#I491T, n7646 - n7860\n",
    "i491t_clade = []\n",
    "growth_i491t = []\n",
    "\n",
    "for i in new_tables.nodes[7646:7860]:\n",
    "    if 'name' in i.metadata.keys():\n",
    "        index = GENOMES[GENOMES['ORIGINAL_UID'] == i.metadata['name']].index\n",
    "        growth_i491t.extend(index)\n",
    "        i491t_clade.extend(MUTATIONS[MUTATIONS.UNIQUEID == index[0]].GENE_MUTATION.values)\n",
    "\n",
    "df = pandas.DataFrame(i491t_clade)\n",
    "df.value_counts()\n",
    "\n",
    "# #I491 T (V) n1143 - n1358\n",
    "i491t_clade = []\n",
    "growth_i491t = []\n",
    "\n",
    "for i in new_tables.nodes[1143:1358]:\n",
    "    if 'name' in i.metadata.keys():\n",
    "        index = GENOMES[GENOMES['ORIGINAL_UID'] == i.metadata['name']].index\n",
    "        growth_i491t.extend(index)\n",
    "        i491t_clade.extend(MUTATIONS[MUTATIONS.UNIQUEID == index[0]].GENE_MUTATION.values)\n",
    "\n",
    "df = pandas.DataFrame(i491t_clade)\n",
    "df.value_counts()\n",
    "\n",
    "# df = pandas.DataFrame(growth_i491t)\n",
    "# df.to_csv('subclade_I491t.csv', index = False)"
   ]
  },
  {
   "cell_type": "code",
   "execution_count": 137,
   "metadata": {
    "scrolled": true
   },
   "outputs": [
    {
     "data": {
      "text/plain": [
       "IND    102\n",
       "NPL      7\n",
       "AFG      0\n",
       "NGA      0\n",
       "VNM      0\n",
       "Name: COUNTRY_WHERE_SAMPLE_TAKEN, dtype: int64"
      ]
     },
     "execution_count": 137,
     "metadata": {},
     "output_type": "execute_result"
    }
   ],
   "source": [
    "SAMPLES[SAMPLES.UNIQUEID.isin(growth_i491t)].COUNTRY_WHERE_SAMPLE_TAKEN.value_counts()[:5]"
   ]
  },
  {
   "cell_type": "code",
   "execution_count": 138,
   "metadata": {
    "scrolled": false
   },
   "outputs": [
    {
     "data": {
      "text/plain": [
       "Mumbai                             16\n",
       "Thane                              11\n",
       "Kathmandu                           7\n",
       "Nala Sopara                         6\n",
       "Bhiwandi                            5\n",
       "Mumbai (Kandivali)                  5\n",
       "Mumbai (Ghatkopar)                  4\n",
       "Mumbai (Mahim)                      3\n",
       "Mumbra                              3\n",
       "Mumbai (Dharavi)                    3\n",
       "Mumbai (Tardeo)                     2\n",
       "Mumbai (Charni Road)                2\n",
       "Mumbai (Malad east)                 2\n",
       "Mumbai (Parel)                      2\n",
       "Ulhasnagar                          2\n",
       "Mumbai (Chembur)                    2\n",
       "Mumbai (Saki Naka)                  2\n",
       "Thane (west)                        2\n",
       "Vasai-Virar                         1\n",
       "Mumbai (Govandi)                    1\n",
       "Mumbai (Vidyavihar)                 1\n",
       "Mumbai (Worli)                      1\n",
       "Mumbai (Kandivali east)             1\n",
       "Mumbai (Guru Teg Bahadur Nagar)     1\n",
       "Mumbai (Sewri)                      1\n",
       "Mumbai (Agripada)                   1\n",
       "Nashik                              1\n",
       "Navi Mumbai                         1\n",
       "Mumbai (Bhendi Bazaar)              1\n",
       "Mumbai (Sewri east)                 1\n",
       "Name: REGION, dtype: int64"
      ]
     },
     "execution_count": 138,
     "metadata": {},
     "output_type": "execute_result"
    }
   ],
   "source": [
    "SAMPLES[SAMPLES.UNIQUEID.isin(growth_i491t)].REGION.value_counts()[:30]"
   ]
  },
  {
   "cell_type": "code",
   "execution_count": 46,
   "metadata": {},
   "outputs": [
    {
     "data": {
      "text/plain": [
       "rpoB_A1075A    304\n",
       "rpoC_I491V     295\n",
       "rpoB_S450L     290\n",
       "rpoA_a-40o     120\n",
       "rpoA_g-100x     73\n",
       "              ... \n",
       "rpoA_g-66o       1\n",
       "rpoA_c-77o       1\n",
       "rpoA_c-71o       1\n",
       "rpoA_D253O       1\n",
       "sigA_G314S       1\n",
       "Name: count, Length: 78, dtype: int64"
      ]
     },
     "execution_count": 46,
     "metadata": {},
     "output_type": "execute_result"
    }
   ],
   "source": [
    "#I491V, n1 - n616\n",
    "i491v_clade = []\n",
    "growth_i491v = []\n",
    "\n",
    "for i in new_tables.nodes[1:616]:\n",
    "    if 'name' in i.metadata.keys():\n",
    "        index = GENOMES[GENOMES['ORIGINAL_UID'] == i.metadata['name']].index\n",
    "        growth_i491v.extend(index)\n",
    "        i491v_clade.extend(MUTATIONS[MUTATIONS.UNIQUEID == index[0]].GENE_MUTATION.values)\n",
    "\n",
    "df = pandas.DataFrame(i491v_clade)\n",
    "df.value_counts()\n",
    "\n",
    "# df = pandas.DataFrame(growth_i491v)\n",
    "# df.to_csv('subclade_I491V.csv', index = False)"
   ]
  },
  {
   "cell_type": "code",
   "execution_count": 47,
   "metadata": {},
   "outputs": [
    {
     "data": {
      "text/plain": [
       "COUNTRY_WHERE_SAMPLE_TAKEN\n",
       "IND    293\n",
       "NPL     10\n",
       "AFG      0\n",
       "NGA      0\n",
       "VNM      0\n",
       "Name: count, dtype: int64"
      ]
     },
     "execution_count": 47,
     "metadata": {},
     "output_type": "execute_result"
    }
   ],
   "source": [
    "SAMPLES[SAMPLES.UNIQUEID.isin(growth_i491v)].COUNTRY_WHERE_SAMPLE_TAKEN.value_counts()[:5]"
   ]
  },
  {
   "cell_type": "code",
   "execution_count": 48,
   "metadata": {
    "scrolled": true
   },
   "outputs": [
    {
     "data": {
      "text/plain": [
       "REGION\n",
       "Mumbai                    61\n",
       "Mumbai (Mahim)            25\n",
       "Thane                     12\n",
       "Kathmandu                 10\n",
       "Mumbai (Kurla)             9\n",
       "Mumbai (Malad)             7\n",
       "Dombivli                   6\n",
       "Mumbai (Malad west)        6\n",
       "Mumbai (Kandivali)         6\n",
       "Mumbai (Andheri)           6\n",
       "Mumbra                     5\n",
       "Mumbai (Wadala)            5\n",
       "Mumbai (Central)           5\n",
       "Mumbai (Parel)             5\n",
       "Mumbai (Antop Hill)        4\n",
       "Mumbai (Borivali)          4\n",
       "Mumbai (Mazagaon)          4\n",
       "Mumbai (Sewri)             4\n",
       "Virar                      4\n",
       "Mumbai (Chembur)           4\n",
       "Mumbai (Bandra)            4\n",
       "Mumbai (Sion)              4\n",
       "Mumbai (Goregaon east)     3\n",
       "Mumbai (Goregaon)          3\n",
       "Mumbai (Bhandup)           3\n",
       "Vasai-Virar                3\n",
       "Mumbai (Prabhadevi)        3\n",
       "Mumbai (Santacruz)         3\n",
       "Mumbai (Girgaon)           3\n",
       "Mumbai (Ghatkopar)         3\n",
       "Name: count, dtype: int64"
      ]
     },
     "execution_count": 48,
     "metadata": {},
     "output_type": "execute_result"
    }
   ],
   "source": [
    "SAMPLES[SAMPLES.UNIQUEID.isin(growth_i491v)].REGION.value_counts()[:30]"
   ]
  },
  {
   "cell_type": "code",
   "execution_count": 246,
   "metadata": {},
   "outputs": [],
   "source": [
    "snp_distances_clade2 = []\n",
    "for i in growth_i491v:\n",
    "    for j in growth_i491v:\n",
    "        dist = snp_distance[snp_label == i][0][snp_label == j][0]\n",
    "        snp_distances_clade2.append(dist)\n",
    "    \n",
    "snp_distances_clade2\n",
    "df = pandas.DataFrame(snp_distances_clade2)\n",
    "list_df = df.value_counts()"
   ]
  },
  {
   "cell_type": "code",
   "execution_count": 104,
   "metadata": {},
   "outputs": [
    {
     "name": "stdout",
     "output_type": "stream",
     "text": [
      "UNIQUEID\n",
      "site.04.subj.03818.lab.830476.iso.1    lineage2.2.7\n",
      "Name: MYKROBE_LINEAGE_NAME_2, dtype: object\n",
      "UNIQUEID\n",
      "site.04.subj.00310.lab.701951.iso.1    lineage2.2.7\n",
      "Name: MYKROBE_LINEAGE_NAME_2, dtype: object\n",
      "UNIQUEID\n",
      "site.04.subj.01627.lab.27972.iso.1    lineage2.2.7\n",
      "Name: MYKROBE_LINEAGE_NAME_2, dtype: object\n",
      "UNIQUEID\n",
      "site.04.subj.01042.lab.717652.iso.1    lineage2.2.7\n",
      "Name: MYKROBE_LINEAGE_NAME_2, dtype: object\n",
      "UNIQUEID\n",
      "site.04.subj.02112.lab.803805.iso.1    lineage2.2.7\n",
      "Name: MYKROBE_LINEAGE_NAME_2, dtype: object\n",
      "UNIQUEID\n",
      "site.04.subj.04137.lab.832790.iso.1    lineage2.2.7\n",
      "Name: MYKROBE_LINEAGE_NAME_2, dtype: object\n",
      "UNIQUEID\n",
      "site.04.subj.01432.lab.724551.iso.1    lineage2.2.7\n",
      "Name: MYKROBE_LINEAGE_NAME_2, dtype: object\n",
      "UNIQUEID\n",
      "site.04.subj.02235.lab.805177.iso.1    lineage2.2.7\n",
      "Name: MYKROBE_LINEAGE_NAME_2, dtype: object\n",
      "UNIQUEID\n",
      "site.04.subj.00300.lab.702487.iso.1    lineage2.2.7\n",
      "Name: MYKROBE_LINEAGE_NAME_2, dtype: object\n",
      "UNIQUEID\n",
      "site.04.subj.03648.lab.JJH9682.iso.1    lineage2.2.7\n",
      "Name: MYKROBE_LINEAGE_NAME_2, dtype: object\n",
      "UNIQUEID\n",
      "site.04.subj.00564.lab.709046.iso.1    lineage2.2.7\n",
      "Name: MYKROBE_LINEAGE_NAME_2, dtype: object\n",
      "UNIQUEID\n",
      "site.04.subj.04356.lab.903933.iso.1    lineage2.2.7\n",
      "Name: MYKROBE_LINEAGE_NAME_2, dtype: object\n",
      "UNIQUEID\n",
      "site.04.subj.01175.lab.721997.iso.1    lineage2.2.7\n",
      "Name: MYKROBE_LINEAGE_NAME_2, dtype: object\n",
      "UNIQUEID\n",
      "site.04.subj.01288.lab.801278.iso.1    lineage2.2.7\n",
      "Name: MYKROBE_LINEAGE_NAME_2, dtype: object\n",
      "UNIQUEID\n",
      "site.04.subj.02152.lab.803055.iso.1    lineage2.2.7\n",
      "Name: MYKROBE_LINEAGE_NAME_2, dtype: object\n",
      "UNIQUEID\n",
      "site.04.subj.00447.lab.702571.iso.1    lineage2.2.7\n",
      "Name: MYKROBE_LINEAGE_NAME_2, dtype: object\n",
      "UNIQUEID\n",
      "site.04.subj.04553.lab.904461.iso.1    lineage2.2.7\n",
      "Name: MYKROBE_LINEAGE_NAME_2, dtype: object\n",
      "UNIQUEID\n",
      "site.04.subj.03125.lab.817980.iso.1    lineage2.2.7\n",
      "Name: MYKROBE_LINEAGE_NAME_2, dtype: object\n",
      "UNIQUEID\n",
      "site.04.subj.05351.lab.912354.iso.1    lineage2.2.7\n",
      "Name: MYKROBE_LINEAGE_NAME_2, dtype: object\n",
      "UNIQUEID\n",
      "site.03.subj.DR-127.lab.IML-01113.iso.1    lineage2.2.7\n",
      "Name: MYKROBE_LINEAGE_NAME_2, dtype: object\n",
      "UNIQUEID\n",
      "site.04.subj.00661.lab.707440.iso.1    lineage2.2.7\n",
      "Name: MYKROBE_LINEAGE_NAME_2, dtype: object\n",
      "UNIQUEID\n",
      "site.04.subj.00791.lab.708854.iso.1    lineage2.2.7\n",
      "Name: MYKROBE_LINEAGE_NAME_2, dtype: object\n",
      "UNIQUEID\n",
      "site.04.subj.03423.lab.827137.iso.1    lineage2.2.7\n",
      "Name: MYKROBE_LINEAGE_NAME_2, dtype: object\n",
      "UNIQUEID\n",
      "site.04.subj.03861.lab.829698.iso.1    lineage2.2.7\n",
      "Name: MYKROBE_LINEAGE_NAME_2, dtype: object\n",
      "UNIQUEID\n",
      "site.04.subj.04609.lab.904553.iso.1    lineage2.2.7\n",
      "Name: MYKROBE_LINEAGE_NAME_2, dtype: object\n",
      "UNIQUEID\n",
      "site.03.subj.DS-63.lab.IML-01270.iso.1    lineage2.2.7\n",
      "Name: MYKROBE_LINEAGE_NAME_2, dtype: object\n",
      "UNIQUEID\n",
      "site.03.subj.DR-149.lab.IML-01121.iso.1    lineage2.2.7\n",
      "Name: MYKROBE_LINEAGE_NAME_2, dtype: object\n",
      "UNIQUEID\n",
      "site.04.subj.04274.lab.828522.iso.1    lineage2.2.7\n",
      "Name: MYKROBE_LINEAGE_NAME_2, dtype: object\n",
      "UNIQUEID\n",
      "site.04.subj.01660.lab.727297.iso.1    lineage2.2.7\n",
      "Name: MYKROBE_LINEAGE_NAME_2, dtype: object\n",
      "UNIQUEID\n",
      "site.04.subj.00560.lab.713122.iso.1    lineage2.2.7\n",
      "Name: MYKROBE_LINEAGE_NAME_2, dtype: object\n",
      "UNIQUEID\n",
      "site.04.subj.04625.lab.905971.iso.1    lineage2.2.7\n",
      "Name: MYKROBE_LINEAGE_NAME_2, dtype: object\n",
      "UNIQUEID\n",
      "site.04.subj.00455.lab.21402.iso.1    lineage2.2.7\n",
      "Name: MYKROBE_LINEAGE_NAME_2, dtype: object\n",
      "UNIQUEID\n",
      "site.04.subj.02723.lab.817430.iso.1    lineage2.2.7\n",
      "Name: MYKROBE_LINEAGE_NAME_2, dtype: object\n",
      "UNIQUEID\n",
      "site.04.subj.02074.lab.805221.iso.1    lineage2.2.7\n",
      "Name: MYKROBE_LINEAGE_NAME_2, dtype: object\n",
      "UNIQUEID\n",
      "site.04.subj.04452.lab.905260.iso.1    lineage2.2.7\n",
      "Name: MYKROBE_LINEAGE_NAME_2, dtype: object\n",
      "UNIQUEID\n",
      "site.04.subj.00980.lab.715683.iso.1    lineage2.2.7\n",
      "Name: MYKROBE_LINEAGE_NAME_2, dtype: object\n",
      "UNIQUEID\n",
      "site.04.subj.04540.lab.902279.iso.1    lineage2.2.7\n",
      "Name: MYKROBE_LINEAGE_NAME_2, dtype: object\n",
      "UNIQUEID\n",
      "site.04.subj.00717.lab.708711.iso.1    lineage2.2.7\n",
      "Name: MYKROBE_LINEAGE_NAME_2, dtype: object\n",
      "UNIQUEID\n",
      "site.04.subj.00251.lab.702512.iso.1    lineage2.2.7\n",
      "Name: MYKROBE_LINEAGE_NAME_2, dtype: object\n",
      "UNIQUEID\n",
      "site.04.subj.00095.lab.632984.iso.1    lineage2.2.7\n",
      "Name: MYKROBE_LINEAGE_NAME_2, dtype: object\n",
      "UNIQUEID\n",
      "site.04.subj.00673.lab.713951.iso.1    lineage2.2.7\n",
      "Name: MYKROBE_LINEAGE_NAME_2, dtype: object\n",
      "UNIQUEID\n",
      "site.04.subj.01548.lab.727835.iso.1    lineage2.2.7\n",
      "Name: MYKROBE_LINEAGE_NAME_2, dtype: object\n",
      "UNIQUEID\n",
      "site.04.subj.00480.lab.704830.iso.1    lineage2.2.7\n",
      "Name: MYKROBE_LINEAGE_NAME_2, dtype: object\n",
      "UNIQUEID\n",
      "site.04.subj.02270.lab.802610.iso.1    lineage2.2.7\n",
      "Name: MYKROBE_LINEAGE_NAME_2, dtype: object\n",
      "UNIQUEID\n",
      "site.04.subj.02169.lab.818684.iso.1    lineage2.2.7\n",
      "Name: MYKROBE_LINEAGE_NAME_2, dtype: object\n",
      "UNIQUEID\n",
      "site.04.subj.04339.lab.900978.iso.1    lineage2.2.7\n",
      "Name: MYKROBE_LINEAGE_NAME_2, dtype: object\n",
      "UNIQUEID\n",
      "site.04.subj.02017.lab.733502.iso.1    lineage2.2.7\n",
      "Name: MYKROBE_LINEAGE_NAME_2, dtype: object\n",
      "UNIQUEID\n",
      "site.04.subj.03637.lab.828533.iso.1    lineage2.2.7\n",
      "Name: MYKROBE_LINEAGE_NAME_2, dtype: object\n",
      "UNIQUEID\n",
      "site.04.subj.00009.lab.633291.iso.1    lineage2.2.7\n",
      "Name: MYKROBE_LINEAGE_NAME_2, dtype: object\n",
      "UNIQUEID\n",
      "site.04.subj.01133.lab.729953.iso.1    lineage2.2.7\n",
      "Name: MYKROBE_LINEAGE_NAME_2, dtype: object\n",
      "UNIQUEID\n",
      "site.04.subj.03595.lab.819090.iso.1    lineage2.2.7\n",
      "Name: MYKROBE_LINEAGE_NAME_2, dtype: object\n",
      "UNIQUEID\n",
      "site.04.subj.00430.lab.703914.iso.1    lineage2.2.7\n",
      "Name: MYKROBE_LINEAGE_NAME_2, dtype: object\n",
      "UNIQUEID\n",
      "site.04.subj.00119.lab.630666.iso.1    lineage2.2.7\n",
      "Name: MYKROBE_LINEAGE_NAME_2, dtype: object\n",
      "UNIQUEID\n",
      "site.04.subj.01392.lab.726669.iso.1    lineage2.2.7\n",
      "Name: MYKROBE_LINEAGE_NAME_2, dtype: object\n",
      "UNIQUEID\n",
      "site.04.subj.01165.lab.718732.iso.1    lineage2.2.7\n",
      "Name: MYKROBE_LINEAGE_NAME_2, dtype: object\n",
      "UNIQUEID\n",
      "site.04.subj.01567.lab.728393.iso.1    lineage2.2.7\n",
      "Name: MYKROBE_LINEAGE_NAME_2, dtype: object\n",
      "UNIQUEID\n",
      "site.04.subj.01658.lab.727424.iso.1    lineage2.2.7\n",
      "Name: MYKROBE_LINEAGE_NAME_2, dtype: object\n",
      "UNIQUEID\n",
      "site.04.subj.01615.lab.728617.iso.1    lineage2.2.7\n",
      "Name: MYKROBE_LINEAGE_NAME_2, dtype: object\n",
      "UNIQUEID\n",
      "site.04.subj.01422.lab.725376.iso.1    lineage2.2.7\n",
      "Name: MYKROBE_LINEAGE_NAME_2, dtype: object\n",
      "UNIQUEID\n",
      "site.04.subj.01991.lab.800807.iso.1    lineage2.2.7\n",
      "Name: MYKROBE_LINEAGE_NAME_2, dtype: object\n",
      "UNIQUEID\n",
      "site.03.subj.DR-95.lab.IML-01097.iso.1    lineage2.2.7\n",
      "Name: MYKROBE_LINEAGE_NAME_2, dtype: object\n",
      "UNIQUEID\n",
      "site.04.subj.00380.lab.704469.iso.1    lineage2.2.7\n",
      "Name: MYKROBE_LINEAGE_NAME_2, dtype: object\n",
      "UNIQUEID\n",
      "site.04.subj.04116.lab.832020.iso.1    lineage2.2.7\n",
      "Name: MYKROBE_LINEAGE_NAME_2, dtype: object\n",
      "UNIQUEID\n",
      "site.04.subj.05339.lab.912601.iso.1    lineage2.2.7\n",
      "Name: MYKROBE_LINEAGE_NAME_2, dtype: object\n",
      "UNIQUEID\n",
      "site.04.subj.02811.lab.818713.iso.1    lineage2.2.7\n",
      "Name: MYKROBE_LINEAGE_NAME_2, dtype: object\n",
      "UNIQUEID\n",
      "site.04.subj.00337.lab.703717.iso.1    lineage2.2.7\n",
      "Name: MYKROBE_LINEAGE_NAME_2, dtype: object\n",
      "UNIQUEID\n",
      "site.04.subj.01128.lab.721469.iso.1    lineage2.2.7\n",
      "Name: MYKROBE_LINEAGE_NAME_2, dtype: object\n",
      "UNIQUEID\n",
      "site.04.subj.01454.lab.727351.iso.1    lineage2.2.7\n",
      "Name: MYKROBE_LINEAGE_NAME_2, dtype: object\n",
      "UNIQUEID\n",
      "site.04.subj.04511.lab.905563.iso.1    lineage2.2.7\n",
      "Name: MYKROBE_LINEAGE_NAME_2, dtype: object\n",
      "UNIQUEID\n",
      "site.04.subj.00295.lab.700915.iso.1    lineage2.2.7\n",
      "Name: MYKROBE_LINEAGE_NAME_2, dtype: object\n",
      "UNIQUEID\n",
      "site.04.subj.02695.lab.815096.iso.1    lineage2.2.7\n",
      "Name: MYKROBE_LINEAGE_NAME_2, dtype: object\n",
      "UNIQUEID\n",
      "site.04.subj.00142.lab.634179.iso.1    lineage2.2.7\n",
      "Name: MYKROBE_LINEAGE_NAME_2, dtype: object\n",
      "UNIQUEID\n",
      "site.04.subj.04142.lab.900629.iso.1    lineage2.2.7\n",
      "Name: MYKROBE_LINEAGE_NAME_2, dtype: object\n",
      "UNIQUEID\n",
      "site.04.subj.04661.lab.905823.iso.1    lineage2.2.7\n",
      "Name: MYKROBE_LINEAGE_NAME_2, dtype: object\n",
      "UNIQUEID\n",
      "site.04.subj.03346.lab.827810.iso.1    lineage2.2.7\n",
      "Name: MYKROBE_LINEAGE_NAME_2, dtype: object\n",
      "UNIQUEID\n",
      "site.04.subj.03120.lab.825028.iso.1    lineage2.2.7\n",
      "Name: MYKROBE_LINEAGE_NAME_2, dtype: object\n",
      "UNIQUEID\n",
      "site.04.subj.05599.lab.919317.iso.1    lineage2.2.7\n",
      "Name: MYKROBE_LINEAGE_NAME_2, dtype: object\n",
      "UNIQUEID\n",
      "site.04.subj.01338.lab.723761.iso.1    lineage2.2.7\n",
      "Name: MYKROBE_LINEAGE_NAME_2, dtype: object\n",
      "UNIQUEID\n",
      "site.04.subj.04444.lab.833187.iso.1    lineage2.2.7\n",
      "Name: MYKROBE_LINEAGE_NAME_2, dtype: object\n",
      "UNIQUEID\n",
      "site.04.subj.04554.lab.903942.iso.1    lineage2.2.7\n",
      "Name: MYKROBE_LINEAGE_NAME_2, dtype: object\n",
      "UNIQUEID\n",
      "site.04.subj.01441.lab.724453.iso.1    lineage2.2.7\n",
      "Name: MYKROBE_LINEAGE_NAME_2, dtype: object\n",
      "UNIQUEID\n",
      "site.04.subj.02729.lab.818378.iso.1    lineage2.2.7\n",
      "Name: MYKROBE_LINEAGE_NAME_2, dtype: object\n",
      "UNIQUEID\n",
      "site.04.subj.01331.lab.724777.iso.1    lineage2.2.7\n",
      "Name: MYKROBE_LINEAGE_NAME_2, dtype: object\n",
      "UNIQUEID\n",
      "site.04.subj.01845.lab.734311.iso.1    lineage2.2.7\n",
      "Name: MYKROBE_LINEAGE_NAME_2, dtype: object\n",
      "UNIQUEID\n",
      "site.03.subj.DS-66.lab.IML-01234.iso.1    lineage2.2.7\n",
      "Name: MYKROBE_LINEAGE_NAME_2, dtype: object\n",
      "UNIQUEID\n",
      "site.04.subj.04894.lab.907181.iso.1    lineage2.2.7\n",
      "Name: MYKROBE_LINEAGE_NAME_2, dtype: object\n",
      "UNIQUEID\n",
      "site.03.subj.DR-172.lab.IML-01130.iso.1    lineage2.2.7\n",
      "Name: MYKROBE_LINEAGE_NAME_2, dtype: object\n",
      "UNIQUEID\n",
      "site.04.subj.01343.lab.725693.iso.1    lineage2.2.7\n",
      "Name: MYKROBE_LINEAGE_NAME_2, dtype: object\n",
      "UNIQUEID\n",
      "site.04.subj.00765.lab.716003.iso.1    lineage2.2.7\n",
      "Name: MYKROBE_LINEAGE_NAME_2, dtype: object\n",
      "UNIQUEID\n",
      "site.04.subj.01797.lab.732649.iso.1    lineage2.2.7\n",
      "Name: MYKROBE_LINEAGE_NAME_2, dtype: object\n",
      "UNIQUEID\n",
      "site.04.subj.03928.lab.832937.iso.1    lineage2.2.7\n",
      "Name: MYKROBE_LINEAGE_NAME_2, dtype: object\n",
      "UNIQUEID\n",
      "site.04.subj.00195.lab.700917.iso.1    lineage2.2.7\n",
      "Name: MYKROBE_LINEAGE_NAME_2, dtype: object\n",
      "UNIQUEID\n",
      "site.04.subj.00371.lab.713146.iso.1    lineage2.2.7\n",
      "Name: MYKROBE_LINEAGE_NAME_2, dtype: object\n",
      "UNIQUEID\n",
      "site.04.subj.00539.lab.706551.iso.1    lineage2.2.7\n",
      "Name: MYKROBE_LINEAGE_NAME_2, dtype: object\n",
      "UNIQUEID\n",
      "site.04.subj.00624.lab.709302.iso.1    lineage2.2.7\n",
      "Name: MYKROBE_LINEAGE_NAME_2, dtype: object\n",
      "UNIQUEID\n",
      "site.04.subj.04556.lab.901728.iso.1    lineage2.2.7\n",
      "Name: MYKROBE_LINEAGE_NAME_2, dtype: object\n",
      "UNIQUEID\n",
      "site.04.subj.01686.lab.732506.iso.1    lineage2.2.7\n",
      "Name: MYKROBE_LINEAGE_NAME_2, dtype: object\n"
     ]
    },
    {
     "name": "stdout",
     "output_type": "stream",
     "text": [
      "UNIQUEID\n",
      "site.04.subj.03824.lab.830216.iso.1    lineage2.2.7\n",
      "Name: MYKROBE_LINEAGE_NAME_2, dtype: object\n",
      "UNIQUEID\n",
      "site.04.subj.05660.lab.919709.iso.1    lineage2.2.7\n",
      "Name: MYKROBE_LINEAGE_NAME_2, dtype: object\n",
      "UNIQUEID\n",
      "site.04.subj.00482.lab.704543.iso.1    lineage2.2.7\n",
      "Name: MYKROBE_LINEAGE_NAME_2, dtype: object\n",
      "UNIQUEID\n",
      "site.04.subj.03893.lab.832777.iso.1    lineage2.2.7\n",
      "Name: MYKROBE_LINEAGE_NAME_2, dtype: object\n",
      "UNIQUEID\n",
      "site.04.subj.00080.lab.633839.iso.1    lineage2.2.7\n",
      "Name: MYKROBE_LINEAGE_NAME_2, dtype: object\n",
      "UNIQUEID\n",
      "site.04.subj.05005.lab.908704.iso.1    lineage2.2.7\n",
      "Name: MYKROBE_LINEAGE_NAME_2, dtype: object\n",
      "UNIQUEID\n",
      "site.04.subj.03363.lab.827295.iso.1    lineage2.2.7\n",
      "Name: MYKROBE_LINEAGE_NAME_2, dtype: object\n",
      "UNIQUEID\n",
      "site.04.subj.01877.lab.801709.iso.1    lineage2.2.7\n",
      "Name: MYKROBE_LINEAGE_NAME_2, dtype: object\n",
      "UNIQUEID\n",
      "site.04.subj.03870.lab.826149.iso.1    lineage2.2.7\n",
      "Name: MYKROBE_LINEAGE_NAME_2, dtype: object\n",
      "UNIQUEID\n",
      "site.04.subj.04918.lab.909362.iso.1    lineage2.2.7\n",
      "Name: MYKROBE_LINEAGE_NAME_2, dtype: object\n",
      "UNIQUEID\n",
      "site.04.subj.00956.lab.714356.iso.1    lineage2.2.7\n",
      "Name: MYKROBE_LINEAGE_NAME_2, dtype: object\n",
      "UNIQUEID\n",
      "site.04.subj.04700.lab.905652.iso.1    lineage2.2.7\n",
      "Name: MYKROBE_LINEAGE_NAME_2, dtype: object\n",
      "UNIQUEID\n",
      "site.04.subj.00995.lab.716767.iso.1    lineage2.2.7\n",
      "Name: MYKROBE_LINEAGE_NAME_2, dtype: object\n",
      "UNIQUEID\n",
      "site.04.subj.00243.lab.701880.iso.1    lineage2.2.7\n",
      "Name: MYKROBE_LINEAGE_NAME_2, dtype: object\n",
      "UNIQUEID\n",
      "site.04.subj.02053.lab.802496.iso.1    lineage2.2.7\n",
      "Name: MYKROBE_LINEAGE_NAME_2, dtype: object\n",
      "UNIQUEID\n",
      "site.04.subj.02264.lab.806420.iso.1    lineage2.2.7\n",
      "Name: MYKROBE_LINEAGE_NAME_2, dtype: object\n",
      "UNIQUEID\n",
      "site.04.subj.04564.lab.905947.iso.1    lineage2.2.7\n",
      "Name: MYKROBE_LINEAGE_NAME_2, dtype: object\n",
      "UNIQUEID\n",
      "site.04.subj.03310.lab.825304.iso.1    lineage2.2.7\n",
      "Name: MYKROBE_LINEAGE_NAME_2, dtype: object\n",
      "UNIQUEID\n",
      "site.04.subj.04097.lab.900071.iso.1    lineage2.2.7\n",
      "Name: MYKROBE_LINEAGE_NAME_2, dtype: object\n",
      "UNIQUEID\n",
      "site.04.subj.03040.lab.822671.iso.1    lineage2.2.7\n",
      "Name: MYKROBE_LINEAGE_NAME_2, dtype: object\n",
      "UNIQUEID\n",
      "site.04.subj.02192.lab.803701.iso.1    lineage2.2.7\n",
      "Name: MYKROBE_LINEAGE_NAME_2, dtype: object\n",
      "UNIQUEID\n",
      "site.04.subj.04435.lab.901710.iso.1    lineage2.2.7\n",
      "Name: MYKROBE_LINEAGE_NAME_2, dtype: object\n",
      "UNIQUEID\n",
      "site.04.subj.02868.lab.819422.iso.1    lineage2.2.7\n",
      "Name: MYKROBE_LINEAGE_NAME_2, dtype: object\n",
      "UNIQUEID\n",
      "site.04.subj.00326.lab.630662.iso.1    lineage2.2.7\n",
      "Name: MYKROBE_LINEAGE_NAME_2, dtype: object\n",
      "UNIQUEID\n",
      "site.04.subj.01779.lab.732794.iso.1    lineage2.2.7\n",
      "Name: MYKROBE_LINEAGE_NAME_2, dtype: object\n",
      "UNIQUEID\n",
      "site.04.subj.00297.lab.700367.iso.1    lineage2.2.7\n",
      "Name: MYKROBE_LINEAGE_NAME_2, dtype: object\n",
      "UNIQUEID\n",
      "site.04.subj.03560.lab.827313.iso.1    lineage2.2.7\n",
      "Name: MYKROBE_LINEAGE_NAME_2, dtype: object\n",
      "UNIQUEID\n",
      "site.04.subj.00584.lab.703921.iso.1    lineage2.2.7\n",
      "Name: MYKROBE_LINEAGE_NAME_2, dtype: object\n",
      "UNIQUEID\n",
      "site.04.subj.00652.lab.713082.iso.1    lineage2.2.7\n",
      "Name: MYKROBE_LINEAGE_NAME_2, dtype: object\n",
      "UNIQUEID\n",
      "site.04.subj.00651.lab.706834.iso.1    lineage2.2.7\n",
      "Name: MYKROBE_LINEAGE_NAME_2, dtype: object\n",
      "UNIQUEID\n",
      "site.04.subj.00563.lab.706789.iso.1    lineage2.2.7\n",
      "Name: MYKROBE_LINEAGE_NAME_2, dtype: object\n",
      "UNIQUEID\n",
      "site.04.subj.05682.lab.920782.iso.1    lineage2.2.7\n",
      "Name: MYKROBE_LINEAGE_NAME_2, dtype: object\n",
      "UNIQUEID\n",
      "site.04.subj.02750.lab.817313.iso.1    lineage2.2.7\n",
      "Name: MYKROBE_LINEAGE_NAME_2, dtype: object\n",
      "UNIQUEID\n",
      "site.04.subj.01487.lab.727580.iso.1    lineage2.2.7\n",
      "Name: MYKROBE_LINEAGE_NAME_2, dtype: object\n",
      "UNIQUEID\n",
      "site.04.subj.05349.lab.913370.iso.1    lineage2.2.7\n",
      "Name: MYKROBE_LINEAGE_NAME_2, dtype: object\n",
      "UNIQUEID\n",
      "site.04.subj.00558.lab.706145.iso.1    lineage2.2.7\n",
      "Name: MYKROBE_LINEAGE_NAME_2, dtype: object\n",
      "UNIQUEID\n",
      "site.04.subj.00588.lab.705584.iso.1    lineage2.2.7\n",
      "Name: MYKROBE_LINEAGE_NAME_2, dtype: object\n",
      "UNIQUEID\n",
      "site.04.subj.01351.lab.734285.iso.1    lineage2.2.7\n",
      "Name: MYKROBE_LINEAGE_NAME_2, dtype: object\n",
      "UNIQUEID\n",
      "site.04.subj.00529.lab.706146.iso.1    lineage2.2.7\n",
      "Name: MYKROBE_LINEAGE_NAME_2, dtype: object\n",
      "UNIQUEID\n",
      "site.04.subj.04075.lab.900031.iso.1    lineage2.2.7\n",
      "Name: MYKROBE_LINEAGE_NAME_2, dtype: object\n",
      "UNIQUEID\n",
      "site.04.subj.05587.lab.919502.iso.1    lineage2.2.7\n",
      "Name: MYKROBE_LINEAGE_NAME_2, dtype: object\n",
      "UNIQUEID\n",
      "site.04.subj.04431.lab.902936.iso.1    lineage2.2.7\n",
      "Name: MYKROBE_LINEAGE_NAME_2, dtype: object\n",
      "UNIQUEID\n",
      "site.04.subj.04819.lab.905088.iso.1    lineage2.2.7\n",
      "Name: MYKROBE_LINEAGE_NAME_2, dtype: object\n",
      "UNIQUEID\n",
      "site.03.subj.DR-81.lab.IML-01093.iso.1    lineage2.2.7\n",
      "Name: MYKROBE_LINEAGE_NAME_2, dtype: object\n",
      "UNIQUEID\n",
      "site.04.subj.02611.lab.814872.iso.1    lineage2.2.7\n",
      "Name: MYKROBE_LINEAGE_NAME_2, dtype: object\n",
      "UNIQUEID\n",
      "site.04.subj.00914.lab.715102.iso.1    lineage2.2.7\n",
      "Name: MYKROBE_LINEAGE_NAME_2, dtype: object\n",
      "UNIQUEID\n",
      "site.04.subj.00599.lab.21901.iso.1    lineage2.2.7\n",
      "Name: MYKROBE_LINEAGE_NAME_2, dtype: object\n",
      "UNIQUEID\n",
      "site.04.subj.01152.lab.718232.iso.1    lineage2.2.7\n",
      "Name: MYKROBE_LINEAGE_NAME_2, dtype: object\n",
      "UNIQUEID\n",
      "site.04.subj.00255.lab.709124.iso.1    lineage2.2.7\n",
      "Name: MYKROBE_LINEAGE_NAME_2, dtype: object\n",
      "UNIQUEID\n",
      "site.04.subj.02690.lab.817469.iso.1    lineage2.2.7\n",
      "Name: MYKROBE_LINEAGE_NAME_2, dtype: object\n",
      "UNIQUEID\n",
      "site.04.subj.00381.lab.705573.iso.1    lineage2.2.7\n",
      "Name: MYKROBE_LINEAGE_NAME_2, dtype: object\n",
      "UNIQUEID\n",
      "site.04.subj.04320.lab.901260.iso.1    lineage2.2.7\n",
      "Name: MYKROBE_LINEAGE_NAME_2, dtype: object\n",
      "UNIQUEID\n",
      "site.04.subj.05417.lab.911616.iso.1    lineage2.2.7\n",
      "Name: MYKROBE_LINEAGE_NAME_2, dtype: object\n",
      "UNIQUEID\n",
      "site.04.subj.00071.lab.632539.iso.1    lineage2.2.7\n",
      "Name: MYKROBE_LINEAGE_NAME_2, dtype: object\n",
      "UNIQUEID\n",
      "site.04.subj.01241.lab.721859.iso.1    lineage2.2.7\n",
      "Name: MYKROBE_LINEAGE_NAME_2, dtype: object\n",
      "UNIQUEID\n",
      "site.04.subj.00549.lab.712263.iso.1    lineage2.2.7\n",
      "Name: MYKROBE_LINEAGE_NAME_2, dtype: object\n",
      "UNIQUEID\n",
      "site.04.subj.00429.lab.712261.iso.1    lineage2.2.7\n",
      "Name: MYKROBE_LINEAGE_NAME_2, dtype: object\n",
      "UNIQUEID\n",
      "site.04.subj.01358.lab.726231.iso.1    lineage2.2.7\n",
      "Name: MYKROBE_LINEAGE_NAME_2, dtype: object\n",
      "UNIQUEID\n",
      "site.04.subj.03845.lab.831147.iso.1    lineage2.2.7\n",
      "Name: MYKROBE_LINEAGE_NAME_2, dtype: object\n",
      "UNIQUEID\n",
      "site.04.subj.01670.lab.731493.iso.1    lineage2.2.7\n",
      "Name: MYKROBE_LINEAGE_NAME_2, dtype: object\n",
      "UNIQUEID\n",
      "site.04.subj.00801.lab.708444.iso.1    lineage2.2.7\n",
      "Name: MYKROBE_LINEAGE_NAME_2, dtype: object\n",
      "UNIQUEID\n",
      "site.04.subj.03374.lab.827058.iso.1    lineage2.2.7\n",
      "Name: MYKROBE_LINEAGE_NAME_2, dtype: object\n",
      "UNIQUEID\n",
      "site.04.subj.00629.lab.714469.iso.1    lineage2.2.7\n",
      "Name: MYKROBE_LINEAGE_NAME_2, dtype: object\n",
      "UNIQUEID\n",
      "site.04.subj.04711.lab.907820.iso.1    lineage2.2.7\n",
      "Name: MYKROBE_LINEAGE_NAME_2, dtype: object\n",
      "UNIQUEID\n",
      "site.04.subj.00323.lab.703939.iso.1    lineage2.2.7\n",
      "Name: MYKROBE_LINEAGE_NAME_2, dtype: object\n",
      "UNIQUEID\n",
      "site.04.subj.01320.lab.724547.iso.1    lineage2.2.7\n",
      "Name: MYKROBE_LINEAGE_NAME_2, dtype: object\n",
      "UNIQUEID\n",
      "site.04.subj.04180.lab.900949.iso.1    lineage2.2.7\n",
      "Name: MYKROBE_LINEAGE_NAME_2, dtype: object\n",
      "UNIQUEID\n",
      "site.04.subj.02283.lab.805264.iso.1    lineage2.2.7\n",
      "Name: MYKROBE_LINEAGE_NAME_2, dtype: object\n",
      "UNIQUEID\n",
      "site.04.subj.00207.lab.701191.iso.1    lineage2.2.7\n",
      "Name: MYKROBE_LINEAGE_NAME_2, dtype: object\n",
      "UNIQUEID\n",
      "site.04.subj.03218.lab.825638.iso.1    lineage2.2.7\n",
      "Name: MYKROBE_LINEAGE_NAME_2, dtype: object\n",
      "UNIQUEID\n",
      "site.04.subj.03763.lab.830952.iso.1    lineage2.2.7\n",
      "Name: MYKROBE_LINEAGE_NAME_2, dtype: object\n",
      "UNIQUEID\n",
      "site.04.subj.01794.lab.732650.iso.1    lineage2.2.7\n",
      "Name: MYKROBE_LINEAGE_NAME_2, dtype: object\n",
      "UNIQUEID\n",
      "site.04.subj.03652.lab.912331.iso.1    lineage2.2.7\n",
      "Name: MYKROBE_LINEAGE_NAME_2, dtype: object\n",
      "UNIQUEID\n",
      "site.04.subj.03209.lab.824749.iso.1    lineage2.2.7\n",
      "Name: MYKROBE_LINEAGE_NAME_2, dtype: object\n",
      "UNIQUEID\n",
      "site.04.subj.00213.lab.633851.iso.1    lineage2.2.7\n",
      "Name: MYKROBE_LINEAGE_NAME_2, dtype: object\n",
      "UNIQUEID\n",
      "site.04.subj.00414.lab.703321.iso.1    lineage2.2.7\n",
      "Name: MYKROBE_LINEAGE_NAME_2, dtype: object\n",
      "UNIQUEID\n",
      "site.04.subj.01386.lab.726167.iso.1    lineage2.2.7\n",
      "Name: MYKROBE_LINEAGE_NAME_2, dtype: object\n",
      "UNIQUEID\n",
      "site.04.subj.02024.lab.803932.iso.1    lineage2.2.7\n",
      "Name: MYKROBE_LINEAGE_NAME_2, dtype: object\n",
      "UNIQUEID\n",
      "site.04.subj.00918.lab.716455.iso.1    lineage2.2.7\n",
      "Name: MYKROBE_LINEAGE_NAME_2, dtype: object\n",
      "UNIQUEID\n",
      "site.04.subj.05595.lab.919691.iso.1    lineage2.2.7\n",
      "Name: MYKROBE_LINEAGE_NAME_2, dtype: object\n",
      "UNIQUEID\n",
      "site.04.subj.00898.lab.716085.iso.1    lineage2.2.7\n",
      "Name: MYKROBE_LINEAGE_NAME_2, dtype: object\n",
      "UNIQUEID\n",
      "site.04.subj.01716.lab.800574.iso.1    lineage2.2.7\n",
      "Name: MYKROBE_LINEAGE_NAME_2, dtype: object\n",
      "UNIQUEID\n",
      "site.04.subj.02225.lab.802079.iso.1    lineage2.2.7\n",
      "Name: MYKROBE_LINEAGE_NAME_2, dtype: object\n",
      "UNIQUEID\n",
      "site.04.subj.02149.lab.803244.iso.1    lineage2.2.7\n",
      "Name: MYKROBE_LINEAGE_NAME_2, dtype: object\n",
      "UNIQUEID\n",
      "site.04.subj.02816.lab.818390.iso.1    lineage2.2.7\n",
      "Name: MYKROBE_LINEAGE_NAME_2, dtype: object\n",
      "UNIQUEID\n",
      "site.04.subj.05293.lab.911654.iso.1    lineage2.2.7\n",
      "Name: MYKROBE_LINEAGE_NAME_2, dtype: object\n",
      "UNIQUEID\n",
      "site.04.subj.02224.lab.805770.iso.1    lineage2.2.7\n",
      "Name: MYKROBE_LINEAGE_NAME_2, dtype: object\n",
      "UNIQUEID\n",
      "site.04.subj.01642.lab.726673.iso.1    lineage2.2.7\n",
      "Name: MYKROBE_LINEAGE_NAME_2, dtype: object\n",
      "UNIQUEID\n",
      "site.04.subj.00351.lab.703734.iso.1    lineage2.2.7\n",
      "Name: MYKROBE_LINEAGE_NAME_2, dtype: object\n",
      "UNIQUEID\n",
      "site.04.subj.00328.lab.704043.iso.1    lineage2.2.7\n",
      "Name: MYKROBE_LINEAGE_NAME_2, dtype: object\n",
      "UNIQUEID\n",
      "site.04.subj.03100.lab.828209.iso.1    lineage2.2.7\n",
      "Name: MYKROBE_LINEAGE_NAME_2, dtype: object\n",
      "UNIQUEID\n",
      "site.04.subj.02710.lab.817837.iso.1    lineage2.2.7\n",
      "Name: MYKROBE_LINEAGE_NAME_2, dtype: object\n",
      "UNIQUEID\n",
      "site.04.subj.03115.lab.824375.iso.1    lineage2.2.7\n",
      "Name: MYKROBE_LINEAGE_NAME_2, dtype: object\n",
      "UNIQUEID\n",
      "site.04.subj.00818.lab.716778.iso.1    lineage2.2.7\n",
      "Name: MYKROBE_LINEAGE_NAME_2, dtype: object\n",
      "UNIQUEID\n",
      "site.04.subj.00631.lab.712907.iso.1    lineage2.2.7\n",
      "Name: MYKROBE_LINEAGE_NAME_2, dtype: object\n",
      "UNIQUEID\n",
      "site.04.subj.04270.lab.903023.iso.1    lineage2.2.7\n",
      "Name: MYKROBE_LINEAGE_NAME_2, dtype: object\n",
      "UNIQUEID\n",
      "site.04.subj.01421.lab.721473.iso.1    lineage2.2.7\n",
      "Name: MYKROBE_LINEAGE_NAME_2, dtype: object\n",
      "UNIQUEID\n",
      "site.04.subj.03246.lab.824585.iso.1    lineage2.2.7\n",
      "Name: MYKROBE_LINEAGE_NAME_2, dtype: object\n",
      "UNIQUEID\n",
      "site.04.subj.03323.lab.827452.iso.1    lineage2.2.7\n",
      "Name: MYKROBE_LINEAGE_NAME_2, dtype: object\n",
      "UNIQUEID\n",
      "site.04.subj.01880.lab.801979.iso.1    lineage2.2.7\n",
      "Name: MYKROBE_LINEAGE_NAME_2, dtype: object\n",
      "UNIQUEID\n",
      "site.04.subj.03964.lab.830804.iso.1    lineage2.2.7\n",
      "Name: MYKROBE_LINEAGE_NAME_2, dtype: object\n",
      "UNIQUEID\n",
      "site.04.subj.02893.lab.819927.iso.1    lineage2.2.7\n",
      "Name: MYKROBE_LINEAGE_NAME_2, dtype: object\n",
      "UNIQUEID\n",
      "site.04.subj.01758.lab.731756.iso.1    lineage2.2.7\n",
      "Name: MYKROBE_LINEAGE_NAME_2, dtype: object\n",
      "UNIQUEID\n",
      "site.04.subj.02320.lab.807071.iso.1    lineage2.2.7\n",
      "Name: MYKROBE_LINEAGE_NAME_2, dtype: object\n"
     ]
    },
    {
     "name": "stdout",
     "output_type": "stream",
     "text": [
      "UNIQUEID\n",
      "site.04.subj.03224.lab.822877.iso.1    lineage2.2.7\n",
      "Name: MYKROBE_LINEAGE_NAME_2, dtype: object\n",
      "UNIQUEID\n",
      "site.04.subj.02062.lab.21190.iso.1    lineage2.2.7\n",
      "Name: MYKROBE_LINEAGE_NAME_2, dtype: object\n",
      "UNIQUEID\n",
      "site.04.subj.05614.lab.918016.iso.1    lineage2.2.7\n",
      "Name: MYKROBE_LINEAGE_NAME_2, dtype: object\n",
      "UNIQUEID\n",
      "site.04.subj.00998.lab.715906.iso.1    lineage2.2.7\n",
      "Name: MYKROBE_LINEAGE_NAME_2, dtype: object\n",
      "UNIQUEID\n",
      "site.04.subj.03211.lab.825251.iso.1    lineage2.2.7\n",
      "Name: MYKROBE_LINEAGE_NAME_2, dtype: object\n",
      "UNIQUEID\n",
      "site.04.subj.04174.lab.833074.iso.1    lineage2.2.7\n",
      "Name: MYKROBE_LINEAGE_NAME_2, dtype: object\n",
      "UNIQUEID\n",
      "site.04.subj.01682.lab.732653.iso.1    lineage2.2.7\n",
      "Name: MYKROBE_LINEAGE_NAME_2, dtype: object\n",
      "UNIQUEID\n",
      "site.04.subj.03995.lab.832048.iso.1    lineage2.2.7\n",
      "Name: MYKROBE_LINEAGE_NAME_2, dtype: object\n",
      "UNIQUEID\n",
      "site.04.subj.01002.lab.717763.iso.1    lineage2.2.7\n",
      "Name: MYKROBE_LINEAGE_NAME_2, dtype: object\n",
      "UNIQUEID\n",
      "site.04.subj.03741.lab.826347.iso.1    lineage2.2.7\n",
      "Name: MYKROBE_LINEAGE_NAME_2, dtype: object\n",
      "UNIQUEID\n",
      "site.04.subj.03651.lab.913230.iso.1    lineage2.2.7\n",
      "Name: MYKROBE_LINEAGE_NAME_2, dtype: object\n",
      "UNIQUEID\n",
      "site.04.subj.03742.lab.827813.iso.1    lineage2.2.7\n",
      "Name: MYKROBE_LINEAGE_NAME_2, dtype: object\n",
      "UNIQUEID\n",
      "site.04.subj.01401.lab.726777.iso.1    lineage2.2.7\n",
      "Name: MYKROBE_LINEAGE_NAME_2, dtype: object\n",
      "UNIQUEID\n",
      "site.04.subj.02909.lab.828507.iso.1    lineage2.2.7\n",
      "Name: MYKROBE_LINEAGE_NAME_2, dtype: object\n",
      "UNIQUEID\n",
      "site.04.subj.02166.lab.804088.iso.1    lineage2.2.7\n",
      "Name: MYKROBE_LINEAGE_NAME_2, dtype: object\n",
      "UNIQUEID\n",
      "site.04.subj.02171.lab.804092.iso.1    lineage2.2.7\n",
      "Name: MYKROBE_LINEAGE_NAME_2, dtype: object\n",
      "UNIQUEID\n",
      "site.04.subj.02117.lab.804020.iso.1    lineage2.2.7\n",
      "Name: MYKROBE_LINEAGE_NAME_2, dtype: object\n",
      "UNIQUEID\n",
      "site.04.subj.04013.lab.831461.iso.1    lineage2.2.7\n",
      "Name: MYKROBE_LINEAGE_NAME_2, dtype: object\n",
      "UNIQUEID\n",
      "site.04.subj.05577.lab.918487.iso.1    lineage2.2.7\n",
      "Name: MYKROBE_LINEAGE_NAME_2, dtype: object\n",
      "UNIQUEID\n",
      "site.03.subj.DR-284.lab.IML-01189.iso.1    lineage2.2.7\n",
      "Name: MYKROBE_LINEAGE_NAME_2, dtype: object\n",
      "UNIQUEID\n",
      "site.03.subj.DR-325.lab.IML-01201.iso.1    lineage2.2.7\n",
      "Name: MYKROBE_LINEAGE_NAME_2, dtype: object\n",
      "UNIQUEID\n",
      "site.04.subj.01028.lab.717761.iso.1    lineage2.2.7\n",
      "Name: MYKROBE_LINEAGE_NAME_2, dtype: object\n",
      "UNIQUEID\n",
      "site.04.subj.04004.lab.829393.iso.1    lineage2.2.7\n",
      "Name: MYKROBE_LINEAGE_NAME_2, dtype: object\n",
      "UNIQUEID\n",
      "site.04.subj.02146.lab.802108.iso.1    lineage2.2.7\n",
      "Name: MYKROBE_LINEAGE_NAME_2, dtype: object\n",
      "UNIQUEID\n",
      "site.04.subj.03431.lab.826829.iso.1    lineage2.2.7\n",
      "Name: MYKROBE_LINEAGE_NAME_2, dtype: object\n",
      "UNIQUEID\n",
      "site.04.subj.00645.lab.706973.iso.1    lineage2.2.7\n",
      "Name: MYKROBE_LINEAGE_NAME_2, dtype: object\n",
      "UNIQUEID\n",
      "site.04.subj.00147.lab.634592.iso.1    lineage2.2.7\n",
      "Name: MYKROBE_LINEAGE_NAME_2, dtype: object\n",
      "UNIQUEID\n",
      "site.04.subj.03380.lab.826227.iso.1    lineage2.2.7\n",
      "Name: MYKROBE_LINEAGE_NAME_2, dtype: object\n",
      "UNIQUEID\n",
      "site.04.subj.00182.lab.700891.iso.1    lineage2.2.7\n",
      "Name: MYKROBE_LINEAGE_NAME_2, dtype: object\n",
      "UNIQUEID\n",
      "site.04.subj.02777.lab.814940.iso.1    lineage2.2.7\n",
      "Name: MYKROBE_LINEAGE_NAME_2, dtype: object\n",
      "UNIQUEID\n",
      "site.04.subj.01016.lab.718019.iso.1    lineage2.2.7\n",
      "Name: MYKROBE_LINEAGE_NAME_2, dtype: object\n",
      "UNIQUEID\n",
      "site.04.subj.03598.lab.827147.iso.1    lineage2.2.7\n",
      "Name: MYKROBE_LINEAGE_NAME_2, dtype: object\n",
      "UNIQUEID\n",
      "site.04.subj.00685.lab.706660.iso.1    lineage2.2.7\n",
      "Name: MYKROBE_LINEAGE_NAME_2, dtype: object\n",
      "UNIQUEID\n",
      "site.04.subj.02967.lab.829473.iso.1    lineage2.2.7\n",
      "Name: MYKROBE_LINEAGE_NAME_2, dtype: object\n",
      "UNIQUEID\n",
      "site.04.subj.04202.lab.901866.iso.1    lineage2.2.7\n",
      "Name: MYKROBE_LINEAGE_NAME_2, dtype: object\n",
      "UNIQUEID\n",
      "site.04.subj.01659.lab.727419.iso.1    lineage2.2.7\n",
      "Name: MYKROBE_LINEAGE_NAME_2, dtype: object\n",
      "UNIQUEID\n",
      "site.04.subj.00118.lab.634218.iso.1    lineage2.2.7\n",
      "Name: MYKROBE_LINEAGE_NAME_2, dtype: object\n",
      "UNIQUEID\n",
      "site.04.subj.01445.lab.728134.iso.1    lineage2.2.7\n",
      "Name: MYKROBE_LINEAGE_NAME_2, dtype: object\n",
      "UNIQUEID\n",
      "site.04.subj.04411.lab.903568.iso.1    lineage2.2.7\n",
      "Name: MYKROBE_LINEAGE_NAME_2, dtype: object\n",
      "UNIQUEID\n",
      "site.04.subj.00911.lab.712086.iso.1    lineage2.2.7\n",
      "Name: MYKROBE_LINEAGE_NAME_2, dtype: object\n",
      "UNIQUEID\n",
      "site.04.subj.00920.lab.715883.iso.1    lineage2.2.7\n",
      "Name: MYKROBE_LINEAGE_NAME_2, dtype: object\n",
      "UNIQUEID\n",
      "site.04.subj.02361.lab.803573.iso.1    lineage2.2.7\n",
      "Name: MYKROBE_LINEAGE_NAME_2, dtype: object\n",
      "UNIQUEID\n",
      "site.04.subj.04227.lab.901063.iso.1    lineage2.2.7\n",
      "Name: MYKROBE_LINEAGE_NAME_2, dtype: object\n",
      "UNIQUEID\n",
      "site.04.subj.01135.lab.721444.iso.1    lineage2.2.7\n",
      "Name: MYKROBE_LINEAGE_NAME_2, dtype: object\n",
      "UNIQUEID\n",
      "site.04.subj.03154.lab.821513.iso.1    lineage2.2.7\n",
      "Name: MYKROBE_LINEAGE_NAME_2, dtype: object\n",
      "UNIQUEID\n",
      "site.04.subj.04931.lab.908035.iso.1    lineage2.2.7\n",
      "Name: MYKROBE_LINEAGE_NAME_2, dtype: object\n",
      "UNIQUEID\n",
      "site.04.subj.00989.lab.714496.iso.1    lineage2.2.7\n",
      "Name: MYKROBE_LINEAGE_NAME_2, dtype: object\n",
      "UNIQUEID\n",
      "site.04.subj.02835.lab.819995.iso.1    lineage2.2.7\n",
      "Name: MYKROBE_LINEAGE_NAME_2, dtype: object\n",
      "UNIQUEID\n",
      "site.04.subj.03234.lab.821184.iso.1    lineage2.2.7\n",
      "Name: MYKROBE_LINEAGE_NAME_2, dtype: object\n",
      "UNIQUEID\n",
      "site.04.subj.00947.lab.715791.iso.1    lineage2.2.7\n",
      "Name: MYKROBE_LINEAGE_NAME_2, dtype: object\n",
      "UNIQUEID\n",
      "site.04.subj.04448.lab.903574.iso.1    lineage2.2.7\n",
      "Name: MYKROBE_LINEAGE_NAME_2, dtype: object\n",
      "UNIQUEID\n",
      "site.04.subj.05644.lab.914014.iso.1    lineage2.2.7\n",
      "Name: MYKROBE_LINEAGE_NAME_2, dtype: object\n",
      "UNIQUEID\n",
      "site.04.subj.04130.lab.831249.iso.1    lineage2.2.7\n",
      "Name: MYKROBE_LINEAGE_NAME_2, dtype: object\n",
      "UNIQUEID\n",
      "site.04.subj.02870.lab.820052.iso.1    lineage2.2.7\n",
      "Name: MYKROBE_LINEAGE_NAME_2, dtype: object\n",
      "UNIQUEID\n",
      "site.04.subj.04567.lab.905733.iso.1    lineage2.2.7\n",
      "Name: MYKROBE_LINEAGE_NAME_2, dtype: object\n",
      "UNIQUEID\n",
      "site.04.subj.01280.lab.725267.iso.1    lineage2.2.7\n",
      "Name: MYKROBE_LINEAGE_NAME_2, dtype: object\n",
      "UNIQUEID\n",
      "site.04.subj.01413.lab.800222.iso.1    lineage2.2.7\n",
      "Name: MYKROBE_LINEAGE_NAME_2, dtype: object\n",
      "UNIQUEID\n",
      "site.04.subj.01409.lab.800698.iso.1    lineage2.2.7\n",
      "Name: MYKROBE_LINEAGE_NAME_2, dtype: object\n",
      "UNIQUEID\n",
      "site.04.subj.01581.lab.730203.iso.1    lineage2.2.7\n",
      "Name: MYKROBE_LINEAGE_NAME_2, dtype: object\n",
      "UNIQUEID\n",
      "site.04.subj.05335.lab.911395.iso.1    lineage2.2.7\n",
      "Name: MYKROBE_LINEAGE_NAME_2, dtype: object\n",
      "UNIQUEID\n",
      "site.04.subj.00292.lab.633212.iso.1    lineage2.2.7\n",
      "Name: MYKROBE_LINEAGE_NAME_2, dtype: object\n",
      "UNIQUEID\n",
      "site.04.subj.00813.lab.708572.iso.1    lineage2.2.7\n",
      "Name: MYKROBE_LINEAGE_NAME_2, dtype: object\n",
      "UNIQUEID\n",
      "site.04.subj.01631.lab.730624.iso.1    lineage2.2.7\n",
      "Name: MYKROBE_LINEAGE_NAME_2, dtype: object\n",
      "UNIQUEID\n",
      "site.04.subj.00649.lab.707659.iso.1    lineage2.2.7\n",
      "Name: MYKROBE_LINEAGE_NAME_2, dtype: object\n",
      "UNIQUEID\n",
      "site.04.subj.03167.lab.824750.iso.1    lineage2.2.7\n",
      "Name: MYKROBE_LINEAGE_NAME_2, dtype: object\n",
      "UNIQUEID\n",
      "site.04.subj.03116.lab.825929.iso.1    lineage2.2.7\n",
      "Name: MYKROBE_LINEAGE_NAME_2, dtype: object\n",
      "UNIQUEID\n",
      "site.04.subj.04522.lab.905906.iso.1    lineage2.2.7\n",
      "Name: MYKROBE_LINEAGE_NAME_2, dtype: object\n",
      "UNIQUEID\n",
      "site.04.subj.00156.lab.700159.iso.1    lineage2.2.7\n",
      "Name: MYKROBE_LINEAGE_NAME_2, dtype: object\n",
      "UNIQUEID\n",
      "site.04.subj.02784.lab.819212.iso.1    lineage2.2.7\n",
      "Name: MYKROBE_LINEAGE_NAME_2, dtype: object\n",
      "UNIQUEID\n",
      "site.04.subj.03999.lab.832571.iso.1    lineage2.2.7\n",
      "Name: MYKROBE_LINEAGE_NAME_2, dtype: object\n",
      "UNIQUEID\n",
      "site.04.subj.03634.lab.829848.iso.1    lineage2.2.7\n",
      "Name: MYKROBE_LINEAGE_NAME_2, dtype: object\n",
      "UNIQUEID\n",
      "site.04.subj.05330.lab.910071.iso.1    lineage2.2.7\n",
      "Name: MYKROBE_LINEAGE_NAME_2, dtype: object\n",
      "UNIQUEID\n",
      "site.04.subj.01968.lab.20804.iso.1    lineage2.2.7\n",
      "Name: MYKROBE_LINEAGE_NAME_2, dtype: object\n",
      "UNIQUEID\n",
      "site.04.subj.01554.lab.728320.iso.1    lineage2.2.7\n",
      "Name: MYKROBE_LINEAGE_NAME_2, dtype: object\n",
      "UNIQUEID\n",
      "site.03.subj.DR-23.lab.IML-01087.iso.1    lineage2.2.7\n",
      "Name: MYKROBE_LINEAGE_NAME_2, dtype: object\n",
      "UNIQUEID\n",
      "site.04.subj.03767.lab.831236.iso.1    lineage2.2.7\n",
      "Name: MYKROBE_LINEAGE_NAME_2, dtype: object\n",
      "UNIQUEID\n",
      "site.04.subj.01359.lab.719589.iso.1    lineage2.2.7\n",
      "Name: MYKROBE_LINEAGE_NAME_2, dtype: object\n",
      "UNIQUEID\n",
      "site.04.subj.03897.lab.913053.iso.1    lineage2.2.7\n",
      "Name: MYKROBE_LINEAGE_NAME_2, dtype: object\n",
      "UNIQUEID\n",
      "site.04.subj.01892.lab.801618.iso.1    lineage2.2.7\n",
      "Name: MYKROBE_LINEAGE_NAME_2, dtype: object\n",
      "UNIQUEID\n",
      "site.04.subj.02075.lab.803734.iso.1    lineage2.2.7\n",
      "Name: MYKROBE_LINEAGE_NAME_2, dtype: object\n",
      "UNIQUEID\n",
      "site.04.subj.00647.lab.711603.iso.1    lineage2.2.7\n",
      "Name: MYKROBE_LINEAGE_NAME_2, dtype: object\n",
      "UNIQUEID\n",
      "site.04.subj.04112.lab.901730.iso.1    lineage2.2.7\n",
      "Name: MYKROBE_LINEAGE_NAME_2, dtype: object\n",
      "UNIQUEID\n",
      "site.04.subj.04063.lab.828139.iso.1    lineage2.2.7\n",
      "Name: MYKROBE_LINEAGE_NAME_2, dtype: object\n",
      "UNIQUEID\n",
      "site.04.subj.04189.lab.829826.iso.1    lineage2.2.7\n",
      "Name: MYKROBE_LINEAGE_NAME_2, dtype: object\n",
      "UNIQUEID\n",
      "site.04.subj.01563.lab.726771.iso.1    lineage2.2.7/lineage3.1.2\n",
      "Name: MYKROBE_LINEAGE_NAME_2, dtype: object\n",
      "UNIQUEID\n",
      "site.04.subj.03317.lab.826189.iso.1    lineage2.2.7/lineage3\n",
      "Name: MYKROBE_LINEAGE_NAME_2, dtype: object\n",
      "UNIQUEID\n",
      "site.04.subj.00865.lab.712845.iso.1    lineage2.2.7\n",
      "Name: MYKROBE_LINEAGE_NAME_2, dtype: object\n",
      "UNIQUEID\n",
      "site.04.subj.03272.lab.822614.iso.1    lineage2.2.7\n",
      "Name: MYKROBE_LINEAGE_NAME_2, dtype: object\n",
      "UNIQUEID\n",
      "site.04.subj.03539.lab.826817.iso.1    lineage2.2.7\n",
      "Name: MYKROBE_LINEAGE_NAME_2, dtype: object\n",
      "UNIQUEID\n",
      "site.04.subj.03321.lab.826963.iso.1    lineage2.2.7\n",
      "Name: MYKROBE_LINEAGE_NAME_2, dtype: object\n",
      "UNIQUEID\n",
      "site.04.subj.02757.lab.818040.iso.1    lineage2.2.7\n",
      "Name: MYKROBE_LINEAGE_NAME_2, dtype: object\n",
      "UNIQUEID\n",
      "site.04.subj.01155.lab.716328.iso.1    lineage2.2.7\n",
      "Name: MYKROBE_LINEAGE_NAME_2, dtype: object\n",
      "UNIQUEID\n",
      "site.04.subj.01207.lab.719115.iso.1    lineage2.2.7\n",
      "Name: MYKROBE_LINEAGE_NAME_2, dtype: object\n",
      "UNIQUEID\n",
      "site.04.subj.03654.lab.JJH9867.iso.1    lineage2.2.7\n",
      "Name: MYKROBE_LINEAGE_NAME_2, dtype: object\n",
      "UNIQUEID\n",
      "site.04.subj.00134.lab.700493.iso.1    lineage2.2.7\n",
      "Name: MYKROBE_LINEAGE_NAME_2, dtype: object\n",
      "UNIQUEID\n",
      "site.04.subj.00466.lab.24647.iso.1    lineage2.2.7\n",
      "Name: MYKROBE_LINEAGE_NAME_2, dtype: object\n",
      "UNIQUEID\n",
      "site.04.subj.02848.lab.819138.iso.1    lineage2.2.7\n",
      "Name: MYKROBE_LINEAGE_NAME_2, dtype: object\n",
      "UNIQUEID\n",
      "site.04.subj.00298.lab.701609.iso.1    lineage2.2.7\n",
      "Name: MYKROBE_LINEAGE_NAME_2, dtype: object\n",
      "UNIQUEID\n",
      "site.04.subj.00282.lab.701332.iso.1    lineage2.2.7\n",
      "Name: MYKROBE_LINEAGE_NAME_2, dtype: object\n",
      "UNIQUEID\n",
      "site.04.subj.01171.lab.719599.iso.1    lineage2.2.7\n",
      "Name: MYKROBE_LINEAGE_NAME_2, dtype: object\n",
      "UNIQUEID\n",
      "site.04.subj.01999.lab.802031.iso.1    lineage2.2.7\n",
      "Name: MYKROBE_LINEAGE_NAME_2, dtype: object\n",
      "UNIQUEID\n",
      "site.04.subj.03568.lab.829571.iso.1    lineage2.2.7/lineage3\n",
      "Name: MYKROBE_LINEAGE_NAME_2, dtype: object\n",
      "UNIQUEID\n",
      "site.04.subj.03590.lab.818735.iso.1    lineage2.2.3/lineage2.2.7\n",
      "Name: MYKROBE_LINEAGE_NAME_2, dtype: object\n"
     ]
    }
   ],
   "source": [
    "for i in growth_i491v:\n",
    "    sub_lin = GENOMES[GENOMES.index == i].MYKROBE_LINEAGE_NAME_2\n",
    "    print(sub_lin)"
   ]
  },
  {
   "cell_type": "code",
   "execution_count": 105,
   "metadata": {},
   "outputs": [],
   "source": [
    "#P1040R, n9922 - n10424\n",
    "p1040r_clade = []\n",
    "growth_p1040r = []\n",
    "\n",
    "for i in new_tables.nodes[9922:10424]:\n",
    "    if 'name' in i.metadata.keys():\n",
    "        index = GENOMES[GENOMES['ORIGINAL_UID'] == i.metadata['name']].index\n",
    "        growth_p1040r.extend(index)\n",
    "        p1040r_clade.extend(MUTATIONS[MUTATIONS.UNIQUEID == index[0]].GENE_MUTATION.values)\n",
    "        \n",
    "df = pandas.DataFrame(p1040r_clade)\n",
    "df.value_counts()\n",
    "\n",
    "df = pandas.DataFrame(growth_p1040r)\n",
    "df.to_csv('subclade_P1040R.csv', index = False)"
   ]
  },
  {
   "cell_type": "code",
   "execution_count": 106,
   "metadata": {},
   "outputs": [
    {
     "data": {
      "text/plain": [
       "COUNTRY_WHERE_SAMPLE_TAKEN\n",
       "IND    242\n",
       "NPL      8\n",
       "AFG      0\n",
       "NGA      0\n",
       "VNM      0\n",
       "Name: count, dtype: int64"
      ]
     },
     "execution_count": 106,
     "metadata": {},
     "output_type": "execute_result"
    }
   ],
   "source": [
    "SAMPLES[SAMPLES.UNIQUEID.isin(growth_p1040r)].COUNTRY_WHERE_SAMPLE_TAKEN.value_counts()[:5]"
   ]
  },
  {
   "cell_type": "code",
   "execution_count": 107,
   "metadata": {},
   "outputs": [
    {
     "data": {
      "text/plain": [
       "REGION\n",
       "Mumbai                 56\n",
       "Thane                  14\n",
       "Kalyan                 12\n",
       "Mumbai (Mahim)         10\n",
       "Mumbai (Malad)          8\n",
       "Kathmandu               8\n",
       "Mumbai (Santacruz)      7\n",
       "Mumbai (Wadala)         6\n",
       "Mumbai (Dadar)          5\n",
       "Mumbai (Dharavi)        5\n",
       "Nala Sopara             5\n",
       "Bandra (east)           4\n",
       "Mumbai (Mazagaon)       4\n",
       "Mumbai (Kurla)          4\n",
       "Mumbra                  4\n",
       "Mumbai (Goregaon)       4\n",
       "Mumbai (Bandra)         4\n",
       "Mumbai (Andheri)        3\n",
       "Mumbai (Malad west)     3\n",
       "Mumbai (Parel)          3\n",
       "Ulhasnagar              3\n",
       "Mumbai (Mulund)         3\n",
       "Mumbai (Jogeshwari)     3\n",
       "Mumbai (Ghatkopar)      3\n",
       "Mumbai (Sion)           3\n",
       "Bhiwandi                3\n",
       "Mumbai (Prabhadevi)     2\n",
       "Mumbai (Govandi)        2\n",
       "Mumbai (Vile Parle)     2\n",
       "Dombivli                2\n",
       "Name: count, dtype: int64"
      ]
     },
     "execution_count": 107,
     "metadata": {},
     "output_type": "execute_result"
    }
   ],
   "source": [
    "SAMPLES[SAMPLES.UNIQUEID.isin(growth_p1040r)].REGION.value_counts()[:30]"
   ]
  },
  {
   "cell_type": "code",
   "execution_count": 109,
   "metadata": {},
   "outputs": [
    {
     "name": "stdout",
     "output_type": "stream",
     "text": [
      "UNIQUEID\n",
      "site.04.subj.04787.lab.904613.iso.1    lineage2.2.3\n",
      "Name: MYKROBE_LINEAGE_NAME_2, dtype: object\n",
      "UNIQUEID\n",
      "site.04.subj.00506.lab.709045.iso.1    lineage2.2.3\n",
      "Name: MYKROBE_LINEAGE_NAME_2, dtype: object\n",
      "UNIQUEID\n",
      "site.04.subj.05418.lab.913041.iso.1    lineage2.2.3\n",
      "Name: MYKROBE_LINEAGE_NAME_2, dtype: object\n",
      "UNIQUEID\n",
      "site.04.subj.00942.lab.715954.iso.1    lineage2.2.3\n",
      "Name: MYKROBE_LINEAGE_NAME_2, dtype: object\n",
      "UNIQUEID\n",
      "site.04.subj.03168.lab.821506.iso.1    lineage2.2.3\n",
      "Name: MYKROBE_LINEAGE_NAME_2, dtype: object\n",
      "UNIQUEID\n",
      "site.04.subj.04407.lab.903102.iso.1    lineage2.2.3\n",
      "Name: MYKROBE_LINEAGE_NAME_2, dtype: object\n",
      "UNIQUEID\n",
      "site.04.subj.03864.lab.830782.iso.1    lineage2.2.3\n",
      "Name: MYKROBE_LINEAGE_NAME_2, dtype: object\n",
      "UNIQUEID\n",
      "site.04.subj.02158.lab.732526.iso.1    lineage2.2.3\n",
      "Name: MYKROBE_LINEAGE_NAME_2, dtype: object\n",
      "UNIQUEID\n",
      "site.04.subj.03528.lab.829149.iso.1    lineage2.2.3\n",
      "Name: MYKROBE_LINEAGE_NAME_2, dtype: object\n",
      "UNIQUEID\n",
      "site.04.subj.03192.lab.816831.iso.1    lineage2.2.3\n",
      "Name: MYKROBE_LINEAGE_NAME_2, dtype: object\n",
      "UNIQUEID\n",
      "site.04.subj.04403.lab.901696.iso.1    lineage2.2.3\n",
      "Name: MYKROBE_LINEAGE_NAME_2, dtype: object\n",
      "UNIQUEID\n",
      "site.04.subj.03938.lab.831552.iso.1    lineage2.2.3\n",
      "Name: MYKROBE_LINEAGE_NAME_2, dtype: object\n",
      "UNIQUEID\n",
      "site.03.subj.DR-211.lab.IML-01150.iso.1    lineage2.2.3\n",
      "Name: MYKROBE_LINEAGE_NAME_2, dtype: object\n",
      "UNIQUEID\n",
      "site.04.subj.01824.lab.733347.iso.1    lineage2.2.3\n",
      "Name: MYKROBE_LINEAGE_NAME_2, dtype: object\n",
      "UNIQUEID\n",
      "site.04.subj.02336.lab.808496.iso.1    lineage2.2.3\n",
      "Name: MYKROBE_LINEAGE_NAME_2, dtype: object\n",
      "UNIQUEID\n",
      "site.04.subj.04509.lab.902937.iso.1    lineage2.2.3\n",
      "Name: MYKROBE_LINEAGE_NAME_2, dtype: object\n",
      "UNIQUEID\n",
      "site.03.subj.DR-221.lab.IML-01154.iso.1    lineage2.2.3\n",
      "Name: MYKROBE_LINEAGE_NAME_2, dtype: object\n",
      "UNIQUEID\n",
      "site.04.subj.03266.lab.824817.iso.1    lineage2.2.3\n",
      "Name: MYKROBE_LINEAGE_NAME_2, dtype: object\n",
      "UNIQUEID\n",
      "site.04.subj.04785.lab.906894.iso.1    lineage2.2.3\n",
      "Name: MYKROBE_LINEAGE_NAME_2, dtype: object\n",
      "UNIQUEID\n",
      "site.04.subj.04941.lab.907297.iso.1    lineage2.2.3\n",
      "Name: MYKROBE_LINEAGE_NAME_2, dtype: object\n",
      "UNIQUEID\n",
      "site.04.subj.00959.lab.716267.iso.1    lineage2.2.3\n",
      "Name: MYKROBE_LINEAGE_NAME_2, dtype: object\n",
      "UNIQUEID\n",
      "site.04.subj.01881.lab.800604.iso.1    lineage2.2.3\n",
      "Name: MYKROBE_LINEAGE_NAME_2, dtype: object\n",
      "UNIQUEID\n",
      "site.04.subj.05588.lab.917493.iso.1    lineage2.2.3\n",
      "Name: MYKROBE_LINEAGE_NAME_2, dtype: object\n",
      "UNIQUEID\n",
      "site.04.subj.04515.lab.905889.iso.1    lineage2.2.3\n",
      "Name: MYKROBE_LINEAGE_NAME_2, dtype: object\n",
      "UNIQUEID\n",
      "site.04.subj.01899.lab.801958.iso.1    lineage2.2.3\n",
      "Name: MYKROBE_LINEAGE_NAME_2, dtype: object\n",
      "UNIQUEID\n",
      "site.04.subj.04693.lab.906479.iso.1    lineage2.2.3\n",
      "Name: MYKROBE_LINEAGE_NAME_2, dtype: object\n",
      "UNIQUEID\n",
      "site.04.subj.02719.lab.818373.iso.1    lineage2.2.3\n",
      "Name: MYKROBE_LINEAGE_NAME_2, dtype: object\n",
      "UNIQUEID\n",
      "site.04.subj.04627.lab.906710.iso.1    lineage2.2.3\n",
      "Name: MYKROBE_LINEAGE_NAME_2, dtype: object\n",
      "UNIQUEID\n",
      "site.04.subj.03467.lab.828293.iso.1    lineage2.2.3\n",
      "Name: MYKROBE_LINEAGE_NAME_2, dtype: object\n",
      "UNIQUEID\n",
      "site.04.subj.04039.lab.832143.iso.1    lineage2.2.3\n",
      "Name: MYKROBE_LINEAGE_NAME_2, dtype: object\n",
      "UNIQUEID\n",
      "site.04.subj.00527.lab.717785.iso.1    lineage2.2.3\n",
      "Name: MYKROBE_LINEAGE_NAME_2, dtype: object\n",
      "UNIQUEID\n",
      "site.04.subj.03413.lab.900713.iso.1    lineage2.2.3\n",
      "Name: MYKROBE_LINEAGE_NAME_2, dtype: object\n",
      "UNIQUEID\n",
      "site.03.subj.DR-74.lab.IML-01107.iso.1    lineage2.2.3\n",
      "Name: MYKROBE_LINEAGE_NAME_2, dtype: object\n",
      "UNIQUEID\n",
      "site.04.subj.00532.lab.712980.iso.1    lineage2.2.3\n",
      "Name: MYKROBE_LINEAGE_NAME_2, dtype: object\n",
      "UNIQUEID\n",
      "site.04.subj.01414.lab.725887.iso.1    lineage2.2.3\n",
      "Name: MYKROBE_LINEAGE_NAME_2, dtype: object\n",
      "UNIQUEID\n",
      "site.04.subj.01407.lab.734347.iso.1    lineage2.2.3\n",
      "Name: MYKROBE_LINEAGE_NAME_2, dtype: object\n",
      "UNIQUEID\n",
      "site.04.subj.01530.lab.729069.iso.1    lineage2.2.3\n",
      "Name: MYKROBE_LINEAGE_NAME_2, dtype: object\n",
      "UNIQUEID\n",
      "site.04.subj.00022.lab.631450.iso.1    lineage2.2.3\n",
      "Name: MYKROBE_LINEAGE_NAME_2, dtype: object\n",
      "UNIQUEID\n",
      "site.04.subj.05564.lab.914496.iso.1    lineage2.2.3\n",
      "Name: MYKROBE_LINEAGE_NAME_2, dtype: object\n",
      "UNIQUEID\n",
      "site.04.subj.03506.lab.828529.iso.1    lineage2.2.3\n",
      "Name: MYKROBE_LINEAGE_NAME_2, dtype: object\n",
      "UNIQUEID\n",
      "site.04.subj.00735.lab.707975.iso.1    lineage2.2.3\n",
      "Name: MYKROBE_LINEAGE_NAME_2, dtype: object\n",
      "UNIQUEID\n",
      "site.04.subj.01103.lab.721041.iso.1    lineage2.2.3\n",
      "Name: MYKROBE_LINEAGE_NAME_2, dtype: object\n",
      "UNIQUEID\n",
      "site.04.subj.02345.lab.802743.iso.1    lineage2.2.3\n",
      "Name: MYKROBE_LINEAGE_NAME_2, dtype: object\n",
      "UNIQUEID\n",
      "site.04.subj.03504.lab.829540.iso.1    lineage2.2.3\n",
      "Name: MYKROBE_LINEAGE_NAME_2, dtype: object\n",
      "UNIQUEID\n",
      "site.04.subj.02272.lab.805683.iso.1    lineage2.2.3\n",
      "Name: MYKROBE_LINEAGE_NAME_2, dtype: object\n",
      "UNIQUEID\n",
      "site.04.subj.04358.lab.833232.iso.1    lineage2.2.3\n",
      "Name: MYKROBE_LINEAGE_NAME_2, dtype: object\n",
      "UNIQUEID\n",
      "site.04.subj.05608.lab.919104.iso.1    lineage2.2.3\n",
      "Name: MYKROBE_LINEAGE_NAME_2, dtype: object\n",
      "UNIQUEID\n",
      "site.04.subj.04607.lab.906480.iso.1    lineage2.2.3\n",
      "Name: MYKROBE_LINEAGE_NAME_2, dtype: object\n",
      "UNIQUEID\n",
      "site.04.subj.04996.lab.906471.iso.1    lineage2.2.3\n",
      "Name: MYKROBE_LINEAGE_NAME_2, dtype: object\n",
      "UNIQUEID\n",
      "site.04.subj.01829.lab.734158.iso.1    lineage2.2.3\n",
      "Name: MYKROBE_LINEAGE_NAME_2, dtype: object\n",
      "UNIQUEID\n",
      "site.04.subj.05416.lab.911603.iso.1    lineage2.2.3\n",
      "Name: MYKROBE_LINEAGE_NAME_2, dtype: object\n",
      "UNIQUEID\n",
      "site.04.subj.00433.lab.703904.iso.1    lineage2.2.3\n",
      "Name: MYKROBE_LINEAGE_NAME_2, dtype: object\n",
      "UNIQUEID\n",
      "site.04.subj.04774.lab.907691.iso.1    lineage2.2.3\n",
      "Name: MYKROBE_LINEAGE_NAME_2, dtype: object\n",
      "UNIQUEID\n",
      "site.04.subj.00634.lab.711911.iso.1    lineage2.2.3\n",
      "Name: MYKROBE_LINEAGE_NAME_2, dtype: object\n",
      "UNIQUEID\n",
      "site.04.subj.00428.lab.702257.iso.1    lineage2.2.3\n",
      "Name: MYKROBE_LINEAGE_NAME_2, dtype: object\n",
      "UNIQUEID\n",
      "site.04.subj.02037.lab.803152.iso.1    lineage2.2.3\n",
      "Name: MYKROBE_LINEAGE_NAME_2, dtype: object\n",
      "UNIQUEID\n",
      "site.04.subj.02330.lab.807217.iso.1    lineage2.2.3\n",
      "Name: MYKROBE_LINEAGE_NAME_2, dtype: object\n",
      "UNIQUEID\n",
      "site.04.subj.00716.lab.708601.iso.1    lineage2.2.3\n",
      "Name: MYKROBE_LINEAGE_NAME_2, dtype: object\n",
      "UNIQUEID\n",
      "site.04.subj.05422.lab.910913.iso.1    lineage2.2.3\n",
      "Name: MYKROBE_LINEAGE_NAME_2, dtype: object\n",
      "UNIQUEID\n",
      "site.04.subj.01539.lab.727258.iso.1    lineage2.2.3\n",
      "Name: MYKROBE_LINEAGE_NAME_2, dtype: object\n",
      "UNIQUEID\n",
      "site.04.subj.04708.lab.907663.iso.1    lineage2.2.3\n",
      "Name: MYKROBE_LINEAGE_NAME_2, dtype: object\n",
      "UNIQUEID\n",
      "site.04.subj.00068.lab.626511.iso.1    lineage2.2.3\n",
      "Name: MYKROBE_LINEAGE_NAME_2, dtype: object\n",
      "UNIQUEID\n",
      "site.04.subj.01488.lab.727799.iso.1    lineage2.2.3\n",
      "Name: MYKROBE_LINEAGE_NAME_2, dtype: object\n",
      "UNIQUEID\n",
      "site.04.subj.03727.lab.833144.iso.1    lineage2.2.3\n",
      "Name: MYKROBE_LINEAGE_NAME_2, dtype: object\n",
      "UNIQUEID\n",
      "site.04.subj.04913.lab.906933.iso.1    lineage2.2.3\n",
      "Name: MYKROBE_LINEAGE_NAME_2, dtype: object\n",
      "UNIQUEID\n",
      "site.04.subj.00806.lab.709305.iso.1    lineage2.2.3\n",
      "Name: MYKROBE_LINEAGE_NAME_2, dtype: object\n",
      "UNIQUEID\n",
      "site.04.subj.05616.lab.914278.iso.1    lineage2.2.3\n",
      "Name: MYKROBE_LINEAGE_NAME_2, dtype: object\n",
      "UNIQUEID\n",
      "site.04.subj.01612.lab.727823.iso.1    lineage2.2.3\n",
      "Name: MYKROBE_LINEAGE_NAME_2, dtype: object\n",
      "UNIQUEID\n",
      "site.04.subj.03242.lab.826154.iso.1    lineage2.2.3\n",
      "Name: MYKROBE_LINEAGE_NAME_2, dtype: object\n",
      "UNIQUEID\n",
      "site.04.subj.00833.lab.22128.iso.1    lineage2.2.3\n",
      "Name: MYKROBE_LINEAGE_NAME_2, dtype: object\n",
      "UNIQUEID\n",
      "site.04.subj.00753.lab.705331.iso.1    lineage2.2.3\n",
      "Name: MYKROBE_LINEAGE_NAME_2, dtype: object\n",
      "UNIQUEID\n",
      "site.04.subj.03602.lab.829428.iso.1    lineage2.2.3\n",
      "Name: MYKROBE_LINEAGE_NAME_2, dtype: object\n",
      "UNIQUEID\n",
      "site.04.subj.01027.lab.719000.iso.1    lineage2.2.3\n",
      "Name: MYKROBE_LINEAGE_NAME_2, dtype: object\n",
      "UNIQUEID\n",
      "site.04.subj.00038.lab.632216.iso.1    lineage2.2.3\n",
      "Name: MYKROBE_LINEAGE_NAME_2, dtype: object\n",
      "UNIQUEID\n",
      "site.04.subj.02204.lab.734607.iso.1    lineage2.2.3\n",
      "Name: MYKROBE_LINEAGE_NAME_2, dtype: object\n",
      "UNIQUEID\n",
      "site.04.subj.01360.lab.724826.iso.1    lineage2.2.3\n",
      "Name: MYKROBE_LINEAGE_NAME_2, dtype: object\n",
      "UNIQUEID\n",
      "site.04.subj.04219.lab.901037.iso.1    lineage2.2.3\n",
      "Name: MYKROBE_LINEAGE_NAME_2, dtype: object\n",
      "UNIQUEID\n",
      "site.04.subj.03485.lab.912009.iso.1    lineage2.2.3\n",
      "Name: MYKROBE_LINEAGE_NAME_2, dtype: object\n",
      "UNIQUEID\n",
      "site.04.subj.00037.lab.632619.iso.1    lineage2.2.3\n",
      "Name: MYKROBE_LINEAGE_NAME_2, dtype: object\n",
      "UNIQUEID\n",
      "site.04.subj.00798.lab.706420.iso.1    lineage2.2.3\n",
      "Name: MYKROBE_LINEAGE_NAME_2, dtype: object\n",
      "UNIQUEID\n",
      "site.04.subj.03352.lab.826916.iso.1    lineage2.2.3\n",
      "Name: MYKROBE_LINEAGE_NAME_2, dtype: object\n",
      "UNIQUEID\n",
      "site.04.subj.00231.lab.701180.iso.1    lineage2.2.3\n",
      "Name: MYKROBE_LINEAGE_NAME_2, dtype: object\n",
      "UNIQUEID\n",
      "site.03.subj.DR-208.lab.IML-01145.iso.1    lineage2.2.3\n",
      "Name: MYKROBE_LINEAGE_NAME_2, dtype: object\n",
      "UNIQUEID\n",
      "site.04.subj.01616.lab.723728.iso.1    lineage2.2.3\n",
      "Name: MYKROBE_LINEAGE_NAME_2, dtype: object\n",
      "UNIQUEID\n",
      "site.04.subj.02709.lab.816389.iso.1    lineage2.2.3\n",
      "Name: MYKROBE_LINEAGE_NAME_2, dtype: object\n",
      "UNIQUEID\n",
      "site.04.subj.00686.lab.712577.iso.1    lineage2.2.3\n",
      "Name: MYKROBE_LINEAGE_NAME_2, dtype: object\n",
      "UNIQUEID\n",
      "site.04.subj.01983.lab.801617.iso.1    lineage2.2.3\n",
      "Name: MYKROBE_LINEAGE_NAME_2, dtype: object\n",
      "UNIQUEID\n",
      "site.04.subj.00200.lab.634474.iso.1    lineage2.2.3\n",
      "Name: MYKROBE_LINEAGE_NAME_2, dtype: object\n",
      "UNIQUEID\n",
      "site.04.subj.03350.lab.824853.iso.1    lineage2.2.3\n",
      "Name: MYKROBE_LINEAGE_NAME_2, dtype: object\n",
      "UNIQUEID\n",
      "site.04.subj.01943.lab.801275.iso.1    lineage2.2.3\n",
      "Name: MYKROBE_LINEAGE_NAME_2, dtype: object\n",
      "UNIQUEID\n",
      "site.04.subj.04784.lab.907810.iso.1    lineage2.2.3\n",
      "Name: MYKROBE_LINEAGE_NAME_2, dtype: object\n",
      "UNIQUEID\n",
      "site.04.subj.01603.lab.730553.iso.1    lineage2.2.3\n",
      "Name: MYKROBE_LINEAGE_NAME_2, dtype: object\n",
      "UNIQUEID\n",
      "site.04.subj.03000.lab.823467.iso.1    lineage2.2.3\n",
      "Name: MYKROBE_LINEAGE_NAME_2, dtype: object\n",
      "UNIQUEID\n",
      "site.04.subj.03407.lab.826083.iso.1    lineage2.2.3\n",
      "Name: MYKROBE_LINEAGE_NAME_2, dtype: object\n",
      "UNIQUEID\n",
      "site.04.subj.04096.lab.900044.iso.1    lineage2.2.3\n",
      "Name: MYKROBE_LINEAGE_NAME_2, dtype: object\n",
      "UNIQUEID\n",
      "site.04.subj.02071.lab.733122.iso.1    lineage2.2.3\n",
      "Name: MYKROBE_LINEAGE_NAME_2, dtype: object\n",
      "UNIQUEID\n",
      "site.04.subj.01198.lab.729129.iso.1    lineage2.2.3\n",
      "Name: MYKROBE_LINEAGE_NAME_2, dtype: object\n",
      "UNIQUEID\n",
      "site.04.subj.01626.lab.725769.iso.1    lineage2.2.3\n",
      "Name: MYKROBE_LINEAGE_NAME_2, dtype: object\n",
      "UNIQUEID\n",
      "site.04.subj.03201.lab.824990.iso.1    lineage2.2.3\n",
      "Name: MYKROBE_LINEAGE_NAME_2, dtype: object\n",
      "UNIQUEID\n",
      "site.04.subj.02734.lab.817492.iso.1    lineage2.2.3\n",
      "Name: MYKROBE_LINEAGE_NAME_2, dtype: object\n",
      "UNIQUEID\n",
      "site.04.subj.04608.lab.905248.iso.1    lineage2.2.3\n",
      "Name: MYKROBE_LINEAGE_NAME_2, dtype: object\n"
     ]
    },
    {
     "name": "stdout",
     "output_type": "stream",
     "text": [
      "UNIQUEID\n",
      "site.04.subj.03478.lab.827844.iso.1    lineage2.2.3\n",
      "Name: MYKROBE_LINEAGE_NAME_2, dtype: object\n",
      "UNIQUEID\n",
      "site.04.subj.04852.lab.907752.iso.1    lineage2.2.3\n",
      "Name: MYKROBE_LINEAGE_NAME_2, dtype: object\n",
      "UNIQUEID\n",
      "site.04.subj.00620.lab.707489.iso.1    lineage2.2.3\n",
      "Name: MYKROBE_LINEAGE_NAME_2, dtype: object\n",
      "UNIQUEID\n",
      "site.04.subj.00757.lab.714670.iso.1    lineage2.2.3\n",
      "Name: MYKROBE_LINEAGE_NAME_2, dtype: object\n",
      "UNIQUEID\n",
      "site.04.subj.04115.lab.832555.iso.1    lineage2.2.3\n",
      "Name: MYKROBE_LINEAGE_NAME_2, dtype: object\n",
      "UNIQUEID\n",
      "site.03.subj.DS-24.lab.IML-01207.iso.1    lineage2.2.3\n",
      "Name: MYKROBE_LINEAGE_NAME_2, dtype: object\n",
      "UNIQUEID\n",
      "site.04.subj.01711.lab.729885.iso.1    lineage2.2.3\n",
      "Name: MYKROBE_LINEAGE_NAME_2, dtype: object\n",
      "UNIQUEID\n",
      "site.03.subj.DR-161.lab.IML-01125.iso.1    lineage2.2.3\n",
      "Name: MYKROBE_LINEAGE_NAME_2, dtype: object\n",
      "UNIQUEID\n",
      "site.04.subj.00966.lab.716955.iso.1    lineage2.2.3\n",
      "Name: MYKROBE_LINEAGE_NAME_2, dtype: object\n",
      "UNIQUEID\n",
      "site.04.subj.01788.lab.732893.iso.1    lineage2.2.3\n",
      "Name: MYKROBE_LINEAGE_NAME_2, dtype: object\n",
      "UNIQUEID\n",
      "site.04.subj.01013.lab.719306.iso.1    lineage2.2.3\n",
      "Name: MYKROBE_LINEAGE_NAME_2, dtype: object\n",
      "UNIQUEID\n",
      "site.04.subj.01607.lab.730135.iso.1    lineage2.2.3\n",
      "Name: MYKROBE_LINEAGE_NAME_2, dtype: object\n",
      "UNIQUEID\n",
      "site.04.subj.01625.lab.725230.iso.1    lineage2.2.3\n",
      "Name: MYKROBE_LINEAGE_NAME_2, dtype: object\n",
      "UNIQUEID\n",
      "site.04.subj.01072.lab.719974.iso.1    lineage2.2.3\n",
      "Name: MYKROBE_LINEAGE_NAME_2, dtype: object\n",
      "UNIQUEID\n",
      "site.04.subj.04688.lab.904424.iso.1    lineage2.2.3\n",
      "Name: MYKROBE_LINEAGE_NAME_2, dtype: object\n",
      "UNIQUEID\n",
      "site.04.subj.01006.lab.718436.iso.1    lineage2.2.3\n",
      "Name: MYKROBE_LINEAGE_NAME_2, dtype: object\n",
      "UNIQUEID\n",
      "site.04.subj.01059.lab.717554.iso.1    lineage2.2.3\n",
      "Name: MYKROBE_LINEAGE_NAME_2, dtype: object\n",
      "UNIQUEID\n",
      "site.04.subj.03329.lab.825811.iso.1    lineage2.2.3\n",
      "Name: MYKROBE_LINEAGE_NAME_2, dtype: object\n",
      "UNIQUEID\n",
      "site.04.subj.02254.lab.803064.iso.1    lineage2.2.3\n",
      "Name: MYKROBE_LINEAGE_NAME_2, dtype: object\n",
      "UNIQUEID\n",
      "site.04.subj.01566.lab.730233.iso.1    lineage2.2.3\n",
      "Name: MYKROBE_LINEAGE_NAME_2, dtype: object\n",
      "UNIQUEID\n",
      "site.04.subj.02707.lab.817440.iso.1    lineage2.2.3\n",
      "Name: MYKROBE_LINEAGE_NAME_2, dtype: object\n",
      "UNIQUEID\n",
      "site.04.subj.04588.lab.905619.iso.1    lineage2.2.3\n",
      "Name: MYKROBE_LINEAGE_NAME_2, dtype: object\n",
      "UNIQUEID\n",
      "site.04.subj.04667.lab.904732.iso.1    lineage2.2.3\n",
      "Name: MYKROBE_LINEAGE_NAME_2, dtype: object\n",
      "UNIQUEID\n",
      "site.04.subj.03446.lab.828729.iso.1    lineage2.2.3\n",
      "Name: MYKROBE_LINEAGE_NAME_2, dtype: object\n",
      "UNIQUEID\n",
      "site.04.subj.01526.lab.727126.iso.1    lineage2.2.3\n",
      "Name: MYKROBE_LINEAGE_NAME_2, dtype: object\n",
      "UNIQUEID\n",
      "site.04.subj.05347.lab.912456.iso.1    lineage2.2.3\n",
      "Name: MYKROBE_LINEAGE_NAME_2, dtype: object\n",
      "UNIQUEID\n",
      "site.04.subj.01158.lab.801203.iso.1    lineage2.2.3\n",
      "Name: MYKROBE_LINEAGE_NAME_2, dtype: object\n",
      "UNIQUEID\n",
      "site.04.subj.01896.lab.800086.iso.1    lineage2.2.3\n",
      "Name: MYKROBE_LINEAGE_NAME_2, dtype: object\n",
      "UNIQUEID\n",
      "site.04.subj.00332.lab.702122.iso.1    lineage2.2.3\n",
      "Name: MYKROBE_LINEAGE_NAME_2, dtype: object\n",
      "UNIQUEID\n",
      "site.04.subj.04186.lab.900036.iso.1    lineage2.2.3\n",
      "Name: MYKROBE_LINEAGE_NAME_2, dtype: object\n",
      "UNIQUEID\n",
      "site.04.subj.04141.lab.830533.iso.1    lineage2.2.3\n",
      "Name: MYKROBE_LINEAGE_NAME_2, dtype: object\n",
      "UNIQUEID\n",
      "site.03.subj.DR-176.lab.IML-01132.iso.1    lineage2.2.3\n",
      "Name: MYKROBE_LINEAGE_NAME_2, dtype: object\n",
      "UNIQUEID\n",
      "site.04.subj.02118.lab.803886.iso.1    lineage2.2.3\n",
      "Name: MYKROBE_LINEAGE_NAME_2, dtype: object\n",
      "UNIQUEID\n",
      "site.04.subj.04946.lab.909511.iso.1    lineage2.2.3\n",
      "Name: MYKROBE_LINEAGE_NAME_2, dtype: object\n",
      "UNIQUEID\n",
      "site.04.subj.01066.lab.718659.iso.1    lineage2.2.3\n",
      "Name: MYKROBE_LINEAGE_NAME_2, dtype: object\n",
      "UNIQUEID\n",
      "site.04.subj.04367.lab.903921.iso.1    lineage2.2.3\n",
      "Name: MYKROBE_LINEAGE_NAME_2, dtype: object\n",
      "UNIQUEID\n",
      "site.04.subj.04441.lab.902320.iso.1    lineage2.2.3\n",
      "Name: MYKROBE_LINEAGE_NAME_2, dtype: object\n",
      "UNIQUEID\n",
      "site.04.subj.04493.lab.902434.iso.1    lineage2.2.3\n",
      "Name: MYKROBE_LINEAGE_NAME_2, dtype: object\n",
      "UNIQUEID\n",
      "site.04.subj.01828.lab.734419.iso.1    lineage2.2.3\n",
      "Name: MYKROBE_LINEAGE_NAME_2, dtype: object\n",
      "UNIQUEID\n",
      "site.04.subj.04690.lab.903759.iso.1    lineage2.2.3\n",
      "Name: MYKROBE_LINEAGE_NAME_2, dtype: object\n",
      "UNIQUEID\n",
      "site.04.subj.01106.lab.719160.iso.1    lineage2.2.3\n",
      "Name: MYKROBE_LINEAGE_NAME_2, dtype: object\n",
      "UNIQUEID\n",
      "site.04.subj.01239.lab.719725.iso.1    lineage2.2.3\n",
      "Name: MYKROBE_LINEAGE_NAME_2, dtype: object\n",
      "UNIQUEID\n",
      "site.04.subj.03032.lab.821227.iso.1    lineage2.2.3\n",
      "Name: MYKROBE_LINEAGE_NAME_2, dtype: object\n",
      "UNIQUEID\n",
      "site.04.subj.00737.lab.706930.iso.1    lineage2.2.3\n",
      "Name: MYKROBE_LINEAGE_NAME_2, dtype: object\n",
      "UNIQUEID\n",
      "site.04.subj.00974.lab.713967.iso.1    lineage2.2.3\n",
      "Name: MYKROBE_LINEAGE_NAME_2, dtype: object\n",
      "UNIQUEID\n",
      "site.04.subj.00446.lab.703753.iso.1    lineage2.2.3\n",
      "Name: MYKROBE_LINEAGE_NAME_2, dtype: object\n",
      "UNIQUEID\n",
      "site.04.subj.01967.lab.731994.iso.1    lineage2.2.3\n",
      "Name: MYKROBE_LINEAGE_NAME_2, dtype: object\n",
      "UNIQUEID\n",
      "site.04.subj.01339.lab.725577.iso.1    lineage2.2.3\n",
      "Name: MYKROBE_LINEAGE_NAME_2, dtype: object\n",
      "UNIQUEID\n",
      "site.04.subj.02271.lab.807452.iso.1    lineage2.2.3\n",
      "Name: MYKROBE_LINEAGE_NAME_2, dtype: object\n",
      "UNIQUEID\n",
      "site.04.subj.00426.lab.705358.iso.1    lineage2.2.3\n",
      "Name: MYKROBE_LINEAGE_NAME_2, dtype: object\n",
      "UNIQUEID\n",
      "site.04.subj.03309.lab.824770.iso.1    lineage2.2.3\n",
      "Name: MYKROBE_LINEAGE_NAME_2, dtype: object\n",
      "UNIQUEID\n",
      "site.04.subj.00568.lab.706032.iso.1    lineage2.2.3\n",
      "Name: MYKROBE_LINEAGE_NAME_2, dtype: object\n",
      "UNIQUEID\n",
      "site.04.subj.01227.lab.722542.iso.1    lineage2.2.3\n",
      "Name: MYKROBE_LINEAGE_NAME_2, dtype: object\n",
      "UNIQUEID\n",
      "site.04.subj.04465.lab.904980.iso.1    lineage2.2.3\n",
      "Name: MYKROBE_LINEAGE_NAME_2, dtype: object\n",
      "UNIQUEID\n",
      "site.04.subj.04459.lab.902478.iso.1    lineage2.2.3\n",
      "Name: MYKROBE_LINEAGE_NAME_2, dtype: object\n",
      "UNIQUEID\n",
      "site.04.subj.00159.lab.700344.iso.1    lineage2.2.3\n",
      "Name: MYKROBE_LINEAGE_NAME_2, dtype: object\n",
      "UNIQUEID\n",
      "site.04.subj.05651.lab.917629.iso.1    lineage2.2.3\n",
      "Name: MYKROBE_LINEAGE_NAME_2, dtype: object\n",
      "UNIQUEID\n",
      "site.04.subj.03686.lab.JJH9617.iso.1    lineage2.2.3\n",
      "Name: MYKROBE_LINEAGE_NAME_2, dtype: object\n",
      "UNIQUEID\n",
      "site.04.subj.01980.lab.801461.iso.1    lineage2.2.3\n",
      "Name: MYKROBE_LINEAGE_NAME_2, dtype: object\n",
      "UNIQUEID\n",
      "site.04.subj.03968.lab.832519.iso.1    lineage2.2.3\n",
      "Name: MYKROBE_LINEAGE_NAME_2, dtype: object\n",
      "UNIQUEID\n",
      "site.04.subj.01276.lab.722876.iso.1    lineage2.2.3\n",
      "Name: MYKROBE_LINEAGE_NAME_2, dtype: object\n",
      "UNIQUEID\n",
      "site.04.subj.02246.lab.806298.iso.1    lineage2.2.3\n",
      "Name: MYKROBE_LINEAGE_NAME_2, dtype: object\n",
      "UNIQUEID\n",
      "site.04.subj.03854.lab.901503.iso.1    lineage2.2.3\n",
      "Name: MYKROBE_LINEAGE_NAME_2, dtype: object\n",
      "UNIQUEID\n",
      "site.04.subj.01697.lab.732691.iso.1    lineage2.2.3\n",
      "Name: MYKROBE_LINEAGE_NAME_2, dtype: object\n",
      "UNIQUEID\n",
      "site.04.subj.04707.lab.905372.iso.1    lineage2.2.3\n",
      "Name: MYKROBE_LINEAGE_NAME_2, dtype: object\n",
      "UNIQUEID\n",
      "site.04.subj.00175.lab.633506.iso.1    lineage2.2.3\n",
      "Name: MYKROBE_LINEAGE_NAME_2, dtype: object\n",
      "UNIQUEID\n",
      "site.04.subj.04645.lab.905638.iso.1    lineage2.2.3\n",
      "Name: MYKROBE_LINEAGE_NAME_2, dtype: object\n",
      "UNIQUEID\n",
      "site.04.subj.05640.lab.919103.iso.1    lineage2.2.3\n",
      "Name: MYKROBE_LINEAGE_NAME_2, dtype: object\n",
      "UNIQUEID\n",
      "site.04.subj.00155.lab.700002.iso.1    lineage2.2.3\n",
      "Name: MYKROBE_LINEAGE_NAME_2, dtype: object\n",
      "UNIQUEID\n",
      "site.04.subj.01960.lab.802024.iso.1    lineage2.2.3\n",
      "Name: MYKROBE_LINEAGE_NAME_2, dtype: object\n",
      "UNIQUEID\n",
      "site.04.subj.04231.lab.902783.iso.1    lineage2.2.3\n",
      "Name: MYKROBE_LINEAGE_NAME_2, dtype: object\n",
      "UNIQUEID\n",
      "site.04.subj.03021.lab.822964.iso.1    lineage2.2.3\n",
      "Name: MYKROBE_LINEAGE_NAME_2, dtype: object\n",
      "UNIQUEID\n",
      "site.04.subj.01393.lab.729586.iso.1    lineage2.2.3\n",
      "Name: MYKROBE_LINEAGE_NAME_2, dtype: object\n",
      "UNIQUEID\n",
      "site.04.subj.03298.lab.824196.iso.1    lineage2.2.3\n",
      "Name: MYKROBE_LINEAGE_NAME_2, dtype: object\n",
      "UNIQUEID\n",
      "site.04.subj.01629.lab.730490.iso.1    lineage2.2.3\n",
      "Name: MYKROBE_LINEAGE_NAME_2, dtype: object\n",
      "UNIQUEID\n",
      "site.04.subj.01140.lab.721715.iso.1    lineage2.2.3\n",
      "Name: MYKROBE_LINEAGE_NAME_2, dtype: object\n",
      "UNIQUEID\n",
      "site.04.subj.05513.lab.913747.iso.1    lineage2.2.3\n",
      "Name: MYKROBE_LINEAGE_NAME_2, dtype: object\n",
      "UNIQUEID\n",
      "site.04.subj.02822.lab.819427.iso.1    lineage2.2.3\n",
      "Name: MYKROBE_LINEAGE_NAME_2, dtype: object\n",
      "UNIQUEID\n",
      "site.04.subj.00660.lab.707196.iso.1    lineage2.2.3\n",
      "Name: MYKROBE_LINEAGE_NAME_2, dtype: object\n",
      "UNIQUEID\n",
      "site.04.subj.00359.lab.705578.iso.1    lineage2.2.3\n",
      "Name: MYKROBE_LINEAGE_NAME_2, dtype: object\n",
      "UNIQUEID\n",
      "site.04.subj.00814.lab.708227.iso.1    lineage2.2.3\n",
      "Name: MYKROBE_LINEAGE_NAME_2, dtype: object\n",
      "UNIQUEID\n",
      "site.04.subj.03463.lab.827509.iso.1    lineage2.2.3\n",
      "Name: MYKROBE_LINEAGE_NAME_2, dtype: object\n",
      "UNIQUEID\n",
      "site.04.subj.04017.lab.900758.iso.1    lineage2.2.3\n",
      "Name: MYKROBE_LINEAGE_NAME_2, dtype: object\n",
      "UNIQUEID\n",
      "site.04.subj.01582.lab.727252.iso.1    lineage2.2.3\n",
      "Name: MYKROBE_LINEAGE_NAME_2, dtype: object\n",
      "UNIQUEID\n",
      "site.04.subj.00978.lab.711797.iso.1    lineage2.2.3\n",
      "Name: MYKROBE_LINEAGE_NAME_2, dtype: object\n",
      "UNIQUEID\n",
      "site.04.subj.05269.lab.909889.iso.1    lineage2.2.3\n",
      "Name: MYKROBE_LINEAGE_NAME_2, dtype: object\n",
      "UNIQUEID\n",
      "site.04.subj.04853.lab.908774.iso.1    lineage2.2.3\n",
      "Name: MYKROBE_LINEAGE_NAME_2, dtype: object\n",
      "UNIQUEID\n",
      "site.04.subj.04161.lab.912212.iso.1    lineage2.2.3\n",
      "Name: MYKROBE_LINEAGE_NAME_2, dtype: object\n",
      "UNIQUEID\n",
      "site.04.subj.04990.lab.910135.iso.1    lineage2.2.3\n",
      "Name: MYKROBE_LINEAGE_NAME_2, dtype: object\n",
      "UNIQUEID\n",
      "site.04.subj.04263.lab.902785.iso.1    lineage2.2.3\n",
      "Name: MYKROBE_LINEAGE_NAME_2, dtype: object\n",
      "UNIQUEID\n",
      "site.04.subj.01010.lab.717243.iso.1    lineage2.2.3\n",
      "Name: MYKROBE_LINEAGE_NAME_2, dtype: object\n",
      "UNIQUEID\n",
      "site.04.subj.01218.lab.717277.iso.1    lineage2.2.3\n",
      "Name: MYKROBE_LINEAGE_NAME_2, dtype: object\n"
     ]
    },
    {
     "name": "stdout",
     "output_type": "stream",
     "text": [
      "UNIQUEID\n",
      "site.04.subj.00781.lab.708146.iso.1    lineage2.2.3\n",
      "Name: MYKROBE_LINEAGE_NAME_2, dtype: object\n",
      "UNIQUEID\n",
      "site.04.subj.05576.lab.919703.iso.1    lineage2.2.3\n",
      "Name: MYKROBE_LINEAGE_NAME_2, dtype: object\n",
      "UNIQUEID\n",
      "site.04.subj.00997.lab.718598.iso.1    lineage2.2.3\n",
      "Name: MYKROBE_LINEAGE_NAME_2, dtype: object\n",
      "UNIQUEID\n",
      "site.04.subj.00769.lab.710846.iso.1    lineage2.2.3\n",
      "Name: MYKROBE_LINEAGE_NAME_2, dtype: object\n",
      "UNIQUEID\n",
      "site.04.subj.00524.lab.706416.iso.1    lineage2.2.3\n",
      "Name: MYKROBE_LINEAGE_NAME_2, dtype: object\n",
      "UNIQUEID\n",
      "site.04.subj.05639.lab.919649.iso.1    lineage2.2.3\n",
      "Name: MYKROBE_LINEAGE_NAME_2, dtype: object\n",
      "UNIQUEID\n",
      "site.04.subj.01589.lab.730725.iso.1    lineage2.2.3\n",
      "Name: MYKROBE_LINEAGE_NAME_2, dtype: object\n",
      "UNIQUEID\n",
      "site.04.subj.03340.lab.826105.iso.1    lineage2.2.3\n",
      "Name: MYKROBE_LINEAGE_NAME_2, dtype: object\n",
      "UNIQUEID\n",
      "site.04.subj.01480.lab.729217.iso.1    lineage2.2.3\n",
      "Name: MYKROBE_LINEAGE_NAME_2, dtype: object\n",
      "UNIQUEID\n",
      "site.04.subj.01508.lab.725271.iso.1    lineage2.2.3\n",
      "Name: MYKROBE_LINEAGE_NAME_2, dtype: object\n",
      "UNIQUEID\n",
      "site.04.subj.03953.lab.831680.iso.1    lineage2.2.3\n",
      "Name: MYKROBE_LINEAGE_NAME_2, dtype: object\n",
      "UNIQUEID\n",
      "site.04.subj.01807.lab.733656.iso.1    lineage2.2.3\n",
      "Name: MYKROBE_LINEAGE_NAME_2, dtype: object\n",
      "UNIQUEID\n",
      "site.04.subj.00538.lab.706553.iso.1    lineage2.2.3\n",
      "Name: MYKROBE_LINEAGE_NAME_2, dtype: object\n",
      "UNIQUEID\n",
      "site.04.subj.03320.lab.828127.iso.1    lineage2.2.3\n",
      "Name: MYKROBE_LINEAGE_NAME_2, dtype: object\n",
      "UNIQUEID\n",
      "site.04.subj.05355.lab.910857.iso.1    lineage2.2.3\n",
      "Name: MYKROBE_LINEAGE_NAME_2, dtype: object\n",
      "UNIQUEID\n",
      "site.03.subj.DR-260.lab.IML-01176.iso.1    lineage2.2.3\n",
      "Name: MYKROBE_LINEAGE_NAME_2, dtype: object\n",
      "UNIQUEID\n",
      "site.04.subj.01737.lab.728778.iso.1    lineage2.2.3\n",
      "Name: MYKROBE_LINEAGE_NAME_2, dtype: object\n",
      "UNIQUEID\n",
      "site.04.subj.01044.lab.722176.iso.1    lineage2.2.3\n",
      "Name: MYKROBE_LINEAGE_NAME_2, dtype: object\n",
      "UNIQUEID\n",
      "site.04.subj.04434.lab.903083.iso.1    lineage2.2.3\n",
      "Name: MYKROBE_LINEAGE_NAME_2, dtype: object\n",
      "UNIQUEID\n",
      "site.04.subj.04149.lab.913375.iso.1    lineage2.2.3\n",
      "Name: MYKROBE_LINEAGE_NAME_2, dtype: object\n",
      "UNIQUEID\n",
      "site.04.subj.01569.lab.730210.iso.1    lineage2.2.3\n",
      "Name: MYKROBE_LINEAGE_NAME_2, dtype: object\n",
      "UNIQUEID\n",
      "site.04.subj.00767.lab.709105.iso.1    lineage2.2.3\n",
      "Name: MYKROBE_LINEAGE_NAME_2, dtype: object\n",
      "UNIQUEID\n",
      "site.04.subj.01970.lab.802456.iso.1    lineage2.2.3\n",
      "Name: MYKROBE_LINEAGE_NAME_2, dtype: object\n",
      "UNIQUEID\n",
      "site.04.subj.04655.lab.900918.iso.1    lineage2.2.3\n",
      "Name: MYKROBE_LINEAGE_NAME_2, dtype: object\n",
      "UNIQUEID\n",
      "site.04.subj.05510.lab.913427.iso.1    lineage2.2.3\n",
      "Name: MYKROBE_LINEAGE_NAME_2, dtype: object\n",
      "UNIQUEID\n",
      "site.04.subj.05279.lab.906964.iso.1    lineage2.2.3\n",
      "Name: MYKROBE_LINEAGE_NAME_2, dtype: object\n",
      "UNIQUEID\n",
      "site.04.subj.01704.lab.731171.iso.1    lineage2.2.3\n",
      "Name: MYKROBE_LINEAGE_NAME_2, dtype: object\n",
      "UNIQUEID\n",
      "site.04.subj.03243.lab.825306.iso.1    lineage2.2.3\n",
      "Name: MYKROBE_LINEAGE_NAME_2, dtype: object\n",
      "UNIQUEID\n",
      "site.04.subj.00067.lab.629780.iso.1    lineage2.2.3\n",
      "Name: MYKROBE_LINEAGE_NAME_2, dtype: object\n",
      "UNIQUEID\n",
      "site.04.subj.04501.lab.903662.iso.1    lineage2.2.3\n",
      "Name: MYKROBE_LINEAGE_NAME_2, dtype: object\n",
      "UNIQUEID\n",
      "site.04.subj.04504.lab.903586.iso.1    lineage2.2.3\n",
      "Name: MYKROBE_LINEAGE_NAME_2, dtype: object\n",
      "UNIQUEID\n",
      "site.04.subj.03196.lab.821637.iso.1    lineage2.2.3\n",
      "Name: MYKROBE_LINEAGE_NAME_2, dtype: object\n",
      "UNIQUEID\n",
      "site.04.subj.00844.lab.705588.iso.1    lineage2.2.3\n",
      "Name: MYKROBE_LINEAGE_NAME_2, dtype: object\n",
      "UNIQUEID\n",
      "site.04.subj.03138.lab.821427.iso.1    lineage2.2.3\n",
      "Name: MYKROBE_LINEAGE_NAME_2, dtype: object\n",
      "UNIQUEID\n",
      "site.04.subj.05003.lab.905884.iso.1    lineage2.2.3\n",
      "Name: MYKROBE_LINEAGE_NAME_2, dtype: object\n",
      "UNIQUEID\n",
      "site.04.subj.02381.lab.817527.iso.1    lineage2.2.3\n",
      "Name: MYKROBE_LINEAGE_NAME_2, dtype: object\n",
      "UNIQUEID\n",
      "site.04.subj.04254.lab.901530.iso.1    lineage2.2.3\n",
      "Name: MYKROBE_LINEAGE_NAME_2, dtype: object\n",
      "UNIQUEID\n",
      "site.04.subj.03397.lab.826087.iso.1    lineage2.2.3\n",
      "Name: MYKROBE_LINEAGE_NAME_2, dtype: object\n",
      "UNIQUEID\n",
      "site.04.subj.01561.lab.729880.iso.1    lineage2.2.3\n",
      "Name: MYKROBE_LINEAGE_NAME_2, dtype: object\n",
      "UNIQUEID\n",
      "site.04.subj.05692.lab.919372.iso.1    lineage2.2.3\n",
      "Name: MYKROBE_LINEAGE_NAME_2, dtype: object\n",
      "UNIQUEID\n",
      "site.04.subj.04281.lab.901906.iso.1    lineage2.2.3\n",
      "Name: MYKROBE_LINEAGE_NAME_2, dtype: object\n",
      "UNIQUEID\n",
      "site.04.subj.01005.lab.717887.iso.1    lineage2.2.3\n",
      "Name: MYKROBE_LINEAGE_NAME_2, dtype: object\n",
      "UNIQUEID\n",
      "site.04.subj.04769.lab.907192.iso.1    lineage2.2.3\n",
      "Name: MYKROBE_LINEAGE_NAME_2, dtype: object\n",
      "UNIQUEID\n",
      "site.04.subj.00530.lab.713315.iso.1    lineage2.2.3\n",
      "Name: MYKROBE_LINEAGE_NAME_2, dtype: object\n",
      "UNIQUEID\n",
      "site.04.subj.00804.lab.715528.iso.1    lineage2.2.3\n",
      "Name: MYKROBE_LINEAGE_NAME_2, dtype: object\n",
      "UNIQUEID\n",
      "site.04.subj.00454.lab.712578.iso.1    lineage2.2.3\n",
      "Name: MYKROBE_LINEAGE_NAME_2, dtype: object\n",
      "UNIQUEID\n",
      "site.04.subj.05612.lab.920135.iso.1    lineage2.2.3\n",
      "Name: MYKROBE_LINEAGE_NAME_2, dtype: object\n",
      "UNIQUEID\n",
      "site.04.subj.01011.lab.716723.iso.1    lineage2.2.3\n",
      "Name: MYKROBE_LINEAGE_NAME_2, dtype: object\n",
      "UNIQUEID\n",
      "site.04.subj.01408.lab.800357.iso.1    lineage2.2.3\n",
      "Name: MYKROBE_LINEAGE_NAME_2, dtype: object\n",
      "UNIQUEID\n",
      "site.04.subj.03206.lab.823874.iso.1    lineage2.2.3\n",
      "Name: MYKROBE_LINEAGE_NAME_2, dtype: object\n",
      "UNIQUEID\n",
      "site.04.subj.04616.lab.904505.iso.1    lineage2.2.3\n",
      "Name: MYKROBE_LINEAGE_NAME_2, dtype: object\n",
      "UNIQUEID\n",
      "site.04.subj.04360.lab.902695.iso.1    lineage2.2.3\n",
      "Name: MYKROBE_LINEAGE_NAME_2, dtype: object\n",
      "UNIQUEID\n",
      "site.04.subj.04817.lab.907306.iso.1    lineage2.2.3\n",
      "Name: MYKROBE_LINEAGE_NAME_2, dtype: object\n",
      "UNIQUEID\n",
      "site.04.subj.00643.lab.706351.iso.1    lineage2.2.3\n",
      "Name: MYKROBE_LINEAGE_NAME_2, dtype: object\n",
      "UNIQUEID\n",
      "site.04.subj.00582.lab.715044.iso.1    lineage2.2.3\n",
      "Name: MYKROBE_LINEAGE_NAME_2, dtype: object\n",
      "UNIQUEID\n",
      "site.04.subj.01281.lab.723201.iso.1    lineage2.2.3\n",
      "Name: MYKROBE_LINEAGE_NAME_2, dtype: object\n",
      "UNIQUEID\n",
      "site.04.subj.00440.lab.704165.iso.1    lineage2.2.3\n",
      "Name: MYKROBE_LINEAGE_NAME_2, dtype: object\n",
      "UNIQUEID\n",
      "site.04.subj.04647.lab.904435.iso.1    lineage2.2.3\n",
      "Name: MYKROBE_LINEAGE_NAME_2, dtype: object\n"
     ]
    }
   ],
   "source": [
    "for i in growth_p1040r:\n",
    "    sub_lin = GENOMES[GENOMES.index == i].MYKROBE_LINEAGE_NAME_2\n",
    "    print(sub_lin)"
   ]
  },
  {
   "cell_type": "code",
   "execution_count": 159,
   "metadata": {
    "scrolled": true
   },
   "outputs": [],
   "source": [
    "#G332S n5215 - n5392\n",
    "g332s_clade = []\n",
    "growth_g332s = []\n",
    "\n",
    "for i in new_tables.nodes[5215:5392]:\n",
    "    if 'name' in i.metadata.keys():\n",
    "        index = GENOMES[GENOMES['ORIGINAL_UID'] == i.metadata['name']].index\n",
    "        growth_g332s.extend(index)\n",
    "        g332s_clade.extend(MUTATIONS[MUTATIONS.UNIQUEID == index[0]].GENE_MUTATION.values)\n",
    "        \n",
    "df = pandas.DataFrame(g332s_clade)\n",
    "df.value_counts()\n",
    "\n",
    "#df = pandas.DataFrame(growth_g332s)\n",
    "#df.to_csv('subclade_G332S.csv', index = False)"
   ]
  },
  {
   "cell_type": "code",
   "execution_count": 147,
   "metadata": {
    "scrolled": true
   },
   "outputs": [
    {
     "data": {
      "text/plain": [
       "IND    88\n",
       "NPL     1\n",
       "AFG     0\n",
       "NGA     0\n",
       "VNM     0\n",
       "Name: COUNTRY_WHERE_SAMPLE_TAKEN, dtype: int64"
      ]
     },
     "execution_count": 147,
     "metadata": {},
     "output_type": "execute_result"
    }
   ],
   "source": [
    "SAMPLES[SAMPLES.UNIQUEID.isin(growth_g332s)].COUNTRY_WHERE_SAMPLE_TAKEN.value_counts()[:5]"
   ]
  },
  {
   "cell_type": "code",
   "execution_count": 149,
   "metadata": {},
   "outputs": [
    {
     "data": {
      "text/plain": [
       "Mumbai                        23\n",
       "Mumbai (Mahim)                13\n",
       "Virar                          4\n",
       "Mumbai (Kandivali)             4\n",
       "Mumbai (Ghatkopar)             4\n",
       "Mumbai (Grant Road)            2\n",
       "Mumbai (Chembur)               2\n",
       "Thane                          2\n",
       "Mumbai (Wadala)                2\n",
       "Mumbai (Sion)                  2\n",
       "Nala Sopara                    2\n",
       "Mumbai (Marine Line)           2\n",
       "Mira Bhayandar (Bhayandar)     1\n",
       "Mumbai (Lower Parel)           1\n",
       "Mumbai (Chinchpokli)           1\n",
       "Mumbai (Central)               1\n",
       "Dapoli                         1\n",
       "Pant Nagar Ghat                1\n",
       "Panvel                         1\n",
       "Mumbai (Santacruz)             1\n",
       "Mumbai (Mankhurd)              1\n",
       "Mumbai (Mulund)                1\n",
       "Goa                            1\n",
       "Mumbai (Byculla)               1\n",
       "Uran                           1\n",
       "Navi Mumbai (Kharghar)         1\n",
       "Mumbai (Kurla east)            1\n",
       "Mumbai (Worli)                 1\n",
       "Mumbai (Sewri)                 1\n",
       "Mumbai (Charni Road)           1\n",
       "Name: REGION, dtype: int64"
      ]
     },
     "execution_count": 149,
     "metadata": {},
     "output_type": "execute_result"
    }
   ],
   "source": [
    "SAMPLES[SAMPLES.UNIQUEID.isin(growth_g332s)].REGION.value_counts()[:30]"
   ]
  },
  {
   "cell_type": "code",
   "execution_count": 162,
   "metadata": {
    "scrolled": true
   },
   "outputs": [],
   "source": [
    "#G433S n940 - n1076\n",
    "g433s_clade = []\n",
    "growth_g433s = []\n",
    "\n",
    "for i in new_tables.nodes[940:1076]:\n",
    "    if 'name' in i.metadata.keys():\n",
    "        index = GENOMES[GENOMES['ORIGINAL_UID'] == i.metadata['name']].index\n",
    "        growth_g433s.extend(index)\n",
    "        g433s_clade.extend(MUTATIONS[MUTATIONS.UNIQUEID == index[0]].GENE_MUTATION.values)\n",
    "        \n",
    "df = pandas.DataFrame(g433s_clade)\n",
    "df.value_counts()\n",
    "\n",
    "#df = pandas.DataFrame(growth_g433s)\n",
    "#df.to_csv('subclade_G433S.csv', index = False)"
   ]
  },
  {
   "cell_type": "code",
   "execution_count": 151,
   "metadata": {},
   "outputs": [
    {
     "data": {
      "text/plain": [
       "IND    61\n",
       "NPL     8\n",
       "AFG     0\n",
       "NGA     0\n",
       "VNM     0\n",
       "Name: COUNTRY_WHERE_SAMPLE_TAKEN, dtype: int64"
      ]
     },
     "execution_count": 151,
     "metadata": {},
     "output_type": "execute_result"
    }
   ],
   "source": [
    "SAMPLES[SAMPLES.UNIQUEID.isin(growth_g433s)].COUNTRY_WHERE_SAMPLE_TAKEN.value_counts()[:5]"
   ]
  },
  {
   "cell_type": "code",
   "execution_count": 152,
   "metadata": {},
   "outputs": [
    {
     "data": {
      "text/plain": [
       "Mumbai                     16\n",
       "Kathmandu                   8\n",
       "Kalyan                      5\n",
       "Mumbai (Mahim)              5\n",
       "Mumbai (Bhandup)            4\n",
       "Mumbai (Andheri)            3\n",
       "Mumbai (Girgaon)            2\n",
       "Mumbai (Kurla)              2\n",
       "Mumbai (Wadala)             2\n",
       "Ulhasnagar                  2\n",
       "Mumbai (Charni Road)        1\n",
       "Mumbai (Sewri)              1\n",
       "Mumbai (Govandi)            1\n",
       "Mumbai (Parel)              1\n",
       "Navi Mumbai (Vashi)         1\n",
       "Mumbra                      1\n",
       "Dombivli                    1\n",
       "Mumbai (Vikhroli)           1\n",
       "Mumbai (Khar)               1\n",
       "Ambivli                     1\n",
       "Mira Bhayandar (Dongri)     1\n",
       "Mumbai (Chembur)            1\n",
       "Kalwa (west)                1\n",
       "Thane (east)                1\n",
       "Mumbai (Mazagaon)           1\n",
       "Ratnagiri                   1\n",
       "Mumbai (Malad)              1\n",
       "Mumbai (Sion)               1\n",
       "Badlapur                    1\n",
       "Mumbai (Dharavi)            1\n",
       "Name: REGION, dtype: int64"
      ]
     },
     "execution_count": 152,
     "metadata": {},
     "output_type": "execute_result"
    }
   ],
   "source": [
    "SAMPLES[SAMPLES.UNIQUEID.isin(growth_g433s)].REGION.value_counts()[:30]"
   ]
  },
  {
   "cell_type": "code",
   "execution_count": null,
   "metadata": {},
   "outputs": [],
   "source": []
  }
 ],
 "metadata": {
  "kernelspec": {
   "display_name": "Python 3 (ipykernel)",
   "language": "python",
   "name": "python3"
  },
  "language_info": {
   "codemirror_mode": {
    "name": "ipython",
    "version": 3
   },
   "file_extension": ".py",
   "mimetype": "text/x-python",
   "name": "python",
   "nbconvert_exporter": "python",
   "pygments_lexer": "ipython3",
   "version": "3.10.11"
  },
  "vscode": {
   "interpreter": {
    "hash": "7a792fcb311f9eb9f3c1b942a8c87ada8484712b89b670347c16a1088e0a1f69"
   }
  }
 },
 "nbformat": 4,
 "nbformat_minor": 2
}
